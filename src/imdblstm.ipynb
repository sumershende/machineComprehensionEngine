{
 "cells": [
  {
   "cell_type": "code",
   "execution_count": 1,
   "metadata": {
    "collapsed": true
   },
   "outputs": [
    {
     "name": "stdout",
     "output_type": "stream",
     "text": [
      "curses is not supported on this machine (please install/reinstall curses for an optimal experience)\n"
     ]
    },
    {
     "name": "stdout",
     "output_type": "stream",
     "text": [
      "Downloading data from http://www.iro.umontreal.ca/~lisa/deep/data/imdb.pkl\n"
     ]
    },
    {
     "name": "stdout",
     "output_type": "stream",
     "text": [
      "---------------------------------\nRun id: XLTVED\nLog directory: /tmp/tflearn_logs/\n"
     ]
    },
    {
     "name": "stdout",
     "output_type": "stream",
     "text": [
      "INFO:tensorflow:Summary name Accuracy/ (raw) is illegal; using Accuracy/__raw_ instead.\n"
     ]
    },
    {
     "name": "stdout",
     "output_type": "stream",
     "text": [
      "---------------------------------\nTraining samples: 20250\nValidation samples: 2250\n--\n"
     ]
    },
    {
     "name": "stdout",
     "output_type": "stream",
     "text": [
      "Training Step: 1  | time: 2.449s\n\u001b[2K\r| Adam | epoch: 001 | loss: 0.00000 - acc: 0.0000 -- iter: 00064/20250\n"
     ]
    },
    {
     "name": "stdout",
     "output_type": "stream",
     "text": [
      "Training Step: 2  | total loss: \u001b[1m\u001b[32m0.62376\u001b[0m\u001b[0m | time: 2.702s\n\u001b[2K\r| Adam | epoch: 001 | loss: 0.62376 - acc: 0.4359 -- iter: 00128/20250\n"
     ]
    },
    {
     "name": "stdout",
     "output_type": "stream",
     "text": [
      "Training Step: 3  | total loss: \u001b[1m\u001b[32m0.68055\u001b[0m\u001b[0m | time: 2.945s\n\u001b[2K\r| Adam | epoch: 001 | loss: 0.68055 - acc: 0.5267 -- iter: 00192/20250\n"
     ]
    },
    {
     "name": "stdout",
     "output_type": "stream",
     "text": [
      "Training Step: 4  | total loss: \u001b[1m\u001b[32m0.69142\u001b[0m\u001b[0m | time: 3.193s\n\u001b[2K\r| Adam | epoch: 001 | loss: 0.69142 - acc: 0.4129 -- iter: 00256/20250\n"
     ]
    },
    {
     "name": "stdout",
     "output_type": "stream",
     "text": [
      "Training Step: 5  | total loss: \u001b[1m\u001b[32m0.69241\u001b[0m\u001b[0m | time: 3.443s\n\u001b[2K\r| Adam | epoch: 001 | loss: 0.69241 - acc: 0.4840 -- iter: 00320/20250\n"
     ]
    },
    {
     "name": "stdout",
     "output_type": "stream",
     "text": [
      "Training Step: 6  | total loss: \u001b[1m\u001b[32m0.69293\u001b[0m\u001b[0m | time: 3.698s\n\u001b[2K\r| Adam | epoch: 001 | loss: 0.69293 - acc: 0.5043 -- iter: 00384/20250\n"
     ]
    },
    {
     "name": "stdout",
     "output_type": "stream",
     "text": [
      "Training Step: 7  | total loss: \u001b[1m\u001b[32m0.69269\u001b[0m\u001b[0m | time: 3.970s\n\u001b[2K\r| Adam | epoch: 001 | loss: 0.69269 - acc: 0.5111 -- iter: 00448/20250\n"
     ]
    },
    {
     "name": "stdout",
     "output_type": "stream",
     "text": [
      "Training Step: 8  | total loss: \u001b[1m\u001b[32m0.69328\u001b[0m\u001b[0m | time: 4.214s\n\u001b[2K\r| Adam | epoch: 001 | loss: 0.69328 - acc: 0.4961 -- iter: 00512/20250\n"
     ]
    },
    {
     "name": "stdout",
     "output_type": "stream",
     "text": [
      "Training Step: 9  | total loss: \u001b[1m\u001b[32m0.69357\u001b[0m\u001b[0m | time: 4.452s\n\u001b[2K\r| Adam | epoch: 001 | loss: 0.69357 - acc: 0.4733 -- iter: 00576/20250\n"
     ]
    },
    {
     "name": "stdout",
     "output_type": "stream",
     "text": [
      "Training Step: 10  | total loss: \u001b[1m\u001b[32m0.69340\u001b[0m\u001b[0m | time: 4.695s\n\u001b[2K\r| Adam | epoch: 001 | loss: 0.69340 - acc: 0.4632 -- iter: 00640/20250\n"
     ]
    },
    {
     "name": "stdout",
     "output_type": "stream",
     "text": [
      "Training Step: 11  | total loss: \u001b[1m\u001b[32m0.69354\u001b[0m\u001b[0m | time: 4.951s\n\u001b[2K\r| Adam | epoch: 001 | loss: 0.69354 - acc: 0.4584 -- iter: 00704/20250\n"
     ]
    },
    {
     "name": "stdout",
     "output_type": "stream",
     "text": [
      "Training Step: 12  | total loss: \u001b[1m\u001b[32m0.69362\u001b[0m\u001b[0m | time: 5.206s\n\u001b[2K\r| Adam | epoch: 001 | loss: 0.69362 - acc: 0.4490 -- iter: 00768/20250\n"
     ]
    },
    {
     "name": "stdout",
     "output_type": "stream",
     "text": [
      "Training Step: 13  | total loss: \u001b[1m\u001b[32m0.69344\u001b[0m\u001b[0m | time: 5.448s\n\u001b[2K\r| Adam | epoch: 001 | loss: 0.69344 - acc: 0.4374 -- iter: 00832/20250\n"
     ]
    },
    {
     "name": "stdout",
     "output_type": "stream",
     "text": [
      "Training Step: 14  | total loss: \u001b[1m\u001b[32m0.69332\u001b[0m\u001b[0m | time: 5.696s\n\u001b[2K\r| Adam | epoch: 001 | loss: 0.69332 - acc: 0.4438 -- iter: 00896/20250\n"
     ]
    },
    {
     "name": "stdout",
     "output_type": "stream",
     "text": [
      "Training Step: 15  | total loss: \u001b[1m\u001b[32m0.69299\u001b[0m\u001b[0m | time: 5.938s\n\u001b[2K\r| Adam | epoch: 001 | loss: 0.69299 - acc: 0.4658 -- iter: 00960/20250\n"
     ]
    },
    {
     "name": "stdout",
     "output_type": "stream",
     "text": [
      "Training Step: 16  | total loss: \u001b[1m\u001b[32m0.69321\u001b[0m\u001b[0m | time: 6.239s\n\u001b[2K\r| Adam | epoch: 001 | loss: 0.69321 - acc: 0.4669 -- iter: 01024/20250\n"
     ]
    },
    {
     "name": "stdout",
     "output_type": "stream",
     "text": [
      "Training Step: 17  | total loss: \u001b[1m\u001b[32m0.69313\u001b[0m\u001b[0m | time: 6.509s\n\u001b[2K\r| Adam | epoch: 001 | loss: 0.69313 - acc: 0.5013 -- iter: 01088/20250\n"
     ]
    },
    {
     "name": "stdout",
     "output_type": "stream",
     "text": [
      "Training Step: 18  | total loss: \u001b[1m\u001b[32m0.69321\u001b[0m\u001b[0m | time: 6.756s\n\u001b[2K\r| Adam | epoch: 001 | loss: 0.69321 - acc: 0.4955 -- iter: 01152/20250\n"
     ]
    },
    {
     "name": "stdout",
     "output_type": "stream",
     "text": [
      "Training Step: 19  | total loss: \u001b[1m\u001b[32m0.69314\u001b[0m\u001b[0m | time: 7.016s\n\u001b[2K\r| Adam | epoch: 001 | loss: 0.69314 - acc: 0.4970 -- iter: 01216/20250\n"
     ]
    },
    {
     "name": "stdout",
     "output_type": "stream",
     "text": [
      "Training Step: 20  | total loss: \u001b[1m\u001b[32m0.69329\u001b[0m\u001b[0m | time: 7.256s\n\u001b[2K\r| Adam | epoch: 001 | loss: 0.69329 - acc: 0.4879 -- iter: 01280/20250\n"
     ]
    },
    {
     "name": "stdout",
     "output_type": "stream",
     "text": [
      "Training Step: 21  | total loss: \u001b[1m\u001b[32m0.69293\u001b[0m\u001b[0m | time: 7.504s\n\u001b[2K\r| Adam | epoch: 001 | loss: 0.69293 - acc: 0.5159 -- iter: 01344/20250\n"
     ]
    },
    {
     "name": "stdout",
     "output_type": "stream",
     "text": [
      "Training Step: 22  | total loss: \u001b[1m\u001b[32m0.69322\u001b[0m\u001b[0m | time: 7.749s\n\u001b[2K\r| Adam | epoch: 001 | loss: 0.69322 - acc: 0.5018 -- iter: 01408/20250\n"
     ]
    },
    {
     "name": "stdout",
     "output_type": "stream",
     "text": [
      "Training Step: 23  | total loss: \u001b[1m\u001b[32m0.69317\u001b[0m\u001b[0m | time: 7.991s\n\u001b[2K\r| Adam | epoch: 001 | loss: 0.69317 - acc: 0.5058 -- iter: 01472/20250\n"
     ]
    },
    {
     "name": "stdout",
     "output_type": "stream",
     "text": [
      "Training Step: 24  | total loss: \u001b[1m\u001b[32m0.69304\u001b[0m\u001b[0m | time: 8.243s\n\u001b[2K\r| Adam | epoch: 001 | loss: 0.69304 - acc: 0.5129 -- iter: 01536/20250\n"
     ]
    },
    {
     "name": "stdout",
     "output_type": "stream",
     "text": [
      "Training Step: 25  | total loss: \u001b[1m\u001b[32m0.69302\u001b[0m\u001b[0m | time: 8.492s\n\u001b[2K\r| Adam | epoch: 001 | loss: 0.69302 - acc: 0.5137 -- iter: 01600/20250\n"
     ]
    },
    {
     "name": "stdout",
     "output_type": "stream",
     "text": [
      "Training Step: 26  | total loss: \u001b[1m\u001b[32m0.69315\u001b[0m\u001b[0m | time: 8.742s\n\u001b[2K\r| Adam | epoch: 001 | loss: 0.69315 - acc: 0.4935 -- iter: 01664/20250\n"
     ]
    },
    {
     "name": "stdout",
     "output_type": "stream",
     "text": [
      "Training Step: 27  | total loss: \u001b[1m\u001b[32m0.69339\u001b[0m\u001b[0m | time: 9.015s\n\u001b[2K\r| Adam | epoch: 001 | loss: 0.69339 - acc: 0.4992 -- iter: 01728/20250\n"
     ]
    },
    {
     "name": "stdout",
     "output_type": "stream",
     "text": [
      "Training Step: 28  | total loss: \u001b[1m\u001b[32m0.69343\u001b[0m\u001b[0m | time: 9.262s\n\u001b[2K\r| Adam | epoch: 001 | loss: 0.69343 - acc: 0.4955 -- iter: 01792/20250\n"
     ]
    },
    {
     "name": "stdout",
     "output_type": "stream",
     "text": [
      "Training Step: 29  | total loss: \u001b[1m\u001b[32m0.69398\u001b[0m\u001b[0m | time: 9.515s\n\u001b[2K\r| Adam | epoch: 001 | loss: 0.69398 - acc: 0.4814 -- iter: 01856/20250\n"
     ]
    },
    {
     "name": "stdout",
     "output_type": "stream",
     "text": [
      "Training Step: 30  | total loss: \u001b[1m\u001b[32m0.69377\u001b[0m\u001b[0m | time: 9.764s\n\u001b[2K\r| Adam | epoch: 001 | loss: 0.69377 - acc: 0.4895 -- iter: 01920/20250\n"
     ]
    },
    {
     "name": "stdout",
     "output_type": "stream",
     "text": [
      "Training Step: 31  | total loss: \u001b[1m\u001b[32m0.69359\u001b[0m\u001b[0m | time: 10.005s\n\u001b[2K\r| Adam | epoch: 001 | loss: 0.69359 - acc: 0.4955 -- iter: 01984/20250\n"
     ]
    },
    {
     "name": "stdout",
     "output_type": "stream",
     "text": [
      "Training Step: 32  | total loss: \u001b[1m\u001b[32m0.69333\u001b[0m\u001b[0m | time: 10.247s\n\u001b[2K\r| Adam | epoch: 001 | loss: 0.69333 - acc: 0.5071 -- iter: 02048/20250\n"
     ]
    },
    {
     "name": "stdout",
     "output_type": "stream",
     "text": [
      "Training Step: 33  | total loss: \u001b[1m\u001b[32m0.69327\u001b[0m\u001b[0m | time: 10.496s\n\u001b[2K\r| Adam | epoch: 001 | loss: 0.69327 - acc: 0.5055 -- iter: 02112/20250\n"
     ]
    },
    {
     "name": "stdout",
     "output_type": "stream",
     "text": [
      "Training Step: 34  | total loss: \u001b[1m\u001b[32m0.69292\u001b[0m\u001b[0m | time: 10.749s\n\u001b[2K\r| Adam | epoch: 001 | loss: 0.69292 - acc: 0.5311 -- iter: 02176/20250\n"
     ]
    },
    {
     "name": "stdout",
     "output_type": "stream",
     "text": [
      "Training Step: 35  | total loss: \u001b[1m\u001b[32m0.69294\u001b[0m\u001b[0m | time: 11.019s\n\u001b[2K\r| Adam | epoch: 001 | loss: 0.69294 - acc: 0.5181 -- iter: 02240/20250\n"
     ]
    },
    {
     "name": "stdout",
     "output_type": "stream",
     "text": [
      "Training Step: 36  | total loss: \u001b[1m\u001b[32m0.69284\u001b[0m\u001b[0m | time: 11.264s\n\u001b[2K\r| Adam | epoch: 001 | loss: 0.69284 - acc: 0.5176 -- iter: 02304/20250\n"
     ]
    },
    {
     "name": "stdout",
     "output_type": "stream",
     "text": [
      "Training Step: 37  | total loss: \u001b[1m\u001b[32m0.69285\u001b[0m\u001b[0m | time: 11.525s\n\u001b[2K\r| Adam | epoch: 001 | loss: 0.69285 - acc: 0.5141 -- iter: 02368/20250\n"
     ]
    },
    {
     "name": "stdout",
     "output_type": "stream",
     "text": [
      "Training Step: 38  | total loss: \u001b[1m\u001b[32m0.69292\u001b[0m\u001b[0m | time: 11.768s\n\u001b[2K\r| Adam | epoch: 001 | loss: 0.69292 - acc: 0.5082 -- iter: 02432/20250\n"
     ]
    },
    {
     "name": "stdout",
     "output_type": "stream",
     "text": [
      "Training Step: 39  | total loss: \u001b[1m\u001b[32m0.69298\u001b[0m\u001b[0m | time: 12.013s\n\u001b[2K\r| Adam | epoch: 001 | loss: 0.69298 - acc: 0.5097 -- iter: 02496/20250\n"
     ]
    },
    {
     "name": "stdout",
     "output_type": "stream",
     "text": [
      "Training Step: 40  | total loss: \u001b[1m\u001b[32m0.69294\u001b[0m\u001b[0m | time: 12.267s\n\u001b[2K\r| Adam | epoch: 001 | loss: 0.69294 - acc: 0.5108 -- iter: 02560/20250\n"
     ]
    },
    {
     "name": "stdout",
     "output_type": "stream",
     "text": [
      "Training Step: 41  | total loss: \u001b[1m\u001b[32m0.69323\u001b[0m\u001b[0m | time: 12.515s\n\u001b[2K\r| Adam | epoch: 001 | loss: 0.69323 - acc: 0.5059 -- iter: 02624/20250\n"
     ]
    },
    {
     "name": "stdout",
     "output_type": "stream",
     "text": [
      "Training Step: 42  | total loss: \u001b[1m\u001b[32m0.69327\u001b[0m\u001b[0m | time: 12.761s\n\u001b[2K\r| Adam | epoch: 001 | loss: 0.69327 - acc: 0.4992 -- iter: 02688/20250\n"
     ]
    },
    {
     "name": "stdout",
     "output_type": "stream",
     "text": [
      "Training Step: 43  | total loss: \u001b[1m\u001b[32m0.69339\u001b[0m\u001b[0m | time: 13.004s\n\u001b[2K\r| Adam | epoch: 001 | loss: 0.69339 - acc: 0.4994 -- iter: 02752/20250\n"
     ]
    },
    {
     "name": "stdout",
     "output_type": "stream",
     "text": [
      "Training Step: 44  | total loss: \u001b[1m\u001b[32m0.69313\u001b[0m\u001b[0m | time: 13.246s\n\u001b[2K\r| Adam | epoch: 001 | loss: 0.69313 - acc: 0.5130 -- iter: 02816/20250\n"
     ]
    },
    {
     "name": "stdout",
     "output_type": "stream",
     "text": [
      "Training Step: 45  | total loss: \u001b[1m\u001b[32m0.69309\u001b[0m\u001b[0m | time: 13.489s\n\u001b[2K\r| Adam | epoch: 001 | loss: 0.69309 - acc: 0.5188 -- iter: 02880/20250\n"
     ]
    },
    {
     "name": "stdout",
     "output_type": "stream",
     "text": [
      "Training Step: 46  | total loss: \u001b[1m\u001b[32m0.69302\u001b[0m\u001b[0m | time: 13.764s\n\u001b[2K\r| Adam | epoch: 001 | loss: 0.69302 - acc: 0.5156 -- iter: 02944/20250\n"
     ]
    },
    {
     "name": "stdout",
     "output_type": "stream",
     "text": [
      "Training Step: 47  | total loss: \u001b[1m\u001b[32m0.69298\u001b[0m\u001b[0m | time: 14.011s\n\u001b[2K\r| Adam | epoch: 001 | loss: 0.69298 - acc: 0.5156 -- iter: 03008/20250\n"
     ]
    },
    {
     "name": "stdout",
     "output_type": "stream",
     "text": [
      "Training Step: 48  | total loss: \u001b[1m\u001b[32m0.69337\u001b[0m\u001b[0m | time: 14.251s\n\u001b[2K\r| Adam | epoch: 001 | loss: 0.69337 - acc: 0.5006 -- iter: 03072/20250\n"
     ]
    },
    {
     "name": "stdout",
     "output_type": "stream",
     "text": [
      "Training Step: 49  | total loss: \u001b[1m\u001b[32m0.69323\u001b[0m\u001b[0m | time: 14.494s\n\u001b[2K\r| Adam | epoch: 001 | loss: 0.69323 - acc: 0.5079 -- iter: 03136/20250\n"
     ]
    },
    {
     "name": "stdout",
     "output_type": "stream",
     "text": [
      "Training Step: 50  | total loss: \u001b[1m\u001b[32m0.69296\u001b[0m\u001b[0m | time: 14.738s\n\u001b[2K\r| Adam | epoch: 001 | loss: 0.69296 - acc: 0.5188 -- iter: 03200/20250\n"
     ]
    },
    {
     "name": "stdout",
     "output_type": "stream",
     "text": [
      "Training Step: 51  | total loss: \u001b[1m\u001b[32m0.69251\u001b[0m\u001b[0m | time: 14.995s\n\u001b[2K\r| Adam | epoch: 001 | loss: 0.69251 - acc: 0.5278 -- iter: 03264/20250\n"
     ]
    },
    {
     "name": "stdout",
     "output_type": "stream",
     "text": [
      "Training Step: 52  | total loss: \u001b[1m\u001b[32m0.69287\u001b[0m\u001b[0m | time: 15.236s\n\u001b[2K\r| Adam | epoch: 001 | loss: 0.69287 - acc: 0.5166 -- iter: 03328/20250\n"
     ]
    },
    {
     "name": "stdout",
     "output_type": "stream",
     "text": [
      "Training Step: 53  | total loss: \u001b[1m\u001b[32m0.69302\u001b[0m\u001b[0m | time: 15.480s\n\u001b[2K\r| Adam | epoch: 001 | loss: 0.69302 - acc: 0.5119 -- iter: 03392/20250\n"
     ]
    },
    {
     "name": "stdout",
     "output_type": "stream",
     "text": [
      "Training Step: 54  | total loss: \u001b[1m\u001b[32m0.69343\u001b[0m\u001b[0m | time: 15.723s\n\u001b[2K\r| Adam | epoch: 001 | loss: 0.69343 - acc: 0.5011 -- iter: 03456/20250\n"
     ]
    },
    {
     "name": "stdout",
     "output_type": "stream",
     "text": [
      "Training Step: 55  | total loss: \u001b[1m\u001b[32m0.69369\u001b[0m\u001b[0m | time: 15.968s\n\u001b[2K\r| Adam | epoch: 001 | loss: 0.69369 - acc: 0.4898 -- iter: 03520/20250\n"
     ]
    },
    {
     "name": "stdout",
     "output_type": "stream",
     "text": [
      "Training Step: 56  | total loss: \u001b[1m\u001b[32m0.69371\u001b[0m\u001b[0m | time: 16.224s\n\u001b[2K\r| Adam | epoch: 001 | loss: 0.69371 - acc: 0.4978 -- iter: 03584/20250\n"
     ]
    },
    {
     "name": "stdout",
     "output_type": "stream",
     "text": [
      "Training Step: 57  | total loss: \u001b[1m\u001b[32m0.69353\u001b[0m\u001b[0m | time: 16.486s\n\u001b[2K\r| Adam | epoch: 001 | loss: 0.69353 - acc: 0.5003 -- iter: 03648/20250\n"
     ]
    },
    {
     "name": "stdout",
     "output_type": "stream",
     "text": [
      "Training Step: 58  | total loss: \u001b[1m\u001b[32m0.69350\u001b[0m\u001b[0m | time: 16.731s\n\u001b[2K\r| Adam | epoch: 001 | loss: 0.69350 - acc: 0.5002 -- iter: 03712/20250\n"
     ]
    },
    {
     "name": "stdout",
     "output_type": "stream",
     "text": [
      "Training Step: 59  | total loss: \u001b[1m\u001b[32m0.69402\u001b[0m\u001b[0m | time: 17.001s\n\u001b[2K\r| Adam | epoch: 001 | loss: 0.69402 - acc: 0.4855 -- iter: 03776/20250\n"
     ]
    },
    {
     "name": "stdout",
     "output_type": "stream",
     "text": [
      "Training Step: 60  | total loss: \u001b[1m\u001b[32m0.69373\u001b[0m\u001b[0m | time: 17.248s\n\u001b[2K\r| Adam | epoch: 001 | loss: 0.69373 - acc: 0.4916 -- iter: 03840/20250\n"
     ]
    },
    {
     "name": "stdout",
     "output_type": "stream",
     "text": [
      "Training Step: 61  | total loss: \u001b[1m\u001b[32m0.69332\u001b[0m\u001b[0m | time: 17.490s\n\u001b[2K\r| Adam | epoch: 001 | loss: 0.69332 - acc: 0.5008 -- iter: 03904/20250\n"
     ]
    },
    {
     "name": "stdout",
     "output_type": "stream",
     "text": [
      "Training Step: 62  | total loss: \u001b[1m\u001b[32m0.69315\u001b[0m\u001b[0m | time: 17.732s\n\u001b[2K\r| Adam | epoch: 001 | loss: 0.69315 - acc: 0.5007 -- iter: 03968/20250\n"
     ]
    },
    {
     "name": "stdout",
     "output_type": "stream",
     "text": [
      "Training Step: 63  | total loss: \u001b[1m\u001b[32m0.69325\u001b[0m\u001b[0m | time: 17.980s\n\u001b[2K\r| Adam | epoch: 001 | loss: 0.69325 - acc: 0.4947 -- iter: 04032/20250\n"
     ]
    },
    {
     "name": "stdout",
     "output_type": "stream",
     "text": [
      "Training Step: 64  | total loss: \u001b[1m\u001b[32m0.69355\u001b[0m\u001b[0m | time: 18.220s\n\u001b[2K\r| Adam | epoch: 001 | loss: 0.69355 - acc: 0.4836 -- iter: 04096/20250\n"
     ]
    },
    {
     "name": "stdout",
     "output_type": "stream",
     "text": [
      "Training Step: 65  | total loss: \u001b[1m\u001b[32m0.69358\u001b[0m\u001b[0m | time: 18.459s\n\u001b[2K\r| Adam | epoch: 001 | loss: 0.69358 - acc: 0.4818 -- iter: 04160/20250\n"
     ]
    },
    {
     "name": "stdout",
     "output_type": "stream",
     "text": [
      "Training Step: 66  | total loss: \u001b[1m\u001b[32m0.69339\u001b[0m\u001b[0m | time: 18.717s\n\u001b[2K\r| Adam | epoch: 001 | loss: 0.69339 - acc: 0.4916 -- iter: 04224/20250\n"
     ]
    },
    {
     "name": "stdout",
     "output_type": "stream",
     "text": [
      "Training Step: 67  | total loss: \u001b[1m\u001b[32m0.69317\u001b[0m\u001b[0m | time: 18.989s\n\u001b[2K\r| Adam | epoch: 001 | loss: 0.69317 - acc: 0.5020 -- iter: 04288/20250\n"
     ]
    },
    {
     "name": "stdout",
     "output_type": "stream",
     "text": [
      "Training Step: 68  | total loss: \u001b[1m\u001b[32m0.69308\u001b[0m\u001b[0m | time: 19.228s\n\u001b[2K\r| Adam | epoch: 001 | loss: 0.69308 - acc: 0.5036 -- iter: 04352/20250\n"
     ]
    },
    {
     "name": "stdout",
     "output_type": "stream",
     "text": [
      "Training Step: 69  | total loss: \u001b[1m\u001b[32m0.69298\u001b[0m\u001b[0m | time: 19.469s\n\u001b[2K\r| Adam | epoch: 001 | loss: 0.69298 - acc: 0.5087 -- iter: 04416/20250\n"
     ]
    },
    {
     "name": "stdout",
     "output_type": "stream",
     "text": [
      "Training Step: 70  | total loss: \u001b[1m\u001b[32m0.69321\u001b[0m\u001b[0m | time: 19.713s\n\u001b[2K\r| Adam | epoch: 001 | loss: 0.69321 - acc: 0.4986 -- iter: 04480/20250\n"
     ]
    },
    {
     "name": "stdout",
     "output_type": "stream",
     "text": [
      "Training Step: 71  | total loss: \u001b[1m\u001b[32m0.69320\u001b[0m\u001b[0m | time: 19.958s\n\u001b[2K\r| Adam | epoch: 001 | loss: 0.69320 - acc: 0.4935 -- iter: 04544/20250\n"
     ]
    },
    {
     "name": "stdout",
     "output_type": "stream",
     "text": [
      "Training Step: 72  | total loss: \u001b[1m\u001b[32m0.69333\u001b[0m\u001b[0m | time: 20.201s\n\u001b[2K\r| Adam | epoch: 001 | loss: 0.69333 - acc: 0.4889 -- iter: 04608/20250\n"
     ]
    },
    {
     "name": "stdout",
     "output_type": "stream",
     "text": [
      "Training Step: 73  | total loss: \u001b[1m\u001b[32m0.69307\u001b[0m\u001b[0m | time: 20.440s\n\u001b[2K\r| Adam | epoch: 001 | loss: 0.69307 - acc: 0.5058 -- iter: 04672/20250\n"
     ]
    },
    {
     "name": "stdout",
     "output_type": "stream",
     "text": [
      "Training Step: 74  | total loss: \u001b[1m\u001b[32m0.69297\u001b[0m\u001b[0m | time: 20.683s\n\u001b[2K\r| Adam | epoch: 001 | loss: 0.69297 - acc: 0.5137 -- iter: 04736/20250\n"
     ]
    },
    {
     "name": "stdout",
     "output_type": "stream",
     "text": [
      "Training Step: 75  | total loss: \u001b[1m\u001b[32m0.69291\u001b[0m\u001b[0m | time: 20.928s\n\u001b[2K\r| Adam | epoch: 001 | loss: 0.69291 - acc: 0.5156 -- iter: 04800/20250\n"
     ]
    },
    {
     "name": "stdout",
     "output_type": "stream",
     "text": [
      "Training Step: 76  | total loss: \u001b[1m\u001b[32m0.69297\u001b[0m\u001b[0m | time: 21.187s\n\u001b[2K\r| Adam | epoch: 001 | loss: 0.69297 - acc: 0.5106 -- iter: 04864/20250\n"
     ]
    },
    {
     "name": "stdout",
     "output_type": "stream",
     "text": [
      "Training Step: 77  | total loss: \u001b[1m\u001b[32m0.69319\u001b[0m\u001b[0m | time: 21.453s\n\u001b[2K\r| Adam | epoch: 001 | loss: 0.69319 - acc: 0.5078 -- iter: 04928/20250\n"
     ]
    },
    {
     "name": "stdout",
     "output_type": "stream",
     "text": [
      "Training Step: 78  | total loss: \u001b[1m\u001b[32m0.69342\u001b[0m\u001b[0m | time: 21.699s\n\u001b[2K\r| Adam | epoch: 001 | loss: 0.69342 - acc: 0.5054 -- iter: 04992/20250\n"
     ]
    },
    {
     "name": "stdout",
     "output_type": "stream",
     "text": [
      "Training Step: 79  | total loss: \u001b[1m\u001b[32m0.69362\u001b[0m\u001b[0m | time: 21.943s\n\u001b[2K\r| Adam | epoch: 001 | loss: 0.69362 - acc: 0.5000 -- iter: 05056/20250\n"
     ]
    },
    {
     "name": "stdout",
     "output_type": "stream",
     "text": [
      "Training Step: 80  | total loss: \u001b[1m\u001b[32m0.69360\u001b[0m\u001b[0m | time: 22.194s\n\u001b[2K\r| Adam | epoch: 001 | loss: 0.69360 - acc: 0.4952 -- iter: 05120/20250\n"
     ]
    },
    {
     "name": "stdout",
     "output_type": "stream",
     "text": [
      "Training Step: 81  | total loss: \u001b[1m\u001b[32m0.69339\u001b[0m\u001b[0m | time: 22.441s\n\u001b[2K\r| Adam | epoch: 001 | loss: 0.69339 - acc: 0.4988 -- iter: 05184/20250\n"
     ]
    },
    {
     "name": "stdout",
     "output_type": "stream",
     "text": [
      "Training Step: 82  | total loss: \u001b[1m\u001b[32m0.69346\u001b[0m\u001b[0m | time: 22.691s\n\u001b[2K\r| Adam | epoch: 001 | loss: 0.69346 - acc: 0.4943 -- iter: 05248/20250\n"
     ]
    },
    {
     "name": "stdout",
     "output_type": "stream",
     "text": [
      "Training Step: 83  | total loss: \u001b[1m\u001b[32m0.69328\u001b[0m\u001b[0m | time: 22.946s\n\u001b[2K\r| Adam | epoch: 001 | loss: 0.69328 - acc: 0.5089 -- iter: 05312/20250\n"
     ]
    },
    {
     "name": "stdout",
     "output_type": "stream",
     "text": [
      "Training Step: 84  | total loss: \u001b[1m\u001b[32m0.69345\u001b[0m\u001b[0m | time: 23.191s\n\u001b[2K\r| Adam | epoch: 001 | loss: 0.69345 - acc: 0.5002 -- iter: 05376/20250\n"
     ]
    },
    {
     "name": "stdout",
     "output_type": "stream",
     "text": [
      "Training Step: 85  | total loss: \u001b[1m\u001b[32m0.69342\u001b[0m\u001b[0m | time: 23.435s\n\u001b[2K\r| Adam | epoch: 001 | loss: 0.69342 - acc: 0.4970 -- iter: 05440/20250\n"
     ]
    },
    {
     "name": "stdout",
     "output_type": "stream",
     "text": [
      "Training Step: 86  | total loss: \u001b[1m\u001b[32m0.69317\u001b[0m\u001b[0m | time: 23.700s\n\u001b[2K\r| Adam | epoch: 001 | loss: 0.69317 - acc: 0.5020 -- iter: 05504/20250\n"
     ]
    },
    {
     "name": "stdout",
     "output_type": "stream",
     "text": [
      "Training Step: 87  | total loss: \u001b[1m\u001b[32m0.69322\u001b[0m\u001b[0m | time: 23.955s\n\u001b[2K\r| Adam | epoch: 001 | loss: 0.69322 - acc: 0.5003 -- iter: 05568/20250\n"
     ]
    },
    {
     "name": "stdout",
     "output_type": "stream",
     "text": [
      "Training Step: 88  | total loss: \u001b[1m\u001b[32m0.69287\u001b[0m\u001b[0m | time: 24.209s\n\u001b[2K\r| Adam | epoch: 001 | loss: 0.69287 - acc: 0.5127 -- iter: 05632/20250\n"
     ]
    },
    {
     "name": "stdout",
     "output_type": "stream",
     "text": [
      "Training Step: 89  | total loss: \u001b[1m\u001b[32m0.69272\u001b[0m\u001b[0m | time: 24.453s\n\u001b[2K\r| Adam | epoch: 001 | loss: 0.69272 - acc: 0.5161 -- iter: 05696/20250\n"
     ]
    },
    {
     "name": "stdout",
     "output_type": "stream",
     "text": [
      "Training Step: 90  | total loss: \u001b[1m\u001b[32m0.69262\u001b[0m\u001b[0m | time: 24.697s\n\u001b[2K\r| Adam | epoch: 001 | loss: 0.69262 - acc: 0.5223 -- iter: 05760/20250\n"
     ]
    },
    {
     "name": "stdout",
     "output_type": "stream",
     "text": [
      "Training Step: 91  | total loss: \u001b[1m\u001b[32m0.69272\u001b[0m\u001b[0m | time: 24.935s\n\u001b[2K\r| Adam | epoch: 001 | loss: 0.69272 - acc: 0.5185 -- iter: 05824/20250\n"
     ]
    },
    {
     "name": "stdout",
     "output_type": "stream",
     "text": [
      "Training Step: 92  | total loss: \u001b[1m\u001b[32m0.69298\u001b[0m\u001b[0m | time: 25.184s\n\u001b[2K\r| Adam | epoch: 001 | loss: 0.69298 - acc: 0.5136 -- iter: 05888/20250\n"
     ]
    },
    {
     "name": "stdout",
     "output_type": "stream",
     "text": [
      "Training Step: 93  | total loss: \u001b[1m\u001b[32m0.69273\u001b[0m\u001b[0m | time: 25.433s\n\u001b[2K\r| Adam | epoch: 001 | loss: 0.69273 - acc: 0.5185 -- iter: 05952/20250\n"
     ]
    },
    {
     "name": "stdout",
     "output_type": "stream",
     "text": [
      "Training Step: 94  | total loss: \u001b[1m\u001b[32m0.69319\u001b[0m\u001b[0m | time: 25.684s\n\u001b[2K\r| Adam | epoch: 001 | loss: 0.69319 - acc: 0.5166 -- iter: 06016/20250\n"
     ]
    },
    {
     "name": "stdout",
     "output_type": "stream",
     "text": [
      "Training Step: 95  | total loss: \u001b[1m\u001b[32m0.69370\u001b[0m\u001b[0m | time: 25.933s\n\u001b[2K\r| Adam | epoch: 001 | loss: 0.69370 - acc: 0.5103 -- iter: 06080/20250\n"
     ]
    },
    {
     "name": "stdout",
     "output_type": "stream",
     "text": [
      "Training Step: 96  | total loss: \u001b[1m\u001b[32m0.69342\u001b[0m\u001b[0m | time: 26.214s\n\u001b[2K\r| Adam | epoch: 001 | loss: 0.69342 - acc: 0.5124 -- iter: 06144/20250\n"
     ]
    },
    {
     "name": "stdout",
     "output_type": "stream",
     "text": [
      "Training Step: 97  | total loss: \u001b[1m\u001b[32m0.69328\u001b[0m\u001b[0m | time: 26.484s\n\u001b[2K\r| Adam | epoch: 001 | loss: 0.69328 - acc: 0.5111 -- iter: 06208/20250\n"
     ]
    },
    {
     "name": "stdout",
     "output_type": "stream",
     "text": [
      "Training Step: 98  | total loss: \u001b[1m\u001b[32m0.69307\u001b[0m\u001b[0m | time: 26.720s\n\u001b[2K\r| Adam | epoch: 001 | loss: 0.69307 - acc: 0.5147 -- iter: 06272/20250\n"
     ]
    },
    {
     "name": "stdout",
     "output_type": "stream",
     "text": [
      "Training Step: 99  | total loss: \u001b[1m\u001b[32m0.69315\u001b[0m\u001b[0m | time: 26.964s\n\u001b[2K\r| Adam | epoch: 001 | loss: 0.69315 - acc: 0.5132 -- iter: 06336/20250\n"
     ]
    },
    {
     "name": "stdout",
     "output_type": "stream",
     "text": [
      "Training Step: 100  | total loss: \u001b[1m\u001b[32m0.69284\u001b[0m\u001b[0m | time: 27.213s\n\u001b[2K\r| Adam | epoch: 001 | loss: 0.69284 - acc: 0.5197 -- iter: 06400/20250\n"
     ]
    },
    {
     "name": "stdout",
     "output_type": "stream",
     "text": [
      "Training Step: 101  | total loss: \u001b[1m\u001b[32m0.69267\u001b[0m\u001b[0m | time: 27.462s\n\u001b[2K\r| Adam | epoch: 001 | loss: 0.69267 - acc: 0.5256 -- iter: 06464/20250\n"
     ]
    },
    {
     "name": "stdout",
     "output_type": "stream",
     "text": [
      "Training Step: 102  | total loss: \u001b[1m\u001b[32m0.69269\u001b[0m\u001b[0m | time: 27.716s\n\u001b[2K\r| Adam | epoch: 001 | loss: 0.69269 - acc: 0.5246 -- iter: 06528/20250\n"
     ]
    },
    {
     "name": "stdout",
     "output_type": "stream",
     "text": [
      "Training Step: 103  | total loss: \u001b[1m\u001b[32m0.69254\u001b[0m\u001b[0m | time: 27.964s\n\u001b[2K\r| Adam | epoch: 001 | loss: 0.69254 - acc: 0.5362 -- iter: 06592/20250\n"
     ]
    },
    {
     "name": "stdout",
     "output_type": "stream",
     "text": [
      "Training Step: 104  | total loss: \u001b[1m\u001b[32m0.69266\u001b[0m\u001b[0m | time: 28.208s\n\u001b[2K\r| Adam | epoch: 001 | loss: 0.69266 - acc: 0.5357 -- iter: 06656/20250\n"
     ]
    },
    {
     "name": "stdout",
     "output_type": "stream",
     "text": [
      "Training Step: 105  | total loss: \u001b[1m\u001b[32m0.69288\u001b[0m\u001b[0m | time: 28.469s\n\u001b[2K\r| Adam | epoch: 001 | loss: 0.69288 - acc: 0.5368 -- iter: 06720/20250\n"
     ]
    },
    {
     "name": "stdout",
     "output_type": "stream",
     "text": [
      "Training Step: 106  | total loss: \u001b[1m\u001b[32m0.69266\u001b[0m\u001b[0m | time: 28.750s\n\u001b[2K\r| Adam | epoch: 001 | loss: 0.69266 - acc: 0.5409 -- iter: 06784/20250\n"
     ]
    },
    {
     "name": "stdout",
     "output_type": "stream",
     "text": [
      "Training Step: 107  | total loss: \u001b[1m\u001b[32m0.69246\u001b[0m\u001b[0m | time: 29.044s\n\u001b[2K\r| Adam | epoch: 001 | loss: 0.69246 - acc: 0.5384 -- iter: 06848/20250\n"
     ]
    },
    {
     "name": "stdout",
     "output_type": "stream",
     "text": [
      "Training Step: 108  | total loss: \u001b[1m\u001b[32m0.69247\u001b[0m\u001b[0m | time: 29.296s\n\u001b[2K\r| Adam | epoch: 001 | loss: 0.69247 - acc: 0.5424 -- iter: 06912/20250\n"
     ]
    },
    {
     "name": "stdout",
     "output_type": "stream",
     "text": [
      "Training Step: 109  | total loss: \u001b[1m\u001b[32m0.69199\u001b[0m\u001b[0m | time: 29.533s\n\u001b[2K\r| Adam | epoch: 001 | loss: 0.69199 - acc: 0.5506 -- iter: 06976/20250\n"
     ]
    },
    {
     "name": "stdout",
     "output_type": "stream",
     "text": [
      "Training Step: 110  | total loss: \u001b[1m\u001b[32m0.69143\u001b[0m\u001b[0m | time: 29.776s\n\u001b[2K\r| Adam | epoch: 001 | loss: 0.69143 - acc: 0.5487 -- iter: 07040/20250\n"
     ]
    },
    {
     "name": "stdout",
     "output_type": "stream",
     "text": [
      "Training Step: 111  | total loss: \u001b[1m\u001b[32m0.69466\u001b[0m\u001b[0m | time: 30.028s\n\u001b[2K\r| Adam | epoch: 001 | loss: 0.69466 - acc: 0.5391 -- iter: 07104/20250\n"
     ]
    },
    {
     "name": "stdout",
     "output_type": "stream",
     "text": [
      "Training Step: 112  | total loss: \u001b[1m\u001b[32m0.69336\u001b[0m\u001b[0m | time: 30.277s\n\u001b[2K\r| Adam | epoch: 001 | loss: 0.69336 - acc: 0.5415 -- iter: 07168/20250\n"
     ]
    },
    {
     "name": "stdout",
     "output_type": "stream",
     "text": [
      "Training Step: 113  | total loss: \u001b[1m\u001b[32m0.69212\u001b[0m\u001b[0m | time: 30.527s\n\u001b[2K\r| Adam | epoch: 001 | loss: 0.69212 - acc: 0.5545 -- iter: 07232/20250\n"
     ]
    },
    {
     "name": "stdout",
     "output_type": "stream",
     "text": [
      "Training Step: 114  | total loss: \u001b[1m\u001b[32m0.69215\u001b[0m\u001b[0m | time: 30.768s\n\u001b[2K\r| Adam | epoch: 001 | loss: 0.69215 - acc: 0.5584 -- iter: 07296/20250\n"
     ]
    },
    {
     "name": "stdout",
     "output_type": "stream",
     "text": [
      "Training Step: 115  | total loss: \u001b[1m\u001b[32m0.69164\u001b[0m\u001b[0m | time: 31.030s\n\u001b[2K\r| Adam | epoch: 001 | loss: 0.69164 - acc: 0.5635 -- iter: 07360/20250\n"
     ]
    },
    {
     "name": "stdout",
     "output_type": "stream",
     "text": [
      "Training Step: 116  | total loss: \u001b[1m\u001b[32m0.69187\u001b[0m\u001b[0m | time: 31.282s\n\u001b[2K\r| Adam | epoch: 001 | loss: 0.69187 - acc: 0.5603 -- iter: 07424/20250\n"
     ]
    },
    {
     "name": "stdout",
     "output_type": "stream",
     "text": [
      "Training Step: 117  | total loss: \u001b[1m\u001b[32m0.69221\u001b[0m\u001b[0m | time: 31.544s\n\u001b[2K\r| Adam | epoch: 001 | loss: 0.69221 - acc: 0.5558 -- iter: 07488/20250\n"
     ]
    },
    {
     "name": "stdout",
     "output_type": "stream",
     "text": [
      "Training Step: 118  | total loss: \u001b[1m\u001b[32m0.69226\u001b[0m\u001b[0m | time: 31.787s\n\u001b[2K\r| Adam | epoch: 001 | loss: 0.69226 - acc: 0.5534 -- iter: 07552/20250\n"
     ]
    },
    {
     "name": "stdout",
     "output_type": "stream",
     "text": [
      "Training Step: 119  | total loss: \u001b[1m\u001b[32m0.69358\u001b[0m\u001b[0m | time: 32.025s\n\u001b[2K\r| Adam | epoch: 001 | loss: 0.69358 - acc: 0.5496 -- iter: 07616/20250\n"
     ]
    },
    {
     "name": "stdout",
     "output_type": "stream",
     "text": [
      "Training Step: 120  | total loss: \u001b[1m\u001b[32m0.69224\u001b[0m\u001b[0m | time: 32.275s\n\u001b[2K\r| Adam | epoch: 001 | loss: 0.69224 - acc: 0.5556 -- iter: 07680/20250\n"
     ]
    },
    {
     "name": "stdout",
     "output_type": "stream",
     "text": [
      "Training Step: 121  | total loss: \u001b[1m\u001b[32m0.69220\u001b[0m\u001b[0m | time: 32.517s\n\u001b[2K\r| Adam | epoch: 001 | loss: 0.69220 - acc: 0.5500 -- iter: 07744/20250\n"
     ]
    },
    {
     "name": "stdout",
     "output_type": "stream",
     "text": [
      "Training Step: 122  | total loss: \u001b[1m\u001b[32m0.69164\u001b[0m\u001b[0m | time: 32.753s\n\u001b[2K\r| Adam | epoch: 001 | loss: 0.69164 - acc: 0.5481 -- iter: 07808/20250\n"
     ]
    },
    {
     "name": "stdout",
     "output_type": "stream",
     "text": [
      "Training Step: 123  | total loss: \u001b[1m\u001b[32m0.69487\u001b[0m\u001b[0m | time: 33.001s\n\u001b[2K\r| Adam | epoch: 001 | loss: 0.69487 - acc: 0.5277 -- iter: 07872/20250\n"
     ]
    },
    {
     "name": "stdout",
     "output_type": "stream",
     "text": [
      "Training Step: 124  | total loss: \u001b[1m\u001b[32m0.69545\u001b[0m\u001b[0m | time: 33.241s\n\u001b[2K\r| Adam | epoch: 001 | loss: 0.69545 - acc: 0.5234 -- iter: 07936/20250\n"
     ]
    },
    {
     "name": "stdout",
     "output_type": "stream",
     "text": [
      "Training Step: 125  | total loss: \u001b[1m\u001b[32m0.69601\u001b[0m\u001b[0m | time: 33.500s\n\u001b[2K\r| Adam | epoch: 001 | loss: 0.69601 - acc: 0.5163 -- iter: 08000/20250\n"
     ]
    },
    {
     "name": "stdout",
     "output_type": "stream",
     "text": [
      "Training Step: 126  | total loss: \u001b[1m\u001b[32m0.69669\u001b[0m\u001b[0m | time: 33.748s\n\u001b[2K\r| Adam | epoch: 001 | loss: 0.69669 - acc: 0.5132 -- iter: 08064/20250\n"
     ]
    },
    {
     "name": "stdout",
     "output_type": "stream",
     "text": [
      "Training Step: 127  | total loss: \u001b[1m\u001b[32m0.69683\u001b[0m\u001b[0m | time: 33.994s\n\u001b[2K\r| Adam | epoch: 001 | loss: 0.69683 - acc: 0.5040 -- iter: 08128/20250\n"
     ]
    },
    {
     "name": "stdout",
     "output_type": "stream",
     "text": [
      "Training Step: 128  | total loss: \u001b[1m\u001b[32m0.69609\u001b[0m\u001b[0m | time: 34.236s\n\u001b[2K\r| Adam | epoch: 001 | loss: 0.69609 - acc: 0.5130 -- iter: 08192/20250\n"
     ]
    },
    {
     "name": "stdout",
     "output_type": "stream",
     "text": [
      "Training Step: 129  | total loss: \u001b[1m\u001b[32m0.69546\u001b[0m\u001b[0m | time: 34.479s\n\u001b[2K\r| Adam | epoch: 001 | loss: 0.69546 - acc: 0.5179 -- iter: 08256/20250\n"
     ]
    },
    {
     "name": "stdout",
     "output_type": "stream",
     "text": [
      "Training Step: 130  | total loss: \u001b[1m\u001b[32m0.69515\u001b[0m\u001b[0m | time: 34.719s\n\u001b[2K\r| Adam | epoch: 001 | loss: 0.69515 - acc: 0.5162 -- iter: 08320/20250\n"
     ]
    },
    {
     "name": "stdout",
     "output_type": "stream",
     "text": [
      "Training Step: 131  | total loss: \u001b[1m\u001b[32m0.69484\u001b[0m\u001b[0m | time: 34.964s\n\u001b[2K\r| Adam | epoch: 001 | loss: 0.69484 - acc: 0.5192 -- iter: 08384/20250\n"
     ]
    },
    {
     "name": "stdout",
     "output_type": "stream",
     "text": [
      "Training Step: 132  | total loss: \u001b[1m\u001b[32m0.69430\u001b[0m\u001b[0m | time: 35.210s\n\u001b[2K\r| Adam | epoch: 001 | loss: 0.69430 - acc: 0.5251 -- iter: 08448/20250\n"
     ]
    },
    {
     "name": "stdout",
     "output_type": "stream",
     "text": [
      "Training Step: 133  | total loss: \u001b[1m\u001b[32m0.69417\u001b[0m\u001b[0m | time: 35.459s\n\u001b[2K\r| Adam | epoch: 001 | loss: 0.69417 - acc: 0.5179 -- iter: 08512/20250\n"
     ]
    },
    {
     "name": "stdout",
     "output_type": "stream",
     "text": [
      "Training Step: 134  | total loss: \u001b[1m\u001b[32m0.69387\u001b[0m\u001b[0m | time: 35.701s\n\u001b[2K\r| Adam | epoch: 001 | loss: 0.69387 - acc: 0.5177 -- iter: 08576/20250\n"
     ]
    },
    {
     "name": "stdout",
     "output_type": "stream",
     "text": [
      "Training Step: 135  | total loss: \u001b[1m\u001b[32m0.69399\u001b[0m\u001b[0m | time: 35.967s\n\u001b[2K\r| Adam | epoch: 001 | loss: 0.69399 - acc: 0.5081 -- iter: 08640/20250\n"
     ]
    },
    {
     "name": "stdout",
     "output_type": "stream",
     "text": [
      "Training Step: 136  | total loss: \u001b[1m\u001b[32m0.69378\u001b[0m\u001b[0m | time: 36.213s\n\u001b[2K\r| Adam | epoch: 001 | loss: 0.69378 - acc: 0.5104 -- iter: 08704/20250\n"
     ]
    },
    {
     "name": "stdout",
     "output_type": "stream",
     "text": [
      "Training Step: 137  | total loss: \u001b[1m\u001b[32m0.69381\u001b[0m\u001b[0m | time: 36.459s\n\u001b[2K\r| Adam | epoch: 001 | loss: 0.69381 - acc: 0.4984 -- iter: 08768/20250\n"
     ]
    },
    {
     "name": "stdout",
     "output_type": "stream",
     "text": [
      "Training Step: 138  | total loss: \u001b[1m\u001b[32m0.69360\u001b[0m\u001b[0m | time: 36.703s\n\u001b[2K\r| Adam | epoch: 001 | loss: 0.69360 - acc: 0.4970 -- iter: 08832/20250\n"
     ]
    },
    {
     "name": "stdout",
     "output_type": "stream",
     "text": [
      "Training Step: 139  | total loss: \u001b[1m\u001b[32m0.69353\u001b[0m\u001b[0m | time: 36.949s\n\u001b[2K\r| Adam | epoch: 001 | loss: 0.69353 - acc: 0.4973 -- iter: 08896/20250\n"
     ]
    },
    {
     "name": "stdout",
     "output_type": "stream",
     "text": [
      "Training Step: 140  | total loss: \u001b[1m\u001b[32m0.69334\u001b[0m\u001b[0m | time: 37.193s\n\u001b[2K\r| Adam | epoch: 001 | loss: 0.69334 - acc: 0.5054 -- iter: 08960/20250\n"
     ]
    },
    {
     "name": "stdout",
     "output_type": "stream",
     "text": [
      "Training Step: 141  | total loss: \u001b[1m\u001b[32m0.69333\u001b[0m\u001b[0m | time: 37.440s\n\u001b[2K\r| Adam | epoch: 001 | loss: 0.69333 - acc: 0.5064 -- iter: 09024/20250\n"
     ]
    },
    {
     "name": "stdout",
     "output_type": "stream",
     "text": [
      "Training Step: 142  | total loss: \u001b[1m\u001b[32m0.69375\u001b[0m\u001b[0m | time: 37.682s\n\u001b[2K\r| Adam | epoch: 001 | loss: 0.69375 - acc: 0.4917 -- iter: 09088/20250\n"
     ]
    },
    {
     "name": "stdout",
     "output_type": "stream",
     "text": [
      "Training Step: 143  | total loss: \u001b[1m\u001b[32m0.69380\u001b[0m\u001b[0m | time: 37.927s\n\u001b[2K\r| Adam | epoch: 001 | loss: 0.69380 - acc: 0.4879 -- iter: 09152/20250\n"
     ]
    },
    {
     "name": "stdout",
     "output_type": "stream",
     "text": [
      "Training Step: 144  | total loss: \u001b[1m\u001b[32m0.69328\u001b[0m\u001b[0m | time: 38.168s\n\u001b[2K\r| Adam | epoch: 001 | loss: 0.69328 - acc: 0.5000 -- iter: 09216/20250\n"
     ]
    },
    {
     "name": "stdout",
     "output_type": "stream",
     "text": [
      "Training Step: 145  | total loss: \u001b[1m\u001b[32m0.69335\u001b[0m\u001b[0m | time: 38.407s\n\u001b[2K\r| Adam | epoch: 001 | loss: 0.69335 - acc: 0.4922 -- iter: 09280/20250\n"
     ]
    },
    {
     "name": "stdout",
     "output_type": "stream",
     "text": [
      "Training Step: 146  | total loss: \u001b[1m\u001b[32m0.69318\u001b[0m\u001b[0m | time: 38.662s\n\u001b[2K\r| Adam | epoch: 001 | loss: 0.69318 - acc: 0.4914 -- iter: 09344/20250\n"
     ]
    },
    {
     "name": "stdout",
     "output_type": "stream",
     "text": [
      "Training Step: 147  | total loss: \u001b[1m\u001b[32m0.69306\u001b[0m\u001b[0m | time: 38.907s\n\u001b[2K\r| Adam | epoch: 001 | loss: 0.69306 - acc: 0.4892 -- iter: 09408/20250\n"
     ]
    },
    {
     "name": "stdout",
     "output_type": "stream",
     "text": [
      "Training Step: 148  | total loss: \u001b[1m\u001b[32m0.69316\u001b[0m\u001b[0m | time: 39.156s\n\u001b[2K\r| Adam | epoch: 001 | loss: 0.69316 - acc: 0.4855 -- iter: 09472/20250\n"
     ]
    },
    {
     "name": "stdout",
     "output_type": "stream",
     "text": [
      "Training Step: 149  | total loss: \u001b[1m\u001b[32m0.69301\u001b[0m\u001b[0m | time: 39.393s\n\u001b[2K\r| Adam | epoch: 001 | loss: 0.69301 - acc: 0.4901 -- iter: 09536/20250\n"
     ]
    },
    {
     "name": "stdout",
     "output_type": "stream",
     "text": [
      "Training Step: 150  | total loss: \u001b[1m\u001b[32m0.69247\u001b[0m\u001b[0m | time: 39.634s\n\u001b[2K\r| Adam | epoch: 001 | loss: 0.69247 - acc: 0.5005 -- iter: 09600/20250\n"
     ]
    },
    {
     "name": "stdout",
     "output_type": "stream",
     "text": [
      "Training Step: 151  | total loss: \u001b[1m\u001b[32m0.69240\u001b[0m\u001b[0m | time: 39.876s\n\u001b[2K\r| Adam | epoch: 001 | loss: 0.69240 - acc: 0.5004 -- iter: 09664/20250\n"
     ]
    },
    {
     "name": "stdout",
     "output_type": "stream",
     "text": [
      "Training Step: 152  | total loss: \u001b[1m\u001b[32m0.69237\u001b[0m\u001b[0m | time: 40.118s\n\u001b[2K\r| Adam | epoch: 001 | loss: 0.69237 - acc: 0.5051 -- iter: 09728/20250\n"
     ]
    },
    {
     "name": "stdout",
     "output_type": "stream",
     "text": [
      "Training Step: 153  | total loss: \u001b[1m\u001b[32m0.69270\u001b[0m\u001b[0m | time: 40.371s\n\u001b[2K\r| Adam | epoch: 001 | loss: 0.69270 - acc: 0.5014 -- iter: 09792/20250\n"
     ]
    },
    {
     "name": "stdout",
     "output_type": "stream",
     "text": [
      "Training Step: 154  | total loss: \u001b[1m\u001b[32m0.69246\u001b[0m\u001b[0m | time: 40.614s\n\u001b[2K\r| Adam | epoch: 001 | loss: 0.69246 - acc: 0.5076 -- iter: 09856/20250\n"
     ]
    },
    {
     "name": "stdout",
     "output_type": "stream",
     "text": [
      "Training Step: 155  | total loss: \u001b[1m\u001b[32m0.69297\u001b[0m\u001b[0m | time: 40.864s\n\u001b[2K\r| Adam | epoch: 001 | loss: 0.69297 - acc: 0.4990 -- iter: 09920/20250\n"
     ]
    },
    {
     "name": "stdout",
     "output_type": "stream",
     "text": [
      "Training Step: 156  | total loss: \u001b[1m\u001b[32m0.69220\u001b[0m\u001b[0m | time: 41.119s\n\u001b[2K\r| Adam | epoch: 001 | loss: 0.69220 - acc: 0.5178 -- iter: 09984/20250\n"
     ]
    },
    {
     "name": "stdout",
     "output_type": "stream",
     "text": [
      "Training Step: 157  | total loss: \u001b[1m\u001b[32m0.69228\u001b[0m\u001b[0m | time: 41.368s\n\u001b[2K\r| Adam | epoch: 001 | loss: 0.69228 - acc: 0.5207 -- iter: 10048/20250\n"
     ]
    },
    {
     "name": "stdout",
     "output_type": "stream",
     "text": [
      "Training Step: 158  | total loss: \u001b[1m\u001b[32m0.69260\u001b[0m\u001b[0m | time: 41.607s\n\u001b[2K\r| Adam | epoch: 001 | loss: 0.69260 - acc: 0.5109 -- iter: 10112/20250\n"
     ]
    },
    {
     "name": "stdout",
     "output_type": "stream",
     "text": [
      "Training Step: 159  | total loss: \u001b[1m\u001b[32m0.69272\u001b[0m\u001b[0m | time: 41.852s\n\u001b[2K\r| Adam | epoch: 001 | loss: 0.69272 - acc: 0.5035 -- iter: 10176/20250\n"
     ]
    },
    {
     "name": "stdout",
     "output_type": "stream",
     "text": [
      "Training Step: 160  | total loss: \u001b[1m\u001b[32m0.69242\u001b[0m\u001b[0m | time: 42.100s\n\u001b[2K\r| Adam | epoch: 001 | loss: 0.69242 - acc: 0.5063 -- iter: 10240/20250\n"
     ]
    },
    {
     "name": "stdout",
     "output_type": "stream",
     "text": [
      "Training Step: 161  | total loss: \u001b[1m\u001b[32m0.69264\u001b[0m\u001b[0m | time: 42.348s\n\u001b[2K\r| Adam | epoch: 001 | loss: 0.69264 - acc: 0.5025 -- iter: 10304/20250\n"
     ]
    },
    {
     "name": "stdout",
     "output_type": "stream",
     "text": [
      "Training Step: 162  | total loss: \u001b[1m\u001b[32m0.69193\u001b[0m\u001b[0m | time: 42.588s\n\u001b[2K\r| Adam | epoch: 001 | loss: 0.69193 - acc: 0.5085 -- iter: 10368/20250\n"
     ]
    },
    {
     "name": "stdout",
     "output_type": "stream",
     "text": [
      "Training Step: 163  | total loss: \u001b[1m\u001b[32m0.69182\u001b[0m\u001b[0m | time: 42.835s\n\u001b[2K\r| Adam | epoch: 001 | loss: 0.69182 - acc: 0.5092 -- iter: 10432/20250\n"
     ]
    },
    {
     "name": "stdout",
     "output_type": "stream",
     "text": [
      "Training Step: 164  | total loss: \u001b[1m\u001b[32m0.69183\u001b[0m\u001b[0m | time: 43.073s\n\u001b[2K\r| Adam | epoch: 001 | loss: 0.69183 - acc: 0.5099 -- iter: 10496/20250\n"
     ]
    },
    {
     "name": "stdout",
     "output_type": "stream",
     "text": [
      "Training Step: 165  | total loss: \u001b[1m\u001b[32m0.69129\u001b[0m\u001b[0m | time: 43.321s\n\u001b[2K\r| Adam | epoch: 001 | loss: 0.69129 - acc: 0.5167 -- iter: 10560/20250\n"
     ]
    },
    {
     "name": "stdout",
     "output_type": "stream",
     "text": [
      "Training Step: 166  | total loss: \u001b[1m\u001b[32m0.69050\u001b[0m\u001b[0m | time: 43.587s\n\u001b[2K\r| Adam | epoch: 001 | loss: 0.69050 - acc: 0.5275 -- iter: 10624/20250\n"
     ]
    },
    {
     "name": "stdout",
     "output_type": "stream",
     "text": [
      "Training Step: 167  | total loss: \u001b[1m\u001b[32m0.69096\u001b[0m\u001b[0m | time: 43.833s\n\u001b[2K\r| Adam | epoch: 001 | loss: 0.69096 - acc: 0.5279 -- iter: 10688/20250\n"
     ]
    },
    {
     "name": "stdout",
     "output_type": "stream",
     "text": [
      "Training Step: 168  | total loss: \u001b[1m\u001b[32m0.69042\u001b[0m\u001b[0m | time: 44.076s\n\u001b[2K\r| Adam | epoch: 001 | loss: 0.69042 - acc: 0.5329 -- iter: 10752/20250\n"
     ]
    },
    {
     "name": "stdout",
     "output_type": "stream",
     "text": [
      "Training Step: 169  | total loss: \u001b[1m\u001b[32m0.69032\u001b[0m\u001b[0m | time: 44.321s\n\u001b[2K\r| Adam | epoch: 001 | loss: 0.69032 - acc: 0.5390 -- iter: 10816/20250\n"
     ]
    },
    {
     "name": "stdout",
     "output_type": "stream",
     "text": [
      "Training Step: 170  | total loss: \u001b[1m\u001b[32m0.68978\u001b[0m\u001b[0m | time: 44.563s\n\u001b[2K\r| Adam | epoch: 001 | loss: 0.68978 - acc: 0.5476 -- iter: 10880/20250\n"
     ]
    },
    {
     "name": "stdout",
     "output_type": "stream",
     "text": [
      "Training Step: 171  | total loss: \u001b[1m\u001b[32m0.68861\u001b[0m\u001b[0m | time: 44.810s\n\u001b[2K\r| Adam | epoch: 001 | loss: 0.68861 - acc: 0.5600 -- iter: 10944/20250\n"
     ]
    },
    {
     "name": "stdout",
     "output_type": "stream",
     "text": [
      "Training Step: 172  | total loss: \u001b[1m\u001b[32m0.68962\u001b[0m\u001b[0m | time: 45.059s\n\u001b[2K\r| Adam | epoch: 001 | loss: 0.68962 - acc: 0.5572 -- iter: 11008/20250\n"
     ]
    },
    {
     "name": "stdout",
     "output_type": "stream",
     "text": [
      "Training Step: 173  | total loss: \u001b[1m\u001b[32m0.68833\u001b[0m\u001b[0m | time: 45.304s\n\u001b[2K\r| Adam | epoch: 001 | loss: 0.68833 - acc: 0.5624 -- iter: 11072/20250\n"
     ]
    },
    {
     "name": "stdout",
     "output_type": "stream",
     "text": [
      "Training Step: 174  | total loss: \u001b[1m\u001b[32m0.68778\u001b[0m\u001b[0m | time: 45.551s\n\u001b[2K\r| Adam | epoch: 001 | loss: 0.68778 - acc: 0.5640 -- iter: 11136/20250\n"
     ]
    },
    {
     "name": "stdout",
     "output_type": "stream",
     "text": [
      "Training Step: 175  | total loss: \u001b[1m\u001b[32m0.67999\u001b[0m\u001b[0m | time: 45.807s\n\u001b[2K\r| Adam | epoch: 001 | loss: 0.67999 - acc: 0.5841 -- iter: 11200/20250\n"
     ]
    },
    {
     "name": "stdout",
     "output_type": "stream",
     "text": [
      "Training Step: 176  | total loss: \u001b[1m\u001b[32m0.68670\u001b[0m\u001b[0m | time: 46.060s\n\u001b[2K\r| Adam | epoch: 001 | loss: 0.68670 - acc: 0.5820 -- iter: 11264/20250\n"
     ]
    },
    {
     "name": "stdout",
     "output_type": "stream",
     "text": [
      "Training Step: 177  | total loss: \u001b[1m\u001b[32m0.69117\u001b[0m\u001b[0m | time: 46.304s\n\u001b[2K\r| Adam | epoch: 001 | loss: 0.69117 - acc: 0.5816 -- iter: 11328/20250\n"
     ]
    },
    {
     "name": "stdout",
     "output_type": "stream",
     "text": [
      "Training Step: 178  | total loss: \u001b[1m\u001b[32m0.69049\u001b[0m\u001b[0m | time: 46.549s\n\u001b[2K\r| Adam | epoch: 001 | loss: 0.69049 - acc: 0.5828 -- iter: 11392/20250\n"
     ]
    },
    {
     "name": "stdout",
     "output_type": "stream",
     "text": [
      "Training Step: 179  | total loss: \u001b[1m\u001b[32m0.70094\u001b[0m\u001b[0m | time: 46.798s\n\u001b[2K\r| Adam | epoch: 001 | loss: 0.70094 - acc: 0.5683 -- iter: 11456/20250\n"
     ]
    },
    {
     "name": "stdout",
     "output_type": "stream",
     "text": [
      "Training Step: 180  | total loss: \u001b[1m\u001b[32m0.70456\u001b[0m\u001b[0m | time: 47.043s\n\u001b[2K\r| Adam | epoch: 001 | loss: 0.70456 - acc: 0.5567 -- iter: 11520/20250\n"
     ]
    },
    {
     "name": "stdout",
     "output_type": "stream",
     "text": [
      "Training Step: 181  | total loss: \u001b[1m\u001b[32m0.70314\u001b[0m\u001b[0m | time: 47.287s\n\u001b[2K\r| Adam | epoch: 001 | loss: 0.70314 - acc: 0.5573 -- iter: 11584/20250\n"
     ]
    },
    {
     "name": "stdout",
     "output_type": "stream",
     "text": [
      "Training Step: 182  | total loss: \u001b[1m\u001b[32m0.70181\u001b[0m\u001b[0m | time: 47.526s\n\u001b[2K\r| Adam | epoch: 001 | loss: 0.70181 - acc: 0.5578 -- iter: 11648/20250\n"
     ]
    },
    {
     "name": "stdout",
     "output_type": "stream",
     "text": [
      "Training Step: 183  | total loss: \u001b[1m\u001b[32m0.70104\u001b[0m\u001b[0m | time: 47.768s\n\u001b[2K\r| Adam | epoch: 001 | loss: 0.70104 - acc: 0.5521 -- iter: 11712/20250\n"
     ]
    },
    {
     "name": "stdout",
     "output_type": "stream",
     "text": [
      "Training Step: 184  | total loss: \u001b[1m\u001b[32m0.69972\u001b[0m\u001b[0m | time: 48.018s\n\u001b[2K\r| Adam | epoch: 001 | loss: 0.69972 - acc: 0.5500 -- iter: 11776/20250\n"
     ]
    },
    {
     "name": "stdout",
     "output_type": "stream",
     "text": [
      "Training Step: 185  | total loss: \u001b[1m\u001b[32m0.69917\u001b[0m\u001b[0m | time: 48.273s\n\u001b[2K\r| Adam | epoch: 001 | loss: 0.69917 - acc: 0.5450 -- iter: 11840/20250\n"
     ]
    },
    {
     "name": "stdout",
     "output_type": "stream",
     "text": [
      "Training Step: 186  | total loss: \u001b[1m\u001b[32m0.70032\u001b[0m\u001b[0m | time: 48.522s\n\u001b[2K\r| Adam | epoch: 001 | loss: 0.70032 - acc: 0.5342 -- iter: 11904/20250\n"
     ]
    },
    {
     "name": "stdout",
     "output_type": "stream",
     "text": [
      "Training Step: 187  | total loss: \u001b[1m\u001b[32m0.69762\u001b[0m\u001b[0m | time: 48.776s\n\u001b[2K\r| Adam | epoch: 001 | loss: 0.69762 - acc: 0.5449 -- iter: 11968/20250\n"
     ]
    },
    {
     "name": "stdout",
     "output_type": "stream",
     "text": [
      "Training Step: 188  | total loss: \u001b[1m\u001b[32m0.69556\u001b[0m\u001b[0m | time: 49.021s\n\u001b[2K\r| Adam | epoch: 001 | loss: 0.69556 - acc: 0.5466 -- iter: 12032/20250\n"
     ]
    },
    {
     "name": "stdout",
     "output_type": "stream",
     "text": [
      "Training Step: 189  | total loss: \u001b[1m\u001b[32m0.69651\u001b[0m\u001b[0m | time: 49.264s\n\u001b[2K\r| Adam | epoch: 001 | loss: 0.69651 - acc: 0.5420 -- iter: 12096/20250\n"
     ]
    },
    {
     "name": "stdout",
     "output_type": "stream",
     "text": [
      "Training Step: 190  | total loss: \u001b[1m\u001b[32m0.70052\u001b[0m\u001b[0m | time: 49.512s\n\u001b[2K\r| Adam | epoch: 001 | loss: 0.70052 - acc: 0.5253 -- iter: 12160/20250\n"
     ]
    },
    {
     "name": "stdout",
     "output_type": "stream",
     "text": [
      "Training Step: 191  | total loss: \u001b[1m\u001b[32m0.69935\u001b[0m\u001b[0m | time: 49.756s\n\u001b[2K\r| Adam | epoch: 001 | loss: 0.69935 - acc: 0.5290 -- iter: 12224/20250\n"
     ]
    },
    {
     "name": "stdout",
     "output_type": "stream",
     "text": [
      "Training Step: 192  | total loss: \u001b[1m\u001b[32m0.69792\u001b[0m\u001b[0m | time: 49.996s\n\u001b[2K\r| Adam | epoch: 001 | loss: 0.69792 - acc: 0.5323 -- iter: 12288/20250\n"
     ]
    },
    {
     "name": "stdout",
     "output_type": "stream",
     "text": [
      "Training Step: 193  | total loss: \u001b[1m\u001b[32m0.69665\u001b[0m\u001b[0m | time: 50.247s\n\u001b[2K\r| Adam | epoch: 001 | loss: 0.69665 - acc: 0.5354 -- iter: 12352/20250\n"
     ]
    },
    {
     "name": "stdout",
     "output_type": "stream",
     "text": [
      "Training Step: 194  | total loss: \u001b[1m\u001b[32m0.69639\u001b[0m\u001b[0m | time: 50.497s\n\u001b[2K\r| Adam | epoch: 001 | loss: 0.69639 - acc: 0.5412 -- iter: 12416/20250\n"
     ]
    },
    {
     "name": "stdout",
     "output_type": "stream",
     "text": [
      "Training Step: 195  | total loss: \u001b[1m\u001b[32m0.69671\u001b[0m\u001b[0m | time: 50.744s\n\u001b[2K\r| Adam | epoch: 001 | loss: 0.69671 - acc: 0.5386 -- iter: 12480/20250\n"
     ]
    },
    {
     "name": "stdout",
     "output_type": "stream",
     "text": [
      "Training Step: 196  | total loss: \u001b[1m\u001b[32m0.69632\u001b[0m\u001b[0m | time: 50.985s\n\u001b[2K\r| Adam | epoch: 001 | loss: 0.69632 - acc: 0.5301 -- iter: 12544/20250\n"
     ]
    },
    {
     "name": "stdout",
     "output_type": "stream",
     "text": [
      "Training Step: 197  | total loss: \u001b[1m\u001b[32m0.69605\u001b[0m\u001b[0m | time: 51.225s\n\u001b[2K\r| Adam | epoch: 001 | loss: 0.69605 - acc: 0.5271 -- iter: 12608/20250\n"
     ]
    },
    {
     "name": "stdout",
     "output_type": "stream",
     "text": [
      "Training Step: 198  | total loss: \u001b[1m\u001b[32m0.69483\u001b[0m\u001b[0m | time: 51.470s\n\u001b[2K\r| Adam | epoch: 001 | loss: 0.69483 - acc: 0.5369 -- iter: 12672/20250\n"
     ]
    },
    {
     "name": "stdout",
     "output_type": "stream",
     "text": [
      "Training Step: 199  | total loss: \u001b[1m\u001b[32m0.69516\u001b[0m\u001b[0m | time: 51.717s\n\u001b[2K\r| Adam | epoch: 001 | loss: 0.69516 - acc: 0.5269 -- iter: 12736/20250\n"
     ]
    },
    {
     "name": "stdout",
     "output_type": "stream",
     "text": [
      "Training Step: 200  | total loss: \u001b[1m\u001b[32m0.69462\u001b[0m\u001b[0m | time: 51.961s\n\u001b[2K\r| Adam | epoch: 001 | loss: 0.69462 - acc: 0.5258 -- iter: 12800/20250\n"
     ]
    },
    {
     "name": "stdout",
     "output_type": "stream",
     "text": [
      "Training Step: 201  | total loss: \u001b[1m\u001b[32m0.69493\u001b[0m\u001b[0m | time: 52.207s\n\u001b[2K\r| Adam | epoch: 001 | loss: 0.69493 - acc: 0.5263 -- iter: 12864/20250\n"
     ]
    },
    {
     "name": "stdout",
     "output_type": "stream",
     "text": [
      "Training Step: 202  | total loss: \u001b[1m\u001b[32m0.69535\u001b[0m\u001b[0m | time: 52.448s\n\u001b[2K\r| Adam | epoch: 001 | loss: 0.69535 - acc: 0.5159 -- iter: 12928/20250\n"
     ]
    },
    {
     "name": "stdout",
     "output_type": "stream",
     "text": [
      "Training Step: 203  | total loss: \u001b[1m\u001b[32m0.69451\u001b[0m\u001b[0m | time: 52.690s\n\u001b[2K\r| Adam | epoch: 001 | loss: 0.69451 - acc: 0.5206 -- iter: 12992/20250\n"
     ]
    },
    {
     "name": "stdout",
     "output_type": "stream",
     "text": [
      "Training Step: 204  | total loss: \u001b[1m\u001b[32m0.69341\u001b[0m\u001b[0m | time: 52.936s\n\u001b[2K\r| Adam | epoch: 001 | loss: 0.69341 - acc: 0.5263 -- iter: 13056/20250\n"
     ]
    },
    {
     "name": "stdout",
     "output_type": "stream",
     "text": [
      "Training Step: 205  | total loss: \u001b[1m\u001b[32m0.69264\u001b[0m\u001b[0m | time: 53.192s\n\u001b[2K\r| Adam | epoch: 001 | loss: 0.69264 - acc: 0.5315 -- iter: 13120/20250\n"
     ]
    },
    {
     "name": "stdout",
     "output_type": "stream",
     "text": [
      "Training Step: 206  | total loss: \u001b[1m\u001b[32m0.69344\u001b[0m\u001b[0m | time: 53.454s\n\u001b[2K\r| Adam | epoch: 001 | loss: 0.69344 - acc: 0.5237 -- iter: 13184/20250\n"
     ]
    },
    {
     "name": "stdout",
     "output_type": "stream",
     "text": [
      "Training Step: 207  | total loss: \u001b[1m\u001b[32m0.69280\u001b[0m\u001b[0m | time: 53.698s\n\u001b[2K\r| Adam | epoch: 001 | loss: 0.69280 - acc: 0.5229 -- iter: 13248/20250\n"
     ]
    },
    {
     "name": "stdout",
     "output_type": "stream",
     "text": [
      "Training Step: 208  | total loss: \u001b[1m\u001b[32m0.69353\u001b[0m\u001b[0m | time: 53.949s\n\u001b[2K\r| Adam | epoch: 001 | loss: 0.69353 - acc: 0.5112 -- iter: 13312/20250\n"
     ]
    },
    {
     "name": "stdout",
     "output_type": "stream",
     "text": [
      "Training Step: 209  | total loss: \u001b[1m\u001b[32m0.69300\u001b[0m\u001b[0m | time: 54.182s\n\u001b[2K\r| Adam | epoch: 001 | loss: 0.69300 - acc: 0.5101 -- iter: 13376/20250\n"
     ]
    },
    {
     "name": "stdout",
     "output_type": "stream",
     "text": [
      "Training Step: 210  | total loss: \u001b[1m\u001b[32m0.69238\u001b[0m\u001b[0m | time: 54.422s\n\u001b[2K\r| Adam | epoch: 001 | loss: 0.69238 - acc: 0.5122 -- iter: 13440/20250\n"
     ]
    },
    {
     "name": "stdout",
     "output_type": "stream",
     "text": [
      "Training Step: 211  | total loss: \u001b[1m\u001b[32m0.69276\u001b[0m\u001b[0m | time: 54.664s\n\u001b[2K\r| Adam | epoch: 001 | loss: 0.69276 - acc: 0.5141 -- iter: 13504/20250\n"
     ]
    },
    {
     "name": "stdout",
     "output_type": "stream",
     "text": [
      "Training Step: 212  | total loss: \u001b[1m\u001b[32m0.69313\u001b[0m\u001b[0m | time: 54.908s\n\u001b[2K\r| Adam | epoch: 001 | loss: 0.69313 - acc: 0.5111 -- iter: 13568/20250\n"
     ]
    },
    {
     "name": "stdout",
     "output_type": "stream",
     "text": [
      "Training Step: 213  | total loss: \u001b[1m\u001b[32m0.69325\u001b[0m\u001b[0m | time: 55.158s\n\u001b[2K\r| Adam | epoch: 001 | loss: 0.69325 - acc: 0.5053 -- iter: 13632/20250\n"
     ]
    },
    {
     "name": "stdout",
     "output_type": "stream",
     "text": [
      "Training Step: 214  | total loss: \u001b[1m\u001b[32m0.69331\u001b[0m\u001b[0m | time: 55.411s\n\u001b[2K\r| Adam | epoch: 001 | loss: 0.69331 - acc: 0.5126 -- iter: 13696/20250\n"
     ]
    },
    {
     "name": "stdout",
     "output_type": "stream",
     "text": [
      "Training Step: 215  | total loss: \u001b[1m\u001b[32m0.69263\u001b[0m\u001b[0m | time: 55.668s\n\u001b[2K\r| Adam | epoch: 001 | loss: 0.69263 - acc: 0.5176 -- iter: 13760/20250\n"
     ]
    },
    {
     "name": "stdout",
     "output_type": "stream",
     "text": [
      "Training Step: 216  | total loss: \u001b[1m\u001b[32m0.69275\u001b[0m\u001b[0m | time: 55.922s\n\u001b[2K\r| Adam | epoch: 001 | loss: 0.69275 - acc: 0.5096 -- iter: 13824/20250\n"
     ]
    },
    {
     "name": "stdout",
     "output_type": "stream",
     "text": [
      "Training Step: 217  | total loss: \u001b[1m\u001b[32m0.69161\u001b[0m\u001b[0m | time: 56.166s\n\u001b[2K\r| Adam | epoch: 001 | loss: 0.69161 - acc: 0.5211 -- iter: 13888/20250\n"
     ]
    },
    {
     "name": "stdout",
     "output_type": "stream",
     "text": [
      "Training Step: 218  | total loss: \u001b[1m\u001b[32m0.69220\u001b[0m\u001b[0m | time: 56.405s\n\u001b[2K\r| Adam | epoch: 001 | loss: 0.69220 - acc: 0.5096 -- iter: 13952/20250\n"
     ]
    },
    {
     "name": "stdout",
     "output_type": "stream",
     "text": [
      "Training Step: 219  | total loss: \u001b[1m\u001b[32m0.69240\u001b[0m\u001b[0m | time: 56.646s\n\u001b[2K\r| Adam | epoch: 001 | loss: 0.69240 - acc: 0.5087 -- iter: 14016/20250\n"
     ]
    },
    {
     "name": "stdout",
     "output_type": "stream",
     "text": [
      "Training Step: 220  | total loss: \u001b[1m\u001b[32m0.69257\u001b[0m\u001b[0m | time: 56.891s\n\u001b[2K\r| Adam | epoch: 001 | loss: 0.69257 - acc: 0.5094 -- iter: 14080/20250\n"
     ]
    },
    {
     "name": "stdout",
     "output_type": "stream",
     "text": [
      "Training Step: 221  | total loss: \u001b[1m\u001b[32m0.69237\u001b[0m\u001b[0m | time: 57.135s\n\u001b[2K\r| Adam | epoch: 001 | loss: 0.69237 - acc: 0.5194 -- iter: 14144/20250\n"
     ]
    },
    {
     "name": "stdout",
     "output_type": "stream",
     "text": [
      "Training Step: 222  | total loss: \u001b[1m\u001b[32m0.69236\u001b[0m\u001b[0m | time: 57.377s\n\u001b[2K\r| Adam | epoch: 001 | loss: 0.69236 - acc: 0.5221 -- iter: 14208/20250\n"
     ]
    },
    {
     "name": "stdout",
     "output_type": "stream",
     "text": [
      "Training Step: 223  | total loss: \u001b[1m\u001b[32m0.69215\u001b[0m\u001b[0m | time: 57.626s\n\u001b[2K\r| Adam | epoch: 001 | loss: 0.69215 - acc: 0.5262 -- iter: 14272/20250\n"
     ]
    },
    {
     "name": "stdout",
     "output_type": "stream",
     "text": [
      "Training Step: 224  | total loss: \u001b[1m\u001b[32m0.69200\u001b[0m\u001b[0m | time: 57.887s\n\u001b[2K\r| Adam | epoch: 001 | loss: 0.69200 - acc: 0.5298 -- iter: 14336/20250\n"
     ]
    },
    {
     "name": "stdout",
     "output_type": "stream",
     "text": [
      "Training Step: 225  | total loss: \u001b[1m\u001b[32m0.69183\u001b[0m\u001b[0m | time: 58.129s\n\u001b[2K\r| Adam | epoch: 001 | loss: 0.69183 - acc: 0.5253 -- iter: 14400/20250\n"
     ]
    },
    {
     "name": "stdout",
     "output_type": "stream",
     "text": [
      "Training Step: 226  | total loss: \u001b[1m\u001b[32m0.69262\u001b[0m\u001b[0m | time: 58.380s\n\u001b[2K\r| Adam | epoch: 001 | loss: 0.69262 - acc: 0.5212 -- iter: 14464/20250\n"
     ]
    },
    {
     "name": "stdout",
     "output_type": "stream",
     "text": [
      "Training Step: 227  | total loss: \u001b[1m\u001b[32m0.69217\u001b[0m\u001b[0m | time: 58.623s\n\u001b[2K\r| Adam | epoch: 001 | loss: 0.69217 - acc: 0.5269 -- iter: 14528/20250\n"
     ]
    },
    {
     "name": "stdout",
     "output_type": "stream",
     "text": [
      "Training Step: 228  | total loss: \u001b[1m\u001b[32m0.69238\u001b[0m\u001b[0m | time: 58.866s\n\u001b[2K\r| Adam | epoch: 001 | loss: 0.69238 - acc: 0.5273 -- iter: 14592/20250\n"
     ]
    },
    {
     "name": "stdout",
     "output_type": "stream",
     "text": [
      "Training Step: 229  | total loss: \u001b[1m\u001b[32m0.69281\u001b[0m\u001b[0m | time: 59.115s\n\u001b[2K\r| Adam | epoch: 001 | loss: 0.69281 - acc: 0.5230 -- iter: 14656/20250\n"
     ]
    },
    {
     "name": "stdout",
     "output_type": "stream",
     "text": [
      "Training Step: 230  | total loss: \u001b[1m\u001b[32m0.69232\u001b[0m\u001b[0m | time: 59.358s\n\u001b[2K\r| Adam | epoch: 001 | loss: 0.69232 - acc: 0.5238 -- iter: 14720/20250\n"
     ]
    },
    {
     "name": "stdout",
     "output_type": "stream",
     "text": [
      "Training Step: 231  | total loss: \u001b[1m\u001b[32m0.69340\u001b[0m\u001b[0m | time: 59.605s\n\u001b[2K\r| Adam | epoch: 001 | loss: 0.69340 - acc: 0.5214 -- iter: 14784/20250\n"
     ]
    },
    {
     "name": "stdout",
     "output_type": "stream",
     "text": [
      "Training Step: 232  | total loss: \u001b[1m\u001b[32m0.69330\u001b[0m\u001b[0m | time: 59.842s\n\u001b[2K\r| Adam | epoch: 001 | loss: 0.69330 - acc: 0.5193 -- iter: 14848/20250\n"
     ]
    },
    {
     "name": "stdout",
     "output_type": "stream",
     "text": [
      "Training Step: 233  | total loss: \u001b[1m\u001b[32m0.69346\u001b[0m\u001b[0m | time: 60.081s\n\u001b[2K\r| Adam | epoch: 001 | loss: 0.69346 - acc: 0.5127 -- iter: 14912/20250\n"
     ]
    },
    {
     "name": "stdout",
     "output_type": "stream",
     "text": [
      "Training Step: 234  | total loss: \u001b[1m\u001b[32m0.69201\u001b[0m\u001b[0m | time: 60.323s\n\u001b[2K\r| Adam | epoch: 001 | loss: 0.69201 - acc: 0.5255 -- iter: 14976/20250\n"
     ]
    },
    {
     "name": "stdout",
     "output_type": "stream",
     "text": [
      "Training Step: 235  | total loss: \u001b[1m\u001b[32m0.69197\u001b[0m\u001b[0m | time: 60.565s\n\u001b[2K\r| Adam | epoch: 001 | loss: 0.69197 - acc: 0.5307 -- iter: 15040/20250\n"
     ]
    },
    {
     "name": "stdout",
     "output_type": "stream",
     "text": [
      "Training Step: 236  | total loss: \u001b[1m\u001b[32m0.69278\u001b[0m\u001b[0m | time: 60.818s\n\u001b[2K\r| Adam | epoch: 001 | loss: 0.69278 - acc: 0.5245 -- iter: 15104/20250\n"
     ]
    },
    {
     "name": "stdout",
     "output_type": "stream",
     "text": [
      "Training Step: 237  | total loss: \u001b[1m\u001b[32m0.69198\u001b[0m\u001b[0m | time: 61.059s\n\u001b[2K\r| Adam | epoch: 001 | loss: 0.69198 - acc: 0.5283 -- iter: 15168/20250\n"
     ]
    },
    {
     "name": "stdout",
     "output_type": "stream",
     "text": [
      "Training Step: 238  | total loss: \u001b[1m\u001b[32m0.69141\u001b[0m\u001b[0m | time: 61.305s\n\u001b[2K\r| Adam | epoch: 001 | loss: 0.69141 - acc: 0.5271 -- iter: 15232/20250\n"
     ]
    },
    {
     "name": "stdout",
     "output_type": "stream",
     "text": [
      "Training Step: 239  | total loss: \u001b[1m\u001b[32m0.69283\u001b[0m\u001b[0m | time: 61.550s\n\u001b[2K\r| Adam | epoch: 001 | loss: 0.69283 - acc: 0.5259 -- iter: 15296/20250\n"
     ]
    },
    {
     "name": "stdout",
     "output_type": "stream",
     "text": [
      "Training Step: 240  | total loss: \u001b[1m\u001b[32m0.69426\u001b[0m\u001b[0m | time: 61.791s\n\u001b[2K\r| Adam | epoch: 001 | loss: 0.69426 - acc: 0.5186 -- iter: 15360/20250\n"
     ]
    },
    {
     "name": "stdout",
     "output_type": "stream",
     "text": [
      "Training Step: 241  | total loss: \u001b[1m\u001b[32m0.69520\u001b[0m\u001b[0m | time: 62.032s\n\u001b[2K\r| Adam | epoch: 001 | loss: 0.69520 - acc: 0.5121 -- iter: 15424/20250\n"
     ]
    },
    {
     "name": "stdout",
     "output_type": "stream",
     "text": [
      "Training Step: 242  | total loss: \u001b[1m\u001b[32m0.69491\u001b[0m\u001b[0m | time: 62.280s\n\u001b[2K\r| Adam | epoch: 001 | loss: 0.69491 - acc: 0.5171 -- iter: 15488/20250\n"
     ]
    },
    {
     "name": "stdout",
     "output_type": "stream",
     "text": [
      "Training Step: 243  | total loss: \u001b[1m\u001b[32m0.69377\u001b[0m\u001b[0m | time: 62.537s\n\u001b[2K\r| Adam | epoch: 001 | loss: 0.69377 - acc: 0.5217 -- iter: 15552/20250\n"
     ]
    },
    {
     "name": "stdout",
     "output_type": "stream",
     "text": [
      "Training Step: 244  | total loss: \u001b[1m\u001b[32m0.69435\u001b[0m\u001b[0m | time: 62.781s\n\u001b[2K\r| Adam | epoch: 001 | loss: 0.69435 - acc: 0.5164 -- iter: 15616/20250\n"
     ]
    },
    {
     "name": "stdout",
     "output_type": "stream",
     "text": [
      "Training Step: 245  | total loss: \u001b[1m\u001b[32m0.69357\u001b[0m\u001b[0m | time: 63.031s\n\u001b[2K\r| Adam | epoch: 001 | loss: 0.69357 - acc: 0.5179 -- iter: 15680/20250\n"
     ]
    },
    {
     "name": "stdout",
     "output_type": "stream",
     "text": [
      "Training Step: 246  | total loss: \u001b[1m\u001b[32m0.69306\u001b[0m\u001b[0m | time: 63.290s\n\u001b[2K\r| Adam | epoch: 001 | loss: 0.69306 - acc: 0.5192 -- iter: 15744/20250\n"
     ]
    },
    {
     "name": "stdout",
     "output_type": "stream",
     "text": [
      "Training Step: 247  | total loss: \u001b[1m\u001b[32m0.69295\u001b[0m\u001b[0m | time: 63.537s\n\u001b[2K\r| Adam | epoch: 001 | loss: 0.69295 - acc: 0.5220 -- iter: 15808/20250\n"
     ]
    },
    {
     "name": "stdout",
     "output_type": "stream",
     "text": [
      "Training Step: 248  | total loss: \u001b[1m\u001b[32m0.69264\u001b[0m\u001b[0m | time: 63.780s\n\u001b[2K\r| Adam | epoch: 001 | loss: 0.69264 - acc: 0.5182 -- iter: 15872/20250\n"
     ]
    },
    {
     "name": "stdout",
     "output_type": "stream",
     "text": [
      "Training Step: 249  | total loss: \u001b[1m\u001b[32m0.69235\u001b[0m\u001b[0m | time: 64.018s\n\u001b[2K\r| Adam | epoch: 001 | loss: 0.69235 - acc: 0.5195 -- iter: 15936/20250\n"
     ]
    },
    {
     "name": "stdout",
     "output_type": "stream",
     "text": [
      "Training Step: 250  | total loss: \u001b[1m\u001b[32m0.69236\u001b[0m\u001b[0m | time: 64.266s\n\u001b[2K\r| Adam | epoch: 001 | loss: 0.69236 - acc: 0.5191 -- iter: 16000/20250\n"
     ]
    },
    {
     "name": "stdout",
     "output_type": "stream",
     "text": [
      "Training Step: 251  | total loss: \u001b[1m\u001b[32m0.69200\u001b[0m\u001b[0m | time: 64.517s\n\u001b[2K\r| Adam | epoch: 001 | loss: 0.69200 - acc: 0.5157 -- iter: 16064/20250\n"
     ]
    },
    {
     "name": "stdout",
     "output_type": "stream",
     "text": [
      "Training Step: 252  | total loss: \u001b[1m\u001b[32m0.69207\u001b[0m\u001b[0m | time: 64.764s\n\u001b[2K\r| Adam | epoch: 001 | loss: 0.69207 - acc: 0.5125 -- iter: 16128/20250\n"
     ]
    },
    {
     "name": "stdout",
     "output_type": "stream",
     "text": [
      "Training Step: 253  | total loss: \u001b[1m\u001b[32m0.69184\u001b[0m\u001b[0m | time: 65.018s\n\u001b[2K\r| Adam | epoch: 001 | loss: 0.69184 - acc: 0.5160 -- iter: 16192/20250\n"
     ]
    },
    {
     "name": "stdout",
     "output_type": "stream",
     "text": [
      "Training Step: 254  | total loss: \u001b[1m\u001b[32m0.69227\u001b[0m\u001b[0m | time: 65.270s\n\u001b[2K\r| Adam | epoch: 001 | loss: 0.69227 - acc: 0.5112 -- iter: 16256/20250\n"
     ]
    },
    {
     "name": "stdout",
     "output_type": "stream",
     "text": [
      "Training Step: 255  | total loss: \u001b[1m\u001b[32m0.69229\u001b[0m\u001b[0m | time: 65.522s\n\u001b[2K\r| Adam | epoch: 001 | loss: 0.69229 - acc: 0.5070 -- iter: 16320/20250\n"
     ]
    },
    {
     "name": "stdout",
     "output_type": "stream",
     "text": [
      "Training Step: 256  | total loss: \u001b[1m\u001b[32m0.69324\u001b[0m\u001b[0m | time: 65.775s\n\u001b[2K\r| Adam | epoch: 001 | loss: 0.69324 - acc: 0.5047 -- iter: 16384/20250\n"
     ]
    },
    {
     "name": "stdout",
     "output_type": "stream",
     "text": [
      "Training Step: 257  | total loss: \u001b[1m\u001b[32m0.69392\u001b[0m\u001b[0m | time: 66.034s\n\u001b[2K\r| Adam | epoch: 001 | loss: 0.69392 - acc: 0.4980 -- iter: 16448/20250\n"
     ]
    },
    {
     "name": "stdout",
     "output_type": "stream",
     "text": [
      "Training Step: 258  | total loss: \u001b[1m\u001b[32m0.69313\u001b[0m\u001b[0m | time: 66.278s\n\u001b[2K\r| Adam | epoch: 001 | loss: 0.69313 - acc: 0.5029 -- iter: 16512/20250\n"
     ]
    },
    {
     "name": "stdout",
     "output_type": "stream",
     "text": [
      "Training Step: 259  | total loss: \u001b[1m\u001b[32m0.69211\u001b[0m\u001b[0m | time: 66.520s\n\u001b[2K\r| Adam | epoch: 001 | loss: 0.69211 - acc: 0.5135 -- iter: 16576/20250\n"
     ]
    },
    {
     "name": "stdout",
     "output_type": "stream",
     "text": [
      "Training Step: 260  | total loss: \u001b[1m\u001b[32m0.69089\u001b[0m\u001b[0m | time: 66.763s\n\u001b[2K\r| Adam | epoch: 001 | loss: 0.69089 - acc: 0.5231 -- iter: 16640/20250\n"
     ]
    },
    {
     "name": "stdout",
     "output_type": "stream",
     "text": [
      "Training Step: 261  | total loss: \u001b[1m\u001b[32m0.69139\u001b[0m\u001b[0m | time: 67.012s\n\u001b[2K\r| Adam | epoch: 001 | loss: 0.69139 - acc: 0.5239 -- iter: 16704/20250\n"
     ]
    },
    {
     "name": "stdout",
     "output_type": "stream",
     "text": [
      "Training Step: 262  | total loss: \u001b[1m\u001b[32m0.69204\u001b[0m\u001b[0m | time: 67.257s\n\u001b[2K\r| Adam | epoch: 001 | loss: 0.69204 - acc: 0.5215 -- iter: 16768/20250\n"
     ]
    },
    {
     "name": "stdout",
     "output_type": "stream",
     "text": [
      "Training Step: 263  | total loss: \u001b[1m\u001b[32m0.69161\u001b[0m\u001b[0m | time: 67.502s\n\u001b[2K\r| Adam | epoch: 001 | loss: 0.69161 - acc: 0.5225 -- iter: 16832/20250\n"
     ]
    },
    {
     "name": "stdout",
     "output_type": "stream",
     "text": [
      "Training Step: 264  | total loss: \u001b[1m\u001b[32m0.69213\u001b[0m\u001b[0m | time: 67.753s\n\u001b[2K\r| Adam | epoch: 001 | loss: 0.69213 - acc: 0.5109 -- iter: 16896/20250\n"
     ]
    },
    {
     "name": "stdout",
     "output_type": "stream",
     "text": [
      "Training Step: 265  | total loss: \u001b[1m\u001b[32m0.69181\u001b[0m\u001b[0m | time: 68.009s\n\u001b[2K\r| Adam | epoch: 001 | loss: 0.69181 - acc: 0.5114 -- iter: 16960/20250\n"
     ]
    },
    {
     "name": "stdout",
     "output_type": "stream",
     "text": [
      "Training Step: 266  | total loss: \u001b[1m\u001b[32m0.69239\u001b[0m\u001b[0m | time: 68.256s\n\u001b[2K\r| Adam | epoch: 001 | loss: 0.69239 - acc: 0.5118 -- iter: 17024/20250\n"
     ]
    },
    {
     "name": "stdout",
     "output_type": "stream",
     "text": [
      "Training Step: 267  | total loss: \u001b[1m\u001b[32m0.69260\u001b[0m\u001b[0m | time: 68.503s\n\u001b[2K\r| Adam | epoch: 001 | loss: 0.69260 - acc: 0.5090 -- iter: 17088/20250\n"
     ]
    },
    {
     "name": "stdout",
     "output_type": "stream",
     "text": [
      "Training Step: 268  | total loss: \u001b[1m\u001b[32m0.69275\u001b[0m\u001b[0m | time: 68.748s\n\u001b[2K\r| Adam | epoch: 001 | loss: 0.69275 - acc: 0.5066 -- iter: 17152/20250\n"
     ]
    },
    {
     "name": "stdout",
     "output_type": "stream",
     "text": [
      "Training Step: 269  | total loss: \u001b[1m\u001b[32m0.69174\u001b[0m\u001b[0m | time: 68.996s\n\u001b[2K\r| Adam | epoch: 001 | loss: 0.69174 - acc: 0.5184 -- iter: 17216/20250\n"
     ]
    },
    {
     "name": "stdout",
     "output_type": "stream",
     "text": [
      "Training Step: 270  | total loss: \u001b[1m\u001b[32m0.69135\u001b[0m\u001b[0m | time: 69.239s\n\u001b[2K\r| Adam | epoch: 001 | loss: 0.69135 - acc: 0.5150 -- iter: 17280/20250\n"
     ]
    },
    {
     "name": "stdout",
     "output_type": "stream",
     "text": [
      "Training Step: 271  | total loss: \u001b[1m\u001b[32m0.69109\u001b[0m\u001b[0m | time: 69.491s\n\u001b[2K\r| Adam | epoch: 001 | loss: 0.69109 - acc: 0.5135 -- iter: 17344/20250\n"
     ]
    },
    {
     "name": "stdout",
     "output_type": "stream",
     "text": [
      "Training Step: 272  | total loss: \u001b[1m\u001b[32m0.69045\u001b[0m\u001b[0m | time: 69.746s\n\u001b[2K\r| Adam | epoch: 001 | loss: 0.69045 - acc: 0.5153 -- iter: 17408/20250\n"
     ]
    },
    {
     "name": "stdout",
     "output_type": "stream",
     "text": [
      "Training Step: 273  | total loss: \u001b[1m\u001b[32m0.69030\u001b[0m\u001b[0m | time: 69.983s\n\u001b[2K\r| Adam | epoch: 001 | loss: 0.69030 - acc: 0.5169 -- iter: 17472/20250\n"
     ]
    },
    {
     "name": "stdout",
     "output_type": "stream",
     "text": [
      "Training Step: 274  | total loss: \u001b[1m\u001b[32m0.69121\u001b[0m\u001b[0m | time: 70.246s\n\u001b[2K\r| Adam | epoch: 001 | loss: 0.69121 - acc: 0.5074 -- iter: 17536/20250\n"
     ]
    },
    {
     "name": "stdout",
     "output_type": "stream",
     "text": [
      "Training Step: 275  | total loss: \u001b[1m\u001b[32m0.69084\u001b[0m\u001b[0m | time: 70.510s\n\u001b[2K\r| Adam | epoch: 001 | loss: 0.69084 - acc: 0.5098 -- iter: 17600/20250\n"
     ]
    },
    {
     "name": "stdout",
     "output_type": "stream",
     "text": [
      "Training Step: 276  | total loss: \u001b[1m\u001b[32m0.69045\u001b[0m\u001b[0m | time: 70.757s\n\u001b[2K\r| Adam | epoch: 001 | loss: 0.69045 - acc: 0.5025 -- iter: 17664/20250\n"
     ]
    },
    {
     "name": "stdout",
     "output_type": "stream",
     "text": [
      "Training Step: 277  | total loss: \u001b[1m\u001b[32m0.69086\u001b[0m\u001b[0m | time: 71.012s\n\u001b[2K\r| Adam | epoch: 001 | loss: 0.69086 - acc: 0.5054 -- iter: 17728/20250\n"
     ]
    },
    {
     "name": "stdout",
     "output_type": "stream",
     "text": [
      "Training Step: 278  | total loss: \u001b[1m\u001b[32m0.69039\u001b[0m\u001b[0m | time: 71.253s\n\u001b[2K\r| Adam | epoch: 001 | loss: 0.69039 - acc: 0.5189 -- iter: 17792/20250\n"
     ]
    },
    {
     "name": "stdout",
     "output_type": "stream",
     "text": [
      "Training Step: 279  | total loss: \u001b[1m\u001b[32m0.68992\u001b[0m\u001b[0m | time: 71.501s\n\u001b[2K\r| Adam | epoch: 001 | loss: 0.68992 - acc: 0.5249 -- iter: 17856/20250\n"
     ]
    },
    {
     "name": "stdout",
     "output_type": "stream",
     "text": [
      "Training Step: 280  | total loss: \u001b[1m\u001b[32m0.68870\u001b[0m\u001b[0m | time: 71.749s\n\u001b[2K\r| Adam | epoch: 001 | loss: 0.68870 - acc: 0.5317 -- iter: 17920/20250\n"
     ]
    },
    {
     "name": "stdout",
     "output_type": "stream",
     "text": [
      "Training Step: 281  | total loss: \u001b[1m\u001b[32m0.68757\u001b[0m\u001b[0m | time: 71.992s\n\u001b[2K\r| Adam | epoch: 001 | loss: 0.68757 - acc: 0.5395 -- iter: 17984/20250\n"
     ]
    },
    {
     "name": "stdout",
     "output_type": "stream",
     "text": [
      "Training Step: 282  | total loss: \u001b[1m\u001b[32m0.68690\u001b[0m\u001b[0m | time: 72.260s\n\u001b[2K\r| Adam | epoch: 001 | loss: 0.68690 - acc: 0.5434 -- iter: 18048/20250\n"
     ]
    },
    {
     "name": "stdout",
     "output_type": "stream",
     "text": [
      "Training Step: 283  | total loss: \u001b[1m\u001b[32m0.68631\u001b[0m\u001b[0m | time: 72.502s\n\u001b[2K\r| Adam | epoch: 001 | loss: 0.68631 - acc: 0.5547 -- iter: 18112/20250\n"
     ]
    },
    {
     "name": "stdout",
     "output_type": "stream",
     "text": [
      "Training Step: 284  | total loss: \u001b[1m\u001b[32m0.68625\u001b[0m\u001b[0m | time: 72.751s\n\u001b[2K\r| Adam | epoch: 001 | loss: 0.68625 - acc: 0.5586 -- iter: 18176/20250\n"
     ]
    },
    {
     "name": "stdout",
     "output_type": "stream",
     "text": [
      "Training Step: 285  | total loss: \u001b[1m\u001b[32m0.68686\u001b[0m\u001b[0m | time: 73.004s\n\u001b[2K\r| Adam | epoch: 001 | loss: 0.68686 - acc: 0.5543 -- iter: 18240/20250\n"
     ]
    },
    {
     "name": "stdout",
     "output_type": "stream",
     "text": [
      "Training Step: 286  | total loss: \u001b[1m\u001b[32m0.68767\u001b[0m\u001b[0m | time: 73.248s\n\u001b[2K\r| Adam | epoch: 001 | loss: 0.68767 - acc: 0.5551 -- iter: 18304/20250\n"
     ]
    },
    {
     "name": "stdout",
     "output_type": "stream",
     "text": [
      "Training Step: 287  | total loss: \u001b[1m\u001b[32m0.68674\u001b[0m\u001b[0m | time: 73.509s\n\u001b[2K\r| Adam | epoch: 001 | loss: 0.68674 - acc: 0.5558 -- iter: 18368/20250\n"
     ]
    },
    {
     "name": "stdout",
     "output_type": "stream",
     "text": [
      "Training Step: 288  | total loss: \u001b[1m\u001b[32m0.68410\u001b[0m\u001b[0m | time: 73.753s\n\u001b[2K\r| Adam | epoch: 001 | loss: 0.68410 - acc: 0.5674 -- iter: 18432/20250\n"
     ]
    },
    {
     "name": "stdout",
     "output_type": "stream",
     "text": [
      "Training Step: 289  | total loss: \u001b[1m\u001b[32m0.67768\u001b[0m\u001b[0m | time: 73.994s\n\u001b[2K\r| Adam | epoch: 001 | loss: 0.67768 - acc: 0.5857 -- iter: 18496/20250\n"
     ]
    },
    {
     "name": "stdout",
     "output_type": "stream",
     "text": [
      "Training Step: 290  | total loss: \u001b[1m\u001b[32m0.67456\u001b[0m\u001b[0m | time: 74.237s\n\u001b[2K\r| Adam | epoch: 001 | loss: 0.67456 - acc: 0.5943 -- iter: 18560/20250\n"
     ]
    },
    {
     "name": "stdout",
     "output_type": "stream",
     "text": [
      "Training Step: 291  | total loss: \u001b[1m\u001b[32m0.66994\u001b[0m\u001b[0m | time: 74.485s\n\u001b[2K\r| Adam | epoch: 001 | loss: 0.66994 - acc: 0.6021 -- iter: 18624/20250\n"
     ]
    },
    {
     "name": "stdout",
     "output_type": "stream",
     "text": [
      "Training Step: 292  | total loss: \u001b[1m\u001b[32m0.66135\u001b[0m\u001b[0m | time: 74.730s\n\u001b[2K\r| Adam | epoch: 001 | loss: 0.66135 - acc: 0.6153 -- iter: 18688/20250\n"
     ]
    },
    {
     "name": "stdout",
     "output_type": "stream",
     "text": [
      "Training Step: 293  | total loss: \u001b[1m\u001b[32m0.66495\u001b[0m\u001b[0m | time: 74.969s\n\u001b[2K\r| Adam | epoch: 001 | loss: 0.66495 - acc: 0.6210 -- iter: 18752/20250\n"
     ]
    },
    {
     "name": "stdout",
     "output_type": "stream",
     "text": [
      "Training Step: 294  | total loss: \u001b[1m\u001b[32m0.66359\u001b[0m\u001b[0m | time: 75.226s\n\u001b[2K\r| Adam | epoch: 001 | loss: 0.66359 - acc: 0.6276 -- iter: 18816/20250\n"
     ]
    },
    {
     "name": "stdout",
     "output_type": "stream",
     "text": [
      "Training Step: 295  | total loss: \u001b[1m\u001b[32m0.67756\u001b[0m\u001b[0m | time: 75.475s\n\u001b[2K\r| Adam | epoch: 001 | loss: 0.67756 - acc: 0.6180 -- iter: 18880/20250\n"
     ]
    },
    {
     "name": "stdout",
     "output_type": "stream",
     "text": [
      "Training Step: 296  | total loss: \u001b[1m\u001b[32m0.68378\u001b[0m\u001b[0m | time: 75.723s\n\u001b[2K\r| Adam | epoch: 001 | loss: 0.68378 - acc: 0.6124 -- iter: 18944/20250\n"
     ]
    },
    {
     "name": "stdout",
     "output_type": "stream",
     "text": [
      "Training Step: 297  | total loss: \u001b[1m\u001b[32m0.68493\u001b[0m\u001b[0m | time: 75.958s\n\u001b[2K\r| Adam | epoch: 001 | loss: 0.68493 - acc: 0.6043 -- iter: 19008/20250\n"
     ]
    },
    {
     "name": "stdout",
     "output_type": "stream",
     "text": [
      "Training Step: 298  | total loss: \u001b[1m\u001b[32m0.68563\u001b[0m\u001b[0m | time: 76.212s\n\u001b[2K\r| Adam | epoch: 001 | loss: 0.68563 - acc: 0.5986 -- iter: 19072/20250\n"
     ]
    },
    {
     "name": "stdout",
     "output_type": "stream",
     "text": [
      "Training Step: 299  | total loss: \u001b[1m\u001b[32m0.68653\u001b[0m\u001b[0m | time: 76.458s\n\u001b[2K\r| Adam | epoch: 001 | loss: 0.68653 - acc: 0.5903 -- iter: 19136/20250\n"
     ]
    },
    {
     "name": "stdout",
     "output_type": "stream",
     "text": [
      "Training Step: 300  | total loss: \u001b[1m\u001b[32m0.68968\u001b[0m\u001b[0m | time: 76.715s\n\u001b[2K\r| Adam | epoch: 001 | loss: 0.68968 - acc: 0.5828 -- iter: 19200/20250\n"
     ]
    },
    {
     "name": "stdout",
     "output_type": "stream",
     "text": [
      "Training Step: 301  | total loss: \u001b[1m\u001b[32m0.68572\u001b[0m\u001b[0m | time: 76.963s\n\u001b[2K\r| Adam | epoch: 001 | loss: 0.68572 - acc: 0.5855 -- iter: 19264/20250\n"
     ]
    },
    {
     "name": "stdout",
     "output_type": "stream",
     "text": [
      "Training Step: 302  | total loss: \u001b[1m\u001b[32m0.68270\u001b[0m\u001b[0m | time: 77.212s\n\u001b[2K\r| Adam | epoch: 001 | loss: 0.68270 - acc: 0.5847 -- iter: 19328/20250\n"
     ]
    },
    {
     "name": "stdout",
     "output_type": "stream",
     "text": [
      "Training Step: 303  | total loss: \u001b[1m\u001b[32m0.68549\u001b[0m\u001b[0m | time: 77.466s\n\u001b[2K\r| Adam | epoch: 001 | loss: 0.68549 - acc: 0.5747 -- iter: 19392/20250\n"
     ]
    },
    {
     "name": "stdout",
     "output_type": "stream",
     "text": [
      "Training Step: 304  | total loss: \u001b[1m\u001b[32m0.68628\u001b[0m\u001b[0m | time: 77.725s\n\u001b[2K\r| Adam | epoch: 001 | loss: 0.68628 - acc: 0.5782 -- iter: 19456/20250\n"
     ]
    },
    {
     "name": "stdout",
     "output_type": "stream",
     "text": [
      "Training Step: 305  | total loss: \u001b[1m\u001b[32m0.68498\u001b[0m\u001b[0m | time: 77.976s\n\u001b[2K\r| Adam | epoch: 001 | loss: 0.68498 - acc: 0.5766 -- iter: 19520/20250\n"
     ]
    },
    {
     "name": "stdout",
     "output_type": "stream",
     "text": [
      "Training Step: 306  | total loss: \u001b[1m\u001b[32m0.68444\u001b[0m\u001b[0m | time: 78.230s\n\u001b[2K\r| Adam | epoch: 001 | loss: 0.68444 - acc: 0.5814 -- iter: 19584/20250\n"
     ]
    },
    {
     "name": "stdout",
     "output_type": "stream",
     "text": [
      "Training Step: 307  | total loss: \u001b[1m\u001b[32m0.68667\u001b[0m\u001b[0m | time: 78.476s\n\u001b[2K\r| Adam | epoch: 001 | loss: 0.68667 - acc: 0.5780 -- iter: 19648/20250\n"
     ]
    },
    {
     "name": "stdout",
     "output_type": "stream",
     "text": [
      "Training Step: 308  | total loss: \u001b[1m\u001b[32m0.68708\u001b[0m\u001b[0m | time: 78.719s\n\u001b[2K\r| Adam | epoch: 001 | loss: 0.68708 - acc: 0.5780 -- iter: 19712/20250\n"
     ]
    },
    {
     "name": "stdout",
     "output_type": "stream",
     "text": [
      "Training Step: 309  | total loss: \u001b[1m\u001b[32m0.68523\u001b[0m\u001b[0m | time: 78.959s\n\u001b[2K\r| Adam | epoch: 001 | loss: 0.68523 - acc: 0.5843 -- iter: 19776/20250\n"
     ]
    },
    {
     "name": "stdout",
     "output_type": "stream",
     "text": [
      "Training Step: 310  | total loss: \u001b[1m\u001b[32m0.68150\u001b[0m\u001b[0m | time: 79.206s\n\u001b[2K\r| Adam | epoch: 001 | loss: 0.68150 - acc: 0.5961 -- iter: 19840/20250\n"
     ]
    },
    {
     "name": "stdout",
     "output_type": "stream",
     "text": [
      "Training Step: 311  | total loss: \u001b[1m\u001b[32m0.67818\u001b[0m\u001b[0m | time: 79.453s\n\u001b[2K\r| Adam | epoch: 001 | loss: 0.67818 - acc: 0.6037 -- iter: 19904/20250\n"
     ]
    },
    {
     "name": "stdout",
     "output_type": "stream",
     "text": [
      "Training Step: 312  | total loss: \u001b[1m\u001b[32m0.68015\u001b[0m\u001b[0m | time: 79.696s\n\u001b[2K\r| Adam | epoch: 001 | loss: 0.68015 - acc: 0.5996 -- iter: 19968/20250\n"
     ]
    },
    {
     "name": "stdout",
     "output_type": "stream",
     "text": [
      "Training Step: 313  | total loss: \u001b[1m\u001b[32m0.68128\u001b[0m\u001b[0m | time: 79.954s\n\u001b[2K\r| Adam | epoch: 001 | loss: 0.68128 - acc: 0.5912 -- iter: 20032/20250\n"
     ]
    },
    {
     "name": "stdout",
     "output_type": "stream",
     "text": [
      "Training Step: 314  | total loss: \u001b[1m\u001b[32m0.68088\u001b[0m\u001b[0m | time: 80.218s\n\u001b[2K\r| Adam | epoch: 001 | loss: 0.68088 - acc: 0.5883 -- iter: 20096/20250\n"
     ]
    },
    {
     "name": "stdout",
     "output_type": "stream",
     "text": [
      "Training Step: 315  | total loss: \u001b[1m\u001b[32m0.67805\u001b[0m\u001b[0m | time: 80.456s\n\u001b[2K\r| Adam | epoch: 001 | loss: 0.67805 - acc: 0.5920 -- iter: 20160/20250\n"
     ]
    },
    {
     "name": "stdout",
     "output_type": "stream",
     "text": [
      "Training Step: 316  | total loss: \u001b[1m\u001b[32m0.68196\u001b[0m\u001b[0m | time: 80.704s\n\u001b[2K\r| Adam | epoch: 001 | loss: 0.68196 - acc: 0.5844 -- iter: 20224/20250\n"
     ]
    },
    {
     "name": "stdout",
     "output_type": "stream",
     "text": [
      "Training Step: 317  | total loss: \u001b[1m\u001b[32m0.68345\u001b[0m\u001b[0m | time: 83.047s\n\u001b[2K\r| Adam | epoch: 001 | loss: 0.68345 - acc: 0.5790 | val_loss: 0.66612 - val_acc: 0.5996 -- iter: 20250/20250\n--\n"
     ]
    },
    {
     "name": "stdout",
     "output_type": "stream",
     "text": [
      "Training Step: 318  | total loss: \u001b[1m\u001b[32m0.67903\u001b[0m\u001b[0m | time: 0.237s\n\u001b[2K\r| Adam | epoch: 002 | loss: 0.67903 - acc: 0.5865 -- iter: 00064/20250\n"
     ]
    },
    {
     "name": "stdout",
     "output_type": "stream",
     "text": [
      "Training Step: 319  | total loss: \u001b[1m\u001b[32m0.67490\u001b[0m\u001b[0m | time: 0.488s\n\u001b[2K\r| Adam | epoch: 002 | loss: 0.67490 - acc: 0.5971 -- iter: 00128/20250\n"
     ]
    },
    {
     "name": "stdout",
     "output_type": "stream",
     "text": [
      "Training Step: 320  | total loss: \u001b[1m\u001b[32m0.67359\u001b[0m\u001b[0m | time: 0.739s\n\u001b[2K\r| Adam | epoch: 002 | loss: 0.67359 - acc: 0.5968 -- iter: 00192/20250\n"
     ]
    },
    {
     "name": "stdout",
     "output_type": "stream",
     "text": [
      "Training Step: 321  | total loss: \u001b[1m\u001b[32m0.66714\u001b[0m\u001b[0m | time: 0.987s\n\u001b[2K\r| Adam | epoch: 002 | loss: 0.66714 - acc: 0.6105 -- iter: 00256/20250\n"
     ]
    },
    {
     "name": "stdout",
     "output_type": "stream",
     "text": [
      "Training Step: 322  | total loss: \u001b[1m\u001b[32m0.66663\u001b[0m\u001b[0m | time: 1.253s\n\u001b[2K\r| Adam | epoch: 002 | loss: 0.66663 - acc: 0.6057 -- iter: 00320/20250\n"
     ]
    },
    {
     "name": "stdout",
     "output_type": "stream",
     "text": [
      "Training Step: 323  | total loss: \u001b[1m\u001b[32m0.66188\u001b[0m\u001b[0m | time: 1.507s\n\u001b[2K\r| Adam | epoch: 002 | loss: 0.66188 - acc: 0.6155 -- iter: 00384/20250\n"
     ]
    },
    {
     "name": "stdout",
     "output_type": "stream",
     "text": [
      "Training Step: 324  | total loss: \u001b[1m\u001b[32m0.65748\u001b[0m\u001b[0m | time: 1.766s\n\u001b[2K\r| Adam | epoch: 002 | loss: 0.65748 - acc: 0.6211 -- iter: 00448/20250\n"
     ]
    },
    {
     "name": "stdout",
     "output_type": "stream",
     "text": [
      "Training Step: 325  | total loss: \u001b[1m\u001b[32m0.64696\u001b[0m\u001b[0m | time: 2.022s\n\u001b[2K\r| Adam | epoch: 002 | loss: 0.64696 - acc: 0.6356 -- iter: 00512/20250\n"
     ]
    },
    {
     "name": "stdout",
     "output_type": "stream",
     "text": [
      "Training Step: 326  | total loss: \u001b[1m\u001b[32m0.64417\u001b[0m\u001b[0m | time: 2.296s\n\u001b[2K\r| Adam | epoch: 002 | loss: 0.64417 - acc: 0.6423 -- iter: 00576/20250\n"
     ]
    },
    {
     "name": "stdout",
     "output_type": "stream",
     "text": [
      "Training Step: 327  | total loss: \u001b[1m\u001b[32m0.64911\u001b[0m\u001b[0m | time: 2.539s\n\u001b[2K\r| Adam | epoch: 002 | loss: 0.64911 - acc: 0.6375 -- iter: 00640/20250\n"
     ]
    },
    {
     "name": "stdout",
     "output_type": "stream",
     "text": [
      "Training Step: 328  | total loss: \u001b[1m\u001b[32m0.64472\u001b[0m\u001b[0m | time: 2.788s\n\u001b[2K\r| Adam | epoch: 002 | loss: 0.64472 - acc: 0.6472 -- iter: 00704/20250\n"
     ]
    },
    {
     "name": "stdout",
     "output_type": "stream",
     "text": [
      "Training Step: 329  | total loss: \u001b[1m\u001b[32m0.64017\u001b[0m\u001b[0m | time: 3.043s\n\u001b[2K\r| Adam | epoch: 002 | loss: 0.64017 - acc: 0.6590 -- iter: 00768/20250\n"
     ]
    },
    {
     "name": "stdout",
     "output_type": "stream",
     "text": [
      "Training Step: 330  | total loss: \u001b[1m\u001b[32m0.63721\u001b[0m\u001b[0m | time: 3.294s\n\u001b[2K\r| Adam | epoch: 002 | loss: 0.63721 - acc: 0.6618 -- iter: 00832/20250\n"
     ]
    },
    {
     "name": "stdout",
     "output_type": "stream",
     "text": [
      "Training Step: 331  | total loss: \u001b[1m\u001b[32m0.62740\u001b[0m\u001b[0m | time: 3.546s\n\u001b[2K\r| Adam | epoch: 002 | loss: 0.62740 - acc: 0.6707 -- iter: 00896/20250\n"
     ]
    },
    {
     "name": "stdout",
     "output_type": "stream",
     "text": [
      "Training Step: 332  | total loss: \u001b[1m\u001b[32m0.63370\u001b[0m\u001b[0m | time: 3.805s\n\u001b[2K\r| Adam | epoch: 002 | loss: 0.63370 - acc: 0.6645 -- iter: 00960/20250\n"
     ]
    },
    {
     "name": "stdout",
     "output_type": "stream",
     "text": [
      "Training Step: 333  | total loss: \u001b[1m\u001b[32m0.63332\u001b[0m\u001b[0m | time: 4.039s\n\u001b[2K\r| Adam | epoch: 002 | loss: 0.63332 - acc: 0.6653 -- iter: 01024/20250\n"
     ]
    },
    {
     "name": "stdout",
     "output_type": "stream",
     "text": [
      "Training Step: 334  | total loss: \u001b[1m\u001b[32m0.64343\u001b[0m\u001b[0m | time: 4.295s\n\u001b[2K\r| Adam | epoch: 002 | loss: 0.64343 - acc: 0.6566 -- iter: 01088/20250\n"
     ]
    },
    {
     "name": "stdout",
     "output_type": "stream",
     "text": [
      "Training Step: 335  | total loss: \u001b[1m\u001b[32m0.64993\u001b[0m\u001b[0m | time: 4.555s\n\u001b[2K\r| Adam | epoch: 002 | loss: 0.64993 - acc: 0.6503 -- iter: 01152/20250\n"
     ]
    },
    {
     "name": "stdout",
     "output_type": "stream",
     "text": [
      "Training Step: 336  | total loss: \u001b[1m\u001b[32m0.66030\u001b[0m\u001b[0m | time: 4.801s\n\u001b[2K\r| Adam | epoch: 002 | loss: 0.66030 - acc: 0.6384 -- iter: 01216/20250\n"
     ]
    },
    {
     "name": "stdout",
     "output_type": "stream",
     "text": [
      "Training Step: 337  | total loss: \u001b[1m\u001b[32m0.66556\u001b[0m\u001b[0m | time: 5.043s\n\u001b[2K\r| Adam | epoch: 002 | loss: 0.66556 - acc: 0.6339 -- iter: 01280/20250\n"
     ]
    },
    {
     "name": "stdout",
     "output_type": "stream",
     "text": [
      "Training Step: 338  | total loss: \u001b[1m\u001b[32m0.68141\u001b[0m\u001b[0m | time: 5.292s\n\u001b[2K\r| Adam | epoch: 002 | loss: 0.68141 - acc: 0.6127 -- iter: 01344/20250\n"
     ]
    },
    {
     "name": "stdout",
     "output_type": "stream",
     "text": [
      "Training Step: 339  | total loss: \u001b[1m\u001b[32m0.68588\u001b[0m\u001b[0m | time: 5.535s\n\u001b[2K\r| Adam | epoch: 002 | loss: 0.68588 - acc: 0.6030 -- iter: 01408/20250\n"
     ]
    },
    {
     "name": "stdout",
     "output_type": "stream",
     "text": [
      "Training Step: 340  | total loss: \u001b[1m\u001b[32m0.68391\u001b[0m\u001b[0m | time: 5.780s\n\u001b[2K\r| Adam | epoch: 002 | loss: 0.68391 - acc: 0.6021 -- iter: 01472/20250\n"
     ]
    },
    {
     "name": "stdout",
     "output_type": "stream",
     "text": [
      "Training Step: 341  | total loss: \u001b[1m\u001b[32m0.68580\u001b[0m\u001b[0m | time: 6.029s\n\u001b[2K\r| Adam | epoch: 002 | loss: 0.68580 - acc: 0.5919 -- iter: 01536/20250\n"
     ]
    },
    {
     "name": "stdout",
     "output_type": "stream",
     "text": [
      "Training Step: 342  | total loss: \u001b[1m\u001b[32m0.68470\u001b[0m\u001b[0m | time: 6.274s\n\u001b[2K\r| Adam | epoch: 002 | loss: 0.68470 - acc: 0.5889 -- iter: 01600/20250\n"
     ]
    },
    {
     "name": "stdout",
     "output_type": "stream",
     "text": [
      "Training Step: 343  | total loss: \u001b[1m\u001b[32m0.68233\u001b[0m\u001b[0m | time: 6.519s\n\u001b[2K\r| Adam | epoch: 002 | loss: 0.68233 - acc: 0.5878 -- iter: 01664/20250\n"
     ]
    },
    {
     "name": "stdout",
     "output_type": "stream",
     "text": [
      "Training Step: 344  | total loss: \u001b[1m\u001b[32m0.68515\u001b[0m\u001b[0m | time: 6.790s\n\u001b[2K\r| Adam | epoch: 002 | loss: 0.68515 - acc: 0.5806 -- iter: 01728/20250\n"
     ]
    },
    {
     "name": "stdout",
     "output_type": "stream",
     "text": [
      "Training Step: 345  | total loss: \u001b[1m\u001b[32m0.68657\u001b[0m\u001b[0m | time: 7.051s\n\u001b[2K\r| Adam | epoch: 002 | loss: 0.68657 - acc: 0.5726 -- iter: 01792/20250\n"
     ]
    },
    {
     "name": "stdout",
     "output_type": "stream",
     "text": [
      "Training Step: 346  | total loss: \u001b[1m\u001b[32m0.68531\u001b[0m\u001b[0m | time: 7.301s\n\u001b[2K\r| Adam | epoch: 002 | loss: 0.68531 - acc: 0.5700 -- iter: 01856/20250\n"
     ]
    },
    {
     "name": "stdout",
     "output_type": "stream",
     "text": [
      "Training Step: 347  | total loss: \u001b[1m\u001b[32m0.68578\u001b[0m\u001b[0m | time: 7.543s\n\u001b[2K\r| Adam | epoch: 002 | loss: 0.68578 - acc: 0.5708 -- iter: 01920/20250\n"
     ]
    },
    {
     "name": "stdout",
     "output_type": "stream",
     "text": [
      "Training Step: 348  | total loss: \u001b[1m\u001b[32m0.68839\u001b[0m\u001b[0m | time: 7.787s\n\u001b[2K\r| Adam | epoch: 002 | loss: 0.68839 - acc: 0.5622 -- iter: 01984/20250\n"
     ]
    },
    {
     "name": "stdout",
     "output_type": "stream",
     "text": [
      "Training Step: 349  | total loss: \u001b[1m\u001b[32m0.69124\u001b[0m\u001b[0m | time: 8.033s\n\u001b[2K\r| Adam | epoch: 002 | loss: 0.69124 - acc: 0.5513 -- iter: 02048/20250\n"
     ]
    },
    {
     "name": "stdout",
     "output_type": "stream",
     "text": [
      "Training Step: 350  | total loss: \u001b[1m\u001b[32m0.69122\u001b[0m\u001b[0m | time: 8.288s\n\u001b[2K\r| Adam | epoch: 002 | loss: 0.69122 - acc: 0.5461 -- iter: 02112/20250\n"
     ]
    },
    {
     "name": "stdout",
     "output_type": "stream",
     "text": [
      "Training Step: 351  | total loss: \u001b[1m\u001b[32m0.68946\u001b[0m\u001b[0m | time: 8.539s\n\u001b[2K\r| Adam | epoch: 002 | loss: 0.68946 - acc: 0.5478 -- iter: 02176/20250\n"
     ]
    },
    {
     "name": "stdout",
     "output_type": "stream",
     "text": [
      "Training Step: 352  | total loss: \u001b[1m\u001b[32m0.68962\u001b[0m\u001b[0m | time: 8.788s\n\u001b[2K\r| Adam | epoch: 002 | loss: 0.68962 - acc: 0.5461 -- iter: 02240/20250\n"
     ]
    },
    {
     "name": "stdout",
     "output_type": "stream",
     "text": [
      "Training Step: 353  | total loss: \u001b[1m\u001b[32m0.69037\u001b[0m\u001b[0m | time: 9.032s\n\u001b[2K\r| Adam | epoch: 002 | loss: 0.69037 - acc: 0.5446 -- iter: 02304/20250\n"
     ]
    },
    {
     "name": "stdout",
     "output_type": "stream",
     "text": [
      "Training Step: 354  | total loss: \u001b[1m\u001b[32m0.68548\u001b[0m\u001b[0m | time: 9.286s\n\u001b[2K\r| Adam | epoch: 002 | loss: 0.68548 - acc: 0.5558 -- iter: 02368/20250\n"
     ]
    },
    {
     "name": "stdout",
     "output_type": "stream",
     "text": [
      "Training Step: 355  | total loss: \u001b[1m\u001b[32m0.68467\u001b[0m\u001b[0m | time: 9.545s\n\u001b[2K\r| Adam | epoch: 002 | loss: 0.68467 - acc: 0.5565 -- iter: 02432/20250\n"
     ]
    },
    {
     "name": "stdout",
     "output_type": "stream",
     "text": [
      "Training Step: 356  | total loss: \u001b[1m\u001b[32m0.68658\u001b[0m\u001b[0m | time: 9.791s\n\u001b[2K\r| Adam | epoch: 002 | loss: 0.68658 - acc: 0.5539 -- iter: 02496/20250\n"
     ]
    },
    {
     "name": "stdout",
     "output_type": "stream",
     "text": [
      "Training Step: 357  | total loss: \u001b[1m\u001b[32m0.68829\u001b[0m\u001b[0m | time: 10.042s\n\u001b[2K\r| Adam | epoch: 002 | loss: 0.68829 - acc: 0.5501 -- iter: 02560/20250\n"
     ]
    },
    {
     "name": "stdout",
     "output_type": "stream",
     "text": [
      "Training Step: 358  | total loss: \u001b[1m\u001b[32m0.68877\u001b[0m\u001b[0m | time: 10.292s\n\u001b[2K\r| Adam | epoch: 002 | loss: 0.68877 - acc: 0.5467 -- iter: 02624/20250\n"
     ]
    },
    {
     "name": "stdout",
     "output_type": "stream",
     "text": [
      "Training Step: 359  | total loss: \u001b[1m\u001b[32m0.68598\u001b[0m\u001b[0m | time: 10.545s\n\u001b[2K\r| Adam | epoch: 002 | loss: 0.68598 - acc: 0.5561 -- iter: 02688/20250\n"
     ]
    },
    {
     "name": "stdout",
     "output_type": "stream",
     "text": [
      "Training Step: 360  | total loss: \u001b[1m\u001b[32m0.68418\u001b[0m\u001b[0m | time: 10.794s\n\u001b[2K\r| Adam | epoch: 002 | loss: 0.68418 - acc: 0.5551 -- iter: 02752/20250\n"
     ]
    },
    {
     "name": "stdout",
     "output_type": "stream",
     "text": [
      "Training Step: 361  | total loss: \u001b[1m\u001b[32m0.68617\u001b[0m\u001b[0m | time: 11.037s\n\u001b[2K\r| Adam | epoch: 002 | loss: 0.68617 - acc: 0.5481 -- iter: 02816/20250\n"
     ]
    },
    {
     "name": "stdout",
     "output_type": "stream",
     "text": [
      "Training Step: 362  | total loss: \u001b[1m\u001b[32m0.68838\u001b[0m\u001b[0m | time: 11.288s\n\u001b[2K\r| Adam | epoch: 002 | loss: 0.68838 - acc: 0.5370 -- iter: 02880/20250\n"
     ]
    },
    {
     "name": "stdout",
     "output_type": "stream",
     "text": [
      "Training Step: 363  | total loss: \u001b[1m\u001b[32m0.68617\u001b[0m\u001b[0m | time: 11.541s\n\u001b[2K\r| Adam | epoch: 002 | loss: 0.68617 - acc: 0.5333 -- iter: 02944/20250\n"
     ]
    },
    {
     "name": "stdout",
     "output_type": "stream",
     "text": [
      "Training Step: 364  | total loss: \u001b[1m\u001b[32m0.68673\u001b[0m\u001b[0m | time: 11.840s\n\u001b[2K\r| Adam | epoch: 002 | loss: 0.68673 - acc: 0.5315 -- iter: 03008/20250\n"
     ]
    },
    {
     "name": "stdout",
     "output_type": "stream",
     "text": [
      "Training Step: 365  | total loss: \u001b[1m\u001b[32m0.68571\u001b[0m\u001b[0m | time: 12.106s\n\u001b[2K\r| Adam | epoch: 002 | loss: 0.68571 - acc: 0.5346 -- iter: 03072/20250\n"
     ]
    },
    {
     "name": "stdout",
     "output_type": "stream",
     "text": [
      "Training Step: 366  | total loss: \u001b[1m\u001b[32m0.68425\u001b[0m\u001b[0m | time: 12.353s\n\u001b[2K\r| Adam | epoch: 002 | loss: 0.68425 - acc: 0.5421 -- iter: 03136/20250\n"
     ]
    },
    {
     "name": "stdout",
     "output_type": "stream",
     "text": [
      "Training Step: 367  | total loss: \u001b[1m\u001b[32m0.68631\u001b[0m\u001b[0m | time: 12.613s\n\u001b[2K\r| Adam | epoch: 002 | loss: 0.68631 - acc: 0.5395 -- iter: 03200/20250\n"
     ]
    },
    {
     "name": "stdout",
     "output_type": "stream",
     "text": [
      "Training Step: 368  | total loss: \u001b[1m\u001b[32m0.68792\u001b[0m\u001b[0m | time: 12.858s\n\u001b[2K\r| Adam | epoch: 002 | loss: 0.68792 - acc: 0.5418 -- iter: 03264/20250\n"
     ]
    },
    {
     "name": "stdout",
     "output_type": "stream",
     "text": [
      "Training Step: 369  | total loss: \u001b[1m\u001b[32m0.69509\u001b[0m\u001b[0m | time: 13.117s\n\u001b[2K\r| Adam | epoch: 002 | loss: 0.69509 - acc: 0.5220 -- iter: 03328/20250\n"
     ]
    },
    {
     "name": "stdout",
     "output_type": "stream",
     "text": [
      "Training Step: 370  | total loss: \u001b[1m\u001b[32m0.69673\u001b[0m\u001b[0m | time: 13.361s\n\u001b[2K\r| Adam | epoch: 002 | loss: 0.69673 - acc: 0.5166 -- iter: 03392/20250\n"
     ]
    },
    {
     "name": "stdout",
     "output_type": "stream",
     "text": [
      "Training Step: 371  | total loss: \u001b[1m\u001b[32m0.69475\u001b[0m\u001b[0m | time: 13.615s\n\u001b[2K\r| Adam | epoch: 002 | loss: 0.69475 - acc: 0.5181 -- iter: 03456/20250\n"
     ]
    },
    {
     "name": "stdout",
     "output_type": "stream",
     "text": [
      "Training Step: 372  | total loss: \u001b[1m\u001b[32m0.69410\u001b[0m\u001b[0m | time: 13.869s\n\u001b[2K\r| Adam | epoch: 002 | loss: 0.69410 - acc: 0.5194 -- iter: 03520/20250\n"
     ]
    },
    {
     "name": "stdout",
     "output_type": "stream",
     "text": [
      "Training Step: 373  | total loss: \u001b[1m\u001b[32m0.69579\u001b[0m\u001b[0m | time: 14.141s\n\u001b[2K\r| Adam | epoch: 002 | loss: 0.69579 - acc: 0.5128 -- iter: 03584/20250\n"
     ]
    },
    {
     "name": "stdout",
     "output_type": "stream",
     "text": [
      "Training Step: 374  | total loss: \u001b[1m\u001b[32m0.69433\u001b[0m\u001b[0m | time: 14.413s\n\u001b[2K\r| Adam | epoch: 002 | loss: 0.69433 - acc: 0.5131 -- iter: 03648/20250\n"
     ]
    },
    {
     "name": "stdout",
     "output_type": "stream",
     "text": [
      "Training Step: 375  | total loss: \u001b[1m\u001b[32m0.69310\u001b[0m\u001b[0m | time: 14.656s\n\u001b[2K\r| Adam | epoch: 002 | loss: 0.69310 - acc: 0.5180 -- iter: 03712/20250\n"
     ]
    },
    {
     "name": "stdout",
     "output_type": "stream",
     "text": [
      "Training Step: 376  | total loss: \u001b[1m\u001b[32m0.69339\u001b[0m\u001b[0m | time: 14.903s\n\u001b[2K\r| Adam | epoch: 002 | loss: 0.69339 - acc: 0.5115 -- iter: 03776/20250\n"
     ]
    },
    {
     "name": "stdout",
     "output_type": "stream",
     "text": [
      "Training Step: 377  | total loss: \u001b[1m\u001b[32m0.69254\u001b[0m\u001b[0m | time: 15.149s\n\u001b[2K\r| Adam | epoch: 002 | loss: 0.69254 - acc: 0.5135 -- iter: 03840/20250\n"
     ]
    },
    {
     "name": "stdout",
     "output_type": "stream",
     "text": [
      "Training Step: 378  | total loss: \u001b[1m\u001b[32m0.69380\u001b[0m\u001b[0m | time: 15.397s\n\u001b[2K\r| Adam | epoch: 002 | loss: 0.69380 - acc: 0.5168 -- iter: 03904/20250\n"
     ]
    },
    {
     "name": "stdout",
     "output_type": "stream",
     "text": [
      "Training Step: 379  | total loss: \u001b[1m\u001b[32m0.69146\u001b[0m\u001b[0m | time: 15.647s\n\u001b[2K\r| Adam | epoch: 002 | loss: 0.69146 - acc: 0.5230 -- iter: 03968/20250\n"
     ]
    },
    {
     "name": "stdout",
     "output_type": "stream",
     "text": [
      "Training Step: 380  | total loss: \u001b[1m\u001b[32m0.69002\u001b[0m\u001b[0m | time: 15.890s\n\u001b[2K\r| Adam | epoch: 002 | loss: 0.69002 - acc: 0.5207 -- iter: 04032/20250\n"
     ]
    },
    {
     "name": "stdout",
     "output_type": "stream",
     "text": [
      "Training Step: 381  | total loss: \u001b[1m\u001b[32m0.68834\u001b[0m\u001b[0m | time: 16.136s\n\u001b[2K\r| Adam | epoch: 002 | loss: 0.68834 - acc: 0.5217 -- iter: 04096/20250\n"
     ]
    },
    {
     "name": "stdout",
     "output_type": "stream",
     "text": [
      "Training Step: 382  | total loss: \u001b[1m\u001b[32m0.68901\u001b[0m\u001b[0m | time: 16.387s\n\u001b[2K\r| Adam | epoch: 002 | loss: 0.68901 - acc: 0.5196 -- iter: 04160/20250\n"
     ]
    },
    {
     "name": "stdout",
     "output_type": "stream",
     "text": [
      "Training Step: 383  | total loss: \u001b[1m\u001b[32m0.69148\u001b[0m\u001b[0m | time: 16.638s\n\u001b[2K\r| Adam | epoch: 002 | loss: 0.69148 - acc: 0.5113 -- iter: 04224/20250\n"
     ]
    },
    {
     "name": "stdout",
     "output_type": "stream",
     "text": [
      "Training Step: 384  | total loss: \u001b[1m\u001b[32m0.69006\u001b[0m\u001b[0m | time: 16.923s\n\u001b[2K\r| Adam | epoch: 002 | loss: 0.69006 - acc: 0.5102 -- iter: 04288/20250\n"
     ]
    },
    {
     "name": "stdout",
     "output_type": "stream",
     "text": [
      "Training Step: 385  | total loss: \u001b[1m\u001b[32m0.68849\u001b[0m\u001b[0m | time: 17.165s\n\u001b[2K\r| Adam | epoch: 002 | loss: 0.68849 - acc: 0.5123 -- iter: 04352/20250\n"
     ]
    },
    {
     "name": "stdout",
     "output_type": "stream",
     "text": [
      "Training Step: 386  | total loss: \u001b[1m\u001b[32m0.68637\u001b[0m\u001b[0m | time: 17.419s\n\u001b[2K\r| Adam | epoch: 002 | loss: 0.68637 - acc: 0.5205 -- iter: 04416/20250\n"
     ]
    },
    {
     "name": "stdout",
     "output_type": "stream",
     "text": [
      "Training Step: 387  | total loss: \u001b[1m\u001b[32m0.68585\u001b[0m\u001b[0m | time: 17.668s\n\u001b[2K\r| Adam | epoch: 002 | loss: 0.68585 - acc: 0.5184 -- iter: 04480/20250\n"
     ]
    },
    {
     "name": "stdout",
     "output_type": "stream",
     "text": [
      "Training Step: 388  | total loss: \u001b[1m\u001b[32m0.68505\u001b[0m\u001b[0m | time: 17.914s\n\u001b[2K\r| Adam | epoch: 002 | loss: 0.68505 - acc: 0.5181 -- iter: 04544/20250\n"
     ]
    },
    {
     "name": "stdout",
     "output_type": "stream",
     "text": [
      "Training Step: 389  | total loss: \u001b[1m\u001b[32m0.69022\u001b[0m\u001b[0m | time: 18.165s\n\u001b[2K\r| Adam | epoch: 002 | loss: 0.69022 - acc: 0.4991 -- iter: 04608/20250\n"
     ]
    },
    {
     "name": "stdout",
     "output_type": "stream",
     "text": [
      "Training Step: 390  | total loss: \u001b[1m\u001b[32m0.69115\u001b[0m\u001b[0m | time: 18.419s\n\u001b[2K\r| Adam | epoch: 002 | loss: 0.69115 - acc: 0.5008 -- iter: 04672/20250\n"
     ]
    },
    {
     "name": "stdout",
     "output_type": "stream",
     "text": [
      "Training Step: 391  | total loss: \u001b[1m\u001b[32m0.69017\u001b[0m\u001b[0m | time: 18.669s\n\u001b[2K\r| Adam | epoch: 002 | loss: 0.69017 - acc: 0.5070 -- iter: 04736/20250\n"
     ]
    },
    {
     "name": "stdout",
     "output_type": "stream",
     "text": [
      "Training Step: 392  | total loss: \u001b[1m\u001b[32m0.68732\u001b[0m\u001b[0m | time: 18.922s\n\u001b[2K\r| Adam | epoch: 002 | loss: 0.68732 - acc: 0.5156 -- iter: 04800/20250\n"
     ]
    },
    {
     "name": "stdout",
     "output_type": "stream",
     "text": [
      "Training Step: 393  | total loss: \u001b[1m\u001b[32m0.68573\u001b[0m\u001b[0m | time: 19.192s\n\u001b[2K\r| Adam | epoch: 002 | loss: 0.68573 - acc: 0.5219 -- iter: 04864/20250\n"
     ]
    },
    {
     "name": "stdout",
     "output_type": "stream",
     "text": [
      "Training Step: 394  | total loss: \u001b[1m\u001b[32m0.68293\u001b[0m\u001b[0m | time: 19.453s\n\u001b[2K\r| Adam | epoch: 002 | loss: 0.68293 - acc: 0.5353 -- iter: 04928/20250\n"
     ]
    },
    {
     "name": "stdout",
     "output_type": "stream",
     "text": [
      "Training Step: 395  | total loss: \u001b[1m\u001b[32m0.68122\u001b[0m\u001b[0m | time: 19.703s\n\u001b[2K\r| Adam | epoch: 002 | loss: 0.68122 - acc: 0.5349 -- iter: 04992/20250\n"
     ]
    },
    {
     "name": "stdout",
     "output_type": "stream",
     "text": [
      "Training Step: 396  | total loss: \u001b[1m\u001b[32m0.67902\u001b[0m\u001b[0m | time: 19.963s\n\u001b[2K\r| Adam | epoch: 002 | loss: 0.67902 - acc: 0.5424 -- iter: 05056/20250\n"
     ]
    },
    {
     "name": "stdout",
     "output_type": "stream",
     "text": [
      "Training Step: 397  | total loss: \u001b[1m\u001b[32m0.68047\u001b[0m\u001b[0m | time: 20.209s\n\u001b[2K\r| Adam | epoch: 002 | loss: 0.68047 - acc: 0.5350 -- iter: 05120/20250\n"
     ]
    },
    {
     "name": "stdout",
     "output_type": "stream",
     "text": [
      "Training Step: 398  | total loss: \u001b[1m\u001b[32m0.67944\u001b[0m\u001b[0m | time: 20.451s\n\u001b[2K\r| Adam | epoch: 002 | loss: 0.67944 - acc: 0.5409 -- iter: 05184/20250\n"
     ]
    },
    {
     "name": "stdout",
     "output_type": "stream",
     "text": [
      "Training Step: 399  | total loss: \u001b[1m\u001b[32m0.67768\u001b[0m\u001b[0m | time: 20.710s\n\u001b[2K\r| Adam | epoch: 002 | loss: 0.67768 - acc: 0.5383 -- iter: 05248/20250\n"
     ]
    },
    {
     "name": "stdout",
     "output_type": "stream",
     "text": [
      "Training Step: 400  | total loss: \u001b[1m\u001b[32m0.67763\u001b[0m\u001b[0m | time: 20.963s\n\u001b[2K\r| Adam | epoch: 002 | loss: 0.67763 - acc: 0.5439 -- iter: 05312/20250\n"
     ]
    },
    {
     "name": "stdout",
     "output_type": "stream",
     "text": [
      "Training Step: 401  | total loss: \u001b[1m\u001b[32m0.67835\u001b[0m\u001b[0m | time: 21.209s\n\u001b[2K\r| Adam | epoch: 002 | loss: 0.67835 - acc: 0.5489 -- iter: 05376/20250\n"
     ]
    },
    {
     "name": "stdout",
     "output_type": "stream",
     "text": [
      "Training Step: 402  | total loss: \u001b[1m\u001b[32m0.67898\u001b[0m\u001b[0m | time: 21.477s\n\u001b[2K\r| Adam | epoch: 002 | loss: 0.67898 - acc: 0.5471 -- iter: 05440/20250\n"
     ]
    },
    {
     "name": "stdout",
     "output_type": "stream",
     "text": [
      "Training Step: 403  | total loss: \u001b[1m\u001b[32m0.68101\u001b[0m\u001b[0m | time: 21.731s\n\u001b[2K\r| Adam | epoch: 002 | loss: 0.68101 - acc: 0.5408 -- iter: 05504/20250\n"
     ]
    },
    {
     "name": "stdout",
     "output_type": "stream",
     "text": [
      "Training Step: 404  | total loss: \u001b[1m\u001b[32m0.67980\u001b[0m\u001b[0m | time: 21.979s\n\u001b[2K\r| Adam | epoch: 002 | loss: 0.67980 - acc: 0.5477 -- iter: 05568/20250\n"
     ]
    },
    {
     "name": "stdout",
     "output_type": "stream",
     "text": [
      "Training Step: 405  | total loss: \u001b[1m\u001b[32m0.67989\u001b[0m\u001b[0m | time: 22.227s\n\u001b[2K\r| Adam | epoch: 002 | loss: 0.67989 - acc: 0.5445 -- iter: 05632/20250\n"
     ]
    },
    {
     "name": "stdout",
     "output_type": "stream",
     "text": [
      "Training Step: 406  | total loss: \u001b[1m\u001b[32m0.67741\u001b[0m\u001b[0m | time: 22.469s\n\u001b[2K\r| Adam | epoch: 002 | loss: 0.67741 - acc: 0.5510 -- iter: 05696/20250\n"
     ]
    },
    {
     "name": "stdout",
     "output_type": "stream",
     "text": [
      "Training Step: 407  | total loss: \u001b[1m\u001b[32m0.67906\u001b[0m\u001b[0m | time: 22.719s\n\u001b[2K\r| Adam | epoch: 002 | loss: 0.67906 - acc: 0.5521 -- iter: 05760/20250\n"
     ]
    },
    {
     "name": "stdout",
     "output_type": "stream",
     "text": [
      "Training Step: 408  | total loss: \u001b[1m\u001b[32m0.67723\u001b[0m\u001b[0m | time: 22.967s\n\u001b[2K\r| Adam | epoch: 002 | loss: 0.67723 - acc: 0.5547 -- iter: 05824/20250\n"
     ]
    },
    {
     "name": "stdout",
     "output_type": "stream",
     "text": [
      "Training Step: 409  | total loss: \u001b[1m\u001b[32m0.67873\u001b[0m\u001b[0m | time: 23.216s\n\u001b[2K\r| Adam | epoch: 002 | loss: 0.67873 - acc: 0.5477 -- iter: 05888/20250\n"
     ]
    },
    {
     "name": "stdout",
     "output_type": "stream",
     "text": [
      "Training Step: 410  | total loss: \u001b[1m\u001b[32m0.67676\u001b[0m\u001b[0m | time: 23.473s\n\u001b[2K\r| Adam | epoch: 002 | loss: 0.67676 - acc: 0.5492 -- iter: 05952/20250\n"
     ]
    },
    {
     "name": "stdout",
     "output_type": "stream",
     "text": [
      "Training Step: 411  | total loss: \u001b[1m\u001b[32m0.67892\u001b[0m\u001b[0m | time: 23.719s\n\u001b[2K\r| Adam | epoch: 002 | loss: 0.67892 - acc: 0.5411 -- iter: 06016/20250\n"
     ]
    },
    {
     "name": "stdout",
     "output_type": "stream",
     "text": [
      "Training Step: 412  | total loss: \u001b[1m\u001b[32m0.67718\u001b[0m\u001b[0m | time: 24.000s\n\u001b[2K\r| Adam | epoch: 002 | loss: 0.67718 - acc: 0.5355 -- iter: 06080/20250\n"
     ]
    },
    {
     "name": "stdout",
     "output_type": "stream",
     "text": [
      "Training Step: 413  | total loss: \u001b[1m\u001b[32m0.68087\u001b[0m\u001b[0m | time: 24.252s\n\u001b[2K\r| Adam | epoch: 002 | loss: 0.68087 - acc: 0.5366 -- iter: 06144/20250\n"
     ]
    },
    {
     "name": "stdout",
     "output_type": "stream",
     "text": [
      "Training Step: 414  | total loss: \u001b[1m\u001b[32m0.68141\u001b[0m\u001b[0m | time: 24.585s\n\u001b[2K\r| Adam | epoch: 002 | loss: 0.68141 - acc: 0.5486 -- iter: 06208/20250\n"
     ]
    },
    {
     "name": "stdout",
     "output_type": "stream",
     "text": [
      "Training Step: 415  | total loss: \u001b[1m\u001b[32m0.68146\u001b[0m\u001b[0m | time: 24.828s\n\u001b[2K\r| Adam | epoch: 002 | loss: 0.68146 - acc: 0.5390 -- iter: 06272/20250\n"
     ]
    },
    {
     "name": "stdout",
     "output_type": "stream",
     "text": [
      "Training Step: 416  | total loss: \u001b[1m\u001b[32m0.68087\u001b[0m\u001b[0m | time: 25.081s\n\u001b[2K\r| Adam | epoch: 002 | loss: 0.68087 - acc: 0.5336 -- iter: 06336/20250\n"
     ]
    },
    {
     "name": "stdout",
     "output_type": "stream",
     "text": [
      "Training Step: 417  | total loss: \u001b[1m\u001b[32m0.67840\u001b[0m\u001b[0m | time: 25.344s\n\u001b[2K\r| Adam | epoch: 002 | loss: 0.67840 - acc: 0.5333 -- iter: 06400/20250\n"
     ]
    },
    {
     "name": "stdout",
     "output_type": "stream",
     "text": [
      "Training Step: 418  | total loss: \u001b[1m\u001b[32m0.67620\u001b[0m\u001b[0m | time: 25.589s\n\u001b[2K\r| Adam | epoch: 002 | loss: 0.67620 - acc: 0.5441 -- iter: 06464/20250\n"
     ]
    },
    {
     "name": "stdout",
     "output_type": "stream",
     "text": [
      "Training Step: 419  | total loss: \u001b[1m\u001b[32m0.67731\u001b[0m\u001b[0m | time: 25.851s\n\u001b[2K\r| Adam | epoch: 002 | loss: 0.67731 - acc: 0.5459 -- iter: 06528/20250\n"
     ]
    },
    {
     "name": "stdout",
     "output_type": "stream",
     "text": [
      "Training Step: 420  | total loss: \u001b[1m\u001b[32m0.67731\u001b[0m\u001b[0m | time: 26.099s\n\u001b[2K\r| Adam | epoch: 002 | loss: 0.67731 - acc: 0.5538 -- iter: 06592/20250\n"
     ]
    },
    {
     "name": "stdout",
     "output_type": "stream",
     "text": [
      "Training Step: 421  | total loss: \u001b[1m\u001b[32m0.68169\u001b[0m\u001b[0m | time: 26.359s\n\u001b[2K\r| Adam | epoch: 002 | loss: 0.68169 - acc: 0.5422 -- iter: 06656/20250\n"
     ]
    },
    {
     "name": "stdout",
     "output_type": "stream",
     "text": [
      "Training Step: 422  | total loss: \u001b[1m\u001b[32m0.68561\u001b[0m\u001b[0m | time: 26.634s\n\u001b[2K\r| Adam | epoch: 002 | loss: 0.68561 - acc: 0.5364 -- iter: 06720/20250\n"
     ]
    },
    {
     "name": "stdout",
     "output_type": "stream",
     "text": [
      "Training Step: 423  | total loss: \u001b[1m\u001b[32m0.68288\u001b[0m\u001b[0m | time: 26.902s\n\u001b[2K\r| Adam | epoch: 002 | loss: 0.68288 - acc: 0.5499 -- iter: 06784/20250\n"
     ]
    },
    {
     "name": "stdout",
     "output_type": "stream",
     "text": [
      "Training Step: 424  | total loss: \u001b[1m\u001b[32m0.68292\u001b[0m\u001b[0m | time: 27.154s\n\u001b[2K\r| Adam | epoch: 002 | loss: 0.68292 - acc: 0.5590 -- iter: 06848/20250\n"
     ]
    },
    {
     "name": "stdout",
     "output_type": "stream",
     "text": [
      "Training Step: 425  | total loss: \u001b[1m\u001b[32m0.68587\u001b[0m\u001b[0m | time: 27.398s\n\u001b[2K\r| Adam | epoch: 002 | loss: 0.68587 - acc: 0.5562 -- iter: 06912/20250\n"
     ]
    },
    {
     "name": "stdout",
     "output_type": "stream",
     "text": [
      "Training Step: 426  | total loss: \u001b[1m\u001b[32m0.68667\u001b[0m\u001b[0m | time: 27.646s\n\u001b[2K\r| Adam | epoch: 002 | loss: 0.68667 - acc: 0.5506 -- iter: 06976/20250\n"
     ]
    },
    {
     "name": "stdout",
     "output_type": "stream",
     "text": [
      "Training Step: 427  | total loss: \u001b[1m\u001b[32m0.68986\u001b[0m\u001b[0m | time: 27.911s\n\u001b[2K\r| Adam | epoch: 002 | loss: 0.68986 - acc: 0.5549 -- iter: 07040/20250\n"
     ]
    },
    {
     "name": "stdout",
     "output_type": "stream",
     "text": [
      "Training Step: 428  | total loss: \u001b[1m\u001b[32m0.68808\u001b[0m\u001b[0m | time: 28.164s\n\u001b[2K\r| Adam | epoch: 002 | loss: 0.68808 - acc: 0.5479 -- iter: 07104/20250\n"
     ]
    },
    {
     "name": "stdout",
     "output_type": "stream",
     "text": [
      "Training Step: 429  | total loss: \u001b[1m\u001b[32m0.68994\u001b[0m\u001b[0m | time: 28.416s\n\u001b[2K\r| Adam | epoch: 002 | loss: 0.68994 - acc: 0.5400 -- iter: 07168/20250\n"
     ]
    },
    {
     "name": "stdout",
     "output_type": "stream",
     "text": [
      "Training Step: 430  | total loss: \u001b[1m\u001b[32m0.68759\u001b[0m\u001b[0m | time: 28.664s\n\u001b[2K\r| Adam | epoch: 002 | loss: 0.68759 - acc: 0.5391 -- iter: 07232/20250\n"
     ]
    },
    {
     "name": "stdout",
     "output_type": "stream",
     "text": [
      "Training Step: 431  | total loss: \u001b[1m\u001b[32m0.68864\u001b[0m\u001b[0m | time: 28.930s\n\u001b[2K\r| Adam | epoch: 002 | loss: 0.68864 - acc: 0.5383 -- iter: 07296/20250\n"
     ]
    },
    {
     "name": "stdout",
     "output_type": "stream",
     "text": [
      "Training Step: 432  | total loss: \u001b[1m\u001b[32m0.68846\u001b[0m\u001b[0m | time: 29.180s\n\u001b[2K\r| Adam | epoch: 002 | loss: 0.68846 - acc: 0.5360 -- iter: 07360/20250\n"
     ]
    },
    {
     "name": "stdout",
     "output_type": "stream",
     "text": [
      "Training Step: 433  | total loss: \u001b[1m\u001b[32m0.68690\u001b[0m\u001b[0m | time: 29.446s\n\u001b[2K\r| Adam | epoch: 002 | loss: 0.68690 - acc: 0.5434 -- iter: 07424/20250\n"
     ]
    },
    {
     "name": "stdout",
     "output_type": "stream",
     "text": [
      "Training Step: 434  | total loss: \u001b[1m\u001b[32m0.68841\u001b[0m\u001b[0m | time: 29.693s\n\u001b[2K\r| Adam | epoch: 002 | loss: 0.68841 - acc: 0.5375 -- iter: 07488/20250\n"
     ]
    },
    {
     "name": "stdout",
     "output_type": "stream",
     "text": [
      "Training Step: 435  | total loss: \u001b[1m\u001b[32m0.69104\u001b[0m\u001b[0m | time: 29.942s\n\u001b[2K\r| Adam | epoch: 002 | loss: 0.69104 - acc: 0.5353 -- iter: 07552/20250\n"
     ]
    },
    {
     "name": "stdout",
     "output_type": "stream",
     "text": [
      "Training Step: 436  | total loss: \u001b[1m\u001b[32m0.68969\u001b[0m\u001b[0m | time: 30.200s\n\u001b[2K\r| Adam | epoch: 002 | loss: 0.68969 - acc: 0.5364 -- iter: 07616/20250\n"
     ]
    },
    {
     "name": "stdout",
     "output_type": "stream",
     "text": [
      "Training Step: 437  | total loss: \u001b[1m\u001b[32m0.68593\u001b[0m\u001b[0m | time: 30.444s\n\u001b[2K\r| Adam | epoch: 002 | loss: 0.68593 - acc: 0.5453 -- iter: 07680/20250\n"
     ]
    },
    {
     "name": "stdout",
     "output_type": "stream",
     "text": [
      "Training Step: 438  | total loss: \u001b[1m\u001b[32m0.68941\u001b[0m\u001b[0m | time: 30.691s\n\u001b[2K\r| Adam | epoch: 002 | loss: 0.68941 - acc: 0.5376 -- iter: 07744/20250\n"
     ]
    },
    {
     "name": "stdout",
     "output_type": "stream",
     "text": [
      "Training Step: 439  | total loss: \u001b[1m\u001b[32m0.68955\u001b[0m\u001b[0m | time: 30.933s\n\u001b[2K\r| Adam | epoch: 002 | loss: 0.68955 - acc: 0.5276 -- iter: 07808/20250\n"
     ]
    },
    {
     "name": "stdout",
     "output_type": "stream",
     "text": [
      "Training Step: 440  | total loss: \u001b[1m\u001b[32m0.68701\u001b[0m\u001b[0m | time: 31.184s\n\u001b[2K\r| Adam | epoch: 002 | loss: 0.68701 - acc: 0.5374 -- iter: 07872/20250\n"
     ]
    },
    {
     "name": "stdout",
     "output_type": "stream",
     "text": [
      "Training Step: 441  | total loss: \u001b[1m\u001b[32m0.68371\u001b[0m\u001b[0m | time: 31.459s\n\u001b[2K\r| Adam | epoch: 002 | loss: 0.68371 - acc: 0.5508 -- iter: 07936/20250\n"
     ]
    },
    {
     "name": "stdout",
     "output_type": "stream",
     "text": [
      "Training Step: 442  | total loss: \u001b[1m\u001b[32m0.68387\u001b[0m\u001b[0m | time: 31.723s\n\u001b[2K\r| Adam | epoch: 002 | loss: 0.68387 - acc: 0.5442 -- iter: 08000/20250\n"
     ]
    },
    {
     "name": "stdout",
     "output_type": "stream",
     "text": [
      "Training Step: 443  | total loss: \u001b[1m\u001b[32m0.68384\u001b[0m\u001b[0m | time: 31.985s\n\u001b[2K\r| Adam | epoch: 002 | loss: 0.68384 - acc: 0.5444 -- iter: 08064/20250\n"
     ]
    },
    {
     "name": "stdout",
     "output_type": "stream",
     "text": [
      "Training Step: 444  | total loss: \u001b[1m\u001b[32m0.68220\u001b[0m\u001b[0m | time: 32.235s\n\u001b[2K\r| Adam | epoch: 002 | loss: 0.68220 - acc: 0.5462 -- iter: 08128/20250\n"
     ]
    },
    {
     "name": "stdout",
     "output_type": "stream",
     "text": [
      "Training Step: 445  | total loss: \u001b[1m\u001b[32m0.68432\u001b[0m\u001b[0m | time: 32.479s\n\u001b[2K\r| Adam | epoch: 002 | loss: 0.68432 - acc: 0.5432 -- iter: 08192/20250\n"
     ]
    },
    {
     "name": "stdout",
     "output_type": "stream",
     "text": [
      "Training Step: 446  | total loss: \u001b[1m\u001b[32m0.68529\u001b[0m\u001b[0m | time: 32.736s\n\u001b[2K\r| Adam | epoch: 002 | loss: 0.68529 - acc: 0.5451 -- iter: 08256/20250\n"
     ]
    },
    {
     "name": "stdout",
     "output_type": "stream",
     "text": [
      "Training Step: 447  | total loss: \u001b[1m\u001b[32m0.68287\u001b[0m\u001b[0m | time: 32.985s\n\u001b[2K\r| Adam | epoch: 002 | loss: 0.68287 - acc: 0.5484 -- iter: 08320/20250\n"
     ]
    },
    {
     "name": "stdout",
     "output_type": "stream",
     "text": [
      "Training Step: 448  | total loss: \u001b[1m\u001b[32m0.68624\u001b[0m\u001b[0m | time: 33.236s\n\u001b[2K\r| Adam | epoch: 002 | loss: 0.68624 - acc: 0.5405 -- iter: 08384/20250\n"
     ]
    },
    {
     "name": "stdout",
     "output_type": "stream",
     "text": [
      "Training Step: 449  | total loss: \u001b[1m\u001b[32m0.68472\u001b[0m\u001b[0m | time: 33.496s\n\u001b[2K\r| Adam | epoch: 002 | loss: 0.68472 - acc: 0.5489 -- iter: 08448/20250\n"
     ]
    },
    {
     "name": "stdout",
     "output_type": "stream",
     "text": [
      "Training Step: 450  | total loss: \u001b[1m\u001b[32m0.68137\u001b[0m\u001b[0m | time: 33.744s\n\u001b[2K\r| Adam | epoch: 002 | loss: 0.68137 - acc: 0.5596 -- iter: 08512/20250\n"
     ]
    },
    {
     "name": "stdout",
     "output_type": "stream",
     "text": [
      "Training Step: 451  | total loss: \u001b[1m\u001b[32m0.68396\u001b[0m\u001b[0m | time: 34.002s\n\u001b[2K\r| Adam | epoch: 002 | loss: 0.68396 - acc: 0.5568 -- iter: 08576/20250\n"
     ]
    },
    {
     "name": "stdout",
     "output_type": "stream",
     "text": [
      "Training Step: 452  | total loss: \u001b[1m\u001b[32m0.68391\u001b[0m\u001b[0m | time: 34.282s\n\u001b[2K\r| Adam | epoch: 002 | loss: 0.68391 - acc: 0.5542 -- iter: 08640/20250\n"
     ]
    },
    {
     "name": "stdout",
     "output_type": "stream",
     "text": [
      "Training Step: 453  | total loss: \u001b[1m\u001b[32m0.68529\u001b[0m\u001b[0m | time: 34.532s\n\u001b[2K\r| Adam | epoch: 002 | loss: 0.68529 - acc: 0.5488 -- iter: 08704/20250\n"
     ]
    },
    {
     "name": "stdout",
     "output_type": "stream",
     "text": [
      "Training Step: 454  | total loss: \u001b[1m\u001b[32m0.68740\u001b[0m\u001b[0m | time: 34.771s\n\u001b[2K\r| Adam | epoch: 002 | loss: 0.68740 - acc: 0.5533 -- iter: 08768/20250\n"
     ]
    },
    {
     "name": "stdout",
     "output_type": "stream",
     "text": [
      "Training Step: 455  | total loss: \u001b[1m\u001b[32m0.68635\u001b[0m\u001b[0m | time: 35.014s\n\u001b[2K\r| Adam | epoch: 002 | loss: 0.68635 - acc: 0.5542 -- iter: 08832/20250\n"
     ]
    },
    {
     "name": "stdout",
     "output_type": "stream",
     "text": [
      "Training Step: 456  | total loss: \u001b[1m\u001b[32m0.68397\u001b[0m\u001b[0m | time: 35.255s\n\u001b[2K\r| Adam | epoch: 002 | loss: 0.68397 - acc: 0.5566 -- iter: 08896/20250\n"
     ]
    },
    {
     "name": "stdout",
     "output_type": "stream",
     "text": [
      "Training Step: 457  | total loss: \u001b[1m\u001b[32m0.68560\u001b[0m\u001b[0m | time: 35.496s\n\u001b[2K\r| Adam | epoch: 002 | loss: 0.68560 - acc: 0.5572 -- iter: 08960/20250\n"
     ]
    },
    {
     "name": "stdout",
     "output_type": "stream",
     "text": [
      "Training Step: 458  | total loss: \u001b[1m\u001b[32m0.68118\u001b[0m\u001b[0m | time: 35.747s\n\u001b[2K\r| Adam | epoch: 002 | loss: 0.68118 - acc: 0.5687 -- iter: 09024/20250\n"
     ]
    },
    {
     "name": "stdout",
     "output_type": "stream",
     "text": [
      "Training Step: 459  | total loss: \u001b[1m\u001b[32m0.68217\u001b[0m\u001b[0m | time: 35.998s\n\u001b[2K\r| Adam | epoch: 002 | loss: 0.68217 - acc: 0.5634 -- iter: 09088/20250\n"
     ]
    },
    {
     "name": "stdout",
     "output_type": "stream",
     "text": [
      "Training Step: 460  | total loss: \u001b[1m\u001b[32m0.68219\u001b[0m\u001b[0m | time: 36.246s\n\u001b[2K\r| Adam | epoch: 002 | loss: 0.68219 - acc: 0.5586 -- iter: 09152/20250\n"
     ]
    },
    {
     "name": "stdout",
     "output_type": "stream",
     "text": [
      "Training Step: 461  | total loss: \u001b[1m\u001b[32m0.68333\u001b[0m\u001b[0m | time: 36.505s\n\u001b[2K\r| Adam | epoch: 002 | loss: 0.68333 - acc: 0.5512 -- iter: 09216/20250\n"
     ]
    },
    {
     "name": "stdout",
     "output_type": "stream",
     "text": [
      "Training Step: 462  | total loss: \u001b[1m\u001b[32m0.68374\u001b[0m\u001b[0m | time: 36.769s\n\u001b[2K\r| Adam | epoch: 002 | loss: 0.68374 - acc: 0.5445 -- iter: 09280/20250\n"
     ]
    },
    {
     "name": "stdout",
     "output_type": "stream",
     "text": [
      "Training Step: 463  | total loss: \u001b[1m\u001b[32m0.68321\u001b[0m\u001b[0m | time: 37.022s\n\u001b[2K\r| Adam | epoch: 002 | loss: 0.68321 - acc: 0.5369 -- iter: 09344/20250\n"
     ]
    },
    {
     "name": "stdout",
     "output_type": "stream",
     "text": [
      "Training Step: 464  | total loss: \u001b[1m\u001b[32m0.68175\u001b[0m\u001b[0m | time: 37.289s\n\u001b[2K\r| Adam | epoch: 002 | loss: 0.68175 - acc: 0.5364 -- iter: 09408/20250\n"
     ]
    },
    {
     "name": "stdout",
     "output_type": "stream",
     "text": [
      "Training Step: 465  | total loss: \u001b[1m\u001b[32m0.68156\u001b[0m\u001b[0m | time: 37.553s\n\u001b[2K\r| Adam | epoch: 002 | loss: 0.68156 - acc: 0.5421 -- iter: 09472/20250\n"
     ]
    },
    {
     "name": "stdout",
     "output_type": "stream",
     "text": [
      "Training Step: 466  | total loss: \u001b[1m\u001b[32m0.67944\u001b[0m\u001b[0m | time: 37.804s\n\u001b[2K\r| Adam | epoch: 002 | loss: 0.67944 - acc: 0.5394 -- iter: 09536/20250\n"
     ]
    },
    {
     "name": "stdout",
     "output_type": "stream",
     "text": [
      "Training Step: 467  | total loss: \u001b[1m\u001b[32m0.68251\u001b[0m\u001b[0m | time: 38.060s\n\u001b[2K\r| Adam | epoch: 002 | loss: 0.68251 - acc: 0.5355 -- iter: 09600/20250\n"
     ]
    },
    {
     "name": "stdout",
     "output_type": "stream",
     "text": [
      "Training Step: 468  | total loss: \u001b[1m\u001b[32m0.68327\u001b[0m\u001b[0m | time: 38.307s\n\u001b[2K\r| Adam | epoch: 002 | loss: 0.68327 - acc: 0.5382 -- iter: 09664/20250\n"
     ]
    },
    {
     "name": "stdout",
     "output_type": "stream",
     "text": [
      "Training Step: 469  | total loss: \u001b[1m\u001b[32m0.68482\u001b[0m\u001b[0m | time: 38.550s\n\u001b[2K\r| Adam | epoch: 002 | loss: 0.68482 - acc: 0.5359 -- iter: 09728/20250\n"
     ]
    },
    {
     "name": "stdout",
     "output_type": "stream",
     "text": [
      "Training Step: 470  | total loss: \u001b[1m\u001b[32m0.68305\u001b[0m\u001b[0m | time: 38.792s\n\u001b[2K\r| Adam | epoch: 002 | loss: 0.68305 - acc: 0.5417 -- iter: 09792/20250\n"
     ]
    },
    {
     "name": "stdout",
     "output_type": "stream",
     "text": [
      "Training Step: 471  | total loss: \u001b[1m\u001b[32m0.68368\u001b[0m\u001b[0m | time: 39.042s\n\u001b[2K\r| Adam | epoch: 002 | loss: 0.68368 - acc: 0.5469 -- iter: 09856/20250\n"
     ]
    },
    {
     "name": "stdout",
     "output_type": "stream",
     "text": [
      "Training Step: 472  | total loss: \u001b[1m\u001b[32m0.68175\u001b[0m\u001b[0m | time: 39.284s\n\u001b[2K\r| Adam | epoch: 002 | loss: 0.68175 - acc: 0.5516 -- iter: 09920/20250\n"
     ]
    },
    {
     "name": "stdout",
     "output_type": "stream",
     "text": [
      "Training Step: 473  | total loss: \u001b[1m\u001b[32m0.68055\u001b[0m\u001b[0m | time: 39.529s\n\u001b[2K\r| Adam | epoch: 002 | loss: 0.68055 - acc: 0.5574 -- iter: 09984/20250\n"
     ]
    },
    {
     "name": "stdout",
     "output_type": "stream",
     "text": [
      "Training Step: 474  | total loss: \u001b[1m\u001b[32m0.67953\u001b[0m\u001b[0m | time: 39.797s\n\u001b[2K\r| Adam | epoch: 002 | loss: 0.67953 - acc: 0.5610 -- iter: 10048/20250\n"
     ]
    },
    {
     "name": "stdout",
     "output_type": "stream",
     "text": [
      "Training Step: 475  | total loss: \u001b[1m\u001b[32m0.67898\u001b[0m\u001b[0m | time: 40.046s\n\u001b[2K\r| Adam | epoch: 002 | loss: 0.67898 - acc: 0.5580 -- iter: 10112/20250\n"
     ]
    },
    {
     "name": "stdout",
     "output_type": "stream",
     "text": [
      "Training Step: 476  | total loss: \u001b[1m\u001b[32m0.67830\u001b[0m\u001b[0m | time: 40.288s\n\u001b[2K\r| Adam | epoch: 002 | loss: 0.67830 - acc: 0.5554 -- iter: 10176/20250\n"
     ]
    },
    {
     "name": "stdout",
     "output_type": "stream",
     "text": [
      "Training Step: 477  | total loss: \u001b[1m\u001b[32m0.67905\u001b[0m\u001b[0m | time: 40.532s\n\u001b[2K\r| Adam | epoch: 002 | loss: 0.67905 - acc: 0.5483 -- iter: 10240/20250\n"
     ]
    },
    {
     "name": "stdout",
     "output_type": "stream",
     "text": [
      "Training Step: 478  | total loss: \u001b[1m\u001b[32m0.67705\u001b[0m\u001b[0m | time: 40.779s\n\u001b[2K\r| Adam | epoch: 002 | loss: 0.67705 - acc: 0.5497 -- iter: 10304/20250\n"
     ]
    },
    {
     "name": "stdout",
     "output_type": "stream",
     "text": [
      "Training Step: 479  | total loss: \u001b[1m\u001b[32m0.67919\u001b[0m\u001b[0m | time: 41.022s\n\u001b[2K\r| Adam | epoch: 002 | loss: 0.67919 - acc: 0.5353 -- iter: 10368/20250\n"
     ]
    },
    {
     "name": "stdout",
     "output_type": "stream",
     "text": [
      "Training Step: 480  | total loss: \u001b[1m\u001b[32m0.67724\u001b[0m\u001b[0m | time: 41.263s\n\u001b[2K\r| Adam | epoch: 002 | loss: 0.67724 - acc: 0.5412 -- iter: 10432/20250\n"
     ]
    },
    {
     "name": "stdout",
     "output_type": "stream",
     "text": [
      "Training Step: 481  | total loss: \u001b[1m\u001b[32m0.67779\u001b[0m\u001b[0m | time: 41.518s\n\u001b[2K\r| Adam | epoch: 002 | loss: 0.67779 - acc: 0.5433 -- iter: 10496/20250\n"
     ]
    },
    {
     "name": "stdout",
     "output_type": "stream",
     "text": [
      "Training Step: 482  | total loss: \u001b[1m\u001b[32m0.67927\u001b[0m\u001b[0m | time: 41.787s\n\u001b[2K\r| Adam | epoch: 002 | loss: 0.67927 - acc: 0.5421 -- iter: 10560/20250\n"
     ]
    },
    {
     "name": "stdout",
     "output_type": "stream",
     "text": [
      "Training Step: 483  | total loss: \u001b[1m\u001b[32m0.67928\u001b[0m\u001b[0m | time: 42.040s\n\u001b[2K\r| Adam | epoch: 002 | loss: 0.67928 - acc: 0.5457 -- iter: 10624/20250\n"
     ]
    },
    {
     "name": "stdout",
     "output_type": "stream",
     "text": [
      "Training Step: 484  | total loss: \u001b[1m\u001b[32m0.67907\u001b[0m\u001b[0m | time: 42.303s\n\u001b[2K\r| Adam | epoch: 002 | loss: 0.67907 - acc: 0.5443 -- iter: 10688/20250\n"
     ]
    },
    {
     "name": "stdout",
     "output_type": "stream",
     "text": [
      "Training Step: 485  | total loss: \u001b[1m\u001b[32m0.67900\u001b[0m\u001b[0m | time: 42.553s\n\u001b[2K\r| Adam | epoch: 002 | loss: 0.67900 - acc: 0.5492 -- iter: 10752/20250\n"
     ]
    },
    {
     "name": "stdout",
     "output_type": "stream",
     "text": [
      "Training Step: 486  | total loss: \u001b[1m\u001b[32m0.67758\u001b[0m\u001b[0m | time: 42.803s\n\u001b[2K\r| Adam | epoch: 002 | loss: 0.67758 - acc: 0.5474 -- iter: 10816/20250\n"
     ]
    },
    {
     "name": "stdout",
     "output_type": "stream",
     "text": [
      "Training Step: 487  | total loss: \u001b[1m\u001b[32m0.67565\u001b[0m\u001b[0m | time: 43.050s\n\u001b[2K\r| Adam | epoch: 002 | loss: 0.67565 - acc: 0.5567 -- iter: 10880/20250\n"
     ]
    },
    {
     "name": "stdout",
     "output_type": "stream",
     "text": [
      "Training Step: 488  | total loss: \u001b[1m\u001b[32m0.67466\u001b[0m\u001b[0m | time: 43.299s\n\u001b[2K\r| Adam | epoch: 002 | loss: 0.67466 - acc: 0.5683 -- iter: 10944/20250\n"
     ]
    },
    {
     "name": "stdout",
     "output_type": "stream",
     "text": [
      "Training Step: 489  | total loss: \u001b[1m\u001b[32m0.67586\u001b[0m\u001b[0m | time: 43.549s\n\u001b[2K\r| Adam | epoch: 002 | loss: 0.67586 - acc: 0.5630 -- iter: 11008/20250\n"
     ]
    },
    {
     "name": "stdout",
     "output_type": "stream",
     "text": [
      "Training Step: 490  | total loss: \u001b[1m\u001b[32m0.67534\u001b[0m\u001b[0m | time: 43.802s\n\u001b[2K\r| Adam | epoch: 002 | loss: 0.67534 - acc: 0.5661 -- iter: 11072/20250\n"
     ]
    },
    {
     "name": "stdout",
     "output_type": "stream",
     "text": [
      "Training Step: 491  | total loss: \u001b[1m\u001b[32m0.67314\u001b[0m\u001b[0m | time: 44.050s\n\u001b[2K\r| Adam | epoch: 002 | loss: 0.67314 - acc: 0.5751 -- iter: 11136/20250\n"
     ]
    },
    {
     "name": "stdout",
     "output_type": "stream",
     "text": [
      "Training Step: 492  | total loss: \u001b[1m\u001b[32m0.67325\u001b[0m\u001b[0m | time: 44.294s\n\u001b[2K\r| Adam | epoch: 002 | loss: 0.67325 - acc: 0.5723 -- iter: 11200/20250\n"
     ]
    },
    {
     "name": "stdout",
     "output_type": "stream",
     "text": [
      "Training Step: 493  | total loss: \u001b[1m\u001b[32m0.67221\u001b[0m\u001b[0m | time: 44.554s\n\u001b[2K\r| Adam | epoch: 002 | loss: 0.67221 - acc: 0.5728 -- iter: 11264/20250\n"
     ]
    },
    {
     "name": "stdout",
     "output_type": "stream",
     "text": [
      "Training Step: 494  | total loss: \u001b[1m\u001b[32m0.66834\u001b[0m\u001b[0m | time: 44.821s\n\u001b[2K\r| Adam | epoch: 002 | loss: 0.66834 - acc: 0.5765 -- iter: 11328/20250\n"
     ]
    },
    {
     "name": "stdout",
     "output_type": "stream",
     "text": [
      "Training Step: 495  | total loss: \u001b[1m\u001b[32m0.67554\u001b[0m\u001b[0m | time: 45.078s\n\u001b[2K\r| Adam | epoch: 002 | loss: 0.67554 - acc: 0.5751 -- iter: 11392/20250\n"
     ]
    },
    {
     "name": "stdout",
     "output_type": "stream",
     "text": [
      "Training Step: 496  | total loss: \u001b[1m\u001b[32m0.67856\u001b[0m\u001b[0m | time: 45.324s\n\u001b[2K\r| Adam | epoch: 002 | loss: 0.67856 - acc: 0.5645 -- iter: 11456/20250\n"
     ]
    },
    {
     "name": "stdout",
     "output_type": "stream",
     "text": [
      "Training Step: 497  | total loss: \u001b[1m\u001b[32m0.68251\u001b[0m\u001b[0m | time: 45.573s\n\u001b[2K\r| Adam | epoch: 002 | loss: 0.68251 - acc: 0.5565 -- iter: 11520/20250\n"
     ]
    },
    {
     "name": "stdout",
     "output_type": "stream",
     "text": [
      "Training Step: 498  | total loss: \u001b[1m\u001b[32m0.68010\u001b[0m\u001b[0m | time: 45.827s\n\u001b[2K\r| Adam | epoch: 002 | loss: 0.68010 - acc: 0.5602 -- iter: 11584/20250\n"
     ]
    },
    {
     "name": "stdout",
     "output_type": "stream",
     "text": [
      "Training Step: 499  | total loss: \u001b[1m\u001b[32m0.68293\u001b[0m\u001b[0m | time: 46.072s\n\u001b[2K\r| Adam | epoch: 002 | loss: 0.68293 - acc: 0.5526 -- iter: 11648/20250\n"
     ]
    },
    {
     "name": "stdout",
     "output_type": "stream",
     "text": [
      "Training Step: 500  | total loss: \u001b[1m\u001b[32m0.68559\u001b[0m\u001b[0m | time: 46.315s\n\u001b[2K\r| Adam | epoch: 002 | loss: 0.68559 - acc: 0.5427 -- iter: 11712/20250\n"
     ]
    },
    {
     "name": "stdout",
     "output_type": "stream",
     "text": [
      "Training Step: 501  | total loss: \u001b[1m\u001b[32m0.68543\u001b[0m\u001b[0m | time: 46.567s\n\u001b[2K\r| Adam | epoch: 002 | loss: 0.68543 - acc: 0.5431 -- iter: 11776/20250\n"
     ]
    },
    {
     "name": "stdout",
     "output_type": "stream",
     "text": [
      "Training Step: 502  | total loss: \u001b[1m\u001b[32m0.68526\u001b[0m\u001b[0m | time: 46.814s\n\u001b[2K\r| Adam | epoch: 002 | loss: 0.68526 - acc: 0.5372 -- iter: 11840/20250\n"
     ]
    },
    {
     "name": "stdout",
     "output_type": "stream",
     "text": [
      "Training Step: 503  | total loss: \u001b[1m\u001b[32m0.68302\u001b[0m\u001b[0m | time: 47.068s\n\u001b[2K\r| Adam | epoch: 002 | loss: 0.68302 - acc: 0.5491 -- iter: 11904/20250\n"
     ]
    },
    {
     "name": "stdout",
     "output_type": "stream",
     "text": [
      "Training Step: 504  | total loss: \u001b[1m\u001b[32m0.68304\u001b[0m\u001b[0m | time: 47.325s\n\u001b[2K\r| Adam | epoch: 002 | loss: 0.68304 - acc: 0.5551 -- iter: 11968/20250\n"
     ]
    },
    {
     "name": "stdout",
     "output_type": "stream",
     "text": [
      "Training Step: 505  | total loss: \u001b[1m\u001b[32m0.68371\u001b[0m\u001b[0m | time: 47.574s\n\u001b[2K\r| Adam | epoch: 002 | loss: 0.68371 - acc: 0.5528 -- iter: 12032/20250\n"
     ]
    },
    {
     "name": "stdout",
     "output_type": "stream",
     "text": [
      "Training Step: 506  | total loss: \u001b[1m\u001b[32m0.68391\u001b[0m\u001b[0m | time: 47.822s\n\u001b[2K\r| Adam | epoch: 002 | loss: 0.68391 - acc: 0.5584 -- iter: 12096/20250\n"
     ]
    },
    {
     "name": "stdout",
     "output_type": "stream",
     "text": [
      "Training Step: 507  | total loss: \u001b[1m\u001b[32m0.68607\u001b[0m\u001b[0m | time: 48.075s\n\u001b[2K\r| Adam | epoch: 002 | loss: 0.68607 - acc: 0.5573 -- iter: 12160/20250\n"
     ]
    },
    {
     "name": "stdout",
     "output_type": "stream",
     "text": [
      "Training Step: 508  | total loss: \u001b[1m\u001b[32m0.68797\u001b[0m\u001b[0m | time: 48.317s\n\u001b[2K\r| Adam | epoch: 002 | loss: 0.68797 - acc: 0.5468 -- iter: 12224/20250\n"
     ]
    },
    {
     "name": "stdout",
     "output_type": "stream",
     "text": [
      "Training Step: 509  | total loss: \u001b[1m\u001b[32m0.68900\u001b[0m\u001b[0m | time: 48.561s\n\u001b[2K\r| Adam | epoch: 002 | loss: 0.68900 - acc: 0.5422 -- iter: 12288/20250\n"
     ]
    },
    {
     "name": "stdout",
     "output_type": "stream",
     "text": [
      "Training Step: 510  | total loss: \u001b[1m\u001b[32m0.68819\u001b[0m\u001b[0m | time: 48.822s\n\u001b[2K\r| Adam | epoch: 002 | loss: 0.68819 - acc: 0.5473 -- iter: 12352/20250\n"
     ]
    },
    {
     "name": "stdout",
     "output_type": "stream",
     "text": [
      "Training Step: 511  | total loss: \u001b[1m\u001b[32m0.68916\u001b[0m\u001b[0m | time: 49.059s\n\u001b[2K\r| Adam | epoch: 002 | loss: 0.68916 - acc: 0.5488 -- iter: 12416/20250\n"
     ]
    },
    {
     "name": "stdout",
     "output_type": "stream",
     "text": [
      "Training Step: 512  | total loss: \u001b[1m\u001b[32m0.69339\u001b[0m\u001b[0m | time: 49.305s\n\u001b[2K\r| Adam | epoch: 002 | loss: 0.69339 - acc: 0.5440 -- iter: 12480/20250\n"
     ]
    },
    {
     "name": "stdout",
     "output_type": "stream",
     "text": [
      "Training Step: 513  | total loss: \u001b[1m\u001b[32m0.69222\u001b[0m\u001b[0m | time: 49.567s\n\u001b[2K\r| Adam | epoch: 002 | loss: 0.69222 - acc: 0.5442 -- iter: 12544/20250\n"
     ]
    },
    {
     "name": "stdout",
     "output_type": "stream",
     "text": [
      "Training Step: 514  | total loss: \u001b[1m\u001b[32m0.69185\u001b[0m\u001b[0m | time: 49.816s\n\u001b[2K\r| Adam | epoch: 002 | loss: 0.69185 - acc: 0.5461 -- iter: 12608/20250\n"
     ]
    },
    {
     "name": "stdout",
     "output_type": "stream",
     "text": [
      "Training Step: 515  | total loss: \u001b[1m\u001b[32m0.69257\u001b[0m\u001b[0m | time: 50.067s\n\u001b[2K\r| Adam | epoch: 002 | loss: 0.69257 - acc: 0.5383 -- iter: 12672/20250\n"
     ]
    },
    {
     "name": "stdout",
     "output_type": "stream",
     "text": [
      "Training Step: 516  | total loss: \u001b[1m\u001b[32m0.69086\u001b[0m\u001b[0m | time: 50.312s\n\u001b[2K\r| Adam | epoch: 002 | loss: 0.69086 - acc: 0.5392 -- iter: 12736/20250\n"
     ]
    },
    {
     "name": "stdout",
     "output_type": "stream",
     "text": [
      "Training Step: 517  | total loss: \u001b[1m\u001b[32m0.68852\u001b[0m\u001b[0m | time: 50.565s\n\u001b[2K\r| Adam | epoch: 002 | loss: 0.68852 - acc: 0.5400 -- iter: 12800/20250\n"
     ]
    },
    {
     "name": "stdout",
     "output_type": "stream",
     "text": [
      "Training Step: 518  | total loss: \u001b[1m\u001b[32m0.69054\u001b[0m\u001b[0m | time: 50.817s\n\u001b[2K\r| Adam | epoch: 002 | loss: 0.69054 - acc: 0.5438 -- iter: 12864/20250\n"
     ]
    },
    {
     "name": "stdout",
     "output_type": "stream",
     "text": [
      "Training Step: 519  | total loss: \u001b[1m\u001b[32m0.69034\u001b[0m\u001b[0m | time: 51.070s\n\u001b[2K\r| Adam | epoch: 002 | loss: 0.69034 - acc: 0.5316 -- iter: 12928/20250\n"
     ]
    },
    {
     "name": "stdout",
     "output_type": "stream",
     "text": [
      "Training Step: 520  | total loss: \u001b[1m\u001b[32m0.68945\u001b[0m\u001b[0m | time: 51.317s\n\u001b[2K\r| Adam | epoch: 002 | loss: 0.68945 - acc: 0.5347 -- iter: 12992/20250\n"
     ]
    },
    {
     "name": "stdout",
     "output_type": "stream",
     "text": [
      "Training Step: 521  | total loss: \u001b[1m\u001b[32m0.68933\u001b[0m\u001b[0m | time: 51.565s\n\u001b[2K\r| Adam | epoch: 002 | loss: 0.68933 - acc: 0.5375 -- iter: 13056/20250\n"
     ]
    },
    {
     "name": "stdout",
     "output_type": "stream",
     "text": [
      "Training Step: 522  | total loss: \u001b[1m\u001b[32m0.68700\u001b[0m\u001b[0m | time: 51.823s\n\u001b[2K\r| Adam | epoch: 002 | loss: 0.68700 - acc: 0.5400 -- iter: 13120/20250\n"
     ]
    },
    {
     "name": "stdout",
     "output_type": "stream",
     "text": [
      "Training Step: 523  | total loss: \u001b[1m\u001b[32m0.68652\u001b[0m\u001b[0m | time: 52.079s\n\u001b[2K\r| Adam | epoch: 002 | loss: 0.68652 - acc: 0.5360 -- iter: 13184/20250\n"
     ]
    },
    {
     "name": "stdout",
     "output_type": "stream",
     "text": [
      "Training Step: 524  | total loss: \u001b[1m\u001b[32m0.68335\u001b[0m\u001b[0m | time: 52.326s\n\u001b[2K\r| Adam | epoch: 002 | loss: 0.68335 - acc: 0.5496 -- iter: 13248/20250\n"
     ]
    },
    {
     "name": "stdout",
     "output_type": "stream",
     "text": [
      "Training Step: 525  | total loss: \u001b[1m\u001b[32m0.68484\u001b[0m\u001b[0m | time: 52.583s\n\u001b[2K\r| Adam | epoch: 002 | loss: 0.68484 - acc: 0.5462 -- iter: 13312/20250\n"
     ]
    },
    {
     "name": "stdout",
     "output_type": "stream",
     "text": [
      "Training Step: 526  | total loss: \u001b[1m\u001b[32m0.68247\u001b[0m\u001b[0m | time: 52.828s\n\u001b[2K\r| Adam | epoch: 002 | loss: 0.68247 - acc: 0.5494 -- iter: 13376/20250\n"
     ]
    },
    {
     "name": "stdout",
     "output_type": "stream",
     "text": [
      "Training Step: 527  | total loss: \u001b[1m\u001b[32m0.67985\u001b[0m\u001b[0m | time: 53.074s\n\u001b[2K\r| Adam | epoch: 002 | loss: 0.67985 - acc: 0.5554 -- iter: 13440/20250\n"
     ]
    },
    {
     "name": "stdout",
     "output_type": "stream",
     "text": [
      "Training Step: 528  | total loss: \u001b[1m\u001b[32m0.67874\u001b[0m\u001b[0m | time: 53.327s\n\u001b[2K\r| Adam | epoch: 002 | loss: 0.67874 - acc: 0.5514 -- iter: 13504/20250\n"
     ]
    },
    {
     "name": "stdout",
     "output_type": "stream",
     "text": [
      "Training Step: 529  | total loss: \u001b[1m\u001b[32m0.67911\u001b[0m\u001b[0m | time: 53.577s\n\u001b[2K\r| Adam | epoch: 002 | loss: 0.67911 - acc: 0.5494 -- iter: 13568/20250\n"
     ]
    },
    {
     "name": "stdout",
     "output_type": "stream",
     "text": [
      "Training Step: 530  | total loss: \u001b[1m\u001b[32m0.68325\u001b[0m\u001b[0m | time: 53.825s\n\u001b[2K\r| Adam | epoch: 002 | loss: 0.68325 - acc: 0.5413 -- iter: 13632/20250\n"
     ]
    },
    {
     "name": "stdout",
     "output_type": "stream",
     "text": [
      "Training Step: 531  | total loss: \u001b[1m\u001b[32m0.68473\u001b[0m\u001b[0m | time: 54.075s\n\u001b[2K\r| Adam | epoch: 002 | loss: 0.68473 - acc: 0.5387 -- iter: 13696/20250\n"
     ]
    },
    {
     "name": "stdout",
     "output_type": "stream",
     "text": [
      "Training Step: 532  | total loss: \u001b[1m\u001b[32m0.68335\u001b[0m\u001b[0m | time: 54.333s\n\u001b[2K\r| Adam | epoch: 002 | loss: 0.68335 - acc: 0.5411 -- iter: 13760/20250\n"
     ]
    },
    {
     "name": "stdout",
     "output_type": "stream",
     "text": [
      "Training Step: 533  | total loss: \u001b[1m\u001b[32m0.68184\u001b[0m\u001b[0m | time: 54.622s\n\u001b[2K\r| Adam | epoch: 002 | loss: 0.68184 - acc: 0.5479 -- iter: 13824/20250\n"
     ]
    },
    {
     "name": "stdout",
     "output_type": "stream",
     "text": [
      "Training Step: 534  | total loss: \u001b[1m\u001b[32m0.68057\u001b[0m\u001b[0m | time: 54.882s\n\u001b[2K\r| Adam | epoch: 002 | loss: 0.68057 - acc: 0.5494 -- iter: 13888/20250\n"
     ]
    },
    {
     "name": "stdout",
     "output_type": "stream",
     "text": [
      "Training Step: 535  | total loss: \u001b[1m\u001b[32m0.67949\u001b[0m\u001b[0m | time: 55.133s\n\u001b[2K\r| Adam | epoch: 002 | loss: 0.67949 - acc: 0.5523 -- iter: 13952/20250\n"
     ]
    },
    {
     "name": "stdout",
     "output_type": "stream",
     "text": [
      "Training Step: 536  | total loss: \u001b[1m\u001b[32m0.67998\u001b[0m\u001b[0m | time: 55.389s\n\u001b[2K\r| Adam | epoch: 002 | loss: 0.67998 - acc: 0.5502 -- iter: 14016/20250\n"
     ]
    },
    {
     "name": "stdout",
     "output_type": "stream",
     "text": [
      "Training Step: 537  | total loss: \u001b[1m\u001b[32m0.67606\u001b[0m\u001b[0m | time: 55.642s\n\u001b[2K\r| Adam | epoch: 002 | loss: 0.67606 - acc: 0.5592 -- iter: 14080/20250\n"
     ]
    },
    {
     "name": "stdout",
     "output_type": "stream",
     "text": [
      "Training Step: 538  | total loss: \u001b[1m\u001b[32m0.67516\u001b[0m\u001b[0m | time: 55.892s\n\u001b[2K\r| Adam | epoch: 002 | loss: 0.67516 - acc: 0.5642 -- iter: 14144/20250\n"
     ]
    },
    {
     "name": "stdout",
     "output_type": "stream",
     "text": [
      "Training Step: 539  | total loss: \u001b[1m\u001b[32m0.67224\u001b[0m\u001b[0m | time: 56.141s\n\u001b[2K\r| Adam | epoch: 002 | loss: 0.67224 - acc: 0.5719 -- iter: 14208/20250\n"
     ]
    },
    {
     "name": "stdout",
     "output_type": "stream",
     "text": [
      "Training Step: 540  | total loss: \u001b[1m\u001b[32m0.67192\u001b[0m\u001b[0m | time: 56.388s\n\u001b[2K\r| Adam | epoch: 002 | loss: 0.67192 - acc: 0.5741 -- iter: 14272/20250\n"
     ]
    },
    {
     "name": "stdout",
     "output_type": "stream",
     "text": [
      "Training Step: 541  | total loss: \u001b[1m\u001b[32m0.67416\u001b[0m\u001b[0m | time: 56.641s\n\u001b[2K\r| Adam | epoch: 002 | loss: 0.67416 - acc: 0.5651 -- iter: 14336/20250\n"
     ]
    },
    {
     "name": "stdout",
     "output_type": "stream",
     "text": [
      "Training Step: 542  | total loss: \u001b[1m\u001b[32m0.67034\u001b[0m\u001b[0m | time: 56.899s\n\u001b[2K\r| Adam | epoch: 002 | loss: 0.67034 - acc: 0.5695 -- iter: 14400/20250\n"
     ]
    },
    {
     "name": "stdout",
     "output_type": "stream",
     "text": [
      "Training Step: 543  | total loss: \u001b[1m\u001b[32m0.67082\u001b[0m\u001b[0m | time: 57.164s\n\u001b[2K\r| Adam | epoch: 002 | loss: 0.67082 - acc: 0.5657 -- iter: 14464/20250\n"
     ]
    },
    {
     "name": "stdout",
     "output_type": "stream",
     "text": [
      "Training Step: 544  | total loss: \u001b[1m\u001b[32m0.67130\u001b[0m\u001b[0m | time: 57.419s\n\u001b[2K\r| Adam | epoch: 002 | loss: 0.67130 - acc: 0.5669 -- iter: 14528/20250\n"
     ]
    },
    {
     "name": "stdout",
     "output_type": "stream",
     "text": [
      "Training Step: 545  | total loss: \u001b[1m\u001b[32m0.67356\u001b[0m\u001b[0m | time: 57.678s\n\u001b[2K\r| Adam | epoch: 002 | loss: 0.67356 - acc: 0.5649 -- iter: 14592/20250\n"
     ]
    },
    {
     "name": "stdout",
     "output_type": "stream",
     "text": [
      "Training Step: 546  | total loss: \u001b[1m\u001b[32m0.67313\u001b[0m\u001b[0m | time: 57.935s\n\u001b[2K\r| Adam | epoch: 002 | loss: 0.67313 - acc: 0.5647 -- iter: 14656/20250\n"
     ]
    },
    {
     "name": "stdout",
     "output_type": "stream",
     "text": [
      "Training Step: 547  | total loss: \u001b[1m\u001b[32m0.67310\u001b[0m\u001b[0m | time: 58.187s\n\u001b[2K\r| Adam | epoch: 002 | loss: 0.67310 - acc: 0.5629 -- iter: 14720/20250\n"
     ]
    },
    {
     "name": "stdout",
     "output_type": "stream",
     "text": [
      "Training Step: 548  | total loss: \u001b[1m\u001b[32m0.67050\u001b[0m\u001b[0m | time: 58.443s\n\u001b[2K\r| Adam | epoch: 002 | loss: 0.67050 - acc: 0.5644 -- iter: 14784/20250\n"
     ]
    },
    {
     "name": "stdout",
     "output_type": "stream",
     "text": [
      "Training Step: 549  | total loss: \u001b[1m\u001b[32m0.66973\u001b[0m\u001b[0m | time: 58.694s\n\u001b[2K\r| Adam | epoch: 002 | loss: 0.66973 - acc: 0.5658 -- iter: 14848/20250\n"
     ]
    },
    {
     "name": "stdout",
     "output_type": "stream",
     "text": [
      "Training Step: 550  | total loss: \u001b[1m\u001b[32m0.66758\u001b[0m\u001b[0m | time: 58.946s\n\u001b[2K\r| Adam | epoch: 002 | loss: 0.66758 - acc: 0.5686 -- iter: 14912/20250\n"
     ]
    },
    {
     "name": "stdout",
     "output_type": "stream",
     "text": [
      "Training Step: 551  | total loss: \u001b[1m\u001b[32m0.66639\u001b[0m\u001b[0m | time: 59.220s\n\u001b[2K\r| Adam | epoch: 002 | loss: 0.66639 - acc: 0.5742 -- iter: 14976/20250\n"
     ]
    },
    {
     "name": "stdout",
     "output_type": "stream",
     "text": [
      "Training Step: 552  | total loss: \u001b[1m\u001b[32m0.66650\u001b[0m\u001b[0m | time: 59.471s\n\u001b[2K\r| Adam | epoch: 002 | loss: 0.66650 - acc: 0.5793 -- iter: 15040/20250\n"
     ]
    },
    {
     "name": "stdout",
     "output_type": "stream",
     "text": [
      "Training Step: 553  | total loss: \u001b[1m\u001b[32m0.66261\u001b[0m\u001b[0m | time: 59.734s\n\u001b[2K\r| Adam | epoch: 002 | loss: 0.66261 - acc: 0.5933 -- iter: 15104/20250\n"
     ]
    },
    {
     "name": "stdout",
     "output_type": "stream",
     "text": [
      "Training Step: 554  | total loss: \u001b[1m\u001b[32m0.66235\u001b[0m\u001b[0m | time: 59.980s\n\u001b[2K\r| Adam | epoch: 002 | loss: 0.66235 - acc: 0.5964 -- iter: 15168/20250\n"
     ]
    },
    {
     "name": "stdout",
     "output_type": "stream",
     "text": [
      "Training Step: 555  | total loss: \u001b[1m\u001b[32m0.66343\u001b[0m\u001b[0m | time: 60.229s\n\u001b[2K\r| Adam | epoch: 002 | loss: 0.66343 - acc: 0.5930 -- iter: 15232/20250\n"
     ]
    },
    {
     "name": "stdout",
     "output_type": "stream",
     "text": [
      "Training Step: 556  | total loss: \u001b[1m\u001b[32m0.66303\u001b[0m\u001b[0m | time: 60.476s\n\u001b[2K\r| Adam | epoch: 002 | loss: 0.66303 - acc: 0.5947 -- iter: 15296/20250\n"
     ]
    },
    {
     "name": "stdout",
     "output_type": "stream",
     "text": [
      "Training Step: 557  | total loss: \u001b[1m\u001b[32m0.66044\u001b[0m\u001b[0m | time: 60.738s\n\u001b[2K\r| Adam | epoch: 002 | loss: 0.66044 - acc: 0.5977 -- iter: 15360/20250\n"
     ]
    },
    {
     "name": "stdout",
     "output_type": "stream",
     "text": [
      "Training Step: 558  | total loss: \u001b[1m\u001b[32m0.65928\u001b[0m\u001b[0m | time: 60.988s\n\u001b[2K\r| Adam | epoch: 002 | loss: 0.65928 - acc: 0.6020 -- iter: 15424/20250\n"
     ]
    },
    {
     "name": "stdout",
     "output_type": "stream",
     "text": [
      "Training Step: 559  | total loss: \u001b[1m\u001b[32m0.65821\u001b[0m\u001b[0m | time: 61.239s\n\u001b[2K\r| Adam | epoch: 002 | loss: 0.65821 - acc: 0.6105 -- iter: 15488/20250\n"
     ]
    },
    {
     "name": "stdout",
     "output_type": "stream",
     "text": [
      "Training Step: 560  | total loss: \u001b[1m\u001b[32m0.65570\u001b[0m\u001b[0m | time: 61.489s\n\u001b[2K\r| Adam | epoch: 002 | loss: 0.65570 - acc: 0.6151 -- iter: 15552/20250\n"
     ]
    },
    {
     "name": "stdout",
     "output_type": "stream",
     "text": [
      "Training Step: 561  | total loss: \u001b[1m\u001b[32m0.65307\u001b[0m\u001b[0m | time: 61.767s\n\u001b[2K\r| Adam | epoch: 002 | loss: 0.65307 - acc: 0.6208 -- iter: 15616/20250\n"
     ]
    },
    {
     "name": "stdout",
     "output_type": "stream",
     "text": [
      "Training Step: 562  | total loss: \u001b[1m\u001b[32m0.64516\u001b[0m\u001b[0m | time: 62.047s\n\u001b[2K\r| Adam | epoch: 002 | loss: 0.64516 - acc: 0.6337 -- iter: 15680/20250\n"
     ]
    },
    {
     "name": "stdout",
     "output_type": "stream",
     "text": [
      "Training Step: 563  | total loss: \u001b[1m\u001b[32m0.64052\u001b[0m\u001b[0m | time: 62.290s\n\u001b[2K\r| Adam | epoch: 002 | loss: 0.64052 - acc: 0.6438 -- iter: 15744/20250\n"
     ]
    },
    {
     "name": "stdout",
     "output_type": "stream",
     "text": [
      "Training Step: 564  | total loss: \u001b[1m\u001b[32m0.64551\u001b[0m\u001b[0m | time: 62.539s\n\u001b[2K\r| Adam | epoch: 002 | loss: 0.64551 - acc: 0.6450 -- iter: 15808/20250\n"
     ]
    },
    {
     "name": "stdout",
     "output_type": "stream",
     "text": [
      "Training Step: 565  | total loss: \u001b[1m\u001b[32m0.63963\u001b[0m\u001b[0m | time: 62.791s\n\u001b[2K\r| Adam | epoch: 002 | loss: 0.63963 - acc: 0.6508 -- iter: 15872/20250\n"
     ]
    },
    {
     "name": "stdout",
     "output_type": "stream",
     "text": [
      "Training Step: 566  | total loss: \u001b[1m\u001b[32m0.62988\u001b[0m\u001b[0m | time: 63.040s\n\u001b[2K\r| Adam | epoch: 002 | loss: 0.62988 - acc: 0.6608 -- iter: 15936/20250\n"
     ]
    },
    {
     "name": "stdout",
     "output_type": "stream",
     "text": [
      "Training Step: 567  | total loss: \u001b[1m\u001b[32m0.62494\u001b[0m\u001b[0m | time: 63.297s\n\u001b[2K\r| Adam | epoch: 002 | loss: 0.62494 - acc: 0.6650 -- iter: 16000/20250\n"
     ]
    },
    {
     "name": "stdout",
     "output_type": "stream",
     "text": [
      "Training Step: 568  | total loss: \u001b[1m\u001b[32m0.61836\u001b[0m\u001b[0m | time: 63.543s\n\u001b[2K\r| Adam | epoch: 002 | loss: 0.61836 - acc: 0.6719 -- iter: 16064/20250\n"
     ]
    },
    {
     "name": "stdout",
     "output_type": "stream",
     "text": [
      "Training Step: 569  | total loss: \u001b[1m\u001b[32m0.62836\u001b[0m\u001b[0m | time: 63.802s\n\u001b[2K\r| Adam | epoch: 002 | loss: 0.62836 - acc: 0.6625 -- iter: 16128/20250\n"
     ]
    },
    {
     "name": "stdout",
     "output_type": "stream",
     "text": [
      "Training Step: 570  | total loss: \u001b[1m\u001b[32m0.63072\u001b[0m\u001b[0m | time: 64.053s\n\u001b[2K\r| Adam | epoch: 002 | loss: 0.63072 - acc: 0.6666 -- iter: 16192/20250\n"
     ]
    },
    {
     "name": "stdout",
     "output_type": "stream",
     "text": [
      "Training Step: 571  | total loss: \u001b[1m\u001b[32m0.62884\u001b[0m\u001b[0m | time: 64.321s\n\u001b[2K\r| Adam | epoch: 002 | loss: 0.62884 - acc: 0.6703 -- iter: 16256/20250\n"
     ]
    },
    {
     "name": "stdout",
     "output_type": "stream",
     "text": [
      "Training Step: 572  | total loss: \u001b[1m\u001b[32m0.64690\u001b[0m\u001b[0m | time: 64.577s\n\u001b[2K\r| Adam | epoch: 002 | loss: 0.64690 - acc: 0.6548 -- iter: 16320/20250\n"
     ]
    },
    {
     "name": "stdout",
     "output_type": "stream",
     "text": [
      "Training Step: 573  | total loss: \u001b[1m\u001b[32m0.64515\u001b[0m\u001b[0m | time: 64.820s\n\u001b[2K\r| Adam | epoch: 002 | loss: 0.64515 - acc: 0.6581 -- iter: 16384/20250\n"
     ]
    },
    {
     "name": "stdout",
     "output_type": "stream",
     "text": [
      "Training Step: 574  | total loss: \u001b[1m\u001b[32m0.64541\u001b[0m\u001b[0m | time: 65.069s\n\u001b[2K\r| Adam | epoch: 002 | loss: 0.64541 - acc: 0.6579 -- iter: 16448/20250\n"
     ]
    },
    {
     "name": "stdout",
     "output_type": "stream",
     "text": [
      "Training Step: 575  | total loss: \u001b[1m\u001b[32m0.64688\u001b[0m\u001b[0m | time: 65.322s\n\u001b[2K\r| Adam | epoch: 002 | loss: 0.64688 - acc: 0.6562 -- iter: 16512/20250\n"
     ]
    },
    {
     "name": "stdout",
     "output_type": "stream",
     "text": [
      "Training Step: 576  | total loss: \u001b[1m\u001b[32m0.64023\u001b[0m\u001b[0m | time: 65.569s\n\u001b[2K\r| Adam | epoch: 002 | loss: 0.64023 - acc: 0.6593 -- iter: 16576/20250\n"
     ]
    },
    {
     "name": "stdout",
     "output_type": "stream",
     "text": [
      "Training Step: 577  | total loss: \u001b[1m\u001b[32m0.64099\u001b[0m\u001b[0m | time: 65.817s\n\u001b[2K\r| Adam | epoch: 002 | loss: 0.64099 - acc: 0.6574 -- iter: 16640/20250\n"
     ]
    },
    {
     "name": "stdout",
     "output_type": "stream",
     "text": [
      "Training Step: 578  | total loss: \u001b[1m\u001b[32m0.65114\u001b[0m\u001b[0m | time: 66.064s\n\u001b[2K\r| Adam | epoch: 002 | loss: 0.65114 - acc: 0.6511 -- iter: 16704/20250\n"
     ]
    },
    {
     "name": "stdout",
     "output_type": "stream",
     "text": [
      "Training Step: 579  | total loss: \u001b[1m\u001b[32m0.65569\u001b[0m\u001b[0m | time: 66.313s\n\u001b[2K\r| Adam | epoch: 002 | loss: 0.65569 - acc: 0.6531 -- iter: 16768/20250\n"
     ]
    },
    {
     "name": "stdout",
     "output_type": "stream",
     "text": [
      "Training Step: 580  | total loss: \u001b[1m\u001b[32m0.65819\u001b[0m\u001b[0m | time: 66.572s\n\u001b[2K\r| Adam | epoch: 002 | loss: 0.65819 - acc: 0.6519 -- iter: 16832/20250\n"
     ]
    },
    {
     "name": "stdout",
     "output_type": "stream",
     "text": [
      "Training Step: 581  | total loss: \u001b[1m\u001b[32m0.65585\u001b[0m\u001b[0m | time: 66.827s\n\u001b[2K\r| Adam | epoch: 002 | loss: 0.65585 - acc: 0.6539 -- iter: 16896/20250\n"
     ]
    },
    {
     "name": "stdout",
     "output_type": "stream",
     "text": [
      "Training Step: 582  | total loss: \u001b[1m\u001b[32m0.66484\u001b[0m\u001b[0m | time: 67.078s\n\u001b[2K\r| Adam | epoch: 002 | loss: 0.66484 - acc: 0.6494 -- iter: 16960/20250\n"
     ]
    },
    {
     "name": "stdout",
     "output_type": "stream",
     "text": [
      "Training Step: 583  | total loss: \u001b[1m\u001b[32m0.66693\u001b[0m\u001b[0m | time: 67.327s\n\u001b[2K\r| Adam | epoch: 002 | loss: 0.66693 - acc: 0.6470 -- iter: 17024/20250\n"
     ]
    },
    {
     "name": "stdout",
     "output_type": "stream",
     "text": [
      "Training Step: 584  | total loss: \u001b[1m\u001b[32m0.66565\u001b[0m\u001b[0m | time: 67.599s\n\u001b[2K\r| Adam | epoch: 002 | loss: 0.66565 - acc: 0.6479 -- iter: 17088/20250\n"
     ]
    },
    {
     "name": "stdout",
     "output_type": "stream",
     "text": [
      "Training Step: 585  | total loss: \u001b[1m\u001b[32m0.66936\u001b[0m\u001b[0m | time: 67.852s\n\u001b[2K\r| Adam | epoch: 002 | loss: 0.66936 - acc: 0.6472 -- iter: 17152/20250\n"
     ]
    },
    {
     "name": "stdout",
     "output_type": "stream",
     "text": [
      "Training Step: 586  | total loss: \u001b[1m\u001b[32m0.66789\u001b[0m\u001b[0m | time: 68.103s\n\u001b[2K\r| Adam | epoch: 002 | loss: 0.66789 - acc: 0.6418 -- iter: 17216/20250\n"
     ]
    },
    {
     "name": "stdout",
     "output_type": "stream",
     "text": [
      "Training Step: 587  | total loss: \u001b[1m\u001b[32m0.66947\u001b[0m\u001b[0m | time: 68.352s\n\u001b[2K\r| Adam | epoch: 002 | loss: 0.66947 - acc: 0.6370 -- iter: 17280/20250\n"
     ]
    },
    {
     "name": "stdout",
     "output_type": "stream",
     "text": [
      "Training Step: 588  | total loss: \u001b[1m\u001b[32m0.66310\u001b[0m\u001b[0m | time: 68.600s\n\u001b[2K\r| Adam | epoch: 002 | loss: 0.66310 - acc: 0.6483 -- iter: 17344/20250\n"
     ]
    },
    {
     "name": "stdout",
     "output_type": "stream",
     "text": [
      "Training Step: 589  | total loss: \u001b[1m\u001b[32m0.66083\u001b[0m\u001b[0m | time: 68.844s\n\u001b[2K\r| Adam | epoch: 002 | loss: 0.66083 - acc: 0.6538 -- iter: 17408/20250\n"
     ]
    },
    {
     "name": "stdout",
     "output_type": "stream",
     "text": [
      "Training Step: 590  | total loss: \u001b[1m\u001b[32m0.66236\u001b[0m\u001b[0m | time: 69.103s\n\u001b[2K\r| Adam | epoch: 002 | loss: 0.66236 - acc: 0.6462 -- iter: 17472/20250\n"
     ]
    },
    {
     "name": "stdout",
     "output_type": "stream",
     "text": [
      "Training Step: 591  | total loss: \u001b[1m\u001b[32m0.66212\u001b[0m\u001b[0m | time: 69.371s\n\u001b[2K\r| Adam | epoch: 002 | loss: 0.66212 - acc: 0.6441 -- iter: 17536/20250\n"
     ]
    },
    {
     "name": "stdout",
     "output_type": "stream",
     "text": [
      "Training Step: 592  | total loss: \u001b[1m\u001b[32m0.65945\u001b[0m\u001b[0m | time: 69.636s\n\u001b[2K\r| Adam | epoch: 002 | loss: 0.65945 - acc: 0.6469 -- iter: 17600/20250\n"
     ]
    },
    {
     "name": "stdout",
     "output_type": "stream",
     "text": [
      "Training Step: 593  | total loss: \u001b[1m\u001b[32m0.65558\u001b[0m\u001b[0m | time: 69.888s\n\u001b[2K\r| Adam | epoch: 002 | loss: 0.65558 - acc: 0.6541 -- iter: 17664/20250\n"
     ]
    },
    {
     "name": "stdout",
     "output_type": "stream",
     "text": [
      "Training Step: 594  | total loss: \u001b[1m\u001b[32m0.65137\u001b[0m\u001b[0m | time: 70.137s\n\u001b[2K\r| Adam | epoch: 002 | loss: 0.65137 - acc: 0.6590 -- iter: 17728/20250\n"
     ]
    },
    {
     "name": "stdout",
     "output_type": "stream",
     "text": [
      "Training Step: 595  | total loss: \u001b[1m\u001b[32m0.65104\u001b[0m\u001b[0m | time: 70.379s\n\u001b[2K\r| Adam | epoch: 002 | loss: 0.65104 - acc: 0.6540 -- iter: 17792/20250\n"
     ]
    },
    {
     "name": "stdout",
     "output_type": "stream",
     "text": [
      "Training Step: 596  | total loss: \u001b[1m\u001b[32m0.65096\u001b[0m\u001b[0m | time: 70.632s\n\u001b[2K\r| Adam | epoch: 002 | loss: 0.65096 - acc: 0.6558 -- iter: 17856/20250\n"
     ]
    },
    {
     "name": "stdout",
     "output_type": "stream",
     "text": [
      "Training Step: 597  | total loss: \u001b[1m\u001b[32m0.65872\u001b[0m\u001b[0m | time: 70.882s\n\u001b[2K\r| Adam | epoch: 002 | loss: 0.65872 - acc: 0.6371 -- iter: 17920/20250\n"
     ]
    },
    {
     "name": "stdout",
     "output_type": "stream",
     "text": [
      "Training Step: 598  | total loss: \u001b[1m\u001b[32m0.66128\u001b[0m\u001b[0m | time: 71.129s\n\u001b[2K\r| Adam | epoch: 002 | loss: 0.66128 - acc: 0.6359 -- iter: 17984/20250\n"
     ]
    },
    {
     "name": "stdout",
     "output_type": "stream",
     "text": [
      "Training Step: 599  | total loss: \u001b[1m\u001b[32m0.66799\u001b[0m\u001b[0m | time: 71.385s\n\u001b[2K\r| Adam | epoch: 002 | loss: 0.66799 - acc: 0.6192 -- iter: 18048/20250\n"
     ]
    },
    {
     "name": "stdout",
     "output_type": "stream",
     "text": [
      "Training Step: 600  | total loss: \u001b[1m\u001b[32m0.65928\u001b[0m\u001b[0m | time: 71.654s\n\u001b[2K\r| Adam | epoch: 002 | loss: 0.65928 - acc: 0.6307 -- iter: 18112/20250\n"
     ]
    },
    {
     "name": "stdout",
     "output_type": "stream",
     "text": [
      "Training Step: 601  | total loss: \u001b[1m\u001b[32m0.66121\u001b[0m\u001b[0m | time: 71.914s\n\u001b[2K\r| Adam | epoch: 002 | loss: 0.66121 - acc: 0.6270 -- iter: 18176/20250\n"
     ]
    },
    {
     "name": "stdout",
     "output_type": "stream",
     "text": [
      "Training Step: 602  | total loss: \u001b[1m\u001b[32m0.66144\u001b[0m\u001b[0m | time: 72.169s\n\u001b[2K\r| Adam | epoch: 002 | loss: 0.66144 - acc: 0.6237 -- iter: 18240/20250\n"
     ]
    },
    {
     "name": "stdout",
     "output_type": "stream",
     "text": [
      "Training Step: 603  | total loss: \u001b[1m\u001b[32m0.65539\u001b[0m\u001b[0m | time: 72.421s\n\u001b[2K\r| Adam | epoch: 002 | loss: 0.65539 - acc: 0.6301 -- iter: 18304/20250\n"
     ]
    },
    {
     "name": "stdout",
     "output_type": "stream",
     "text": [
      "Training Step: 604  | total loss: \u001b[1m\u001b[32m0.66554\u001b[0m\u001b[0m | time: 72.679s\n\u001b[2K\r| Adam | epoch: 002 | loss: 0.66554 - acc: 0.6139 -- iter: 18368/20250\n"
     ]
    },
    {
     "name": "stdout",
     "output_type": "stream",
     "text": [
      "Training Step: 605  | total loss: \u001b[1m\u001b[32m0.65740\u001b[0m\u001b[0m | time: 72.926s\n\u001b[2K\r| Adam | epoch: 002 | loss: 0.65740 - acc: 0.6260 -- iter: 18432/20250\n"
     ]
    },
    {
     "name": "stdout",
     "output_type": "stream",
     "text": [
      "Training Step: 606  | total loss: \u001b[1m\u001b[32m0.65177\u001b[0m\u001b[0m | time: 73.174s\n\u001b[2K\r| Adam | epoch: 002 | loss: 0.65177 - acc: 0.6337 -- iter: 18496/20250\n"
     ]
    },
    {
     "name": "stdout",
     "output_type": "stream",
     "text": [
      "Training Step: 607  | total loss: \u001b[1m\u001b[32m0.64460\u001b[0m\u001b[0m | time: 73.436s\n\u001b[2K\r| Adam | epoch: 002 | loss: 0.64460 - acc: 0.6484 -- iter: 18560/20250\n"
     ]
    },
    {
     "name": "stdout",
     "output_type": "stream",
     "text": [
      "Training Step: 608  | total loss: \u001b[1m\u001b[32m0.64054\u001b[0m\u001b[0m | time: 73.679s\n\u001b[2K\r| Adam | epoch: 002 | loss: 0.64054 - acc: 0.6508 -- iter: 18624/20250\n"
     ]
    },
    {
     "name": "stdout",
     "output_type": "stream",
     "text": [
      "Training Step: 609  | total loss: \u001b[1m\u001b[32m0.63975\u001b[0m\u001b[0m | time: 73.926s\n\u001b[2K\r| Adam | epoch: 002 | loss: 0.63975 - acc: 0.6529 -- iter: 18688/20250\n"
     ]
    },
    {
     "name": "stdout",
     "output_type": "stream",
     "text": [
      "Training Step: 610  | total loss: \u001b[1m\u001b[32m0.63820\u001b[0m\u001b[0m | time: 74.193s\n\u001b[2K\r| Adam | epoch: 002 | loss: 0.63820 - acc: 0.6501 -- iter: 18752/20250\n"
     ]
    },
    {
     "name": "stdout",
     "output_type": "stream",
     "text": [
      "Training Step: 611  | total loss: \u001b[1m\u001b[32m0.63508\u001b[0m\u001b[0m | time: 74.445s\n\u001b[2K\r| Adam | epoch: 002 | loss: 0.63508 - acc: 0.6585 -- iter: 18816/20250\n"
     ]
    },
    {
     "name": "stdout",
     "output_type": "stream",
     "text": [
      "Training Step: 612  | total loss: \u001b[1m\u001b[32m0.63145\u001b[0m\u001b[0m | time: 74.702s\n\u001b[2K\r| Adam | epoch: 002 | loss: 0.63145 - acc: 0.6614 -- iter: 18880/20250\n"
     ]
    },
    {
     "name": "stdout",
     "output_type": "stream",
     "text": [
      "Training Step: 613  | total loss: \u001b[1m\u001b[32m0.63209\u001b[0m\u001b[0m | time: 74.945s\n\u001b[2K\r| Adam | epoch: 002 | loss: 0.63209 - acc: 0.6562 -- iter: 18944/20250\n"
     ]
    },
    {
     "name": "stdout",
     "output_type": "stream",
     "text": [
      "Training Step: 614  | total loss: \u001b[1m\u001b[32m0.63795\u001b[0m\u001b[0m | time: 75.196s\n\u001b[2K\r| Adam | epoch: 002 | loss: 0.63795 - acc: 0.6453 -- iter: 19008/20250\n"
     ]
    },
    {
     "name": "stdout",
     "output_type": "stream",
     "text": [
      "Training Step: 615  | total loss: \u001b[1m\u001b[32m0.64160\u001b[0m\u001b[0m | time: 75.442s\n\u001b[2K\r| Adam | epoch: 002 | loss: 0.64160 - acc: 0.6386 -- iter: 19072/20250\n"
     ]
    },
    {
     "name": "stdout",
     "output_type": "stream",
     "text": [
      "Training Step: 616  | total loss: \u001b[1m\u001b[32m0.64714\u001b[0m\u001b[0m | time: 75.689s\n\u001b[2K\r| Adam | epoch: 002 | loss: 0.64714 - acc: 0.6341 -- iter: 19136/20250\n"
     ]
    },
    {
     "name": "stdout",
     "output_type": "stream",
     "text": [
      "Training Step: 617  | total loss: \u001b[1m\u001b[32m0.64185\u001b[0m\u001b[0m | time: 75.934s\n\u001b[2K\r| Adam | epoch: 002 | loss: 0.64185 - acc: 0.6410 -- iter: 19200/20250\n"
     ]
    },
    {
     "name": "stdout",
     "output_type": "stream",
     "text": [
      "Training Step: 618  | total loss: \u001b[1m\u001b[32m0.64146\u001b[0m\u001b[0m | time: 76.172s\n\u001b[2K\r| Adam | epoch: 002 | loss: 0.64146 - acc: 0.6410 -- iter: 19264/20250\n"
     ]
    },
    {
     "name": "stdout",
     "output_type": "stream",
     "text": [
      "Training Step: 619  | total loss: \u001b[1m\u001b[32m0.63960\u001b[0m\u001b[0m | time: 76.422s\n\u001b[2K\r| Adam | epoch: 002 | loss: 0.63960 - acc: 0.6425 -- iter: 19328/20250\n"
     ]
    },
    {
     "name": "stdout",
     "output_type": "stream",
     "text": [
      "Training Step: 620  | total loss: \u001b[1m\u001b[32m0.64144\u001b[0m\u001b[0m | time: 76.683s\n\u001b[2K\r| Adam | epoch: 002 | loss: 0.64144 - acc: 0.6439 -- iter: 19392/20250\n"
     ]
    },
    {
     "name": "stdout",
     "output_type": "stream",
     "text": [
      "Training Step: 621  | total loss: \u001b[1m\u001b[32m0.64348\u001b[0m\u001b[0m | time: 76.937s\n\u001b[2K\r| Adam | epoch: 002 | loss: 0.64348 - acc: 0.6435 -- iter: 19456/20250\n"
     ]
    },
    {
     "name": "stdout",
     "output_type": "stream",
     "text": [
      "Training Step: 622  | total loss: \u001b[1m\u001b[32m0.64335\u001b[0m\u001b[0m | time: 77.178s\n\u001b[2K\r| Adam | epoch: 002 | loss: 0.64335 - acc: 0.6417 -- iter: 19520/20250\n"
     ]
    },
    {
     "name": "stdout",
     "output_type": "stream",
     "text": [
      "Training Step: 623  | total loss: \u001b[1m\u001b[32m0.63394\u001b[0m\u001b[0m | time: 77.422s\n\u001b[2K\r| Adam | epoch: 002 | loss: 0.63394 - acc: 0.6556 -- iter: 19584/20250\n"
     ]
    },
    {
     "name": "stdout",
     "output_type": "stream",
     "text": [
      "Training Step: 624  | total loss: \u001b[1m\u001b[32m0.63281\u001b[0m\u001b[0m | time: 77.673s\n\u001b[2K\r| Adam | epoch: 002 | loss: 0.63281 - acc: 0.6526 -- iter: 19648/20250\n"
     ]
    },
    {
     "name": "stdout",
     "output_type": "stream",
     "text": [
      "Training Step: 625  | total loss: \u001b[1m\u001b[32m0.63329\u001b[0m\u001b[0m | time: 77.920s\n\u001b[2K\r| Adam | epoch: 002 | loss: 0.63329 - acc: 0.6483 -- iter: 19712/20250\n"
     ]
    },
    {
     "name": "stdout",
     "output_type": "stream",
     "text": [
      "Training Step: 626  | total loss: \u001b[1m\u001b[32m0.62782\u001b[0m\u001b[0m | time: 78.174s\n\u001b[2K\r| Adam | epoch: 002 | loss: 0.62782 - acc: 0.6569 -- iter: 19776/20250\n"
     ]
    },
    {
     "name": "stdout",
     "output_type": "stream",
     "text": [
      "Training Step: 627  | total loss: \u001b[1m\u001b[32m0.62608\u001b[0m\u001b[0m | time: 78.427s\n\u001b[2K\r| Adam | epoch: 002 | loss: 0.62608 - acc: 0.6599 -- iter: 19840/20250\n"
     ]
    },
    {
     "name": "stdout",
     "output_type": "stream",
     "text": [
      "Training Step: 628  | total loss: \u001b[1m\u001b[32m0.63006\u001b[0m\u001b[0m | time: 78.679s\n\u001b[2K\r| Adam | epoch: 002 | loss: 0.63006 - acc: 0.6533 -- iter: 19904/20250\n"
     ]
    },
    {
     "name": "stdout",
     "output_type": "stream",
     "text": [
      "Training Step: 629  | total loss: \u001b[1m\u001b[32m0.63693\u001b[0m\u001b[0m | time: 78.935s\n\u001b[2K\r| Adam | epoch: 002 | loss: 0.63693 - acc: 0.6395 -- iter: 19968/20250\n"
     ]
    },
    {
     "name": "stdout",
     "output_type": "stream",
     "text": [
      "Training Step: 630  | total loss: \u001b[1m\u001b[32m0.64273\u001b[0m\u001b[0m | time: 79.213s\n\u001b[2K\r| Adam | epoch: 002 | loss: 0.64273 - acc: 0.6303 -- iter: 20032/20250\n"
     ]
    },
    {
     "name": "stdout",
     "output_type": "stream",
     "text": [
      "Training Step: 631  | total loss: \u001b[1m\u001b[32m0.63977\u001b[0m\u001b[0m | time: 79.478s\n\u001b[2K\r| Adam | epoch: 002 | loss: 0.63977 - acc: 0.6266 -- iter: 20096/20250\n"
     ]
    },
    {
     "name": "stdout",
     "output_type": "stream",
     "text": [
      "Training Step: 632  | total loss: \u001b[1m\u001b[32m0.63712\u001b[0m\u001b[0m | time: 79.725s\n\u001b[2K\r| Adam | epoch: 002 | loss: 0.63712 - acc: 0.6280 -- iter: 20160/20250\n"
     ]
    },
    {
     "name": "stdout",
     "output_type": "stream",
     "text": [
      "Training Step: 633  | total loss: \u001b[1m\u001b[32m0.63872\u001b[0m\u001b[0m | time: 79.975s\n\u001b[2K\r| Adam | epoch: 002 | loss: 0.63872 - acc: 0.6324 -- iter: 20224/20250\n"
     ]
    },
    {
     "name": "stdout",
     "output_type": "stream",
     "text": [
      "Training Step: 634  | total loss: \u001b[1m\u001b[32m0.64712\u001b[0m\u001b[0m | time: 81.932s\n\u001b[2K\r| Adam | epoch: 002 | loss: 0.64712 - acc: 0.6207 | val_loss: 0.67730 - val_acc: 0.5947 -- iter: 20250/20250\n--\n"
     ]
    },
    {
     "name": "stdout",
     "output_type": "stream",
     "text": [
      "Training Step: 635  | total loss: \u001b[1m\u001b[32m0.64608\u001b[0m\u001b[0m | time: 0.246s\n\u001b[2K\r| Adam | epoch: 003 | loss: 0.64608 - acc: 0.6243 -- iter: 00064/20250\n"
     ]
    },
    {
     "name": "stdout",
     "output_type": "stream",
     "text": [
      "Training Step: 636  | total loss: \u001b[1m\u001b[32m0.63841\u001b[0m\u001b[0m | time: 0.495s\n\u001b[2K\r| Adam | epoch: 003 | loss: 0.63841 - acc: 0.6349 -- iter: 00128/20250\n"
     ]
    },
    {
     "name": "stdout",
     "output_type": "stream",
     "text": [
      "Training Step: 637  | total loss: \u001b[1m\u001b[32m0.63218\u001b[0m\u001b[0m | time: 0.755s\n\u001b[2K\r| Adam | epoch: 003 | loss: 0.63218 - acc: 0.6368 -- iter: 00192/20250\n"
     ]
    },
    {
     "name": "stdout",
     "output_type": "stream",
     "text": [
      "Training Step: 638  | total loss: \u001b[1m\u001b[32m0.63290\u001b[0m\u001b[0m | time: 1.013s\n\u001b[2K\r| Adam | epoch: 003 | loss: 0.63290 - acc: 0.6325 -- iter: 00256/20250\n"
     ]
    },
    {
     "name": "stdout",
     "output_type": "stream",
     "text": [
      "Training Step: 639  | total loss: \u001b[1m\u001b[32m0.63095\u001b[0m\u001b[0m | time: 1.259s\n\u001b[2K\r| Adam | epoch: 003 | loss: 0.63095 - acc: 0.6333 -- iter: 00320/20250\n"
     ]
    },
    {
     "name": "stdout",
     "output_type": "stream",
     "text": [
      "Training Step: 640  | total loss: \u001b[1m\u001b[32m0.62695\u001b[0m\u001b[0m | time: 1.509s\n\u001b[2K\r| Adam | epoch: 003 | loss: 0.62695 - acc: 0.6387 -- iter: 00384/20250\n"
     ]
    },
    {
     "name": "stdout",
     "output_type": "stream",
     "text": [
      "Training Step: 641  | total loss: \u001b[1m\u001b[32m0.62768\u001b[0m\u001b[0m | time: 1.755s\n\u001b[2K\r| Adam | epoch: 003 | loss: 0.62768 - acc: 0.6374 -- iter: 00448/20250\n"
     ]
    },
    {
     "name": "stdout",
     "output_type": "stream",
     "text": [
      "Training Step: 642  | total loss: \u001b[1m\u001b[32m0.62342\u001b[0m\u001b[0m | time: 2.011s\n\u001b[2K\r| Adam | epoch: 003 | loss: 0.62342 - acc: 0.6393 -- iter: 00512/20250\n"
     ]
    },
    {
     "name": "stdout",
     "output_type": "stream",
     "text": [
      "Training Step: 643  | total loss: \u001b[1m\u001b[32m0.62112\u001b[0m\u001b[0m | time: 2.297s\n\u001b[2K\r| Adam | epoch: 003 | loss: 0.62112 - acc: 0.6410 -- iter: 00576/20250\n"
     ]
    },
    {
     "name": "stdout",
     "output_type": "stream",
     "text": [
      "Training Step: 644  | total loss: \u001b[1m\u001b[32m0.62107\u001b[0m\u001b[0m | time: 2.561s\n\u001b[2K\r| Adam | epoch: 003 | loss: 0.62107 - acc: 0.6409 -- iter: 00640/20250\n"
     ]
    },
    {
     "name": "stdout",
     "output_type": "stream",
     "text": [
      "Training Step: 645  | total loss: \u001b[1m\u001b[32m0.62740\u001b[0m\u001b[0m | time: 2.819s\n\u001b[2K\r| Adam | epoch: 003 | loss: 0.62740 - acc: 0.6300 -- iter: 00704/20250\n"
     ]
    },
    {
     "name": "stdout",
     "output_type": "stream",
     "text": [
      "Training Step: 646  | total loss: \u001b[1m\u001b[32m0.62880\u001b[0m\u001b[0m | time: 3.065s\n\u001b[2K\r| Adam | epoch: 003 | loss: 0.62880 - acc: 0.6310 -- iter: 00768/20250\n"
     ]
    },
    {
     "name": "stdout",
     "output_type": "stream",
     "text": [
      "Training Step: 647  | total loss: \u001b[1m\u001b[32m0.62517\u001b[0m\u001b[0m | time: 3.308s\n\u001b[2K\r| Adam | epoch: 003 | loss: 0.62517 - acc: 0.6351 -- iter: 00832/20250\n"
     ]
    },
    {
     "name": "stdout",
     "output_type": "stream",
     "text": [
      "Training Step: 648  | total loss: \u001b[1m\u001b[32m0.62359\u001b[0m\u001b[0m | time: 3.551s\n\u001b[2K\r| Adam | epoch: 003 | loss: 0.62359 - acc: 0.6419 -- iter: 00896/20250\n"
     ]
    },
    {
     "name": "stdout",
     "output_type": "stream",
     "text": [
      "Training Step: 649  | total loss: \u001b[1m\u001b[32m0.61428\u001b[0m\u001b[0m | time: 3.800s\n\u001b[2K\r| Adam | epoch: 003 | loss: 0.61428 - acc: 0.6527 -- iter: 00960/20250\n"
     ]
    },
    {
     "name": "stdout",
     "output_type": "stream",
     "text": [
      "Training Step: 650  | total loss: \u001b[1m\u001b[32m0.61763\u001b[0m\u001b[0m | time: 4.044s\n\u001b[2K\r| Adam | epoch: 003 | loss: 0.61763 - acc: 0.6453 -- iter: 01024/20250\n"
     ]
    },
    {
     "name": "stdout",
     "output_type": "stream",
     "text": [
      "Training Step: 651  | total loss: \u001b[1m\u001b[32m0.61392\u001b[0m\u001b[0m | time: 4.292s\n\u001b[2K\r| Adam | epoch: 003 | loss: 0.61392 - acc: 0.6526 -- iter: 01088/20250\n"
     ]
    },
    {
     "name": "stdout",
     "output_type": "stream",
     "text": [
      "Training Step: 652  | total loss: \u001b[1m\u001b[32m0.61751\u001b[0m\u001b[0m | time: 4.569s\n\u001b[2K\r| Adam | epoch: 003 | loss: 0.61751 - acc: 0.6530 -- iter: 01152/20250\n"
     ]
    },
    {
     "name": "stdout",
     "output_type": "stream",
     "text": [
      "Training Step: 653  | total loss: \u001b[1m\u001b[32m0.61169\u001b[0m\u001b[0m | time: 4.841s\n\u001b[2K\r| Adam | epoch: 003 | loss: 0.61169 - acc: 0.6580 -- iter: 01216/20250\n"
     ]
    },
    {
     "name": "stdout",
     "output_type": "stream",
     "text": [
      "Training Step: 654  | total loss: \u001b[1m\u001b[32m0.61492\u001b[0m\u001b[0m | time: 5.090s\n\u001b[2K\r| Adam | epoch: 003 | loss: 0.61492 - acc: 0.6563 -- iter: 01280/20250\n"
     ]
    },
    {
     "name": "stdout",
     "output_type": "stream",
     "text": [
      "Training Step: 655  | total loss: \u001b[1m\u001b[32m0.62031\u001b[0m\u001b[0m | time: 5.334s\n\u001b[2K\r| Adam | epoch: 003 | loss: 0.62031 - acc: 0.6438 -- iter: 01344/20250\n"
     ]
    },
    {
     "name": "stdout",
     "output_type": "stream",
     "text": [
      "Training Step: 656  | total loss: \u001b[1m\u001b[32m0.62259\u001b[0m\u001b[0m | time: 5.580s\n\u001b[2K\r| Adam | epoch: 003 | loss: 0.62259 - acc: 0.6434 -- iter: 01408/20250\n"
     ]
    },
    {
     "name": "stdout",
     "output_type": "stream",
     "text": [
      "Training Step: 657  | total loss: \u001b[1m\u001b[32m0.62056\u001b[0m\u001b[0m | time: 5.830s\n\u001b[2K\r| Adam | epoch: 003 | loss: 0.62056 - acc: 0.6525 -- iter: 01472/20250\n"
     ]
    },
    {
     "name": "stdout",
     "output_type": "stream",
     "text": [
      "Training Step: 658  | total loss: \u001b[1m\u001b[32m0.61873\u001b[0m\u001b[0m | time: 6.076s\n\u001b[2K\r| Adam | epoch: 003 | loss: 0.61873 - acc: 0.6576 -- iter: 01536/20250\n"
     ]
    },
    {
     "name": "stdout",
     "output_type": "stream",
     "text": [
      "Training Step: 659  | total loss: \u001b[1m\u001b[32m0.61946\u001b[0m\u001b[0m | time: 6.323s\n\u001b[2K\r| Adam | epoch: 003 | loss: 0.61946 - acc: 0.6606 -- iter: 01600/20250\n"
     ]
    },
    {
     "name": "stdout",
     "output_type": "stream",
     "text": [
      "Training Step: 660  | total loss: \u001b[1m\u001b[32m0.62021\u001b[0m\u001b[0m | time: 6.575s\n\u001b[2K\r| Adam | epoch: 003 | loss: 0.62021 - acc: 0.6601 -- iter: 01664/20250\n"
     ]
    },
    {
     "name": "stdout",
     "output_type": "stream",
     "text": [
      "Training Step: 661  | total loss: \u001b[1m\u001b[32m0.61684\u001b[0m\u001b[0m | time: 6.818s\n\u001b[2K\r| Adam | epoch: 003 | loss: 0.61684 - acc: 0.6598 -- iter: 01728/20250\n"
     ]
    },
    {
     "name": "stdout",
     "output_type": "stream",
     "text": [
      "Training Step: 662  | total loss: \u001b[1m\u001b[32m0.61339\u001b[0m\u001b[0m | time: 7.105s\n\u001b[2K\r| Adam | epoch: 003 | loss: 0.61339 - acc: 0.6625 -- iter: 01792/20250\n"
     ]
    },
    {
     "name": "stdout",
     "output_type": "stream",
     "text": [
      "Training Step: 663  | total loss: \u001b[1m\u001b[32m0.61784\u001b[0m\u001b[0m | time: 7.376s\n\u001b[2K\r| Adam | epoch: 003 | loss: 0.61784 - acc: 0.6525 -- iter: 01856/20250\n"
     ]
    },
    {
     "name": "stdout",
     "output_type": "stream",
     "text": [
      "Training Step: 664  | total loss: \u001b[1m\u001b[32m0.61641\u001b[0m\u001b[0m | time: 7.629s\n\u001b[2K\r| Adam | epoch: 003 | loss: 0.61641 - acc: 0.6498 -- iter: 01920/20250\n"
     ]
    },
    {
     "name": "stdout",
     "output_type": "stream",
     "text": [
      "Training Step: 665  | total loss: \u001b[1m\u001b[32m0.60806\u001b[0m\u001b[0m | time: 7.878s\n\u001b[2K\r| Adam | epoch: 003 | loss: 0.60806 - acc: 0.6645 -- iter: 01984/20250\n"
     ]
    },
    {
     "name": "stdout",
     "output_type": "stream",
     "text": [
      "Training Step: 666  | total loss: \u001b[1m\u001b[32m0.60724\u001b[0m\u001b[0m | time: 8.126s\n\u001b[2K\r| Adam | epoch: 003 | loss: 0.60724 - acc: 0.6715 -- iter: 02048/20250\n"
     ]
    },
    {
     "name": "stdout",
     "output_type": "stream",
     "text": [
      "Training Step: 667  | total loss: \u001b[1m\u001b[32m0.60922\u001b[0m\u001b[0m | time: 8.372s\n\u001b[2K\r| Adam | epoch: 003 | loss: 0.60922 - acc: 0.6700 -- iter: 02112/20250\n"
     ]
    },
    {
     "name": "stdout",
     "output_type": "stream",
     "text": [
      "Training Step: 668  | total loss: \u001b[1m\u001b[32m0.60246\u001b[0m\u001b[0m | time: 8.624s\n\u001b[2K\r| Adam | epoch: 003 | loss: 0.60246 - acc: 0.6795 -- iter: 02176/20250\n"
     ]
    },
    {
     "name": "stdout",
     "output_type": "stream",
     "text": [
      "Training Step: 669  | total loss: \u001b[1m\u001b[32m0.60678\u001b[0m\u001b[0m | time: 8.869s\n\u001b[2K\r| Adam | epoch: 003 | loss: 0.60678 - acc: 0.6709 -- iter: 02240/20250\n"
     ]
    },
    {
     "name": "stdout",
     "output_type": "stream",
     "text": [
      "Training Step: 670  | total loss: \u001b[1m\u001b[32m0.60661\u001b[0m\u001b[0m | time: 9.112s\n\u001b[2K\r| Adam | epoch: 003 | loss: 0.60661 - acc: 0.6679 -- iter: 02304/20250\n"
     ]
    },
    {
     "name": "stdout",
     "output_type": "stream",
     "text": [
      "Training Step: 671  | total loss: \u001b[1m\u001b[32m0.60751\u001b[0m\u001b[0m | time: 9.359s\n\u001b[2K\r| Adam | epoch: 003 | loss: 0.60751 - acc: 0.6667 -- iter: 02368/20250\n"
     ]
    },
    {
     "name": "stdout",
     "output_type": "stream",
     "text": [
      "Training Step: 672  | total loss: \u001b[1m\u001b[32m0.60969\u001b[0m\u001b[0m | time: 9.635s\n\u001b[2K\r| Adam | epoch: 003 | loss: 0.60969 - acc: 0.6657 -- iter: 02432/20250\n"
     ]
    },
    {
     "name": "stdout",
     "output_type": "stream",
     "text": [
      "Training Step: 673  | total loss: \u001b[1m\u001b[32m0.61073\u001b[0m\u001b[0m | time: 9.913s\n\u001b[2K\r| Adam | epoch: 003 | loss: 0.61073 - acc: 0.6616 -- iter: 02496/20250\n"
     ]
    },
    {
     "name": "stdout",
     "output_type": "stream",
     "text": [
      "Training Step: 674  | total loss: \u001b[1m\u001b[32m0.60696\u001b[0m\u001b[0m | time: 10.162s\n\u001b[2K\r| Adam | epoch: 003 | loss: 0.60696 - acc: 0.6720 -- iter: 02560/20250\n"
     ]
    },
    {
     "name": "stdout",
     "output_type": "stream",
     "text": [
      "Training Step: 675  | total loss: \u001b[1m\u001b[32m0.61050\u001b[0m\u001b[0m | time: 10.411s\n\u001b[2K\r| Adam | epoch: 003 | loss: 0.61050 - acc: 0.6689 -- iter: 02624/20250\n"
     ]
    },
    {
     "name": "stdout",
     "output_type": "stream",
     "text": [
      "Training Step: 676  | total loss: \u001b[1m\u001b[32m0.61615\u001b[0m\u001b[0m | time: 10.652s\n\u001b[2K\r| Adam | epoch: 003 | loss: 0.61615 - acc: 0.6645 -- iter: 02688/20250\n"
     ]
    },
    {
     "name": "stdout",
     "output_type": "stream",
     "text": [
      "Training Step: 677  | total loss: \u001b[1m\u001b[32m0.62025\u001b[0m\u001b[0m | time: 10.900s\n\u001b[2K\r| Adam | epoch: 003 | loss: 0.62025 - acc: 0.6652 -- iter: 02752/20250\n"
     ]
    },
    {
     "name": "stdout",
     "output_type": "stream",
     "text": [
      "Training Step: 678  | total loss: \u001b[1m\u001b[32m0.62193\u001b[0m\u001b[0m | time: 11.147s\n\u001b[2K\r| Adam | epoch: 003 | loss: 0.62193 - acc: 0.6612 -- iter: 02816/20250\n"
     ]
    },
    {
     "name": "stdout",
     "output_type": "stream",
     "text": [
      "Training Step: 679  | total loss: \u001b[1m\u001b[32m0.62191\u001b[0m\u001b[0m | time: 11.405s\n\u001b[2K\r| Adam | epoch: 003 | loss: 0.62191 - acc: 0.6623 -- iter: 02880/20250\n"
     ]
    },
    {
     "name": "stdout",
     "output_type": "stream",
     "text": [
      "Training Step: 680  | total loss: \u001b[1m\u001b[32m0.62556\u001b[0m\u001b[0m | time: 11.651s\n\u001b[2K\r| Adam | epoch: 003 | loss: 0.62556 - acc: 0.6586 -- iter: 02944/20250\n"
     ]
    },
    {
     "name": "stdout",
     "output_type": "stream",
     "text": [
      "Training Step: 681  | total loss: \u001b[1m\u001b[32m0.62945\u001b[0m\u001b[0m | time: 11.899s\n\u001b[2K\r| Adam | epoch: 003 | loss: 0.62945 - acc: 0.6489 -- iter: 03008/20250\n"
     ]
    },
    {
     "name": "stdout",
     "output_type": "stream",
     "text": [
      "Training Step: 682  | total loss: \u001b[1m\u001b[32m0.63507\u001b[0m\u001b[0m | time: 12.178s\n\u001b[2K\r| Adam | epoch: 003 | loss: 0.63507 - acc: 0.6497 -- iter: 03072/20250\n"
     ]
    },
    {
     "name": "stdout",
     "output_type": "stream",
     "text": [
      "Training Step: 683  | total loss: \u001b[1m\u001b[32m0.63345\u001b[0m\u001b[0m | time: 12.442s\n\u001b[2K\r| Adam | epoch: 003 | loss: 0.63345 - acc: 0.6535 -- iter: 03136/20250\n"
     ]
    },
    {
     "name": "stdout",
     "output_type": "stream",
     "text": [
      "Training Step: 684  | total loss: \u001b[1m\u001b[32m0.62979\u001b[0m\u001b[0m | time: 12.687s\n\u001b[2K\r| Adam | epoch: 003 | loss: 0.62979 - acc: 0.6553 -- iter: 03200/20250\n"
     ]
    },
    {
     "name": "stdout",
     "output_type": "stream",
     "text": [
      "Training Step: 685  | total loss: \u001b[1m\u001b[32m0.61998\u001b[0m\u001b[0m | time: 12.944s\n\u001b[2K\r| Adam | epoch: 003 | loss: 0.61998 - acc: 0.6695 -- iter: 03264/20250\n"
     ]
    },
    {
     "name": "stdout",
     "output_type": "stream",
     "text": [
      "Training Step: 686  | total loss: \u001b[1m\u001b[32m0.61790\u001b[0m\u001b[0m | time: 13.194s\n\u001b[2K\r| Adam | epoch: 003 | loss: 0.61790 - acc: 0.6713 -- iter: 03328/20250\n"
     ]
    },
    {
     "name": "stdout",
     "output_type": "stream",
     "text": [
      "Training Step: 687  | total loss: \u001b[1m\u001b[32m0.61448\u001b[0m\u001b[0m | time: 13.452s\n\u001b[2K\r| Adam | epoch: 003 | loss: 0.61448 - acc: 0.6713 -- iter: 03392/20250\n"
     ]
    },
    {
     "name": "stdout",
     "output_type": "stream",
     "text": [
      "Training Step: 688  | total loss: \u001b[1m\u001b[32m0.61346\u001b[0m\u001b[0m | time: 13.704s\n\u001b[2K\r| Adam | epoch: 003 | loss: 0.61346 - acc: 0.6761 -- iter: 03456/20250\n"
     ]
    },
    {
     "name": "stdout",
     "output_type": "stream",
     "text": [
      "Training Step: 689  | total loss: \u001b[1m\u001b[32m0.61739\u001b[0m\u001b[0m | time: 13.952s\n\u001b[2K\r| Adam | epoch: 003 | loss: 0.61739 - acc: 0.6725 -- iter: 03520/20250\n"
     ]
    },
    {
     "name": "stdout",
     "output_type": "stream",
     "text": [
      "Training Step: 690  | total loss: \u001b[1m\u001b[32m0.61616\u001b[0m\u001b[0m | time: 14.197s\n\u001b[2K\r| Adam | epoch: 003 | loss: 0.61616 - acc: 0.6740 -- iter: 03584/20250\n"
     ]
    },
    {
     "name": "stdout",
     "output_type": "stream",
     "text": [
      "Training Step: 691  | total loss: \u001b[1m\u001b[32m0.61356\u001b[0m\u001b[0m | time: 14.464s\n\u001b[2K\r| Adam | epoch: 003 | loss: 0.61356 - acc: 0.6769 -- iter: 03648/20250\n"
     ]
    },
    {
     "name": "stdout",
     "output_type": "stream",
     "text": [
      "Training Step: 692  | total loss: \u001b[1m\u001b[32m0.61183\u001b[0m\u001b[0m | time: 14.731s\n\u001b[2K\r| Adam | epoch: 003 | loss: 0.61183 - acc: 0.6749 -- iter: 03712/20250\n"
     ]
    },
    {
     "name": "stdout",
     "output_type": "stream",
     "text": [
      "Training Step: 693  | total loss: \u001b[1m\u001b[32m0.61938\u001b[0m\u001b[0m | time: 14.980s\n\u001b[2K\r| Adam | epoch: 003 | loss: 0.61938 - acc: 0.6714 -- iter: 03776/20250\n"
     ]
    },
    {
     "name": "stdout",
     "output_type": "stream",
     "text": [
      "Training Step: 694  | total loss: \u001b[1m\u001b[32m0.61790\u001b[0m\u001b[0m | time: 15.231s\n\u001b[2K\r| Adam | epoch: 003 | loss: 0.61790 - acc: 0.6762 -- iter: 03840/20250\n"
     ]
    },
    {
     "name": "stdout",
     "output_type": "stream",
     "text": [
      "Training Step: 695  | total loss: \u001b[1m\u001b[32m0.61389\u001b[0m\u001b[0m | time: 15.475s\n\u001b[2K\r| Adam | epoch: 003 | loss: 0.61389 - acc: 0.6757 -- iter: 03904/20250\n"
     ]
    },
    {
     "name": "stdout",
     "output_type": "stream",
     "text": [
      "Training Step: 696  | total loss: \u001b[1m\u001b[32m0.61353\u001b[0m\u001b[0m | time: 15.723s\n\u001b[2K\r| Adam | epoch: 003 | loss: 0.61353 - acc: 0.6722 -- iter: 03968/20250\n"
     ]
    },
    {
     "name": "stdout",
     "output_type": "stream",
     "text": [
      "Training Step: 697  | total loss: \u001b[1m\u001b[32m0.61374\u001b[0m\u001b[0m | time: 15.971s\n\u001b[2K\r| Adam | epoch: 003 | loss: 0.61374 - acc: 0.6706 -- iter: 04032/20250\n"
     ]
    },
    {
     "name": "stdout",
     "output_type": "stream",
     "text": [
      "Training Step: 698  | total loss: \u001b[1m\u001b[32m0.62073\u001b[0m\u001b[0m | time: 16.228s\n\u001b[2K\r| Adam | epoch: 003 | loss: 0.62073 - acc: 0.6645 -- iter: 04096/20250\n"
     ]
    },
    {
     "name": "stdout",
     "output_type": "stream",
     "text": [
      "Training Step: 699  | total loss: \u001b[1m\u001b[32m0.62440\u001b[0m\u001b[0m | time: 16.484s\n\u001b[2K\r| Adam | epoch: 003 | loss: 0.62440 - acc: 0.6590 -- iter: 04160/20250\n"
     ]
    },
    {
     "name": "stdout",
     "output_type": "stream",
     "text": [
      "Training Step: 700  | total loss: \u001b[1m\u001b[32m0.62580\u001b[0m\u001b[0m | time: 16.745s\n\u001b[2K\r| Adam | epoch: 003 | loss: 0.62580 - acc: 0.6603 -- iter: 04224/20250\n"
     ]
    },
    {
     "name": "stdout",
     "output_type": "stream",
     "text": [
      "Training Step: 701  | total loss: \u001b[1m\u001b[32m0.61901\u001b[0m\u001b[0m | time: 17.024s\n\u001b[2K\r| Adam | epoch: 003 | loss: 0.61901 - acc: 0.6724 -- iter: 04288/20250\n"
     ]
    },
    {
     "name": "stdout",
     "output_type": "stream",
     "text": [
      "Training Step: 702  | total loss: \u001b[1m\u001b[32m0.61903\u001b[0m\u001b[0m | time: 17.292s\n\u001b[2K\r| Adam | epoch: 003 | loss: 0.61903 - acc: 0.6739 -- iter: 04352/20250\n"
     ]
    },
    {
     "name": "stdout",
     "output_type": "stream",
     "text": [
      "Training Step: 703  | total loss: \u001b[1m\u001b[32m0.61960\u001b[0m\u001b[0m | time: 17.533s\n\u001b[2K\r| Adam | epoch: 003 | loss: 0.61960 - acc: 0.6768 -- iter: 04416/20250\n"
     ]
    },
    {
     "name": "stdout",
     "output_type": "stream",
     "text": [
      "Training Step: 704  | total loss: \u001b[1m\u001b[32m0.61798\u001b[0m\u001b[0m | time: 17.787s\n\u001b[2K\r| Adam | epoch: 003 | loss: 0.61798 - acc: 0.6779 -- iter: 04480/20250\n"
     ]
    },
    {
     "name": "stdout",
     "output_type": "stream",
     "text": [
      "Training Step: 705  | total loss: \u001b[1m\u001b[32m0.62166\u001b[0m\u001b[0m | time: 18.035s\n\u001b[2K\r| Adam | epoch: 003 | loss: 0.62166 - acc: 0.6742 -- iter: 04544/20250\n"
     ]
    },
    {
     "name": "stdout",
     "output_type": "stream",
     "text": [
      "Training Step: 706  | total loss: \u001b[1m\u001b[32m0.62054\u001b[0m\u001b[0m | time: 18.286s\n\u001b[2K\r| Adam | epoch: 003 | loss: 0.62054 - acc: 0.6755 -- iter: 04608/20250\n"
     ]
    },
    {
     "name": "stdout",
     "output_type": "stream",
     "text": [
      "Training Step: 707  | total loss: \u001b[1m\u001b[32m0.61696\u001b[0m\u001b[0m | time: 18.540s\n\u001b[2K\r| Adam | epoch: 003 | loss: 0.61696 - acc: 0.6783 -- iter: 04672/20250\n"
     ]
    },
    {
     "name": "stdout",
     "output_type": "stream",
     "text": [
      "Training Step: 708  | total loss: \u001b[1m\u001b[32m0.61295\u001b[0m\u001b[0m | time: 18.792s\n\u001b[2K\r| Adam | epoch: 003 | loss: 0.61295 - acc: 0.6792 -- iter: 04736/20250\n"
     ]
    },
    {
     "name": "stdout",
     "output_type": "stream",
     "text": [
      "Training Step: 709  | total loss: \u001b[1m\u001b[32m0.61519\u001b[0m\u001b[0m | time: 19.047s\n\u001b[2K\r| Adam | epoch: 003 | loss: 0.61519 - acc: 0.6738 -- iter: 04800/20250\n"
     ]
    },
    {
     "name": "stdout",
     "output_type": "stream",
     "text": [
      "Training Step: 710  | total loss: \u001b[1m\u001b[32m0.61737\u001b[0m\u001b[0m | time: 19.295s\n\u001b[2K\r| Adam | epoch: 003 | loss: 0.61737 - acc: 0.6689 -- iter: 04864/20250\n"
     ]
    },
    {
     "name": "stdout",
     "output_type": "stream",
     "text": [
      "Training Step: 711  | total loss: \u001b[1m\u001b[32m0.61440\u001b[0m\u001b[0m | time: 19.568s\n\u001b[2K\r| Adam | epoch: 003 | loss: 0.61440 - acc: 0.6723 -- iter: 04928/20250\n"
     ]
    },
    {
     "name": "stdout",
     "output_type": "stream",
     "text": [
      "Training Step: 712  | total loss: \u001b[1m\u001b[32m0.60773\u001b[0m\u001b[0m | time: 19.831s\n\u001b[2K\r| Adam | epoch: 003 | loss: 0.60773 - acc: 0.6785 -- iter: 04992/20250\n"
     ]
    },
    {
     "name": "stdout",
     "output_type": "stream",
     "text": [
      "Training Step: 713  | total loss: \u001b[1m\u001b[32m0.60428\u001b[0m\u001b[0m | time: 20.071s\n\u001b[2K\r| Adam | epoch: 003 | loss: 0.60428 - acc: 0.6779 -- iter: 05056/20250\n"
     ]
    },
    {
     "name": "stdout",
     "output_type": "stream",
     "text": [
      "Training Step: 714  | total loss: \u001b[1m\u001b[32m0.60364\u001b[0m\u001b[0m | time: 20.320s\n\u001b[2K\r| Adam | epoch: 003 | loss: 0.60364 - acc: 0.6804 -- iter: 05120/20250\n"
     ]
    },
    {
     "name": "stdout",
     "output_type": "stream",
     "text": [
      "Training Step: 715  | total loss: \u001b[1m\u001b[32m0.60265\u001b[0m\u001b[0m | time: 20.573s\n\u001b[2K\r| Adam | epoch: 003 | loss: 0.60265 - acc: 0.6827 -- iter: 05184/20250\n"
     ]
    },
    {
     "name": "stdout",
     "output_type": "stream",
     "text": [
      "Training Step: 716  | total loss: \u001b[1m\u001b[32m0.60132\u001b[0m\u001b[0m | time: 20.819s\n\u001b[2K\r| Adam | epoch: 003 | loss: 0.60132 - acc: 0.6800 -- iter: 05248/20250\n"
     ]
    },
    {
     "name": "stdout",
     "output_type": "stream",
     "text": [
      "Training Step: 717  | total loss: \u001b[1m\u001b[32m0.60182\u001b[0m\u001b[0m | time: 21.065s\n\u001b[2K\r| Adam | epoch: 003 | loss: 0.60182 - acc: 0.6808 -- iter: 05312/20250\n"
     ]
    },
    {
     "name": "stdout",
     "output_type": "stream",
     "text": [
      "Training Step: 718  | total loss: \u001b[1m\u001b[32m0.60622\u001b[0m\u001b[0m | time: 21.315s\n\u001b[2K\r| Adam | epoch: 003 | loss: 0.60622 - acc: 0.6736 -- iter: 05376/20250\n"
     ]
    },
    {
     "name": "stdout",
     "output_type": "stream",
     "text": [
      "Training Step: 719  | total loss: \u001b[1m\u001b[32m0.60005\u001b[0m\u001b[0m | time: 21.557s\n\u001b[2K\r| Adam | epoch: 003 | loss: 0.60005 - acc: 0.6781 -- iter: 05440/20250\n"
     ]
    },
    {
     "name": "stdout",
     "output_type": "stream",
     "text": [
      "Training Step: 720  | total loss: \u001b[1m\u001b[32m0.60190\u001b[0m\u001b[0m | time: 21.816s\n\u001b[2K\r| Adam | epoch: 003 | loss: 0.60190 - acc: 0.6775 -- iter: 05504/20250\n"
     ]
    },
    {
     "name": "stdout",
     "output_type": "stream",
     "text": [
      "Training Step: 721  | total loss: \u001b[1m\u001b[32m0.61011\u001b[0m\u001b[0m | time: 22.088s\n\u001b[2K\r| Adam | epoch: 003 | loss: 0.61011 - acc: 0.6691 -- iter: 05568/20250\n"
     ]
    },
    {
     "name": "stdout",
     "output_type": "stream",
     "text": [
      "Training Step: 722  | total loss: \u001b[1m\u001b[32m0.60974\u001b[0m\u001b[0m | time: 22.343s\n\u001b[2K\r| Adam | epoch: 003 | loss: 0.60974 - acc: 0.6741 -- iter: 05632/20250\n"
     ]
    },
    {
     "name": "stdout",
     "output_type": "stream",
     "text": [
      "Training Step: 723  | total loss: \u001b[1m\u001b[32m0.61613\u001b[0m\u001b[0m | time: 22.590s\n\u001b[2K\r| Adam | epoch: 003 | loss: 0.61613 - acc: 0.6692 -- iter: 05696/20250\n"
     ]
    },
    {
     "name": "stdout",
     "output_type": "stream",
     "text": [
      "Training Step: 724  | total loss: \u001b[1m\u001b[32m0.61189\u001b[0m\u001b[0m | time: 22.838s\n\u001b[2K\r| Adam | epoch: 003 | loss: 0.61189 - acc: 0.6820 -- iter: 05760/20250\n"
     ]
    },
    {
     "name": "stdout",
     "output_type": "stream",
     "text": [
      "Training Step: 725  | total loss: \u001b[1m\u001b[32m0.61078\u001b[0m\u001b[0m | time: 23.086s\n\u001b[2K\r| Adam | epoch: 003 | loss: 0.61078 - acc: 0.6763 -- iter: 05824/20250\n"
     ]
    },
    {
     "name": "stdout",
     "output_type": "stream",
     "text": [
      "Training Step: 726  | total loss: \u001b[1m\u001b[32m0.60614\u001b[0m\u001b[0m | time: 23.328s\n\u001b[2K\r| Adam | epoch: 003 | loss: 0.60614 - acc: 0.6805 -- iter: 05888/20250\n"
     ]
    },
    {
     "name": "stdout",
     "output_type": "stream",
     "text": [
      "Training Step: 727  | total loss: \u001b[1m\u001b[32m0.60244\u001b[0m\u001b[0m | time: 23.570s\n\u001b[2K\r| Adam | epoch: 003 | loss: 0.60244 - acc: 0.6812 -- iter: 05952/20250\n"
     ]
    },
    {
     "name": "stdout",
     "output_type": "stream",
     "text": [
      "Training Step: 728  | total loss: \u001b[1m\u001b[32m0.60474\u001b[0m\u001b[0m | time: 23.819s\n\u001b[2K\r| Adam | epoch: 003 | loss: 0.60474 - acc: 0.6818 -- iter: 06016/20250\n"
     ]
    },
    {
     "name": "stdout",
     "output_type": "stream",
     "text": [
      "Training Step: 729  | total loss: \u001b[1m\u001b[32m0.60949\u001b[0m\u001b[0m | time: 24.065s\n\u001b[2K\r| Adam | epoch: 003 | loss: 0.60949 - acc: 0.6808 -- iter: 06080/20250\n"
     ]
    },
    {
     "name": "stdout",
     "output_type": "stream",
     "text": [
      "Training Step: 730  | total loss: \u001b[1m\u001b[32m0.61083\u001b[0m\u001b[0m | time: 24.309s\n\u001b[2K\r| Adam | epoch: 003 | loss: 0.61083 - acc: 0.6768 -- iter: 06144/20250\n"
     ]
    },
    {
     "name": "stdout",
     "output_type": "stream",
     "text": [
      "Training Step: 731  | total loss: \u001b[1m\u001b[32m0.60575\u001b[0m\u001b[0m | time: 24.565s\n\u001b[2K\r| Adam | epoch: 003 | loss: 0.60575 - acc: 0.6826 -- iter: 06208/20250\n"
     ]
    },
    {
     "name": "stdout",
     "output_type": "stream",
     "text": [
      "Training Step: 732  | total loss: \u001b[1m\u001b[32m0.61123\u001b[0m\u001b[0m | time: 24.847s\n\u001b[2K\r| Adam | epoch: 003 | loss: 0.61123 - acc: 0.6768 -- iter: 06272/20250\n"
     ]
    },
    {
     "name": "stdout",
     "output_type": "stream",
     "text": [
      "Training Step: 733  | total loss: \u001b[1m\u001b[32m0.61528\u001b[0m\u001b[0m | time: 25.089s\n\u001b[2K\r| Adam | epoch: 003 | loss: 0.61528 - acc: 0.6685 -- iter: 06336/20250\n"
     ]
    },
    {
     "name": "stdout",
     "output_type": "stream",
     "text": [
      "Training Step: 734  | total loss: \u001b[1m\u001b[32m0.61437\u001b[0m\u001b[0m | time: 25.334s\n\u001b[2K\r| Adam | epoch: 003 | loss: 0.61437 - acc: 0.6673 -- iter: 06400/20250\n"
     ]
    },
    {
     "name": "stdout",
     "output_type": "stream",
     "text": [
      "Training Step: 735  | total loss: \u001b[1m\u001b[32m0.62122\u001b[0m\u001b[0m | time: 25.583s\n\u001b[2K\r| Adam | epoch: 003 | loss: 0.62122 - acc: 0.6584 -- iter: 06464/20250\n"
     ]
    },
    {
     "name": "stdout",
     "output_type": "stream",
     "text": [
      "Training Step: 736  | total loss: \u001b[1m\u001b[32m0.62379\u001b[0m\u001b[0m | time: 25.833s\n\u001b[2K\r| Adam | epoch: 003 | loss: 0.62379 - acc: 0.6550 -- iter: 06528/20250\n"
     ]
    },
    {
     "name": "stdout",
     "output_type": "stream",
     "text": [
      "Training Step: 737  | total loss: \u001b[1m\u001b[32m0.62383\u001b[0m\u001b[0m | time: 26.076s\n\u001b[2K\r| Adam | epoch: 003 | loss: 0.62383 - acc: 0.6567 -- iter: 06592/20250\n"
     ]
    },
    {
     "name": "stdout",
     "output_type": "stream",
     "text": [
      "Training Step: 738  | total loss: \u001b[1m\u001b[32m0.61689\u001b[0m\u001b[0m | time: 26.321s\n\u001b[2K\r| Adam | epoch: 003 | loss: 0.61689 - acc: 0.6567 -- iter: 06656/20250\n"
     ]
    },
    {
     "name": "stdout",
     "output_type": "stream",
     "text": [
      "Training Step: 739  | total loss: \u001b[1m\u001b[32m0.62051\u001b[0m\u001b[0m | time: 26.569s\n\u001b[2K\r| Adam | epoch: 003 | loss: 0.62051 - acc: 0.6504 -- iter: 06720/20250\n"
     ]
    },
    {
     "name": "stdout",
     "output_type": "stream",
     "text": [
      "Training Step: 740  | total loss: \u001b[1m\u001b[32m0.63188\u001b[0m\u001b[0m | time: 26.815s\n\u001b[2K\r| Adam | epoch: 003 | loss: 0.63188 - acc: 0.6369 -- iter: 06784/20250\n"
     ]
    },
    {
     "name": "stdout",
     "output_type": "stream",
     "text": [
      "Training Step: 741  | total loss: \u001b[1m\u001b[32m0.62065\u001b[0m\u001b[0m | time: 27.090s\n\u001b[2K\r| Adam | epoch: 003 | loss: 0.62065 - acc: 0.6388 -- iter: 06848/20250\n"
     ]
    },
    {
     "name": "stdout",
     "output_type": "stream",
     "text": [
      "Training Step: 742  | total loss: \u001b[1m\u001b[32m0.62570\u001b[0m\u001b[0m | time: 27.367s\n\u001b[2K\r| Adam | epoch: 003 | loss: 0.62570 - acc: 0.6265 -- iter: 06912/20250\n"
     ]
    },
    {
     "name": "stdout",
     "output_type": "stream",
     "text": [
      "Training Step: 743  | total loss: \u001b[1m\u001b[32m0.62389\u001b[0m\u001b[0m | time: 27.609s\n\u001b[2K\r| Adam | epoch: 003 | loss: 0.62389 - acc: 0.6326 -- iter: 06976/20250\n"
     ]
    },
    {
     "name": "stdout",
     "output_type": "stream",
     "text": [
      "Training Step: 744  | total loss: \u001b[1m\u001b[32m0.62610\u001b[0m\u001b[0m | time: 27.860s\n\u001b[2K\r| Adam | epoch: 003 | loss: 0.62610 - acc: 0.6225 -- iter: 07040/20250\n"
     ]
    },
    {
     "name": "stdout",
     "output_type": "stream",
     "text": [
      "Training Step: 745  | total loss: \u001b[1m\u001b[32m0.62441\u001b[0m\u001b[0m | time: 28.110s\n\u001b[2K\r| Adam | epoch: 003 | loss: 0.62441 - acc: 0.6212 -- iter: 07104/20250\n"
     ]
    },
    {
     "name": "stdout",
     "output_type": "stream",
     "text": [
      "Training Step: 746  | total loss: \u001b[1m\u001b[32m0.62800\u001b[0m\u001b[0m | time: 28.367s\n\u001b[2K\r| Adam | epoch: 003 | loss: 0.62800 - acc: 0.6106 -- iter: 07168/20250\n"
     ]
    },
    {
     "name": "stdout",
     "output_type": "stream",
     "text": [
      "Training Step: 747  | total loss: \u001b[1m\u001b[32m0.63475\u001b[0m\u001b[0m | time: 28.631s\n\u001b[2K\r| Adam | epoch: 003 | loss: 0.63475 - acc: 0.6011 -- iter: 07232/20250\n"
     ]
    },
    {
     "name": "stdout",
     "output_type": "stream",
     "text": [
      "Training Step: 748  | total loss: \u001b[1m\u001b[32m0.63608\u001b[0m\u001b[0m | time: 28.892s\n\u001b[2K\r| Adam | epoch: 003 | loss: 0.63608 - acc: 0.6004 -- iter: 07296/20250\n"
     ]
    },
    {
     "name": "stdout",
     "output_type": "stream",
     "text": [
      "Training Step: 749  | total loss: \u001b[1m\u001b[32m0.63050\u001b[0m\u001b[0m | time: 29.137s\n\u001b[2K\r| Adam | epoch: 003 | loss: 0.63050 - acc: 0.6060 -- iter: 07360/20250\n"
     ]
    },
    {
     "name": "stdout",
     "output_type": "stream",
     "text": [
      "Training Step: 750  | total loss: \u001b[1m\u001b[32m0.62895\u001b[0m\u001b[0m | time: 29.393s\n\u001b[2K\r| Adam | epoch: 003 | loss: 0.62895 - acc: 0.6126 -- iter: 07424/20250\n"
     ]
    },
    {
     "name": "stdout",
     "output_type": "stream",
     "text": [
      "Training Step: 751  | total loss: \u001b[1m\u001b[32m0.62806\u001b[0m\u001b[0m | time: 29.641s\n\u001b[2K\r| Adam | epoch: 003 | loss: 0.62806 - acc: 0.6201 -- iter: 07488/20250\n"
     ]
    },
    {
     "name": "stdout",
     "output_type": "stream",
     "text": [
      "Training Step: 752  | total loss: \u001b[1m\u001b[32m0.62966\u001b[0m\u001b[0m | time: 29.899s\n\u001b[2K\r| Adam | epoch: 003 | loss: 0.62966 - acc: 0.6174 -- iter: 07552/20250\n"
     ]
    },
    {
     "name": "stdout",
     "output_type": "stream",
     "text": [
      "Training Step: 753  | total loss: \u001b[1m\u001b[32m0.63008\u001b[0m\u001b[0m | time: 30.141s\n\u001b[2K\r| Adam | epoch: 003 | loss: 0.63008 - acc: 0.6166 -- iter: 07616/20250\n"
     ]
    },
    {
     "name": "stdout",
     "output_type": "stream",
     "text": [
      "Training Step: 754  | total loss: \u001b[1m\u001b[32m0.63425\u001b[0m\u001b[0m | time: 30.395s\n\u001b[2K\r| Adam | epoch: 003 | loss: 0.63425 - acc: 0.6175 -- iter: 07680/20250\n"
     ]
    },
    {
     "name": "stdout",
     "output_type": "stream",
     "text": [
      "Training Step: 755  | total loss: \u001b[1m\u001b[32m0.63996\u001b[0m\u001b[0m | time: 30.643s\n\u001b[2K\r| Adam | epoch: 003 | loss: 0.63996 - acc: 0.6104 -- iter: 07744/20250\n"
     ]
    },
    {
     "name": "stdout",
     "output_type": "stream",
     "text": [
      "Training Step: 756  | total loss: \u001b[1m\u001b[32m0.64396\u001b[0m\u001b[0m | time: 30.891s\n\u001b[2K\r| Adam | epoch: 003 | loss: 0.64396 - acc: 0.6072 -- iter: 07808/20250\n"
     ]
    },
    {
     "name": "stdout",
     "output_type": "stream",
     "text": [
      "Training Step: 757  | total loss: \u001b[1m\u001b[32m0.64305\u001b[0m\u001b[0m | time: 31.133s\n\u001b[2K\r| Adam | epoch: 003 | loss: 0.64305 - acc: 0.6058 -- iter: 07872/20250\n"
     ]
    },
    {
     "name": "stdout",
     "output_type": "stream",
     "text": [
      "Training Step: 758  | total loss: \u001b[1m\u001b[32m0.63607\u001b[0m\u001b[0m | time: 31.381s\n\u001b[2K\r| Adam | epoch: 003 | loss: 0.63607 - acc: 0.6171 -- iter: 07936/20250\n"
     ]
    },
    {
     "name": "stdout",
     "output_type": "stream",
     "text": [
      "Training Step: 759  | total loss: \u001b[1m\u001b[32m0.63306\u001b[0m\u001b[0m | time: 31.645s\n\u001b[2K\r| Adam | epoch: 003 | loss: 0.63306 - acc: 0.6273 -- iter: 08000/20250\n"
     ]
    },
    {
     "name": "stdout",
     "output_type": "stream",
     "text": [
      "Training Step: 760  | total loss: \u001b[1m\u001b[32m0.62816\u001b[0m\u001b[0m | time: 31.901s\n\u001b[2K\r| Adam | epoch: 003 | loss: 0.62816 - acc: 0.6333 -- iter: 08064/20250\n"
     ]
    },
    {
     "name": "stdout",
     "output_type": "stream",
     "text": [
      "Training Step: 761  | total loss: \u001b[1m\u001b[32m0.62796\u001b[0m\u001b[0m | time: 32.148s\n\u001b[2K\r| Adam | epoch: 003 | loss: 0.62796 - acc: 0.6387 -- iter: 08128/20250\n"
     ]
    },
    {
     "name": "stdout",
     "output_type": "stream",
     "text": [
      "Training Step: 762  | total loss: \u001b[1m\u001b[32m0.63117\u001b[0m\u001b[0m | time: 32.390s\n\u001b[2K\r| Adam | epoch: 003 | loss: 0.63117 - acc: 0.6327 -- iter: 08192/20250\n"
     ]
    },
    {
     "name": "stdout",
     "output_type": "stream",
     "text": [
      "Training Step: 763  | total loss: \u001b[1m\u001b[32m0.63099\u001b[0m\u001b[0m | time: 32.648s\n\u001b[2K\r| Adam | epoch: 003 | loss: 0.63099 - acc: 0.6335 -- iter: 08256/20250\n"
     ]
    },
    {
     "name": "stdout",
     "output_type": "stream",
     "text": [
      "Training Step: 764  | total loss: \u001b[1m\u001b[32m0.62903\u001b[0m\u001b[0m | time: 32.898s\n\u001b[2K\r| Adam | epoch: 003 | loss: 0.62903 - acc: 0.6373 -- iter: 08320/20250\n"
     ]
    },
    {
     "name": "stdout",
     "output_type": "stream",
     "text": [
      "Training Step: 765  | total loss: \u001b[1m\u001b[32m0.62913\u001b[0m\u001b[0m | time: 33.137s\n\u001b[2K\r| Adam | epoch: 003 | loss: 0.62913 - acc: 0.6361 -- iter: 08384/20250\n"
     ]
    },
    {
     "name": "stdout",
     "output_type": "stream",
     "text": [
      "Training Step: 766  | total loss: \u001b[1m\u001b[32m0.63578\u001b[0m\u001b[0m | time: 33.378s\n\u001b[2K\r| Adam | epoch: 003 | loss: 0.63578 - acc: 0.6272 -- iter: 08448/20250\n"
     ]
    },
    {
     "name": "stdout",
     "output_type": "stream",
     "text": [
      "Training Step: 767  | total loss: \u001b[1m\u001b[32m0.63756\u001b[0m\u001b[0m | time: 33.619s\n\u001b[2K\r| Adam | epoch: 003 | loss: 0.63756 - acc: 0.6285 -- iter: 08512/20250\n"
     ]
    },
    {
     "name": "stdout",
     "output_type": "stream",
     "text": [
      "Training Step: 768  | total loss: \u001b[1m\u001b[32m0.63785\u001b[0m\u001b[0m | time: 33.862s\n\u001b[2K\r| Adam | epoch: 003 | loss: 0.63785 - acc: 0.6297 -- iter: 08576/20250\n"
     ]
    },
    {
     "name": "stdout",
     "output_type": "stream",
     "text": [
      "Training Step: 769  | total loss: \u001b[1m\u001b[32m0.63851\u001b[0m\u001b[0m | time: 34.118s\n\u001b[2K\r| Adam | epoch: 003 | loss: 0.63851 - acc: 0.6277 -- iter: 08640/20250\n"
     ]
    },
    {
     "name": "stdout",
     "output_type": "stream",
     "text": [
      "Training Step: 770  | total loss: \u001b[1m\u001b[32m0.63706\u001b[0m\u001b[0m | time: 34.376s\n\u001b[2K\r| Adam | epoch: 003 | loss: 0.63706 - acc: 0.6290 -- iter: 08704/20250\n"
     ]
    },
    {
     "name": "stdout",
     "output_type": "stream",
     "text": [
      "Training Step: 771  | total loss: \u001b[1m\u001b[32m0.63721\u001b[0m\u001b[0m | time: 34.622s\n\u001b[2K\r| Adam | epoch: 003 | loss: 0.63721 - acc: 0.6286 -- iter: 08768/20250\n"
     ]
    },
    {
     "name": "stdout",
     "output_type": "stream",
     "text": [
      "Training Step: 772  | total loss: \u001b[1m\u001b[32m0.63567\u001b[0m\u001b[0m | time: 34.872s\n\u001b[2K\r| Adam | epoch: 003 | loss: 0.63567 - acc: 0.6298 -- iter: 08832/20250\n"
     ]
    },
    {
     "name": "stdout",
     "output_type": "stream",
     "text": [
      "Training Step: 773  | total loss: \u001b[1m\u001b[32m0.64342\u001b[0m\u001b[0m | time: 35.117s\n\u001b[2K\r| Adam | epoch: 003 | loss: 0.64342 - acc: 0.6246 -- iter: 08896/20250\n"
     ]
    },
    {
     "name": "stdout",
     "output_type": "stream",
     "text": [
      "Training Step: 774  | total loss: \u001b[1m\u001b[32m0.64030\u001b[0m\u001b[0m | time: 35.356s\n\u001b[2K\r| Adam | epoch: 003 | loss: 0.64030 - acc: 0.6293 -- iter: 08960/20250\n"
     ]
    },
    {
     "name": "stdout",
     "output_type": "stream",
     "text": [
      "Training Step: 775  | total loss: \u001b[1m\u001b[32m0.64012\u001b[0m\u001b[0m | time: 35.603s\n\u001b[2K\r| Adam | epoch: 003 | loss: 0.64012 - acc: 0.6289 -- iter: 09024/20250\n"
     ]
    },
    {
     "name": "stdout",
     "output_type": "stream",
     "text": [
      "Training Step: 776  | total loss: \u001b[1m\u001b[32m0.63742\u001b[0m\u001b[0m | time: 35.857s\n\u001b[2K\r| Adam | epoch: 003 | loss: 0.63742 - acc: 0.6254 -- iter: 09088/20250\n"
     ]
    },
    {
     "name": "stdout",
     "output_type": "stream",
     "text": [
      "Training Step: 777  | total loss: \u001b[1m\u001b[32m0.63806\u001b[0m\u001b[0m | time: 36.102s\n\u001b[2K\r| Adam | epoch: 003 | loss: 0.63806 - acc: 0.6207 -- iter: 09152/20250\n"
     ]
    },
    {
     "name": "stdout",
     "output_type": "stream",
     "text": [
      "Training Step: 778  | total loss: \u001b[1m\u001b[32m0.63304\u001b[0m\u001b[0m | time: 36.353s\n\u001b[2K\r| Adam | epoch: 003 | loss: 0.63304 - acc: 0.6227 -- iter: 09216/20250\n"
     ]
    },
    {
     "name": "stdout",
     "output_type": "stream",
     "text": [
      "Training Step: 779  | total loss: \u001b[1m\u001b[32m0.63324\u001b[0m\u001b[0m | time: 36.619s\n\u001b[2K\r| Adam | epoch: 003 | loss: 0.63324 - acc: 0.6245 -- iter: 09280/20250\n"
     ]
    },
    {
     "name": "stdout",
     "output_type": "stream",
     "text": [
      "Training Step: 780  | total loss: \u001b[1m\u001b[32m0.63415\u001b[0m\u001b[0m | time: 36.880s\n\u001b[2K\r| Adam | epoch: 003 | loss: 0.63415 - acc: 0.6183 -- iter: 09344/20250\n"
     ]
    },
    {
     "name": "stdout",
     "output_type": "stream",
     "text": [
      "Training Step: 781  | total loss: \u001b[1m\u001b[32m0.63536\u001b[0m\u001b[0m | time: 37.123s\n\u001b[2K\r| Adam | epoch: 003 | loss: 0.63536 - acc: 0.6127 -- iter: 09408/20250\n"
     ]
    },
    {
     "name": "stdout",
     "output_type": "stream",
     "text": [
      "Training Step: 782  | total loss: \u001b[1m\u001b[32m0.63367\u001b[0m\u001b[0m | time: 37.364s\n\u001b[2K\r| Adam | epoch: 003 | loss: 0.63367 - acc: 0.6155 -- iter: 09472/20250\n"
     ]
    },
    {
     "name": "stdout",
     "output_type": "stream",
     "text": [
      "Training Step: 783  | total loss: \u001b[1m\u001b[32m0.63276\u001b[0m\u001b[0m | time: 37.609s\n\u001b[2K\r| Adam | epoch: 003 | loss: 0.63276 - acc: 0.6180 -- iter: 09536/20250\n"
     ]
    },
    {
     "name": "stdout",
     "output_type": "stream",
     "text": [
      "Training Step: 784  | total loss: \u001b[1m\u001b[32m0.63042\u001b[0m\u001b[0m | time: 37.851s\n\u001b[2K\r| Adam | epoch: 003 | loss: 0.63042 - acc: 0.6187 -- iter: 09600/20250\n"
     ]
    },
    {
     "name": "stdout",
     "output_type": "stream",
     "text": [
      "Training Step: 785  | total loss: \u001b[1m\u001b[32m0.62917\u001b[0m\u001b[0m | time: 38.091s\n\u001b[2K\r| Adam | epoch: 003 | loss: 0.62917 - acc: 0.6209 -- iter: 09664/20250\n"
     ]
    },
    {
     "name": "stdout",
     "output_type": "stream",
     "text": [
      "Training Step: 786  | total loss: \u001b[1m\u001b[32m0.62679\u001b[0m\u001b[0m | time: 38.339s\n\u001b[2K\r| Adam | epoch: 003 | loss: 0.62679 - acc: 0.6307 -- iter: 09728/20250\n"
     ]
    },
    {
     "name": "stdout",
     "output_type": "stream",
     "text": [
      "Training Step: 787  | total loss: \u001b[1m\u001b[32m0.62703\u001b[0m\u001b[0m | time: 38.586s\n\u001b[2K\r| Adam | epoch: 003 | loss: 0.62703 - acc: 0.6285 -- iter: 09792/20250\n"
     ]
    },
    {
     "name": "stdout",
     "output_type": "stream",
     "text": [
      "Training Step: 788  | total loss: \u001b[1m\u001b[32m0.62304\u001b[0m\u001b[0m | time: 38.840s\n\u001b[2K\r| Adam | epoch: 003 | loss: 0.62304 - acc: 0.6313 -- iter: 09856/20250\n"
     ]
    },
    {
     "name": "stdout",
     "output_type": "stream",
     "text": [
      "Training Step: 789  | total loss: \u001b[1m\u001b[32m0.62135\u001b[0m\u001b[0m | time: 39.096s\n\u001b[2K\r| Adam | epoch: 003 | loss: 0.62135 - acc: 0.6354 -- iter: 09920/20250\n"
     ]
    },
    {
     "name": "stdout",
     "output_type": "stream",
     "text": [
      "Training Step: 790  | total loss: \u001b[1m\u001b[32m0.62070\u001b[0m\u001b[0m | time: 39.341s\n\u001b[2K\r| Adam | epoch: 003 | loss: 0.62070 - acc: 0.6375 -- iter: 09984/20250\n"
     ]
    },
    {
     "name": "stdout",
     "output_type": "stream",
     "text": [
      "Training Step: 791  | total loss: \u001b[1m\u001b[32m0.61828\u001b[0m\u001b[0m | time: 39.587s\n\u001b[2K\r| Adam | epoch: 003 | loss: 0.61828 - acc: 0.6487 -- iter: 10048/20250\n"
     ]
    },
    {
     "name": "stdout",
     "output_type": "stream",
     "text": [
      "Training Step: 792  | total loss: \u001b[1m\u001b[32m0.62039\u001b[0m\u001b[0m | time: 39.836s\n\u001b[2K\r| Adam | epoch: 003 | loss: 0.62039 - acc: 0.6479 -- iter: 10112/20250\n"
     ]
    },
    {
     "name": "stdout",
     "output_type": "stream",
     "text": [
      "Training Step: 793  | total loss: \u001b[1m\u001b[32m0.61926\u001b[0m\u001b[0m | time: 40.083s\n\u001b[2K\r| Adam | epoch: 003 | loss: 0.61926 - acc: 0.6487 -- iter: 10176/20250\n"
     ]
    },
    {
     "name": "stdout",
     "output_type": "stream",
     "text": [
      "Training Step: 794  | total loss: \u001b[1m\u001b[32m0.61809\u001b[0m\u001b[0m | time: 40.329s\n\u001b[2K\r| Adam | epoch: 003 | loss: 0.61809 - acc: 0.6542 -- iter: 10240/20250\n"
     ]
    },
    {
     "name": "stdout",
     "output_type": "stream",
     "text": [
      "Training Step: 795  | total loss: \u001b[1m\u001b[32m0.60951\u001b[0m\u001b[0m | time: 40.578s\n\u001b[2K\r| Adam | epoch: 003 | loss: 0.60951 - acc: 0.6700 -- iter: 10304/20250\n"
     ]
    },
    {
     "name": "stdout",
     "output_type": "stream",
     "text": [
      "Training Step: 796  | total loss: \u001b[1m\u001b[32m0.61767\u001b[0m\u001b[0m | time: 40.826s\n\u001b[2K\r| Adam | epoch: 003 | loss: 0.61767 - acc: 0.6624 -- iter: 10368/20250\n"
     ]
    },
    {
     "name": "stdout",
     "output_type": "stream",
     "text": [
      "Training Step: 797  | total loss: \u001b[1m\u001b[32m0.61725\u001b[0m\u001b[0m | time: 41.072s\n\u001b[2K\r| Adam | epoch: 003 | loss: 0.61725 - acc: 0.6633 -- iter: 10432/20250\n"
     ]
    },
    {
     "name": "stdout",
     "output_type": "stream",
     "text": [
      "Training Step: 798  | total loss: \u001b[1m\u001b[32m0.61935\u001b[0m\u001b[0m | time: 41.330s\n\u001b[2K\r| Adam | epoch: 003 | loss: 0.61935 - acc: 0.6642 -- iter: 10496/20250\n"
     ]
    },
    {
     "name": "stdout",
     "output_type": "stream",
     "text": [
      "Training Step: 799  | total loss: \u001b[1m\u001b[32m0.62584\u001b[0m\u001b[0m | time: 41.592s\n\u001b[2K\r| Adam | epoch: 003 | loss: 0.62584 - acc: 0.6571 -- iter: 10560/20250\n"
     ]
    },
    {
     "name": "stdout",
     "output_type": "stream",
     "text": [
      "Training Step: 800  | total loss: \u001b[1m\u001b[32m0.62620\u001b[0m\u001b[0m | time: 41.842s\n\u001b[2K\r| Adam | epoch: 003 | loss: 0.62620 - acc: 0.6539 -- iter: 10624/20250\n"
     ]
    },
    {
     "name": "stdout",
     "output_type": "stream",
     "text": [
      "Training Step: 801  | total loss: \u001b[1m\u001b[32m0.62548\u001b[0m\u001b[0m | time: 42.094s\n\u001b[2K\r| Adam | epoch: 003 | loss: 0.62548 - acc: 0.6557 -- iter: 10688/20250\n"
     ]
    },
    {
     "name": "stdout",
     "output_type": "stream",
     "text": [
      "Training Step: 802  | total loss: \u001b[1m\u001b[32m0.62306\u001b[0m\u001b[0m | time: 42.339s\n\u001b[2K\r| Adam | epoch: 003 | loss: 0.62306 - acc: 0.6511 -- iter: 10752/20250\n"
     ]
    },
    {
     "name": "stdout",
     "output_type": "stream",
     "text": [
      "Training Step: 803  | total loss: \u001b[1m\u001b[32m0.62920\u001b[0m\u001b[0m | time: 42.590s\n\u001b[2K\r| Adam | epoch: 003 | loss: 0.62920 - acc: 0.6438 -- iter: 10816/20250\n"
     ]
    },
    {
     "name": "stdout",
     "output_type": "stream",
     "text": [
      "Training Step: 804  | total loss: \u001b[1m\u001b[32m0.62040\u001b[0m\u001b[0m | time: 42.846s\n\u001b[2K\r| Adam | epoch: 003 | loss: 0.62040 - acc: 0.6482 -- iter: 10880/20250\n"
     ]
    },
    {
     "name": "stdout",
     "output_type": "stream",
     "text": [
      "Training Step: 805  | total loss: \u001b[1m\u001b[32m0.62449\u001b[0m\u001b[0m | time: 43.101s\n\u001b[2K\r| Adam | epoch: 003 | loss: 0.62449 - acc: 0.6474 -- iter: 10944/20250\n"
     ]
    },
    {
     "name": "stdout",
     "output_type": "stream",
     "text": [
      "Training Step: 806  | total loss: \u001b[1m\u001b[32m0.62829\u001b[0m\u001b[0m | time: 43.347s\n\u001b[2K\r| Adam | epoch: 003 | loss: 0.62829 - acc: 0.6483 -- iter: 11008/20250\n"
     ]
    },
    {
     "name": "stdout",
     "output_type": "stream",
     "text": [
      "Training Step: 807  | total loss: \u001b[1m\u001b[32m0.63177\u001b[0m\u001b[0m | time: 43.603s\n\u001b[2K\r| Adam | epoch: 003 | loss: 0.63177 - acc: 0.6460 -- iter: 11072/20250\n"
     ]
    },
    {
     "name": "stdout",
     "output_type": "stream",
     "text": [
      "Training Step: 808  | total loss: \u001b[1m\u001b[32m0.64596\u001b[0m\u001b[0m | time: 43.856s\n\u001b[2K\r| Adam | epoch: 003 | loss: 0.64596 - acc: 0.6345 -- iter: 11136/20250\n"
     ]
    },
    {
     "name": "stdout",
     "output_type": "stream",
     "text": [
      "Training Step: 809  | total loss: \u001b[1m\u001b[32m0.65384\u001b[0m\u001b[0m | time: 44.113s\n\u001b[2K\r| Adam | epoch: 003 | loss: 0.65384 - acc: 0.6242 -- iter: 11200/20250\n"
     ]
    },
    {
     "name": "stdout",
     "output_type": "stream",
     "text": [
      "Training Step: 810  | total loss: \u001b[1m\u001b[32m0.65613\u001b[0m\u001b[0m | time: 44.369s\n\u001b[2K\r| Adam | epoch: 003 | loss: 0.65613 - acc: 0.6164 -- iter: 11264/20250\n"
     ]
    },
    {
     "name": "stdout",
     "output_type": "stream",
     "text": [
      "Training Step: 811  | total loss: \u001b[1m\u001b[32m0.65716\u001b[0m\u001b[0m | time: 44.610s\n\u001b[2K\r| Adam | epoch: 003 | loss: 0.65716 - acc: 0.6110 -- iter: 11328/20250\n"
     ]
    },
    {
     "name": "stdout",
     "output_type": "stream",
     "text": [
      "Training Step: 812  | total loss: \u001b[1m\u001b[32m0.65726\u001b[0m\u001b[0m | time: 44.863s\n\u001b[2K\r| Adam | epoch: 003 | loss: 0.65726 - acc: 0.6078 -- iter: 11392/20250\n"
     ]
    },
    {
     "name": "stdout",
     "output_type": "stream",
     "text": [
      "Training Step: 813  | total loss: \u001b[1m\u001b[32m0.66095\u001b[0m\u001b[0m | time: 45.110s\n\u001b[2K\r| Adam | epoch: 003 | loss: 0.66095 - acc: 0.6032 -- iter: 11456/20250\n"
     ]
    },
    {
     "name": "stdout",
     "output_type": "stream",
     "text": [
      "Training Step: 814  | total loss: \u001b[1m\u001b[32m0.65894\u001b[0m\u001b[0m | time: 45.358s\n\u001b[2K\r| Adam | epoch: 003 | loss: 0.65894 - acc: 0.6023 -- iter: 11520/20250\n"
     ]
    },
    {
     "name": "stdout",
     "output_type": "stream",
     "text": [
      "Training Step: 815  | total loss: \u001b[1m\u001b[32m0.65963\u001b[0m\u001b[0m | time: 45.606s\n\u001b[2K\r| Adam | epoch: 003 | loss: 0.65963 - acc: 0.5983 -- iter: 11584/20250\n"
     ]
    },
    {
     "name": "stdout",
     "output_type": "stream",
     "text": [
      "Training Step: 816  | total loss: \u001b[1m\u001b[32m0.66120\u001b[0m\u001b[0m | time: 45.852s\n\u001b[2K\r| Adam | epoch: 003 | loss: 0.66120 - acc: 0.5900 -- iter: 11648/20250\n"
     ]
    },
    {
     "name": "stdout",
     "output_type": "stream",
     "text": [
      "Training Step: 817  | total loss: \u001b[1m\u001b[32m0.66416\u001b[0m\u001b[0m | time: 46.103s\n\u001b[2K\r| Adam | epoch: 003 | loss: 0.66416 - acc: 0.5826 -- iter: 11712/20250\n"
     ]
    },
    {
     "name": "stdout",
     "output_type": "stream",
     "text": [
      "Training Step: 818  | total loss: \u001b[1m\u001b[32m0.66424\u001b[0m\u001b[0m | time: 46.368s\n\u001b[2K\r| Adam | epoch: 003 | loss: 0.66424 - acc: 0.5884 -- iter: 11776/20250\n"
     ]
    },
    {
     "name": "stdout",
     "output_type": "stream",
     "text": [
      "Training Step: 819  | total loss: \u001b[1m\u001b[32m0.66458\u001b[0m\u001b[0m | time: 46.633s\n\u001b[2K\r| Adam | epoch: 003 | loss: 0.66458 - acc: 0.5827 -- iter: 11840/20250\n"
     ]
    },
    {
     "name": "stdout",
     "output_type": "stream",
     "text": [
      "Training Step: 820  | total loss: \u001b[1m\u001b[32m0.66072\u001b[0m\u001b[0m | time: 46.883s\n\u001b[2K\r| Adam | epoch: 003 | loss: 0.66072 - acc: 0.5791 -- iter: 11904/20250\n"
     ]
    },
    {
     "name": "stdout",
     "output_type": "stream",
     "text": [
      "Training Step: 821  | total loss: \u001b[1m\u001b[32m0.66600\u001b[0m\u001b[0m | time: 47.136s\n\u001b[2K\r| Adam | epoch: 003 | loss: 0.66600 - acc: 0.5728 -- iter: 11968/20250\n"
     ]
    },
    {
     "name": "stdout",
     "output_type": "stream",
     "text": [
      "Training Step: 822  | total loss: \u001b[1m\u001b[32m0.66191\u001b[0m\u001b[0m | time: 47.382s\n\u001b[2K\r| Adam | epoch: 003 | loss: 0.66191 - acc: 0.5764 -- iter: 12032/20250\n"
     ]
    },
    {
     "name": "stdout",
     "output_type": "stream",
     "text": [
      "Training Step: 823  | total loss: \u001b[1m\u001b[32m0.65048\u001b[0m\u001b[0m | time: 47.634s\n\u001b[2K\r| Adam | epoch: 003 | loss: 0.65048 - acc: 0.5953 -- iter: 12096/20250\n"
     ]
    },
    {
     "name": "stdout",
     "output_type": "stream",
     "text": [
      "Training Step: 824  | total loss: \u001b[1m\u001b[32m0.64798\u001b[0m\u001b[0m | time: 47.889s\n\u001b[2K\r| Adam | epoch: 003 | loss: 0.64798 - acc: 0.5967 -- iter: 12160/20250\n"
     ]
    },
    {
     "name": "stdout",
     "output_type": "stream",
     "text": [
      "Training Step: 825  | total loss: \u001b[1m\u001b[32m0.65036\u001b[0m\u001b[0m | time: 48.134s\n\u001b[2K\r| Adam | epoch: 003 | loss: 0.65036 - acc: 0.5996 -- iter: 12224/20250\n"
     ]
    },
    {
     "name": "stdout",
     "output_type": "stream",
     "text": [
      "Training Step: 826  | total loss: \u001b[1m\u001b[32m0.65639\u001b[0m\u001b[0m | time: 48.390s\n\u001b[2K\r| Adam | epoch: 003 | loss: 0.65639 - acc: 0.5990 -- iter: 12288/20250\n"
     ]
    },
    {
     "name": "stdout",
     "output_type": "stream",
     "text": [
      "Training Step: 827  | total loss: \u001b[1m\u001b[32m0.65280\u001b[0m\u001b[0m | time: 48.661s\n\u001b[2K\r| Adam | epoch: 003 | loss: 0.65280 - acc: 0.6063 -- iter: 12352/20250\n"
     ]
    },
    {
     "name": "stdout",
     "output_type": "stream",
     "text": [
      "Training Step: 828  | total loss: \u001b[1m\u001b[32m0.65446\u001b[0m\u001b[0m | time: 48.910s\n\u001b[2K\r| Adam | epoch: 003 | loss: 0.65446 - acc: 0.6081 -- iter: 12416/20250\n"
     ]
    },
    {
     "name": "stdout",
     "output_type": "stream",
     "text": [
      "Training Step: 829  | total loss: \u001b[1m\u001b[32m0.66169\u001b[0m\u001b[0m | time: 49.161s\n\u001b[2K\r| Adam | epoch: 003 | loss: 0.66169 - acc: 0.5973 -- iter: 12480/20250\n"
     ]
    },
    {
     "name": "stdout",
     "output_type": "stream",
     "text": [
      "Training Step: 830  | total loss: \u001b[1m\u001b[32m0.66700\u001b[0m\u001b[0m | time: 49.411s\n\u001b[2K\r| Adam | epoch: 003 | loss: 0.66700 - acc: 0.5876 -- iter: 12544/20250\n"
     ]
    },
    {
     "name": "stdout",
     "output_type": "stream",
     "text": [
      "Training Step: 831  | total loss: \u001b[1m\u001b[32m0.66025\u001b[0m\u001b[0m | time: 49.656s\n\u001b[2K\r| Adam | epoch: 003 | loss: 0.66025 - acc: 0.5929 -- iter: 12608/20250\n"
     ]
    },
    {
     "name": "stdout",
     "output_type": "stream",
     "text": [
      "Training Step: 832  | total loss: \u001b[1m\u001b[32m0.65698\u001b[0m\u001b[0m | time: 49.901s\n\u001b[2K\r| Adam | epoch: 003 | loss: 0.65698 - acc: 0.5992 -- iter: 12672/20250\n"
     ]
    },
    {
     "name": "stdout",
     "output_type": "stream",
     "text": [
      "Training Step: 833  | total loss: \u001b[1m\u001b[32m0.66054\u001b[0m\u001b[0m | time: 50.147s\n\u001b[2K\r| Adam | epoch: 003 | loss: 0.66054 - acc: 0.5956 -- iter: 12736/20250\n"
     ]
    },
    {
     "name": "stdout",
     "output_type": "stream",
     "text": [
      "Training Step: 834  | total loss: \u001b[1m\u001b[32m0.65995\u001b[0m\u001b[0m | time: 50.401s\n\u001b[2K\r| Adam | epoch: 003 | loss: 0.65995 - acc: 0.5985 -- iter: 12800/20250\n"
     ]
    },
    {
     "name": "stdout",
     "output_type": "stream",
     "text": [
      "Training Step: 835  | total loss: \u001b[1m\u001b[32m0.66400\u001b[0m\u001b[0m | time: 50.652s\n\u001b[2K\r| Adam | epoch: 003 | loss: 0.66400 - acc: 0.5902 -- iter: 12864/20250\n"
     ]
    },
    {
     "name": "stdout",
     "output_type": "stream",
     "text": [
      "Training Step: 836  | total loss: \u001b[1m\u001b[32m0.66219\u001b[0m\u001b[0m | time: 50.902s\n\u001b[2K\r| Adam | epoch: 003 | loss: 0.66219 - acc: 0.5843 -- iter: 12928/20250\n"
     ]
    },
    {
     "name": "stdout",
     "output_type": "stream",
     "text": [
      "Training Step: 837  | total loss: \u001b[1m\u001b[32m0.66074\u001b[0m\u001b[0m | time: 51.148s\n\u001b[2K\r| Adam | epoch: 003 | loss: 0.66074 - acc: 0.5806 -- iter: 12992/20250\n"
     ]
    },
    {
     "name": "stdout",
     "output_type": "stream",
     "text": [
      "Training Step: 838  | total loss: \u001b[1m\u001b[32m0.65356\u001b[0m\u001b[0m | time: 51.425s\n\u001b[2K\r| Adam | epoch: 003 | loss: 0.65356 - acc: 0.5913 -- iter: 13056/20250\n"
     ]
    },
    {
     "name": "stdout",
     "output_type": "stream",
     "text": [
      "Training Step: 839  | total loss: \u001b[1m\u001b[32m0.65538\u001b[0m\u001b[0m | time: 51.672s\n\u001b[2K\r| Adam | epoch: 003 | loss: 0.65538 - acc: 0.5915 -- iter: 13120/20250\n"
     ]
    },
    {
     "name": "stdout",
     "output_type": "stream",
     "text": [
      "Training Step: 840  | total loss: \u001b[1m\u001b[32m0.66265\u001b[0m\u001b[0m | time: 51.933s\n\u001b[2K\r| Adam | epoch: 003 | loss: 0.66265 - acc: 0.5839 -- iter: 13184/20250\n"
     ]
    },
    {
     "name": "stdout",
     "output_type": "stream",
     "text": [
      "Training Step: 841  | total loss: \u001b[1m\u001b[32m0.66502\u001b[0m\u001b[0m | time: 52.182s\n\u001b[2K\r| Adam | epoch: 003 | loss: 0.66502 - acc: 0.5802 -- iter: 13248/20250\n"
     ]
    },
    {
     "name": "stdout",
     "output_type": "stream",
     "text": [
      "Training Step: 842  | total loss: \u001b[1m\u001b[32m0.66620\u001b[0m\u001b[0m | time: 52.425s\n\u001b[2K\r| Adam | epoch: 003 | loss: 0.66620 - acc: 0.5785 -- iter: 13312/20250\n"
     ]
    },
    {
     "name": "stdout",
     "output_type": "stream",
     "text": [
      "Training Step: 843  | total loss: \u001b[1m\u001b[32m0.66403\u001b[0m\u001b[0m | time: 52.669s\n\u001b[2K\r| Adam | epoch: 003 | loss: 0.66403 - acc: 0.5769 -- iter: 13376/20250\n"
     ]
    },
    {
     "name": "stdout",
     "output_type": "stream",
     "text": [
      "Training Step: 844  | total loss: \u001b[1m\u001b[32m0.66476\u001b[0m\u001b[0m | time: 52.907s\n\u001b[2K\r| Adam | epoch: 003 | loss: 0.66476 - acc: 0.5739 -- iter: 13440/20250\n"
     ]
    },
    {
     "name": "stdout",
     "output_type": "stream",
     "text": [
      "Training Step: 845  | total loss: \u001b[1m\u001b[32m0.66585\u001b[0m\u001b[0m | time: 53.154s\n\u001b[2K\r| Adam | epoch: 003 | loss: 0.66585 - acc: 0.5665 -- iter: 13504/20250\n"
     ]
    },
    {
     "name": "stdout",
     "output_type": "stream",
     "text": [
      "Training Step: 846  | total loss: \u001b[1m\u001b[32m0.66846\u001b[0m\u001b[0m | time: 53.404s\n\u001b[2K\r| Adam | epoch: 003 | loss: 0.66846 - acc: 0.5692 -- iter: 13568/20250\n"
     ]
    },
    {
     "name": "stdout",
     "output_type": "stream",
     "text": [
      "Training Step: 847  | total loss: \u001b[1m\u001b[32m0.66468\u001b[0m\u001b[0m | time: 53.659s\n\u001b[2K\r| Adam | epoch: 003 | loss: 0.66468 - acc: 0.5763 -- iter: 13632/20250\n"
     ]
    },
    {
     "name": "stdout",
     "output_type": "stream",
     "text": [
      "Training Step: 848  | total loss: \u001b[1m\u001b[32m0.66864\u001b[0m\u001b[0m | time: 53.907s\n\u001b[2K\r| Adam | epoch: 003 | loss: 0.66864 - acc: 0.5750 -- iter: 13696/20250\n"
     ]
    },
    {
     "name": "stdout",
     "output_type": "stream",
     "text": [
      "Training Step: 849  | total loss: \u001b[1m\u001b[32m0.66768\u001b[0m\u001b[0m | time: 54.155s\n\u001b[2K\r| Adam | epoch: 003 | loss: 0.66768 - acc: 0.5737 -- iter: 13760/20250\n"
     ]
    },
    {
     "name": "stdout",
     "output_type": "stream",
     "text": [
      "Training Step: 850  | total loss: \u001b[1m\u001b[32m0.66292\u001b[0m\u001b[0m | time: 54.404s\n\u001b[2K\r| Adam | epoch: 003 | loss: 0.66292 - acc: 0.5773 -- iter: 13824/20250\n"
     ]
    },
    {
     "name": "stdout",
     "output_type": "stream",
     "text": [
      "Training Step: 851  | total loss: \u001b[1m\u001b[32m0.66400\u001b[0m\u001b[0m | time: 54.662s\n\u001b[2K\r| Adam | epoch: 003 | loss: 0.66400 - acc: 0.5758 -- iter: 13888/20250\n"
     ]
    },
    {
     "name": "stdout",
     "output_type": "stream",
     "text": [
      "Training Step: 852  | total loss: \u001b[1m\u001b[32m0.66413\u001b[0m\u001b[0m | time: 54.904s\n\u001b[2K\r| Adam | epoch: 003 | loss: 0.66413 - acc: 0.5729 -- iter: 13952/20250\n"
     ]
    },
    {
     "name": "stdout",
     "output_type": "stream",
     "text": [
      "Training Step: 853  | total loss: \u001b[1m\u001b[32m0.67024\u001b[0m\u001b[0m | time: 55.146s\n\u001b[2K\r| Adam | epoch: 003 | loss: 0.67024 - acc: 0.5562 -- iter: 14016/20250\n"
     ]
    },
    {
     "name": "stdout",
     "output_type": "stream",
     "text": [
      "Training Step: 854  | total loss: \u001b[1m\u001b[32m0.66822\u001b[0m\u001b[0m | time: 55.397s\n\u001b[2K\r| Adam | epoch: 003 | loss: 0.66822 - acc: 0.5631 -- iter: 14080/20250\n"
     ]
    },
    {
     "name": "stdout",
     "output_type": "stream",
     "text": [
      "Training Step: 855  | total loss: \u001b[1m\u001b[32m0.66868\u001b[0m\u001b[0m | time: 55.641s\n\u001b[2K\r| Adam | epoch: 003 | loss: 0.66868 - acc: 0.5615 -- iter: 14144/20250\n"
     ]
    },
    {
     "name": "stdout",
     "output_type": "stream",
     "text": [
      "Training Step: 856  | total loss: \u001b[1m\u001b[32m0.67161\u001b[0m\u001b[0m | time: 55.889s\n\u001b[2K\r| Adam | epoch: 003 | loss: 0.67161 - acc: 0.5491 -- iter: 14208/20250\n"
     ]
    },
    {
     "name": "stdout",
     "output_type": "stream",
     "text": [
      "Training Step: 857  | total loss: \u001b[1m\u001b[32m0.66783\u001b[0m\u001b[0m | time: 56.143s\n\u001b[2K\r| Adam | epoch: 003 | loss: 0.66783 - acc: 0.5598 -- iter: 14272/20250\n"
     ]
    },
    {
     "name": "stdout",
     "output_type": "stream",
     "text": [
      "Training Step: 858  | total loss: \u001b[1m\u001b[32m0.65901\u001b[0m\u001b[0m | time: 56.402s\n\u001b[2K\r| Adam | epoch: 003 | loss: 0.65901 - acc: 0.5710 -- iter: 14336/20250\n"
     ]
    },
    {
     "name": "stdout",
     "output_type": "stream",
     "text": [
      "Training Step: 859  | total loss: \u001b[1m\u001b[32m0.65933\u001b[0m\u001b[0m | time: 56.647s\n\u001b[2K\r| Adam | epoch: 003 | loss: 0.65933 - acc: 0.5655 -- iter: 14400/20250\n"
     ]
    },
    {
     "name": "stdout",
     "output_type": "stream",
     "text": [
      "Training Step: 860  | total loss: \u001b[1m\u001b[32m0.65620\u001b[0m\u001b[0m | time: 56.891s\n\u001b[2K\r| Adam | epoch: 003 | loss: 0.65620 - acc: 0.5652 -- iter: 14464/20250\n"
     ]
    },
    {
     "name": "stdout",
     "output_type": "stream",
     "text": [
      "Training Step: 861  | total loss: \u001b[1m\u001b[32m0.65453\u001b[0m\u001b[0m | time: 57.137s\n\u001b[2K\r| Adam | epoch: 003 | loss: 0.65453 - acc: 0.5696 -- iter: 14528/20250\n"
     ]
    },
    {
     "name": "stdout",
     "output_type": "stream",
     "text": [
      "Training Step: 862  | total loss: \u001b[1m\u001b[32m0.66334\u001b[0m\u001b[0m | time: 57.382s\n\u001b[2K\r| Adam | epoch: 003 | loss: 0.66334 - acc: 0.5595 -- iter: 14592/20250\n"
     ]
    },
    {
     "name": "stdout",
     "output_type": "stream",
     "text": [
      "Training Step: 863  | total loss: \u001b[1m\u001b[32m0.66095\u001b[0m\u001b[0m | time: 57.636s\n\u001b[2K\r| Adam | epoch: 003 | loss: 0.66095 - acc: 0.5567 -- iter: 14656/20250\n"
     ]
    },
    {
     "name": "stdout",
     "output_type": "stream",
     "text": [
      "Training Step: 864  | total loss: \u001b[1m\u001b[32m0.66328\u001b[0m\u001b[0m | time: 57.880s\n\u001b[2K\r| Adam | epoch: 003 | loss: 0.66328 - acc: 0.5463 -- iter: 14720/20250\n"
     ]
    },
    {
     "name": "stdout",
     "output_type": "stream",
     "text": [
      "Training Step: 865  | total loss: \u001b[1m\u001b[32m0.66614\u001b[0m\u001b[0m | time: 58.126s\n\u001b[2K\r| Adam | epoch: 003 | loss: 0.66614 - acc: 0.5464 -- iter: 14784/20250\n"
     ]
    },
    {
     "name": "stdout",
     "output_type": "stream",
     "text": [
      "Training Step: 866  | total loss: \u001b[1m\u001b[32m0.66287\u001b[0m\u001b[0m | time: 58.378s\n\u001b[2K\r| Adam | epoch: 003 | loss: 0.66287 - acc: 0.5496 -- iter: 14848/20250\n"
     ]
    },
    {
     "name": "stdout",
     "output_type": "stream",
     "text": [
      "Training Step: 867  | total loss: \u001b[1m\u001b[32m0.65894\u001b[0m\u001b[0m | time: 58.632s\n\u001b[2K\r| Adam | epoch: 003 | loss: 0.65894 - acc: 0.5509 -- iter: 14912/20250\n"
     ]
    },
    {
     "name": "stdout",
     "output_type": "stream",
     "text": [
      "Training Step: 868  | total loss: \u001b[1m\u001b[32m0.66183\u001b[0m\u001b[0m | time: 58.899s\n\u001b[2K\r| Adam | epoch: 003 | loss: 0.66183 - acc: 0.5458 -- iter: 14976/20250\n"
     ]
    },
    {
     "name": "stdout",
     "output_type": "stream",
     "text": [
      "Training Step: 869  | total loss: \u001b[1m\u001b[32m0.66049\u001b[0m\u001b[0m | time: 59.159s\n\u001b[2K\r| Adam | epoch: 003 | loss: 0.66049 - acc: 0.5474 -- iter: 15040/20250\n"
     ]
    },
    {
     "name": "stdout",
     "output_type": "stream",
     "text": [
      "Training Step: 870  | total loss: \u001b[1m\u001b[32m0.66328\u001b[0m\u001b[0m | time: 59.413s\n\u001b[2K\r| Adam | epoch: 003 | loss: 0.66328 - acc: 0.5380 -- iter: 15104/20250\n"
     ]
    },
    {
     "name": "stdout",
     "output_type": "stream",
     "text": [
      "Training Step: 871  | total loss: \u001b[1m\u001b[32m0.66363\u001b[0m\u001b[0m | time: 59.669s\n\u001b[2K\r| Adam | epoch: 003 | loss: 0.66363 - acc: 0.5420 -- iter: 15168/20250\n"
     ]
    },
    {
     "name": "stdout",
     "output_type": "stream",
     "text": [
      "Training Step: 872  | total loss: \u001b[1m\u001b[32m0.65883\u001b[0m\u001b[0m | time: 59.918s\n\u001b[2K\r| Adam | epoch: 003 | loss: 0.65883 - acc: 0.5456 -- iter: 15232/20250\n"
     ]
    },
    {
     "name": "stdout",
     "output_type": "stream",
     "text": [
      "Training Step: 873  | total loss: \u001b[1m\u001b[32m0.66134\u001b[0m\u001b[0m | time: 60.165s\n\u001b[2K\r| Adam | epoch: 003 | loss: 0.66134 - acc: 0.5489 -- iter: 15296/20250\n"
     ]
    },
    {
     "name": "stdout",
     "output_type": "stream",
     "text": [
      "Training Step: 874  | total loss: \u001b[1m\u001b[32m0.65612\u001b[0m\u001b[0m | time: 60.416s\n\u001b[2K\r| Adam | epoch: 003 | loss: 0.65612 - acc: 0.5627 -- iter: 15360/20250\n"
     ]
    },
    {
     "name": "stdout",
     "output_type": "stream",
     "text": [
      "Training Step: 875  | total loss: \u001b[1m\u001b[32m0.65892\u001b[0m\u001b[0m | time: 60.670s\n\u001b[2K\r| Adam | epoch: 003 | loss: 0.65892 - acc: 0.5549 -- iter: 15424/20250\n"
     ]
    },
    {
     "name": "stdout",
     "output_type": "stream",
     "text": [
      "Training Step: 876  | total loss: \u001b[1m\u001b[32m0.65808\u001b[0m\u001b[0m | time: 60.923s\n\u001b[2K\r| Adam | epoch: 003 | loss: 0.65808 - acc: 0.5557 -- iter: 15488/20250\n"
     ]
    },
    {
     "name": "stdout",
     "output_type": "stream",
     "text": [
      "Training Step: 877  | total loss: \u001b[1m\u001b[32m0.65659\u001b[0m\u001b[0m | time: 61.171s\n\u001b[2K\r| Adam | epoch: 003 | loss: 0.65659 - acc: 0.5579 -- iter: 15552/20250\n"
     ]
    },
    {
     "name": "stdout",
     "output_type": "stream",
     "text": [
      "Training Step: 878  | total loss: \u001b[1m\u001b[32m0.65378\u001b[0m\u001b[0m | time: 61.425s\n\u001b[2K\r| Adam | epoch: 003 | loss: 0.65378 - acc: 0.5646 -- iter: 15616/20250\n"
     ]
    },
    {
     "name": "stdout",
     "output_type": "stream",
     "text": [
      "Training Step: 879  | total loss: \u001b[1m\u001b[32m0.65446\u001b[0m\u001b[0m | time: 61.663s\n\u001b[2K\r| Adam | epoch: 003 | loss: 0.65446 - acc: 0.5582 -- iter: 15680/20250\n"
     ]
    },
    {
     "name": "stdout",
     "output_type": "stream",
     "text": [
      "Training Step: 880  | total loss: \u001b[1m\u001b[32m0.65480\u001b[0m\u001b[0m | time: 61.937s\n\u001b[2K\r| Adam | epoch: 003 | loss: 0.65480 - acc: 0.5586 -- iter: 15744/20250\n"
     ]
    },
    {
     "name": "stdout",
     "output_type": "stream",
     "text": [
      "Training Step: 881  | total loss: \u001b[1m\u001b[32m0.65370\u001b[0m\u001b[0m | time: 62.190s\n\u001b[2K\r| Adam | epoch: 003 | loss: 0.65370 - acc: 0.5527 -- iter: 15808/20250\n"
     ]
    },
    {
     "name": "stdout",
     "output_type": "stream",
     "text": [
      "Training Step: 882  | total loss: \u001b[1m\u001b[32m0.64925\u001b[0m\u001b[0m | time: 62.430s\n\u001b[2K\r| Adam | epoch: 003 | loss: 0.64925 - acc: 0.5646 -- iter: 15872/20250\n"
     ]
    },
    {
     "name": "stdout",
     "output_type": "stream",
     "text": [
      "Training Step: 883  | total loss: \u001b[1m\u001b[32m0.65183\u001b[0m\u001b[0m | time: 62.673s\n\u001b[2K\r| Adam | epoch: 003 | loss: 0.65183 - acc: 0.5644 -- iter: 15936/20250\n"
     ]
    },
    {
     "name": "stdout",
     "output_type": "stream",
     "text": [
      "Training Step: 884  | total loss: \u001b[1m\u001b[32m0.65396\u001b[0m\u001b[0m | time: 62.930s\n\u001b[2K\r| Adam | epoch: 003 | loss: 0.65396 - acc: 0.5611 -- iter: 16000/20250\n"
     ]
    },
    {
     "name": "stdout",
     "output_type": "stream",
     "text": [
      "Training Step: 885  | total loss: \u001b[1m\u001b[32m0.65263\u001b[0m\u001b[0m | time: 63.175s\n\u001b[2K\r| Adam | epoch: 003 | loss: 0.65263 - acc: 0.5675 -- iter: 16064/20250\n"
     ]
    },
    {
     "name": "stdout",
     "output_type": "stream",
     "text": [
      "Training Step: 886  | total loss: \u001b[1m\u001b[32m0.65022\u001b[0m\u001b[0m | time: 63.417s\n\u001b[2K\r| Adam | epoch: 003 | loss: 0.65022 - acc: 0.5717 -- iter: 16128/20250\n"
     ]
    },
    {
     "name": "stdout",
     "output_type": "stream",
     "text": [
      "Training Step: 887  | total loss: \u001b[1m\u001b[32m0.65304\u001b[0m\u001b[0m | time: 63.674s\n\u001b[2K\r| Adam | epoch: 003 | loss: 0.65304 - acc: 0.5676 -- iter: 16192/20250\n"
     ]
    },
    {
     "name": "stdout",
     "output_type": "stream",
     "text": [
      "Training Step: 888  | total loss: \u001b[1m\u001b[32m0.65437\u001b[0m\u001b[0m | time: 63.928s\n\u001b[2K\r| Adam | epoch: 003 | loss: 0.65437 - acc: 0.5734 -- iter: 16256/20250\n"
     ]
    },
    {
     "name": "stdout",
     "output_type": "stream",
     "text": [
      "Training Step: 889  | total loss: \u001b[1m\u001b[32m0.65057\u001b[0m\u001b[0m | time: 64.180s\n\u001b[2K\r| Adam | epoch: 003 | loss: 0.65057 - acc: 0.5879 -- iter: 16320/20250\n"
     ]
    },
    {
     "name": "stdout",
     "output_type": "stream",
     "text": [
      "Training Step: 890  | total loss: \u001b[1m\u001b[32m0.65285\u001b[0m\u001b[0m | time: 64.428s\n\u001b[2K\r| Adam | epoch: 003 | loss: 0.65285 - acc: 0.5807 -- iter: 16384/20250\n"
     ]
    },
    {
     "name": "stdout",
     "output_type": "stream",
     "text": [
      "Training Step: 891  | total loss: \u001b[1m\u001b[32m0.65611\u001b[0m\u001b[0m | time: 64.677s\n\u001b[2K\r| Adam | epoch: 003 | loss: 0.65611 - acc: 0.5773 -- iter: 16448/20250\n"
     ]
    },
    {
     "name": "stdout",
     "output_type": "stream",
     "text": [
      "Training Step: 892  | total loss: \u001b[1m\u001b[32m0.65387\u001b[0m\u001b[0m | time: 64.922s\n\u001b[2K\r| Adam | epoch: 003 | loss: 0.65387 - acc: 0.5868 -- iter: 16512/20250\n"
     ]
    },
    {
     "name": "stdout",
     "output_type": "stream",
     "text": [
      "Training Step: 893  | total loss: \u001b[1m\u001b[32m0.64845\u001b[0m\u001b[0m | time: 65.170s\n\u001b[2K\r| Adam | epoch: 003 | loss: 0.64845 - acc: 0.6031 -- iter: 16576/20250\n"
     ]
    },
    {
     "name": "stdout",
     "output_type": "stream",
     "text": [
      "Training Step: 894  | total loss: \u001b[1m\u001b[32m0.65162\u001b[0m\u001b[0m | time: 65.418s\n\u001b[2K\r| Adam | epoch: 003 | loss: 0.65162 - acc: 0.6006 -- iter: 16640/20250\n"
     ]
    },
    {
     "name": "stdout",
     "output_type": "stream",
     "text": [
      "Training Step: 895  | total loss: \u001b[1m\u001b[32m0.64841\u001b[0m\u001b[0m | time: 65.673s\n\u001b[2K\r| Adam | epoch: 003 | loss: 0.64841 - acc: 0.6030 -- iter: 16704/20250\n"
     ]
    },
    {
     "name": "stdout",
     "output_type": "stream",
     "text": [
      "Training Step: 896  | total loss: \u001b[1m\u001b[32m0.63799\u001b[0m\u001b[0m | time: 65.929s\n\u001b[2K\r| Adam | epoch: 003 | loss: 0.63799 - acc: 0.6162 -- iter: 16768/20250\n"
     ]
    },
    {
     "name": "stdout",
     "output_type": "stream",
     "text": [
      "Training Step: 897  | total loss: \u001b[1m\u001b[32m0.62784\u001b[0m\u001b[0m | time: 66.177s\n\u001b[2K\r| Adam | epoch: 003 | loss: 0.62784 - acc: 0.6311 -- iter: 16832/20250\n"
     ]
    },
    {
     "name": "stdout",
     "output_type": "stream",
     "text": [
      "Training Step: 898  | total loss: \u001b[1m\u001b[32m0.62231\u001b[0m\u001b[0m | time: 66.425s\n\u001b[2K\r| Adam | epoch: 003 | loss: 0.62231 - acc: 0.6461 -- iter: 16896/20250\n"
     ]
    },
    {
     "name": "stdout",
     "output_type": "stream",
     "text": [
      "Training Step: 899  | total loss: \u001b[1m\u001b[32m0.61769\u001b[0m\u001b[0m | time: 66.672s\n\u001b[2K\r| Adam | epoch: 003 | loss: 0.61769 - acc: 0.6565 -- iter: 16960/20250\n"
     ]
    },
    {
     "name": "stdout",
     "output_type": "stream",
     "text": [
      "Training Step: 900  | total loss: \u001b[1m\u001b[32m0.63389\u001b[0m\u001b[0m | time: 66.930s\n\u001b[2K\r| Adam | epoch: 003 | loss: 0.63389 - acc: 0.6440 -- iter: 17024/20250\n"
     ]
    },
    {
     "name": "stdout",
     "output_type": "stream",
     "text": [
      "Training Step: 901  | total loss: \u001b[1m\u001b[32m0.64525\u001b[0m\u001b[0m | time: 67.179s\n\u001b[2K\r| Adam | epoch: 003 | loss: 0.64525 - acc: 0.6390 -- iter: 17088/20250\n"
     ]
    },
    {
     "name": "stdout",
     "output_type": "stream",
     "text": [
      "Training Step: 902  | total loss: \u001b[1m\u001b[32m0.64099\u001b[0m\u001b[0m | time: 67.416s\n\u001b[2K\r| Adam | epoch: 003 | loss: 0.64099 - acc: 0.6438 -- iter: 17152/20250\n"
     ]
    },
    {
     "name": "stdout",
     "output_type": "stream",
     "text": [
      "Training Step: 903  | total loss: \u001b[1m\u001b[32m0.64297\u001b[0m\u001b[0m | time: 67.650s\n\u001b[2K\r| Adam | epoch: 003 | loss: 0.64297 - acc: 0.6404 -- iter: 17216/20250\n"
     ]
    },
    {
     "name": "stdout",
     "output_type": "stream",
     "text": [
      "Training Step: 904  | total loss: \u001b[1m\u001b[32m0.63047\u001b[0m\u001b[0m | time: 67.896s\n\u001b[2K\r| Adam | epoch: 003 | loss: 0.63047 - acc: 0.6545 -- iter: 17280/20250\n"
     ]
    },
    {
     "name": "stdout",
     "output_type": "stream",
     "text": [
      "Training Step: 905  | total loss: \u001b[1m\u001b[32m0.62053\u001b[0m\u001b[0m | time: 68.138s\n\u001b[2K\r| Adam | epoch: 003 | loss: 0.62053 - acc: 0.6656 -- iter: 17344/20250\n"
     ]
    },
    {
     "name": "stdout",
     "output_type": "stream",
     "text": [
      "Training Step: 906  | total loss: \u001b[1m\u001b[32m0.62181\u001b[0m\u001b[0m | time: 68.393s\n\u001b[2K\r| Adam | epoch: 003 | loss: 0.62181 - acc: 0.6615 -- iter: 17408/20250\n"
     ]
    },
    {
     "name": "stdout",
     "output_type": "stream",
     "text": [
      "Training Step: 907  | total loss: \u001b[1m\u001b[32m0.61419\u001b[0m\u001b[0m | time: 68.655s\n\u001b[2K\r| Adam | epoch: 003 | loss: 0.61419 - acc: 0.6657 -- iter: 17472/20250\n"
     ]
    },
    {
     "name": "stdout",
     "output_type": "stream",
     "text": [
      "Training Step: 908  | total loss: \u001b[1m\u001b[32m0.61544\u001b[0m\u001b[0m | time: 68.908s\n\u001b[2K\r| Adam | epoch: 003 | loss: 0.61544 - acc: 0.6600 -- iter: 17536/20250\n"
     ]
    },
    {
     "name": "stdout",
     "output_type": "stream",
     "text": [
      "Training Step: 909  | total loss: \u001b[1m\u001b[32m0.61138\u001b[0m\u001b[0m | time: 69.151s\n\u001b[2K\r| Adam | epoch: 003 | loss: 0.61138 - acc: 0.6690 -- iter: 17600/20250\n"
     ]
    },
    {
     "name": "stdout",
     "output_type": "stream",
     "text": [
      "Training Step: 910  | total loss: \u001b[1m\u001b[32m0.62102\u001b[0m\u001b[0m | time: 69.392s\n\u001b[2K\r| Adam | epoch: 003 | loss: 0.62102 - acc: 0.6568 -- iter: 17664/20250\n"
     ]
    },
    {
     "name": "stdout",
     "output_type": "stream",
     "text": [
      "Training Step: 911  | total loss: \u001b[1m\u001b[32m0.62023\u001b[0m\u001b[0m | time: 69.635s\n\u001b[2K\r| Adam | epoch: 003 | loss: 0.62023 - acc: 0.6583 -- iter: 17728/20250\n"
     ]
    },
    {
     "name": "stdout",
     "output_type": "stream",
     "text": [
      "Training Step: 912  | total loss: \u001b[1m\u001b[32m0.62452\u001b[0m\u001b[0m | time: 69.882s\n\u001b[2K\r| Adam | epoch: 003 | loss: 0.62452 - acc: 0.6581 -- iter: 17792/20250\n"
     ]
    },
    {
     "name": "stdout",
     "output_type": "stream",
     "text": [
      "Training Step: 913  | total loss: \u001b[1m\u001b[32m0.62574\u001b[0m\u001b[0m | time: 70.135s\n\u001b[2K\r| Adam | epoch: 003 | loss: 0.62574 - acc: 0.6626 -- iter: 17856/20250\n"
     ]
    },
    {
     "name": "stdout",
     "output_type": "stream",
     "text": [
      "Training Step: 914  | total loss: \u001b[1m\u001b[32m0.62721\u001b[0m\u001b[0m | time: 70.385s\n\u001b[2K\r| Adam | epoch: 003 | loss: 0.62721 - acc: 0.6542 -- iter: 17920/20250\n"
     ]
    },
    {
     "name": "stdout",
     "output_type": "stream",
     "text": [
      "Training Step: 915  | total loss: \u001b[1m\u001b[32m0.62963\u001b[0m\u001b[0m | time: 70.632s\n\u001b[2K\r| Adam | epoch: 003 | loss: 0.62963 - acc: 0.6513 -- iter: 17984/20250\n"
     ]
    },
    {
     "name": "stdout",
     "output_type": "stream",
     "text": [
      "Training Step: 916  | total loss: \u001b[1m\u001b[32m0.63192\u001b[0m\u001b[0m | time: 70.874s\n\u001b[2K\r| Adam | epoch: 003 | loss: 0.63192 - acc: 0.6408 -- iter: 18048/20250\n"
     ]
    },
    {
     "name": "stdout",
     "output_type": "stream",
     "text": [
      "Training Step: 917  | total loss: \u001b[1m\u001b[32m0.63186\u001b[0m\u001b[0m | time: 71.137s\n\u001b[2K\r| Adam | epoch: 003 | loss: 0.63186 - acc: 0.6408 -- iter: 18112/20250\n"
     ]
    },
    {
     "name": "stdout",
     "output_type": "stream",
     "text": [
      "Training Step: 918  | total loss: \u001b[1m\u001b[32m0.62883\u001b[0m\u001b[0m | time: 71.388s\n\u001b[2K\r| Adam | epoch: 003 | loss: 0.62883 - acc: 0.6423 -- iter: 18176/20250\n"
     ]
    },
    {
     "name": "stdout",
     "output_type": "stream",
     "text": [
      "Training Step: 919  | total loss: \u001b[1m\u001b[32m0.63299\u001b[0m\u001b[0m | time: 71.638s\n\u001b[2K\r| Adam | epoch: 003 | loss: 0.63299 - acc: 0.6344 -- iter: 18240/20250\n"
     ]
    },
    {
     "name": "stdout",
     "output_type": "stream",
     "text": [
      "Training Step: 920  | total loss: \u001b[1m\u001b[32m0.62993\u001b[0m\u001b[0m | time: 71.886s\n\u001b[2K\r| Adam | epoch: 003 | loss: 0.62993 - acc: 0.6397 -- iter: 18304/20250\n"
     ]
    },
    {
     "name": "stdout",
     "output_type": "stream",
     "text": [
      "Training Step: 921  | total loss: \u001b[1m\u001b[32m0.63155\u001b[0m\u001b[0m | time: 72.140s\n\u001b[2K\r| Adam | epoch: 003 | loss: 0.63155 - acc: 0.6366 -- iter: 18368/20250\n"
     ]
    },
    {
     "name": "stdout",
     "output_type": "stream",
     "text": [
      "Training Step: 922  | total loss: \u001b[1m\u001b[32m0.64827\u001b[0m\u001b[0m | time: 72.389s\n\u001b[2K\r| Adam | epoch: 003 | loss: 0.64827 - acc: 0.6308 -- iter: 18432/20250\n"
     ]
    },
    {
     "name": "stdout",
     "output_type": "stream",
     "text": [
      "Training Step: 923  | total loss: \u001b[1m\u001b[32m0.63946\u001b[0m\u001b[0m | time: 72.642s\n\u001b[2K\r| Adam | epoch: 003 | loss: 0.63946 - acc: 0.6349 -- iter: 18496/20250\n"
     ]
    },
    {
     "name": "stdout",
     "output_type": "stream",
     "text": [
      "Training Step: 924  | total loss: \u001b[1m\u001b[32m0.63586\u001b[0m\u001b[0m | time: 72.892s\n\u001b[2K\r| Adam | epoch: 003 | loss: 0.63586 - acc: 0.6402 -- iter: 18560/20250\n"
     ]
    },
    {
     "name": "stdout",
     "output_type": "stream",
     "text": [
      "Training Step: 925  | total loss: \u001b[1m\u001b[32m0.62996\u001b[0m\u001b[0m | time: 73.134s\n\u001b[2K\r| Adam | epoch: 003 | loss: 0.62996 - acc: 0.6355 -- iter: 18624/20250\n"
     ]
    },
    {
     "name": "stdout",
     "output_type": "stream",
     "text": [
      "Training Step: 926  | total loss: \u001b[1m\u001b[32m0.62753\u001b[0m\u001b[0m | time: 73.392s\n\u001b[2K\r| Adam | epoch: 003 | loss: 0.62753 - acc: 0.6329 -- iter: 18688/20250\n"
     ]
    },
    {
     "name": "stdout",
     "output_type": "stream",
     "text": [
      "Training Step: 927  | total loss: \u001b[1m\u001b[32m0.62578\u001b[0m\u001b[0m | time: 73.634s\n\u001b[2K\r| Adam | epoch: 003 | loss: 0.62578 - acc: 0.6337 -- iter: 18752/20250\n"
     ]
    },
    {
     "name": "stdout",
     "output_type": "stream",
     "text": [
      "Training Step: 928  | total loss: \u001b[1m\u001b[32m0.61939\u001b[0m\u001b[0m | time: 73.884s\n\u001b[2K\r| Adam | epoch: 003 | loss: 0.61939 - acc: 0.6453 -- iter: 18816/20250\n"
     ]
    },
    {
     "name": "stdout",
     "output_type": "stream",
     "text": [
      "Training Step: 929  | total loss: \u001b[1m\u001b[32m0.62179\u001b[0m\u001b[0m | time: 74.125s\n\u001b[2K\r| Adam | epoch: 003 | loss: 0.62179 - acc: 0.6417 -- iter: 18880/20250\n"
     ]
    },
    {
     "name": "stdout",
     "output_type": "stream",
     "text": [
      "Training Step: 930  | total loss: \u001b[1m\u001b[32m0.62059\u001b[0m\u001b[0m | time: 74.369s\n\u001b[2K\r| Adam | epoch: 003 | loss: 0.62059 - acc: 0.6385 -- iter: 18944/20250\n"
     ]
    },
    {
     "name": "stdout",
     "output_type": "stream",
     "text": [
      "Training Step: 931  | total loss: \u001b[1m\u001b[32m0.61706\u001b[0m\u001b[0m | time: 74.611s\n\u001b[2K\r| Adam | epoch: 003 | loss: 0.61706 - acc: 0.6356 -- iter: 19008/20250\n"
     ]
    },
    {
     "name": "stdout",
     "output_type": "stream",
     "text": [
      "Training Step: 932  | total loss: \u001b[1m\u001b[32m0.60848\u001b[0m\u001b[0m | time: 74.861s\n\u001b[2K\r| Adam | epoch: 003 | loss: 0.60848 - acc: 0.6361 -- iter: 19072/20250\n"
     ]
    },
    {
     "name": "stdout",
     "output_type": "stream",
     "text": [
      "Training Step: 933  | total loss: \u001b[1m\u001b[32m0.60914\u001b[0m\u001b[0m | time: 75.111s\n\u001b[2K\r| Adam | epoch: 003 | loss: 0.60914 - acc: 0.6318 -- iter: 19136/20250\n"
     ]
    },
    {
     "name": "stdout",
     "output_type": "stream",
     "text": [
      "Training Step: 934  | total loss: \u001b[1m\u001b[32m0.59918\u001b[0m\u001b[0m | time: 75.351s\n\u001b[2K\r| Adam | epoch: 003 | loss: 0.59918 - acc: 0.6405 -- iter: 19200/20250\n"
     ]
    },
    {
     "name": "stdout",
     "output_type": "stream",
     "text": [
      "Training Step: 935  | total loss: \u001b[1m\u001b[32m0.59359\u001b[0m\u001b[0m | time: 75.598s\n\u001b[2K\r| Adam | epoch: 003 | loss: 0.59359 - acc: 0.6437 -- iter: 19264/20250\n"
     ]
    },
    {
     "name": "stdout",
     "output_type": "stream",
     "text": [
      "Training Step: 936  | total loss: \u001b[1m\u001b[32m0.60585\u001b[0m\u001b[0m | time: 75.843s\n\u001b[2K\r| Adam | epoch: 003 | loss: 0.60585 - acc: 0.6277 -- iter: 19328/20250\n"
     ]
    },
    {
     "name": "stdout",
     "output_type": "stream",
     "text": [
      "Training Step: 937  | total loss: \u001b[1m\u001b[32m0.61091\u001b[0m\u001b[0m | time: 76.108s\n\u001b[2K\r| Adam | epoch: 003 | loss: 0.61091 - acc: 0.6275 -- iter: 19392/20250\n"
     ]
    },
    {
     "name": "stdout",
     "output_type": "stream",
     "text": [
      "Training Step: 938  | total loss: \u001b[1m\u001b[32m0.61890\u001b[0m\u001b[0m | time: 76.360s\n\u001b[2K\r| Adam | epoch: 003 | loss: 0.61890 - acc: 0.6225 -- iter: 19456/20250\n"
     ]
    },
    {
     "name": "stdout",
     "output_type": "stream",
     "text": [
      "Training Step: 939  | total loss: \u001b[1m\u001b[32m0.62800\u001b[0m\u001b[0m | time: 76.608s\n\u001b[2K\r| Adam | epoch: 003 | loss: 0.62800 - acc: 0.6181 -- iter: 19520/20250\n"
     ]
    },
    {
     "name": "stdout",
     "output_type": "stream",
     "text": [
      "Training Step: 940  | total loss: \u001b[1m\u001b[32m0.62522\u001b[0m\u001b[0m | time: 76.854s\n\u001b[2K\r| Adam | epoch: 003 | loss: 0.62522 - acc: 0.6235 -- iter: 19584/20250\n"
     ]
    },
    {
     "name": "stdout",
     "output_type": "stream",
     "text": [
      "Training Step: 941  | total loss: \u001b[1m\u001b[32m0.62563\u001b[0m\u001b[0m | time: 77.104s\n\u001b[2K\r| Adam | epoch: 003 | loss: 0.62563 - acc: 0.6314 -- iter: 19648/20250\n"
     ]
    },
    {
     "name": "stdout",
     "output_type": "stream",
     "text": [
      "Training Step: 942  | total loss: \u001b[1m\u001b[32m0.62294\u001b[0m\u001b[0m | time: 77.349s\n\u001b[2K\r| Adam | epoch: 003 | loss: 0.62294 - acc: 0.6339 -- iter: 19712/20250\n"
     ]
    },
    {
     "name": "stdout",
     "output_type": "stream",
     "text": [
      "Training Step: 943  | total loss: \u001b[1m\u001b[32m0.61467\u001b[0m\u001b[0m | time: 77.599s\n\u001b[2K\r| Adam | epoch: 003 | loss: 0.61467 - acc: 0.6424 -- iter: 19776/20250\n"
     ]
    },
    {
     "name": "stdout",
     "output_type": "stream",
     "text": [
      "Training Step: 944  | total loss: \u001b[1m\u001b[32m0.60987\u001b[0m\u001b[0m | time: 77.856s\n\u001b[2K\r| Adam | epoch: 003 | loss: 0.60987 - acc: 0.6438 -- iter: 19840/20250\n"
     ]
    },
    {
     "name": "stdout",
     "output_type": "stream",
     "text": [
      "Training Step: 945  | total loss: \u001b[1m\u001b[32m0.60231\u001b[0m\u001b[0m | time: 78.104s\n\u001b[2K\r| Adam | epoch: 003 | loss: 0.60231 - acc: 0.6482 -- iter: 19904/20250\n"
     ]
    },
    {
     "name": "stdout",
     "output_type": "stream",
     "text": [
      "Training Step: 946  | total loss: \u001b[1m\u001b[32m0.59816\u001b[0m\u001b[0m | time: 78.366s\n\u001b[2K\r| Adam | epoch: 003 | loss: 0.59816 - acc: 0.6505 -- iter: 19968/20250\n"
     ]
    },
    {
     "name": "stdout",
     "output_type": "stream",
     "text": [
      "Training Step: 947  | total loss: \u001b[1m\u001b[32m0.60110\u001b[0m\u001b[0m | time: 78.618s\n\u001b[2K\r| Adam | epoch: 003 | loss: 0.60110 - acc: 0.6495 -- iter: 20032/20250\n"
     ]
    },
    {
     "name": "stdout",
     "output_type": "stream",
     "text": [
      "Training Step: 948  | total loss: \u001b[1m\u001b[32m0.60324\u001b[0m\u001b[0m | time: 78.879s\n\u001b[2K\r| Adam | epoch: 003 | loss: 0.60324 - acc: 0.6518 -- iter: 20096/20250\n"
     ]
    },
    {
     "name": "stdout",
     "output_type": "stream",
     "text": [
      "Training Step: 949  | total loss: \u001b[1m\u001b[32m0.61010\u001b[0m\u001b[0m | time: 79.123s\n\u001b[2K\r| Adam | epoch: 003 | loss: 0.61010 - acc: 0.6491 -- iter: 20160/20250\n"
     ]
    },
    {
     "name": "stdout",
     "output_type": "stream",
     "text": [
      "Training Step: 950  | total loss: \u001b[1m\u001b[32m0.61439\u001b[0m\u001b[0m | time: 79.371s\n\u001b[2K\r| Adam | epoch: 003 | loss: 0.61439 - acc: 0.6389 -- iter: 20224/20250\n"
     ]
    },
    {
     "name": "stdout",
     "output_type": "stream",
     "text": [
      "Training Step: 951  | total loss: \u001b[1m\u001b[32m0.60773\u001b[0m\u001b[0m | time: 81.335s\n\u001b[2K\r| Adam | epoch: 003 | loss: 0.60773 - acc: 0.6469 | val_loss: 0.69519 - val_acc: 0.6018 -- iter: 20250/20250\n--\n"
     ]
    },
    {
     "name": "stdout",
     "output_type": "stream",
     "text": [
      "Training Step: 952  | total loss: \u001b[1m\u001b[32m0.60347\u001b[0m\u001b[0m | time: 0.248s\n\u001b[2K\r| Adam | epoch: 004 | loss: 0.60347 - acc: 0.6619 -- iter: 00064/20250\n"
     ]
    },
    {
     "name": "stdout",
     "output_type": "stream",
     "text": [
      "Training Step: 953  | total loss: \u001b[1m\u001b[32m0.60866\u001b[0m\u001b[0m | time: 0.487s\n\u001b[2K\r| Adam | epoch: 004 | loss: 0.60866 - acc: 0.6551 -- iter: 00128/20250\n"
     ]
    },
    {
     "name": "stdout",
     "output_type": "stream",
     "text": [
      "Training Step: 954  | total loss: \u001b[1m\u001b[32m0.60467\u001b[0m\u001b[0m | time: 0.721s\n\u001b[2K\r| Adam | epoch: 004 | loss: 0.60467 - acc: 0.6665 -- iter: 00192/20250\n"
     ]
    },
    {
     "name": "stdout",
     "output_type": "stream",
     "text": [
      "Training Step: 955  | total loss: \u001b[1m\u001b[32m0.59946\u001b[0m\u001b[0m | time: 0.972s\n\u001b[2K\r| Adam | epoch: 004 | loss: 0.59946 - acc: 0.6806 -- iter: 00256/20250\n"
     ]
    },
    {
     "name": "stdout",
     "output_type": "stream",
     "text": [
      "Training Step: 956  | total loss: \u001b[1m\u001b[32m0.59333\u001b[0m\u001b[0m | time: 1.217s\n\u001b[2K\r| Adam | epoch: 004 | loss: 0.59333 - acc: 0.6828 -- iter: 00320/20250\n"
     ]
    },
    {
     "name": "stdout",
     "output_type": "stream",
     "text": [
      "Training Step: 957  | total loss: \u001b[1m\u001b[32m0.59329\u001b[0m\u001b[0m | time: 1.463s\n\u001b[2K\r| Adam | epoch: 004 | loss: 0.59329 - acc: 0.6817 -- iter: 00384/20250\n"
     ]
    },
    {
     "name": "stdout",
     "output_type": "stream",
     "text": [
      "Training Step: 958  | total loss: \u001b[1m\u001b[32m0.59085\u001b[0m\u001b[0m | time: 1.711s\n\u001b[2K\r| Adam | epoch: 004 | loss: 0.59085 - acc: 0.6870 -- iter: 00448/20250\n"
     ]
    },
    {
     "name": "stdout",
     "output_type": "stream",
     "text": [
      "Training Step: 959  | total loss: \u001b[1m\u001b[32m0.59102\u001b[0m\u001b[0m | time: 1.979s\n\u001b[2K\r| Adam | epoch: 004 | loss: 0.59102 - acc: 0.6839 -- iter: 00512/20250\n"
     ]
    },
    {
     "name": "stdout",
     "output_type": "stream",
     "text": [
      "Training Step: 960  | total loss: \u001b[1m\u001b[32m0.59328\u001b[0m\u001b[0m | time: 2.226s\n\u001b[2K\r| Adam | epoch: 004 | loss: 0.59328 - acc: 0.6796 -- iter: 00576/20250\n"
     ]
    },
    {
     "name": "stdout",
     "output_type": "stream",
     "text": [
      "Training Step: 961  | total loss: \u001b[1m\u001b[32m0.59145\u001b[0m\u001b[0m | time: 2.471s\n\u001b[2K\r| Adam | epoch: 004 | loss: 0.59145 - acc: 0.6788 -- iter: 00640/20250\n"
     ]
    },
    {
     "name": "stdout",
     "output_type": "stream",
     "text": [
      "Training Step: 962  | total loss: \u001b[1m\u001b[32m0.58469\u001b[0m\u001b[0m | time: 2.717s\n\u001b[2K\r| Adam | epoch: 004 | loss: 0.58469 - acc: 0.6891 -- iter: 00704/20250\n"
     ]
    },
    {
     "name": "stdout",
     "output_type": "stream",
     "text": [
      "Training Step: 963  | total loss: \u001b[1m\u001b[32m0.58869\u001b[0m\u001b[0m | time: 2.965s\n\u001b[2K\r| Adam | epoch: 004 | loss: 0.58869 - acc: 0.6936 -- iter: 00768/20250\n"
     ]
    },
    {
     "name": "stdout",
     "output_type": "stream",
     "text": [
      "Training Step: 964  | total loss: \u001b[1m\u001b[32m0.58389\u001b[0m\u001b[0m | time: 3.211s\n\u001b[2K\r| Adam | epoch: 004 | loss: 0.58389 - acc: 0.6992 -- iter: 00832/20250\n"
     ]
    },
    {
     "name": "stdout",
     "output_type": "stream",
     "text": [
      "Training Step: 965  | total loss: \u001b[1m\u001b[32m0.58284\u001b[0m\u001b[0m | time: 3.465s\n\u001b[2K\r| Adam | epoch: 004 | loss: 0.58284 - acc: 0.6965 -- iter: 00896/20250\n"
     ]
    },
    {
     "name": "stdout",
     "output_type": "stream",
     "text": [
      "Training Step: 966  | total loss: \u001b[1m\u001b[32m0.56847\u001b[0m\u001b[0m | time: 3.709s\n\u001b[2K\r| Adam | epoch: 004 | loss: 0.56847 - acc: 0.7081 -- iter: 00960/20250\n"
     ]
    },
    {
     "name": "stdout",
     "output_type": "stream",
     "text": [
      "Training Step: 967  | total loss: \u001b[1m\u001b[32m0.56538\u001b[0m\u001b[0m | time: 3.961s\n\u001b[2K\r| Adam | epoch: 004 | loss: 0.56538 - acc: 0.7107 -- iter: 01024/20250\n"
     ]
    },
    {
     "name": "stdout",
     "output_type": "stream",
     "text": [
      "Training Step: 968  | total loss: \u001b[1m\u001b[32m0.56477\u001b[0m\u001b[0m | time: 4.207s\n\u001b[2K\r| Adam | epoch: 004 | loss: 0.56477 - acc: 0.7100 -- iter: 01088/20250\n"
     ]
    },
    {
     "name": "stdout",
     "output_type": "stream",
     "text": [
      "Training Step: 969  | total loss: \u001b[1m\u001b[32m0.57367\u001b[0m\u001b[0m | time: 4.472s\n\u001b[2K\r| Adam | epoch: 004 | loss: 0.57367 - acc: 0.7015 -- iter: 01152/20250\n"
     ]
    },
    {
     "name": "stdout",
     "output_type": "stream",
     "text": [
      "Training Step: 970  | total loss: \u001b[1m\u001b[32m0.57966\u001b[0m\u001b[0m | time: 4.731s\n\u001b[2K\r| Adam | epoch: 004 | loss: 0.57966 - acc: 0.6954 -- iter: 01216/20250\n"
     ]
    },
    {
     "name": "stdout",
     "output_type": "stream",
     "text": [
      "Training Step: 971  | total loss: \u001b[1m\u001b[32m0.58014\u001b[0m\u001b[0m | time: 4.985s\n\u001b[2K\r| Adam | epoch: 004 | loss: 0.58014 - acc: 0.6868 -- iter: 01280/20250\n"
     ]
    },
    {
     "name": "stdout",
     "output_type": "stream",
     "text": [
      "Training Step: 972  | total loss: \u001b[1m\u001b[32m0.58472\u001b[0m\u001b[0m | time: 5.232s\n\u001b[2K\r| Adam | epoch: 004 | loss: 0.58472 - acc: 0.6775 -- iter: 01344/20250\n"
     ]
    },
    {
     "name": "stdout",
     "output_type": "stream",
     "text": [
      "Training Step: 973  | total loss: \u001b[1m\u001b[32m0.59326\u001b[0m\u001b[0m | time: 5.480s\n\u001b[2K\r| Adam | epoch: 004 | loss: 0.59326 - acc: 0.6644 -- iter: 01408/20250\n"
     ]
    },
    {
     "name": "stdout",
     "output_type": "stream",
     "text": [
      "Training Step: 974  | total loss: \u001b[1m\u001b[32m0.61147\u001b[0m\u001b[0m | time: 5.725s\n\u001b[2K\r| Adam | epoch: 004 | loss: 0.61147 - acc: 0.6542 -- iter: 01472/20250\n"
     ]
    },
    {
     "name": "stdout",
     "output_type": "stream",
     "text": [
      "Training Step: 975  | total loss: \u001b[1m\u001b[32m0.61337\u001b[0m\u001b[0m | time: 5.974s\n\u001b[2K\r| Adam | epoch: 004 | loss: 0.61337 - acc: 0.6497 -- iter: 01536/20250\n"
     ]
    },
    {
     "name": "stdout",
     "output_type": "stream",
     "text": [
      "Training Step: 976  | total loss: \u001b[1m\u001b[32m0.61594\u001b[0m\u001b[0m | time: 6.221s\n\u001b[2K\r| Adam | epoch: 004 | loss: 0.61594 - acc: 0.6410 -- iter: 01600/20250\n"
     ]
    },
    {
     "name": "stdout",
     "output_type": "stream",
     "text": [
      "Training Step: 977  | total loss: \u001b[1m\u001b[32m0.62202\u001b[0m\u001b[0m | time: 6.465s\n\u001b[2K\r| Adam | epoch: 004 | loss: 0.62202 - acc: 0.6441 -- iter: 01664/20250\n"
     ]
    },
    {
     "name": "stdout",
     "output_type": "stream",
     "text": [
      "Training Step: 978  | total loss: \u001b[1m\u001b[32m0.61780\u001b[0m\u001b[0m | time: 6.711s\n\u001b[2K\r| Adam | epoch: 004 | loss: 0.61780 - acc: 0.6469 -- iter: 01728/20250\n"
     ]
    },
    {
     "name": "stdout",
     "output_type": "stream",
     "text": [
      "Training Step: 979  | total loss: \u001b[1m\u001b[32m0.62007\u001b[0m\u001b[0m | time: 6.973s\n\u001b[2K\r| Adam | epoch: 004 | loss: 0.62007 - acc: 0.6447 -- iter: 01792/20250\n"
     ]
    },
    {
     "name": "stdout",
     "output_type": "stream",
     "text": [
      "Training Step: 980  | total loss: \u001b[1m\u001b[32m0.62202\u001b[0m\u001b[0m | time: 7.242s\n\u001b[2K\r| Adam | epoch: 004 | loss: 0.62202 - acc: 0.6380 -- iter: 01856/20250\n"
     ]
    },
    {
     "name": "stdout",
     "output_type": "stream",
     "text": [
      "Training Step: 981  | total loss: \u001b[1m\u001b[32m0.62264\u001b[0m\u001b[0m | time: 7.494s\n\u001b[2K\r| Adam | epoch: 004 | loss: 0.62264 - acc: 0.6352 -- iter: 01920/20250\n"
     ]
    },
    {
     "name": "stdout",
     "output_type": "stream",
     "text": [
      "Training Step: 982  | total loss: \u001b[1m\u001b[32m0.62829\u001b[0m\u001b[0m | time: 7.737s\n\u001b[2K\r| Adam | epoch: 004 | loss: 0.62829 - acc: 0.6326 -- iter: 01984/20250\n"
     ]
    },
    {
     "name": "stdout",
     "output_type": "stream",
     "text": [
      "Training Step: 983  | total loss: \u001b[1m\u001b[32m0.63266\u001b[0m\u001b[0m | time: 7.977s\n\u001b[2K\r| Adam | epoch: 004 | loss: 0.63266 - acc: 0.6271 -- iter: 02048/20250\n"
     ]
    },
    {
     "name": "stdout",
     "output_type": "stream",
     "text": [
      "Training Step: 984  | total loss: \u001b[1m\u001b[32m0.63340\u001b[0m\u001b[0m | time: 8.215s\n\u001b[2K\r| Adam | epoch: 004 | loss: 0.63340 - acc: 0.6238 -- iter: 02112/20250\n"
     ]
    },
    {
     "name": "stdout",
     "output_type": "stream",
     "text": [
      "Training Step: 985  | total loss: \u001b[1m\u001b[32m0.63348\u001b[0m\u001b[0m | time: 8.471s\n\u001b[2K\r| Adam | epoch: 004 | loss: 0.63348 - acc: 0.6302 -- iter: 02176/20250\n"
     ]
    },
    {
     "name": "stdout",
     "output_type": "stream",
     "text": [
      "Training Step: 986  | total loss: \u001b[1m\u001b[32m0.63810\u001b[0m\u001b[0m | time: 8.725s\n\u001b[2K\r| Adam | epoch: 004 | loss: 0.63810 - acc: 0.6234 -- iter: 02240/20250\n"
     ]
    },
    {
     "name": "stdout",
     "output_type": "stream",
     "text": [
      "Training Step: 987  | total loss: \u001b[1m\u001b[32m0.63214\u001b[0m\u001b[0m | time: 8.973s\n\u001b[2K\r| Adam | epoch: 004 | loss: 0.63214 - acc: 0.6329 -- iter: 02304/20250\n"
     ]
    },
    {
     "name": "stdout",
     "output_type": "stream",
     "text": [
      "Training Step: 988  | total loss: \u001b[1m\u001b[32m0.62772\u001b[0m\u001b[0m | time: 9.217s\n\u001b[2K\r| Adam | epoch: 004 | loss: 0.62772 - acc: 0.6368 -- iter: 02368/20250\n"
     ]
    },
    {
     "name": "stdout",
     "output_type": "stream",
     "text": [
      "Training Step: 989  | total loss: \u001b[1m\u001b[32m0.63743\u001b[0m\u001b[0m | time: 9.484s\n\u001b[2K\r| Adam | epoch: 004 | loss: 0.63743 - acc: 0.6294 -- iter: 02432/20250\n"
     ]
    },
    {
     "name": "stdout",
     "output_type": "stream",
     "text": [
      "Training Step: 990  | total loss: \u001b[1m\u001b[32m0.62898\u001b[0m\u001b[0m | time: 9.741s\n\u001b[2K\r| Adam | epoch: 004 | loss: 0.62898 - acc: 0.6321 -- iter: 02496/20250\n"
     ]
    },
    {
     "name": "stdout",
     "output_type": "stream",
     "text": [
      "Training Step: 991  | total loss: \u001b[1m\u001b[32m0.63232\u001b[0m\u001b[0m | time: 9.985s\n\u001b[2K\r| Adam | epoch: 004 | loss: 0.63232 - acc: 0.6283 -- iter: 02560/20250\n"
     ]
    },
    {
     "name": "stdout",
     "output_type": "stream",
     "text": [
      "Training Step: 992  | total loss: \u001b[1m\u001b[32m0.63383\u001b[0m\u001b[0m | time: 10.229s\n\u001b[2K\r| Adam | epoch: 004 | loss: 0.63383 - acc: 0.6217 -- iter: 02624/20250\n"
     ]
    },
    {
     "name": "stdout",
     "output_type": "stream",
     "text": [
      "Training Step: 993  | total loss: \u001b[1m\u001b[32m0.62574\u001b[0m\u001b[0m | time: 10.478s\n\u001b[2K\r| Adam | epoch: 004 | loss: 0.62574 - acc: 0.6298 -- iter: 02688/20250\n"
     ]
    },
    {
     "name": "stdout",
     "output_type": "stream",
     "text": [
      "Training Step: 994  | total loss: \u001b[1m\u001b[32m0.62718\u001b[0m\u001b[0m | time: 10.723s\n\u001b[2K\r| Adam | epoch: 004 | loss: 0.62718 - acc: 0.6262 -- iter: 02752/20250\n"
     ]
    },
    {
     "name": "stdout",
     "output_type": "stream",
     "text": [
      "Training Step: 995  | total loss: \u001b[1m\u001b[32m0.62589\u001b[0m\u001b[0m | time: 10.969s\n\u001b[2K\r| Adam | epoch: 004 | loss: 0.62589 - acc: 0.6277 -- iter: 02816/20250\n"
     ]
    },
    {
     "name": "stdout",
     "output_type": "stream",
     "text": [
      "Training Step: 996  | total loss: \u001b[1m\u001b[32m0.63371\u001b[0m\u001b[0m | time: 11.214s\n\u001b[2K\r| Adam | epoch: 004 | loss: 0.63371 - acc: 0.6118 -- iter: 02880/20250\n"
     ]
    },
    {
     "name": "stdout",
     "output_type": "stream",
     "text": [
      "Training Step: 997  | total loss: \u001b[1m\u001b[32m0.63437\u001b[0m\u001b[0m | time: 11.460s\n\u001b[2K\r| Adam | epoch: 004 | loss: 0.63437 - acc: 0.6068 -- iter: 02944/20250\n"
     ]
    },
    {
     "name": "stdout",
     "output_type": "stream",
     "text": [
      "Training Step: 998  | total loss: \u001b[1m\u001b[32m0.63163\u001b[0m\u001b[0m | time: 11.702s\n\u001b[2K\r| Adam | epoch: 004 | loss: 0.63163 - acc: 0.6087 -- iter: 03008/20250\n"
     ]
    },
    {
     "name": "stdout",
     "output_type": "stream",
     "text": [
      "Training Step: 999  | total loss: \u001b[1m\u001b[32m0.62805\u001b[0m\u001b[0m | time: 11.970s\n\u001b[2K\r| Adam | epoch: 004 | loss: 0.62805 - acc: 0.6040 -- iter: 03072/20250\n"
     ]
    },
    {
     "name": "stdout",
     "output_type": "stream",
     "text": [
      "Training Step: 1000  | total loss: \u001b[1m\u001b[32m0.62574\u001b[0m\u001b[0m | time: 12.243s\n\u001b[2K\r| Adam | epoch: 004 | loss: 0.62574 - acc: 0.6061 -- iter: 03136/20250\n"
     ]
    },
    {
     "name": "stdout",
     "output_type": "stream",
     "text": [
      "Training Step: 1001  | total loss: \u001b[1m\u001b[32m0.62472\u001b[0m\u001b[0m | time: 12.490s\n\u001b[2K\r| Adam | epoch: 004 | loss: 0.62472 - acc: 0.5971 -- iter: 03200/20250\n"
     ]
    },
    {
     "name": "stdout",
     "output_type": "stream",
     "text": [
      "Training Step: 1002  | total loss: \u001b[1m\u001b[32m0.61769\u001b[0m\u001b[0m | time: 12.740s\n\u001b[2K\r| Adam | epoch: 004 | loss: 0.61769 - acc: 0.6093 -- iter: 03264/20250\n"
     ]
    },
    {
     "name": "stdout",
     "output_type": "stream",
     "text": [
      "Training Step: 1003  | total loss: \u001b[1m\u001b[32m0.61696\u001b[0m\u001b[0m | time: 12.982s\n\u001b[2K\r| Adam | epoch: 004 | loss: 0.61696 - acc: 0.6046 -- iter: 03328/20250\n"
     ]
    },
    {
     "name": "stdout",
     "output_type": "stream",
     "text": [
      "Training Step: 1004  | total loss: \u001b[1m\u001b[32m0.62025\u001b[0m\u001b[0m | time: 13.227s\n\u001b[2K\r| Adam | epoch: 004 | loss: 0.62025 - acc: 0.6004 -- iter: 03392/20250\n"
     ]
    },
    {
     "name": "stdout",
     "output_type": "stream",
     "text": [
      "Training Step: 1005  | total loss: \u001b[1m\u001b[32m0.62299\u001b[0m\u001b[0m | time: 13.467s\n\u001b[2K\r| Adam | epoch: 004 | loss: 0.62299 - acc: 0.5903 -- iter: 03456/20250\n"
     ]
    },
    {
     "name": "stdout",
     "output_type": "stream",
     "text": [
      "Training Step: 1006  | total loss: \u001b[1m\u001b[32m0.62485\u001b[0m\u001b[0m | time: 13.708s\n\u001b[2K\r| Adam | epoch: 004 | loss: 0.62485 - acc: 0.5860 -- iter: 03520/20250\n"
     ]
    },
    {
     "name": "stdout",
     "output_type": "stream",
     "text": [
      "Training Step: 1007  | total loss: \u001b[1m\u001b[32m0.62497\u001b[0m\u001b[0m | time: 13.952s\n\u001b[2K\r| Adam | epoch: 004 | loss: 0.62497 - acc: 0.5852 -- iter: 03584/20250\n"
     ]
    },
    {
     "name": "stdout",
     "output_type": "stream",
     "text": [
      "Training Step: 1008  | total loss: \u001b[1m\u001b[32m0.62601\u001b[0m\u001b[0m | time: 14.197s\n\u001b[2K\r| Adam | epoch: 004 | loss: 0.62601 - acc: 0.5892 -- iter: 03648/20250\n"
     ]
    },
    {
     "name": "stdout",
     "output_type": "stream",
     "text": [
      "Training Step: 1009  | total loss: \u001b[1m\u001b[32m0.62031\u001b[0m\u001b[0m | time: 14.475s\n\u001b[2K\r| Adam | epoch: 004 | loss: 0.62031 - acc: 0.5990 -- iter: 03712/20250\n"
     ]
    },
    {
     "name": "stdout",
     "output_type": "stream",
     "text": [
      "Training Step: 1010  | total loss: \u001b[1m\u001b[32m0.62306\u001b[0m\u001b[0m | time: 14.751s\n\u001b[2K\r| Adam | epoch: 004 | loss: 0.62306 - acc: 0.6032 -- iter: 03776/20250\n"
     ]
    },
    {
     "name": "stdout",
     "output_type": "stream",
     "text": [
      "Training Step: 1011  | total loss: \u001b[1m\u001b[32m0.62137\u001b[0m\u001b[0m | time: 14.997s\n\u001b[2K\r| Adam | epoch: 004 | loss: 0.62137 - acc: 0.6100 -- iter: 03840/20250\n"
     ]
    },
    {
     "name": "stdout",
     "output_type": "stream",
     "text": [
      "Training Step: 1012  | total loss: \u001b[1m\u001b[32m0.61624\u001b[0m\u001b[0m | time: 15.234s\n\u001b[2K\r| Adam | epoch: 004 | loss: 0.61624 - acc: 0.6131 -- iter: 03904/20250\n"
     ]
    },
    {
     "name": "stdout",
     "output_type": "stream",
     "text": [
      "Training Step: 1013  | total loss: \u001b[1m\u001b[32m0.61455\u001b[0m\u001b[0m | time: 15.475s\n\u001b[2K\r| Adam | epoch: 004 | loss: 0.61455 - acc: 0.6112 -- iter: 03968/20250\n"
     ]
    },
    {
     "name": "stdout",
     "output_type": "stream",
     "text": [
      "Training Step: 1014  | total loss: \u001b[1m\u001b[32m0.61129\u001b[0m\u001b[0m | time: 15.720s\n\u001b[2K\r| Adam | epoch: 004 | loss: 0.61129 - acc: 0.6266 -- iter: 04032/20250\n"
     ]
    },
    {
     "name": "stdout",
     "output_type": "stream",
     "text": [
      "Training Step: 1015  | total loss: \u001b[1m\u001b[32m0.60241\u001b[0m\u001b[0m | time: 15.965s\n\u001b[2K\r| Adam | epoch: 004 | loss: 0.60241 - acc: 0.6327 -- iter: 04096/20250\n"
     ]
    },
    {
     "name": "stdout",
     "output_type": "stream",
     "text": [
      "Training Step: 1016  | total loss: \u001b[1m\u001b[32m0.60423\u001b[0m\u001b[0m | time: 16.211s\n\u001b[2K\r| Adam | epoch: 004 | loss: 0.60423 - acc: 0.6319 -- iter: 04160/20250\n"
     ]
    },
    {
     "name": "stdout",
     "output_type": "stream",
     "text": [
      "Training Step: 1017  | total loss: \u001b[1m\u001b[32m0.59937\u001b[0m\u001b[0m | time: 16.461s\n\u001b[2K\r| Adam | epoch: 004 | loss: 0.59937 - acc: 0.6344 -- iter: 04224/20250\n"
     ]
    },
    {
     "name": "stdout",
     "output_type": "stream",
     "text": [
      "Training Step: 1018  | total loss: \u001b[1m\u001b[32m0.59968\u001b[0m\u001b[0m | time: 16.708s\n\u001b[2K\r| Adam | epoch: 004 | loss: 0.59968 - acc: 0.6319 -- iter: 04288/20250\n"
     ]
    },
    {
     "name": "stdout",
     "output_type": "stream",
     "text": [
      "Training Step: 1019  | total loss: \u001b[1m\u001b[32m0.60082\u001b[0m\u001b[0m | time: 16.982s\n\u001b[2K\r| Adam | epoch: 004 | loss: 0.60082 - acc: 0.6359 -- iter: 04352/20250\n"
     ]
    },
    {
     "name": "stdout",
     "output_type": "stream",
     "text": [
      "Training Step: 1020  | total loss: \u001b[1m\u001b[32m0.60740\u001b[0m\u001b[0m | time: 17.267s\n\u001b[2K\r| Adam | epoch: 004 | loss: 0.60740 - acc: 0.6363 -- iter: 04416/20250\n"
     ]
    },
    {
     "name": "stdout",
     "output_type": "stream",
     "text": [
      "Training Step: 1021  | total loss: \u001b[1m\u001b[32m0.60515\u001b[0m\u001b[0m | time: 17.519s\n\u001b[2K\r| Adam | epoch: 004 | loss: 0.60515 - acc: 0.6352 -- iter: 04480/20250\n"
     ]
    },
    {
     "name": "stdout",
     "output_type": "stream",
     "text": [
      "Training Step: 1022  | total loss: \u001b[1m\u001b[32m0.60240\u001b[0m\u001b[0m | time: 17.766s\n\u001b[2K\r| Adam | epoch: 004 | loss: 0.60240 - acc: 0.6389 -- iter: 04544/20250\n"
     ]
    },
    {
     "name": "stdout",
     "output_type": "stream",
     "text": [
      "Training Step: 1023  | total loss: \u001b[1m\u001b[32m0.60299\u001b[0m\u001b[0m | time: 18.016s\n\u001b[2K\r| Adam | epoch: 004 | loss: 0.60299 - acc: 0.6390 -- iter: 04608/20250\n"
     ]
    },
    {
     "name": "stdout",
     "output_type": "stream",
     "text": [
      "Training Step: 1024  | total loss: \u001b[1m\u001b[32m0.60633\u001b[0m\u001b[0m | time: 18.269s\n\u001b[2K\r| Adam | epoch: 004 | loss: 0.60633 - acc: 0.6408 -- iter: 04672/20250\n"
     ]
    },
    {
     "name": "stdout",
     "output_type": "stream",
     "text": [
      "Training Step: 1025  | total loss: \u001b[1m\u001b[32m0.60234\u001b[0m\u001b[0m | time: 18.518s\n\u001b[2K\r| Adam | epoch: 004 | loss: 0.60234 - acc: 0.6470 -- iter: 04736/20250\n"
     ]
    },
    {
     "name": "stdout",
     "output_type": "stream",
     "text": [
      "Training Step: 1026  | total loss: \u001b[1m\u001b[32m0.60167\u001b[0m\u001b[0m | time: 18.768s\n\u001b[2K\r| Adam | epoch: 004 | loss: 0.60167 - acc: 0.6557 -- iter: 04800/20250\n"
     ]
    },
    {
     "name": "stdout",
     "output_type": "stream",
     "text": [
      "Training Step: 1027  | total loss: \u001b[1m\u001b[32m0.59614\u001b[0m\u001b[0m | time: 19.016s\n\u001b[2K\r| Adam | epoch: 004 | loss: 0.59614 - acc: 0.6683 -- iter: 04864/20250\n"
     ]
    },
    {
     "name": "stdout",
     "output_type": "stream",
     "text": [
      "Training Step: 1028  | total loss: \u001b[1m\u001b[32m0.60204\u001b[0m\u001b[0m | time: 19.290s\n\u001b[2K\r| Adam | epoch: 004 | loss: 0.60204 - acc: 0.6562 -- iter: 04928/20250\n"
     ]
    },
    {
     "name": "stdout",
     "output_type": "stream",
     "text": [
      "Training Step: 1029  | total loss: \u001b[1m\u001b[32m0.61171\u001b[0m\u001b[0m | time: 19.538s\n\u001b[2K\r| Adam | epoch: 004 | loss: 0.61171 - acc: 0.6421 -- iter: 04992/20250\n"
     ]
    },
    {
     "name": "stdout",
     "output_type": "stream",
     "text": [
      "Training Step: 1030  | total loss: \u001b[1m\u001b[32m0.60889\u001b[0m\u001b[0m | time: 19.803s\n\u001b[2K\r| Adam | epoch: 004 | loss: 0.60889 - acc: 0.6435 -- iter: 05056/20250\n"
     ]
    },
    {
     "name": "stdout",
     "output_type": "stream",
     "text": [
      "Training Step: 1031  | total loss: \u001b[1m\u001b[32m0.60674\u001b[0m\u001b[0m | time: 20.055s\n\u001b[2K\r| Adam | epoch: 004 | loss: 0.60674 - acc: 0.6448 -- iter: 05120/20250\n"
     ]
    },
    {
     "name": "stdout",
     "output_type": "stream",
     "text": [
      "Training Step: 1032  | total loss: \u001b[1m\u001b[32m0.60507\u001b[0m\u001b[0m | time: 20.296s\n\u001b[2K\r| Adam | epoch: 004 | loss: 0.60507 - acc: 0.6491 -- iter: 05184/20250\n"
     ]
    },
    {
     "name": "stdout",
     "output_type": "stream",
     "text": [
      "Training Step: 1033  | total loss: \u001b[1m\u001b[32m0.59558\u001b[0m\u001b[0m | time: 20.547s\n\u001b[2K\r| Adam | epoch: 004 | loss: 0.59558 - acc: 0.6623 -- iter: 05248/20250\n"
     ]
    },
    {
     "name": "stdout",
     "output_type": "stream",
     "text": [
      "Training Step: 1034  | total loss: \u001b[1m\u001b[32m0.59716\u001b[0m\u001b[0m | time: 20.802s\n\u001b[2K\r| Adam | epoch: 004 | loss: 0.59716 - acc: 0.6648 -- iter: 05312/20250\n"
     ]
    },
    {
     "name": "stdout",
     "output_type": "stream",
     "text": [
      "Training Step: 1035  | total loss: \u001b[1m\u001b[32m0.60204\u001b[0m\u001b[0m | time: 21.049s\n\u001b[2K\r| Adam | epoch: 004 | loss: 0.60204 - acc: 0.6655 -- iter: 05376/20250\n"
     ]
    },
    {
     "name": "stdout",
     "output_type": "stream",
     "text": [
      "Training Step: 1036  | total loss: \u001b[1m\u001b[32m0.60256\u001b[0m\u001b[0m | time: 21.297s\n\u001b[2K\r| Adam | epoch: 004 | loss: 0.60256 - acc: 0.6630 -- iter: 05440/20250\n"
     ]
    },
    {
     "name": "stdout",
     "output_type": "stream",
     "text": [
      "Training Step: 1037  | total loss: \u001b[1m\u001b[32m0.60551\u001b[0m\u001b[0m | time: 21.550s\n\u001b[2K\r| Adam | epoch: 004 | loss: 0.60551 - acc: 0.6592 -- iter: 05504/20250\n"
     ]
    },
    {
     "name": "stdout",
     "output_type": "stream",
     "text": [
      "Training Step: 1038  | total loss: \u001b[1m\u001b[32m0.60550\u001b[0m\u001b[0m | time: 21.824s\n\u001b[2K\r| Adam | epoch: 004 | loss: 0.60550 - acc: 0.6511 -- iter: 05568/20250\n"
     ]
    },
    {
     "name": "stdout",
     "output_type": "stream",
     "text": [
      "Training Step: 1039  | total loss: \u001b[1m\u001b[32m0.60974\u001b[0m\u001b[0m | time: 22.102s\n\u001b[2K\r| Adam | epoch: 004 | loss: 0.60974 - acc: 0.6454 -- iter: 05632/20250\n"
     ]
    },
    {
     "name": "stdout",
     "output_type": "stream",
     "text": [
      "Training Step: 1040  | total loss: \u001b[1m\u001b[32m0.61051\u001b[0m\u001b[0m | time: 22.350s\n\u001b[2K\r| Adam | epoch: 004 | loss: 0.61051 - acc: 0.6433 -- iter: 05696/20250\n"
     ]
    },
    {
     "name": "stdout",
     "output_type": "stream",
     "text": [
      "Training Step: 1041  | total loss: \u001b[1m\u001b[32m0.60407\u001b[0m\u001b[0m | time: 22.595s\n\u001b[2K\r| Adam | epoch: 004 | loss: 0.60407 - acc: 0.6446 -- iter: 05760/20250\n"
     ]
    },
    {
     "name": "stdout",
     "output_type": "stream",
     "text": [
      "Training Step: 1042  | total loss: \u001b[1m\u001b[32m0.59819\u001b[0m\u001b[0m | time: 22.843s\n\u001b[2K\r| Adam | epoch: 004 | loss: 0.59819 - acc: 0.6505 -- iter: 05824/20250\n"
     ]
    },
    {
     "name": "stdout",
     "output_type": "stream",
     "text": [
      "Training Step: 1043  | total loss: \u001b[1m\u001b[32m0.59202\u001b[0m\u001b[0m | time: 23.085s\n\u001b[2K\r| Adam | epoch: 004 | loss: 0.59202 - acc: 0.6542 -- iter: 05888/20250\n"
     ]
    },
    {
     "name": "stdout",
     "output_type": "stream",
     "text": [
      "Training Step: 1044  | total loss: \u001b[1m\u001b[32m0.57806\u001b[0m\u001b[0m | time: 23.349s\n\u001b[2K\r| Adam | epoch: 004 | loss: 0.57806 - acc: 0.6700 -- iter: 05952/20250\n"
     ]
    },
    {
     "name": "stdout",
     "output_type": "stream",
     "text": [
      "Training Step: 1045  | total loss: \u001b[1m\u001b[32m0.57798\u001b[0m\u001b[0m | time: 23.600s\n\u001b[2K\r| Adam | epoch: 004 | loss: 0.57798 - acc: 0.6749 -- iter: 06016/20250\n"
     ]
    },
    {
     "name": "stdout",
     "output_type": "stream",
     "text": [
      "Training Step: 1046  | total loss: \u001b[1m\u001b[32m0.57855\u001b[0m\u001b[0m | time: 23.845s\n\u001b[2K\r| Adam | epoch: 004 | loss: 0.57855 - acc: 0.6746 -- iter: 06080/20250\n"
     ]
    },
    {
     "name": "stdout",
     "output_type": "stream",
     "text": [
      "Training Step: 1047  | total loss: \u001b[1m\u001b[32m0.57570\u001b[0m\u001b[0m | time: 24.086s\n\u001b[2K\r| Adam | epoch: 004 | loss: 0.57570 - acc: 0.6774 -- iter: 06144/20250\n"
     ]
    },
    {
     "name": "stdout",
     "output_type": "stream",
     "text": [
      "Training Step: 1048  | total loss: \u001b[1m\u001b[32m0.57102\u001b[0m\u001b[0m | time: 24.356s\n\u001b[2K\r| Adam | epoch: 004 | loss: 0.57102 - acc: 0.6816 -- iter: 06208/20250\n"
     ]
    },
    {
     "name": "stdout",
     "output_type": "stream",
     "text": [
      "Training Step: 1049  | total loss: \u001b[1m\u001b[32m0.56531\u001b[0m\u001b[0m | time: 24.636s\n\u001b[2K\r| Adam | epoch: 004 | loss: 0.56531 - acc: 0.6868 -- iter: 06272/20250\n"
     ]
    },
    {
     "name": "stdout",
     "output_type": "stream",
     "text": [
      "Training Step: 1050  | total loss: \u001b[1m\u001b[32m0.56222\u001b[0m\u001b[0m | time: 24.890s\n\u001b[2K\r| Adam | epoch: 004 | loss: 0.56222 - acc: 0.6900 -- iter: 06336/20250\n"
     ]
    },
    {
     "name": "stdout",
     "output_type": "stream",
     "text": [
      "Training Step: 1051  | total loss: \u001b[1m\u001b[32m0.55974\u001b[0m\u001b[0m | time: 25.140s\n\u001b[2K\r| Adam | epoch: 004 | loss: 0.55974 - acc: 0.6960 -- iter: 06400/20250\n"
     ]
    },
    {
     "name": "stdout",
     "output_type": "stream",
     "text": [
      "Training Step: 1052  | total loss: \u001b[1m\u001b[32m0.56638\u001b[0m\u001b[0m | time: 25.387s\n\u001b[2K\r| Adam | epoch: 004 | loss: 0.56638 - acc: 0.6921 -- iter: 06464/20250\n"
     ]
    },
    {
     "name": "stdout",
     "output_type": "stream",
     "text": [
      "Training Step: 1053  | total loss: \u001b[1m\u001b[32m0.57048\u001b[0m\u001b[0m | time: 25.630s\n\u001b[2K\r| Adam | epoch: 004 | loss: 0.57048 - acc: 0.6885 -- iter: 06528/20250\n"
     ]
    },
    {
     "name": "stdout",
     "output_type": "stream",
     "text": [
      "Training Step: 1054  | total loss: \u001b[1m\u001b[32m0.57739\u001b[0m\u001b[0m | time: 25.876s\n\u001b[2K\r| Adam | epoch: 004 | loss: 0.57739 - acc: 0.6837 -- iter: 06592/20250\n"
     ]
    },
    {
     "name": "stdout",
     "output_type": "stream",
     "text": [
      "Training Step: 1055  | total loss: \u001b[1m\u001b[32m0.57646\u001b[0m\u001b[0m | time: 26.116s\n\u001b[2K\r| Adam | epoch: 004 | loss: 0.57646 - acc: 0.6872 -- iter: 06656/20250\n"
     ]
    },
    {
     "name": "stdout",
     "output_type": "stream",
     "text": [
      "Training Step: 1056  | total loss: \u001b[1m\u001b[32m0.57555\u001b[0m\u001b[0m | time: 26.361s\n\u001b[2K\r| Adam | epoch: 004 | loss: 0.57555 - acc: 0.6919 -- iter: 06720/20250\n"
     ]
    },
    {
     "name": "stdout",
     "output_type": "stream",
     "text": [
      "Training Step: 1057  | total loss: \u001b[1m\u001b[32m0.58328\u001b[0m\u001b[0m | time: 26.607s\n\u001b[2K\r| Adam | epoch: 004 | loss: 0.58328 - acc: 0.6821 -- iter: 06784/20250\n"
     ]
    },
    {
     "name": "stdout",
     "output_type": "stream",
     "text": [
      "Training Step: 1058  | total loss: \u001b[1m\u001b[32m0.58668\u001b[0m\u001b[0m | time: 26.917s\n\u001b[2K\r| Adam | epoch: 004 | loss: 0.58668 - acc: 0.6733 -- iter: 06848/20250\n"
     ]
    },
    {
     "name": "stdout",
     "output_type": "stream",
     "text": [
      "Training Step: 1059  | total loss: \u001b[1m\u001b[32m0.58839\u001b[0m\u001b[0m | time: 27.194s\n\u001b[2K\r| Adam | epoch: 004 | loss: 0.58839 - acc: 0.6700 -- iter: 06912/20250\n"
     ]
    },
    {
     "name": "stdout",
     "output_type": "stream",
     "text": [
      "Training Step: 1060  | total loss: \u001b[1m\u001b[32m0.60005\u001b[0m\u001b[0m | time: 27.441s\n\u001b[2K\r| Adam | epoch: 004 | loss: 0.60005 - acc: 0.6592 -- iter: 06976/20250\n"
     ]
    },
    {
     "name": "stdout",
     "output_type": "stream",
     "text": [
      "Training Step: 1061  | total loss: \u001b[1m\u001b[32m0.60620\u001b[0m\u001b[0m | time: 27.691s\n\u001b[2K\r| Adam | epoch: 004 | loss: 0.60620 - acc: 0.6511 -- iter: 07040/20250\n"
     ]
    },
    {
     "name": "stdout",
     "output_type": "stream",
     "text": [
      "Training Step: 1062  | total loss: \u001b[1m\u001b[32m0.61178\u001b[0m\u001b[0m | time: 27.946s\n\u001b[2K\r| Adam | epoch: 004 | loss: 0.61178 - acc: 0.6360 -- iter: 07104/20250\n"
     ]
    },
    {
     "name": "stdout",
     "output_type": "stream",
     "text": [
      "Training Step: 1063  | total loss: \u001b[1m\u001b[32m0.61715\u001b[0m\u001b[0m | time: 28.191s\n\u001b[2K\r| Adam | epoch: 004 | loss: 0.61715 - acc: 0.6271 -- iter: 07168/20250\n"
     ]
    },
    {
     "name": "stdout",
     "output_type": "stream",
     "text": [
      "Training Step: 1064  | total loss: \u001b[1m\u001b[32m0.62671\u001b[0m\u001b[0m | time: 28.437s\n\u001b[2K\r| Adam | epoch: 004 | loss: 0.62671 - acc: 0.6238 -- iter: 07232/20250\n"
     ]
    },
    {
     "name": "stdout",
     "output_type": "stream",
     "text": [
      "Training Step: 1065  | total loss: \u001b[1m\u001b[32m0.62528\u001b[0m\u001b[0m | time: 28.689s\n\u001b[2K\r| Adam | epoch: 004 | loss: 0.62528 - acc: 0.6270 -- iter: 07296/20250\n"
     ]
    },
    {
     "name": "stdout",
     "output_type": "stream",
     "text": [
      "Training Step: 1066  | total loss: \u001b[1m\u001b[32m0.62696\u001b[0m\u001b[0m | time: 28.951s\n\u001b[2K\r| Adam | epoch: 004 | loss: 0.62696 - acc: 0.6159 -- iter: 07360/20250\n"
     ]
    },
    {
     "name": "stdout",
     "output_type": "stream",
     "text": [
      "Training Step: 1067  | total loss: \u001b[1m\u001b[32m0.61855\u001b[0m\u001b[0m | time: 29.199s\n\u001b[2K\r| Adam | epoch: 004 | loss: 0.61855 - acc: 0.6293 -- iter: 07424/20250\n"
     ]
    },
    {
     "name": "stdout",
     "output_type": "stream",
     "text": [
      "Training Step: 1068  | total loss: \u001b[1m\u001b[32m0.61188\u001b[0m\u001b[0m | time: 29.477s\n\u001b[2K\r| Adam | epoch: 004 | loss: 0.61188 - acc: 0.6367 -- iter: 07488/20250\n"
     ]
    },
    {
     "name": "stdout",
     "output_type": "stream",
     "text": [
      "Training Step: 1069  | total loss: \u001b[1m\u001b[32m0.61630\u001b[0m\u001b[0m | time: 29.733s\n\u001b[2K\r| Adam | epoch: 004 | loss: 0.61630 - acc: 0.6355 -- iter: 07552/20250\n"
     ]
    },
    {
     "name": "stdout",
     "output_type": "stream",
     "text": [
      "Training Step: 1070  | total loss: \u001b[1m\u001b[32m0.61932\u001b[0m\u001b[0m | time: 29.981s\n\u001b[2K\r| Adam | epoch: 004 | loss: 0.61932 - acc: 0.6376 -- iter: 07616/20250\n"
     ]
    },
    {
     "name": "stdout",
     "output_type": "stream",
     "text": [
      "Training Step: 1071  | total loss: \u001b[1m\u001b[32m0.62207\u001b[0m\u001b[0m | time: 30.224s\n\u001b[2K\r| Adam | epoch: 004 | loss: 0.62207 - acc: 0.6379 -- iter: 07680/20250\n"
     ]
    },
    {
     "name": "stdout",
     "output_type": "stream",
     "text": [
      "Training Step: 1072  | total loss: \u001b[1m\u001b[32m0.62538\u001b[0m\u001b[0m | time: 30.488s\n\u001b[2K\r| Adam | epoch: 004 | loss: 0.62538 - acc: 0.6335 -- iter: 07744/20250\n"
     ]
    },
    {
     "name": "stdout",
     "output_type": "stream",
     "text": [
      "Training Step: 1073  | total loss: \u001b[1m\u001b[32m0.62221\u001b[0m\u001b[0m | time: 30.735s\n\u001b[2K\r| Adam | epoch: 004 | loss: 0.62221 - acc: 0.6389 -- iter: 07808/20250\n"
     ]
    },
    {
     "name": "stdout",
     "output_type": "stream",
     "text": [
      "Training Step: 1074  | total loss: \u001b[1m\u001b[32m0.62801\u001b[0m\u001b[0m | time: 30.976s\n\u001b[2K\r| Adam | epoch: 004 | loss: 0.62801 - acc: 0.6375 -- iter: 07872/20250\n"
     ]
    },
    {
     "name": "stdout",
     "output_type": "stream",
     "text": [
      "Training Step: 1075  | total loss: \u001b[1m\u001b[32m0.61773\u001b[0m\u001b[0m | time: 31.233s\n\u001b[2K\r| Adam | epoch: 004 | loss: 0.61773 - acc: 0.6503 -- iter: 07936/20250\n"
     ]
    },
    {
     "name": "stdout",
     "output_type": "stream",
     "text": [
      "Training Step: 1076  | total loss: \u001b[1m\u001b[32m0.62208\u001b[0m\u001b[0m | time: 31.475s\n\u001b[2K\r| Adam | epoch: 004 | loss: 0.62208 - acc: 0.6446 -- iter: 08000/20250\n"
     ]
    },
    {
     "name": "stdout",
     "output_type": "stream",
     "text": [
      "Training Step: 1077  | total loss: \u001b[1m\u001b[32m0.62412\u001b[0m\u001b[0m | time: 31.720s\n\u001b[2K\r| Adam | epoch: 004 | loss: 0.62412 - acc: 0.6474 -- iter: 08064/20250\n"
     ]
    },
    {
     "name": "stdout",
     "output_type": "stream",
     "text": [
      "Training Step: 1078  | total loss: \u001b[1m\u001b[32m0.62758\u001b[0m\u001b[0m | time: 31.999s\n\u001b[2K\r| Adam | epoch: 004 | loss: 0.62758 - acc: 0.6436 -- iter: 08128/20250\n"
     ]
    },
    {
     "name": "stdout",
     "output_type": "stream",
     "text": [
      "Training Step: 1079  | total loss: \u001b[1m\u001b[32m0.62132\u001b[0m\u001b[0m | time: 32.283s\n\u001b[2K\r| Adam | epoch: 004 | loss: 0.62132 - acc: 0.6511 -- iter: 08192/20250\n"
     ]
    },
    {
     "name": "stdout",
     "output_type": "stream",
     "text": [
      "Training Step: 1080  | total loss: \u001b[1m\u001b[32m0.61773\u001b[0m\u001b[0m | time: 32.521s\n\u001b[2K\r| Adam | epoch: 004 | loss: 0.61773 - acc: 0.6500 -- iter: 08256/20250\n"
     ]
    },
    {
     "name": "stdout",
     "output_type": "stream",
     "text": [
      "Training Step: 1081  | total loss: \u001b[1m\u001b[32m0.61319\u001b[0m\u001b[0m | time: 32.766s\n\u001b[2K\r| Adam | epoch: 004 | loss: 0.61319 - acc: 0.6538 -- iter: 08320/20250\n"
     ]
    },
    {
     "name": "stdout",
     "output_type": "stream",
     "text": [
      "Training Step: 1082  | total loss: \u001b[1m\u001b[32m0.61920\u001b[0m\u001b[0m | time: 33.012s\n\u001b[2K\r| Adam | epoch: 004 | loss: 0.61920 - acc: 0.6447 -- iter: 08384/20250\n"
     ]
    },
    {
     "name": "stdout",
     "output_type": "stream",
     "text": [
      "Training Step: 1083  | total loss: \u001b[1m\u001b[32m0.61275\u001b[0m\u001b[0m | time: 33.260s\n\u001b[2K\r| Adam | epoch: 004 | loss: 0.61275 - acc: 0.6458 -- iter: 08448/20250\n"
     ]
    },
    {
     "name": "stdout",
     "output_type": "stream",
     "text": [
      "Training Step: 1084  | total loss: \u001b[1m\u001b[32m0.61110\u001b[0m\u001b[0m | time: 33.504s\n\u001b[2K\r| Adam | epoch: 004 | loss: 0.61110 - acc: 0.6437 -- iter: 08512/20250\n"
     ]
    },
    {
     "name": "stdout",
     "output_type": "stream",
     "text": [
      "Training Step: 1085  | total loss: \u001b[1m\u001b[32m0.60852\u001b[0m\u001b[0m | time: 33.750s\n\u001b[2K\r| Adam | epoch: 004 | loss: 0.60852 - acc: 0.6434 -- iter: 08576/20250\n"
     ]
    },
    {
     "name": "stdout",
     "output_type": "stream",
     "text": [
      "Training Step: 1086  | total loss: \u001b[1m\u001b[32m0.60749\u001b[0m\u001b[0m | time: 33.994s\n\u001b[2K\r| Adam | epoch: 004 | loss: 0.60749 - acc: 0.6510 -- iter: 08640/20250\n"
     ]
    },
    {
     "name": "stdout",
     "output_type": "stream",
     "text": [
      "Training Step: 1087  | total loss: \u001b[1m\u001b[32m0.61335\u001b[0m\u001b[0m | time: 34.260s\n\u001b[2K\r| Adam | epoch: 004 | loss: 0.61335 - acc: 0.6452 -- iter: 08704/20250\n"
     ]
    },
    {
     "name": "stdout",
     "output_type": "stream",
     "text": [
      "Training Step: 1088  | total loss: \u001b[1m\u001b[32m0.61154\u001b[0m\u001b[0m | time: 34.510s\n\u001b[2K\r| Adam | epoch: 004 | loss: 0.61154 - acc: 0.6463 -- iter: 08768/20250\n"
     ]
    },
    {
     "name": "stdout",
     "output_type": "stream",
     "text": [
      "Training Step: 1089  | total loss: \u001b[1m\u001b[32m0.60825\u001b[0m\u001b[0m | time: 34.789s\n\u001b[2K\r| Adam | epoch: 004 | loss: 0.60825 - acc: 0.6551 -- iter: 08832/20250\n"
     ]
    },
    {
     "name": "stdout",
     "output_type": "stream",
     "text": [
      "Training Step: 1090  | total loss: \u001b[1m\u001b[32m0.60804\u001b[0m\u001b[0m | time: 35.028s\n\u001b[2K\r| Adam | epoch: 004 | loss: 0.60804 - acc: 0.6537 -- iter: 08896/20250\n"
     ]
    },
    {
     "name": "stdout",
     "output_type": "stream",
     "text": [
      "Training Step: 1091  | total loss: \u001b[1m\u001b[32m0.60798\u001b[0m\u001b[0m | time: 35.272s\n\u001b[2K\r| Adam | epoch: 004 | loss: 0.60798 - acc: 0.6508 -- iter: 08960/20250\n"
     ]
    },
    {
     "name": "stdout",
     "output_type": "stream",
     "text": [
      "Training Step: 1092  | total loss: \u001b[1m\u001b[32m0.60743\u001b[0m\u001b[0m | time: 35.518s\n\u001b[2K\r| Adam | epoch: 004 | loss: 0.60743 - acc: 0.6482 -- iter: 09024/20250\n"
     ]
    },
    {
     "name": "stdout",
     "output_type": "stream",
     "text": [
      "Training Step: 1093  | total loss: \u001b[1m\u001b[32m0.60739\u001b[0m\u001b[0m | time: 35.762s\n\u001b[2K\r| Adam | epoch: 004 | loss: 0.60739 - acc: 0.6490 -- iter: 09088/20250\n"
     ]
    },
    {
     "name": "stdout",
     "output_type": "stream",
     "text": [
      "Training Step: 1094  | total loss: \u001b[1m\u001b[32m0.60097\u001b[0m\u001b[0m | time: 36.006s\n\u001b[2K\r| Adam | epoch: 004 | loss: 0.60097 - acc: 0.6576 -- iter: 09152/20250\n"
     ]
    },
    {
     "name": "stdout",
     "output_type": "stream",
     "text": [
      "Training Step: 1095  | total loss: \u001b[1m\u001b[32m0.60123\u001b[0m\u001b[0m | time: 36.250s\n\u001b[2K\r| Adam | epoch: 004 | loss: 0.60123 - acc: 0.6606 -- iter: 09216/20250\n"
     ]
    },
    {
     "name": "stdout",
     "output_type": "stream",
     "text": [
      "Training Step: 1096  | total loss: \u001b[1m\u001b[32m0.60104\u001b[0m\u001b[0m | time: 36.496s\n\u001b[2K\r| Adam | epoch: 004 | loss: 0.60104 - acc: 0.6617 -- iter: 09280/20250\n"
     ]
    },
    {
     "name": "stdout",
     "output_type": "stream",
     "text": [
      "Training Step: 1097  | total loss: \u001b[1m\u001b[32m0.60013\u001b[0m\u001b[0m | time: 36.771s\n\u001b[2K\r| Adam | epoch: 004 | loss: 0.60013 - acc: 0.6674 -- iter: 09344/20250\n"
     ]
    },
    {
     "name": "stdout",
     "output_type": "stream",
     "text": [
      "Training Step: 1098  | total loss: \u001b[1m\u001b[32m0.60486\u001b[0m\u001b[0m | time: 37.025s\n\u001b[2K\r| Adam | epoch: 004 | loss: 0.60486 - acc: 0.6616 -- iter: 09408/20250\n"
     ]
    },
    {
     "name": "stdout",
     "output_type": "stream",
     "text": [
      "Training Step: 1099  | total loss: \u001b[1m\u001b[32m0.60952\u001b[0m\u001b[0m | time: 37.284s\n\u001b[2K\r| Adam | epoch: 004 | loss: 0.60952 - acc: 0.6626 -- iter: 09472/20250\n"
     ]
    },
    {
     "name": "stdout",
     "output_type": "stream",
     "text": [
      "Training Step: 1100  | total loss: \u001b[1m\u001b[32m0.60548\u001b[0m\u001b[0m | time: 37.527s\n\u001b[2K\r| Adam | epoch: 004 | loss: 0.60548 - acc: 0.6667 -- iter: 09536/20250\n"
     ]
    },
    {
     "name": "stdout",
     "output_type": "stream",
     "text": [
      "Training Step: 1101  | total loss: \u001b[1m\u001b[32m0.61006\u001b[0m\u001b[0m | time: 37.768s\n\u001b[2K\r| Adam | epoch: 004 | loss: 0.61006 - acc: 0.6688 -- iter: 09600/20250\n"
     ]
    },
    {
     "name": "stdout",
     "output_type": "stream",
     "text": [
      "Training Step: 1102  | total loss: \u001b[1m\u001b[32m0.60822\u001b[0m\u001b[0m | time: 38.014s\n\u001b[2K\r| Adam | epoch: 004 | loss: 0.60822 - acc: 0.6691 -- iter: 09664/20250\n"
     ]
    },
    {
     "name": "stdout",
     "output_type": "stream",
     "text": [
      "Training Step: 1103  | total loss: \u001b[1m\u001b[32m0.60730\u001b[0m\u001b[0m | time: 38.259s\n\u001b[2K\r| Adam | epoch: 004 | loss: 0.60730 - acc: 0.6662 -- iter: 09728/20250\n"
     ]
    },
    {
     "name": "stdout",
     "output_type": "stream",
     "text": [
      "Training Step: 1104  | total loss: \u001b[1m\u001b[32m0.61056\u001b[0m\u001b[0m | time: 38.503s\n\u001b[2K\r| Adam | epoch: 004 | loss: 0.61056 - acc: 0.6637 -- iter: 09792/20250\n"
     ]
    },
    {
     "name": "stdout",
     "output_type": "stream",
     "text": [
      "Training Step: 1105  | total loss: \u001b[1m\u001b[32m0.61698\u001b[0m\u001b[0m | time: 38.752s\n\u001b[2K\r| Adam | epoch: 004 | loss: 0.61698 - acc: 0.6535 -- iter: 09856/20250\n"
     ]
    },
    {
     "name": "stdout",
     "output_type": "stream",
     "text": [
      "Training Step: 1106  | total loss: \u001b[1m\u001b[32m0.61224\u001b[0m\u001b[0m | time: 38.993s\n\u001b[2K\r| Adam | epoch: 004 | loss: 0.61224 - acc: 0.6616 -- iter: 09920/20250\n"
     ]
    },
    {
     "name": "stdout",
     "output_type": "stream",
     "text": [
      "Training Step: 1107  | total loss: \u001b[1m\u001b[32m0.60414\u001b[0m\u001b[0m | time: 39.234s\n\u001b[2K\r| Adam | epoch: 004 | loss: 0.60414 - acc: 0.6689 -- iter: 09984/20250\n"
     ]
    },
    {
     "name": "stdout",
     "output_type": "stream",
     "text": [
      "Training Step: 1108  | total loss: \u001b[1m\u001b[32m0.60071\u001b[0m\u001b[0m | time: 39.482s\n\u001b[2K\r| Adam | epoch: 004 | loss: 0.60071 - acc: 0.6755 -- iter: 10048/20250\n"
     ]
    },
    {
     "name": "stdout",
     "output_type": "stream",
     "text": [
      "Training Step: 1109  | total loss: \u001b[1m\u001b[32m0.59076\u001b[0m\u001b[0m | time: 39.753s\n\u001b[2K\r| Adam | epoch: 004 | loss: 0.59076 - acc: 0.6876 -- iter: 10112/20250\n"
     ]
    },
    {
     "name": "stdout",
     "output_type": "stream",
     "text": [
      "Training Step: 1110  | total loss: \u001b[1m\u001b[32m0.58794\u001b[0m\u001b[0m | time: 39.989s\n\u001b[2K\r| Adam | epoch: 004 | loss: 0.58794 - acc: 0.6876 -- iter: 10176/20250\n"
     ]
    },
    {
     "name": "stdout",
     "output_type": "stream",
     "text": [
      "Training Step: 1111  | total loss: \u001b[1m\u001b[32m0.58846\u001b[0m\u001b[0m | time: 40.238s\n\u001b[2K\r| Adam | epoch: 004 | loss: 0.58846 - acc: 0.6891 -- iter: 10240/20250\n"
     ]
    },
    {
     "name": "stdout",
     "output_type": "stream",
     "text": [
      "Training Step: 1112  | total loss: \u001b[1m\u001b[32m0.58675\u001b[0m\u001b[0m | time: 40.483s\n\u001b[2K\r| Adam | epoch: 004 | loss: 0.58675 - acc: 0.6921 -- iter: 10304/20250\n"
     ]
    },
    {
     "name": "stdout",
     "output_type": "stream",
     "text": [
      "Training Step: 1113  | total loss: \u001b[1m\u001b[32m0.58253\u001b[0m\u001b[0m | time: 40.744s\n\u001b[2K\r| Adam | epoch: 004 | loss: 0.58253 - acc: 0.6979 -- iter: 10368/20250\n"
     ]
    },
    {
     "name": "stdout",
     "output_type": "stream",
     "text": [
      "Training Step: 1114  | total loss: \u001b[1m\u001b[32m0.57968\u001b[0m\u001b[0m | time: 41.003s\n\u001b[2K\r| Adam | epoch: 004 | loss: 0.57968 - acc: 0.6953 -- iter: 10432/20250\n"
     ]
    },
    {
     "name": "stdout",
     "output_type": "stream",
     "text": [
      "Training Step: 1115  | total loss: \u001b[1m\u001b[32m0.57705\u001b[0m\u001b[0m | time: 41.248s\n\u001b[2K\r| Adam | epoch: 004 | loss: 0.57705 - acc: 0.6976 -- iter: 10496/20250\n"
     ]
    },
    {
     "name": "stdout",
     "output_type": "stream",
     "text": [
      "Training Step: 1116  | total loss: \u001b[1m\u001b[32m0.57120\u001b[0m\u001b[0m | time: 41.493s\n\u001b[2K\r| Adam | epoch: 004 | loss: 0.57120 - acc: 0.7060 -- iter: 10560/20250\n"
     ]
    },
    {
     "name": "stdout",
     "output_type": "stream",
     "text": [
      "Training Step: 1117  | total loss: \u001b[1m\u001b[32m0.57025\u001b[0m\u001b[0m | time: 41.776s\n\u001b[2K\r| Adam | epoch: 004 | loss: 0.57025 - acc: 0.7057 -- iter: 10624/20250\n"
     ]
    },
    {
     "name": "stdout",
     "output_type": "stream",
     "text": [
      "Training Step: 1118  | total loss: \u001b[1m\u001b[32m0.57056\u001b[0m\u001b[0m | time: 42.070s\n\u001b[2K\r| Adam | epoch: 004 | loss: 0.57056 - acc: 0.7023 -- iter: 10688/20250\n"
     ]
    },
    {
     "name": "stdout",
     "output_type": "stream",
     "text": [
      "Training Step: 1119  | total loss: \u001b[1m\u001b[32m0.57976\u001b[0m\u001b[0m | time: 42.313s\n\u001b[2K\r| Adam | epoch: 004 | loss: 0.57976 - acc: 0.6946 -- iter: 10752/20250\n"
     ]
    },
    {
     "name": "stdout",
     "output_type": "stream",
     "text": [
      "Training Step: 1120  | total loss: \u001b[1m\u001b[32m0.59110\u001b[0m\u001b[0m | time: 42.555s\n\u001b[2K\r| Adam | epoch: 004 | loss: 0.59110 - acc: 0.6892 -- iter: 10816/20250\n"
     ]
    },
    {
     "name": "stdout",
     "output_type": "stream",
     "text": [
      "Training Step: 1121  | total loss: \u001b[1m\u001b[32m0.58491\u001b[0m\u001b[0m | time: 42.802s\n\u001b[2K\r| Adam | epoch: 004 | loss: 0.58491 - acc: 0.7015 -- iter: 10880/20250\n"
     ]
    },
    {
     "name": "stdout",
     "output_type": "stream",
     "text": [
      "Training Step: 1122  | total loss: \u001b[1m\u001b[32m0.57447\u001b[0m\u001b[0m | time: 43.058s\n\u001b[2K\r| Adam | epoch: 004 | loss: 0.57447 - acc: 0.7126 -- iter: 10944/20250\n"
     ]
    },
    {
     "name": "stdout",
     "output_type": "stream",
     "text": [
      "Training Step: 1123  | total loss: \u001b[1m\u001b[32m0.57952\u001b[0m\u001b[0m | time: 43.305s\n\u001b[2K\r| Adam | epoch: 004 | loss: 0.57952 - acc: 0.7117 -- iter: 11008/20250\n"
     ]
    },
    {
     "name": "stdout",
     "output_type": "stream",
     "text": [
      "Training Step: 1124  | total loss: \u001b[1m\u001b[32m0.56664\u001b[0m\u001b[0m | time: 43.558s\n\u001b[2K\r| Adam | epoch: 004 | loss: 0.56664 - acc: 0.7202 -- iter: 11072/20250\n"
     ]
    },
    {
     "name": "stdout",
     "output_type": "stream",
     "text": [
      "Training Step: 1125  | total loss: \u001b[1m\u001b[32m0.57477\u001b[0m\u001b[0m | time: 43.806s\n\u001b[2K\r| Adam | epoch: 004 | loss: 0.57477 - acc: 0.7138 -- iter: 11136/20250\n"
     ]
    },
    {
     "name": "stdout",
     "output_type": "stream",
     "text": [
      "Training Step: 1126  | total loss: \u001b[1m\u001b[32m0.57405\u001b[0m\u001b[0m | time: 44.055s\n\u001b[2K\r| Adam | epoch: 004 | loss: 0.57405 - acc: 0.7143 -- iter: 11200/20250\n"
     ]
    },
    {
     "name": "stdout",
     "output_type": "stream",
     "text": [
      "Training Step: 1127  | total loss: \u001b[1m\u001b[32m0.57477\u001b[0m\u001b[0m | time: 44.358s\n\u001b[2K\r| Adam | epoch: 004 | loss: 0.57477 - acc: 0.7147 -- iter: 11264/20250\n"
     ]
    },
    {
     "name": "stdout",
     "output_type": "stream",
     "text": [
      "Training Step: 1128  | total loss: \u001b[1m\u001b[32m0.57786\u001b[0m\u001b[0m | time: 44.650s\n\u001b[2K\r| Adam | epoch: 004 | loss: 0.57786 - acc: 0.7198 -- iter: 11328/20250\n"
     ]
    },
    {
     "name": "stdout",
     "output_type": "stream",
     "text": [
      "Training Step: 1129  | total loss: \u001b[1m\u001b[32m0.56904\u001b[0m\u001b[0m | time: 44.913s\n\u001b[2K\r| Adam | epoch: 004 | loss: 0.56904 - acc: 0.7260 -- iter: 11392/20250\n"
     ]
    },
    {
     "name": "stdout",
     "output_type": "stream",
     "text": [
      "Training Step: 1130  | total loss: \u001b[1m\u001b[32m0.56896\u001b[0m\u001b[0m | time: 45.181s\n\u001b[2K\r| Adam | epoch: 004 | loss: 0.56896 - acc: 0.7315 -- iter: 11456/20250\n"
     ]
    },
    {
     "name": "stdout",
     "output_type": "stream",
     "text": [
      "Training Step: 1131  | total loss: \u001b[1m\u001b[32m0.57173\u001b[0m\u001b[0m | time: 45.440s\n\u001b[2K\r| Adam | epoch: 004 | loss: 0.57173 - acc: 0.7240 -- iter: 11520/20250\n"
     ]
    },
    {
     "name": "stdout",
     "output_type": "stream",
     "text": [
      "Training Step: 1132  | total loss: \u001b[1m\u001b[32m0.57272\u001b[0m\u001b[0m | time: 45.696s\n\u001b[2K\r| Adam | epoch: 004 | loss: 0.57272 - acc: 0.7219 -- iter: 11584/20250\n"
     ]
    },
    {
     "name": "stdout",
     "output_type": "stream",
     "text": [
      "Training Step: 1133  | total loss: \u001b[1m\u001b[32m0.57443\u001b[0m\u001b[0m | time: 45.948s\n\u001b[2K\r| Adam | epoch: 004 | loss: 0.57443 - acc: 0.7231 -- iter: 11648/20250\n"
     ]
    },
    {
     "name": "stdout",
     "output_type": "stream",
     "text": [
      "Training Step: 1134  | total loss: \u001b[1m\u001b[32m0.58240\u001b[0m\u001b[0m | time: 46.224s\n\u001b[2K\r| Adam | epoch: 004 | loss: 0.58240 - acc: 0.7164 -- iter: 11712/20250\n"
     ]
    },
    {
     "name": "stdout",
     "output_type": "stream",
     "text": [
      "Training Step: 1135  | total loss: \u001b[1m\u001b[32m0.57383\u001b[0m\u001b[0m | time: 46.488s\n\u001b[2K\r| Adam | epoch: 004 | loss: 0.57383 - acc: 0.7214 -- iter: 11776/20250\n"
     ]
    },
    {
     "name": "stdout",
     "output_type": "stream",
     "text": [
      "Training Step: 1136  | total loss: \u001b[1m\u001b[32m0.57907\u001b[0m\u001b[0m | time: 46.747s\n\u001b[2K\r| Adam | epoch: 004 | loss: 0.57907 - acc: 0.7133 -- iter: 11840/20250\n"
     ]
    },
    {
     "name": "stdout",
     "output_type": "stream",
     "text": [
      "Training Step: 1137  | total loss: \u001b[1m\u001b[32m0.59458\u001b[0m\u001b[0m | time: 47.028s\n\u001b[2K\r| Adam | epoch: 004 | loss: 0.59458 - acc: 0.6982 -- iter: 11904/20250\n"
     ]
    },
    {
     "name": "stdout",
     "output_type": "stream",
     "text": [
      "Training Step: 1138  | total loss: \u001b[1m\u001b[32m0.59266\u001b[0m\u001b[0m | time: 47.315s\n\u001b[2K\r| Adam | epoch: 004 | loss: 0.59266 - acc: 0.7003 -- iter: 11968/20250\n"
     ]
    },
    {
     "name": "stdout",
     "output_type": "stream",
     "text": [
      "Training Step: 1139  | total loss: \u001b[1m\u001b[32m0.59026\u001b[0m\u001b[0m | time: 47.580s\n\u001b[2K\r| Adam | epoch: 004 | loss: 0.59026 - acc: 0.7021 -- iter: 12032/20250\n"
     ]
    },
    {
     "name": "stdout",
     "output_type": "stream",
     "text": [
      "Training Step: 1140  | total loss: \u001b[1m\u001b[32m0.58930\u001b[0m\u001b[0m | time: 47.828s\n\u001b[2K\r| Adam | epoch: 004 | loss: 0.58930 - acc: 0.7038 -- iter: 12096/20250\n"
     ]
    },
    {
     "name": "stdout",
     "output_type": "stream",
     "text": [
      "Training Step: 1141  | total loss: \u001b[1m\u001b[32m0.58917\u001b[0m\u001b[0m | time: 48.135s\n\u001b[2K\r| Adam | epoch: 004 | loss: 0.58917 - acc: 0.7053 -- iter: 12160/20250\n"
     ]
    },
    {
     "name": "stdout",
     "output_type": "stream",
     "text": [
      "Training Step: 1142  | total loss: \u001b[1m\u001b[32m0.59153\u001b[0m\u001b[0m | time: 48.406s\n\u001b[2K\r| Adam | epoch: 004 | loss: 0.59153 - acc: 0.7051 -- iter: 12224/20250\n"
     ]
    },
    {
     "name": "stdout",
     "output_type": "stream",
     "text": [
      "Training Step: 1143  | total loss: \u001b[1m\u001b[32m0.59367\u001b[0m\u001b[0m | time: 48.660s\n\u001b[2K\r| Adam | epoch: 004 | loss: 0.59367 - acc: 0.7033 -- iter: 12288/20250\n"
     ]
    },
    {
     "name": "stdout",
     "output_type": "stream",
     "text": [
      "Training Step: 1144  | total loss: \u001b[1m\u001b[32m0.60233\u001b[0m\u001b[0m | time: 48.904s\n\u001b[2K\r| Adam | epoch: 004 | loss: 0.60233 - acc: 0.6986 -- iter: 12352/20250\n"
     ]
    },
    {
     "name": "stdout",
     "output_type": "stream",
     "text": [
      "Training Step: 1145  | total loss: \u001b[1m\u001b[32m0.60008\u001b[0m\u001b[0m | time: 49.158s\n\u001b[2K\r| Adam | epoch: 004 | loss: 0.60008 - acc: 0.6991 -- iter: 12416/20250\n"
     ]
    },
    {
     "name": "stdout",
     "output_type": "stream",
     "text": [
      "Training Step: 1146  | total loss: \u001b[1m\u001b[32m0.60021\u001b[0m\u001b[0m | time: 49.418s\n\u001b[2K\r| Adam | epoch: 004 | loss: 0.60021 - acc: 0.6979 -- iter: 12480/20250\n"
     ]
    },
    {
     "name": "stdout",
     "output_type": "stream",
     "text": [
      "Training Step: 1147  | total loss: \u001b[1m\u001b[32m0.59135\u001b[0m\u001b[0m | time: 49.659s\n\u001b[2K\r| Adam | epoch: 004 | loss: 0.59135 - acc: 0.7062 -- iter: 12544/20250\n"
     ]
    },
    {
     "name": "stdout",
     "output_type": "stream",
     "text": [
      "Training Step: 1148  | total loss: \u001b[1m\u001b[32m0.58910\u001b[0m\u001b[0m | time: 49.929s\n\u001b[2K\r| Adam | epoch: 004 | loss: 0.58910 - acc: 0.7106 -- iter: 12608/20250\n"
     ]
    },
    {
     "name": "stdout",
     "output_type": "stream",
     "text": [
      "Training Step: 1149  | total loss: \u001b[1m\u001b[32m0.58441\u001b[0m\u001b[0m | time: 50.190s\n\u001b[2K\r| Adam | epoch: 004 | loss: 0.58441 - acc: 0.7130 -- iter: 12672/20250\n"
     ]
    },
    {
     "name": "stdout",
     "output_type": "stream",
     "text": [
      "Training Step: 1150  | total loss: \u001b[1m\u001b[32m0.57802\u001b[0m\u001b[0m | time: 50.500s\n\u001b[2K\r| Adam | epoch: 004 | loss: 0.57802 - acc: 0.7214 -- iter: 12736/20250\n"
     ]
    },
    {
     "name": "stdout",
     "output_type": "stream",
     "text": [
      "Training Step: 1151  | total loss: \u001b[1m\u001b[32m0.57025\u001b[0m\u001b[0m | time: 50.757s\n\u001b[2K\r| Adam | epoch: 004 | loss: 0.57025 - acc: 0.7227 -- iter: 12800/20250\n"
     ]
    },
    {
     "name": "stdout",
     "output_type": "stream",
     "text": [
      "Training Step: 1152  | total loss: \u001b[1m\u001b[32m0.55917\u001b[0m\u001b[0m | time: 51.036s\n\u001b[2K\r| Adam | epoch: 004 | loss: 0.55917 - acc: 0.7363 -- iter: 12864/20250\n"
     ]
    },
    {
     "name": "stdout",
     "output_type": "stream",
     "text": [
      "Training Step: 1153  | total loss: \u001b[1m\u001b[32m0.55461\u001b[0m\u001b[0m | time: 51.289s\n\u001b[2K\r| Adam | epoch: 004 | loss: 0.55461 - acc: 0.7424 -- iter: 12928/20250\n"
     ]
    },
    {
     "name": "stdout",
     "output_type": "stream",
     "text": [
      "Training Step: 1154  | total loss: \u001b[1m\u001b[32m0.55193\u001b[0m\u001b[0m | time: 51.533s\n\u001b[2K\r| Adam | epoch: 004 | loss: 0.55193 - acc: 0.7463 -- iter: 12992/20250\n"
     ]
    },
    {
     "name": "stdout",
     "output_type": "stream",
     "text": [
      "Training Step: 1155  | total loss: \u001b[1m\u001b[32m0.54712\u001b[0m\u001b[0m | time: 51.779s\n\u001b[2K\r| Adam | epoch: 004 | loss: 0.54712 - acc: 0.7529 -- iter: 13056/20250\n"
     ]
    },
    {
     "name": "stdout",
     "output_type": "stream",
     "text": [
      "Training Step: 1156  | total loss: \u001b[1m\u001b[32m0.54571\u001b[0m\u001b[0m | time: 52.032s\n\u001b[2K\r| Adam | epoch: 004 | loss: 0.54571 - acc: 0.7542 -- iter: 13120/20250\n"
     ]
    },
    {
     "name": "stdout",
     "output_type": "stream",
     "text": [
      "Training Step: 1157  | total loss: \u001b[1m\u001b[32m0.54571\u001b[0m\u001b[0m | time: 52.292s\n\u001b[2K\r| Adam | epoch: 004 | loss: 0.54571 - acc: 0.7522 -- iter: 13184/20250\n"
     ]
    },
    {
     "name": "stdout",
     "output_type": "stream",
     "text": [
      "Training Step: 1158  | total loss: \u001b[1m\u001b[32m0.54474\u001b[0m\u001b[0m | time: 52.557s\n\u001b[2K\r| Adam | epoch: 004 | loss: 0.54474 - acc: 0.7535 -- iter: 13248/20250\n"
     ]
    },
    {
     "name": "stdout",
     "output_type": "stream",
     "text": [
      "Training Step: 1159  | total loss: \u001b[1m\u001b[32m0.54065\u001b[0m\u001b[0m | time: 52.801s\n\u001b[2K\r| Adam | epoch: 004 | loss: 0.54065 - acc: 0.7563 -- iter: 13312/20250\n"
     ]
    },
    {
     "name": "stdout",
     "output_type": "stream",
     "text": [
      "Training Step: 1160  | total loss: \u001b[1m\u001b[32m0.54455\u001b[0m\u001b[0m | time: 53.047s\n\u001b[2K\r| Adam | epoch: 004 | loss: 0.54455 - acc: 0.7494 -- iter: 13376/20250\n"
     ]
    },
    {
     "name": "stdout",
     "output_type": "stream",
     "text": [
      "Training Step: 1161  | total loss: \u001b[1m\u001b[32m0.54898\u001b[0m\u001b[0m | time: 53.300s\n\u001b[2K\r| Adam | epoch: 004 | loss: 0.54898 - acc: 0.7385 -- iter: 13440/20250\n"
     ]
    },
    {
     "name": "stdout",
     "output_type": "stream",
     "text": [
      "Training Step: 1162  | total loss: \u001b[1m\u001b[32m0.56057\u001b[0m\u001b[0m | time: 53.544s\n\u001b[2K\r| Adam | epoch: 004 | loss: 0.56057 - acc: 0.7241 -- iter: 13504/20250\n"
     ]
    },
    {
     "name": "stdout",
     "output_type": "stream",
     "text": [
      "Training Step: 1163  | total loss: \u001b[1m\u001b[32m0.56770\u001b[0m\u001b[0m | time: 53.788s\n\u001b[2K\r| Adam | epoch: 004 | loss: 0.56770 - acc: 0.7110 -- iter: 13568/20250\n"
     ]
    },
    {
     "name": "stdout",
     "output_type": "stream",
     "text": [
      "Training Step: 1164  | total loss: \u001b[1m\u001b[32m0.57917\u001b[0m\u001b[0m | time: 54.036s\n\u001b[2K\r| Adam | epoch: 004 | loss: 0.57917 - acc: 0.6977 -- iter: 13632/20250\n"
     ]
    },
    {
     "name": "stdout",
     "output_type": "stream",
     "text": [
      "Training Step: 1165  | total loss: \u001b[1m\u001b[32m0.59059\u001b[0m\u001b[0m | time: 54.283s\n\u001b[2K\r| Adam | epoch: 004 | loss: 0.59059 - acc: 0.6827 -- iter: 13696/20250\n"
     ]
    },
    {
     "name": "stdout",
     "output_type": "stream",
     "text": [
      "Training Step: 1166  | total loss: \u001b[1m\u001b[32m0.59774\u001b[0m\u001b[0m | time: 54.527s\n\u001b[2K\r| Adam | epoch: 004 | loss: 0.59774 - acc: 0.6738 -- iter: 13760/20250\n"
     ]
    },
    {
     "name": "stdout",
     "output_type": "stream",
     "text": [
      "Training Step: 1167  | total loss: \u001b[1m\u001b[32m0.59840\u001b[0m\u001b[0m | time: 54.775s\n\u001b[2K\r| Adam | epoch: 004 | loss: 0.59840 - acc: 0.6736 -- iter: 13824/20250\n"
     ]
    },
    {
     "name": "stdout",
     "output_type": "stream",
     "text": [
      "Training Step: 1168  | total loss: \u001b[1m\u001b[32m0.59980\u001b[0m\u001b[0m | time: 55.036s\n\u001b[2K\r| Adam | epoch: 004 | loss: 0.59980 - acc: 0.6734 -- iter: 13888/20250\n"
     ]
    },
    {
     "name": "stdout",
     "output_type": "stream",
     "text": [
      "Training Step: 1169  | total loss: \u001b[1m\u001b[32m0.60659\u001b[0m\u001b[0m | time: 55.286s\n\u001b[2K\r| Adam | epoch: 004 | loss: 0.60659 - acc: 0.6654 -- iter: 13952/20250\n"
     ]
    },
    {
     "name": "stdout",
     "output_type": "stream",
     "text": [
      "Training Step: 1170  | total loss: \u001b[1m\u001b[32m0.61087\u001b[0m\u001b[0m | time: 55.529s\n\u001b[2K\r| Adam | epoch: 004 | loss: 0.61087 - acc: 0.6551 -- iter: 14016/20250\n"
     ]
    },
    {
     "name": "stdout",
     "output_type": "stream",
     "text": [
      "Training Step: 1171  | total loss: \u001b[1m\u001b[32m0.60503\u001b[0m\u001b[0m | time: 55.775s\n\u001b[2K\r| Adam | epoch: 004 | loss: 0.60503 - acc: 0.6553 -- iter: 14080/20250\n"
     ]
    },
    {
     "name": "stdout",
     "output_type": "stream",
     "text": [
      "Training Step: 1172  | total loss: \u001b[1m\u001b[32m0.61277\u001b[0m\u001b[0m | time: 56.025s\n\u001b[2K\r| Adam | epoch: 004 | loss: 0.61277 - acc: 0.6460 -- iter: 14144/20250\n"
     ]
    },
    {
     "name": "stdout",
     "output_type": "stream",
     "text": [
      "Training Step: 1173  | total loss: \u001b[1m\u001b[32m0.60795\u001b[0m\u001b[0m | time: 56.280s\n\u001b[2K\r| Adam | epoch: 004 | loss: 0.60795 - acc: 0.6501 -- iter: 14208/20250\n"
     ]
    },
    {
     "name": "stdout",
     "output_type": "stream",
     "text": [
      "Training Step: 1174  | total loss: \u001b[1m\u001b[32m0.60443\u001b[0m\u001b[0m | time: 56.535s\n\u001b[2K\r| Adam | epoch: 004 | loss: 0.60443 - acc: 0.6507 -- iter: 14272/20250\n"
     ]
    },
    {
     "name": "stdout",
     "output_type": "stream",
     "text": [
      "Training Step: 1175  | total loss: \u001b[1m\u001b[32m0.59802\u001b[0m\u001b[0m | time: 56.781s\n\u001b[2K\r| Adam | epoch: 004 | loss: 0.59802 - acc: 0.6544 -- iter: 14336/20250\n"
     ]
    },
    {
     "name": "stdout",
     "output_type": "stream",
     "text": [
      "Training Step: 1176  | total loss: \u001b[1m\u001b[32m0.59917\u001b[0m\u001b[0m | time: 57.023s\n\u001b[2K\r| Adam | epoch: 004 | loss: 0.59917 - acc: 0.6515 -- iter: 14400/20250\n"
     ]
    },
    {
     "name": "stdout",
     "output_type": "stream",
     "text": [
      "Training Step: 1177  | total loss: \u001b[1m\u001b[32m0.59928\u001b[0m\u001b[0m | time: 57.271s\n\u001b[2K\r| Adam | epoch: 004 | loss: 0.59928 - acc: 0.6473 -- iter: 14464/20250\n"
     ]
    },
    {
     "name": "stdout",
     "output_type": "stream",
     "text": [
      "Training Step: 1178  | total loss: \u001b[1m\u001b[32m0.60044\u001b[0m\u001b[0m | time: 57.543s\n\u001b[2K\r| Adam | epoch: 004 | loss: 0.60044 - acc: 0.6357 -- iter: 14528/20250\n"
     ]
    },
    {
     "name": "stdout",
     "output_type": "stream",
     "text": [
      "Training Step: 1179  | total loss: \u001b[1m\u001b[32m0.60074\u001b[0m\u001b[0m | time: 57.800s\n\u001b[2K\r| Adam | epoch: 004 | loss: 0.60074 - acc: 0.6346 -- iter: 14592/20250\n"
     ]
    },
    {
     "name": "stdout",
     "output_type": "stream",
     "text": [
      "Training Step: 1180  | total loss: \u001b[1m\u001b[32m0.60263\u001b[0m\u001b[0m | time: 58.043s\n\u001b[2K\r| Adam | epoch: 004 | loss: 0.60263 - acc: 0.6383 -- iter: 14656/20250\n"
     ]
    },
    {
     "name": "stdout",
     "output_type": "stream",
     "text": [
      "Training Step: 1181  | total loss: \u001b[1m\u001b[32m0.59266\u001b[0m\u001b[0m | time: 58.290s\n\u001b[2K\r| Adam | epoch: 004 | loss: 0.59266 - acc: 0.6589 -- iter: 14720/20250\n"
     ]
    },
    {
     "name": "stdout",
     "output_type": "stream",
     "text": [
      "Training Step: 1182  | total loss: \u001b[1m\u001b[32m0.59261\u001b[0m\u001b[0m | time: 58.541s\n\u001b[2K\r| Adam | epoch: 004 | loss: 0.59261 - acc: 0.6570 -- iter: 14784/20250\n"
     ]
    },
    {
     "name": "stdout",
     "output_type": "stream",
     "text": [
      "Training Step: 1183  | total loss: \u001b[1m\u001b[32m0.59610\u001b[0m\u001b[0m | time: 58.789s\n\u001b[2K\r| Adam | epoch: 004 | loss: 0.59610 - acc: 0.6523 -- iter: 14848/20250\n"
     ]
    },
    {
     "name": "stdout",
     "output_type": "stream",
     "text": [
      "Training Step: 1184  | total loss: \u001b[1m\u001b[32m0.59465\u001b[0m\u001b[0m | time: 59.040s\n\u001b[2K\r| Adam | epoch: 004 | loss: 0.59465 - acc: 0.6558 -- iter: 14912/20250\n"
     ]
    },
    {
     "name": "stdout",
     "output_type": "stream",
     "text": [
      "Training Step: 1185  | total loss: \u001b[1m\u001b[32m0.59290\u001b[0m\u001b[0m | time: 59.292s\n\u001b[2K\r| Adam | epoch: 004 | loss: 0.59290 - acc: 0.6683 -- iter: 14976/20250\n"
     ]
    },
    {
     "name": "stdout",
     "output_type": "stream",
     "text": [
      "Training Step: 1186  | total loss: \u001b[1m\u001b[32m0.59425\u001b[0m\u001b[0m | time: 59.533s\n\u001b[2K\r| Adam | epoch: 004 | loss: 0.59425 - acc: 0.6718 -- iter: 15040/20250\n"
     ]
    },
    {
     "name": "stdout",
     "output_type": "stream",
     "text": [
      "Training Step: 1187  | total loss: \u001b[1m\u001b[32m0.58701\u001b[0m\u001b[0m | time: 59.793s\n\u001b[2K\r| Adam | epoch: 004 | loss: 0.58701 - acc: 0.6875 -- iter: 15104/20250\n"
     ]
    },
    {
     "name": "stdout",
     "output_type": "stream",
     "text": [
      "Training Step: 1188  | total loss: \u001b[1m\u001b[32m0.59078\u001b[0m\u001b[0m | time: 60.050s\n\u001b[2K\r| Adam | epoch: 004 | loss: 0.59078 - acc: 0.6843 -- iter: 15168/20250\n"
     ]
    },
    {
     "name": "stdout",
     "output_type": "stream",
     "text": [
      "Training Step: 1189  | total loss: \u001b[1m\u001b[32m0.59076\u001b[0m\u001b[0m | time: 60.288s\n\u001b[2K\r| Adam | epoch: 004 | loss: 0.59076 - acc: 0.6846 -- iter: 15232/20250\n"
     ]
    },
    {
     "name": "stdout",
     "output_type": "stream",
     "text": [
      "Training Step: 1190  | total loss: \u001b[1m\u001b[32m0.59443\u001b[0m\u001b[0m | time: 60.531s\n\u001b[2K\r| Adam | epoch: 004 | loss: 0.59443 - acc: 0.6865 -- iter: 15296/20250\n"
     ]
    },
    {
     "name": "stdout",
     "output_type": "stream",
     "text": [
      "Training Step: 1191  | total loss: \u001b[1m\u001b[32m0.58916\u001b[0m\u001b[0m | time: 60.795s\n\u001b[2K\r| Adam | epoch: 004 | loss: 0.58916 - acc: 0.6944 -- iter: 15360/20250\n"
     ]
    },
    {
     "name": "stdout",
     "output_type": "stream",
     "text": [
      "Training Step: 1192  | total loss: \u001b[1m\u001b[32m0.58255\u001b[0m\u001b[0m | time: 61.041s\n\u001b[2K\r| Adam | epoch: 004 | loss: 0.58255 - acc: 0.7047 -- iter: 15424/20250\n"
     ]
    },
    {
     "name": "stdout",
     "output_type": "stream",
     "text": [
      "Training Step: 1193  | total loss: \u001b[1m\u001b[32m0.57739\u001b[0m\u001b[0m | time: 61.288s\n\u001b[2K\r| Adam | epoch: 004 | loss: 0.57739 - acc: 0.7076 -- iter: 15488/20250\n"
     ]
    },
    {
     "name": "stdout",
     "output_type": "stream",
     "text": [
      "Training Step: 1194  | total loss: \u001b[1m\u001b[32m0.57060\u001b[0m\u001b[0m | time: 61.533s\n\u001b[2K\r| Adam | epoch: 004 | loss: 0.57060 - acc: 0.7181 -- iter: 15552/20250\n"
     ]
    },
    {
     "name": "stdout",
     "output_type": "stream",
     "text": [
      "Training Step: 1195  | total loss: \u001b[1m\u001b[32m0.56126\u001b[0m\u001b[0m | time: 61.786s\n\u001b[2K\r| Adam | epoch: 004 | loss: 0.56126 - acc: 0.7276 -- iter: 15616/20250\n"
     ]
    },
    {
     "name": "stdout",
     "output_type": "stream",
     "text": [
      "Training Step: 1196  | total loss: \u001b[1m\u001b[32m0.55699\u001b[0m\u001b[0m | time: 62.037s\n\u001b[2K\r| Adam | epoch: 004 | loss: 0.55699 - acc: 0.7329 -- iter: 15680/20250\n"
     ]
    },
    {
     "name": "stdout",
     "output_type": "stream",
     "text": [
      "Training Step: 1197  | total loss: \u001b[1m\u001b[32m0.57293\u001b[0m\u001b[0m | time: 62.283s\n\u001b[2K\r| Adam | epoch: 004 | loss: 0.57293 - acc: 0.7174 -- iter: 15744/20250\n"
     ]
    },
    {
     "name": "stdout",
     "output_type": "stream",
     "text": [
      "Training Step: 1198  | total loss: \u001b[1m\u001b[32m0.62236\u001b[0m\u001b[0m | time: 62.548s\n\u001b[2K\r| Adam | epoch: 004 | loss: 0.62236 - acc: 0.6801 -- iter: 15808/20250\n"
     ]
    },
    {
     "name": "stdout",
     "output_type": "stream",
     "text": [
      "Training Step: 1199  | total loss: \u001b[1m\u001b[32m0.64241\u001b[0m\u001b[0m | time: 62.795s\n\u001b[2K\r| Adam | epoch: 004 | loss: 0.64241 - acc: 0.6652 -- iter: 15872/20250\n"
     ]
    },
    {
     "name": "stdout",
     "output_type": "stream",
     "text": [
      "Training Step: 1200  | total loss: \u001b[1m\u001b[32m0.66060\u001b[0m\u001b[0m | time: 63.038s\n\u001b[2K\r| Adam | epoch: 004 | loss: 0.66060 - acc: 0.6518 -- iter: 15936/20250\n"
     ]
    },
    {
     "name": "stdout",
     "output_type": "stream",
     "text": [
      "Training Step: 1201  | total loss: \u001b[1m\u001b[32m0.66480\u001b[0m\u001b[0m | time: 63.288s\n\u001b[2K\r| Adam | epoch: 004 | loss: 0.66480 - acc: 0.6491 -- iter: 16000/20250\n"
     ]
    },
    {
     "name": "stdout",
     "output_type": "stream",
     "text": [
      "Training Step: 1202  | total loss: \u001b[1m\u001b[32m0.67123\u001b[0m\u001b[0m | time: 63.537s\n\u001b[2K\r| Adam | epoch: 004 | loss: 0.67123 - acc: 0.6483 -- iter: 16064/20250\n"
     ]
    },
    {
     "name": "stdout",
     "output_type": "stream",
     "text": [
      "Training Step: 1203  | total loss: \u001b[1m\u001b[32m0.66926\u001b[0m\u001b[0m | time: 63.782s\n\u001b[2K\r| Adam | epoch: 004 | loss: 0.66926 - acc: 0.6459 -- iter: 16128/20250\n"
     ]
    },
    {
     "name": "stdout",
     "output_type": "stream",
     "text": [
      "Training Step: 1204  | total loss: \u001b[1m\u001b[32m0.66930\u001b[0m\u001b[0m | time: 64.028s\n\u001b[2K\r| Adam | epoch: 004 | loss: 0.66930 - acc: 0.6423 -- iter: 16192/20250\n"
     ]
    },
    {
     "name": "stdout",
     "output_type": "stream",
     "text": [
      "Training Step: 1205  | total loss: \u001b[1m\u001b[32m0.66592\u001b[0m\u001b[0m | time: 64.274s\n\u001b[2K\r| Adam | epoch: 004 | loss: 0.66592 - acc: 0.6390 -- iter: 16256/20250\n"
     ]
    },
    {
     "name": "stdout",
     "output_type": "stream",
     "text": [
      "Training Step: 1206  | total loss: \u001b[1m\u001b[32m0.65696\u001b[0m\u001b[0m | time: 64.517s\n\u001b[2K\r| Adam | epoch: 004 | loss: 0.65696 - acc: 0.6438 -- iter: 16320/20250\n"
     ]
    },
    {
     "name": "stdout",
     "output_type": "stream",
     "text": [
      "Training Step: 1207  | total loss: \u001b[1m\u001b[32m0.65909\u001b[0m\u001b[0m | time: 64.774s\n\u001b[2K\r| Adam | epoch: 004 | loss: 0.65909 - acc: 0.6373 -- iter: 16384/20250\n"
     ]
    },
    {
     "name": "stdout",
     "output_type": "stream",
     "text": [
      "Training Step: 1208  | total loss: \u001b[1m\u001b[32m0.66004\u001b[0m\u001b[0m | time: 65.018s\n\u001b[2K\r| Adam | epoch: 004 | loss: 0.66004 - acc: 0.6298 -- iter: 16448/20250\n"
     ]
    },
    {
     "name": "stdout",
     "output_type": "stream",
     "text": [
      "Training Step: 1209  | total loss: \u001b[1m\u001b[32m0.65524\u001b[0m\u001b[0m | time: 65.266s\n\u001b[2K\r| Adam | epoch: 004 | loss: 0.65524 - acc: 0.6262 -- iter: 16512/20250\n"
     ]
    },
    {
     "name": "stdout",
     "output_type": "stream",
     "text": [
      "Training Step: 1210  | total loss: \u001b[1m\u001b[32m0.66118\u001b[0m\u001b[0m | time: 65.507s\n\u001b[2K\r| Adam | epoch: 004 | loss: 0.66118 - acc: 0.6042 -- iter: 16576/20250\n"
     ]
    },
    {
     "name": "stdout",
     "output_type": "stream",
     "text": [
      "Training Step: 1211  | total loss: \u001b[1m\u001b[32m0.65605\u001b[0m\u001b[0m | time: 65.761s\n\u001b[2K\r| Adam | epoch: 004 | loss: 0.65605 - acc: 0.6016 -- iter: 16640/20250\n"
     ]
    },
    {
     "name": "stdout",
     "output_type": "stream",
     "text": [
      "Training Step: 1212  | total loss: \u001b[1m\u001b[32m0.65961\u001b[0m\u001b[0m | time: 66.009s\n\u001b[2K\r| Adam | epoch: 004 | loss: 0.65961 - acc: 0.5930 -- iter: 16704/20250\n"
     ]
    },
    {
     "name": "stdout",
     "output_type": "stream",
     "text": [
      "Training Step: 1213  | total loss: \u001b[1m\u001b[32m0.66186\u001b[0m\u001b[0m | time: 66.253s\n\u001b[2K\r| Adam | epoch: 004 | loss: 0.66186 - acc: 0.5868 -- iter: 16768/20250\n"
     ]
    },
    {
     "name": "stdout",
     "output_type": "stream",
     "text": [
      "Training Step: 1214  | total loss: \u001b[1m\u001b[32m0.65606\u001b[0m\u001b[0m | time: 66.500s\n\u001b[2K\r| Adam | epoch: 004 | loss: 0.65606 - acc: 0.5922 -- iter: 16832/20250\n"
     ]
    },
    {
     "name": "stdout",
     "output_type": "stream",
     "text": [
      "Training Step: 1215  | total loss: \u001b[1m\u001b[32m0.65748\u001b[0m\u001b[0m | time: 66.741s\n\u001b[2K\r| Adam | epoch: 004 | loss: 0.65748 - acc: 0.5845 -- iter: 16896/20250\n"
     ]
    },
    {
     "name": "stdout",
     "output_type": "stream",
     "text": [
      "Training Step: 1216  | total loss: \u001b[1m\u001b[32m0.65447\u001b[0m\u001b[0m | time: 66.984s\n\u001b[2K\r| Adam | epoch: 004 | loss: 0.65447 - acc: 0.5792 -- iter: 16960/20250\n"
     ]
    },
    {
     "name": "stdout",
     "output_type": "stream",
     "text": [
      "Training Step: 1217  | total loss: \u001b[1m\u001b[32m0.65190\u001b[0m\u001b[0m | time: 67.242s\n\u001b[2K\r| Adam | epoch: 004 | loss: 0.65190 - acc: 0.5775 -- iter: 17024/20250\n"
     ]
    },
    {
     "name": "stdout",
     "output_type": "stream",
     "text": [
      "Training Step: 1218  | total loss: \u001b[1m\u001b[32m0.65077\u001b[0m\u001b[0m | time: 67.495s\n\u001b[2K\r| Adam | epoch: 004 | loss: 0.65077 - acc: 0.5713 -- iter: 17088/20250\n"
     ]
    },
    {
     "name": "stdout",
     "output_type": "stream",
     "text": [
      "Training Step: 1219  | total loss: \u001b[1m\u001b[32m0.64794\u001b[0m\u001b[0m | time: 67.737s\n\u001b[2K\r| Adam | epoch: 004 | loss: 0.64794 - acc: 0.5736 -- iter: 17152/20250\n"
     ]
    },
    {
     "name": "stdout",
     "output_type": "stream",
     "text": [
      "Training Step: 1220  | total loss: \u001b[1m\u001b[32m0.64169\u001b[0m\u001b[0m | time: 67.981s\n\u001b[2K\r| Adam | epoch: 004 | loss: 0.64169 - acc: 0.5819 -- iter: 17216/20250\n"
     ]
    },
    {
     "name": "stdout",
     "output_type": "stream",
     "text": [
      "Training Step: 1221  | total loss: \u001b[1m\u001b[32m0.64120\u001b[0m\u001b[0m | time: 68.226s\n\u001b[2K\r| Adam | epoch: 004 | loss: 0.64120 - acc: 0.5815 -- iter: 17280/20250\n"
     ]
    },
    {
     "name": "stdout",
     "output_type": "stream",
     "text": [
      "Training Step: 1222  | total loss: \u001b[1m\u001b[32m0.64090\u001b[0m\u001b[0m | time: 68.477s\n\u001b[2K\r| Adam | epoch: 004 | loss: 0.64090 - acc: 0.5843 -- iter: 17344/20250\n"
     ]
    },
    {
     "name": "stdout",
     "output_type": "stream",
     "text": [
      "Training Step: 1223  | total loss: \u001b[1m\u001b[32m0.64465\u001b[0m\u001b[0m | time: 68.742s\n\u001b[2K\r| Adam | epoch: 004 | loss: 0.64465 - acc: 0.5805 -- iter: 17408/20250\n"
     ]
    },
    {
     "name": "stdout",
     "output_type": "stream",
     "text": [
      "Training Step: 1224  | total loss: \u001b[1m\u001b[32m0.63805\u001b[0m\u001b[0m | time: 68.991s\n\u001b[2K\r| Adam | epoch: 004 | loss: 0.63805 - acc: 0.5881 -- iter: 17472/20250\n"
     ]
    },
    {
     "name": "stdout",
     "output_type": "stream",
     "text": [
      "Training Step: 1225  | total loss: \u001b[1m\u001b[32m0.63743\u001b[0m\u001b[0m | time: 69.242s\n\u001b[2K\r| Adam | epoch: 004 | loss: 0.63743 - acc: 0.5855 -- iter: 17536/20250\n"
     ]
    },
    {
     "name": "stdout",
     "output_type": "stream",
     "text": [
      "Training Step: 1226  | total loss: \u001b[1m\u001b[32m0.64558\u001b[0m\u001b[0m | time: 69.494s\n\u001b[2K\r| Adam | epoch: 004 | loss: 0.64558 - acc: 0.5817 -- iter: 17600/20250\n"
     ]
    },
    {
     "name": "stdout",
     "output_type": "stream",
     "text": [
      "Training Step: 1227  | total loss: \u001b[1m\u001b[32m0.65220\u001b[0m\u001b[0m | time: 69.741s\n\u001b[2K\r| Adam | epoch: 004 | loss: 0.65220 - acc: 0.5735 -- iter: 17664/20250\n"
     ]
    },
    {
     "name": "stdout",
     "output_type": "stream",
     "text": [
      "Training Step: 1228  | total loss: \u001b[1m\u001b[32m0.64485\u001b[0m\u001b[0m | time: 70.001s\n\u001b[2K\r| Adam | epoch: 004 | loss: 0.64485 - acc: 0.5787 -- iter: 17728/20250\n"
     ]
    },
    {
     "name": "stdout",
     "output_type": "stream",
     "text": [
      "Training Step: 1229  | total loss: \u001b[1m\u001b[32m0.64334\u001b[0m\u001b[0m | time: 70.244s\n\u001b[2K\r| Adam | epoch: 004 | loss: 0.64334 - acc: 0.5849 -- iter: 17792/20250\n"
     ]
    },
    {
     "name": "stdout",
     "output_type": "stream",
     "text": [
      "Training Step: 1230  | total loss: \u001b[1m\u001b[32m0.63456\u001b[0m\u001b[0m | time: 70.490s\n\u001b[2K\r| Adam | epoch: 004 | loss: 0.63456 - acc: 0.5889 -- iter: 17856/20250\n"
     ]
    },
    {
     "name": "stdout",
     "output_type": "stream",
     "text": [
      "Training Step: 1231  | total loss: \u001b[1m\u001b[32m0.63004\u001b[0m\u001b[0m | time: 70.743s\n\u001b[2K\r| Adam | epoch: 004 | loss: 0.63004 - acc: 0.5987 -- iter: 17920/20250\n"
     ]
    },
    {
     "name": "stdout",
     "output_type": "stream",
     "text": [
      "Training Step: 1232  | total loss: \u001b[1m\u001b[32m0.63227\u001b[0m\u001b[0m | time: 70.987s\n\u001b[2K\r| Adam | epoch: 004 | loss: 0.63227 - acc: 0.5920 -- iter: 17984/20250\n"
     ]
    },
    {
     "name": "stdout",
     "output_type": "stream",
     "text": [
      "Training Step: 1233  | total loss: \u001b[1m\u001b[32m0.62744\u001b[0m\u001b[0m | time: 71.227s\n\u001b[2K\r| Adam | epoch: 004 | loss: 0.62744 - acc: 0.5906 -- iter: 18048/20250\n"
     ]
    },
    {
     "name": "stdout",
     "output_type": "stream",
     "text": [
      "Training Step: 1234  | total loss: \u001b[1m\u001b[32m0.62926\u001b[0m\u001b[0m | time: 71.470s\n\u001b[2K\r| Adam | epoch: 004 | loss: 0.62926 - acc: 0.5894 -- iter: 18112/20250\n"
     ]
    },
    {
     "name": "stdout",
     "output_type": "stream",
     "text": [
      "Training Step: 1235  | total loss: \u001b[1m\u001b[32m0.63179\u001b[0m\u001b[0m | time: 71.716s\n\u001b[2K\r| Adam | epoch: 004 | loss: 0.63179 - acc: 0.5851 -- iter: 18176/20250\n"
     ]
    },
    {
     "name": "stdout",
     "output_type": "stream",
     "text": [
      "Training Step: 1236  | total loss: \u001b[1m\u001b[32m0.62218\u001b[0m\u001b[0m | time: 71.955s\n\u001b[2K\r| Adam | epoch: 004 | loss: 0.62218 - acc: 0.5891 -- iter: 18240/20250\n"
     ]
    },
    {
     "name": "stdout",
     "output_type": "stream",
     "text": [
      "Training Step: 1237  | total loss: \u001b[1m\u001b[32m0.63469\u001b[0m\u001b[0m | time: 72.206s\n\u001b[2K\r| Adam | epoch: 004 | loss: 0.63469 - acc: 0.5692 -- iter: 18304/20250\n"
     ]
    },
    {
     "name": "stdout",
     "output_type": "stream",
     "text": [
      "Training Step: 1238  | total loss: \u001b[1m\u001b[32m0.63079\u001b[0m\u001b[0m | time: 72.451s\n\u001b[2K\r| Adam | epoch: 004 | loss: 0.63079 - acc: 0.5670 -- iter: 18368/20250\n"
     ]
    },
    {
     "name": "stdout",
     "output_type": "stream",
     "text": [
      "Training Step: 1239  | total loss: \u001b[1m\u001b[32m0.62967\u001b[0m\u001b[0m | time: 72.693s\n\u001b[2K\r| Adam | epoch: 004 | loss: 0.62967 - acc: 0.5791 -- iter: 18432/20250\n"
     ]
    },
    {
     "name": "stdout",
     "output_type": "stream",
     "text": [
      "Training Step: 1240  | total loss: \u001b[1m\u001b[32m0.62971\u001b[0m\u001b[0m | time: 72.956s\n\u001b[2K\r| Adam | epoch: 004 | loss: 0.62971 - acc: 0.5805 -- iter: 18496/20250\n"
     ]
    },
    {
     "name": "stdout",
     "output_type": "stream",
     "text": [
      "Training Step: 1241  | total loss: \u001b[1m\u001b[32m0.62402\u001b[0m\u001b[0m | time: 73.205s\n\u001b[2K\r| Adam | epoch: 004 | loss: 0.62402 - acc: 0.5865 -- iter: 18560/20250\n"
     ]
    },
    {
     "name": "stdout",
     "output_type": "stream",
     "text": [
      "Training Step: 1242  | total loss: \u001b[1m\u001b[32m0.62827\u001b[0m\u001b[0m | time: 73.453s\n\u001b[2K\r| Adam | epoch: 004 | loss: 0.62827 - acc: 0.5794 -- iter: 18624/20250\n"
     ]
    },
    {
     "name": "stdout",
     "output_type": "stream",
     "text": [
      "Training Step: 1243  | total loss: \u001b[1m\u001b[32m0.62726\u001b[0m\u001b[0m | time: 73.705s\n\u001b[2K\r| Adam | epoch: 004 | loss: 0.62726 - acc: 0.5887 -- iter: 18688/20250\n"
     ]
    },
    {
     "name": "stdout",
     "output_type": "stream",
     "text": [
      "Training Step: 1244  | total loss: \u001b[1m\u001b[32m0.63178\u001b[0m\u001b[0m | time: 73.955s\n\u001b[2K\r| Adam | epoch: 004 | loss: 0.63178 - acc: 0.5876 -- iter: 18752/20250\n"
     ]
    },
    {
     "name": "stdout",
     "output_type": "stream",
     "text": [
      "Training Step: 1245  | total loss: \u001b[1m\u001b[32m0.62820\u001b[0m\u001b[0m | time: 74.204s\n\u001b[2K\r| Adam | epoch: 004 | loss: 0.62820 - acc: 0.5929 -- iter: 18816/20250\n"
     ]
    },
    {
     "name": "stdout",
     "output_type": "stream",
     "text": [
      "Training Step: 1246  | total loss: \u001b[1m\u001b[32m0.63101\u001b[0m\u001b[0m | time: 74.455s\n\u001b[2K\r| Adam | epoch: 004 | loss: 0.63101 - acc: 0.5883 -- iter: 18880/20250\n"
     ]
    },
    {
     "name": "stdout",
     "output_type": "stream",
     "text": [
      "Training Step: 1247  | total loss: \u001b[1m\u001b[32m0.62707\u001b[0m\u001b[0m | time: 74.709s\n\u001b[2K\r| Adam | epoch: 004 | loss: 0.62707 - acc: 0.6045 -- iter: 18944/20250\n"
     ]
    },
    {
     "name": "stdout",
     "output_type": "stream",
     "text": [
      "Training Step: 1248  | total loss: \u001b[1m\u001b[32m0.62736\u001b[0m\u001b[0m | time: 74.960s\n\u001b[2K\r| Adam | epoch: 004 | loss: 0.62736 - acc: 0.6081 -- iter: 19008/20250\n"
     ]
    },
    {
     "name": "stdout",
     "output_type": "stream",
     "text": [
      "Training Step: 1249  | total loss: \u001b[1m\u001b[32m0.61915\u001b[0m\u001b[0m | time: 75.201s\n\u001b[2K\r| Adam | epoch: 004 | loss: 0.61915 - acc: 0.6207 -- iter: 19072/20250\n"
     ]
    },
    {
     "name": "stdout",
     "output_type": "stream",
     "text": [
      "Training Step: 1250  | total loss: \u001b[1m\u001b[32m0.61632\u001b[0m\u001b[0m | time: 75.451s\n\u001b[2K\r| Adam | epoch: 004 | loss: 0.61632 - acc: 0.6212 -- iter: 19136/20250\n"
     ]
    },
    {
     "name": "stdout",
     "output_type": "stream",
     "text": [
      "Training Step: 1251  | total loss: \u001b[1m\u001b[32m0.60743\u001b[0m\u001b[0m | time: 75.701s\n\u001b[2K\r| Adam | epoch: 004 | loss: 0.60743 - acc: 0.6231 -- iter: 19200/20250\n"
     ]
    },
    {
     "name": "stdout",
     "output_type": "stream",
     "text": [
      "Training Step: 1252  | total loss: \u001b[1m\u001b[32m0.60756\u001b[0m\u001b[0m | time: 75.946s\n\u001b[2K\r| Adam | epoch: 004 | loss: 0.60756 - acc: 0.6327 -- iter: 19264/20250\n"
     ]
    },
    {
     "name": "stdout",
     "output_type": "stream",
     "text": [
      "Training Step: 1253  | total loss: \u001b[1m\u001b[32m0.60774\u001b[0m\u001b[0m | time: 76.188s\n\u001b[2K\r| Adam | epoch: 004 | loss: 0.60774 - acc: 0.6272 -- iter: 19328/20250\n"
     ]
    },
    {
     "name": "stdout",
     "output_type": "stream",
     "text": [
      "Training Step: 1254  | total loss: \u001b[1m\u001b[32m0.61208\u001b[0m\u001b[0m | time: 76.458s\n\u001b[2K\r| Adam | epoch: 004 | loss: 0.61208 - acc: 0.6207 -- iter: 19392/20250\n"
     ]
    },
    {
     "name": "stdout",
     "output_type": "stream",
     "text": [
      "Training Step: 1255  | total loss: \u001b[1m\u001b[32m0.61992\u001b[0m\u001b[0m | time: 76.701s\n\u001b[2K\r| Adam | epoch: 004 | loss: 0.61992 - acc: 0.6055 -- iter: 19456/20250\n"
     ]
    },
    {
     "name": "stdout",
     "output_type": "stream",
     "text": [
      "Training Step: 1256  | total loss: \u001b[1m\u001b[32m0.61438\u001b[0m\u001b[0m | time: 76.979s\n\u001b[2K\r| Adam | epoch: 004 | loss: 0.61438 - acc: 0.6075 -- iter: 19520/20250\n"
     ]
    },
    {
     "name": "stdout",
     "output_type": "stream",
     "text": [
      "Training Step: 1257  | total loss: \u001b[1m\u001b[32m0.61081\u001b[0m\u001b[0m | time: 77.232s\n\u001b[2K\r| Adam | epoch: 004 | loss: 0.61081 - acc: 0.6124 -- iter: 19584/20250\n"
     ]
    },
    {
     "name": "stdout",
     "output_type": "stream",
     "text": [
      "Training Step: 1258  | total loss: \u001b[1m\u001b[32m0.61002\u001b[0m\u001b[0m | time: 77.493s\n\u001b[2K\r| Adam | epoch: 004 | loss: 0.61002 - acc: 0.6230 -- iter: 19648/20250\n"
     ]
    },
    {
     "name": "stdout",
     "output_type": "stream",
     "text": [
      "Training Step: 1259  | total loss: \u001b[1m\u001b[32m0.61315\u001b[0m\u001b[0m | time: 77.747s\n\u001b[2K\r| Adam | epoch: 004 | loss: 0.61315 - acc: 0.6154 -- iter: 19712/20250\n"
     ]
    },
    {
     "name": "stdout",
     "output_type": "stream",
     "text": [
      "Training Step: 1260  | total loss: \u001b[1m\u001b[32m0.61069\u001b[0m\u001b[0m | time: 77.992s\n\u001b[2K\r| Adam | epoch: 004 | loss: 0.61069 - acc: 0.6257 -- iter: 19776/20250\n"
     ]
    },
    {
     "name": "stdout",
     "output_type": "stream",
     "text": [
      "Training Step: 1261  | total loss: \u001b[1m\u001b[32m0.60781\u001b[0m\u001b[0m | time: 78.239s\n\u001b[2K\r| Adam | epoch: 004 | loss: 0.60781 - acc: 0.6303 -- iter: 19840/20250\n"
     ]
    },
    {
     "name": "stdout",
     "output_type": "stream",
     "text": [
      "Training Step: 1262  | total loss: \u001b[1m\u001b[32m0.60823\u001b[0m\u001b[0m | time: 78.486s\n\u001b[2K\r| Adam | epoch: 004 | loss: 0.60823 - acc: 0.6298 -- iter: 19904/20250\n"
     ]
    },
    {
     "name": "stdout",
     "output_type": "stream",
     "text": [
      "Training Step: 1263  | total loss: \u001b[1m\u001b[32m0.60761\u001b[0m\u001b[0m | time: 78.726s\n\u001b[2K\r| Adam | epoch: 004 | loss: 0.60761 - acc: 0.6340 -- iter: 19968/20250\n"
     ]
    },
    {
     "name": "stdout",
     "output_type": "stream",
     "text": [
      "Training Step: 1264  | total loss: \u001b[1m\u001b[32m0.60534\u001b[0m\u001b[0m | time: 78.976s\n\u001b[2K\r| Adam | epoch: 004 | loss: 0.60534 - acc: 0.6394 -- iter: 20032/20250\n"
     ]
    },
    {
     "name": "stdout",
     "output_type": "stream",
     "text": [
      "Training Step: 1265  | total loss: \u001b[1m\u001b[32m0.60169\u001b[0m\u001b[0m | time: 79.220s\n\u001b[2K\r| Adam | epoch: 004 | loss: 0.60169 - acc: 0.6442 -- iter: 20096/20250\n"
     ]
    },
    {
     "name": "stdout",
     "output_type": "stream",
     "text": [
      "Training Step: 1266  | total loss: \u001b[1m\u001b[32m0.59618\u001b[0m\u001b[0m | time: 79.478s\n\u001b[2K\r| Adam | epoch: 004 | loss: 0.59618 - acc: 0.6532 -- iter: 20160/20250\n"
     ]
    },
    {
     "name": "stdout",
     "output_type": "stream",
     "text": [
      "Training Step: 1267  | total loss: \u001b[1m\u001b[32m0.60092\u001b[0m\u001b[0m | time: 79.725s\n\u001b[2K\r| Adam | epoch: 004 | loss: 0.60092 - acc: 0.6410 -- iter: 20224/20250\n"
     ]
    },
    {
     "name": "stdout",
     "output_type": "stream",
     "text": [
      "Training Step: 1268  | total loss: \u001b[1m\u001b[32m0.60230\u001b[0m\u001b[0m | time: 81.675s\n\u001b[2K\r| Adam | epoch: 004 | loss: 0.60230 - acc: 0.6363 | val_loss: 0.71933 - val_acc: 0.5773 -- iter: 20250/20250\n--\n"
     ]
    },
    {
     "name": "stdout",
     "output_type": "stream",
     "text": [
      "Training Step: 1269  | total loss: \u001b[1m\u001b[32m0.59766\u001b[0m\u001b[0m | time: 0.245s\n\u001b[2K\r| Adam | epoch: 005 | loss: 0.59766 - acc: 0.6320 -- iter: 00064/20250\n"
     ]
    },
    {
     "name": "stdout",
     "output_type": "stream",
     "text": [
      "Training Step: 1270  | total loss: \u001b[1m\u001b[32m0.59772\u001b[0m\u001b[0m | time: 0.504s\n\u001b[2K\r| Adam | epoch: 005 | loss: 0.59772 - acc: 0.6282 -- iter: 00128/20250\n"
     ]
    },
    {
     "name": "stdout",
     "output_type": "stream",
     "text": [
      "Training Step: 1271  | total loss: \u001b[1m\u001b[32m0.59802\u001b[0m\u001b[0m | time: 0.770s\n\u001b[2K\r| Adam | epoch: 005 | loss: 0.59802 - acc: 0.6263 -- iter: 00192/20250\n"
     ]
    },
    {
     "name": "stdout",
     "output_type": "stream",
     "text": [
      "Training Step: 1272  | total loss: \u001b[1m\u001b[32m0.59767\u001b[0m\u001b[0m | time: 1.013s\n\u001b[2K\r| Adam | epoch: 005 | loss: 0.59767 - acc: 0.6368 -- iter: 00256/20250\n"
     ]
    },
    {
     "name": "stdout",
     "output_type": "stream",
     "text": [
      "Training Step: 1273  | total loss: \u001b[1m\u001b[32m0.59240\u001b[0m\u001b[0m | time: 1.258s\n\u001b[2K\r| Adam | epoch: 005 | loss: 0.59240 - acc: 0.6346 -- iter: 00320/20250\n"
     ]
    },
    {
     "name": "stdout",
     "output_type": "stream",
     "text": [
      "Training Step: 1274  | total loss: \u001b[1m\u001b[32m0.58828\u001b[0m\u001b[0m | time: 1.503s\n\u001b[2K\r| Adam | epoch: 005 | loss: 0.58828 - acc: 0.6430 -- iter: 00384/20250\n"
     ]
    },
    {
     "name": "stdout",
     "output_type": "stream",
     "text": [
      "Training Step: 1275  | total loss: \u001b[1m\u001b[32m0.59112\u001b[0m\u001b[0m | time: 1.755s\n\u001b[2K\r| Adam | epoch: 005 | loss: 0.59112 - acc: 0.6397 -- iter: 00448/20250\n"
     ]
    },
    {
     "name": "stdout",
     "output_type": "stream",
     "text": [
      "Training Step: 1276  | total loss: \u001b[1m\u001b[32m0.59268\u001b[0m\u001b[0m | time: 2.006s\n\u001b[2K\r| Adam | epoch: 005 | loss: 0.59268 - acc: 0.6460 -- iter: 00512/20250\n"
     ]
    },
    {
     "name": "stdout",
     "output_type": "stream",
     "text": [
      "Training Step: 1277  | total loss: \u001b[1m\u001b[32m0.58728\u001b[0m\u001b[0m | time: 2.254s\n\u001b[2K\r| Adam | epoch: 005 | loss: 0.58728 - acc: 0.6580 -- iter: 00576/20250\n"
     ]
    },
    {
     "name": "stdout",
     "output_type": "stream",
     "text": [
      "Training Step: 1278  | total loss: \u001b[1m\u001b[32m0.58619\u001b[0m\u001b[0m | time: 2.490s\n\u001b[2K\r| Adam | epoch: 005 | loss: 0.58619 - acc: 0.6531 -- iter: 00640/20250\n"
     ]
    },
    {
     "name": "stdout",
     "output_type": "stream",
     "text": [
      "Training Step: 1279  | total loss: \u001b[1m\u001b[32m0.58426\u001b[0m\u001b[0m | time: 2.743s\n\u001b[2K\r| Adam | epoch: 005 | loss: 0.58426 - acc: 0.6597 -- iter: 00704/20250\n"
     ]
    },
    {
     "name": "stdout",
     "output_type": "stream",
     "text": [
      "Training Step: 1280  | total loss: \u001b[1m\u001b[32m0.58472\u001b[0m\u001b[0m | time: 3.014s\n\u001b[2K\r| Adam | epoch: 005 | loss: 0.58472 - acc: 0.6546 -- iter: 00768/20250\n"
     ]
    },
    {
     "name": "stdout",
     "output_type": "stream",
     "text": [
      "Training Step: 1281  | total loss: \u001b[1m\u001b[32m0.58425\u001b[0m\u001b[0m | time: 3.265s\n\u001b[2K\r| Adam | epoch: 005 | loss: 0.58425 - acc: 0.6548 -- iter: 00832/20250\n"
     ]
    },
    {
     "name": "stdout",
     "output_type": "stream",
     "text": [
      "Training Step: 1282  | total loss: \u001b[1m\u001b[32m0.57909\u001b[0m\u001b[0m | time: 3.512s\n\u001b[2K\r| Adam | epoch: 005 | loss: 0.57909 - acc: 0.6565 -- iter: 00896/20250\n"
     ]
    },
    {
     "name": "stdout",
     "output_type": "stream",
     "text": [
      "Training Step: 1283  | total loss: \u001b[1m\u001b[32m0.57793\u001b[0m\u001b[0m | time: 3.767s\n\u001b[2K\r| Adam | epoch: 005 | loss: 0.57793 - acc: 0.6518 -- iter: 00960/20250\n"
     ]
    },
    {
     "name": "stdout",
     "output_type": "stream",
     "text": [
      "Training Step: 1284  | total loss: \u001b[1m\u001b[32m0.57704\u001b[0m\u001b[0m | time: 4.022s\n\u001b[2K\r| Adam | epoch: 005 | loss: 0.57704 - acc: 0.6569 -- iter: 01024/20250\n"
     ]
    },
    {
     "name": "stdout",
     "output_type": "stream",
     "text": [
      "Training Step: 1285  | total loss: \u001b[1m\u001b[32m0.58082\u001b[0m\u001b[0m | time: 4.266s\n\u001b[2K\r| Adam | epoch: 005 | loss: 0.58082 - acc: 0.6584 -- iter: 01088/20250\n"
     ]
    },
    {
     "name": "stdout",
     "output_type": "stream",
     "text": [
      "Training Step: 1286  | total loss: \u001b[1m\u001b[32m0.57918\u001b[0m\u001b[0m | time: 4.512s\n\u001b[2K\r| Adam | epoch: 005 | loss: 0.57918 - acc: 0.6629 -- iter: 01152/20250\n"
     ]
    },
    {
     "name": "stdout",
     "output_type": "stream",
     "text": [
      "Training Step: 1287  | total loss: \u001b[1m\u001b[32m0.58060\u001b[0m\u001b[0m | time: 4.761s\n\u001b[2K\r| Adam | epoch: 005 | loss: 0.58060 - acc: 0.6591 -- iter: 01216/20250\n"
     ]
    },
    {
     "name": "stdout",
     "output_type": "stream",
     "text": [
      "Training Step: 1288  | total loss: \u001b[1m\u001b[32m0.58227\u001b[0m\u001b[0m | time: 5.002s\n\u001b[2K\r| Adam | epoch: 005 | loss: 0.58227 - acc: 0.6588 -- iter: 01280/20250\n"
     ]
    },
    {
     "name": "stdout",
     "output_type": "stream",
     "text": [
      "Training Step: 1289  | total loss: \u001b[1m\u001b[32m0.58028\u001b[0m\u001b[0m | time: 5.259s\n\u001b[2K\r| Adam | epoch: 005 | loss: 0.58028 - acc: 0.6601 -- iter: 01344/20250\n"
     ]
    },
    {
     "name": "stdout",
     "output_type": "stream",
     "text": [
      "Training Step: 1290  | total loss: \u001b[1m\u001b[32m0.58115\u001b[0m\u001b[0m | time: 5.549s\n\u001b[2K\r| Adam | epoch: 005 | loss: 0.58115 - acc: 0.6566 -- iter: 01408/20250\n"
     ]
    },
    {
     "name": "stdout",
     "output_type": "stream",
     "text": [
      "Training Step: 1291  | total loss: \u001b[1m\u001b[32m0.57417\u001b[0m\u001b[0m | time: 5.795s\n\u001b[2K\r| Adam | epoch: 005 | loss: 0.57417 - acc: 0.6581 -- iter: 01472/20250\n"
     ]
    },
    {
     "name": "stdout",
     "output_type": "stream",
     "text": [
      "Training Step: 1292  | total loss: \u001b[1m\u001b[32m0.57150\u001b[0m\u001b[0m | time: 6.048s\n\u001b[2K\r| Adam | epoch: 005 | loss: 0.57150 - acc: 0.6611 -- iter: 01536/20250\n"
     ]
    },
    {
     "name": "stdout",
     "output_type": "stream",
     "text": [
      "Training Step: 1293  | total loss: \u001b[1m\u001b[32m0.58177\u001b[0m\u001b[0m | time: 6.290s\n\u001b[2K\r| Adam | epoch: 005 | loss: 0.58177 - acc: 0.6481 -- iter: 01600/20250\n"
     ]
    },
    {
     "name": "stdout",
     "output_type": "stream",
     "text": [
      "Training Step: 1294  | total loss: \u001b[1m\u001b[32m0.57871\u001b[0m\u001b[0m | time: 6.537s\n\u001b[2K\r| Adam | epoch: 005 | loss: 0.57871 - acc: 0.6505 -- iter: 01664/20250\n"
     ]
    },
    {
     "name": "stdout",
     "output_type": "stream",
     "text": [
      "Training Step: 1295  | total loss: \u001b[1m\u001b[32m0.57138\u001b[0m\u001b[0m | time: 6.783s\n\u001b[2K\r| Adam | epoch: 005 | loss: 0.57138 - acc: 0.6635 -- iter: 01728/20250\n"
     ]
    },
    {
     "name": "stdout",
     "output_type": "stream",
     "text": [
      "Training Step: 1296  | total loss: \u001b[1m\u001b[32m0.57179\u001b[0m\u001b[0m | time: 7.032s\n\u001b[2K\r| Adam | epoch: 005 | loss: 0.57179 - acc: 0.6659 -- iter: 01792/20250\n"
     ]
    },
    {
     "name": "stdout",
     "output_type": "stream",
     "text": [
      "Training Step: 1297  | total loss: \u001b[1m\u001b[32m0.57467\u001b[0m\u001b[0m | time: 7.277s\n\u001b[2K\r| Adam | epoch: 005 | loss: 0.57467 - acc: 0.6619 -- iter: 01856/20250\n"
     ]
    },
    {
     "name": "stdout",
     "output_type": "stream",
     "text": [
      "Training Step: 1298  | total loss: \u001b[1m\u001b[32m0.57630\u001b[0m\u001b[0m | time: 7.529s\n\u001b[2K\r| Adam | epoch: 005 | loss: 0.57630 - acc: 0.6629 -- iter: 01920/20250\n"
     ]
    },
    {
     "name": "stdout",
     "output_type": "stream",
     "text": [
      "Training Step: 1299  | total loss: \u001b[1m\u001b[32m0.57633\u001b[0m\u001b[0m | time: 7.798s\n\u001b[2K\r| Adam | epoch: 005 | loss: 0.57633 - acc: 0.6591 -- iter: 01984/20250\n"
     ]
    },
    {
     "name": "stdout",
     "output_type": "stream",
     "text": [
      "Training Step: 1300  | total loss: \u001b[1m\u001b[32m0.57687\u001b[0m\u001b[0m | time: 8.060s\n\u001b[2K\r| Adam | epoch: 005 | loss: 0.57687 - acc: 0.6541 -- iter: 02048/20250\n"
     ]
    },
    {
     "name": "stdout",
     "output_type": "stream",
     "text": [
      "Training Step: 1301  | total loss: \u001b[1m\u001b[32m0.58191\u001b[0m\u001b[0m | time: 8.310s\n\u001b[2K\r| Adam | epoch: 005 | loss: 0.58191 - acc: 0.6481 -- iter: 02112/20250\n"
     ]
    },
    {
     "name": "stdout",
     "output_type": "stream",
     "text": [
      "Training Step: 1302  | total loss: \u001b[1m\u001b[32m0.59487\u001b[0m\u001b[0m | time: 8.554s\n\u001b[2K\r| Adam | epoch: 005 | loss: 0.59487 - acc: 0.6301 -- iter: 02176/20250\n"
     ]
    },
    {
     "name": "stdout",
     "output_type": "stream",
     "text": [
      "Training Step: 1303  | total loss: \u001b[1m\u001b[32m0.59865\u001b[0m\u001b[0m | time: 8.789s\n\u001b[2K\r| Adam | epoch: 005 | loss: 0.59865 - acc: 0.6296 -- iter: 02240/20250\n"
     ]
    },
    {
     "name": "stdout",
     "output_type": "stream",
     "text": [
      "Training Step: 1304  | total loss: \u001b[1m\u001b[32m0.60456\u001b[0m\u001b[0m | time: 9.035s\n\u001b[2K\r| Adam | epoch: 005 | loss: 0.60456 - acc: 0.6229 -- iter: 02304/20250\n"
     ]
    },
    {
     "name": "stdout",
     "output_type": "stream",
     "text": [
      "Training Step: 1305  | total loss: \u001b[1m\u001b[32m0.60649\u001b[0m\u001b[0m | time: 9.279s\n\u001b[2K\r| Adam | epoch: 005 | loss: 0.60649 - acc: 0.6137 -- iter: 02368/20250\n"
     ]
    },
    {
     "name": "stdout",
     "output_type": "stream",
     "text": [
      "Training Step: 1306  | total loss: \u001b[1m\u001b[32m0.60278\u001b[0m\u001b[0m | time: 9.521s\n\u001b[2K\r| Adam | epoch: 005 | loss: 0.60278 - acc: 0.6211 -- iter: 02432/20250\n"
     ]
    },
    {
     "name": "stdout",
     "output_type": "stream",
     "text": [
      "Training Step: 1307  | total loss: \u001b[1m\u001b[32m0.60549\u001b[0m\u001b[0m | time: 9.774s\n\u001b[2K\r| Adam | epoch: 005 | loss: 0.60549 - acc: 0.6199 -- iter: 02496/20250\n"
     ]
    },
    {
     "name": "stdout",
     "output_type": "stream",
     "text": [
      "Training Step: 1308  | total loss: \u001b[1m\u001b[32m0.59753\u001b[0m\u001b[0m | time: 10.020s\n\u001b[2K\r| Adam | epoch: 005 | loss: 0.59753 - acc: 0.6236 -- iter: 02560/20250\n"
     ]
    },
    {
     "name": "stdout",
     "output_type": "stream",
     "text": [
      "Training Step: 1309  | total loss: \u001b[1m\u001b[32m0.58932\u001b[0m\u001b[0m | time: 10.283s\n\u001b[2K\r| Adam | epoch: 005 | loss: 0.58932 - acc: 0.6347 -- iter: 02624/20250\n"
     ]
    },
    {
     "name": "stdout",
     "output_type": "stream",
     "text": [
      "Training Step: 1310  | total loss: \u001b[1m\u001b[32m0.58695\u001b[0m\u001b[0m | time: 10.542s\n\u001b[2K\r| Adam | epoch: 005 | loss: 0.58695 - acc: 0.6415 -- iter: 02688/20250\n"
     ]
    },
    {
     "name": "stdout",
     "output_type": "stream",
     "text": [
      "Training Step: 1311  | total loss: \u001b[1m\u001b[32m0.58071\u001b[0m\u001b[0m | time: 10.785s\n\u001b[2K\r| Adam | epoch: 005 | loss: 0.58071 - acc: 0.6477 -- iter: 02752/20250\n"
     ]
    },
    {
     "name": "stdout",
     "output_type": "stream",
     "text": [
      "Training Step: 1312  | total loss: \u001b[1m\u001b[32m0.57662\u001b[0m\u001b[0m | time: 11.024s\n\u001b[2K\r| Adam | epoch: 005 | loss: 0.57662 - acc: 0.6516 -- iter: 02816/20250\n"
     ]
    },
    {
     "name": "stdout",
     "output_type": "stream",
     "text": [
      "Training Step: 1313  | total loss: \u001b[1m\u001b[32m0.57394\u001b[0m\u001b[0m | time: 11.276s\n\u001b[2K\r| Adam | epoch: 005 | loss: 0.57394 - acc: 0.6662 -- iter: 02880/20250\n"
     ]
    },
    {
     "name": "stdout",
     "output_type": "stream",
     "text": [
      "Training Step: 1314  | total loss: \u001b[1m\u001b[32m0.56258\u001b[0m\u001b[0m | time: 11.519s\n\u001b[2K\r| Adam | epoch: 005 | loss: 0.56258 - acc: 0.6730 -- iter: 02944/20250\n"
     ]
    },
    {
     "name": "stdout",
     "output_type": "stream",
     "text": [
      "Training Step: 1315  | total loss: \u001b[1m\u001b[32m0.56076\u001b[0m\u001b[0m | time: 11.765s\n\u001b[2K\r| Adam | epoch: 005 | loss: 0.56076 - acc: 0.6807 -- iter: 03008/20250\n"
     ]
    },
    {
     "name": "stdout",
     "output_type": "stream",
     "text": [
      "Training Step: 1316  | total loss: \u001b[1m\u001b[32m0.57069\u001b[0m\u001b[0m | time: 12.005s\n\u001b[2K\r| Adam | epoch: 005 | loss: 0.57069 - acc: 0.6782 -- iter: 03072/20250\n"
     ]
    },
    {
     "name": "stdout",
     "output_type": "stream",
     "text": [
      "Training Step: 1317  | total loss: \u001b[1m\u001b[32m0.57294\u001b[0m\u001b[0m | time: 12.241s\n\u001b[2K\r| Adam | epoch: 005 | loss: 0.57294 - acc: 0.6792 -- iter: 03136/20250\n"
     ]
    },
    {
     "name": "stdout",
     "output_type": "stream",
     "text": [
      "Training Step: 1318  | total loss: \u001b[1m\u001b[32m0.57425\u001b[0m\u001b[0m | time: 12.491s\n\u001b[2K\r| Adam | epoch: 005 | loss: 0.57425 - acc: 0.6863 -- iter: 03200/20250\n"
     ]
    },
    {
     "name": "stdout",
     "output_type": "stream",
     "text": [
      "Training Step: 1319  | total loss: \u001b[1m\u001b[32m0.56620\u001b[0m\u001b[0m | time: 12.761s\n\u001b[2K\r| Adam | epoch: 005 | loss: 0.56620 - acc: 0.6973 -- iter: 03264/20250\n"
     ]
    },
    {
     "name": "stdout",
     "output_type": "stream",
     "text": [
      "Training Step: 1320  | total loss: \u001b[1m\u001b[32m0.56472\u001b[0m\u001b[0m | time: 13.028s\n\u001b[2K\r| Adam | epoch: 005 | loss: 0.56472 - acc: 0.7041 -- iter: 03328/20250\n"
     ]
    },
    {
     "name": "stdout",
     "output_type": "stream",
     "text": [
      "Training Step: 1321  | total loss: \u001b[1m\u001b[32m0.56270\u001b[0m\u001b[0m | time: 13.275s\n\u001b[2K\r| Adam | epoch: 005 | loss: 0.56270 - acc: 0.7087 -- iter: 03392/20250\n"
     ]
    },
    {
     "name": "stdout",
     "output_type": "stream",
     "text": [
      "Training Step: 1322  | total loss: \u001b[1m\u001b[32m0.56243\u001b[0m\u001b[0m | time: 13.521s\n\u001b[2K\r| Adam | epoch: 005 | loss: 0.56243 - acc: 0.7113 -- iter: 03456/20250\n"
     ]
    },
    {
     "name": "stdout",
     "output_type": "stream",
     "text": [
      "Training Step: 1323  | total loss: \u001b[1m\u001b[32m0.55933\u001b[0m\u001b[0m | time: 13.765s\n\u001b[2K\r| Adam | epoch: 005 | loss: 0.55933 - acc: 0.7152 -- iter: 03520/20250\n"
     ]
    },
    {
     "name": "stdout",
     "output_type": "stream",
     "text": [
      "Training Step: 1324  | total loss: \u001b[1m\u001b[32m0.55865\u001b[0m\u001b[0m | time: 14.012s\n\u001b[2K\r| Adam | epoch: 005 | loss: 0.55865 - acc: 0.7108 -- iter: 03584/20250\n"
     ]
    },
    {
     "name": "stdout",
     "output_type": "stream",
     "text": [
      "Training Step: 1325  | total loss: \u001b[1m\u001b[32m0.56351\u001b[0m\u001b[0m | time: 14.257s\n\u001b[2K\r| Adam | epoch: 005 | loss: 0.56351 - acc: 0.7069 -- iter: 03648/20250\n"
     ]
    },
    {
     "name": "stdout",
     "output_type": "stream",
     "text": [
      "Training Step: 1326  | total loss: \u001b[1m\u001b[32m0.55455\u001b[0m\u001b[0m | time: 14.515s\n\u001b[2K\r| Adam | epoch: 005 | loss: 0.55455 - acc: 0.7112 -- iter: 03712/20250\n"
     ]
    },
    {
     "name": "stdout",
     "output_type": "stream",
     "text": [
      "Training Step: 1327  | total loss: \u001b[1m\u001b[32m0.54779\u001b[0m\u001b[0m | time: 14.769s\n\u001b[2K\r| Adam | epoch: 005 | loss: 0.54779 - acc: 0.7214 -- iter: 03776/20250\n"
     ]
    },
    {
     "name": "stdout",
     "output_type": "stream",
     "text": [
      "Training Step: 1328  | total loss: \u001b[1m\u001b[32m0.55115\u001b[0m\u001b[0m | time: 15.024s\n\u001b[2K\r| Adam | epoch: 005 | loss: 0.55115 - acc: 0.7242 -- iter: 03840/20250\n"
     ]
    },
    {
     "name": "stdout",
     "output_type": "stream",
     "text": [
      "Training Step: 1329  | total loss: \u001b[1m\u001b[32m0.55135\u001b[0m\u001b[0m | time: 15.300s\n\u001b[2K\r| Adam | epoch: 005 | loss: 0.55135 - acc: 0.7237 -- iter: 03904/20250\n"
     ]
    },
    {
     "name": "stdout",
     "output_type": "stream",
     "text": [
      "Training Step: 1330  | total loss: \u001b[1m\u001b[32m0.55886\u001b[0m\u001b[0m | time: 15.544s\n\u001b[2K\r| Adam | epoch: 005 | loss: 0.55886 - acc: 0.7185 -- iter: 03968/20250\n"
     ]
    },
    {
     "name": "stdout",
     "output_type": "stream",
     "text": [
      "Training Step: 1331  | total loss: \u001b[1m\u001b[32m0.55963\u001b[0m\u001b[0m | time: 15.787s\n\u001b[2K\r| Adam | epoch: 005 | loss: 0.55963 - acc: 0.7170 -- iter: 04032/20250\n"
     ]
    },
    {
     "name": "stdout",
     "output_type": "stream",
     "text": [
      "Training Step: 1332  | total loss: \u001b[1m\u001b[32m0.55449\u001b[0m\u001b[0m | time: 16.029s\n\u001b[2K\r| Adam | epoch: 005 | loss: 0.55449 - acc: 0.7187 -- iter: 04096/20250\n"
     ]
    },
    {
     "name": "stdout",
     "output_type": "stream",
     "text": [
      "Training Step: 1333  | total loss: \u001b[1m\u001b[32m0.55343\u001b[0m\u001b[0m | time: 16.273s\n\u001b[2K\r| Adam | epoch: 005 | loss: 0.55343 - acc: 0.7218 -- iter: 04160/20250\n"
     ]
    },
    {
     "name": "stdout",
     "output_type": "stream",
     "text": [
      "Training Step: 1334  | total loss: \u001b[1m\u001b[32m0.54640\u001b[0m\u001b[0m | time: 16.519s\n\u001b[2K\r| Adam | epoch: 005 | loss: 0.54640 - acc: 0.7247 -- iter: 04224/20250\n"
     ]
    },
    {
     "name": "stdout",
     "output_type": "stream",
     "text": [
      "Training Step: 1335  | total loss: \u001b[1m\u001b[32m0.54759\u001b[0m\u001b[0m | time: 16.762s\n\u001b[2K\r| Adam | epoch: 005 | loss: 0.54759 - acc: 0.7225 -- iter: 04288/20250\n"
     ]
    },
    {
     "name": "stdout",
     "output_type": "stream",
     "text": [
      "Training Step: 1336  | total loss: \u001b[1m\u001b[32m0.53147\u001b[0m\u001b[0m | time: 17.003s\n\u001b[2K\r| Adam | epoch: 005 | loss: 0.53147 - acc: 0.7393 -- iter: 04352/20250\n"
     ]
    },
    {
     "name": "stdout",
     "output_type": "stream",
     "text": [
      "Training Step: 1337  | total loss: \u001b[1m\u001b[32m0.53205\u001b[0m\u001b[0m | time: 17.254s\n\u001b[2K\r| Adam | epoch: 005 | loss: 0.53205 - acc: 0.7419 -- iter: 04416/20250\n"
     ]
    },
    {
     "name": "stdout",
     "output_type": "stream",
     "text": [
      "Training Step: 1338  | total loss: \u001b[1m\u001b[32m0.52653\u001b[0m\u001b[0m | time: 17.497s\n\u001b[2K\r| Adam | epoch: 005 | loss: 0.52653 - acc: 0.7428 -- iter: 04480/20250\n"
     ]
    },
    {
     "name": "stdout",
     "output_type": "stream",
     "text": [
      "Training Step: 1339  | total loss: \u001b[1m\u001b[32m0.51459\u001b[0m\u001b[0m | time: 17.773s\n\u001b[2K\r| Adam | epoch: 005 | loss: 0.51459 - acc: 0.7482 -- iter: 04544/20250\n"
     ]
    },
    {
     "name": "stdout",
     "output_type": "stream",
     "text": [
      "Training Step: 1340  | total loss: \u001b[1m\u001b[32m0.50695\u001b[0m\u001b[0m | time: 18.027s\n\u001b[2K\r| Adam | epoch: 005 | loss: 0.50695 - acc: 0.7562 -- iter: 04608/20250\n"
     ]
    },
    {
     "name": "stdout",
     "output_type": "stream",
     "text": [
      "Training Step: 1341  | total loss: \u001b[1m\u001b[32m0.51269\u001b[0m\u001b[0m | time: 18.324s\n\u001b[2K\r| Adam | epoch: 005 | loss: 0.51269 - acc: 0.7493 -- iter: 04672/20250\n"
     ]
    },
    {
     "name": "stdout",
     "output_type": "stream",
     "text": [
      "Training Step: 1342  | total loss: \u001b[1m\u001b[32m0.50977\u001b[0m\u001b[0m | time: 18.571s\n\u001b[2K\r| Adam | epoch: 005 | loss: 0.50977 - acc: 0.7494 -- iter: 04736/20250\n"
     ]
    },
    {
     "name": "stdout",
     "output_type": "stream",
     "text": [
      "Training Step: 1343  | total loss: \u001b[1m\u001b[32m0.51041\u001b[0m\u001b[0m | time: 18.828s\n\u001b[2K\r| Adam | epoch: 005 | loss: 0.51041 - acc: 0.7463 -- iter: 04800/20250\n"
     ]
    },
    {
     "name": "stdout",
     "output_type": "stream",
     "text": [
      "Training Step: 1344  | total loss: \u001b[1m\u001b[32m0.50611\u001b[0m\u001b[0m | time: 19.079s\n\u001b[2K\r| Adam | epoch: 005 | loss: 0.50611 - acc: 0.7420 -- iter: 04864/20250\n"
     ]
    },
    {
     "name": "stdout",
     "output_type": "stream",
     "text": [
      "Training Step: 1345  | total loss: \u001b[1m\u001b[32m0.50755\u001b[0m\u001b[0m | time: 19.325s\n\u001b[2K\r| Adam | epoch: 005 | loss: 0.50755 - acc: 0.7381 -- iter: 04928/20250\n"
     ]
    },
    {
     "name": "stdout",
     "output_type": "stream",
     "text": [
      "Training Step: 1346  | total loss: \u001b[1m\u001b[32m0.50005\u001b[0m\u001b[0m | time: 19.581s\n\u001b[2K\r| Adam | epoch: 005 | loss: 0.50005 - acc: 0.7377 -- iter: 04992/20250\n"
     ]
    },
    {
     "name": "stdout",
     "output_type": "stream",
     "text": [
      "Training Step: 1347  | total loss: \u001b[1m\u001b[32m0.50257\u001b[0m\u001b[0m | time: 19.827s\n\u001b[2K\r| Adam | epoch: 005 | loss: 0.50257 - acc: 0.7358 -- iter: 05056/20250\n"
     ]
    },
    {
     "name": "stdout",
     "output_type": "stream",
     "text": [
      "Training Step: 1348  | total loss: \u001b[1m\u001b[32m0.50360\u001b[0m\u001b[0m | time: 20.096s\n\u001b[2K\r| Adam | epoch: 005 | loss: 0.50360 - acc: 0.7326 -- iter: 05120/20250\n"
     ]
    },
    {
     "name": "stdout",
     "output_type": "stream",
     "text": [
      "Training Step: 1349  | total loss: \u001b[1m\u001b[32m0.51555\u001b[0m\u001b[0m | time: 20.348s\n\u001b[2K\r| Adam | epoch: 005 | loss: 0.51555 - acc: 0.7202 -- iter: 05184/20250\n"
     ]
    },
    {
     "name": "stdout",
     "output_type": "stream",
     "text": [
      "Training Step: 1350  | total loss: \u001b[1m\u001b[32m0.51176\u001b[0m\u001b[0m | time: 20.602s\n\u001b[2K\r| Adam | epoch: 005 | loss: 0.51176 - acc: 0.7263 -- iter: 05248/20250\n"
     ]
    },
    {
     "name": "stdout",
     "output_type": "stream",
     "text": [
      "Training Step: 1351  | total loss: \u001b[1m\u001b[32m0.51026\u001b[0m\u001b[0m | time: 20.852s\n\u001b[2K\r| Adam | epoch: 005 | loss: 0.51026 - acc: 0.7256 -- iter: 05312/20250\n"
     ]
    },
    {
     "name": "stdout",
     "output_type": "stream",
     "text": [
      "Training Step: 1352  | total loss: \u001b[1m\u001b[32m0.50544\u001b[0m\u001b[0m | time: 21.097s\n\u001b[2K\r| Adam | epoch: 005 | loss: 0.50544 - acc: 0.7343 -- iter: 05376/20250\n"
     ]
    },
    {
     "name": "stdout",
     "output_type": "stream",
     "text": [
      "Training Step: 1353  | total loss: \u001b[1m\u001b[32m0.50042\u001b[0m\u001b[0m | time: 21.341s\n\u001b[2K\r| Adam | epoch: 005 | loss: 0.50042 - acc: 0.7390 -- iter: 05440/20250\n"
     ]
    },
    {
     "name": "stdout",
     "output_type": "stream",
     "text": [
      "Training Step: 1354  | total loss: \u001b[1m\u001b[32m0.48804\u001b[0m\u001b[0m | time: 21.586s\n\u001b[2K\r| Adam | epoch: 005 | loss: 0.48804 - acc: 0.7510 -- iter: 05504/20250\n"
     ]
    },
    {
     "name": "stdout",
     "output_type": "stream",
     "text": [
      "Training Step: 1355  | total loss: \u001b[1m\u001b[32m0.48521\u001b[0m\u001b[0m | time: 21.827s\n\u001b[2K\r| Adam | epoch: 005 | loss: 0.48521 - acc: 0.7540 -- iter: 05568/20250\n"
     ]
    },
    {
     "name": "stdout",
     "output_type": "stream",
     "text": [
      "Training Step: 1356  | total loss: \u001b[1m\u001b[32m0.48755\u001b[0m\u001b[0m | time: 22.073s\n\u001b[2K\r| Adam | epoch: 005 | loss: 0.48755 - acc: 0.7568 -- iter: 05632/20250\n"
     ]
    },
    {
     "name": "stdout",
     "output_type": "stream",
     "text": [
      "Training Step: 1357  | total loss: \u001b[1m\u001b[32m0.49703\u001b[0m\u001b[0m | time: 22.321s\n\u001b[2K\r| Adam | epoch: 005 | loss: 0.49703 - acc: 0.7514 -- iter: 05696/20250\n"
     ]
    },
    {
     "name": "stdout",
     "output_type": "stream",
     "text": [
      "Training Step: 1358  | total loss: \u001b[1m\u001b[32m0.52238\u001b[0m\u001b[0m | time: 22.584s\n\u001b[2K\r| Adam | epoch: 005 | loss: 0.52238 - acc: 0.7403 -- iter: 05760/20250\n"
     ]
    },
    {
     "name": "stdout",
     "output_type": "stream",
     "text": [
      "Training Step: 1359  | total loss: \u001b[1m\u001b[32m0.52570\u001b[0m\u001b[0m | time: 22.867s\n\u001b[2K\r| Adam | epoch: 005 | loss: 0.52570 - acc: 0.7397 -- iter: 05824/20250\n"
     ]
    },
    {
     "name": "stdout",
     "output_type": "stream",
     "text": [
      "Training Step: 1360  | total loss: \u001b[1m\u001b[32m0.51893\u001b[0m\u001b[0m | time: 23.113s\n\u001b[2K\r| Adam | epoch: 005 | loss: 0.51893 - acc: 0.7454 -- iter: 05888/20250\n"
     ]
    },
    {
     "name": "stdout",
     "output_type": "stream",
     "text": [
      "Training Step: 1361  | total loss: \u001b[1m\u001b[32m0.50451\u001b[0m\u001b[0m | time: 23.355s\n\u001b[2K\r| Adam | epoch: 005 | loss: 0.50451 - acc: 0.7568 -- iter: 05952/20250\n"
     ]
    },
    {
     "name": "stdout",
     "output_type": "stream",
     "text": [
      "Training Step: 1362  | total loss: \u001b[1m\u001b[32m0.51915\u001b[0m\u001b[0m | time: 23.599s\n\u001b[2K\r| Adam | epoch: 005 | loss: 0.51915 - acc: 0.7515 -- iter: 06016/20250\n"
     ]
    },
    {
     "name": "stdout",
     "output_type": "stream",
     "text": [
      "Training Step: 1363  | total loss: \u001b[1m\u001b[32m0.51228\u001b[0m\u001b[0m | time: 23.845s\n\u001b[2K\r| Adam | epoch: 005 | loss: 0.51228 - acc: 0.7623 -- iter: 06080/20250\n"
     ]
    },
    {
     "name": "stdout",
     "output_type": "stream",
     "text": [
      "Training Step: 1364  | total loss: \u001b[1m\u001b[32m0.53945\u001b[0m\u001b[0m | time: 24.089s\n\u001b[2K\r| Adam | epoch: 005 | loss: 0.53945 - acc: 0.7579 -- iter: 06144/20250\n"
     ]
    },
    {
     "name": "stdout",
     "output_type": "stream",
     "text": [
      "Training Step: 1365  | total loss: \u001b[1m\u001b[32m0.54677\u001b[0m\u001b[0m | time: 24.350s\n\u001b[2K\r| Adam | epoch: 005 | loss: 0.54677 - acc: 0.7571 -- iter: 06208/20250\n"
     ]
    },
    {
     "name": "stdout",
     "output_type": "stream",
     "text": [
      "Training Step: 1366  | total loss: \u001b[1m\u001b[32m0.55028\u001b[0m\u001b[0m | time: 24.596s\n\u001b[2K\r| Adam | epoch: 005 | loss: 0.55028 - acc: 0.7580 -- iter: 06272/20250\n"
     ]
    },
    {
     "name": "stdout",
     "output_type": "stream",
     "text": [
      "Training Step: 1367  | total loss: \u001b[1m\u001b[32m0.54566\u001b[0m\u001b[0m | time: 24.843s\n\u001b[2K\r| Adam | epoch: 005 | loss: 0.54566 - acc: 0.7619 -- iter: 06336/20250\n"
     ]
    },
    {
     "name": "stdout",
     "output_type": "stream",
     "text": [
      "Training Step: 1368  | total loss: \u001b[1m\u001b[32m0.54328\u001b[0m\u001b[0m | time: 25.109s\n\u001b[2K\r| Adam | epoch: 005 | loss: 0.54328 - acc: 0.7669 -- iter: 06400/20250\n"
     ]
    },
    {
     "name": "stdout",
     "output_type": "stream",
     "text": [
      "Training Step: 1369  | total loss: \u001b[1m\u001b[32m0.54165\u001b[0m\u001b[0m | time: 25.389s\n\u001b[2K\r| Adam | epoch: 005 | loss: 0.54165 - acc: 0.7668 -- iter: 06464/20250\n"
     ]
    },
    {
     "name": "stdout",
     "output_type": "stream",
     "text": [
      "Training Step: 1370  | total loss: \u001b[1m\u001b[32m0.53710\u001b[0m\u001b[0m | time: 25.634s\n\u001b[2K\r| Adam | epoch: 005 | loss: 0.53710 - acc: 0.7667 -- iter: 06528/20250\n"
     ]
    },
    {
     "name": "stdout",
     "output_type": "stream",
     "text": [
      "Training Step: 1371  | total loss: \u001b[1m\u001b[32m0.53938\u001b[0m\u001b[0m | time: 25.890s\n\u001b[2K\r| Adam | epoch: 005 | loss: 0.53938 - acc: 0.7650 -- iter: 06592/20250\n"
     ]
    },
    {
     "name": "stdout",
     "output_type": "stream",
     "text": [
      "Training Step: 1372  | total loss: \u001b[1m\u001b[32m0.54371\u001b[0m\u001b[0m | time: 26.142s\n\u001b[2K\r| Adam | epoch: 005 | loss: 0.54371 - acc: 0.7588 -- iter: 06656/20250\n"
     ]
    },
    {
     "name": "stdout",
     "output_type": "stream",
     "text": [
      "Training Step: 1373  | total loss: \u001b[1m\u001b[32m0.53460\u001b[0m\u001b[0m | time: 26.398s\n\u001b[2K\r| Adam | epoch: 005 | loss: 0.53460 - acc: 0.7642 -- iter: 06720/20250\n"
     ]
    },
    {
     "name": "stdout",
     "output_type": "stream",
     "text": [
      "Training Step: 1374  | total loss: \u001b[1m\u001b[32m0.52860\u001b[0m\u001b[0m | time: 26.644s\n\u001b[2K\r| Adam | epoch: 005 | loss: 0.52860 - acc: 0.7706 -- iter: 06784/20250\n"
     ]
    },
    {
     "name": "stdout",
     "output_type": "stream",
     "text": [
      "Training Step: 1375  | total loss: \u001b[1m\u001b[32m0.52634\u001b[0m\u001b[0m | time: 26.885s\n\u001b[2K\r| Adam | epoch: 005 | loss: 0.52634 - acc: 0.7685 -- iter: 06848/20250\n"
     ]
    },
    {
     "name": "stdout",
     "output_type": "stream",
     "text": [
      "Training Step: 1376  | total loss: \u001b[1m\u001b[32m0.51640\u001b[0m\u001b[0m | time: 27.132s\n\u001b[2K\r| Adam | epoch: 005 | loss: 0.51640 - acc: 0.7776 -- iter: 06912/20250\n"
     ]
    },
    {
     "name": "stdout",
     "output_type": "stream",
     "text": [
      "Training Step: 1377  | total loss: \u001b[1m\u001b[32m0.52248\u001b[0m\u001b[0m | time: 27.377s\n\u001b[2K\r| Adam | epoch: 005 | loss: 0.52248 - acc: 0.7748 -- iter: 06976/20250\n"
     ]
    },
    {
     "name": "stdout",
     "output_type": "stream",
     "text": [
      "Training Step: 1378  | total loss: \u001b[1m\u001b[32m0.52376\u001b[0m\u001b[0m | time: 27.648s\n\u001b[2K\r| Adam | epoch: 005 | loss: 0.52376 - acc: 0.7755 -- iter: 07040/20250\n"
     ]
    },
    {
     "name": "stdout",
     "output_type": "stream",
     "text": [
      "Training Step: 1379  | total loss: \u001b[1m\u001b[32m0.52152\u001b[0m\u001b[0m | time: 27.916s\n\u001b[2K\r| Adam | epoch: 005 | loss: 0.52152 - acc: 0.7745 -- iter: 07104/20250\n"
     ]
    },
    {
     "name": "stdout",
     "output_type": "stream",
     "text": [
      "Training Step: 1380  | total loss: \u001b[1m\u001b[32m0.52499\u001b[0m\u001b[0m | time: 28.160s\n\u001b[2K\r| Adam | epoch: 005 | loss: 0.52499 - acc: 0.7767 -- iter: 07168/20250\n"
     ]
    },
    {
     "name": "stdout",
     "output_type": "stream",
     "text": [
      "Training Step: 1381  | total loss: \u001b[1m\u001b[32m0.52700\u001b[0m\u001b[0m | time: 28.403s\n\u001b[2K\r| Adam | epoch: 005 | loss: 0.52700 - acc: 0.7709 -- iter: 07232/20250\n"
     ]
    },
    {
     "name": "stdout",
     "output_type": "stream",
     "text": [
      "Training Step: 1382  | total loss: \u001b[1m\u001b[32m0.52408\u001b[0m\u001b[0m | time: 28.653s\n\u001b[2K\r| Adam | epoch: 005 | loss: 0.52408 - acc: 0.7735 -- iter: 07296/20250\n"
     ]
    },
    {
     "name": "stdout",
     "output_type": "stream",
     "text": [
      "Training Step: 1383  | total loss: \u001b[1m\u001b[32m0.53536\u001b[0m\u001b[0m | time: 28.901s\n\u001b[2K\r| Adam | epoch: 005 | loss: 0.53536 - acc: 0.7649 -- iter: 07360/20250\n"
     ]
    },
    {
     "name": "stdout",
     "output_type": "stream",
     "text": [
      "Training Step: 1384  | total loss: \u001b[1m\u001b[32m0.54169\u001b[0m\u001b[0m | time: 29.162s\n\u001b[2K\r| Adam | epoch: 005 | loss: 0.54169 - acc: 0.7619 -- iter: 07424/20250\n"
     ]
    },
    {
     "name": "stdout",
     "output_type": "stream",
     "text": [
      "Training Step: 1385  | total loss: \u001b[1m\u001b[32m0.53438\u001b[0m\u001b[0m | time: 29.407s\n\u001b[2K\r| Adam | epoch: 005 | loss: 0.53438 - acc: 0.7654 -- iter: 07488/20250\n"
     ]
    },
    {
     "name": "stdout",
     "output_type": "stream",
     "text": [
      "Training Step: 1386  | total loss: \u001b[1m\u001b[32m0.53757\u001b[0m\u001b[0m | time: 29.654s\n\u001b[2K\r| Adam | epoch: 005 | loss: 0.53757 - acc: 0.7638 -- iter: 07552/20250\n"
     ]
    },
    {
     "name": "stdout",
     "output_type": "stream",
     "text": [
      "Training Step: 1387  | total loss: \u001b[1m\u001b[32m0.53742\u001b[0m\u001b[0m | time: 29.904s\n\u001b[2K\r| Adam | epoch: 005 | loss: 0.53742 - acc: 0.7578 -- iter: 07616/20250\n"
     ]
    },
    {
     "name": "stdout",
     "output_type": "stream",
     "text": [
      "Training Step: 1388  | total loss: \u001b[1m\u001b[32m0.53807\u001b[0m\u001b[0m | time: 30.175s\n\u001b[2K\r| Adam | epoch: 005 | loss: 0.53807 - acc: 0.7539 -- iter: 07680/20250\n"
     ]
    },
    {
     "name": "stdout",
     "output_type": "stream",
     "text": [
      "Training Step: 1389  | total loss: \u001b[1m\u001b[32m0.54621\u001b[0m\u001b[0m | time: 30.445s\n\u001b[2K\r| Adam | epoch: 005 | loss: 0.54621 - acc: 0.7425 -- iter: 07744/20250\n"
     ]
    },
    {
     "name": "stdout",
     "output_type": "stream",
     "text": [
      "Training Step: 1390  | total loss: \u001b[1m\u001b[32m0.55980\u001b[0m\u001b[0m | time: 30.687s\n\u001b[2K\r| Adam | epoch: 005 | loss: 0.55980 - acc: 0.7261 -- iter: 07808/20250\n"
     ]
    },
    {
     "name": "stdout",
     "output_type": "stream",
     "text": [
      "Training Step: 1391  | total loss: \u001b[1m\u001b[32m0.57002\u001b[0m\u001b[0m | time: 30.932s\n\u001b[2K\r| Adam | epoch: 005 | loss: 0.57002 - acc: 0.7176 -- iter: 07872/20250\n"
     ]
    },
    {
     "name": "stdout",
     "output_type": "stream",
     "text": [
      "Training Step: 1392  | total loss: \u001b[1m\u001b[32m0.57807\u001b[0m\u001b[0m | time: 31.176s\n\u001b[2K\r| Adam | epoch: 005 | loss: 0.57807 - acc: 0.7052 -- iter: 07936/20250\n"
     ]
    },
    {
     "name": "stdout",
     "output_type": "stream",
     "text": [
      "Training Step: 1393  | total loss: \u001b[1m\u001b[32m0.58005\u001b[0m\u001b[0m | time: 31.427s\n\u001b[2K\r| Adam | epoch: 005 | loss: 0.58005 - acc: 0.7034 -- iter: 08000/20250\n"
     ]
    },
    {
     "name": "stdout",
     "output_type": "stream",
     "text": [
      "Training Step: 1394  | total loss: \u001b[1m\u001b[32m0.57817\u001b[0m\u001b[0m | time: 31.662s\n\u001b[2K\r| Adam | epoch: 005 | loss: 0.57817 - acc: 0.7018 -- iter: 08064/20250\n"
     ]
    },
    {
     "name": "stdout",
     "output_type": "stream",
     "text": [
      "Training Step: 1395  | total loss: \u001b[1m\u001b[32m0.57113\u001b[0m\u001b[0m | time: 31.898s\n\u001b[2K\r| Adam | epoch: 005 | loss: 0.57113 - acc: 0.7066 -- iter: 08128/20250\n"
     ]
    },
    {
     "name": "stdout",
     "output_type": "stream",
     "text": [
      "Training Step: 1396  | total loss: \u001b[1m\u001b[32m0.57050\u001b[0m\u001b[0m | time: 32.140s\n\u001b[2K\r| Adam | epoch: 005 | loss: 0.57050 - acc: 0.7032 -- iter: 08192/20250\n"
     ]
    },
    {
     "name": "stdout",
     "output_type": "stream",
     "text": [
      "Training Step: 1397  | total loss: \u001b[1m\u001b[32m0.56915\u001b[0m\u001b[0m | time: 32.387s\n\u001b[2K\r| Adam | epoch: 005 | loss: 0.56915 - acc: 0.7016 -- iter: 08256/20250\n"
     ]
    },
    {
     "name": "stdout",
     "output_type": "stream",
     "text": [
      "Training Step: 1398  | total loss: \u001b[1m\u001b[32m0.56485\u001b[0m\u001b[0m | time: 32.673s\n\u001b[2K\r| Adam | epoch: 005 | loss: 0.56485 - acc: 0.7002 -- iter: 08320/20250\n"
     ]
    },
    {
     "name": "stdout",
     "output_type": "stream",
     "text": [
      "Training Step: 1399  | total loss: \u001b[1m\u001b[32m0.56616\u001b[0m\u001b[0m | time: 32.964s\n\u001b[2K\r| Adam | epoch: 005 | loss: 0.56616 - acc: 0.6849 -- iter: 08384/20250\n"
     ]
    },
    {
     "name": "stdout",
     "output_type": "stream",
     "text": [
      "Training Step: 1400  | total loss: \u001b[1m\u001b[32m0.57068\u001b[0m\u001b[0m | time: 33.211s\n\u001b[2K\r| Adam | epoch: 005 | loss: 0.57068 - acc: 0.6789 -- iter: 08448/20250\n"
     ]
    },
    {
     "name": "stdout",
     "output_type": "stream",
     "text": [
      "Training Step: 1401  | total loss: \u001b[1m\u001b[32m0.57562\u001b[0m\u001b[0m | time: 33.452s\n\u001b[2K\r| Adam | epoch: 005 | loss: 0.57562 - acc: 0.6657 -- iter: 08512/20250\n"
     ]
    },
    {
     "name": "stdout",
     "output_type": "stream",
     "text": [
      "Training Step: 1402  | total loss: \u001b[1m\u001b[32m0.57764\u001b[0m\u001b[0m | time: 33.697s\n\u001b[2K\r| Adam | epoch: 005 | loss: 0.57764 - acc: 0.6585 -- iter: 08576/20250\n"
     ]
    },
    {
     "name": "stdout",
     "output_type": "stream",
     "text": [
      "Training Step: 1403  | total loss: \u001b[1m\u001b[32m0.57227\u001b[0m\u001b[0m | time: 33.944s\n\u001b[2K\r| Adam | epoch: 005 | loss: 0.57227 - acc: 0.6629 -- iter: 08640/20250\n"
     ]
    },
    {
     "name": "stdout",
     "output_type": "stream",
     "text": [
      "Training Step: 1404  | total loss: \u001b[1m\u001b[32m0.57328\u001b[0m\u001b[0m | time: 34.187s\n\u001b[2K\r| Adam | epoch: 005 | loss: 0.57328 - acc: 0.6607 -- iter: 08704/20250\n"
     ]
    },
    {
     "name": "stdout",
     "output_type": "stream",
     "text": [
      "Training Step: 1405  | total loss: \u001b[1m\u001b[32m0.58045\u001b[0m\u001b[0m | time: 34.432s\n\u001b[2K\r| Adam | epoch: 005 | loss: 0.58045 - acc: 0.6571 -- iter: 08768/20250\n"
     ]
    },
    {
     "name": "stdout",
     "output_type": "stream",
     "text": [
      "Training Step: 1406  | total loss: \u001b[1m\u001b[32m0.57125\u001b[0m\u001b[0m | time: 34.677s\n\u001b[2K\r| Adam | epoch: 005 | loss: 0.57125 - acc: 0.6649 -- iter: 08832/20250\n"
     ]
    },
    {
     "name": "stdout",
     "output_type": "stream",
     "text": [
      "Training Step: 1407  | total loss: \u001b[1m\u001b[32m0.56574\u001b[0m\u001b[0m | time: 34.917s\n\u001b[2K\r| Adam | epoch: 005 | loss: 0.56574 - acc: 0.6718 -- iter: 08896/20250\n"
     ]
    },
    {
     "name": "stdout",
     "output_type": "stream",
     "text": [
      "Training Step: 1408  | total loss: \u001b[1m\u001b[32m0.55766\u001b[0m\u001b[0m | time: 35.179s\n\u001b[2K\r| Adam | epoch: 005 | loss: 0.55766 - acc: 0.6781 -- iter: 08960/20250\n"
     ]
    },
    {
     "name": "stdout",
     "output_type": "stream",
     "text": [
      "Training Step: 1409  | total loss: \u001b[1m\u001b[32m0.56105\u001b[0m\u001b[0m | time: 35.443s\n\u001b[2K\r| Adam | epoch: 005 | loss: 0.56105 - acc: 0.6759 -- iter: 09024/20250\n"
     ]
    },
    {
     "name": "stdout",
     "output_type": "stream",
     "text": [
      "Training Step: 1410  | total loss: \u001b[1m\u001b[32m0.55916\u001b[0m\u001b[0m | time: 35.689s\n\u001b[2K\r| Adam | epoch: 005 | loss: 0.55916 - acc: 0.6802 -- iter: 09088/20250\n"
     ]
    },
    {
     "name": "stdout",
     "output_type": "stream",
     "text": [
      "Training Step: 1411  | total loss: \u001b[1m\u001b[32m0.55363\u001b[0m\u001b[0m | time: 35.940s\n\u001b[2K\r| Adam | epoch: 005 | loss: 0.55363 - acc: 0.6918 -- iter: 09152/20250\n"
     ]
    },
    {
     "name": "stdout",
     "output_type": "stream",
     "text": [
      "Training Step: 1412  | total loss: \u001b[1m\u001b[32m0.55735\u001b[0m\u001b[0m | time: 36.181s\n\u001b[2K\r| Adam | epoch: 005 | loss: 0.55735 - acc: 0.6977 -- iter: 09216/20250\n"
     ]
    },
    {
     "name": "stdout",
     "output_type": "stream",
     "text": [
      "Training Step: 1413  | total loss: \u001b[1m\u001b[32m0.55207\u001b[0m\u001b[0m | time: 36.427s\n\u001b[2K\r| Adam | epoch: 005 | loss: 0.55207 - acc: 0.6982 -- iter: 09280/20250\n"
     ]
    },
    {
     "name": "stdout",
     "output_type": "stream",
     "text": [
      "Training Step: 1414  | total loss: \u001b[1m\u001b[32m0.55878\u001b[0m\u001b[0m | time: 36.671s\n\u001b[2K\r| Adam | epoch: 005 | loss: 0.55878 - acc: 0.6987 -- iter: 09344/20250\n"
     ]
    },
    {
     "name": "stdout",
     "output_type": "stream",
     "text": [
      "Training Step: 1415  | total loss: \u001b[1m\u001b[32m0.57469\u001b[0m\u001b[0m | time: 36.912s\n\u001b[2K\r| Adam | epoch: 005 | loss: 0.57469 - acc: 0.6976 -- iter: 09408/20250\n"
     ]
    },
    {
     "name": "stdout",
     "output_type": "stream",
     "text": [
      "Training Step: 1416  | total loss: \u001b[1m\u001b[32m0.58836\u001b[0m\u001b[0m | time: 37.164s\n\u001b[2K\r| Adam | epoch: 005 | loss: 0.58836 - acc: 0.6981 -- iter: 09472/20250\n"
     ]
    },
    {
     "name": "stdout",
     "output_type": "stream",
     "text": [
      "Training Step: 1417  | total loss: \u001b[1m\u001b[32m0.60147\u001b[0m\u001b[0m | time: 37.412s\n\u001b[2K\r| Adam | epoch: 005 | loss: 0.60147 - acc: 0.7018 -- iter: 09536/20250\n"
     ]
    },
    {
     "name": "stdout",
     "output_type": "stream",
     "text": [
      "Training Step: 1418  | total loss: \u001b[1m\u001b[32m0.62785\u001b[0m\u001b[0m | time: 37.692s\n\u001b[2K\r| Adam | epoch: 005 | loss: 0.62785 - acc: 0.6956 -- iter: 09600/20250\n"
     ]
    },
    {
     "name": "stdout",
     "output_type": "stream",
     "text": [
      "Training Step: 1419  | total loss: \u001b[1m\u001b[32m0.63512\u001b[0m\u001b[0m | time: 37.968s\n\u001b[2K\r| Adam | epoch: 005 | loss: 0.63512 - acc: 0.6964 -- iter: 09664/20250\n"
     ]
    },
    {
     "name": "stdout",
     "output_type": "stream",
     "text": [
      "Training Step: 1420  | total loss: \u001b[1m\u001b[32m0.63288\u001b[0m\u001b[0m | time: 38.212s\n\u001b[2K\r| Adam | epoch: 005 | loss: 0.63288 - acc: 0.7002 -- iter: 09728/20250\n"
     ]
    },
    {
     "name": "stdout",
     "output_type": "stream",
     "text": [
      "Training Step: 1421  | total loss: \u001b[1m\u001b[32m0.64242\u001b[0m\u001b[0m | time: 38.453s\n\u001b[2K\r| Adam | epoch: 005 | loss: 0.64242 - acc: 0.6927 -- iter: 09792/20250\n"
     ]
    },
    {
     "name": "stdout",
     "output_type": "stream",
     "text": [
      "Training Step: 1422  | total loss: \u001b[1m\u001b[32m0.63492\u001b[0m\u001b[0m | time: 38.700s\n\u001b[2K\r| Adam | epoch: 005 | loss: 0.63492 - acc: 0.6922 -- iter: 09856/20250\n"
     ]
    },
    {
     "name": "stdout",
     "output_type": "stream",
     "text": [
      "Training Step: 1423  | total loss: \u001b[1m\u001b[32m0.62522\u001b[0m\u001b[0m | time: 38.952s\n\u001b[2K\r| Adam | epoch: 005 | loss: 0.62522 - acc: 0.6917 -- iter: 09920/20250\n"
     ]
    },
    {
     "name": "stdout",
     "output_type": "stream",
     "text": [
      "Training Step: 1424  | total loss: \u001b[1m\u001b[32m0.61834\u001b[0m\u001b[0m | time: 39.203s\n\u001b[2K\r| Adam | epoch: 005 | loss: 0.61834 - acc: 0.6866 -- iter: 09984/20250\n"
     ]
    },
    {
     "name": "stdout",
     "output_type": "stream",
     "text": [
      "Training Step: 1425  | total loss: \u001b[1m\u001b[32m0.62135\u001b[0m\u001b[0m | time: 39.452s\n\u001b[2K\r| Adam | epoch: 005 | loss: 0.62135 - acc: 0.6804 -- iter: 10048/20250\n"
     ]
    },
    {
     "name": "stdout",
     "output_type": "stream",
     "text": [
      "Training Step: 1426  | total loss: \u001b[1m\u001b[32m0.61620\u001b[0m\u001b[0m | time: 39.694s\n\u001b[2K\r| Adam | epoch: 005 | loss: 0.61620 - acc: 0.6718 -- iter: 10112/20250\n"
     ]
    },
    {
     "name": "stdout",
     "output_type": "stream",
     "text": [
      "Training Step: 1427  | total loss: \u001b[1m\u001b[32m0.62347\u001b[0m\u001b[0m | time: 39.976s\n\u001b[2K\r| Adam | epoch: 005 | loss: 0.62347 - acc: 0.6593 -- iter: 10176/20250\n"
     ]
    },
    {
     "name": "stdout",
     "output_type": "stream",
     "text": [
      "Training Step: 1428  | total loss: \u001b[1m\u001b[32m0.62319\u001b[0m\u001b[0m | time: 40.221s\n\u001b[2K\r| Adam | epoch: 005 | loss: 0.62319 - acc: 0.6590 -- iter: 10240/20250\n"
     ]
    },
    {
     "name": "stdout",
     "output_type": "stream",
     "text": [
      "Training Step: 1429  | total loss: \u001b[1m\u001b[32m0.62416\u001b[0m\u001b[0m | time: 40.493s\n\u001b[2K\r| Adam | epoch: 005 | loss: 0.62416 - acc: 0.6524 -- iter: 10304/20250\n"
     ]
    },
    {
     "name": "stdout",
     "output_type": "stream",
     "text": [
      "Training Step: 1430  | total loss: \u001b[1m\u001b[32m0.61387\u001b[0m\u001b[0m | time: 40.752s\n\u001b[2K\r| Adam | epoch: 005 | loss: 0.61387 - acc: 0.6544 -- iter: 10368/20250\n"
     ]
    },
    {
     "name": "stdout",
     "output_type": "stream",
     "text": [
      "Training Step: 1431  | total loss: \u001b[1m\u001b[32m0.61963\u001b[0m\u001b[0m | time: 40.994s\n\u001b[2K\r| Adam | epoch: 005 | loss: 0.61963 - acc: 0.6483 -- iter: 10432/20250\n"
     ]
    },
    {
     "name": "stdout",
     "output_type": "stream",
     "text": [
      "Training Step: 1432  | total loss: \u001b[1m\u001b[32m0.62033\u001b[0m\u001b[0m | time: 41.237s\n\u001b[2K\r| Adam | epoch: 005 | loss: 0.62033 - acc: 0.6476 -- iter: 10496/20250\n"
     ]
    },
    {
     "name": "stdout",
     "output_type": "stream",
     "text": [
      "Training Step: 1433  | total loss: \u001b[1m\u001b[32m0.62016\u001b[0m\u001b[0m | time: 41.482s\n\u001b[2K\r| Adam | epoch: 005 | loss: 0.62016 - acc: 0.6531 -- iter: 10560/20250\n"
     ]
    },
    {
     "name": "stdout",
     "output_type": "stream",
     "text": [
      "Training Step: 1434  | total loss: \u001b[1m\u001b[32m0.61578\u001b[0m\u001b[0m | time: 41.733s\n\u001b[2K\r| Adam | epoch: 005 | loss: 0.61578 - acc: 0.6503 -- iter: 10624/20250\n"
     ]
    },
    {
     "name": "stdout",
     "output_type": "stream",
     "text": [
      "Training Step: 1435  | total loss: \u001b[1m\u001b[32m0.61160\u001b[0m\u001b[0m | time: 41.980s\n\u001b[2K\r| Adam | epoch: 005 | loss: 0.61160 - acc: 0.6478 -- iter: 10688/20250\n"
     ]
    },
    {
     "name": "stdout",
     "output_type": "stream",
     "text": [
      "Training Step: 1436  | total loss: \u001b[1m\u001b[32m0.60744\u001b[0m\u001b[0m | time: 42.227s\n\u001b[2K\r| Adam | epoch: 005 | loss: 0.60744 - acc: 0.6533 -- iter: 10752/20250\n"
     ]
    },
    {
     "name": "stdout",
     "output_type": "stream",
     "text": [
      "Training Step: 1437  | total loss: \u001b[1m\u001b[32m0.60045\u001b[0m\u001b[0m | time: 42.490s\n\u001b[2K\r| Adam | epoch: 005 | loss: 0.60045 - acc: 0.6599 -- iter: 10816/20250\n"
     ]
    },
    {
     "name": "stdout",
     "output_type": "stream",
     "text": [
      "Training Step: 1438  | total loss: \u001b[1m\u001b[32m0.59584\u001b[0m\u001b[0m | time: 42.739s\n\u001b[2K\r| Adam | epoch: 005 | loss: 0.59584 - acc: 0.6626 -- iter: 10880/20250\n"
     ]
    },
    {
     "name": "stdout",
     "output_type": "stream",
     "text": [
      "Training Step: 1439  | total loss: \u001b[1m\u001b[32m0.58902\u001b[0m\u001b[0m | time: 43.012s\n\u001b[2K\r| Adam | epoch: 005 | loss: 0.58902 - acc: 0.6682 -- iter: 10944/20250\n"
     ]
    },
    {
     "name": "stdout",
     "output_type": "stream",
     "text": [
      "Training Step: 1440  | total loss: \u001b[1m\u001b[32m0.58595\u001b[0m\u001b[0m | time: 43.264s\n\u001b[2K\r| Adam | epoch: 005 | loss: 0.58595 - acc: 0.6702 -- iter: 11008/20250\n"
     ]
    },
    {
     "name": "stdout",
     "output_type": "stream",
     "text": [
      "Training Step: 1441  | total loss: \u001b[1m\u001b[32m0.57790\u001b[0m\u001b[0m | time: 43.509s\n\u001b[2K\r| Adam | epoch: 005 | loss: 0.57790 - acc: 0.6750 -- iter: 11072/20250\n"
     ]
    },
    {
     "name": "stdout",
     "output_type": "stream",
     "text": [
      "Training Step: 1442  | total loss: \u001b[1m\u001b[32m0.57871\u001b[0m\u001b[0m | time: 43.763s\n\u001b[2K\r| Adam | epoch: 005 | loss: 0.57871 - acc: 0.6747 -- iter: 11136/20250\n"
     ]
    },
    {
     "name": "stdout",
     "output_type": "stream",
     "text": [
      "Training Step: 1443  | total loss: \u001b[1m\u001b[32m0.58468\u001b[0m\u001b[0m | time: 44.003s\n\u001b[2K\r| Adam | epoch: 005 | loss: 0.58468 - acc: 0.6682 -- iter: 11200/20250\n"
     ]
    },
    {
     "name": "stdout",
     "output_type": "stream",
     "text": [
      "Training Step: 1444  | total loss: \u001b[1m\u001b[32m0.58057\u001b[0m\u001b[0m | time: 44.243s\n\u001b[2K\r| Adam | epoch: 005 | loss: 0.58057 - acc: 0.6701 -- iter: 11264/20250\n"
     ]
    },
    {
     "name": "stdout",
     "output_type": "stream",
     "text": [
      "Training Step: 1445  | total loss: \u001b[1m\u001b[32m0.58183\u001b[0m\u001b[0m | time: 44.490s\n\u001b[2K\r| Adam | epoch: 005 | loss: 0.58183 - acc: 0.6625 -- iter: 11328/20250\n"
     ]
    },
    {
     "name": "stdout",
     "output_type": "stream",
     "text": [
      "Training Step: 1446  | total loss: \u001b[1m\u001b[32m0.58147\u001b[0m\u001b[0m | time: 44.741s\n\u001b[2K\r| Adam | epoch: 005 | loss: 0.58147 - acc: 0.6681 -- iter: 11392/20250\n"
     ]
    },
    {
     "name": "stdout",
     "output_type": "stream",
     "text": [
      "Training Step: 1447  | total loss: \u001b[1m\u001b[32m0.58143\u001b[0m\u001b[0m | time: 45.016s\n\u001b[2K\r| Adam | epoch: 005 | loss: 0.58143 - acc: 0.6622 -- iter: 11456/20250\n"
     ]
    },
    {
     "name": "stdout",
     "output_type": "stream",
     "text": [
      "Training Step: 1448  | total loss: \u001b[1m\u001b[32m0.58181\u001b[0m\u001b[0m | time: 45.297s\n\u001b[2K\r| Adam | epoch: 005 | loss: 0.58181 - acc: 0.6585 -- iter: 11520/20250\n"
     ]
    },
    {
     "name": "stdout",
     "output_type": "stream",
     "text": [
      "Training Step: 1449  | total loss: \u001b[1m\u001b[32m0.58256\u001b[0m\u001b[0m | time: 45.543s\n\u001b[2K\r| Adam | epoch: 005 | loss: 0.58256 - acc: 0.6536 -- iter: 11584/20250\n"
     ]
    },
    {
     "name": "stdout",
     "output_type": "stream",
     "text": [
      "Training Step: 1450  | total loss: \u001b[1m\u001b[32m0.58737\u001b[0m\u001b[0m | time: 45.790s\n\u001b[2K\r| Adam | epoch: 005 | loss: 0.58737 - acc: 0.6492 -- iter: 11648/20250\n"
     ]
    },
    {
     "name": "stdout",
     "output_type": "stream",
     "text": [
      "Training Step: 1451  | total loss: \u001b[1m\u001b[32m0.59469\u001b[0m\u001b[0m | time: 46.042s\n\u001b[2K\r| Adam | epoch: 005 | loss: 0.59469 - acc: 0.6374 -- iter: 11712/20250\n"
     ]
    },
    {
     "name": "stdout",
     "output_type": "stream",
     "text": [
      "Training Step: 1452  | total loss: \u001b[1m\u001b[32m0.59194\u001b[0m\u001b[0m | time: 46.292s\n\u001b[2K\r| Adam | epoch: 005 | loss: 0.59194 - acc: 0.6408 -- iter: 11776/20250\n"
     ]
    },
    {
     "name": "stdout",
     "output_type": "stream",
     "text": [
      "Training Step: 1453  | total loss: \u001b[1m\u001b[32m0.59493\u001b[0m\u001b[0m | time: 46.543s\n\u001b[2K\r| Adam | epoch: 005 | loss: 0.59493 - acc: 0.6377 -- iter: 11840/20250\n"
     ]
    },
    {
     "name": "stdout",
     "output_type": "stream",
     "text": [
      "Training Step: 1454  | total loss: \u001b[1m\u001b[32m0.59404\u001b[0m\u001b[0m | time: 46.789s\n\u001b[2K\r| Adam | epoch: 005 | loss: 0.59404 - acc: 0.6427 -- iter: 11904/20250\n"
     ]
    },
    {
     "name": "stdout",
     "output_type": "stream",
     "text": [
      "Training Step: 1455  | total loss: \u001b[1m\u001b[32m0.58531\u001b[0m\u001b[0m | time: 47.040s\n\u001b[2K\r| Adam | epoch: 005 | loss: 0.58531 - acc: 0.6550 -- iter: 11968/20250\n"
     ]
    },
    {
     "name": "stdout",
     "output_type": "stream",
     "text": [
      "Training Step: 1456  | total loss: \u001b[1m\u001b[32m0.58160\u001b[0m\u001b[0m | time: 47.287s\n\u001b[2K\r| Adam | epoch: 005 | loss: 0.58160 - acc: 0.6598 -- iter: 12032/20250\n"
     ]
    },
    {
     "name": "stdout",
     "output_type": "stream",
     "text": [
      "Training Step: 1457  | total loss: \u001b[1m\u001b[32m0.58352\u001b[0m\u001b[0m | time: 47.568s\n\u001b[2K\r| Adam | epoch: 005 | loss: 0.58352 - acc: 0.6657 -- iter: 12096/20250\n"
     ]
    },
    {
     "name": "stdout",
     "output_type": "stream",
     "text": [
      "Training Step: 1458  | total loss: \u001b[1m\u001b[32m0.58626\u001b[0m\u001b[0m | time: 47.825s\n\u001b[2K\r| Adam | epoch: 005 | loss: 0.58626 - acc: 0.6647 -- iter: 12160/20250\n"
     ]
    },
    {
     "name": "stdout",
     "output_type": "stream",
     "text": [
      "Training Step: 1459  | total loss: \u001b[1m\u001b[32m0.57961\u001b[0m\u001b[0m | time: 48.072s\n\u001b[2K\r| Adam | epoch: 005 | loss: 0.57961 - acc: 0.6654 -- iter: 12224/20250\n"
     ]
    },
    {
     "name": "stdout",
     "output_type": "stream",
     "text": [
      "Training Step: 1460  | total loss: \u001b[1m\u001b[32m0.57639\u001b[0m\u001b[0m | time: 48.322s\n\u001b[2K\r| Adam | epoch: 005 | loss: 0.57639 - acc: 0.6723 -- iter: 12288/20250\n"
     ]
    },
    {
     "name": "stdout",
     "output_type": "stream",
     "text": [
      "Training Step: 1461  | total loss: \u001b[1m\u001b[32m0.57272\u001b[0m\u001b[0m | time: 48.578s\n\u001b[2K\r| Adam | epoch: 005 | loss: 0.57272 - acc: 0.6864 -- iter: 12352/20250\n"
     ]
    },
    {
     "name": "stdout",
     "output_type": "stream",
     "text": [
      "Training Step: 1462  | total loss: \u001b[1m\u001b[32m0.56908\u001b[0m\u001b[0m | time: 48.832s\n\u001b[2K\r| Adam | epoch: 005 | loss: 0.56908 - acc: 0.6990 -- iter: 12416/20250\n"
     ]
    },
    {
     "name": "stdout",
     "output_type": "stream",
     "text": [
      "Training Step: 1463  | total loss: \u001b[1m\u001b[32m0.56195\u001b[0m\u001b[0m | time: 49.084s\n\u001b[2K\r| Adam | epoch: 005 | loss: 0.56195 - acc: 0.7134 -- iter: 12480/20250\n"
     ]
    },
    {
     "name": "stdout",
     "output_type": "stream",
     "text": [
      "Training Step: 1464  | total loss: \u001b[1m\u001b[32m0.55799\u001b[0m\u001b[0m | time: 49.340s\n\u001b[2K\r| Adam | epoch: 005 | loss: 0.55799 - acc: 0.7234 -- iter: 12544/20250\n"
     ]
    },
    {
     "name": "stdout",
     "output_type": "stream",
     "text": [
      "Training Step: 1465  | total loss: \u001b[1m\u001b[32m0.55265\u001b[0m\u001b[0m | time: 49.580s\n\u001b[2K\r| Adam | epoch: 005 | loss: 0.55265 - acc: 0.7245 -- iter: 12608/20250\n"
     ]
    },
    {
     "name": "stdout",
     "output_type": "stream",
     "text": [
      "Training Step: 1466  | total loss: \u001b[1m\u001b[32m0.54744\u001b[0m\u001b[0m | time: 49.824s\n\u001b[2K\r| Adam | epoch: 005 | loss: 0.54744 - acc: 0.7364 -- iter: 12672/20250\n"
     ]
    },
    {
     "name": "stdout",
     "output_type": "stream",
     "text": [
      "Training Step: 1467  | total loss: \u001b[1m\u001b[32m0.53767\u001b[0m\u001b[0m | time: 50.069s\n\u001b[2K\r| Adam | epoch: 005 | loss: 0.53767 - acc: 0.7471 -- iter: 12736/20250\n"
     ]
    },
    {
     "name": "stdout",
     "output_type": "stream",
     "text": [
      "Training Step: 1468  | total loss: \u001b[1m\u001b[32m0.53493\u001b[0m\u001b[0m | time: 50.323s\n\u001b[2K\r| Adam | epoch: 005 | loss: 0.53493 - acc: 0.7474 -- iter: 12800/20250\n"
     ]
    },
    {
     "name": "stdout",
     "output_type": "stream",
     "text": [
      "Training Step: 1469  | total loss: \u001b[1m\u001b[32m0.53041\u001b[0m\u001b[0m | time: 50.569s\n\u001b[2K\r| Adam | epoch: 005 | loss: 0.53041 - acc: 0.7414 -- iter: 12864/20250\n"
     ]
    },
    {
     "name": "stdout",
     "output_type": "stream",
     "text": [
      "Training Step: 1470  | total loss: \u001b[1m\u001b[32m0.53376\u001b[0m\u001b[0m | time: 50.818s\n\u001b[2K\r| Adam | epoch: 005 | loss: 0.53376 - acc: 0.7345 -- iter: 12928/20250\n"
     ]
    },
    {
     "name": "stdout",
     "output_type": "stream",
     "text": [
      "Training Step: 1471  | total loss: \u001b[1m\u001b[32m0.53899\u001b[0m\u001b[0m | time: 51.070s\n\u001b[2K\r| Adam | epoch: 005 | loss: 0.53899 - acc: 0.7173 -- iter: 12992/20250\n"
     ]
    },
    {
     "name": "stdout",
     "output_type": "stream",
     "text": [
      "Training Step: 1472  | total loss: \u001b[1m\u001b[32m0.54238\u001b[0m\u001b[0m | time: 51.355s\n\u001b[2K\r| Adam | epoch: 005 | loss: 0.54238 - acc: 0.7159 -- iter: 13056/20250\n"
     ]
    },
    {
     "name": "stdout",
     "output_type": "stream",
     "text": [
      "Training Step: 1473  | total loss: \u001b[1m\u001b[32m0.54712\u001b[0m\u001b[0m | time: 51.606s\n\u001b[2K\r| Adam | epoch: 005 | loss: 0.54712 - acc: 0.7099 -- iter: 13120/20250\n"
     ]
    },
    {
     "name": "stdout",
     "output_type": "stream",
     "text": [
      "Training Step: 1474  | total loss: \u001b[1m\u001b[32m0.54616\u001b[0m\u001b[0m | time: 51.856s\n\u001b[2K\r| Adam | epoch: 005 | loss: 0.54616 - acc: 0.7123 -- iter: 13184/20250\n"
     ]
    },
    {
     "name": "stdout",
     "output_type": "stream",
     "text": [
      "Training Step: 1475  | total loss: \u001b[1m\u001b[32m0.54324\u001b[0m\u001b[0m | time: 52.107s\n\u001b[2K\r| Adam | epoch: 005 | loss: 0.54324 - acc: 0.7145 -- iter: 13248/20250\n"
     ]
    },
    {
     "name": "stdout",
     "output_type": "stream",
     "text": [
      "Training Step: 1476  | total loss: \u001b[1m\u001b[32m0.55274\u001b[0m\u001b[0m | time: 52.358s\n\u001b[2K\r| Adam | epoch: 005 | loss: 0.55274 - acc: 0.6993 -- iter: 13312/20250\n"
     ]
    },
    {
     "name": "stdout",
     "output_type": "stream",
     "text": [
      "Training Step: 1477  | total loss: \u001b[1m\u001b[32m0.55669\u001b[0m\u001b[0m | time: 52.598s\n\u001b[2K\r| Adam | epoch: 005 | loss: 0.55669 - acc: 0.6950 -- iter: 13376/20250\n"
     ]
    },
    {
     "name": "stdout",
     "output_type": "stream",
     "text": [
      "Training Step: 1478  | total loss: \u001b[1m\u001b[32m0.56822\u001b[0m\u001b[0m | time: 52.843s\n\u001b[2K\r| Adam | epoch: 005 | loss: 0.56822 - acc: 0.6833 -- iter: 13440/20250\n"
     ]
    },
    {
     "name": "stdout",
     "output_type": "stream",
     "text": [
      "Training Step: 1479  | total loss: \u001b[1m\u001b[32m0.57299\u001b[0m\u001b[0m | time: 53.096s\n\u001b[2K\r| Adam | epoch: 005 | loss: 0.57299 - acc: 0.6806 -- iter: 13504/20250\n"
     ]
    },
    {
     "name": "stdout",
     "output_type": "stream",
     "text": [
      "Training Step: 1480  | total loss: \u001b[1m\u001b[32m0.56472\u001b[0m\u001b[0m | time: 53.337s\n\u001b[2K\r| Adam | epoch: 005 | loss: 0.56472 - acc: 0.6907 -- iter: 13568/20250\n"
     ]
    },
    {
     "name": "stdout",
     "output_type": "stream",
     "text": [
      "Training Step: 1481  | total loss: \u001b[1m\u001b[32m0.56032\u001b[0m\u001b[0m | time: 53.590s\n\u001b[2K\r| Adam | epoch: 005 | loss: 0.56032 - acc: 0.6935 -- iter: 13632/20250\n"
     ]
    },
    {
     "name": "stdout",
     "output_type": "stream",
     "text": [
      "Training Step: 1482  | total loss: \u001b[1m\u001b[32m0.56411\u001b[0m\u001b[0m | time: 53.858s\n\u001b[2K\r| Adam | epoch: 005 | loss: 0.56411 - acc: 0.6913 -- iter: 13696/20250\n"
     ]
    },
    {
     "name": "stdout",
     "output_type": "stream",
     "text": [
      "Training Step: 1483  | total loss: \u001b[1m\u001b[32m0.56215\u001b[0m\u001b[0m | time: 54.114s\n\u001b[2K\r| Adam | epoch: 005 | loss: 0.56215 - acc: 0.6910 -- iter: 13760/20250\n"
     ]
    },
    {
     "name": "stdout",
     "output_type": "stream",
     "text": [
      "Training Step: 1484  | total loss: \u001b[1m\u001b[32m0.56182\u001b[0m\u001b[0m | time: 54.362s\n\u001b[2K\r| Adam | epoch: 005 | loss: 0.56182 - acc: 0.6937 -- iter: 13824/20250\n"
     ]
    },
    {
     "name": "stdout",
     "output_type": "stream",
     "text": [
      "Training Step: 1485  | total loss: \u001b[1m\u001b[32m0.56350\u001b[0m\u001b[0m | time: 54.609s\n\u001b[2K\r| Adam | epoch: 005 | loss: 0.56350 - acc: 0.6947 -- iter: 13888/20250\n"
     ]
    },
    {
     "name": "stdout",
     "output_type": "stream",
     "text": [
      "Training Step: 1486  | total loss: \u001b[1m\u001b[32m0.57111\u001b[0m\u001b[0m | time: 54.854s\n\u001b[2K\r| Adam | epoch: 005 | loss: 0.57111 - acc: 0.6893 -- iter: 13952/20250\n"
     ]
    },
    {
     "name": "stdout",
     "output_type": "stream",
     "text": [
      "Training Step: 1487  | total loss: \u001b[1m\u001b[32m0.57402\u001b[0m\u001b[0m | time: 55.102s\n\u001b[2K\r| Adam | epoch: 005 | loss: 0.57402 - acc: 0.6844 -- iter: 14016/20250\n"
     ]
    },
    {
     "name": "stdout",
     "output_type": "stream",
     "text": [
      "Training Step: 1488  | total loss: \u001b[1m\u001b[32m0.56863\u001b[0m\u001b[0m | time: 55.345s\n\u001b[2K\r| Adam | epoch: 005 | loss: 0.56863 - acc: 0.6894 -- iter: 14080/20250\n"
     ]
    },
    {
     "name": "stdout",
     "output_type": "stream",
     "text": [
      "Training Step: 1489  | total loss: \u001b[1m\u001b[32m0.57086\u001b[0m\u001b[0m | time: 55.594s\n\u001b[2K\r| Adam | epoch: 005 | loss: 0.57086 - acc: 0.6845 -- iter: 14144/20250\n"
     ]
    },
    {
     "name": "stdout",
     "output_type": "stream",
     "text": [
      "Training Step: 1490  | total loss: \u001b[1m\u001b[32m0.56788\u001b[0m\u001b[0m | time: 55.853s\n\u001b[2K\r| Adam | epoch: 005 | loss: 0.56788 - acc: 0.6833 -- iter: 14208/20250\n"
     ]
    },
    {
     "name": "stdout",
     "output_type": "stream",
     "text": [
      "Training Step: 1491  | total loss: \u001b[1m\u001b[32m0.56907\u001b[0m\u001b[0m | time: 56.117s\n\u001b[2K\r| Adam | epoch: 005 | loss: 0.56907 - acc: 0.6821 -- iter: 14272/20250\n"
     ]
    },
    {
     "name": "stdout",
     "output_type": "stream",
     "text": [
      "Training Step: 1492  | total loss: \u001b[1m\u001b[32m0.57355\u001b[0m\u001b[0m | time: 56.366s\n\u001b[2K\r| Adam | epoch: 005 | loss: 0.57355 - acc: 0.6780 -- iter: 14336/20250\n"
     ]
    },
    {
     "name": "stdout",
     "output_type": "stream",
     "text": [
      "Training Step: 1493  | total loss: \u001b[1m\u001b[32m0.57433\u001b[0m\u001b[0m | time: 56.616s\n\u001b[2K\r| Adam | epoch: 005 | loss: 0.57433 - acc: 0.6727 -- iter: 14400/20250\n"
     ]
    },
    {
     "name": "stdout",
     "output_type": "stream",
     "text": [
      "Training Step: 1494  | total loss: \u001b[1m\u001b[32m0.56750\u001b[0m\u001b[0m | time: 56.867s\n\u001b[2K\r| Adam | epoch: 005 | loss: 0.56750 - acc: 0.6788 -- iter: 14464/20250\n"
     ]
    },
    {
     "name": "stdout",
     "output_type": "stream",
     "text": [
      "Training Step: 1495  | total loss: \u001b[1m\u001b[32m0.55852\u001b[0m\u001b[0m | time: 57.117s\n\u001b[2K\r| Adam | epoch: 005 | loss: 0.55852 - acc: 0.6875 -- iter: 14528/20250\n"
     ]
    },
    {
     "name": "stdout",
     "output_type": "stream",
     "text": [
      "Training Step: 1496  | total loss: \u001b[1m\u001b[32m0.55664\u001b[0m\u001b[0m | time: 57.371s\n\u001b[2K\r| Adam | epoch: 005 | loss: 0.55664 - acc: 0.6969 -- iter: 14592/20250\n"
     ]
    },
    {
     "name": "stdout",
     "output_type": "stream",
     "text": [
      "Training Step: 1497  | total loss: \u001b[1m\u001b[32m0.54913\u001b[0m\u001b[0m | time: 57.611s\n\u001b[2K\r| Adam | epoch: 005 | loss: 0.54913 - acc: 0.7085 -- iter: 14656/20250\n"
     ]
    },
    {
     "name": "stdout",
     "output_type": "stream",
     "text": [
      "Training Step: 1498  | total loss: \u001b[1m\u001b[32m0.55139\u001b[0m\u001b[0m | time: 57.853s\n\u001b[2K\r| Adam | epoch: 005 | loss: 0.55139 - acc: 0.7079 -- iter: 14720/20250\n"
     ]
    },
    {
     "name": "stdout",
     "output_type": "stream",
     "text": [
      "Training Step: 1499  | total loss: \u001b[1m\u001b[32m0.54346\u001b[0m\u001b[0m | time: 58.097s\n\u001b[2K\r| Adam | epoch: 005 | loss: 0.54346 - acc: 0.7121 -- iter: 14784/20250\n"
     ]
    },
    {
     "name": "stdout",
     "output_type": "stream",
     "text": [
      "Training Step: 1500  | total loss: \u001b[1m\u001b[32m0.54639\u001b[0m\u001b[0m | time: 58.348s\n\u001b[2K\r| Adam | epoch: 005 | loss: 0.54639 - acc: 0.7112 -- iter: 14848/20250\n"
     ]
    },
    {
     "name": "stdout",
     "output_type": "stream",
     "text": [
      "Training Step: 1501  | total loss: \u001b[1m\u001b[32m0.53978\u001b[0m\u001b[0m | time: 58.615s\n\u001b[2K\r| Adam | epoch: 005 | loss: 0.53978 - acc: 0.7198 -- iter: 14912/20250\n"
     ]
    },
    {
     "name": "stdout",
     "output_type": "stream",
     "text": [
      "Training Step: 1502  | total loss: \u001b[1m\u001b[32m0.53940\u001b[0m\u001b[0m | time: 58.887s\n\u001b[2K\r| Adam | epoch: 005 | loss: 0.53940 - acc: 0.7181 -- iter: 14976/20250\n"
     ]
    },
    {
     "name": "stdout",
     "output_type": "stream",
     "text": [
      "Training Step: 1503  | total loss: \u001b[1m\u001b[32m0.54185\u001b[0m\u001b[0m | time: 59.129s\n\u001b[2K\r| Adam | epoch: 005 | loss: 0.54185 - acc: 0.7182 -- iter: 15040/20250\n"
     ]
    },
    {
     "name": "stdout",
     "output_type": "stream",
     "text": [
      "Training Step: 1504  | total loss: \u001b[1m\u001b[32m0.53420\u001b[0m\u001b[0m | time: 59.378s\n\u001b[2K\r| Adam | epoch: 005 | loss: 0.53420 - acc: 0.7245 -- iter: 15104/20250\n"
     ]
    },
    {
     "name": "stdout",
     "output_type": "stream",
     "text": [
      "Training Step: 1505  | total loss: \u001b[1m\u001b[32m0.52703\u001b[0m\u001b[0m | time: 59.622s\n\u001b[2K\r| Adam | epoch: 005 | loss: 0.52703 - acc: 0.7333 -- iter: 15168/20250\n"
     ]
    },
    {
     "name": "stdout",
     "output_type": "stream",
     "text": [
      "Training Step: 1506  | total loss: \u001b[1m\u001b[32m0.52489\u001b[0m\u001b[0m | time: 59.871s\n\u001b[2K\r| Adam | epoch: 005 | loss: 0.52489 - acc: 0.7350 -- iter: 15232/20250\n"
     ]
    },
    {
     "name": "stdout",
     "output_type": "stream",
     "text": [
      "Training Step: 1507  | total loss: \u001b[1m\u001b[32m0.52477\u001b[0m\u001b[0m | time: 60.119s\n\u001b[2K\r| Adam | epoch: 005 | loss: 0.52477 - acc: 0.7396 -- iter: 15296/20250\n"
     ]
    },
    {
     "name": "stdout",
     "output_type": "stream",
     "text": [
      "Training Step: 1508  | total loss: \u001b[1m\u001b[32m0.52090\u001b[0m\u001b[0m | time: 60.371s\n\u001b[2K\r| Adam | epoch: 005 | loss: 0.52090 - acc: 0.7391 -- iter: 15360/20250\n"
     ]
    },
    {
     "name": "stdout",
     "output_type": "stream",
     "text": [
      "Training Step: 1509  | total loss: \u001b[1m\u001b[32m0.53517\u001b[0m\u001b[0m | time: 60.618s\n\u001b[2K\r| Adam | epoch: 005 | loss: 0.53517 - acc: 0.7355 -- iter: 15424/20250\n"
     ]
    },
    {
     "name": "stdout",
     "output_type": "stream",
     "text": [
      "Training Step: 1510  | total loss: \u001b[1m\u001b[32m0.53688\u001b[0m\u001b[0m | time: 60.876s\n\u001b[2K\r| Adam | epoch: 005 | loss: 0.53688 - acc: 0.7447 -- iter: 15488/20250\n"
     ]
    },
    {
     "name": "stdout",
     "output_type": "stream",
     "text": [
      "Training Step: 1511  | total loss: \u001b[1m\u001b[32m0.54055\u001b[0m\u001b[0m | time: 61.144s\n\u001b[2K\r| Adam | epoch: 005 | loss: 0.54055 - acc: 0.7484 -- iter: 15552/20250\n"
     ]
    },
    {
     "name": "stdout",
     "output_type": "stream",
     "text": [
      "Training Step: 1512  | total loss: \u001b[1m\u001b[32m0.54686\u001b[0m\u001b[0m | time: 61.392s\n\u001b[2K\r| Adam | epoch: 005 | loss: 0.54686 - acc: 0.7486 -- iter: 15616/20250\n"
     ]
    },
    {
     "name": "stdout",
     "output_type": "stream",
     "text": [
      "Training Step: 1513  | total loss: \u001b[1m\u001b[32m0.55742\u001b[0m\u001b[0m | time: 61.634s\n\u001b[2K\r| Adam | epoch: 005 | loss: 0.55742 - acc: 0.7456 -- iter: 15680/20250\n"
     ]
    },
    {
     "name": "stdout",
     "output_type": "stream",
     "text": [
      "Training Step: 1514  | total loss: \u001b[1m\u001b[32m0.55637\u001b[0m\u001b[0m | time: 61.882s\n\u001b[2K\r| Adam | epoch: 005 | loss: 0.55637 - acc: 0.7491 -- iter: 15744/20250\n"
     ]
    },
    {
     "name": "stdout",
     "output_type": "stream",
     "text": [
      "Training Step: 1515  | total loss: \u001b[1m\u001b[32m0.55739\u001b[0m\u001b[0m | time: 62.131s\n\u001b[2K\r| Adam | epoch: 005 | loss: 0.55739 - acc: 0.7524 -- iter: 15808/20250\n"
     ]
    },
    {
     "name": "stdout",
     "output_type": "stream",
     "text": [
      "Training Step: 1516  | total loss: \u001b[1m\u001b[32m0.57543\u001b[0m\u001b[0m | time: 62.381s\n\u001b[2K\r| Adam | epoch: 005 | loss: 0.57543 - acc: 0.7490 -- iter: 15872/20250\n"
     ]
    },
    {
     "name": "stdout",
     "output_type": "stream",
     "text": [
      "Training Step: 1517  | total loss: \u001b[1m\u001b[32m0.57182\u001b[0m\u001b[0m | time: 62.632s\n\u001b[2K\r| Adam | epoch: 005 | loss: 0.57182 - acc: 0.7491 -- iter: 15936/20250\n"
     ]
    },
    {
     "name": "stdout",
     "output_type": "stream",
     "text": [
      "Training Step: 1518  | total loss: \u001b[1m\u001b[32m0.56996\u001b[0m\u001b[0m | time: 62.874s\n\u001b[2K\r| Adam | epoch: 005 | loss: 0.56996 - acc: 0.7523 -- iter: 16000/20250\n"
     ]
    },
    {
     "name": "stdout",
     "output_type": "stream",
     "text": [
      "Training Step: 1519  | total loss: \u001b[1m\u001b[32m0.57416\u001b[0m\u001b[0m | time: 63.123s\n\u001b[2K\r| Adam | epoch: 005 | loss: 0.57416 - acc: 0.7490 -- iter: 16064/20250\n"
     ]
    },
    {
     "name": "stdout",
     "output_type": "stream",
     "text": [
      "Training Step: 1520  | total loss: \u001b[1m\u001b[32m0.57347\u001b[0m\u001b[0m | time: 63.381s\n\u001b[2K\r| Adam | epoch: 005 | loss: 0.57347 - acc: 0.7553 -- iter: 16128/20250\n"
     ]
    },
    {
     "name": "stdout",
     "output_type": "stream",
     "text": [
      "Training Step: 1521  | total loss: \u001b[1m\u001b[32m0.56292\u001b[0m\u001b[0m | time: 63.642s\n\u001b[2K\r| Adam | epoch: 005 | loss: 0.56292 - acc: 0.7548 -- iter: 16192/20250\n"
     ]
    },
    {
     "name": "stdout",
     "output_type": "stream",
     "text": [
      "Training Step: 1522  | total loss: \u001b[1m\u001b[32m0.56065\u001b[0m\u001b[0m | time: 63.908s\n\u001b[2K\r| Adam | epoch: 005 | loss: 0.56065 - acc: 0.7574 -- iter: 16256/20250\n"
     ]
    },
    {
     "name": "stdout",
     "output_type": "stream",
     "text": [
      "Training Step: 1523  | total loss: \u001b[1m\u001b[32m0.56088\u001b[0m\u001b[0m | time: 64.150s\n\u001b[2K\r| Adam | epoch: 005 | loss: 0.56088 - acc: 0.7551 -- iter: 16320/20250\n"
     ]
    },
    {
     "name": "stdout",
     "output_type": "stream",
     "text": [
      "Training Step: 1524  | total loss: \u001b[1m\u001b[32m0.56765\u001b[0m\u001b[0m | time: 64.394s\n\u001b[2K\r| Adam | epoch: 005 | loss: 0.56765 - acc: 0.7499 -- iter: 16384/20250\n"
     ]
    },
    {
     "name": "stdout",
     "output_type": "stream",
     "text": [
      "Training Step: 1525  | total loss: \u001b[1m\u001b[32m0.55796\u001b[0m\u001b[0m | time: 64.637s\n\u001b[2K\r| Adam | epoch: 005 | loss: 0.55796 - acc: 0.7546 -- iter: 16448/20250\n"
     ]
    },
    {
     "name": "stdout",
     "output_type": "stream",
     "text": [
      "Training Step: 1526  | total loss: \u001b[1m\u001b[32m0.55927\u001b[0m\u001b[0m | time: 64.892s\n\u001b[2K\r| Adam | epoch: 005 | loss: 0.55927 - acc: 0.7510 -- iter: 16512/20250\n"
     ]
    },
    {
     "name": "stdout",
     "output_type": "stream",
     "text": [
      "Training Step: 1527  | total loss: \u001b[1m\u001b[32m0.55424\u001b[0m\u001b[0m | time: 65.139s\n\u001b[2K\r| Adam | epoch: 005 | loss: 0.55424 - acc: 0.7556 -- iter: 16576/20250\n"
     ]
    },
    {
     "name": "stdout",
     "output_type": "stream",
     "text": [
      "Training Step: 1528  | total loss: \u001b[1m\u001b[32m0.54575\u001b[0m\u001b[0m | time: 65.392s\n\u001b[2K\r| Adam | epoch: 005 | loss: 0.54575 - acc: 0.7597 -- iter: 16640/20250\n"
     ]
    },
    {
     "name": "stdout",
     "output_type": "stream",
     "text": [
      "Training Step: 1529  | total loss: \u001b[1m\u001b[32m0.53402\u001b[0m\u001b[0m | time: 65.643s\n\u001b[2K\r| Adam | epoch: 005 | loss: 0.53402 - acc: 0.7713 -- iter: 16704/20250\n"
     ]
    },
    {
     "name": "stdout",
     "output_type": "stream",
     "text": [
      "Training Step: 1530  | total loss: \u001b[1m\u001b[32m0.52649\u001b[0m\u001b[0m | time: 65.903s\n\u001b[2K\r| Adam | epoch: 005 | loss: 0.52649 - acc: 0.7738 -- iter: 16768/20250\n"
     ]
    },
    {
     "name": "stdout",
     "output_type": "stream",
     "text": [
      "Training Step: 1531  | total loss: \u001b[1m\u001b[32m0.52757\u001b[0m\u001b[0m | time: 66.168s\n\u001b[2K\r| Adam | epoch: 005 | loss: 0.52757 - acc: 0.7730 -- iter: 16832/20250\n"
     ]
    },
    {
     "name": "stdout",
     "output_type": "stream",
     "text": [
      "Training Step: 1532  | total loss: \u001b[1m\u001b[32m0.52121\u001b[0m\u001b[0m | time: 66.415s\n\u001b[2K\r| Adam | epoch: 005 | loss: 0.52121 - acc: 0.7785 -- iter: 16896/20250\n"
     ]
    },
    {
     "name": "stdout",
     "output_type": "stream",
     "text": [
      "Training Step: 1533  | total loss: \u001b[1m\u001b[32m0.52055\u001b[0m\u001b[0m | time: 66.658s\n\u001b[2K\r| Adam | epoch: 005 | loss: 0.52055 - acc: 0.7757 -- iter: 16960/20250\n"
     ]
    },
    {
     "name": "stdout",
     "output_type": "stream",
     "text": [
      "Training Step: 1534  | total loss: \u001b[1m\u001b[32m0.51242\u001b[0m\u001b[0m | time: 66.906s\n\u001b[2K\r| Adam | epoch: 005 | loss: 0.51242 - acc: 0.7778 -- iter: 17024/20250\n"
     ]
    },
    {
     "name": "stdout",
     "output_type": "stream",
     "text": [
      "Training Step: 1535  | total loss: \u001b[1m\u001b[32m0.50926\u001b[0m\u001b[0m | time: 67.150s\n\u001b[2K\r| Adam | epoch: 005 | loss: 0.50926 - acc: 0.7813 -- iter: 17088/20250\n"
     ]
    },
    {
     "name": "stdout",
     "output_type": "stream",
     "text": [
      "Training Step: 1536  | total loss: \u001b[1m\u001b[32m0.49970\u001b[0m\u001b[0m | time: 67.399s\n\u001b[2K\r| Adam | epoch: 005 | loss: 0.49970 - acc: 0.7906 -- iter: 17152/20250\n"
     ]
    },
    {
     "name": "stdout",
     "output_type": "stream",
     "text": [
      "Training Step: 1537  | total loss: \u001b[1m\u001b[32m0.50422\u001b[0m\u001b[0m | time: 67.644s\n\u001b[2K\r| Adam | epoch: 005 | loss: 0.50422 - acc: 0.7881 -- iter: 17216/20250\n"
     ]
    },
    {
     "name": "stdout",
     "output_type": "stream",
     "text": [
      "Training Step: 1538  | total loss: \u001b[1m\u001b[32m0.50136\u001b[0m\u001b[0m | time: 67.893s\n\u001b[2K\r| Adam | epoch: 005 | loss: 0.50136 - acc: 0.7906 -- iter: 17280/20250\n"
     ]
    },
    {
     "name": "stdout",
     "output_type": "stream",
     "text": [
      "Training Step: 1539  | total loss: \u001b[1m\u001b[32m0.49447\u001b[0m\u001b[0m | time: 68.141s\n\u001b[2K\r| Adam | epoch: 005 | loss: 0.49447 - acc: 0.7928 -- iter: 17344/20250\n"
     ]
    },
    {
     "name": "stdout",
     "output_type": "stream",
     "text": [
      "Training Step: 1540  | total loss: \u001b[1m\u001b[32m0.49525\u001b[0m\u001b[0m | time: 68.401s\n\u001b[2K\r| Adam | epoch: 005 | loss: 0.49525 - acc: 0.7916 -- iter: 17408/20250\n"
     ]
    },
    {
     "name": "stdout",
     "output_type": "stream",
     "text": [
      "Training Step: 1541  | total loss: \u001b[1m\u001b[32m0.49992\u001b[0m\u001b[0m | time: 68.654s\n\u001b[2K\r| Adam | epoch: 005 | loss: 0.49992 - acc: 0.7874 -- iter: 17472/20250\n"
     ]
    },
    {
     "name": "stdout",
     "output_type": "stream",
     "text": [
      "Training Step: 1542  | total loss: \u001b[1m\u001b[32m0.50393\u001b[0m\u001b[0m | time: 68.901s\n\u001b[2K\r| Adam | epoch: 005 | loss: 0.50393 - acc: 0.7853 -- iter: 17536/20250\n"
     ]
    },
    {
     "name": "stdout",
     "output_type": "stream",
     "text": [
      "Training Step: 1543  | total loss: \u001b[1m\u001b[32m0.49815\u001b[0m\u001b[0m | time: 69.147s\n\u001b[2K\r| Adam | epoch: 005 | loss: 0.49815 - acc: 0.7927 -- iter: 17600/20250\n"
     ]
    },
    {
     "name": "stdout",
     "output_type": "stream",
     "text": [
      "Training Step: 1544  | total loss: \u001b[1m\u001b[32m0.50745\u001b[0m\u001b[0m | time: 69.387s\n\u001b[2K\r| Adam | epoch: 005 | loss: 0.50745 - acc: 0.7837 -- iter: 17664/20250\n"
     ]
    },
    {
     "name": "stdout",
     "output_type": "stream",
     "text": [
      "Training Step: 1545  | total loss: \u001b[1m\u001b[32m0.50311\u001b[0m\u001b[0m | time: 69.630s\n\u001b[2K\r| Adam | epoch: 005 | loss: 0.50311 - acc: 0.7866 -- iter: 17728/20250\n"
     ]
    },
    {
     "name": "stdout",
     "output_type": "stream",
     "text": [
      "Training Step: 1546  | total loss: \u001b[1m\u001b[32m0.49186\u001b[0m\u001b[0m | time: 69.875s\n\u001b[2K\r| Adam | epoch: 005 | loss: 0.49186 - acc: 0.7970 -- iter: 17792/20250\n"
     ]
    },
    {
     "name": "stdout",
     "output_type": "stream",
     "text": [
      "Training Step: 1547  | total loss: \u001b[1m\u001b[32m0.48920\u001b[0m\u001b[0m | time: 70.124s\n\u001b[2K\r| Adam | epoch: 005 | loss: 0.48920 - acc: 0.7970 -- iter: 17856/20250\n"
     ]
    },
    {
     "name": "stdout",
     "output_type": "stream",
     "text": [
      "Training Step: 1548  | total loss: \u001b[1m\u001b[32m0.49349\u001b[0m\u001b[0m | time: 70.372s\n\u001b[2K\r| Adam | epoch: 005 | loss: 0.49349 - acc: 0.7954 -- iter: 17920/20250\n"
     ]
    },
    {
     "name": "stdout",
     "output_type": "stream",
     "text": [
      "Training Step: 1549  | total loss: \u001b[1m\u001b[32m0.48922\u001b[0m\u001b[0m | time: 70.621s\n\u001b[2K\r| Adam | epoch: 005 | loss: 0.48922 - acc: 0.7987 -- iter: 17984/20250\n"
     ]
    },
    {
     "name": "stdout",
     "output_type": "stream",
     "text": [
      "Training Step: 1550  | total loss: \u001b[1m\u001b[32m0.48909\u001b[0m\u001b[0m | time: 70.879s\n\u001b[2K\r| Adam | epoch: 005 | loss: 0.48909 - acc: 0.7985 -- iter: 18048/20250\n"
     ]
    },
    {
     "name": "stdout",
     "output_type": "stream",
     "text": [
      "Training Step: 1551  | total loss: \u001b[1m\u001b[32m0.51492\u001b[0m\u001b[0m | time: 71.143s\n\u001b[2K\r| Adam | epoch: 005 | loss: 0.51492 - acc: 0.7890 -- iter: 18112/20250\n"
     ]
    },
    {
     "name": "stdout",
     "output_type": "stream",
     "text": [
      "Training Step: 1552  | total loss: \u001b[1m\u001b[32m0.51773\u001b[0m\u001b[0m | time: 71.384s\n\u001b[2K\r| Adam | epoch: 005 | loss: 0.51773 - acc: 0.7882 -- iter: 18176/20250\n"
     ]
    },
    {
     "name": "stdout",
     "output_type": "stream",
     "text": [
      "Training Step: 1553  | total loss: \u001b[1m\u001b[32m0.51230\u001b[0m\u001b[0m | time: 71.628s\n\u001b[2K\r| Adam | epoch: 005 | loss: 0.51230 - acc: 0.7922 -- iter: 18240/20250\n"
     ]
    },
    {
     "name": "stdout",
     "output_type": "stream",
     "text": [
      "Training Step: 1554  | total loss: \u001b[1m\u001b[32m0.50775\u001b[0m\u001b[0m | time: 71.870s\n\u001b[2K\r| Adam | epoch: 005 | loss: 0.50775 - acc: 0.7942 -- iter: 18304/20250\n"
     ]
    },
    {
     "name": "stdout",
     "output_type": "stream",
     "text": [
      "Training Step: 1555  | total loss: \u001b[1m\u001b[32m0.50884\u001b[0m\u001b[0m | time: 72.114s\n\u001b[2K\r| Adam | epoch: 005 | loss: 0.50884 - acc: 0.7945 -- iter: 18368/20250\n"
     ]
    },
    {
     "name": "stdout",
     "output_type": "stream",
     "text": [
      "Training Step: 1556  | total loss: \u001b[1m\u001b[32m0.50262\u001b[0m\u001b[0m | time: 72.373s\n\u001b[2K\r| Adam | epoch: 005 | loss: 0.50262 - acc: 0.7978 -- iter: 18432/20250\n"
     ]
    },
    {
     "name": "stdout",
     "output_type": "stream",
     "text": [
      "Training Step: 1557  | total loss: \u001b[1m\u001b[32m0.48764\u001b[0m\u001b[0m | time: 72.627s\n\u001b[2K\r| Adam | epoch: 005 | loss: 0.48764 - acc: 0.8056 -- iter: 18496/20250\n"
     ]
    },
    {
     "name": "stdout",
     "output_type": "stream",
     "text": [
      "Training Step: 1558  | total loss: \u001b[1m\u001b[32m0.48809\u001b[0m\u001b[0m | time: 72.877s\n\u001b[2K\r| Adam | epoch: 005 | loss: 0.48809 - acc: 0.8031 -- iter: 18560/20250\n"
     ]
    },
    {
     "name": "stdout",
     "output_type": "stream",
     "text": [
      "Training Step: 1559  | total loss: \u001b[1m\u001b[32m0.48541\u001b[0m\u001b[0m | time: 73.129s\n\u001b[2K\r| Adam | epoch: 005 | loss: 0.48541 - acc: 0.8041 -- iter: 18624/20250\n"
     ]
    },
    {
     "name": "stdout",
     "output_type": "stream",
     "text": [
      "Training Step: 1560  | total loss: \u001b[1m\u001b[32m0.49082\u001b[0m\u001b[0m | time: 73.402s\n\u001b[2K\r| Adam | epoch: 005 | loss: 0.49082 - acc: 0.7971 -- iter: 18688/20250\n"
     ]
    },
    {
     "name": "stdout",
     "output_type": "stream",
     "text": [
      "Training Step: 1561  | total loss: \u001b[1m\u001b[32m0.49446\u001b[0m\u001b[0m | time: 73.674s\n\u001b[2K\r| Adam | epoch: 005 | loss: 0.49446 - acc: 0.7924 -- iter: 18752/20250\n"
     ]
    },
    {
     "name": "stdout",
     "output_type": "stream",
     "text": [
      "Training Step: 1562  | total loss: \u001b[1m\u001b[32m0.49325\u001b[0m\u001b[0m | time: 73.917s\n\u001b[2K\r| Adam | epoch: 005 | loss: 0.49325 - acc: 0.7928 -- iter: 18816/20250\n"
     ]
    },
    {
     "name": "stdout",
     "output_type": "stream",
     "text": [
      "Training Step: 1563  | total loss: \u001b[1m\u001b[32m0.48308\u001b[0m\u001b[0m | time: 74.182s\n\u001b[2K\r| Adam | epoch: 005 | loss: 0.48308 - acc: 0.7979 -- iter: 18880/20250\n"
     ]
    },
    {
     "name": "stdout",
     "output_type": "stream",
     "text": [
      "Training Step: 1564  | total loss: \u001b[1m\u001b[32m0.48008\u001b[0m\u001b[0m | time: 74.459s\n\u001b[2K\r| Adam | epoch: 005 | loss: 0.48008 - acc: 0.8025 -- iter: 18944/20250\n"
     ]
    },
    {
     "name": "stdout",
     "output_type": "stream",
     "text": [
      "Training Step: 1565  | total loss: \u001b[1m\u001b[32m0.47488\u001b[0m\u001b[0m | time: 74.710s\n\u001b[2K\r| Adam | epoch: 005 | loss: 0.47488 - acc: 0.8051 -- iter: 19008/20250\n"
     ]
    },
    {
     "name": "stdout",
     "output_type": "stream",
     "text": [
      "Training Step: 1566  | total loss: \u001b[1m\u001b[32m0.47004\u001b[0m\u001b[0m | time: 74.962s\n\u001b[2K\r| Adam | epoch: 005 | loss: 0.47004 - acc: 0.8074 -- iter: 19072/20250\n"
     ]
    },
    {
     "name": "stdout",
     "output_type": "stream",
     "text": [
      "Training Step: 1567  | total loss: \u001b[1m\u001b[32m0.47381\u001b[0m\u001b[0m | time: 75.202s\n\u001b[2K\r| Adam | epoch: 005 | loss: 0.47381 - acc: 0.8063 -- iter: 19136/20250\n"
     ]
    },
    {
     "name": "stdout",
     "output_type": "stream",
     "text": [
      "Training Step: 1568  | total loss: \u001b[1m\u001b[32m0.46740\u001b[0m\u001b[0m | time: 75.460s\n\u001b[2K\r| Adam | epoch: 005 | loss: 0.46740 - acc: 0.8116 -- iter: 19200/20250\n"
     ]
    },
    {
     "name": "stdout",
     "output_type": "stream",
     "text": [
      "Training Step: 1569  | total loss: \u001b[1m\u001b[32m0.47379\u001b[0m\u001b[0m | time: 75.719s\n\u001b[2K\r| Adam | epoch: 005 | loss: 0.47379 - acc: 0.8070 -- iter: 19264/20250\n"
     ]
    },
    {
     "name": "stdout",
     "output_type": "stream",
     "text": [
      "Training Step: 1570  | total loss: \u001b[1m\u001b[32m0.46689\u001b[0m\u001b[0m | time: 75.990s\n\u001b[2K\r| Adam | epoch: 005 | loss: 0.46689 - acc: 0.8123 -- iter: 19328/20250\n"
     ]
    },
    {
     "name": "stdout",
     "output_type": "stream",
     "text": [
      "Training Step: 1571  | total loss: \u001b[1m\u001b[32m0.47053\u001b[0m\u001b[0m | time: 76.253s\n\u001b[2K\r| Adam | epoch: 005 | loss: 0.47053 - acc: 0.8092 -- iter: 19392/20250\n"
     ]
    },
    {
     "name": "stdout",
     "output_type": "stream",
     "text": [
      "Training Step: 1572  | total loss: \u001b[1m\u001b[32m0.47022\u001b[0m\u001b[0m | time: 76.504s\n\u001b[2K\r| Adam | epoch: 005 | loss: 0.47022 - acc: 0.8079 -- iter: 19456/20250\n"
     ]
    },
    {
     "name": "stdout",
     "output_type": "stream",
     "text": [
      "Training Step: 1573  | total loss: \u001b[1m\u001b[32m0.46012\u001b[0m\u001b[0m | time: 76.758s\n\u001b[2K\r| Adam | epoch: 005 | loss: 0.46012 - acc: 0.8162 -- iter: 19520/20250\n"
     ]
    },
    {
     "name": "stdout",
     "output_type": "stream",
     "text": [
      "Training Step: 1574  | total loss: \u001b[1m\u001b[32m0.46606\u001b[0m\u001b[0m | time: 77.004s\n\u001b[2K\r| Adam | epoch: 005 | loss: 0.46606 - acc: 0.8096 -- iter: 19584/20250\n"
     ]
    },
    {
     "name": "stdout",
     "output_type": "stream",
     "text": [
      "Training Step: 1575  | total loss: \u001b[1m\u001b[32m0.46004\u001b[0m\u001b[0m | time: 77.252s\n\u001b[2K\r| Adam | epoch: 005 | loss: 0.46004 - acc: 0.8146 -- iter: 19648/20250\n"
     ]
    },
    {
     "name": "stdout",
     "output_type": "stream",
     "text": [
      "Training Step: 1576  | total loss: \u001b[1m\u001b[32m0.46852\u001b[0m\u001b[0m | time: 77.503s\n\u001b[2K\r| Adam | epoch: 005 | loss: 0.46852 - acc: 0.8081 -- iter: 19712/20250\n"
     ]
    },
    {
     "name": "stdout",
     "output_type": "stream",
     "text": [
      "Training Step: 1577  | total loss: \u001b[1m\u001b[32m0.46537\u001b[0m\u001b[0m | time: 77.756s\n\u001b[2K\r| Adam | epoch: 005 | loss: 0.46537 - acc: 0.8117 -- iter: 19776/20250\n"
     ]
    },
    {
     "name": "stdout",
     "output_type": "stream",
     "text": [
      "Training Step: 1578  | total loss: \u001b[1m\u001b[32m0.47264\u001b[0m\u001b[0m | time: 78.010s\n\u001b[2K\r| Adam | epoch: 005 | loss: 0.47264 - acc: 0.8086 -- iter: 19840/20250\n"
     ]
    },
    {
     "name": "stdout",
     "output_type": "stream",
     "text": [
      "Training Step: 1579  | total loss: \u001b[1m\u001b[32m0.47396\u001b[0m\u001b[0m | time: 78.260s\n\u001b[2K\r| Adam | epoch: 005 | loss: 0.47396 - acc: 0.8028 -- iter: 19904/20250\n"
     ]
    },
    {
     "name": "stdout",
     "output_type": "stream",
     "text": [
      "Training Step: 1580  | total loss: \u001b[1m\u001b[32m0.47059\u001b[0m\u001b[0m | time: 78.521s\n\u001b[2K\r| Adam | epoch: 005 | loss: 0.47059 - acc: 0.8037 -- iter: 19968/20250\n"
     ]
    },
    {
     "name": "stdout",
     "output_type": "stream",
     "text": [
      "Training Step: 1581  | total loss: \u001b[1m\u001b[32m0.46093\u001b[0m\u001b[0m | time: 78.804s\n\u001b[2K\r| Adam | epoch: 005 | loss: 0.46093 - acc: 0.8109 -- iter: 20032/20250\n"
     ]
    },
    {
     "name": "stdout",
     "output_type": "stream",
     "text": [
      "Training Step: 1582  | total loss: \u001b[1m\u001b[32m0.46495\u001b[0m\u001b[0m | time: 79.051s\n\u001b[2K\r| Adam | epoch: 005 | loss: 0.46495 - acc: 0.8063 -- iter: 20096/20250\n"
     ]
    },
    {
     "name": "stdout",
     "output_type": "stream",
     "text": [
      "Training Step: 1583  | total loss: \u001b[1m\u001b[32m0.46436\u001b[0m\u001b[0m | time: 79.301s\n\u001b[2K\r| Adam | epoch: 005 | loss: 0.46436 - acc: 0.8070 -- iter: 20160/20250\n"
     ]
    },
    {
     "name": "stdout",
     "output_type": "stream",
     "text": [
      "Training Step: 1584  | total loss: \u001b[1m\u001b[32m0.46165\u001b[0m\u001b[0m | time: 79.546s\n\u001b[2K\r| Adam | epoch: 005 | loss: 0.46165 - acc: 0.8075 -- iter: 20224/20250\n"
     ]
    },
    {
     "name": "stdout",
     "output_type": "stream",
     "text": [
      "Training Step: 1585  | total loss: \u001b[1m\u001b[32m0.45869\u001b[0m\u001b[0m | time: 81.513s\n\u001b[2K\r| Adam | epoch: 005 | loss: 0.45869 - acc: 0.8080 | val_loss: 0.58953 - val_acc: 0.7427 -- iter: 20250/20250\n--\n"
     ]
    },
    {
     "name": "stdout",
     "output_type": "stream",
     "text": [
      "Training Step: 1586  | total loss: \u001b[1m\u001b[32m0.45746\u001b[0m\u001b[0m | time: 0.249s\n\u001b[2K\r| Adam | epoch: 006 | loss: 0.45746 - acc: 0.8131 -- iter: 00064/20250\n"
     ]
    },
    {
     "name": "stdout",
     "output_type": "stream",
     "text": [
      "Training Step: 1587  | total loss: \u001b[1m\u001b[32m0.45640\u001b[0m\u001b[0m | time: 0.513s\n\u001b[2K\r| Adam | epoch: 006 | loss: 0.45640 - acc: 0.8146 -- iter: 00128/20250\n"
     ]
    },
    {
     "name": "stdout",
     "output_type": "stream",
     "text": [
      "Training Step: 1588  | total loss: \u001b[1m\u001b[32m0.45372\u001b[0m\u001b[0m | time: 0.765s\n\u001b[2K\r| Adam | epoch: 006 | loss: 0.45372 - acc: 0.8176 -- iter: 00192/20250\n"
     ]
    },
    {
     "name": "stdout",
     "output_type": "stream",
     "text": [
      "Training Step: 1589  | total loss: \u001b[1m\u001b[32m0.46383\u001b[0m\u001b[0m | time: 1.014s\n\u001b[2K\r| Adam | epoch: 006 | loss: 0.46383 - acc: 0.8077 -- iter: 00256/20250\n"
     ]
    },
    {
     "name": "stdout",
     "output_type": "stream",
     "text": [
      "Training Step: 1590  | total loss: \u001b[1m\u001b[32m0.47305\u001b[0m\u001b[0m | time: 1.266s\n\u001b[2K\r| Adam | epoch: 006 | loss: 0.47305 - acc: 0.8000 -- iter: 00320/20250\n"
     ]
    },
    {
     "name": "stdout",
     "output_type": "stream",
     "text": [
      "Training Step: 1591  | total loss: \u001b[1m\u001b[32m0.47901\u001b[0m\u001b[0m | time: 1.518s\n\u001b[2K\r| Adam | epoch: 006 | loss: 0.47901 - acc: 0.7969 -- iter: 00384/20250\n"
     ]
    },
    {
     "name": "stdout",
     "output_type": "stream",
     "text": [
      "Training Step: 1592  | total loss: \u001b[1m\u001b[32m0.48367\u001b[0m\u001b[0m | time: 1.766s\n\u001b[2K\r| Adam | epoch: 006 | loss: 0.48367 - acc: 0.7907 -- iter: 00448/20250\n"
     ]
    },
    {
     "name": "stdout",
     "output_type": "stream",
     "text": [
      "Training Step: 1593  | total loss: \u001b[1m\u001b[32m0.49306\u001b[0m\u001b[0m | time: 2.058s\n\u001b[2K\r| Adam | epoch: 006 | loss: 0.49306 - acc: 0.7835 -- iter: 00512/20250\n"
     ]
    },
    {
     "name": "stdout",
     "output_type": "stream",
     "text": [
      "Training Step: 1594  | total loss: \u001b[1m\u001b[32m0.47977\u001b[0m\u001b[0m | time: 2.315s\n\u001b[2K\r| Adam | epoch: 006 | loss: 0.47977 - acc: 0.7942 -- iter: 00576/20250\n"
     ]
    },
    {
     "name": "stdout",
     "output_type": "stream",
     "text": [
      "Training Step: 1595  | total loss: \u001b[1m\u001b[32m0.47384\u001b[0m\u001b[0m | time: 2.577s\n\u001b[2K\r| Adam | epoch: 006 | loss: 0.47384 - acc: 0.7976 -- iter: 00640/20250\n"
     ]
    },
    {
     "name": "stdout",
     "output_type": "stream",
     "text": [
      "Training Step: 1596  | total loss: \u001b[1m\u001b[32m0.48125\u001b[0m\u001b[0m | time: 2.846s\n\u001b[2K\r| Adam | epoch: 006 | loss: 0.48125 - acc: 0.7897 -- iter: 00704/20250\n"
     ]
    },
    {
     "name": "stdout",
     "output_type": "stream",
     "text": [
      "Training Step: 1597  | total loss: \u001b[1m\u001b[32m0.47692\u001b[0m\u001b[0m | time: 3.114s\n\u001b[2K\r| Adam | epoch: 006 | loss: 0.47692 - acc: 0.7951 -- iter: 00768/20250\n"
     ]
    },
    {
     "name": "stdout",
     "output_type": "stream",
     "text": [
      "Training Step: 1598  | total loss: \u001b[1m\u001b[32m0.46954\u001b[0m\u001b[0m | time: 3.366s\n\u001b[2K\r| Adam | epoch: 006 | loss: 0.46954 - acc: 0.8000 -- iter: 00832/20250\n"
     ]
    },
    {
     "name": "stdout",
     "output_type": "stream",
     "text": [
      "Training Step: 1599  | total loss: \u001b[1m\u001b[32m0.46402\u001b[0m\u001b[0m | time: 3.613s\n\u001b[2K\r| Adam | epoch: 006 | loss: 0.46402 - acc: 0.8059 -- iter: 00896/20250\n"
     ]
    },
    {
     "name": "stdout",
     "output_type": "stream",
     "text": [
      "Training Step: 1600  | total loss: \u001b[1m\u001b[32m0.45782\u001b[0m\u001b[0m | time: 3.869s\n\u001b[2K\r| Adam | epoch: 006 | loss: 0.45782 - acc: 0.8113 -- iter: 00960/20250\n"
     ]
    },
    {
     "name": "stdout",
     "output_type": "stream",
     "text": [
      "Training Step: 1601  | total loss: \u001b[1m\u001b[32m0.46008\u001b[0m\u001b[0m | time: 4.119s\n\u001b[2K\r| Adam | epoch: 006 | loss: 0.46008 - acc: 0.8083 -- iter: 01024/20250\n"
     ]
    },
    {
     "name": "stdout",
     "output_type": "stream",
     "text": [
      "Training Step: 1602  | total loss: \u001b[1m\u001b[32m0.45981\u001b[0m\u001b[0m | time: 4.405s\n\u001b[2K\r| Adam | epoch: 006 | loss: 0.45981 - acc: 0.8056 -- iter: 01088/20250\n"
     ]
    },
    {
     "name": "stdout",
     "output_type": "stream",
     "text": [
      "Training Step: 1603  | total loss: \u001b[1m\u001b[32m0.45455\u001b[0m\u001b[0m | time: 4.684s\n\u001b[2K\r| Adam | epoch: 006 | loss: 0.45455 - acc: 0.8094 -- iter: 01152/20250\n"
     ]
    },
    {
     "name": "stdout",
     "output_type": "stream",
     "text": [
      "Training Step: 1604  | total loss: \u001b[1m\u001b[32m0.45576\u001b[0m\u001b[0m | time: 4.932s\n\u001b[2K\r| Adam | epoch: 006 | loss: 0.45576 - acc: 0.8081 -- iter: 01216/20250\n"
     ]
    },
    {
     "name": "stdout",
     "output_type": "stream",
     "text": [
      "Training Step: 1605  | total loss: \u001b[1m\u001b[32m0.46691\u001b[0m\u001b[0m | time: 5.174s\n\u001b[2K\r| Adam | epoch: 006 | loss: 0.46691 - acc: 0.7992 -- iter: 01280/20250\n"
     ]
    },
    {
     "name": "stdout",
     "output_type": "stream",
     "text": [
      "Training Step: 1606  | total loss: \u001b[1m\u001b[32m0.45491\u001b[0m\u001b[0m | time: 5.434s\n\u001b[2K\r| Adam | epoch: 006 | loss: 0.45491 - acc: 0.8068 -- iter: 01344/20250\n"
     ]
    },
    {
     "name": "stdout",
     "output_type": "stream",
     "text": [
      "Training Step: 1607  | total loss: \u001b[1m\u001b[32m0.45078\u001b[0m\u001b[0m | time: 5.684s\n\u001b[2K\r| Adam | epoch: 006 | loss: 0.45078 - acc: 0.8073 -- iter: 01408/20250\n"
     ]
    },
    {
     "name": "stdout",
     "output_type": "stream",
     "text": [
      "Training Step: 1608  | total loss: \u001b[1m\u001b[32m0.45011\u001b[0m\u001b[0m | time: 5.928s\n\u001b[2K\r| Adam | epoch: 006 | loss: 0.45011 - acc: 0.8110 -- iter: 01472/20250\n"
     ]
    },
    {
     "name": "stdout",
     "output_type": "stream",
     "text": [
      "Training Step: 1609  | total loss: \u001b[1m\u001b[32m0.45130\u001b[0m\u001b[0m | time: 6.172s\n\u001b[2K\r| Adam | epoch: 006 | loss: 0.45130 - acc: 0.8127 -- iter: 01536/20250\n"
     ]
    },
    {
     "name": "stdout",
     "output_type": "stream",
     "text": [
      "Training Step: 1610  | total loss: \u001b[1m\u001b[32m0.45862\u001b[0m\u001b[0m | time: 6.414s\n\u001b[2K\r| Adam | epoch: 006 | loss: 0.45862 - acc: 0.8096 -- iter: 01600/20250\n"
     ]
    },
    {
     "name": "stdout",
     "output_type": "stream",
     "text": [
      "Training Step: 1611  | total loss: \u001b[1m\u001b[32m0.46924\u001b[0m\u001b[0m | time: 6.660s\n\u001b[2K\r| Adam | epoch: 006 | loss: 0.46924 - acc: 0.8052 -- iter: 01664/20250\n"
     ]
    },
    {
     "name": "stdout",
     "output_type": "stream",
     "text": [
      "Training Step: 1612  | total loss: \u001b[1m\u001b[32m0.47279\u001b[0m\u001b[0m | time: 6.941s\n\u001b[2K\r| Adam | epoch: 006 | loss: 0.47279 - acc: 0.8028 -- iter: 01728/20250\n"
     ]
    },
    {
     "name": "stdout",
     "output_type": "stream",
     "text": [
      "Training Step: 1613  | total loss: \u001b[1m\u001b[32m0.47850\u001b[0m\u001b[0m | time: 7.222s\n\u001b[2K\r| Adam | epoch: 006 | loss: 0.47850 - acc: 0.8006 -- iter: 01792/20250\n"
     ]
    },
    {
     "name": "stdout",
     "output_type": "stream",
     "text": [
      "Training Step: 1614  | total loss: \u001b[1m\u001b[32m0.48475\u001b[0m\u001b[0m | time: 7.455s\n\u001b[2K\r| Adam | epoch: 006 | loss: 0.48475 - acc: 0.7987 -- iter: 01856/20250\n"
     ]
    },
    {
     "name": "stdout",
     "output_type": "stream",
     "text": [
      "Training Step: 1615  | total loss: \u001b[1m\u001b[32m0.48582\u001b[0m\u001b[0m | time: 7.697s\n\u001b[2K\r| Adam | epoch: 006 | loss: 0.48582 - acc: 0.7938 -- iter: 01920/20250\n"
     ]
    },
    {
     "name": "stdout",
     "output_type": "stream",
     "text": [
      "Training Step: 1616  | total loss: \u001b[1m\u001b[32m0.47661\u001b[0m\u001b[0m | time: 7.944s\n\u001b[2K\r| Adam | epoch: 006 | loss: 0.47661 - acc: 0.7972 -- iter: 01984/20250\n"
     ]
    },
    {
     "name": "stdout",
     "output_type": "stream",
     "text": [
      "Training Step: 1617  | total loss: \u001b[1m\u001b[32m0.47545\u001b[0m\u001b[0m | time: 8.184s\n\u001b[2K\r| Adam | epoch: 006 | loss: 0.47545 - acc: 0.7956 -- iter: 02048/20250\n"
     ]
    },
    {
     "name": "stdout",
     "output_type": "stream",
     "text": [
      "Training Step: 1618  | total loss: \u001b[1m\u001b[32m0.48361\u001b[0m\u001b[0m | time: 8.426s\n\u001b[2K\r| Adam | epoch: 006 | loss: 0.48361 - acc: 0.7911 -- iter: 02112/20250\n"
     ]
    },
    {
     "name": "stdout",
     "output_type": "stream",
     "text": [
      "Training Step: 1619  | total loss: \u001b[1m\u001b[32m0.48051\u001b[0m\u001b[0m | time: 8.668s\n\u001b[2K\r| Adam | epoch: 006 | loss: 0.48051 - acc: 0.7948 -- iter: 02176/20250\n"
     ]
    },
    {
     "name": "stdout",
     "output_type": "stream",
     "text": [
      "Training Step: 1620  | total loss: \u001b[1m\u001b[32m0.47511\u001b[0m\u001b[0m | time: 8.914s\n\u001b[2K\r| Adam | epoch: 006 | loss: 0.47511 - acc: 0.7981 -- iter: 02240/20250\n"
     ]
    },
    {
     "name": "stdout",
     "output_type": "stream",
     "text": [
      "Training Step: 1621  | total loss: \u001b[1m\u001b[32m0.46975\u001b[0m\u001b[0m | time: 9.158s\n\u001b[2K\r| Adam | epoch: 006 | loss: 0.46975 - acc: 0.8042 -- iter: 02304/20250\n"
     ]
    },
    {
     "name": "stdout",
     "output_type": "stream",
     "text": [
      "Training Step: 1622  | total loss: \u001b[1m\u001b[32m0.46592\u001b[0m\u001b[0m | time: 9.431s\n\u001b[2K\r| Adam | epoch: 006 | loss: 0.46592 - acc: 0.8051 -- iter: 02368/20250\n"
     ]
    },
    {
     "name": "stdout",
     "output_type": "stream",
     "text": [
      "Training Step: 1623  | total loss: \u001b[1m\u001b[32m0.45484\u001b[0m\u001b[0m | time: 9.696s\n\u001b[2K\r| Adam | epoch: 006 | loss: 0.45484 - acc: 0.8105 -- iter: 02432/20250\n"
     ]
    },
    {
     "name": "stdout",
     "output_type": "stream",
     "text": [
      "Training Step: 1624  | total loss: \u001b[1m\u001b[32m0.46078\u001b[0m\u001b[0m | time: 9.949s\n\u001b[2K\r| Adam | epoch: 006 | loss: 0.46078 - acc: 0.8107 -- iter: 02496/20250\n"
     ]
    },
    {
     "name": "stdout",
     "output_type": "stream",
     "text": [
      "Training Step: 1625  | total loss: \u001b[1m\u001b[32m0.45579\u001b[0m\u001b[0m | time: 10.199s\n\u001b[2K\r| Adam | epoch: 006 | loss: 0.45579 - acc: 0.8140 -- iter: 02560/20250\n"
     ]
    },
    {
     "name": "stdout",
     "output_type": "stream",
     "text": [
      "Training Step: 1626  | total loss: \u001b[1m\u001b[32m0.46210\u001b[0m\u001b[0m | time: 10.459s\n\u001b[2K\r| Adam | epoch: 006 | loss: 0.46210 - acc: 0.8107 -- iter: 02624/20250\n"
     ]
    },
    {
     "name": "stdout",
     "output_type": "stream",
     "text": [
      "Training Step: 1627  | total loss: \u001b[1m\u001b[32m0.46844\u001b[0m\u001b[0m | time: 10.700s\n\u001b[2K\r| Adam | epoch: 006 | loss: 0.46844 - acc: 0.8062 -- iter: 02688/20250\n"
     ]
    },
    {
     "name": "stdout",
     "output_type": "stream",
     "text": [
      "Training Step: 1628  | total loss: \u001b[1m\u001b[32m0.47608\u001b[0m\u001b[0m | time: 10.939s\n\u001b[2K\r| Adam | epoch: 006 | loss: 0.47608 - acc: 0.7990 -- iter: 02752/20250\n"
     ]
    },
    {
     "name": "stdout",
     "output_type": "stream",
     "text": [
      "Training Step: 1629  | total loss: \u001b[1m\u001b[32m0.48907\u001b[0m\u001b[0m | time: 11.189s\n\u001b[2K\r| Adam | epoch: 006 | loss: 0.48907 - acc: 0.7894 -- iter: 02816/20250\n"
     ]
    },
    {
     "name": "stdout",
     "output_type": "stream",
     "text": [
      "Training Step: 1630  | total loss: \u001b[1m\u001b[32m0.49003\u001b[0m\u001b[0m | time: 11.445s\n\u001b[2K\r| Adam | epoch: 006 | loss: 0.49003 - acc: 0.7902 -- iter: 02880/20250\n"
     ]
    },
    {
     "name": "stdout",
     "output_type": "stream",
     "text": [
      "Training Step: 1631  | total loss: \u001b[1m\u001b[32m0.49957\u001b[0m\u001b[0m | time: 11.692s\n\u001b[2K\r| Adam | epoch: 006 | loss: 0.49957 - acc: 0.7846 -- iter: 02944/20250\n"
     ]
    },
    {
     "name": "stdout",
     "output_type": "stream",
     "text": [
      "Training Step: 1632  | total loss: \u001b[1m\u001b[32m0.50232\u001b[0m\u001b[0m | time: 11.937s\n\u001b[2K\r| Adam | epoch: 006 | loss: 0.50232 - acc: 0.7827 -- iter: 03008/20250\n"
     ]
    },
    {
     "name": "stdout",
     "output_type": "stream",
     "text": [
      "Training Step: 1633  | total loss: \u001b[1m\u001b[32m0.50207\u001b[0m\u001b[0m | time: 12.204s\n\u001b[2K\r| Adam | epoch: 006 | loss: 0.50207 - acc: 0.7826 -- iter: 03072/20250\n"
     ]
    },
    {
     "name": "stdout",
     "output_type": "stream",
     "text": [
      "Training Step: 1634  | total loss: \u001b[1m\u001b[32m0.49451\u001b[0m\u001b[0m | time: 12.454s\n\u001b[2K\r| Adam | epoch: 006 | loss: 0.49451 - acc: 0.7871 -- iter: 03136/20250\n"
     ]
    },
    {
     "name": "stdout",
     "output_type": "stream",
     "text": [
      "Training Step: 1635  | total loss: \u001b[1m\u001b[32m0.49538\u001b[0m\u001b[0m | time: 12.702s\n\u001b[2K\r| Adam | epoch: 006 | loss: 0.49538 - acc: 0.7850 -- iter: 03200/20250\n"
     ]
    },
    {
     "name": "stdout",
     "output_type": "stream",
     "text": [
      "Training Step: 1636  | total loss: \u001b[1m\u001b[32m0.48644\u001b[0m\u001b[0m | time: 12.945s\n\u001b[2K\r| Adam | epoch: 006 | loss: 0.48644 - acc: 0.7908 -- iter: 03264/20250\n"
     ]
    },
    {
     "name": "stdout",
     "output_type": "stream",
     "text": [
      "Training Step: 1637  | total loss: \u001b[1m\u001b[32m0.47460\u001b[0m\u001b[0m | time: 13.189s\n\u001b[2K\r| Adam | epoch: 006 | loss: 0.47460 - acc: 0.7961 -- iter: 03328/20250\n"
     ]
    },
    {
     "name": "stdout",
     "output_type": "stream",
     "text": [
      "Training Step: 1638  | total loss: \u001b[1m\u001b[32m0.47540\u001b[0m\u001b[0m | time: 13.433s\n\u001b[2K\r| Adam | epoch: 006 | loss: 0.47540 - acc: 0.7962 -- iter: 03392/20250\n"
     ]
    },
    {
     "name": "stdout",
     "output_type": "stream",
     "text": [
      "Training Step: 1639  | total loss: \u001b[1m\u001b[32m0.46979\u001b[0m\u001b[0m | time: 13.676s\n\u001b[2K\r| Adam | epoch: 006 | loss: 0.46979 - acc: 0.8025 -- iter: 03456/20250\n"
     ]
    },
    {
     "name": "stdout",
     "output_type": "stream",
     "text": [
      "Training Step: 1640  | total loss: \u001b[1m\u001b[32m0.46787\u001b[0m\u001b[0m | time: 13.926s\n\u001b[2K\r| Adam | epoch: 006 | loss: 0.46787 - acc: 0.8051 -- iter: 03520/20250\n"
     ]
    },
    {
     "name": "stdout",
     "output_type": "stream",
     "text": [
      "Training Step: 1641  | total loss: \u001b[1m\u001b[32m0.46085\u001b[0m\u001b[0m | time: 14.167s\n\u001b[2K\r| Adam | epoch: 006 | loss: 0.46085 - acc: 0.8105 -- iter: 03584/20250\n"
     ]
    },
    {
     "name": "stdout",
     "output_type": "stream",
     "text": [
      "Training Step: 1642  | total loss: \u001b[1m\u001b[32m0.46370\u001b[0m\u001b[0m | time: 14.460s\n\u001b[2K\r| Adam | epoch: 006 | loss: 0.46370 - acc: 0.8076 -- iter: 03648/20250\n"
     ]
    },
    {
     "name": "stdout",
     "output_type": "stream",
     "text": [
      "Training Step: 1643  | total loss: \u001b[1m\u001b[32m0.45691\u001b[0m\u001b[0m | time: 14.738s\n\u001b[2K\r| Adam | epoch: 006 | loss: 0.45691 - acc: 0.8112 -- iter: 03712/20250\n"
     ]
    },
    {
     "name": "stdout",
     "output_type": "stream",
     "text": [
      "Training Step: 1644  | total loss: \u001b[1m\u001b[32m0.46310\u001b[0m\u001b[0m | time: 14.986s\n\u001b[2K\r| Adam | epoch: 006 | loss: 0.46310 - acc: 0.8051 -- iter: 03776/20250\n"
     ]
    },
    {
     "name": "stdout",
     "output_type": "stream",
     "text": [
      "Training Step: 1645  | total loss: \u001b[1m\u001b[32m0.45972\u001b[0m\u001b[0m | time: 15.251s\n\u001b[2K\r| Adam | epoch: 006 | loss: 0.45972 - acc: 0.8105 -- iter: 03840/20250\n"
     ]
    },
    {
     "name": "stdout",
     "output_type": "stream",
     "text": [
      "Training Step: 1646  | total loss: \u001b[1m\u001b[32m0.46368\u001b[0m\u001b[0m | time: 15.511s\n\u001b[2K\r| Adam | epoch: 006 | loss: 0.46368 - acc: 0.8076 -- iter: 03904/20250\n"
     ]
    },
    {
     "name": "stdout",
     "output_type": "stream",
     "text": [
      "Training Step: 1647  | total loss: \u001b[1m\u001b[32m0.45274\u001b[0m\u001b[0m | time: 15.751s\n\u001b[2K\r| Adam | epoch: 006 | loss: 0.45274 - acc: 0.8159 -- iter: 03968/20250\n"
     ]
    },
    {
     "name": "stdout",
     "output_type": "stream",
     "text": [
      "Training Step: 1648  | total loss: \u001b[1m\u001b[32m0.44986\u001b[0m\u001b[0m | time: 16.009s\n\u001b[2K\r| Adam | epoch: 006 | loss: 0.44986 - acc: 0.8156 -- iter: 04032/20250\n"
     ]
    },
    {
     "name": "stdout",
     "output_type": "stream",
     "text": [
      "Training Step: 1649  | total loss: \u001b[1m\u001b[32m0.45455\u001b[0m\u001b[0m | time: 16.263s\n\u001b[2K\r| Adam | epoch: 006 | loss: 0.45455 - acc: 0.8121 -- iter: 04096/20250\n"
     ]
    },
    {
     "name": "stdout",
     "output_type": "stream",
     "text": [
      "Training Step: 1650  | total loss: \u001b[1m\u001b[32m0.45973\u001b[0m\u001b[0m | time: 16.514s\n\u001b[2K\r| Adam | epoch: 006 | loss: 0.45973 - acc: 0.8106 -- iter: 04160/20250\n"
     ]
    },
    {
     "name": "stdout",
     "output_type": "stream",
     "text": [
      "Training Step: 1651  | total loss: \u001b[1m\u001b[32m0.45300\u001b[0m\u001b[0m | time: 16.747s\n\u001b[2K\r| Adam | epoch: 006 | loss: 0.45300 - acc: 0.8155 -- iter: 04224/20250\n"
     ]
    },
    {
     "name": "stdout",
     "output_type": "stream",
     "text": [
      "Training Step: 1652  | total loss: \u001b[1m\u001b[32m0.46828\u001b[0m\u001b[0m | time: 17.014s\n\u001b[2K\r| Adam | epoch: 006 | loss: 0.46828 - acc: 0.8105 -- iter: 04288/20250\n"
     ]
    },
    {
     "name": "stdout",
     "output_type": "stream",
     "text": [
      "Training Step: 1653  | total loss: \u001b[1m\u001b[32m0.49867\u001b[0m\u001b[0m | time: 17.255s\n\u001b[2K\r| Adam | epoch: 006 | loss: 0.49867 - acc: 0.7966 -- iter: 04352/20250\n"
     ]
    },
    {
     "name": "stdout",
     "output_type": "stream",
     "text": [
      "Training Step: 1654  | total loss: \u001b[1m\u001b[32m0.50605\u001b[0m\u001b[0m | time: 17.508s\n\u001b[2K\r| Adam | epoch: 006 | loss: 0.50605 - acc: 0.7967 -- iter: 04416/20250\n"
     ]
    },
    {
     "name": "stdout",
     "output_type": "stream",
     "text": [
      "Training Step: 1655  | total loss: \u001b[1m\u001b[32m0.50838\u001b[0m\u001b[0m | time: 17.753s\n\u001b[2K\r| Adam | epoch: 006 | loss: 0.50838 - acc: 0.7982 -- iter: 04480/20250\n"
     ]
    },
    {
     "name": "stdout",
     "output_type": "stream",
     "text": [
      "Training Step: 1656  | total loss: \u001b[1m\u001b[32m0.53658\u001b[0m\u001b[0m | time: 17.998s\n\u001b[2K\r| Adam | epoch: 006 | loss: 0.53658 - acc: 0.7887 -- iter: 04544/20250\n"
     ]
    },
    {
     "name": "stdout",
     "output_type": "stream",
     "text": [
      "Training Step: 1657  | total loss: \u001b[1m\u001b[32m0.57712\u001b[0m\u001b[0m | time: 18.238s\n\u001b[2K\r| Adam | epoch: 006 | loss: 0.57712 - acc: 0.7739 -- iter: 04608/20250\n"
     ]
    },
    {
     "name": "stdout",
     "output_type": "stream",
     "text": [
      "Training Step: 1658  | total loss: \u001b[1m\u001b[32m0.62651\u001b[0m\u001b[0m | time: 18.486s\n\u001b[2K\r| Adam | epoch: 006 | loss: 0.62651 - acc: 0.7512 -- iter: 04672/20250\n"
     ]
    },
    {
     "name": "stdout",
     "output_type": "stream",
     "text": [
      "Training Step: 1659  | total loss: \u001b[1m\u001b[32m0.67480\u001b[0m\u001b[0m | time: 18.727s\n\u001b[2K\r| Adam | epoch: 006 | loss: 0.67480 - acc: 0.7308 -- iter: 04736/20250\n"
     ]
    },
    {
     "name": "stdout",
     "output_type": "stream",
     "text": [
      "Training Step: 1660  | total loss: \u001b[1m\u001b[32m0.69212\u001b[0m\u001b[0m | time: 18.974s\n\u001b[2K\r| Adam | epoch: 006 | loss: 0.69212 - acc: 0.7202 -- iter: 04800/20250\n"
     ]
    },
    {
     "name": "stdout",
     "output_type": "stream",
     "text": [
      "Training Step: 1661  | total loss: \u001b[1m\u001b[32m0.71712\u001b[0m\u001b[0m | time: 19.217s\n\u001b[2K\r| Adam | epoch: 006 | loss: 0.71712 - acc: 0.7029 -- iter: 04864/20250\n"
     ]
    },
    {
     "name": "stdout",
     "output_type": "stream",
     "text": [
      "Training Step: 1662  | total loss: \u001b[1m\u001b[32m0.73676\u001b[0m\u001b[0m | time: 19.476s\n\u001b[2K\r| Adam | epoch: 006 | loss: 0.73676 - acc: 0.6841 -- iter: 04928/20250\n"
     ]
    },
    {
     "name": "stdout",
     "output_type": "stream",
     "text": [
      "Training Step: 1663  | total loss: \u001b[1m\u001b[32m0.74472\u001b[0m\u001b[0m | time: 19.754s\n\u001b[2K\r| Adam | epoch: 006 | loss: 0.74472 - acc: 0.6720 -- iter: 04992/20250\n"
     ]
    },
    {
     "name": "stdout",
     "output_type": "stream",
     "text": [
      "Training Step: 1664  | total loss: \u001b[1m\u001b[32m0.73367\u001b[0m\u001b[0m | time: 20.007s\n\u001b[2K\r| Adam | epoch: 006 | loss: 0.73367 - acc: 0.6688 -- iter: 05056/20250\n"
     ]
    },
    {
     "name": "stdout",
     "output_type": "stream",
     "text": [
      "Training Step: 1665  | total loss: \u001b[1m\u001b[32m0.73896\u001b[0m\u001b[0m | time: 20.252s\n\u001b[2K\r| Adam | epoch: 006 | loss: 0.73896 - acc: 0.6441 -- iter: 05120/20250\n"
     ]
    },
    {
     "name": "stdout",
     "output_type": "stream",
     "text": [
      "Training Step: 1666  | total loss: \u001b[1m\u001b[32m0.73195\u001b[0m\u001b[0m | time: 20.505s\n\u001b[2K\r| Adam | epoch: 006 | loss: 0.73195 - acc: 0.6438 -- iter: 05184/20250\n"
     ]
    },
    {
     "name": "stdout",
     "output_type": "stream",
     "text": [
      "Training Step: 1667  | total loss: \u001b[1m\u001b[32m0.72368\u001b[0m\u001b[0m | time: 20.760s\n\u001b[2K\r| Adam | epoch: 006 | loss: 0.72368 - acc: 0.6232 -- iter: 05248/20250\n"
     ]
    },
    {
     "name": "stdout",
     "output_type": "stream",
     "text": [
      "Training Step: 1668  | total loss: \u001b[1m\u001b[32m0.71959\u001b[0m\u001b[0m | time: 21.004s\n\u001b[2K\r| Adam | epoch: 006 | loss: 0.71959 - acc: 0.6077 -- iter: 05312/20250\n"
     ]
    },
    {
     "name": "stdout",
     "output_type": "stream",
     "text": [
      "Training Step: 1669  | total loss: \u001b[1m\u001b[32m0.72099\u001b[0m\u001b[0m | time: 21.257s\n\u001b[2K\r| Adam | epoch: 006 | loss: 0.72099 - acc: 0.5954 -- iter: 05376/20250\n"
     ]
    },
    {
     "name": "stdout",
     "output_type": "stream",
     "text": [
      "Training Step: 1670  | total loss: \u001b[1m\u001b[32m0.71253\u001b[0m\u001b[0m | time: 21.508s\n\u001b[2K\r| Adam | epoch: 006 | loss: 0.71253 - acc: 0.5952 -- iter: 05440/20250\n"
     ]
    },
    {
     "name": "stdout",
     "output_type": "stream",
     "text": [
      "Training Step: 1671  | total loss: \u001b[1m\u001b[32m0.70392\u001b[0m\u001b[0m | time: 21.777s\n\u001b[2K\r| Adam | epoch: 006 | loss: 0.70392 - acc: 0.5920 -- iter: 05504/20250\n"
     ]
    },
    {
     "name": "stdout",
     "output_type": "stream",
     "text": [
      "Training Step: 1672  | total loss: \u001b[1m\u001b[32m0.70578\u001b[0m\u001b[0m | time: 22.042s\n\u001b[2K\r| Adam | epoch: 006 | loss: 0.70578 - acc: 0.5890 -- iter: 05568/20250\n"
     ]
    },
    {
     "name": "stdout",
     "output_type": "stream",
     "text": [
      "Training Step: 1673  | total loss: \u001b[1m\u001b[32m0.70425\u001b[0m\u001b[0m | time: 22.301s\n\u001b[2K\r| Adam | epoch: 006 | loss: 0.70425 - acc: 0.5864 -- iter: 05632/20250\n"
     ]
    },
    {
     "name": "stdout",
     "output_type": "stream",
     "text": [
      "Training Step: 1674  | total loss: \u001b[1m\u001b[32m0.70466\u001b[0m\u001b[0m | time: 22.545s\n\u001b[2K\r| Adam | epoch: 006 | loss: 0.70466 - acc: 0.5777 -- iter: 05696/20250\n"
     ]
    },
    {
     "name": "stdout",
     "output_type": "stream",
     "text": [
      "Training Step: 1675  | total loss: \u001b[1m\u001b[32m0.70280\u001b[0m\u001b[0m | time: 22.795s\n\u001b[2K\r| Adam | epoch: 006 | loss: 0.70280 - acc: 0.5793 -- iter: 05760/20250\n"
     ]
    },
    {
     "name": "stdout",
     "output_type": "stream",
     "text": [
      "Training Step: 1676  | total loss: \u001b[1m\u001b[32m0.70383\u001b[0m\u001b[0m | time: 23.044s\n\u001b[2K\r| Adam | epoch: 006 | loss: 0.70383 - acc: 0.5730 -- iter: 05824/20250\n"
     ]
    },
    {
     "name": "stdout",
     "output_type": "stream",
     "text": [
      "Training Step: 1677  | total loss: \u001b[1m\u001b[32m0.70246\u001b[0m\u001b[0m | time: 23.294s\n\u001b[2K\r| Adam | epoch: 006 | loss: 0.70246 - acc: 0.5719 -- iter: 05888/20250\n"
     ]
    },
    {
     "name": "stdout",
     "output_type": "stream",
     "text": [
      "Training Step: 1678  | total loss: \u001b[1m\u001b[32m0.70162\u001b[0m\u001b[0m | time: 23.542s\n\u001b[2K\r| Adam | epoch: 006 | loss: 0.70162 - acc: 0.5663 -- iter: 05952/20250\n"
     ]
    },
    {
     "name": "stdout",
     "output_type": "stream",
     "text": [
      "Training Step: 1679  | total loss: \u001b[1m\u001b[32m0.69099\u001b[0m\u001b[0m | time: 23.789s\n\u001b[2K\r| Adam | epoch: 006 | loss: 0.69099 - acc: 0.5706 -- iter: 06016/20250\n"
     ]
    },
    {
     "name": "stdout",
     "output_type": "stream",
     "text": [
      "Training Step: 1680  | total loss: \u001b[1m\u001b[32m0.69112\u001b[0m\u001b[0m | time: 24.045s\n\u001b[2K\r| Adam | epoch: 006 | loss: 0.69112 - acc: 0.5620 -- iter: 06080/20250\n"
     ]
    },
    {
     "name": "stdout",
     "output_type": "stream",
     "text": [
      "Training Step: 1681  | total loss: \u001b[1m\u001b[32m0.68388\u001b[0m\u001b[0m | time: 24.334s\n\u001b[2K\r| Adam | epoch: 006 | loss: 0.68388 - acc: 0.5714 -- iter: 06144/20250\n"
     ]
    },
    {
     "name": "stdout",
     "output_type": "stream",
     "text": [
      "Training Step: 1682  | total loss: \u001b[1m\u001b[32m0.68146\u001b[0m\u001b[0m | time: 24.635s\n\u001b[2K\r| Adam | epoch: 006 | loss: 0.68146 - acc: 0.5643 -- iter: 06208/20250\n"
     ]
    },
    {
     "name": "stdout",
     "output_type": "stream",
     "text": [
      "Training Step: 1683  | total loss: \u001b[1m\u001b[32m0.67597\u001b[0m\u001b[0m | time: 24.877s\n\u001b[2K\r| Adam | epoch: 006 | loss: 0.67597 - acc: 0.5688 -- iter: 06272/20250\n"
     ]
    },
    {
     "name": "stdout",
     "output_type": "stream",
     "text": [
      "Training Step: 1684  | total loss: \u001b[1m\u001b[32m0.67727\u001b[0m\u001b[0m | time: 25.137s\n\u001b[2K\r| Adam | epoch: 006 | loss: 0.67727 - acc: 0.5713 -- iter: 06336/20250\n"
     ]
    },
    {
     "name": "stdout",
     "output_type": "stream",
     "text": [
      "Training Step: 1685  | total loss: \u001b[1m\u001b[32m0.67337\u001b[0m\u001b[0m | time: 25.390s\n\u001b[2K\r| Adam | epoch: 006 | loss: 0.67337 - acc: 0.5704 -- iter: 06400/20250\n"
     ]
    },
    {
     "name": "stdout",
     "output_type": "stream",
     "text": [
      "Training Step: 1686  | total loss: \u001b[1m\u001b[32m0.66478\u001b[0m\u001b[0m | time: 25.640s\n\u001b[2K\r| Adam | epoch: 006 | loss: 0.66478 - acc: 0.5696 -- iter: 06464/20250\n"
     ]
    },
    {
     "name": "stdout",
     "output_type": "stream",
     "text": [
      "Training Step: 1687  | total loss: \u001b[1m\u001b[32m0.66321\u001b[0m\u001b[0m | time: 25.882s\n\u001b[2K\r| Adam | epoch: 006 | loss: 0.66321 - acc: 0.5658 -- iter: 06528/20250\n"
     ]
    },
    {
     "name": "stdout",
     "output_type": "stream",
     "text": [
      "Training Step: 1688  | total loss: \u001b[1m\u001b[32m0.65843\u001b[0m\u001b[0m | time: 26.128s\n\u001b[2K\r| Adam | epoch: 006 | loss: 0.65843 - acc: 0.5639 -- iter: 06592/20250\n"
     ]
    },
    {
     "name": "stdout",
     "output_type": "stream",
     "text": [
      "Training Step: 1689  | total loss: \u001b[1m\u001b[32m0.65465\u001b[0m\u001b[0m | time: 26.380s\n\u001b[2K\r| Adam | epoch: 006 | loss: 0.65465 - acc: 0.5669 -- iter: 06656/20250\n"
     ]
    },
    {
     "name": "stdout",
     "output_type": "stream",
     "text": [
      "Training Step: 1690  | total loss: \u001b[1m\u001b[32m0.64745\u001b[0m\u001b[0m | time: 26.633s\n\u001b[2K\r| Adam | epoch: 006 | loss: 0.64745 - acc: 0.5696 -- iter: 06720/20250\n"
     ]
    },
    {
     "name": "stdout",
     "output_type": "stream",
     "text": [
      "Training Step: 1691  | total loss: \u001b[1m\u001b[32m0.65404\u001b[0m\u001b[0m | time: 26.916s\n\u001b[2K\r| Adam | epoch: 006 | loss: 0.65404 - acc: 0.5610 -- iter: 06784/20250\n"
     ]
    },
    {
     "name": "stdout",
     "output_type": "stream",
     "text": [
      "Training Step: 1692  | total loss: \u001b[1m\u001b[32m0.65209\u001b[0m\u001b[0m | time: 27.196s\n\u001b[2K\r| Adam | epoch: 006 | loss: 0.65209 - acc: 0.5612 -- iter: 06848/20250\n"
     ]
    },
    {
     "name": "stdout",
     "output_type": "stream",
     "text": [
      "Training Step: 1693  | total loss: \u001b[1m\u001b[32m0.64919\u001b[0m\u001b[0m | time: 27.438s\n\u001b[2K\r| Adam | epoch: 006 | loss: 0.64919 - acc: 0.5676 -- iter: 06912/20250\n"
     ]
    },
    {
     "name": "stdout",
     "output_type": "stream",
     "text": [
      "Training Step: 1694  | total loss: \u001b[1m\u001b[32m0.63926\u001b[0m\u001b[0m | time: 27.683s\n\u001b[2K\r| Adam | epoch: 006 | loss: 0.63926 - acc: 0.5733 -- iter: 06976/20250\n"
     ]
    },
    {
     "name": "stdout",
     "output_type": "stream",
     "text": [
      "Training Step: 1695  | total loss: \u001b[1m\u001b[32m0.63994\u001b[0m\u001b[0m | time: 27.932s\n\u001b[2K\r| Adam | epoch: 006 | loss: 0.63994 - acc: 0.5691 -- iter: 07040/20250\n"
     ]
    },
    {
     "name": "stdout",
     "output_type": "stream",
     "text": [
      "Training Step: 1696  | total loss: \u001b[1m\u001b[32m0.64039\u001b[0m\u001b[0m | time: 28.178s\n\u001b[2K\r| Adam | epoch: 006 | loss: 0.64039 - acc: 0.5669 -- iter: 07104/20250\n"
     ]
    },
    {
     "name": "stdout",
     "output_type": "stream",
     "text": [
      "Training Step: 1697  | total loss: \u001b[1m\u001b[32m0.64036\u001b[0m\u001b[0m | time: 28.428s\n\u001b[2K\r| Adam | epoch: 006 | loss: 0.64036 - acc: 0.5758 -- iter: 07168/20250\n"
     ]
    },
    {
     "name": "stdout",
     "output_type": "stream",
     "text": [
      "Training Step: 1698  | total loss: \u001b[1m\u001b[32m0.64066\u001b[0m\u001b[0m | time: 28.684s\n\u001b[2K\r| Adam | epoch: 006 | loss: 0.64066 - acc: 0.5745 -- iter: 07232/20250\n"
     ]
    },
    {
     "name": "stdout",
     "output_type": "stream",
     "text": [
      "Training Step: 1699  | total loss: \u001b[1m\u001b[32m0.64030\u001b[0m\u001b[0m | time: 28.936s\n\u001b[2K\r| Adam | epoch: 006 | loss: 0.64030 - acc: 0.5764 -- iter: 07296/20250\n"
     ]
    },
    {
     "name": "stdout",
     "output_type": "stream",
     "text": [
      "Training Step: 1700  | total loss: \u001b[1m\u001b[32m0.63614\u001b[0m\u001b[0m | time: 29.184s\n\u001b[2K\r| Adam | epoch: 006 | loss: 0.63614 - acc: 0.5875 -- iter: 07360/20250\n"
     ]
    },
    {
     "name": "stdout",
     "output_type": "stream",
     "text": [
      "Training Step: 1701  | total loss: \u001b[1m\u001b[32m0.63523\u001b[0m\u001b[0m | time: 29.446s\n\u001b[2K\r| Adam | epoch: 006 | loss: 0.63523 - acc: 0.5866 -- iter: 07424/20250\n"
     ]
    },
    {
     "name": "stdout",
     "output_type": "stream",
     "text": [
      "Training Step: 1702  | total loss: \u001b[1m\u001b[32m0.63064\u001b[0m\u001b[0m | time: 29.695s\n\u001b[2K\r| Adam | epoch: 006 | loss: 0.63064 - acc: 0.5873 -- iter: 07488/20250\n"
     ]
    },
    {
     "name": "stdout",
     "output_type": "stream",
     "text": [
      "Training Step: 1703  | total loss: \u001b[1m\u001b[32m0.63041\u001b[0m\u001b[0m | time: 29.941s\n\u001b[2K\r| Adam | epoch: 006 | loss: 0.63041 - acc: 0.5833 -- iter: 07552/20250\n"
     ]
    },
    {
     "name": "stdout",
     "output_type": "stream",
     "text": [
      "Training Step: 1704  | total loss: \u001b[1m\u001b[32m0.62220\u001b[0m\u001b[0m | time: 30.196s\n\u001b[2K\r| Adam | epoch: 006 | loss: 0.62220 - acc: 0.5999 -- iter: 07616/20250\n"
     ]
    },
    {
     "name": "stdout",
     "output_type": "stream",
     "text": [
      "Training Step: 1705  | total loss: \u001b[1m\u001b[32m0.62231\u001b[0m\u001b[0m | time: 30.438s\n\u001b[2K\r| Adam | epoch: 006 | loss: 0.62231 - acc: 0.5915 -- iter: 07680/20250\n"
     ]
    },
    {
     "name": "stdout",
     "output_type": "stream",
     "text": [
      "Training Step: 1706  | total loss: \u001b[1m\u001b[32m0.62619\u001b[0m\u001b[0m | time: 30.686s\n\u001b[2K\r| Adam | epoch: 006 | loss: 0.62619 - acc: 0.5870 -- iter: 07744/20250\n"
     ]
    },
    {
     "name": "stdout",
     "output_type": "stream",
     "text": [
      "Training Step: 1707  | total loss: \u001b[1m\u001b[32m0.62473\u001b[0m\u001b[0m | time: 30.934s\n\u001b[2K\r| Adam | epoch: 006 | loss: 0.62473 - acc: 0.5893 -- iter: 07808/20250\n"
     ]
    },
    {
     "name": "stdout",
     "output_type": "stream",
     "text": [
      "Training Step: 1708  | total loss: \u001b[1m\u001b[32m0.62795\u001b[0m\u001b[0m | time: 31.184s\n\u001b[2K\r| Adam | epoch: 006 | loss: 0.62795 - acc: 0.5835 -- iter: 07872/20250\n"
     ]
    },
    {
     "name": "stdout",
     "output_type": "stream",
     "text": [
      "Training Step: 1709  | total loss: \u001b[1m\u001b[32m0.62956\u001b[0m\u001b[0m | time: 31.433s\n\u001b[2K\r| Adam | epoch: 006 | loss: 0.62956 - acc: 0.5814 -- iter: 07936/20250\n"
     ]
    },
    {
     "name": "stdout",
     "output_type": "stream",
     "text": [
      "Training Step: 1710  | total loss: \u001b[1m\u001b[32m0.63128\u001b[0m\u001b[0m | time: 31.683s\n\u001b[2K\r| Adam | epoch: 006 | loss: 0.63128 - acc: 0.5857 -- iter: 08000/20250\n"
     ]
    },
    {
     "name": "stdout",
     "output_type": "stream",
     "text": [
      "Training Step: 1711  | total loss: \u001b[1m\u001b[32m0.63692\u001b[0m\u001b[0m | time: 31.980s\n\u001b[2K\r| Adam | epoch: 006 | loss: 0.63692 - acc: 0.5740 -- iter: 08064/20250\n"
     ]
    },
    {
     "name": "stdout",
     "output_type": "stream",
     "text": [
      "Training Step: 1712  | total loss: \u001b[1m\u001b[32m0.63566\u001b[0m\u001b[0m | time: 32.253s\n\u001b[2K\r| Adam | epoch: 006 | loss: 0.63566 - acc: 0.5823 -- iter: 08128/20250\n"
     ]
    },
    {
     "name": "stdout",
     "output_type": "stream",
     "text": [
      "Training Step: 1713  | total loss: \u001b[1m\u001b[32m0.63561\u001b[0m\u001b[0m | time: 32.500s\n\u001b[2K\r| Adam | epoch: 006 | loss: 0.63561 - acc: 0.5709 -- iter: 08192/20250\n"
     ]
    },
    {
     "name": "stdout",
     "output_type": "stream",
     "text": [
      "Training Step: 1714  | total loss: \u001b[1m\u001b[32m0.63073\u001b[0m\u001b[0m | time: 32.756s\n\u001b[2K\r| Adam | epoch: 006 | loss: 0.63073 - acc: 0.5748 -- iter: 08256/20250\n"
     ]
    },
    {
     "name": "stdout",
     "output_type": "stream",
     "text": [
      "Training Step: 1715  | total loss: \u001b[1m\u001b[32m0.62450\u001b[0m\u001b[0m | time: 33.002s\n\u001b[2K\r| Adam | epoch: 006 | loss: 0.62450 - acc: 0.5845 -- iter: 08320/20250\n"
     ]
    },
    {
     "name": "stdout",
     "output_type": "stream",
     "text": [
      "Training Step: 1716  | total loss: \u001b[1m\u001b[32m0.62465\u001b[0m\u001b[0m | time: 33.244s\n\u001b[2K\r| Adam | epoch: 006 | loss: 0.62465 - acc: 0.5854 -- iter: 08384/20250\n"
     ]
    },
    {
     "name": "stdout",
     "output_type": "stream",
     "text": [
      "Training Step: 1717  | total loss: \u001b[1m\u001b[32m0.62042\u001b[0m\u001b[0m | time: 33.503s\n\u001b[2K\r| Adam | epoch: 006 | loss: 0.62042 - acc: 0.5925 -- iter: 08448/20250\n"
     ]
    },
    {
     "name": "stdout",
     "output_type": "stream",
     "text": [
      "Training Step: 1718  | total loss: \u001b[1m\u001b[32m0.62092\u001b[0m\u001b[0m | time: 33.758s\n\u001b[2K\r| Adam | epoch: 006 | loss: 0.62092 - acc: 0.5895 -- iter: 08512/20250\n"
     ]
    },
    {
     "name": "stdout",
     "output_type": "stream",
     "text": [
      "Training Step: 1719  | total loss: \u001b[1m\u001b[32m0.62833\u001b[0m\u001b[0m | time: 34.003s\n\u001b[2K\r| Adam | epoch: 006 | loss: 0.62833 - acc: 0.5774 -- iter: 08576/20250\n"
     ]
    },
    {
     "name": "stdout",
     "output_type": "stream",
     "text": [
      "Training Step: 1720  | total loss: \u001b[1m\u001b[32m0.63270\u001b[0m\u001b[0m | time: 34.281s\n\u001b[2K\r| Adam | epoch: 006 | loss: 0.63270 - acc: 0.5744 -- iter: 08640/20250\n"
     ]
    },
    {
     "name": "stdout",
     "output_type": "stream",
     "text": [
      "Training Step: 1721  | total loss: \u001b[1m\u001b[32m0.63144\u001b[0m\u001b[0m | time: 34.551s\n\u001b[2K\r| Adam | epoch: 006 | loss: 0.63144 - acc: 0.5763 -- iter: 08704/20250\n"
     ]
    },
    {
     "name": "stdout",
     "output_type": "stream",
     "text": [
      "Training Step: 1722  | total loss: \u001b[1m\u001b[32m0.63676\u001b[0m\u001b[0m | time: 34.795s\n\u001b[2K\r| Adam | epoch: 006 | loss: 0.63676 - acc: 0.5655 -- iter: 08768/20250\n"
     ]
    },
    {
     "name": "stdout",
     "output_type": "stream",
     "text": [
      "Training Step: 1723  | total loss: \u001b[1m\u001b[32m0.63344\u001b[0m\u001b[0m | time: 35.043s\n\u001b[2K\r| Adam | epoch: 006 | loss: 0.63344 - acc: 0.5684 -- iter: 08832/20250\n"
     ]
    },
    {
     "name": "stdout",
     "output_type": "stream",
     "text": [
      "Training Step: 1724  | total loss: \u001b[1m\u001b[32m0.63353\u001b[0m\u001b[0m | time: 35.295s\n\u001b[2K\r| Adam | epoch: 006 | loss: 0.63353 - acc: 0.5662 -- iter: 08896/20250\n"
     ]
    },
    {
     "name": "stdout",
     "output_type": "stream",
     "text": [
      "Training Step: 1725  | total loss: \u001b[1m\u001b[32m0.63257\u001b[0m\u001b[0m | time: 35.543s\n\u001b[2K\r| Adam | epoch: 006 | loss: 0.63257 - acc: 0.5783 -- iter: 08960/20250\n"
     ]
    },
    {
     "name": "stdout",
     "output_type": "stream",
     "text": [
      "Training Step: 1726  | total loss: \u001b[1m\u001b[32m0.62257\u001b[0m\u001b[0m | time: 35.797s\n\u001b[2K\r| Adam | epoch: 006 | loss: 0.62257 - acc: 0.5893 -- iter: 09024/20250\n"
     ]
    },
    {
     "name": "stdout",
     "output_type": "stream",
     "text": [
      "Training Step: 1727  | total loss: \u001b[1m\u001b[32m0.62080\u001b[0m\u001b[0m | time: 36.054s\n\u001b[2K\r| Adam | epoch: 006 | loss: 0.62080 - acc: 0.5928 -- iter: 09088/20250\n"
     ]
    },
    {
     "name": "stdout",
     "output_type": "stream",
     "text": [
      "Training Step: 1728  | total loss: \u001b[1m\u001b[32m0.61971\u001b[0m\u001b[0m | time: 36.304s\n\u001b[2K\r| Adam | epoch: 006 | loss: 0.61971 - acc: 0.5976 -- iter: 09152/20250\n"
     ]
    },
    {
     "name": "stdout",
     "output_type": "stream",
     "text": [
      "Training Step: 1729  | total loss: \u001b[1m\u001b[32m0.61933\u001b[0m\u001b[0m | time: 36.546s\n\u001b[2K\r| Adam | epoch: 006 | loss: 0.61933 - acc: 0.5972 -- iter: 09216/20250\n"
     ]
    },
    {
     "name": "stdout",
     "output_type": "stream",
     "text": [
      "Training Step: 1730  | total loss: \u001b[1m\u001b[32m0.61461\u001b[0m\u001b[0m | time: 36.826s\n\u001b[2K\r| Adam | epoch: 006 | loss: 0.61461 - acc: 0.6031 -- iter: 09280/20250\n"
     ]
    },
    {
     "name": "stdout",
     "output_type": "stream",
     "text": [
      "Training Step: 1731  | total loss: \u001b[1m\u001b[32m0.61478\u001b[0m\u001b[0m | time: 37.104s\n\u001b[2K\r| Adam | epoch: 006 | loss: 0.61478 - acc: 0.6038 -- iter: 09344/20250\n"
     ]
    },
    {
     "name": "stdout",
     "output_type": "stream",
     "text": [
      "Training Step: 1732  | total loss: \u001b[1m\u001b[32m0.61354\u001b[0m\u001b[0m | time: 37.366s\n\u001b[2K\r| Adam | epoch: 006 | loss: 0.61354 - acc: 0.6090 -- iter: 09408/20250\n"
     ]
    },
    {
     "name": "stdout",
     "output_type": "stream",
     "text": [
      "Training Step: 1733  | total loss: \u001b[1m\u001b[32m0.61539\u001b[0m\u001b[0m | time: 37.613s\n\u001b[2K\r| Adam | epoch: 006 | loss: 0.61539 - acc: 0.6012 -- iter: 09472/20250\n"
     ]
    },
    {
     "name": "stdout",
     "output_type": "stream",
     "text": [
      "Training Step: 1734  | total loss: \u001b[1m\u001b[32m0.61288\u001b[0m\u001b[0m | time: 37.861s\n\u001b[2K\r| Adam | epoch: 006 | loss: 0.61288 - acc: 0.6083 -- iter: 09536/20250\n"
     ]
    },
    {
     "name": "stdout",
     "output_type": "stream",
     "text": [
      "Training Step: 1735  | total loss: \u001b[1m\u001b[32m0.61673\u001b[0m\u001b[0m | time: 38.106s\n\u001b[2K\r| Adam | epoch: 006 | loss: 0.61673 - acc: 0.6021 -- iter: 09600/20250\n"
     ]
    },
    {
     "name": "stdout",
     "output_type": "stream",
     "text": [
      "Training Step: 1736  | total loss: \u001b[1m\u001b[32m0.61480\u001b[0m\u001b[0m | time: 38.361s\n\u001b[2K\r| Adam | epoch: 006 | loss: 0.61480 - acc: 0.5982 -- iter: 09664/20250\n"
     ]
    },
    {
     "name": "stdout",
     "output_type": "stream",
     "text": [
      "Training Step: 1737  | total loss: \u001b[1m\u001b[32m0.61830\u001b[0m\u001b[0m | time: 38.609s\n\u001b[2K\r| Adam | epoch: 006 | loss: 0.61830 - acc: 0.5946 -- iter: 09728/20250\n"
     ]
    },
    {
     "name": "stdout",
     "output_type": "stream",
     "text": [
      "Training Step: 1738  | total loss: \u001b[1m\u001b[32m0.61655\u001b[0m\u001b[0m | time: 38.854s\n\u001b[2K\r| Adam | epoch: 006 | loss: 0.61655 - acc: 0.5930 -- iter: 09792/20250\n"
     ]
    },
    {
     "name": "stdout",
     "output_type": "stream",
     "text": [
      "Training Step: 1739  | total loss: \u001b[1m\u001b[32m0.62007\u001b[0m\u001b[0m | time: 39.107s\n\u001b[2K\r| Adam | epoch: 006 | loss: 0.62007 - acc: 0.5977 -- iter: 09856/20250\n"
     ]
    },
    {
     "name": "stdout",
     "output_type": "stream",
     "text": [
      "Training Step: 1740  | total loss: \u001b[1m\u001b[32m0.62397\u001b[0m\u001b[0m | time: 39.377s\n\u001b[2K\r| Adam | epoch: 006 | loss: 0.62397 - acc: 0.5880 -- iter: 09920/20250\n"
     ]
    },
    {
     "name": "stdout",
     "output_type": "stream",
     "text": [
      "Training Step: 1741  | total loss: \u001b[1m\u001b[32m0.62799\u001b[0m\u001b[0m | time: 39.662s\n\u001b[2K\r| Adam | epoch: 006 | loss: 0.62799 - acc: 0.5807 -- iter: 09984/20250\n"
     ]
    },
    {
     "name": "stdout",
     "output_type": "stream",
     "text": [
      "Training Step: 1742  | total loss: \u001b[1m\u001b[32m0.62169\u001b[0m\u001b[0m | time: 39.911s\n\u001b[2K\r| Adam | epoch: 006 | loss: 0.62169 - acc: 0.5945 -- iter: 10048/20250\n"
     ]
    },
    {
     "name": "stdout",
     "output_type": "stream",
     "text": [
      "Training Step: 1743  | total loss: \u001b[1m\u001b[32m0.61998\u001b[0m\u001b[0m | time: 40.163s\n\u001b[2K\r| Adam | epoch: 006 | loss: 0.61998 - acc: 0.5960 -- iter: 10112/20250\n"
     ]
    },
    {
     "name": "stdout",
     "output_type": "stream",
     "text": [
      "Training Step: 1744  | total loss: \u001b[1m\u001b[32m0.61815\u001b[0m\u001b[0m | time: 40.424s\n\u001b[2K\r| Adam | epoch: 006 | loss: 0.61815 - acc: 0.6005 -- iter: 10176/20250\n"
     ]
    },
    {
     "name": "stdout",
     "output_type": "stream",
     "text": [
      "Training Step: 1745  | total loss: \u001b[1m\u001b[32m0.61080\u001b[0m\u001b[0m | time: 40.673s\n\u001b[2K\r| Adam | epoch: 006 | loss: 0.61080 - acc: 0.6107 -- iter: 10240/20250\n"
     ]
    },
    {
     "name": "stdout",
     "output_type": "stream",
     "text": [
      "Training Step: 1746  | total loss: \u001b[1m\u001b[32m0.61007\u001b[0m\u001b[0m | time: 40.922s\n\u001b[2K\r| Adam | epoch: 006 | loss: 0.61007 - acc: 0.6090 -- iter: 10304/20250\n"
     ]
    },
    {
     "name": "stdout",
     "output_type": "stream",
     "text": [
      "Training Step: 1747  | total loss: \u001b[1m\u001b[32m0.60656\u001b[0m\u001b[0m | time: 41.216s\n\u001b[2K\r| Adam | epoch: 006 | loss: 0.60656 - acc: 0.6106 -- iter: 10368/20250\n"
     ]
    },
    {
     "name": "stdout",
     "output_type": "stream",
     "text": [
      "Training Step: 1748  | total loss: \u001b[1m\u001b[32m0.60949\u001b[0m\u001b[0m | time: 41.474s\n\u001b[2K\r| Adam | epoch: 006 | loss: 0.60949 - acc: 0.6089 -- iter: 10432/20250\n"
     ]
    },
    {
     "name": "stdout",
     "output_type": "stream",
     "text": [
      "Training Step: 1749  | total loss: \u001b[1m\u001b[32m0.60635\u001b[0m\u001b[0m | time: 41.732s\n\u001b[2K\r| Adam | epoch: 006 | loss: 0.60635 - acc: 0.6059 -- iter: 10496/20250\n"
     ]
    },
    {
     "name": "stdout",
     "output_type": "stream",
     "text": [
      "Training Step: 1750  | total loss: \u001b[1m\u001b[32m0.60757\u001b[0m\u001b[0m | time: 41.989s\n\u001b[2K\r| Adam | epoch: 006 | loss: 0.60757 - acc: 0.6062 -- iter: 10560/20250\n"
     ]
    },
    {
     "name": "stdout",
     "output_type": "stream",
     "text": [
      "Training Step: 1751  | total loss: \u001b[1m\u001b[32m0.61253\u001b[0m\u001b[0m | time: 42.235s\n\u001b[2K\r| Adam | epoch: 006 | loss: 0.61253 - acc: 0.6018 -- iter: 10624/20250\n"
     ]
    },
    {
     "name": "stdout",
     "output_type": "stream",
     "text": [
      "Training Step: 1752  | total loss: \u001b[1m\u001b[32m0.60760\u001b[0m\u001b[0m | time: 42.487s\n\u001b[2K\r| Adam | epoch: 006 | loss: 0.60760 - acc: 0.6151 -- iter: 10688/20250\n"
     ]
    },
    {
     "name": "stdout",
     "output_type": "stream",
     "text": [
      "Training Step: 1753  | total loss: \u001b[1m\u001b[32m0.60681\u001b[0m\u001b[0m | time: 42.739s\n\u001b[2K\r| Adam | epoch: 006 | loss: 0.60681 - acc: 0.6192 -- iter: 10752/20250\n"
     ]
    },
    {
     "name": "stdout",
     "output_type": "stream",
     "text": [
      "Training Step: 1754  | total loss: \u001b[1m\u001b[32m0.60581\u001b[0m\u001b[0m | time: 42.987s\n\u001b[2K\r| Adam | epoch: 006 | loss: 0.60581 - acc: 0.6182 -- iter: 10816/20250\n"
     ]
    },
    {
     "name": "stdout",
     "output_type": "stream",
     "text": [
      "Training Step: 1755  | total loss: \u001b[1m\u001b[32m0.60823\u001b[0m\u001b[0m | time: 43.240s\n\u001b[2K\r| Adam | epoch: 006 | loss: 0.60823 - acc: 0.6189 -- iter: 10880/20250\n"
     ]
    },
    {
     "name": "stdout",
     "output_type": "stream",
     "text": [
      "Training Step: 1756  | total loss: \u001b[1m\u001b[32m0.61231\u001b[0m\u001b[0m | time: 43.501s\n\u001b[2K\r| Adam | epoch: 006 | loss: 0.61231 - acc: 0.6070 -- iter: 10944/20250\n"
     ]
    },
    {
     "name": "stdout",
     "output_type": "stream",
     "text": [
      "Training Step: 1757  | total loss: \u001b[1m\u001b[32m0.61151\u001b[0m\u001b[0m | time: 43.748s\n\u001b[2K\r| Adam | epoch: 006 | loss: 0.61151 - acc: 0.5979 -- iter: 11008/20250\n"
     ]
    },
    {
     "name": "stdout",
     "output_type": "stream",
     "text": [
      "Training Step: 1758  | total loss: \u001b[1m\u001b[32m0.60948\u001b[0m\u001b[0m | time: 44.000s\n\u001b[2K\r| Adam | epoch: 006 | loss: 0.60948 - acc: 0.6006 -- iter: 11072/20250\n"
     ]
    },
    {
     "name": "stdout",
     "output_type": "stream",
     "text": [
      "Training Step: 1759  | total loss: \u001b[1m\u001b[32m0.60605\u001b[0m\u001b[0m | time: 44.273s\n\u001b[2K\r| Adam | epoch: 006 | loss: 0.60605 - acc: 0.6077 -- iter: 11136/20250\n"
     ]
    },
    {
     "name": "stdout",
     "output_type": "stream",
     "text": [
      "Training Step: 1760  | total loss: \u001b[1m\u001b[32m0.59870\u001b[0m\u001b[0m | time: 44.515s\n\u001b[2K\r| Adam | epoch: 006 | loss: 0.59870 - acc: 0.6219 -- iter: 11200/20250\n"
     ]
    },
    {
     "name": "stdout",
     "output_type": "stream",
     "text": [
      "Training Step: 1761  | total loss: \u001b[1m\u001b[32m0.59965\u001b[0m\u001b[0m | time: 44.760s\n\u001b[2K\r| Adam | epoch: 006 | loss: 0.59965 - acc: 0.6316 -- iter: 11264/20250\n"
     ]
    },
    {
     "name": "stdout",
     "output_type": "stream",
     "text": [
      "Training Step: 1762  | total loss: \u001b[1m\u001b[32m0.59275\u001b[0m\u001b[0m | time: 45.014s\n\u001b[2K\r| Adam | epoch: 006 | loss: 0.59275 - acc: 0.6403 -- iter: 11328/20250\n"
     ]
    },
    {
     "name": "stdout",
     "output_type": "stream",
     "text": [
      "Training Step: 1763  | total loss: \u001b[1m\u001b[32m0.59890\u001b[0m\u001b[0m | time: 45.264s\n\u001b[2K\r| Adam | epoch: 006 | loss: 0.59890 - acc: 0.6388 -- iter: 11392/20250\n"
     ]
    },
    {
     "name": "stdout",
     "output_type": "stream",
     "text": [
      "Training Step: 1764  | total loss: \u001b[1m\u001b[32m0.59724\u001b[0m\u001b[0m | time: 45.515s\n\u001b[2K\r| Adam | epoch: 006 | loss: 0.59724 - acc: 0.6421 -- iter: 11456/20250\n"
     ]
    },
    {
     "name": "stdout",
     "output_type": "stream",
     "text": [
      "Training Step: 1765  | total loss: \u001b[1m\u001b[32m0.59400\u001b[0m\u001b[0m | time: 45.774s\n\u001b[2K\r| Adam | epoch: 006 | loss: 0.59400 - acc: 0.6482 -- iter: 11520/20250\n"
     ]
    },
    {
     "name": "stdout",
     "output_type": "stream",
     "text": [
      "Training Step: 1766  | total loss: \u001b[1m\u001b[32m0.59423\u001b[0m\u001b[0m | time: 46.028s\n\u001b[2K\r| Adam | epoch: 006 | loss: 0.59423 - acc: 0.6506 -- iter: 11584/20250\n"
     ]
    },
    {
     "name": "stdout",
     "output_type": "stream",
     "text": [
      "Training Step: 1767  | total loss: \u001b[1m\u001b[32m0.59876\u001b[0m\u001b[0m | time: 46.279s\n\u001b[2K\r| Adam | epoch: 006 | loss: 0.59876 - acc: 0.6418 -- iter: 11648/20250\n"
     ]
    },
    {
     "name": "stdout",
     "output_type": "stream",
     "text": [
      "Training Step: 1768  | total loss: \u001b[1m\u001b[32m0.60415\u001b[0m\u001b[0m | time: 46.533s\n\u001b[2K\r| Adam | epoch: 006 | loss: 0.60415 - acc: 0.6276 -- iter: 11712/20250\n"
     ]
    },
    {
     "name": "stdout",
     "output_type": "stream",
     "text": [
      "Training Step: 1769  | total loss: \u001b[1m\u001b[32m0.60498\u001b[0m\u001b[0m | time: 46.795s\n\u001b[2K\r| Adam | epoch: 006 | loss: 0.60498 - acc: 0.6258 -- iter: 11776/20250\n"
     ]
    },
    {
     "name": "stdout",
     "output_type": "stream",
     "text": [
      "Training Step: 1770  | total loss: \u001b[1m\u001b[32m0.59864\u001b[0m\u001b[0m | time: 47.047s\n\u001b[2K\r| Adam | epoch: 006 | loss: 0.59864 - acc: 0.6351 -- iter: 11840/20250\n"
     ]
    },
    {
     "name": "stdout",
     "output_type": "stream",
     "text": [
      "Training Step: 1771  | total loss: \u001b[1m\u001b[32m0.60129\u001b[0m\u001b[0m | time: 47.292s\n\u001b[2K\r| Adam | epoch: 006 | loss: 0.60129 - acc: 0.6325 -- iter: 11904/20250\n"
     ]
    },
    {
     "name": "stdout",
     "output_type": "stream",
     "text": [
      "Training Step: 1772  | total loss: \u001b[1m\u001b[32m0.60303\u001b[0m\u001b[0m | time: 47.538s\n\u001b[2K\r| Adam | epoch: 006 | loss: 0.60303 - acc: 0.6318 -- iter: 11968/20250\n"
     ]
    },
    {
     "name": "stdout",
     "output_type": "stream",
     "text": [
      "Training Step: 1773  | total loss: \u001b[1m\u001b[32m0.60276\u001b[0m\u001b[0m | time: 47.795s\n\u001b[2K\r| Adam | epoch: 006 | loss: 0.60276 - acc: 0.6326 -- iter: 12032/20250\n"
     ]
    },
    {
     "name": "stdout",
     "output_type": "stream",
     "text": [
      "Training Step: 1774  | total loss: \u001b[1m\u001b[32m0.59888\u001b[0m\u001b[0m | time: 48.048s\n\u001b[2K\r| Adam | epoch: 006 | loss: 0.59888 - acc: 0.6366 -- iter: 12096/20250\n"
     ]
    },
    {
     "name": "stdout",
     "output_type": "stream",
     "text": [
      "Training Step: 1775  | total loss: \u001b[1m\u001b[32m0.59525\u001b[0m\u001b[0m | time: 48.300s\n\u001b[2K\r| Adam | epoch: 006 | loss: 0.59525 - acc: 0.6370 -- iter: 12160/20250\n"
     ]
    },
    {
     "name": "stdout",
     "output_type": "stream",
     "text": [
      "Training Step: 1776  | total loss: \u001b[1m\u001b[32m0.59735\u001b[0m\u001b[0m | time: 48.555s\n\u001b[2K\r| Adam | epoch: 006 | loss: 0.59735 - acc: 0.6342 -- iter: 12224/20250\n"
     ]
    },
    {
     "name": "stdout",
     "output_type": "stream",
     "text": [
      "Training Step: 1777  | total loss: \u001b[1m\u001b[32m0.60876\u001b[0m\u001b[0m | time: 48.808s\n\u001b[2K\r| Adam | epoch: 006 | loss: 0.60876 - acc: 0.6192 -- iter: 12288/20250\n"
     ]
    },
    {
     "name": "stdout",
     "output_type": "stream",
     "text": [
      "Training Step: 1778  | total loss: \u001b[1m\u001b[32m0.60727\u001b[0m\u001b[0m | time: 49.063s\n\u001b[2K\r| Adam | epoch: 006 | loss: 0.60727 - acc: 0.6276 -- iter: 12352/20250\n"
     ]
    },
    {
     "name": "stdout",
     "output_type": "stream",
     "text": [
      "Training Step: 1779  | total loss: \u001b[1m\u001b[32m0.60047\u001b[0m\u001b[0m | time: 49.320s\n\u001b[2K\r| Adam | epoch: 006 | loss: 0.60047 - acc: 0.6383 -- iter: 12416/20250\n"
     ]
    },
    {
     "name": "stdout",
     "output_type": "stream",
     "text": [
      "Training Step: 1780  | total loss: \u001b[1m\u001b[32m0.60078\u001b[0m\u001b[0m | time: 49.575s\n\u001b[2K\r| Adam | epoch: 006 | loss: 0.60078 - acc: 0.6370 -- iter: 12480/20250\n"
     ]
    },
    {
     "name": "stdout",
     "output_type": "stream",
     "text": [
      "Training Step: 1781  | total loss: \u001b[1m\u001b[32m0.59537\u001b[0m\u001b[0m | time: 49.826s\n\u001b[2K\r| Adam | epoch: 006 | loss: 0.59537 - acc: 0.6420 -- iter: 12544/20250\n"
     ]
    },
    {
     "name": "stdout",
     "output_type": "stream",
     "text": [
      "Training Step: 1782  | total loss: \u001b[1m\u001b[32m0.59628\u001b[0m\u001b[0m | time: 50.070s\n\u001b[2K\r| Adam | epoch: 006 | loss: 0.59628 - acc: 0.6356 -- iter: 12608/20250\n"
     ]
    },
    {
     "name": "stdout",
     "output_type": "stream",
     "text": [
      "Training Step: 1783  | total loss: \u001b[1m\u001b[32m0.59944\u001b[0m\u001b[0m | time: 50.317s\n\u001b[2K\r| Adam | epoch: 006 | loss: 0.59944 - acc: 0.6299 -- iter: 12672/20250\n"
     ]
    },
    {
     "name": "stdout",
     "output_type": "stream",
     "text": [
      "Training Step: 1784  | total loss: \u001b[1m\u001b[32m0.59892\u001b[0m\u001b[0m | time: 50.568s\n\u001b[2K\r| Adam | epoch: 006 | loss: 0.59892 - acc: 0.6388 -- iter: 12736/20250\n"
     ]
    },
    {
     "name": "stdout",
     "output_type": "stream",
     "text": [
      "Training Step: 1785  | total loss: \u001b[1m\u001b[32m0.60429\u001b[0m\u001b[0m | time: 50.819s\n\u001b[2K\r| Adam | epoch: 006 | loss: 0.60429 - acc: 0.6374 -- iter: 12800/20250\n"
     ]
    },
    {
     "name": "stdout",
     "output_type": "stream",
     "text": [
      "Training Step: 1786  | total loss: \u001b[1m\u001b[32m0.60727\u001b[0m\u001b[0m | time: 51.067s\n\u001b[2K\r| Adam | epoch: 006 | loss: 0.60727 - acc: 0.6268 -- iter: 12864/20250\n"
     ]
    },
    {
     "name": "stdout",
     "output_type": "stream",
     "text": [
      "Training Step: 1787  | total loss: \u001b[1m\u001b[32m0.61559\u001b[0m\u001b[0m | time: 51.319s\n\u001b[2K\r| Adam | epoch: 006 | loss: 0.61559 - acc: 0.6250 -- iter: 12928/20250\n"
     ]
    },
    {
     "name": "stdout",
     "output_type": "stream",
     "text": [
      "Training Step: 1788  | total loss: \u001b[1m\u001b[32m0.61089\u001b[0m\u001b[0m | time: 51.575s\n\u001b[2K\r| Adam | epoch: 006 | loss: 0.61089 - acc: 0.6282 -- iter: 12992/20250\n"
     ]
    },
    {
     "name": "stdout",
     "output_type": "stream",
     "text": [
      "Training Step: 1789  | total loss: \u001b[1m\u001b[32m0.60986\u001b[0m\u001b[0m | time: 51.842s\n\u001b[2K\r| Adam | epoch: 006 | loss: 0.60986 - acc: 0.6278 -- iter: 13056/20250\n"
     ]
    },
    {
     "name": "stdout",
     "output_type": "stream",
     "text": [
      "Training Step: 1790  | total loss: \u001b[1m\u001b[32m0.61166\u001b[0m\u001b[0m | time: 52.090s\n\u001b[2K\r| Adam | epoch: 006 | loss: 0.61166 - acc: 0.6213 -- iter: 13120/20250\n"
     ]
    },
    {
     "name": "stdout",
     "output_type": "stream",
     "text": [
      "Training Step: 1791  | total loss: \u001b[1m\u001b[32m0.60857\u001b[0m\u001b[0m | time: 52.340s\n\u001b[2K\r| Adam | epoch: 006 | loss: 0.60857 - acc: 0.6217 -- iter: 13184/20250\n"
     ]
    },
    {
     "name": "stdout",
     "output_type": "stream",
     "text": [
      "Training Step: 1792  | total loss: \u001b[1m\u001b[32m0.60469\u001b[0m\u001b[0m | time: 52.587s\n\u001b[2K\r| Adam | epoch: 006 | loss: 0.60469 - acc: 0.6329 -- iter: 13248/20250\n"
     ]
    },
    {
     "name": "stdout",
     "output_type": "stream",
     "text": [
      "Training Step: 1793  | total loss: \u001b[1m\u001b[32m0.60949\u001b[0m\u001b[0m | time: 52.836s\n\u001b[2K\r| Adam | epoch: 006 | loss: 0.60949 - acc: 0.6243 -- iter: 13312/20250\n"
     ]
    },
    {
     "name": "stdout",
     "output_type": "stream",
     "text": [
      "Training Step: 1794  | total loss: \u001b[1m\u001b[32m0.60708\u001b[0m\u001b[0m | time: 53.083s\n\u001b[2K\r| Adam | epoch: 006 | loss: 0.60708 - acc: 0.6275 -- iter: 13376/20250\n"
     ]
    },
    {
     "name": "stdout",
     "output_type": "stream",
     "text": [
      "Training Step: 1795  | total loss: \u001b[1m\u001b[32m0.60778\u001b[0m\u001b[0m | time: 53.331s\n\u001b[2K\r| Adam | epoch: 006 | loss: 0.60778 - acc: 0.6304 -- iter: 13440/20250\n"
     ]
    },
    {
     "name": "stdout",
     "output_type": "stream",
     "text": [
      "Training Step: 1796  | total loss: \u001b[1m\u001b[32m0.61040\u001b[0m\u001b[0m | time: 53.576s\n\u001b[2K\r| Adam | epoch: 006 | loss: 0.61040 - acc: 0.6158 -- iter: 13504/20250\n"
     ]
    },
    {
     "name": "stdout",
     "output_type": "stream",
     "text": [
      "Training Step: 1797  | total loss: \u001b[1m\u001b[32m0.61053\u001b[0m\u001b[0m | time: 53.848s\n\u001b[2K\r| Adam | epoch: 006 | loss: 0.61053 - acc: 0.6198 -- iter: 13568/20250\n"
     ]
    },
    {
     "name": "stdout",
     "output_type": "stream",
     "text": [
      "Training Step: 1798  | total loss: \u001b[1m\u001b[32m0.60998\u001b[0m\u001b[0m | time: 54.117s\n\u001b[2K\r| Adam | epoch: 006 | loss: 0.60998 - acc: 0.6250 -- iter: 13632/20250\n"
     ]
    },
    {
     "name": "stdout",
     "output_type": "stream",
     "text": [
      "Training Step: 1799  | total loss: \u001b[1m\u001b[32m0.59623\u001b[0m\u001b[0m | time: 54.363s\n\u001b[2K\r| Adam | epoch: 006 | loss: 0.59623 - acc: 0.6407 -- iter: 13696/20250\n"
     ]
    },
    {
     "name": "stdout",
     "output_type": "stream",
     "text": [
      "Training Step: 1800  | total loss: \u001b[1m\u001b[32m0.59447\u001b[0m\u001b[0m | time: 54.618s\n\u001b[2K\r| Adam | epoch: 006 | loss: 0.59447 - acc: 0.6422 -- iter: 13760/20250\n"
     ]
    },
    {
     "name": "stdout",
     "output_type": "stream",
     "text": [
      "Training Step: 1801  | total loss: \u001b[1m\u001b[32m0.59378\u001b[0m\u001b[0m | time: 54.863s\n\u001b[2K\r| Adam | epoch: 006 | loss: 0.59378 - acc: 0.6389 -- iter: 13824/20250\n"
     ]
    },
    {
     "name": "stdout",
     "output_type": "stream",
     "text": [
      "Training Step: 1802  | total loss: \u001b[1m\u001b[32m0.58798\u001b[0m\u001b[0m | time: 55.115s\n\u001b[2K\r| Adam | epoch: 006 | loss: 0.58798 - acc: 0.6422 -- iter: 13888/20250\n"
     ]
    },
    {
     "name": "stdout",
     "output_type": "stream",
     "text": [
      "Training Step: 1803  | total loss: \u001b[1m\u001b[32m0.59476\u001b[0m\u001b[0m | time: 55.365s\n\u001b[2K\r| Adam | epoch: 006 | loss: 0.59476 - acc: 0.6468 -- iter: 13952/20250\n"
     ]
    },
    {
     "name": "stdout",
     "output_type": "stream",
     "text": [
      "Training Step: 1804  | total loss: \u001b[1m\u001b[32m0.59544\u001b[0m\u001b[0m | time: 55.607s\n\u001b[2K\r| Adam | epoch: 006 | loss: 0.59544 - acc: 0.6430 -- iter: 14016/20250\n"
     ]
    },
    {
     "name": "stdout",
     "output_type": "stream",
     "text": [
      "Training Step: 1805  | total loss: \u001b[1m\u001b[32m0.58713\u001b[0m\u001b[0m | time: 55.865s\n\u001b[2K\r| Adam | epoch: 006 | loss: 0.58713 - acc: 0.6600 -- iter: 14080/20250\n"
     ]
    },
    {
     "name": "stdout",
     "output_type": "stream",
     "text": [
      "Training Step: 1806  | total loss: \u001b[1m\u001b[32m0.58971\u001b[0m\u001b[0m | time: 56.157s\n\u001b[2K\r| Adam | epoch: 006 | loss: 0.58971 - acc: 0.6643 -- iter: 14144/20250\n"
     ]
    },
    {
     "name": "stdout",
     "output_type": "stream",
     "text": [
      "Training Step: 1807  | total loss: \u001b[1m\u001b[32m0.58906\u001b[0m\u001b[0m | time: 56.444s\n\u001b[2K\r| Adam | epoch: 006 | loss: 0.58906 - acc: 0.6697 -- iter: 14208/20250\n"
     ]
    },
    {
     "name": "stdout",
     "output_type": "stream",
     "text": [
      "Training Step: 1808  | total loss: \u001b[1m\u001b[32m0.59193\u001b[0m\u001b[0m | time: 56.700s\n\u001b[2K\r| Adam | epoch: 006 | loss: 0.59193 - acc: 0.6637 -- iter: 14272/20250\n"
     ]
    },
    {
     "name": "stdout",
     "output_type": "stream",
     "text": [
      "Training Step: 1809  | total loss: \u001b[1m\u001b[32m0.60265\u001b[0m\u001b[0m | time: 56.961s\n\u001b[2K\r| Adam | epoch: 006 | loss: 0.60265 - acc: 0.6458 -- iter: 14336/20250\n"
     ]
    },
    {
     "name": "stdout",
     "output_type": "stream",
     "text": [
      "Training Step: 1810  | total loss: \u001b[1m\u001b[32m0.60879\u001b[0m\u001b[0m | time: 57.210s\n\u001b[2K\r| Adam | epoch: 006 | loss: 0.60879 - acc: 0.6343 -- iter: 14400/20250\n"
     ]
    },
    {
     "name": "stdout",
     "output_type": "stream",
     "text": [
      "Training Step: 1811  | total loss: \u001b[1m\u001b[32m0.61609\u001b[0m\u001b[0m | time: 57.458s\n\u001b[2K\r| Adam | epoch: 006 | loss: 0.61609 - acc: 0.6209 -- iter: 14464/20250\n"
     ]
    },
    {
     "name": "stdout",
     "output_type": "stream",
     "text": [
      "Training Step: 1812  | total loss: \u001b[1m\u001b[32m0.62146\u001b[0m\u001b[0m | time: 57.708s\n\u001b[2K\r| Adam | epoch: 006 | loss: 0.62146 - acc: 0.6072 -- iter: 14528/20250\n"
     ]
    },
    {
     "name": "stdout",
     "output_type": "stream",
     "text": [
      "Training Step: 1813  | total loss: \u001b[1m\u001b[32m0.62708\u001b[0m\u001b[0m | time: 57.958s\n\u001b[2K\r| Adam | epoch: 006 | loss: 0.62708 - acc: 0.6028 -- iter: 14592/20250\n"
     ]
    },
    {
     "name": "stdout",
     "output_type": "stream",
     "text": [
      "Training Step: 1814  | total loss: \u001b[1m\u001b[32m0.62063\u001b[0m\u001b[0m | time: 58.209s\n\u001b[2K\r| Adam | epoch: 006 | loss: 0.62063 - acc: 0.6159 -- iter: 14656/20250\n"
     ]
    },
    {
     "name": "stdout",
     "output_type": "stream",
     "text": [
      "Training Step: 1815  | total loss: \u001b[1m\u001b[32m0.62503\u001b[0m\u001b[0m | time: 58.458s\n\u001b[2K\r| Adam | epoch: 006 | loss: 0.62503 - acc: 0.6106 -- iter: 14720/20250\n"
     ]
    },
    {
     "name": "stdout",
     "output_type": "stream",
     "text": [
      "Training Step: 1816  | total loss: \u001b[1m\u001b[32m0.61525\u001b[0m\u001b[0m | time: 58.711s\n\u001b[2K\r| Adam | epoch: 006 | loss: 0.61525 - acc: 0.6230 -- iter: 14784/20250\n"
     ]
    },
    {
     "name": "stdout",
     "output_type": "stream",
     "text": [
      "Training Step: 1817  | total loss: \u001b[1m\u001b[32m0.62169\u001b[0m\u001b[0m | time: 58.981s\n\u001b[2K\r| Adam | epoch: 006 | loss: 0.62169 - acc: 0.6169 -- iter: 14848/20250\n"
     ]
    },
    {
     "name": "stdout",
     "output_type": "stream",
     "text": [
      "Training Step: 1818  | total loss: \u001b[1m\u001b[32m0.62131\u001b[0m\u001b[0m | time: 59.243s\n\u001b[2K\r| Adam | epoch: 006 | loss: 0.62131 - acc: 0.6177 -- iter: 14912/20250\n"
     ]
    },
    {
     "name": "stdout",
     "output_type": "stream",
     "text": [
      "Training Step: 1819  | total loss: \u001b[1m\u001b[32m0.61738\u001b[0m\u001b[0m | time: 59.495s\n\u001b[2K\r| Adam | epoch: 006 | loss: 0.61738 - acc: 0.6200 -- iter: 14976/20250\n"
     ]
    },
    {
     "name": "stdout",
     "output_type": "stream",
     "text": [
      "Training Step: 1820  | total loss: \u001b[1m\u001b[32m0.61234\u001b[0m\u001b[0m | time: 59.744s\n\u001b[2K\r| Adam | epoch: 006 | loss: 0.61234 - acc: 0.6283 -- iter: 15040/20250\n"
     ]
    },
    {
     "name": "stdout",
     "output_type": "stream",
     "text": [
      "Training Step: 1821  | total loss: \u001b[1m\u001b[32m0.60919\u001b[0m\u001b[0m | time: 59.994s\n\u001b[2K\r| Adam | epoch: 006 | loss: 0.60919 - acc: 0.6264 -- iter: 15104/20250\n"
     ]
    },
    {
     "name": "stdout",
     "output_type": "stream",
     "text": [
      "Training Step: 1822  | total loss: \u001b[1m\u001b[32m0.60537\u001b[0m\u001b[0m | time: 60.243s\n\u001b[2K\r| Adam | epoch: 006 | loss: 0.60537 - acc: 0.6325 -- iter: 15168/20250\n"
     ]
    },
    {
     "name": "stdout",
     "output_type": "stream",
     "text": [
      "Training Step: 1823  | total loss: \u001b[1m\u001b[32m0.59697\u001b[0m\u001b[0m | time: 60.486s\n\u001b[2K\r| Adam | epoch: 006 | loss: 0.59697 - acc: 0.6474 -- iter: 15232/20250\n"
     ]
    },
    {
     "name": "stdout",
     "output_type": "stream",
     "text": [
      "Training Step: 1824  | total loss: \u001b[1m\u001b[32m0.59683\u001b[0m\u001b[0m | time: 60.741s\n\u001b[2K\r| Adam | epoch: 006 | loss: 0.59683 - acc: 0.6436 -- iter: 15296/20250\n"
     ]
    },
    {
     "name": "stdout",
     "output_type": "stream",
     "text": [
      "Training Step: 1825  | total loss: \u001b[1m\u001b[32m0.59686\u001b[0m\u001b[0m | time: 60.994s\n\u001b[2K\r| Adam | epoch: 006 | loss: 0.59686 - acc: 0.6371 -- iter: 15360/20250\n"
     ]
    },
    {
     "name": "stdout",
     "output_type": "stream",
     "text": [
      "Training Step: 1826  | total loss: \u001b[1m\u001b[32m0.59481\u001b[0m\u001b[0m | time: 61.250s\n\u001b[2K\r| Adam | epoch: 006 | loss: 0.59481 - acc: 0.6405 -- iter: 15424/20250\n"
     ]
    },
    {
     "name": "stdout",
     "output_type": "stream",
     "text": [
      "Training Step: 1827  | total loss: \u001b[1m\u001b[32m0.58810\u001b[0m\u001b[0m | time: 61.507s\n\u001b[2K\r| Adam | epoch: 006 | loss: 0.58810 - acc: 0.6515 -- iter: 15488/20250\n"
     ]
    },
    {
     "name": "stdout",
     "output_type": "stream",
     "text": [
      "Training Step: 1828  | total loss: \u001b[1m\u001b[32m0.58227\u001b[0m\u001b[0m | time: 61.776s\n\u001b[2K\r| Adam | epoch: 006 | loss: 0.58227 - acc: 0.6582 -- iter: 15552/20250\n"
     ]
    },
    {
     "name": "stdout",
     "output_type": "stream",
     "text": [
      "Training Step: 1829  | total loss: \u001b[1m\u001b[32m0.58292\u001b[0m\u001b[0m | time: 62.020s\n\u001b[2K\r| Adam | epoch: 006 | loss: 0.58292 - acc: 0.6518 -- iter: 15616/20250\n"
     ]
    },
    {
     "name": "stdout",
     "output_type": "stream",
     "text": [
      "Training Step: 1830  | total loss: \u001b[1m\u001b[32m0.57157\u001b[0m\u001b[0m | time: 62.262s\n\u001b[2K\r| Adam | epoch: 006 | loss: 0.57157 - acc: 0.6647 -- iter: 15680/20250\n"
     ]
    },
    {
     "name": "stdout",
     "output_type": "stream",
     "text": [
      "Training Step: 1831  | total loss: \u001b[1m\u001b[32m0.56604\u001b[0m\u001b[0m | time: 62.509s\n\u001b[2K\r| Adam | epoch: 006 | loss: 0.56604 - acc: 0.6764 -- iter: 15744/20250\n"
     ]
    },
    {
     "name": "stdout",
     "output_type": "stream",
     "text": [
      "Training Step: 1832  | total loss: \u001b[1m\u001b[32m0.56080\u001b[0m\u001b[0m | time: 62.750s\n\u001b[2K\r| Adam | epoch: 006 | loss: 0.56080 - acc: 0.6869 -- iter: 15808/20250\n"
     ]
    },
    {
     "name": "stdout",
     "output_type": "stream",
     "text": [
      "Training Step: 1833  | total loss: \u001b[1m\u001b[32m0.56076\u001b[0m\u001b[0m | time: 62.996s\n\u001b[2K\r| Adam | epoch: 006 | loss: 0.56076 - acc: 0.6900 -- iter: 15872/20250\n"
     ]
    },
    {
     "name": "stdout",
     "output_type": "stream",
     "text": [
      "Training Step: 1834  | total loss: \u001b[1m\u001b[32m0.55164\u001b[0m\u001b[0m | time: 63.237s\n\u001b[2K\r| Adam | epoch: 006 | loss: 0.55164 - acc: 0.7085 -- iter: 15936/20250\n"
     ]
    },
    {
     "name": "stdout",
     "output_type": "stream",
     "text": [
      "Training Step: 1835  | total loss: \u001b[1m\u001b[32m0.55195\u001b[0m\u001b[0m | time: 63.495s\n\u001b[2K\r| Adam | epoch: 006 | loss: 0.55195 - acc: 0.7111 -- iter: 16000/20250\n"
     ]
    },
    {
     "name": "stdout",
     "output_type": "stream",
     "text": [
      "Training Step: 1836  | total loss: \u001b[1m\u001b[32m0.54973\u001b[0m\u001b[0m | time: 63.748s\n\u001b[2K\r| Adam | epoch: 006 | loss: 0.54973 - acc: 0.7119 -- iter: 16064/20250\n"
     ]
    },
    {
     "name": "stdout",
     "output_type": "stream",
     "text": [
      "Training Step: 1837  | total loss: \u001b[1m\u001b[32m0.53630\u001b[0m\u001b[0m | time: 63.994s\n\u001b[2K\r| Adam | epoch: 006 | loss: 0.53630 - acc: 0.7266 -- iter: 16128/20250\n"
     ]
    },
    {
     "name": "stdout",
     "output_type": "stream",
     "text": [
      "Training Step: 1838  | total loss: \u001b[1m\u001b[32m0.55341\u001b[0m\u001b[0m | time: 64.253s\n\u001b[2K\r| Adam | epoch: 006 | loss: 0.55341 - acc: 0.7180 -- iter: 16192/20250\n"
     ]
    },
    {
     "name": "stdout",
     "output_type": "stream",
     "text": [
      "Training Step: 1839  | total loss: \u001b[1m\u001b[32m0.56425\u001b[0m\u001b[0m | time: 64.506s\n\u001b[2K\r| Adam | epoch: 006 | loss: 0.56425 - acc: 0.7119 -- iter: 16256/20250\n"
     ]
    },
    {
     "name": "stdout",
     "output_type": "stream",
     "text": [
      "Training Step: 1840  | total loss: \u001b[1m\u001b[32m0.58283\u001b[0m\u001b[0m | time: 64.753s\n\u001b[2K\r| Adam | epoch: 006 | loss: 0.58283 - acc: 0.6985 -- iter: 16320/20250\n"
     ]
    },
    {
     "name": "stdout",
     "output_type": "stream",
     "text": [
      "Training Step: 1841  | total loss: \u001b[1m\u001b[32m0.58666\u001b[0m\u001b[0m | time: 65.004s\n\u001b[2K\r| Adam | epoch: 006 | loss: 0.58666 - acc: 0.6989 -- iter: 16384/20250\n"
     ]
    },
    {
     "name": "stdout",
     "output_type": "stream",
     "text": [
      "Training Step: 1842  | total loss: \u001b[1m\u001b[32m0.59261\u001b[0m\u001b[0m | time: 65.247s\n\u001b[2K\r| Adam | epoch: 006 | loss: 0.59261 - acc: 0.6947 -- iter: 16448/20250\n"
     ]
    },
    {
     "name": "stdout",
     "output_type": "stream",
     "text": [
      "Training Step: 1843  | total loss: \u001b[1m\u001b[32m0.59589\u001b[0m\u001b[0m | time: 65.493s\n\u001b[2K\r| Adam | epoch: 006 | loss: 0.59589 - acc: 0.6893 -- iter: 16512/20250\n"
     ]
    },
    {
     "name": "stdout",
     "output_type": "stream",
     "text": [
      "Training Step: 1844  | total loss: \u001b[1m\u001b[32m0.58744\u001b[0m\u001b[0m | time: 65.744s\n\u001b[2K\r| Adam | epoch: 006 | loss: 0.58744 - acc: 0.6953 -- iter: 16576/20250\n"
     ]
    },
    {
     "name": "stdout",
     "output_type": "stream",
     "text": [
      "Training Step: 1845  | total loss: \u001b[1m\u001b[32m0.58560\u001b[0m\u001b[0m | time: 65.996s\n\u001b[2K\r| Adam | epoch: 006 | loss: 0.58560 - acc: 0.7008 -- iter: 16640/20250\n"
     ]
    },
    {
     "name": "stdout",
     "output_type": "stream",
     "text": [
      "Training Step: 1846  | total loss: \u001b[1m\u001b[32m0.59278\u001b[0m\u001b[0m | time: 66.242s\n\u001b[2K\r| Adam | epoch: 006 | loss: 0.59278 - acc: 0.6979 -- iter: 16704/20250\n"
     ]
    },
    {
     "name": "stdout",
     "output_type": "stream",
     "text": [
      "Training Step: 1847  | total loss: \u001b[1m\u001b[32m0.58296\u001b[0m\u001b[0m | time: 66.510s\n\u001b[2K\r| Adam | epoch: 006 | loss: 0.58296 - acc: 0.7078 -- iter: 16768/20250\n"
     ]
    },
    {
     "name": "stdout",
     "output_type": "stream",
     "text": [
      "Training Step: 1848  | total loss: \u001b[1m\u001b[32m0.56805\u001b[0m\u001b[0m | time: 66.804s\n\u001b[2K\r| Adam | epoch: 006 | loss: 0.56805 - acc: 0.7136 -- iter: 16832/20250\n"
     ]
    },
    {
     "name": "stdout",
     "output_type": "stream",
     "text": [
      "Training Step: 1849  | total loss: \u001b[1m\u001b[32m0.56755\u001b[0m\u001b[0m | time: 67.060s\n\u001b[2K\r| Adam | epoch: 006 | loss: 0.56755 - acc: 0.7094 -- iter: 16896/20250\n"
     ]
    },
    {
     "name": "stdout",
     "output_type": "stream",
     "text": [
      "Training Step: 1850  | total loss: \u001b[1m\u001b[32m0.56429\u001b[0m\u001b[0m | time: 67.307s\n\u001b[2K\r| Adam | epoch: 006 | loss: 0.56429 - acc: 0.7010 -- iter: 16960/20250\n"
     ]
    },
    {
     "name": "stdout",
     "output_type": "stream",
     "text": [
      "Training Step: 1851  | total loss: \u001b[1m\u001b[32m0.57253\u001b[0m\u001b[0m | time: 67.558s\n\u001b[2K\r| Adam | epoch: 006 | loss: 0.57253 - acc: 0.6887 -- iter: 17024/20250\n"
     ]
    },
    {
     "name": "stdout",
     "output_type": "stream",
     "text": [
      "Training Step: 1852  | total loss: \u001b[1m\u001b[32m0.57966\u001b[0m\u001b[0m | time: 67.815s\n\u001b[2K\r| Adam | epoch: 006 | loss: 0.57966 - acc: 0.6839 -- iter: 17088/20250\n"
     ]
    },
    {
     "name": "stdout",
     "output_type": "stream",
     "text": [
      "Training Step: 1853  | total loss: \u001b[1m\u001b[32m0.58365\u001b[0m\u001b[0m | time: 68.068s\n\u001b[2K\r| Adam | epoch: 006 | loss: 0.58365 - acc: 0.6764 -- iter: 17152/20250\n"
     ]
    },
    {
     "name": "stdout",
     "output_type": "stream",
     "text": [
      "Training Step: 1854  | total loss: \u001b[1m\u001b[32m0.59248\u001b[0m\u001b[0m | time: 68.316s\n\u001b[2K\r| Adam | epoch: 006 | loss: 0.59248 - acc: 0.6682 -- iter: 17216/20250\n"
     ]
    },
    {
     "name": "stdout",
     "output_type": "stream",
     "text": [
      "Training Step: 1855  | total loss: \u001b[1m\u001b[32m0.59696\u001b[0m\u001b[0m | time: 68.560s\n\u001b[2K\r| Adam | epoch: 006 | loss: 0.59696 - acc: 0.6576 -- iter: 17280/20250\n"
     ]
    },
    {
     "name": "stdout",
     "output_type": "stream",
     "text": [
      "Training Step: 1856  | total loss: \u001b[1m\u001b[32m0.60261\u001b[0m\u001b[0m | time: 68.820s\n\u001b[2K\r| Adam | epoch: 006 | loss: 0.60261 - acc: 0.6465 -- iter: 17344/20250\n"
     ]
    },
    {
     "name": "stdout",
     "output_type": "stream",
     "text": [
      "Training Step: 1857  | total loss: \u001b[1m\u001b[32m0.60118\u001b[0m\u001b[0m | time: 69.064s\n\u001b[2K\r| Adam | epoch: 006 | loss: 0.60118 - acc: 0.6491 -- iter: 17408/20250\n"
     ]
    },
    {
     "name": "stdout",
     "output_type": "stream",
     "text": [
      "Training Step: 1858  | total loss: \u001b[1m\u001b[32m0.59642\u001b[0m\u001b[0m | time: 69.329s\n\u001b[2K\r| Adam | epoch: 006 | loss: 0.59642 - acc: 0.6513 -- iter: 17472/20250\n"
     ]
    },
    {
     "name": "stdout",
     "output_type": "stream",
     "text": [
      "Training Step: 1859  | total loss: \u001b[1m\u001b[32m0.59298\u001b[0m\u001b[0m | time: 69.581s\n\u001b[2K\r| Adam | epoch: 006 | loss: 0.59298 - acc: 0.6518 -- iter: 17536/20250\n"
     ]
    },
    {
     "name": "stdout",
     "output_type": "stream",
     "text": [
      "Training Step: 1860  | total loss: \u001b[1m\u001b[32m0.59070\u001b[0m\u001b[0m | time: 69.825s\n\u001b[2K\r| Adam | epoch: 006 | loss: 0.59070 - acc: 0.6585 -- iter: 17600/20250\n"
     ]
    },
    {
     "name": "stdout",
     "output_type": "stream",
     "text": [
      "Training Step: 1861  | total loss: \u001b[1m\u001b[32m0.59313\u001b[0m\u001b[0m | time: 70.072s\n\u001b[2K\r| Adam | epoch: 006 | loss: 0.59313 - acc: 0.6567 -- iter: 17664/20250\n"
     ]
    },
    {
     "name": "stdout",
     "output_type": "stream",
     "text": [
      "Training Step: 1862  | total loss: \u001b[1m\u001b[32m0.58716\u001b[0m\u001b[0m | time: 70.319s\n\u001b[2K\r| Adam | epoch: 006 | loss: 0.58716 - acc: 0.6692 -- iter: 17728/20250\n"
     ]
    },
    {
     "name": "stdout",
     "output_type": "stream",
     "text": [
      "Training Step: 1863  | total loss: \u001b[1m\u001b[32m0.58434\u001b[0m\u001b[0m | time: 70.565s\n\u001b[2K\r| Adam | epoch: 006 | loss: 0.58434 - acc: 0.6757 -- iter: 17792/20250\n"
     ]
    },
    {
     "name": "stdout",
     "output_type": "stream",
     "text": [
      "Training Step: 1864  | total loss: \u001b[1m\u001b[32m0.58478\u001b[0m\u001b[0m | time: 70.813s\n\u001b[2K\r| Adam | epoch: 006 | loss: 0.58478 - acc: 0.6753 -- iter: 17856/20250\n"
     ]
    },
    {
     "name": "stdout",
     "output_type": "stream",
     "text": [
      "Training Step: 1865  | total loss: \u001b[1m\u001b[32m0.57731\u001b[0m\u001b[0m | time: 71.061s\n\u001b[2K\r| Adam | epoch: 006 | loss: 0.57731 - acc: 0.6828 -- iter: 17920/20250\n"
     ]
    },
    {
     "name": "stdout",
     "output_type": "stream",
     "text": [
      "Training Step: 1866  | total loss: \u001b[1m\u001b[32m0.57473\u001b[0m\u001b[0m | time: 71.319s\n\u001b[2K\r| Adam | epoch: 006 | loss: 0.57473 - acc: 0.6911 -- iter: 17984/20250\n"
     ]
    },
    {
     "name": "stdout",
     "output_type": "stream",
     "text": [
      "Training Step: 1867  | total loss: \u001b[1m\u001b[32m0.57250\u001b[0m\u001b[0m | time: 71.592s\n\u001b[2K\r| Adam | epoch: 006 | loss: 0.57250 - acc: 0.7001 -- iter: 18048/20250\n"
     ]
    },
    {
     "name": "stdout",
     "output_type": "stream",
     "text": [
      "Training Step: 1868  | total loss: \u001b[1m\u001b[32m0.57421\u001b[0m\u001b[0m | time: 71.877s\n\u001b[2K\r| Adam | epoch: 006 | loss: 0.57421 - acc: 0.6988 -- iter: 18112/20250\n"
     ]
    },
    {
     "name": "stdout",
     "output_type": "stream",
     "text": [
      "Training Step: 1869  | total loss: \u001b[1m\u001b[32m0.57023\u001b[0m\u001b[0m | time: 72.130s\n\u001b[2K\r| Adam | epoch: 006 | loss: 0.57023 - acc: 0.7071 -- iter: 18176/20250\n"
     ]
    },
    {
     "name": "stdout",
     "output_type": "stream",
     "text": [
      "Training Step: 1870  | total loss: \u001b[1m\u001b[32m0.56639\u001b[0m\u001b[0m | time: 72.379s\n\u001b[2K\r| Adam | epoch: 006 | loss: 0.56639 - acc: 0.7161 -- iter: 18240/20250\n"
     ]
    },
    {
     "name": "stdout",
     "output_type": "stream",
     "text": [
      "Training Step: 1871  | total loss: \u001b[1m\u001b[32m0.56153\u001b[0m\u001b[0m | time: 72.627s\n\u001b[2K\r| Adam | epoch: 006 | loss: 0.56153 - acc: 0.7179 -- iter: 18304/20250\n"
     ]
    },
    {
     "name": "stdout",
     "output_type": "stream",
     "text": [
      "Training Step: 1872  | total loss: \u001b[1m\u001b[32m0.55767\u001b[0m\u001b[0m | time: 72.877s\n\u001b[2K\r| Adam | epoch: 006 | loss: 0.55767 - acc: 0.7258 -- iter: 18368/20250\n"
     ]
    },
    {
     "name": "stdout",
     "output_type": "stream",
     "text": [
      "Training Step: 1873  | total loss: \u001b[1m\u001b[32m0.54078\u001b[0m\u001b[0m | time: 73.130s\n\u001b[2K\r| Adam | epoch: 006 | loss: 0.54078 - acc: 0.7454 -- iter: 18432/20250\n"
     ]
    },
    {
     "name": "stdout",
     "output_type": "stream",
     "text": [
      "Training Step: 1874  | total loss: \u001b[1m\u001b[32m0.53363\u001b[0m\u001b[0m | time: 73.376s\n\u001b[2K\r| Adam | epoch: 006 | loss: 0.53363 - acc: 0.7490 -- iter: 18496/20250\n"
     ]
    },
    {
     "name": "stdout",
     "output_type": "stream",
     "text": [
      "Training Step: 1875  | total loss: \u001b[1m\u001b[32m0.53819\u001b[0m\u001b[0m | time: 73.633s\n\u001b[2K\r| Adam | epoch: 006 | loss: 0.53819 - acc: 0.7460 -- iter: 18560/20250\n"
     ]
    },
    {
     "name": "stdout",
     "output_type": "stream",
     "text": [
      "Training Step: 1876  | total loss: \u001b[1m\u001b[32m0.57667\u001b[0m\u001b[0m | time: 73.890s\n\u001b[2K\r| Adam | epoch: 006 | loss: 0.57667 - acc: 0.7245 -- iter: 18624/20250\n"
     ]
    },
    {
     "name": "stdout",
     "output_type": "stream",
     "text": [
      "Training Step: 1877  | total loss: \u001b[1m\u001b[32m0.57300\u001b[0m\u001b[0m | time: 74.174s\n\u001b[2K\r| Adam | epoch: 006 | loss: 0.57300 - acc: 0.7286 -- iter: 18688/20250\n"
     ]
    },
    {
     "name": "stdout",
     "output_type": "stream",
     "text": [
      "Training Step: 1878  | total loss: \u001b[1m\u001b[32m0.56191\u001b[0m\u001b[0m | time: 74.431s\n\u001b[2K\r| Adam | epoch: 006 | loss: 0.56191 - acc: 0.7370 -- iter: 18752/20250\n"
     ]
    },
    {
     "name": "stdout",
     "output_type": "stream",
     "text": [
      "Training Step: 1879  | total loss: \u001b[1m\u001b[32m0.55173\u001b[0m\u001b[0m | time: 74.686s\n\u001b[2K\r| Adam | epoch: 006 | loss: 0.55173 - acc: 0.7399 -- iter: 18816/20250\n"
     ]
    },
    {
     "name": "stdout",
     "output_type": "stream",
     "text": [
      "Training Step: 1880  | total loss: \u001b[1m\u001b[32m0.54249\u001b[0m\u001b[0m | time: 74.933s\n\u001b[2K\r| Adam | epoch: 006 | loss: 0.54249 - acc: 0.7471 -- iter: 18880/20250\n"
     ]
    },
    {
     "name": "stdout",
     "output_type": "stream",
     "text": [
      "Training Step: 1881  | total loss: \u001b[1m\u001b[32m0.53336\u001b[0m\u001b[0m | time: 75.183s\n\u001b[2K\r| Adam | epoch: 006 | loss: 0.53336 - acc: 0.7568 -- iter: 18944/20250\n"
     ]
    },
    {
     "name": "stdout",
     "output_type": "stream",
     "text": [
      "Training Step: 1882  | total loss: \u001b[1m\u001b[32m0.52543\u001b[0m\u001b[0m | time: 75.431s\n\u001b[2K\r| Adam | epoch: 006 | loss: 0.52543 - acc: 0.7639 -- iter: 19008/20250\n"
     ]
    },
    {
     "name": "stdout",
     "output_type": "stream",
     "text": [
      "Training Step: 1883  | total loss: \u001b[1m\u001b[32m0.51762\u001b[0m\u001b[0m | time: 75.687s\n\u001b[2K\r| Adam | epoch: 006 | loss: 0.51762 - acc: 0.7703 -- iter: 19072/20250\n"
     ]
    },
    {
     "name": "stdout",
     "output_type": "stream",
     "text": [
      "Training Step: 1884  | total loss: \u001b[1m\u001b[32m0.51307\u001b[0m\u001b[0m | time: 75.940s\n\u001b[2K\r| Adam | epoch: 006 | loss: 0.51307 - acc: 0.7714 -- iter: 19136/20250\n"
     ]
    },
    {
     "name": "stdout",
     "output_type": "stream",
     "text": [
      "Training Step: 1885  | total loss: \u001b[1m\u001b[32m0.51182\u001b[0m\u001b[0m | time: 76.190s\n\u001b[2K\r| Adam | epoch: 006 | loss: 0.51182 - acc: 0.7708 -- iter: 19200/20250\n"
     ]
    },
    {
     "name": "stdout",
     "output_type": "stream",
     "text": [
      "Training Step: 1886  | total loss: \u001b[1m\u001b[32m0.50822\u001b[0m\u001b[0m | time: 76.453s\n\u001b[2K\r| Adam | epoch: 006 | loss: 0.50822 - acc: 0.7703 -- iter: 19264/20250\n"
     ]
    },
    {
     "name": "stdout",
     "output_type": "stream",
     "text": [
      "Training Step: 1887  | total loss: \u001b[1m\u001b[32m0.49999\u001b[0m\u001b[0m | time: 76.736s\n\u001b[2K\r| Adam | epoch: 006 | loss: 0.49999 - acc: 0.7745 -- iter: 19328/20250\n"
     ]
    },
    {
     "name": "stdout",
     "output_type": "stream",
     "text": [
      "Training Step: 1888  | total loss: \u001b[1m\u001b[32m0.50260\u001b[0m\u001b[0m | time: 76.981s\n\u001b[2K\r| Adam | epoch: 006 | loss: 0.50260 - acc: 0.7768 -- iter: 19392/20250\n"
     ]
    },
    {
     "name": "stdout",
     "output_type": "stream",
     "text": [
      "Training Step: 1889  | total loss: \u001b[1m\u001b[32m0.51320\u001b[0m\u001b[0m | time: 77.223s\n\u001b[2K\r| Adam | epoch: 006 | loss: 0.51320 - acc: 0.7741 -- iter: 19456/20250\n"
     ]
    },
    {
     "name": "stdout",
     "output_type": "stream",
     "text": [
      "Training Step: 1890  | total loss: \u001b[1m\u001b[32m0.50796\u001b[0m\u001b[0m | time: 77.474s\n\u001b[2K\r| Adam | epoch: 006 | loss: 0.50796 - acc: 0.7764 -- iter: 19520/20250\n"
     ]
    },
    {
     "name": "stdout",
     "output_type": "stream",
     "text": [
      "Training Step: 1891  | total loss: \u001b[1m\u001b[32m0.49524\u001b[0m\u001b[0m | time: 77.728s\n\u001b[2K\r| Adam | epoch: 006 | loss: 0.49524 - acc: 0.7862 -- iter: 19584/20250\n"
     ]
    },
    {
     "name": "stdout",
     "output_type": "stream",
     "text": [
      "Training Step: 1892  | total loss: \u001b[1m\u001b[32m0.48762\u001b[0m\u001b[0m | time: 77.971s\n\u001b[2K\r| Adam | epoch: 006 | loss: 0.48762 - acc: 0.7904 -- iter: 19648/20250\n"
     ]
    },
    {
     "name": "stdout",
     "output_type": "stream",
     "text": [
      "Training Step: 1893  | total loss: \u001b[1m\u001b[32m0.48545\u001b[0m\u001b[0m | time: 78.219s\n\u001b[2K\r| Adam | epoch: 006 | loss: 0.48545 - acc: 0.7911 -- iter: 19712/20250\n"
     ]
    },
    {
     "name": "stdout",
     "output_type": "stream",
     "text": [
      "Training Step: 1894  | total loss: \u001b[1m\u001b[32m0.49053\u001b[0m\u001b[0m | time: 78.463s\n\u001b[2K\r| Adam | epoch: 006 | loss: 0.49053 - acc: 0.7885 -- iter: 19776/20250\n"
     ]
    },
    {
     "name": "stdout",
     "output_type": "stream",
     "text": [
      "Training Step: 1895  | total loss: \u001b[1m\u001b[32m0.48819\u001b[0m\u001b[0m | time: 78.710s\n\u001b[2K\r| Adam | epoch: 006 | loss: 0.48819 - acc: 0.7909 -- iter: 19840/20250\n"
     ]
    },
    {
     "name": "stdout",
     "output_type": "stream",
     "text": [
      "Training Step: 1896  | total loss: \u001b[1m\u001b[32m0.48909\u001b[0m\u001b[0m | time: 78.977s\n\u001b[2K\r| Adam | epoch: 006 | loss: 0.48909 - acc: 0.7884 -- iter: 19904/20250\n"
     ]
    },
    {
     "name": "stdout",
     "output_type": "stream",
     "text": [
      "Training Step: 1897  | total loss: \u001b[1m\u001b[32m0.47802\u001b[0m\u001b[0m | time: 79.244s\n\u001b[2K\r| Adam | epoch: 006 | loss: 0.47802 - acc: 0.7971 -- iter: 19968/20250\n"
     ]
    },
    {
     "name": "stdout",
     "output_type": "stream",
     "text": [
      "Training Step: 1898  | total loss: \u001b[1m\u001b[32m0.47917\u001b[0m\u001b[0m | time: 79.497s\n\u001b[2K\r| Adam | epoch: 006 | loss: 0.47917 - acc: 0.7939 -- iter: 20032/20250\n"
     ]
    },
    {
     "name": "stdout",
     "output_type": "stream",
     "text": [
      "Training Step: 1899  | total loss: \u001b[1m\u001b[32m0.48482\u001b[0m\u001b[0m | time: 79.748s\n\u001b[2K\r| Adam | epoch: 006 | loss: 0.48482 - acc: 0.7942 -- iter: 20096/20250\n"
     ]
    },
    {
     "name": "stdout",
     "output_type": "stream",
     "text": [
      "Training Step: 1900  | total loss: \u001b[1m\u001b[32m0.48107\u001b[0m\u001b[0m | time: 79.990s\n\u001b[2K\r| Adam | epoch: 006 | loss: 0.48107 - acc: 0.7960 -- iter: 20160/20250\n"
     ]
    },
    {
     "name": "stdout",
     "output_type": "stream",
     "text": [
      "Training Step: 1901  | total loss: \u001b[1m\u001b[32m0.48434\u001b[0m\u001b[0m | time: 80.237s\n\u001b[2K\r| Adam | epoch: 006 | loss: 0.48434 - acc: 0.7930 -- iter: 20224/20250\n"
     ]
    },
    {
     "name": "stdout",
     "output_type": "stream",
     "text": [
      "Training Step: 1902  | total loss: \u001b[1m\u001b[32m0.48517\u001b[0m\u001b[0m | time: 82.178s\n\u001b[2K\r| Adam | epoch: 006 | loss: 0.48517 - acc: 0.7918 | val_loss: 0.69395 - val_acc: 0.6387 -- iter: 20250/20250\n--\n"
     ]
    },
    {
     "name": "stdout",
     "output_type": "stream",
     "text": [
      "Training Step: 1903  | total loss: \u001b[1m\u001b[32m0.50059\u001b[0m\u001b[0m | time: 0.244s\n\u001b[2K\r| Adam | epoch: 007 | loss: 0.50059 - acc: 0.7751 -- iter: 00064/20250\n"
     ]
    },
    {
     "name": "stdout",
     "output_type": "stream",
     "text": [
      "Training Step: 1904  | total loss: \u001b[1m\u001b[32m0.50552\u001b[0m\u001b[0m | time: 0.492s\n\u001b[2K\r| Adam | epoch: 007 | loss: 0.50552 - acc: 0.7695 -- iter: 00128/20250\n"
     ]
    },
    {
     "name": "stdout",
     "output_type": "stream",
     "text": [
      "Training Step: 1905  | total loss: \u001b[1m\u001b[32m0.50318\u001b[0m\u001b[0m | time: 0.741s\n\u001b[2K\r| Adam | epoch: 007 | loss: 0.50318 - acc: 0.7722 -- iter: 00192/20250\n"
     ]
    },
    {
     "name": "stdout",
     "output_type": "stream",
     "text": [
      "Training Step: 1906  | total loss: \u001b[1m\u001b[32m0.51149\u001b[0m\u001b[0m | time: 0.988s\n\u001b[2K\r| Adam | epoch: 007 | loss: 0.51149 - acc: 0.7638 -- iter: 00256/20250\n"
     ]
    },
    {
     "name": "stdout",
     "output_type": "stream",
     "text": [
      "Training Step: 1907  | total loss: \u001b[1m\u001b[32m0.51077\u001b[0m\u001b[0m | time: 1.224s\n\u001b[2K\r| Adam | epoch: 007 | loss: 0.51077 - acc: 0.7671 -- iter: 00320/20250\n"
     ]
    },
    {
     "name": "stdout",
     "output_type": "stream",
     "text": [
      "Training Step: 1908  | total loss: \u001b[1m\u001b[32m0.50809\u001b[0m\u001b[0m | time: 1.461s\n\u001b[2K\r| Adam | epoch: 007 | loss: 0.50809 - acc: 0.7634 -- iter: 00384/20250\n"
     ]
    },
    {
     "name": "stdout",
     "output_type": "stream",
     "text": [
      "Training Step: 1909  | total loss: \u001b[1m\u001b[32m0.50428\u001b[0m\u001b[0m | time: 1.708s\n\u001b[2K\r| Adam | epoch: 007 | loss: 0.50428 - acc: 0.7640 -- iter: 00448/20250\n"
     ]
    },
    {
     "name": "stdout",
     "output_type": "stream",
     "text": [
      "Training Step: 1910  | total loss: \u001b[1m\u001b[32m0.49772\u001b[0m\u001b[0m | time: 1.966s\n\u001b[2K\r| Adam | epoch: 007 | loss: 0.49772 - acc: 0.7673 -- iter: 00512/20250\n"
     ]
    },
    {
     "name": "stdout",
     "output_type": "stream",
     "text": [
      "Training Step: 1911  | total loss: \u001b[1m\u001b[32m0.49365\u001b[0m\u001b[0m | time: 2.230s\n\u001b[2K\r| Adam | epoch: 007 | loss: 0.49365 - acc: 0.7687 -- iter: 00576/20250\n"
     ]
    },
    {
     "name": "stdout",
     "output_type": "stream",
     "text": [
      "Training Step: 1912  | total loss: \u001b[1m\u001b[32m0.49424\u001b[0m\u001b[0m | time: 2.484s\n\u001b[2K\r| Adam | epoch: 007 | loss: 0.49424 - acc: 0.7700 -- iter: 00640/20250\n"
     ]
    },
    {
     "name": "stdout",
     "output_type": "stream",
     "text": [
      "Training Step: 1913  | total loss: \u001b[1m\u001b[32m0.49816\u001b[0m\u001b[0m | time: 2.745s\n\u001b[2K\r| Adam | epoch: 007 | loss: 0.49816 - acc: 0.7664 -- iter: 00704/20250\n"
     ]
    },
    {
     "name": "stdout",
     "output_type": "stream",
     "text": [
      "Training Step: 1914  | total loss: \u001b[1m\u001b[32m0.49565\u001b[0m\u001b[0m | time: 2.996s\n\u001b[2K\r| Adam | epoch: 007 | loss: 0.49565 - acc: 0.7694 -- iter: 00768/20250\n"
     ]
    },
    {
     "name": "stdout",
     "output_type": "stream",
     "text": [
      "Training Step: 1915  | total loss: \u001b[1m\u001b[32m0.49970\u001b[0m\u001b[0m | time: 3.243s\n\u001b[2K\r| Adam | epoch: 007 | loss: 0.49970 - acc: 0.7628 -- iter: 00832/20250\n"
     ]
    },
    {
     "name": "stdout",
     "output_type": "stream",
     "text": [
      "Training Step: 1916  | total loss: \u001b[1m\u001b[32m0.49781\u001b[0m\u001b[0m | time: 3.497s\n\u001b[2K\r| Adam | epoch: 007 | loss: 0.49781 - acc: 0.7647 -- iter: 00896/20250\n"
     ]
    },
    {
     "name": "stdout",
     "output_type": "stream",
     "text": [
      "Training Step: 1917  | total loss: \u001b[1m\u001b[32m0.48160\u001b[0m\u001b[0m | time: 3.742s\n\u001b[2K\r| Adam | epoch: 007 | loss: 0.48160 - acc: 0.7819 -- iter: 00960/20250\n"
     ]
    },
    {
     "name": "stdout",
     "output_type": "stream",
     "text": [
      "Training Step: 1918  | total loss: \u001b[1m\u001b[32m0.47896\u001b[0m\u001b[0m | time: 3.998s\n\u001b[2K\r| Adam | epoch: 007 | loss: 0.47896 - acc: 0.7850 -- iter: 01024/20250\n"
     ]
    },
    {
     "name": "stdout",
     "output_type": "stream",
     "text": [
      "Training Step: 1919  | total loss: \u001b[1m\u001b[32m0.49457\u001b[0m\u001b[0m | time: 4.263s\n\u001b[2K\r| Adam | epoch: 007 | loss: 0.49457 - acc: 0.7768 -- iter: 01088/20250\n"
     ]
    },
    {
     "name": "stdout",
     "output_type": "stream",
     "text": [
      "Training Step: 1920  | total loss: \u001b[1m\u001b[32m0.48709\u001b[0m\u001b[0m | time: 4.543s\n\u001b[2K\r| Adam | epoch: 007 | loss: 0.48709 - acc: 0.7819 -- iter: 01152/20250\n"
     ]
    },
    {
     "name": "stdout",
     "output_type": "stream",
     "text": [
      "Training Step: 1921  | total loss: \u001b[1m\u001b[32m0.48074\u001b[0m\u001b[0m | time: 4.797s\n\u001b[2K\r| Adam | epoch: 007 | loss: 0.48074 - acc: 0.7866 -- iter: 01216/20250\n"
     ]
    },
    {
     "name": "stdout",
     "output_type": "stream",
     "text": [
      "Training Step: 1922  | total loss: \u001b[1m\u001b[32m0.47938\u001b[0m\u001b[0m | time: 5.049s\n\u001b[2K\r| Adam | epoch: 007 | loss: 0.47938 - acc: 0.7845 -- iter: 01280/20250\n"
     ]
    },
    {
     "name": "stdout",
     "output_type": "stream",
     "text": [
      "Training Step: 1923  | total loss: \u001b[1m\u001b[32m0.48162\u001b[0m\u001b[0m | time: 5.293s\n\u001b[2K\r| Adam | epoch: 007 | loss: 0.48162 - acc: 0.7826 -- iter: 01344/20250\n"
     ]
    },
    {
     "name": "stdout",
     "output_type": "stream",
     "text": [
      "Training Step: 1924  | total loss: \u001b[1m\u001b[32m0.49131\u001b[0m\u001b[0m | time: 5.545s\n\u001b[2K\r| Adam | epoch: 007 | loss: 0.49131 - acc: 0.7746 -- iter: 01408/20250\n"
     ]
    },
    {
     "name": "stdout",
     "output_type": "stream",
     "text": [
      "Training Step: 1925  | total loss: \u001b[1m\u001b[32m0.52208\u001b[0m\u001b[0m | time: 5.794s\n\u001b[2K\r| Adam | epoch: 007 | loss: 0.52208 - acc: 0.7534 -- iter: 01472/20250\n"
     ]
    },
    {
     "name": "stdout",
     "output_type": "stream",
     "text": [
      "Training Step: 1926  | total loss: \u001b[1m\u001b[32m0.55411\u001b[0m\u001b[0m | time: 6.047s\n\u001b[2K\r| Adam | epoch: 007 | loss: 0.55411 - acc: 0.7296 -- iter: 01536/20250\n"
     ]
    },
    {
     "name": "stdout",
     "output_type": "stream",
     "text": [
      "Training Step: 1927  | total loss: \u001b[1m\u001b[32m0.58611\u001b[0m\u001b[0m | time: 6.295s\n\u001b[2K\r| Adam | epoch: 007 | loss: 0.58611 - acc: 0.7051 -- iter: 01600/20250\n"
     ]
    },
    {
     "name": "stdout",
     "output_type": "stream",
     "text": [
      "Training Step: 1928  | total loss: \u001b[1m\u001b[32m0.61016\u001b[0m\u001b[0m | time: 6.543s\n\u001b[2K\r| Adam | epoch: 007 | loss: 0.61016 - acc: 0.6862 -- iter: 01664/20250\n"
     ]
    },
    {
     "name": "stdout",
     "output_type": "stream",
     "text": [
      "Training Step: 1929  | total loss: \u001b[1m\u001b[32m0.62290\u001b[0m\u001b[0m | time: 6.813s\n\u001b[2K\r| Adam | epoch: 007 | loss: 0.62290 - acc: 0.6722 -- iter: 01728/20250\n"
     ]
    },
    {
     "name": "stdout",
     "output_type": "stream",
     "text": [
      "Training Step: 1930  | total loss: \u001b[1m\u001b[32m0.63311\u001b[0m\u001b[0m | time: 7.080s\n\u001b[2K\r| Adam | epoch: 007 | loss: 0.63311 - acc: 0.6597 -- iter: 01792/20250\n"
     ]
    },
    {
     "name": "stdout",
     "output_type": "stream",
     "text": [
      "Training Step: 1931  | total loss: \u001b[1m\u001b[32m0.62937\u001b[0m\u001b[0m | time: 7.323s\n\u001b[2K\r| Adam | epoch: 007 | loss: 0.62937 - acc: 0.6562 -- iter: 01856/20250\n"
     ]
    },
    {
     "name": "stdout",
     "output_type": "stream",
     "text": [
      "Training Step: 1932  | total loss: \u001b[1m\u001b[32m0.62407\u001b[0m\u001b[0m | time: 7.576s\n\u001b[2K\r| Adam | epoch: 007 | loss: 0.62407 - acc: 0.6562 -- iter: 01920/20250\n"
     ]
    },
    {
     "name": "stdout",
     "output_type": "stream",
     "text": [
      "Training Step: 1933  | total loss: \u001b[1m\u001b[32m0.61567\u001b[0m\u001b[0m | time: 7.823s\n\u001b[2K\r| Adam | epoch: 007 | loss: 0.61567 - acc: 0.6609 -- iter: 01984/20250\n"
     ]
    },
    {
     "name": "stdout",
     "output_type": "stream",
     "text": [
      "Training Step: 1934  | total loss: \u001b[1m\u001b[32m0.61579\u001b[0m\u001b[0m | time: 8.080s\n\u001b[2K\r| Adam | epoch: 007 | loss: 0.61579 - acc: 0.6526 -- iter: 02048/20250\n"
     ]
    },
    {
     "name": "stdout",
     "output_type": "stream",
     "text": [
      "Training Step: 1935  | total loss: \u001b[1m\u001b[32m0.61924\u001b[0m\u001b[0m | time: 8.325s\n\u001b[2K\r| Adam | epoch: 007 | loss: 0.61924 - acc: 0.6483 -- iter: 02112/20250\n"
     ]
    },
    {
     "name": "stdout",
     "output_type": "stream",
     "text": [
      "Training Step: 1936  | total loss: \u001b[1m\u001b[32m0.62119\u001b[0m\u001b[0m | time: 8.574s\n\u001b[2K\r| Adam | epoch: 007 | loss: 0.62119 - acc: 0.6382 -- iter: 02176/20250\n"
     ]
    },
    {
     "name": "stdout",
     "output_type": "stream",
     "text": [
      "Training Step: 1937  | total loss: \u001b[1m\u001b[32m0.61605\u001b[0m\u001b[0m | time: 8.814s\n\u001b[2K\r| Adam | epoch: 007 | loss: 0.61605 - acc: 0.6369 -- iter: 02240/20250\n"
     ]
    },
    {
     "name": "stdout",
     "output_type": "stream",
     "text": [
      "Training Step: 1938  | total loss: \u001b[1m\u001b[32m0.60922\u001b[0m\u001b[0m | time: 9.066s\n\u001b[2K\r| Adam | epoch: 007 | loss: 0.60922 - acc: 0.6404 -- iter: 02304/20250\n"
     ]
    },
    {
     "name": "stdout",
     "output_type": "stream",
     "text": [
      "Training Step: 1939  | total loss: \u001b[1m\u001b[32m0.60349\u001b[0m\u001b[0m | time: 9.328s\n\u001b[2K\r| Adam | epoch: 007 | loss: 0.60349 - acc: 0.6388 -- iter: 02368/20250\n"
     ]
    },
    {
     "name": "stdout",
     "output_type": "stream",
     "text": [
      "Training Step: 1940  | total loss: \u001b[1m\u001b[32m0.60069\u001b[0m\u001b[0m | time: 9.605s\n\u001b[2K\r| Adam | epoch: 007 | loss: 0.60069 - acc: 0.6359 -- iter: 02432/20250\n"
     ]
    },
    {
     "name": "stdout",
     "output_type": "stream",
     "text": [
      "Training Step: 1941  | total loss: \u001b[1m\u001b[32m0.59815\u001b[0m\u001b[0m | time: 9.856s\n\u001b[2K\r| Adam | epoch: 007 | loss: 0.59815 - acc: 0.6317 -- iter: 02496/20250\n"
     ]
    },
    {
     "name": "stdout",
     "output_type": "stream",
     "text": [
      "Training Step: 1942  | total loss: \u001b[1m\u001b[32m0.59375\u001b[0m\u001b[0m | time: 10.106s\n\u001b[2K\r| Adam | epoch: 007 | loss: 0.59375 - acc: 0.6357 -- iter: 02560/20250\n"
     ]
    },
    {
     "name": "stdout",
     "output_type": "stream",
     "text": [
      "Training Step: 1943  | total loss: \u001b[1m\u001b[32m0.59496\u001b[0m\u001b[0m | time: 10.357s\n\u001b[2K\r| Adam | epoch: 007 | loss: 0.59496 - acc: 0.6315 -- iter: 02624/20250\n"
     ]
    },
    {
     "name": "stdout",
     "output_type": "stream",
     "text": [
      "Training Step: 1944  | total loss: \u001b[1m\u001b[32m0.59226\u001b[0m\u001b[0m | time: 10.605s\n\u001b[2K\r| Adam | epoch: 007 | loss: 0.59226 - acc: 0.6277 -- iter: 02688/20250\n"
     ]
    },
    {
     "name": "stdout",
     "output_type": "stream",
     "text": [
      "Training Step: 1945  | total loss: \u001b[1m\u001b[32m0.59639\u001b[0m\u001b[0m | time: 10.850s\n\u001b[2K\r| Adam | epoch: 007 | loss: 0.59639 - acc: 0.6259 -- iter: 02752/20250\n"
     ]
    },
    {
     "name": "stdout",
     "output_type": "stream",
     "text": [
      "Training Step: 1946  | total loss: \u001b[1m\u001b[32m0.59310\u001b[0m\u001b[0m | time: 11.099s\n\u001b[2K\r| Adam | epoch: 007 | loss: 0.59310 - acc: 0.6305 -- iter: 02816/20250\n"
     ]
    },
    {
     "name": "stdout",
     "output_type": "stream",
     "text": [
      "Training Step: 1947  | total loss: \u001b[1m\u001b[32m0.58989\u001b[0m\u001b[0m | time: 11.353s\n\u001b[2K\r| Adam | epoch: 007 | loss: 0.58989 - acc: 0.6346 -- iter: 02880/20250\n"
     ]
    },
    {
     "name": "stdout",
     "output_type": "stream",
     "text": [
      "Training Step: 1948  | total loss: \u001b[1m\u001b[32m0.59575\u001b[0m\u001b[0m | time: 11.601s\n\u001b[2K\r| Adam | epoch: 007 | loss: 0.59575 - acc: 0.6243 -- iter: 02944/20250\n"
     ]
    },
    {
     "name": "stdout",
     "output_type": "stream",
     "text": [
      "Training Step: 1949  | total loss: \u001b[1m\u001b[32m0.58628\u001b[0m\u001b[0m | time: 11.865s\n\u001b[2K\r| Adam | epoch: 007 | loss: 0.58628 - acc: 0.6290 -- iter: 03008/20250\n"
     ]
    },
    {
     "name": "stdout",
     "output_type": "stream",
     "text": [
      "Training Step: 1950  | total loss: \u001b[1m\u001b[32m0.58313\u001b[0m\u001b[0m | time: 12.126s\n\u001b[2K\r| Adam | epoch: 007 | loss: 0.58313 - acc: 0.6302 -- iter: 03072/20250\n"
     ]
    },
    {
     "name": "stdout",
     "output_type": "stream",
     "text": [
      "Training Step: 1951  | total loss: \u001b[1m\u001b[32m0.58279\u001b[0m\u001b[0m | time: 12.367s\n\u001b[2K\r| Adam | epoch: 007 | loss: 0.58279 - acc: 0.6297 -- iter: 03136/20250\n"
     ]
    },
    {
     "name": "stdout",
     "output_type": "stream",
     "text": [
      "Training Step: 1952  | total loss: \u001b[1m\u001b[32m0.58091\u001b[0m\u001b[0m | time: 12.617s\n\u001b[2K\r| Adam | epoch: 007 | loss: 0.58091 - acc: 0.6308 -- iter: 03200/20250\n"
     ]
    },
    {
     "name": "stdout",
     "output_type": "stream",
     "text": [
      "Training Step: 1953  | total loss: \u001b[1m\u001b[32m0.57787\u001b[0m\u001b[0m | time: 12.868s\n\u001b[2K\r| Adam | epoch: 007 | loss: 0.57787 - acc: 0.6380 -- iter: 03264/20250\n"
     ]
    },
    {
     "name": "stdout",
     "output_type": "stream",
     "text": [
      "Training Step: 1954  | total loss: \u001b[1m\u001b[32m0.58077\u001b[0m\u001b[0m | time: 13.113s\n\u001b[2K\r| Adam | epoch: 007 | loss: 0.58077 - acc: 0.6305 -- iter: 03328/20250\n"
     ]
    },
    {
     "name": "stdout",
     "output_type": "stream",
     "text": [
      "Training Step: 1955  | total loss: \u001b[1m\u001b[32m0.58996\u001b[0m\u001b[0m | time: 13.364s\n\u001b[2K\r| Adam | epoch: 007 | loss: 0.58996 - acc: 0.6284 -- iter: 03392/20250\n"
     ]
    },
    {
     "name": "stdout",
     "output_type": "stream",
     "text": [
      "Training Step: 1956  | total loss: \u001b[1m\u001b[32m0.59992\u001b[0m\u001b[0m | time: 13.605s\n\u001b[2K\r| Adam | epoch: 007 | loss: 0.59992 - acc: 0.6327 -- iter: 03456/20250\n"
     ]
    },
    {
     "name": "stdout",
     "output_type": "stream",
     "text": [
      "Training Step: 1957  | total loss: \u001b[1m\u001b[32m0.63482\u001b[0m\u001b[0m | time: 13.857s\n\u001b[2K\r| Adam | epoch: 007 | loss: 0.63482 - acc: 0.6288 -- iter: 03520/20250\n"
     ]
    },
    {
     "name": "stdout",
     "output_type": "stream",
     "text": [
      "Training Step: 1958  | total loss: \u001b[1m\u001b[32m0.67092\u001b[0m\u001b[0m | time: 14.104s\n\u001b[2K\r| Adam | epoch: 007 | loss: 0.67092 - acc: 0.6222 -- iter: 03584/20250\n"
     ]
    },
    {
     "name": "stdout",
     "output_type": "stream",
     "text": [
      "Training Step: 1959  | total loss: \u001b[1m\u001b[32m0.68853\u001b[0m\u001b[0m | time: 14.379s\n\u001b[2K\r| Adam | epoch: 007 | loss: 0.68853 - acc: 0.6225 -- iter: 03648/20250\n"
     ]
    },
    {
     "name": "stdout",
     "output_type": "stream",
     "text": [
      "Training Step: 1960  | total loss: \u001b[1m\u001b[32m0.72599\u001b[0m\u001b[0m | time: 14.674s\n\u001b[2K\r| Adam | epoch: 007 | loss: 0.72599 - acc: 0.6118 -- iter: 03712/20250\n"
     ]
    },
    {
     "name": "stdout",
     "output_type": "stream",
     "text": [
      "Training Step: 1961  | total loss: \u001b[1m\u001b[32m0.75584\u001b[0m\u001b[0m | time: 14.920s\n\u001b[2K\r| Adam | epoch: 007 | loss: 0.75584 - acc: 0.6006 -- iter: 03776/20250\n"
     ]
    },
    {
     "name": "stdout",
     "output_type": "stream",
     "text": [
      "Training Step: 1962  | total loss: \u001b[1m\u001b[32m0.78416\u001b[0m\u001b[0m | time: 15.168s\n\u001b[2K\r| Adam | epoch: 007 | loss: 0.78416 - acc: 0.5859 -- iter: 03840/20250\n"
     ]
    },
    {
     "name": "stdout",
     "output_type": "stream",
     "text": [
      "Training Step: 1963  | total loss: \u001b[1m\u001b[32m0.79345\u001b[0m\u001b[0m | time: 15.424s\n\u001b[2K\r| Adam | epoch: 007 | loss: 0.79345 - acc: 0.5773 -- iter: 03904/20250\n"
     ]
    },
    {
     "name": "stdout",
     "output_type": "stream",
     "text": [
      "Training Step: 1964  | total loss: \u001b[1m\u001b[32m0.79316\u001b[0m\u001b[0m | time: 15.668s\n\u001b[2K\r| Adam | epoch: 007 | loss: 0.79316 - acc: 0.5742 -- iter: 03968/20250\n"
     ]
    },
    {
     "name": "stdout",
     "output_type": "stream",
     "text": [
      "Training Step: 1965  | total loss: \u001b[1m\u001b[32m0.78233\u001b[0m\u001b[0m | time: 15.915s\n\u001b[2K\r| Adam | epoch: 007 | loss: 0.78233 - acc: 0.5793 -- iter: 04032/20250\n"
     ]
    },
    {
     "name": "stdout",
     "output_type": "stream",
     "text": [
      "Training Step: 1966  | total loss: \u001b[1m\u001b[32m0.76354\u001b[0m\u001b[0m | time: 16.161s\n\u001b[2K\r| Adam | epoch: 007 | loss: 0.76354 - acc: 0.5839 -- iter: 04096/20250\n"
     ]
    },
    {
     "name": "stdout",
     "output_type": "stream",
     "text": [
      "Training Step: 1967  | total loss: \u001b[1m\u001b[32m0.75566\u001b[0m\u001b[0m | time: 16.408s\n\u001b[2K\r| Adam | epoch: 007 | loss: 0.75566 - acc: 0.5802 -- iter: 04160/20250\n"
     ]
    },
    {
     "name": "stdout",
     "output_type": "stream",
     "text": [
      "Training Step: 1968  | total loss: \u001b[1m\u001b[32m0.74521\u001b[0m\u001b[0m | time: 16.655s\n\u001b[2K\r| Adam | epoch: 007 | loss: 0.74521 - acc: 0.5878 -- iter: 04224/20250\n"
     ]
    },
    {
     "name": "stdout",
     "output_type": "stream",
     "text": [
      "Training Step: 1969  | total loss: \u001b[1m\u001b[32m0.73579\u001b[0m\u001b[0m | time: 16.948s\n\u001b[2K\r| Adam | epoch: 007 | loss: 0.73579 - acc: 0.5853 -- iter: 04288/20250\n"
     ]
    },
    {
     "name": "stdout",
     "output_type": "stream",
     "text": [
      "Training Step: 1970  | total loss: \u001b[1m\u001b[32m0.72215\u001b[0m\u001b[0m | time: 17.214s\n\u001b[2K\r| Adam | epoch: 007 | loss: 0.72215 - acc: 0.5892 -- iter: 04352/20250\n"
     ]
    },
    {
     "name": "stdout",
     "output_type": "stream",
     "text": [
      "Training Step: 1971  | total loss: \u001b[1m\u001b[32m0.70820\u001b[0m\u001b[0m | time: 17.459s\n\u001b[2K\r| Adam | epoch: 007 | loss: 0.70820 - acc: 0.5912 -- iter: 04416/20250\n"
     ]
    },
    {
     "name": "stdout",
     "output_type": "stream",
     "text": [
      "Training Step: 1972  | total loss: \u001b[1m\u001b[32m0.70060\u001b[0m\u001b[0m | time: 17.699s\n\u001b[2K\r| Adam | epoch: 007 | loss: 0.70060 - acc: 0.5946 -- iter: 04480/20250\n"
     ]
    },
    {
     "name": "stdout",
     "output_type": "stream",
     "text": [
      "Training Step: 1973  | total loss: \u001b[1m\u001b[32m0.69383\u001b[0m\u001b[0m | time: 17.941s\n\u001b[2K\r| Adam | epoch: 007 | loss: 0.69383 - acc: 0.5930 -- iter: 04544/20250\n"
     ]
    },
    {
     "name": "stdout",
     "output_type": "stream",
     "text": [
      "Training Step: 1974  | total loss: \u001b[1m\u001b[32m0.68738\u001b[0m\u001b[0m | time: 18.189s\n\u001b[2K\r| Adam | epoch: 007 | loss: 0.68738 - acc: 0.5977 -- iter: 04608/20250\n"
     ]
    },
    {
     "name": "stdout",
     "output_type": "stream",
     "text": [
      "Training Step: 1975  | total loss: \u001b[1m\u001b[32m0.68362\u001b[0m\u001b[0m | time: 18.437s\n\u001b[2K\r| Adam | epoch: 007 | loss: 0.68362 - acc: 0.6005 -- iter: 04672/20250\n"
     ]
    },
    {
     "name": "stdout",
     "output_type": "stream",
     "text": [
      "Training Step: 1976  | total loss: \u001b[1m\u001b[32m0.67898\u001b[0m\u001b[0m | time: 18.682s\n\u001b[2K\r| Adam | epoch: 007 | loss: 0.67898 - acc: 0.6029 -- iter: 04736/20250\n"
     ]
    },
    {
     "name": "stdout",
     "output_type": "stream",
     "text": [
      "Training Step: 1977  | total loss: \u001b[1m\u001b[32m0.67305\u001b[0m\u001b[0m | time: 18.922s\n\u001b[2K\r| Adam | epoch: 007 | loss: 0.67305 - acc: 0.6051 -- iter: 04800/20250\n"
     ]
    },
    {
     "name": "stdout",
     "output_type": "stream",
     "text": [
      "Training Step: 1978  | total loss: \u001b[1m\u001b[32m0.66984\u001b[0m\u001b[0m | time: 19.168s\n\u001b[2K\r| Adam | epoch: 007 | loss: 0.66984 - acc: 0.6071 -- iter: 04864/20250\n"
     ]
    },
    {
     "name": "stdout",
     "output_type": "stream",
     "text": [
      "Training Step: 1979  | total loss: \u001b[1m\u001b[32m0.67441\u001b[0m\u001b[0m | time: 19.446s\n\u001b[2K\r| Adam | epoch: 007 | loss: 0.67441 - acc: 0.5980 -- iter: 04928/20250\n"
     ]
    },
    {
     "name": "stdout",
     "output_type": "stream",
     "text": [
      "Training Step: 1980  | total loss: \u001b[1m\u001b[32m0.66718\u001b[0m\u001b[0m | time: 19.722s\n\u001b[2K\r| Adam | epoch: 007 | loss: 0.66718 - acc: 0.6054 -- iter: 04992/20250\n"
     ]
    },
    {
     "name": "stdout",
     "output_type": "stream",
     "text": [
      "Training Step: 1981  | total loss: \u001b[1m\u001b[32m0.66577\u001b[0m\u001b[0m | time: 19.984s\n\u001b[2K\r| Adam | epoch: 007 | loss: 0.66577 - acc: 0.6058 -- iter: 05056/20250\n"
     ]
    },
    {
     "name": "stdout",
     "output_type": "stream",
     "text": [
      "Training Step: 1982  | total loss: \u001b[1m\u001b[32m0.67297\u001b[0m\u001b[0m | time: 20.229s\n\u001b[2K\r| Adam | epoch: 007 | loss: 0.67297 - acc: 0.5936 -- iter: 05120/20250\n"
     ]
    },
    {
     "name": "stdout",
     "output_type": "stream",
     "text": [
      "Training Step: 1983  | total loss: \u001b[1m\u001b[32m0.67989\u001b[0m\u001b[0m | time: 20.482s\n\u001b[2K\r| Adam | epoch: 007 | loss: 0.67989 - acc: 0.5827 -- iter: 05184/20250\n"
     ]
    },
    {
     "name": "stdout",
     "output_type": "stream",
     "text": [
      "Training Step: 1984  | total loss: \u001b[1m\u001b[32m0.68608\u001b[0m\u001b[0m | time: 20.729s\n\u001b[2K\r| Adam | epoch: 007 | loss: 0.68608 - acc: 0.5729 -- iter: 05248/20250\n"
     ]
    },
    {
     "name": "stdout",
     "output_type": "stream",
     "text": [
      "Training Step: 1985  | total loss: \u001b[1m\u001b[32m0.68293\u001b[0m\u001b[0m | time: 20.975s\n\u001b[2K\r| Adam | epoch: 007 | loss: 0.68293 - acc: 0.5687 -- iter: 05312/20250\n"
     ]
    },
    {
     "name": "stdout",
     "output_type": "stream",
     "text": [
      "Training Step: 1986  | total loss: \u001b[1m\u001b[32m0.68538\u001b[0m\u001b[0m | time: 21.222s\n\u001b[2K\r| Adam | epoch: 007 | loss: 0.68538 - acc: 0.5650 -- iter: 05376/20250\n"
     ]
    },
    {
     "name": "stdout",
     "output_type": "stream",
     "text": [
      "Training Step: 1987  | total loss: \u001b[1m\u001b[32m0.68698\u001b[0m\u001b[0m | time: 21.472s\n\u001b[2K\r| Adam | epoch: 007 | loss: 0.68698 - acc: 0.5631 -- iter: 05440/20250\n"
     ]
    },
    {
     "name": "stdout",
     "output_type": "stream",
     "text": [
      "Training Step: 1988  | total loss: \u001b[1m\u001b[32m0.67575\u001b[0m\u001b[0m | time: 21.712s\n\u001b[2K\r| Adam | epoch: 007 | loss: 0.67575 - acc: 0.5693 -- iter: 05504/20250\n"
     ]
    },
    {
     "name": "stdout",
     "output_type": "stream",
     "text": [
      "Training Step: 1989  | total loss: \u001b[1m\u001b[32m0.66772\u001b[0m\u001b[0m | time: 21.989s\n\u001b[2K\r| Adam | epoch: 007 | loss: 0.66772 - acc: 0.5765 -- iter: 05568/20250\n"
     ]
    },
    {
     "name": "stdout",
     "output_type": "stream",
     "text": [
      "Training Step: 1990  | total loss: \u001b[1m\u001b[32m0.67060\u001b[0m\u001b[0m | time: 22.251s\n\u001b[2K\r| Adam | epoch: 007 | loss: 0.67060 - acc: 0.5688 -- iter: 05632/20250\n"
     ]
    },
    {
     "name": "stdout",
     "output_type": "stream",
     "text": [
      "Training Step: 1991  | total loss: \u001b[1m\u001b[32m0.66121\u001b[0m\u001b[0m | time: 22.490s\n\u001b[2K\r| Adam | epoch: 007 | loss: 0.66121 - acc: 0.5791 -- iter: 05696/20250\n"
     ]
    },
    {
     "name": "stdout",
     "output_type": "stream",
     "text": [
      "Training Step: 1992  | total loss: \u001b[1m\u001b[32m0.65453\u001b[0m\u001b[0m | time: 22.730s\n\u001b[2K\r| Adam | epoch: 007 | loss: 0.65453 - acc: 0.5821 -- iter: 05760/20250\n"
     ]
    },
    {
     "name": "stdout",
     "output_type": "stream",
     "text": [
      "Training Step: 1993  | total loss: \u001b[1m\u001b[32m0.65561\u001b[0m\u001b[0m | time: 22.974s\n\u001b[2K\r| Adam | epoch: 007 | loss: 0.65561 - acc: 0.5802 -- iter: 05824/20250\n"
     ]
    },
    {
     "name": "stdout",
     "output_type": "stream",
     "text": [
      "Training Step: 1994  | total loss: \u001b[1m\u001b[32m0.64942\u001b[0m\u001b[0m | time: 23.223s\n\u001b[2K\r| Adam | epoch: 007 | loss: 0.64942 - acc: 0.5800 -- iter: 05888/20250\n"
     ]
    },
    {
     "name": "stdout",
     "output_type": "stream",
     "text": [
      "Training Step: 1995  | total loss: \u001b[1m\u001b[32m0.64211\u001b[0m\u001b[0m | time: 23.467s\n\u001b[2K\r| Adam | epoch: 007 | loss: 0.64211 - acc: 0.5907 -- iter: 05952/20250\n"
     ]
    },
    {
     "name": "stdout",
     "output_type": "stream",
     "text": [
      "Training Step: 1996  | total loss: \u001b[1m\u001b[32m0.63777\u001b[0m\u001b[0m | time: 23.710s\n\u001b[2K\r| Adam | epoch: 007 | loss: 0.63777 - acc: 0.5957 -- iter: 06016/20250\n"
     ]
    },
    {
     "name": "stdout",
     "output_type": "stream",
     "text": [
      "Training Step: 1997  | total loss: \u001b[1m\u001b[32m0.63087\u001b[0m\u001b[0m | time: 23.951s\n\u001b[2K\r| Adam | epoch: 007 | loss: 0.63087 - acc: 0.5986 -- iter: 06080/20250\n"
     ]
    },
    {
     "name": "stdout",
     "output_type": "stream",
     "text": [
      "Training Step: 1998  | total loss: \u001b[1m\u001b[32m0.62473\u001b[0m\u001b[0m | time: 24.196s\n\u001b[2K\r| Adam | epoch: 007 | loss: 0.62473 - acc: 0.5997 -- iter: 06144/20250\n"
     ]
    },
    {
     "name": "stdout",
     "output_type": "stream",
     "text": [
      "Training Step: 1999  | total loss: \u001b[1m\u001b[32m0.62162\u001b[0m\u001b[0m | time: 24.449s\n\u001b[2K\r| Adam | epoch: 007 | loss: 0.62162 - acc: 0.6054 -- iter: 06208/20250\n"
     ]
    },
    {
     "name": "stdout",
     "output_type": "stream",
     "text": [
      "Training Step: 2000  | total loss: \u001b[1m\u001b[32m0.62948\u001b[0m\u001b[0m | time: 24.700s\n\u001b[2K\r| Adam | epoch: 007 | loss: 0.62948 - acc: 0.6026 -- iter: 06272/20250\n"
     ]
    },
    {
     "name": "stdout",
     "output_type": "stream",
     "text": [
      "Training Step: 2001  | total loss: \u001b[1m\u001b[32m0.62679\u001b[0m\u001b[0m | time: 24.951s\n\u001b[2K\r| Adam | epoch: 007 | loss: 0.62679 - acc: 0.6033 -- iter: 06336/20250\n"
     ]
    },
    {
     "name": "stdout",
     "output_type": "stream",
     "text": [
      "Training Step: 2002  | total loss: \u001b[1m\u001b[32m0.62814\u001b[0m\u001b[0m | time: 25.203s\n\u001b[2K\r| Adam | epoch: 007 | loss: 0.62814 - acc: 0.6055 -- iter: 06400/20250\n"
     ]
    },
    {
     "name": "stdout",
     "output_type": "stream",
     "text": [
      "Training Step: 2003  | total loss: \u001b[1m\u001b[32m0.62219\u001b[0m\u001b[0m | time: 25.468s\n\u001b[2K\r| Adam | epoch: 007 | loss: 0.62219 - acc: 0.6184 -- iter: 06464/20250\n"
     ]
    },
    {
     "name": "stdout",
     "output_type": "stream",
     "text": [
      "Training Step: 2004  | total loss: \u001b[1m\u001b[32m0.62630\u001b[0m\u001b[0m | time: 25.707s\n\u001b[2K\r| Adam | epoch: 007 | loss: 0.62630 - acc: 0.6112 -- iter: 06528/20250\n"
     ]
    },
    {
     "name": "stdout",
     "output_type": "stream",
     "text": [
      "Training Step: 2005  | total loss: \u001b[1m\u001b[32m0.62583\u001b[0m\u001b[0m | time: 25.943s\n\u001b[2K\r| Adam | epoch: 007 | loss: 0.62583 - acc: 0.6126 -- iter: 06592/20250\n"
     ]
    },
    {
     "name": "stdout",
     "output_type": "stream",
     "text": [
      "Training Step: 2006  | total loss: \u001b[1m\u001b[32m0.62649\u001b[0m\u001b[0m | time: 26.190s\n\u001b[2K\r| Adam | epoch: 007 | loss: 0.62649 - acc: 0.6076 -- iter: 06656/20250\n"
     ]
    },
    {
     "name": "stdout",
     "output_type": "stream",
     "text": [
      "Training Step: 2007  | total loss: \u001b[1m\u001b[32m0.62382\u001b[0m\u001b[0m | time: 26.435s\n\u001b[2K\r| Adam | epoch: 007 | loss: 0.62382 - acc: 0.6078 -- iter: 06720/20250\n"
     ]
    },
    {
     "name": "stdout",
     "output_type": "stream",
     "text": [
      "Training Step: 2008  | total loss: \u001b[1m\u001b[32m0.62084\u001b[0m\u001b[0m | time: 26.681s\n\u001b[2K\r| Adam | epoch: 007 | loss: 0.62084 - acc: 0.6111 -- iter: 06784/20250\n"
     ]
    },
    {
     "name": "stdout",
     "output_type": "stream",
     "text": [
      "Training Step: 2009  | total loss: \u001b[1m\u001b[32m0.61877\u001b[0m\u001b[0m | time: 26.930s\n\u001b[2K\r| Adam | epoch: 007 | loss: 0.61877 - acc: 0.6156 -- iter: 06848/20250\n"
     ]
    },
    {
     "name": "stdout",
     "output_type": "stream",
     "text": [
      "Training Step: 2010  | total loss: \u001b[1m\u001b[32m0.61715\u001b[0m\u001b[0m | time: 27.170s\n\u001b[2K\r| Adam | epoch: 007 | loss: 0.61715 - acc: 0.6228 -- iter: 06912/20250\n"
     ]
    },
    {
     "name": "stdout",
     "output_type": "stream",
     "text": [
      "Training Step: 2011  | total loss: \u001b[1m\u001b[32m0.61453\u001b[0m\u001b[0m | time: 27.414s\n\u001b[2K\r| Adam | epoch: 007 | loss: 0.61453 - acc: 0.6199 -- iter: 06976/20250\n"
     ]
    },
    {
     "name": "stdout",
     "output_type": "stream",
     "text": [
      "Training Step: 2012  | total loss: \u001b[1m\u001b[32m0.61213\u001b[0m\u001b[0m | time: 27.669s\n\u001b[2K\r| Adam | epoch: 007 | loss: 0.61213 - acc: 0.6235 -- iter: 07040/20250\n"
     ]
    },
    {
     "name": "stdout",
     "output_type": "stream",
     "text": [
      "Training Step: 2013  | total loss: \u001b[1m\u001b[32m0.61388\u001b[0m\u001b[0m | time: 27.922s\n\u001b[2K\r| Adam | epoch: 007 | loss: 0.61388 - acc: 0.6237 -- iter: 07104/20250\n"
     ]
    },
    {
     "name": "stdout",
     "output_type": "stream",
     "text": [
      "Training Step: 2014  | total loss: \u001b[1m\u001b[32m0.61327\u001b[0m\u001b[0m | time: 28.192s\n\u001b[2K\r| Adam | epoch: 007 | loss: 0.61327 - acc: 0.6207 -- iter: 07168/20250\n"
     ]
    },
    {
     "name": "stdout",
     "output_type": "stream",
     "text": [
      "Training Step: 2015  | total loss: \u001b[1m\u001b[32m0.61101\u001b[0m\u001b[0m | time: 28.436s\n\u001b[2K\r| Adam | epoch: 007 | loss: 0.61101 - acc: 0.6180 -- iter: 07232/20250\n"
     ]
    },
    {
     "name": "stdout",
     "output_type": "stream",
     "text": [
      "Training Step: 2016  | total loss: \u001b[1m\u001b[32m0.61211\u001b[0m\u001b[0m | time: 28.671s\n\u001b[2K\r| Adam | epoch: 007 | loss: 0.61211 - acc: 0.6218 -- iter: 07296/20250\n"
     ]
    },
    {
     "name": "stdout",
     "output_type": "stream",
     "text": [
      "Training Step: 2017  | total loss: \u001b[1m\u001b[32m0.60481\u001b[0m\u001b[0m | time: 28.918s\n\u001b[2K\r| Adam | epoch: 007 | loss: 0.60481 - acc: 0.6377 -- iter: 07360/20250\n"
     ]
    },
    {
     "name": "stdout",
     "output_type": "stream",
     "text": [
      "Training Step: 2018  | total loss: \u001b[1m\u001b[32m0.60111\u001b[0m\u001b[0m | time: 29.165s\n\u001b[2K\r| Adam | epoch: 007 | loss: 0.60111 - acc: 0.6443 -- iter: 07424/20250\n"
     ]
    },
    {
     "name": "stdout",
     "output_type": "stream",
     "text": [
      "Training Step: 2019  | total loss: \u001b[1m\u001b[32m0.60148\u001b[0m\u001b[0m | time: 29.411s\n\u001b[2K\r| Adam | epoch: 007 | loss: 0.60148 - acc: 0.6502 -- iter: 07488/20250\n"
     ]
    },
    {
     "name": "stdout",
     "output_type": "stream",
     "text": [
      "Training Step: 2020  | total loss: \u001b[1m\u001b[32m0.60831\u001b[0m\u001b[0m | time: 29.651s\n\u001b[2K\r| Adam | epoch: 007 | loss: 0.60831 - acc: 0.6461 -- iter: 07552/20250\n"
     ]
    },
    {
     "name": "stdout",
     "output_type": "stream",
     "text": [
      "Training Step: 2021  | total loss: \u001b[1m\u001b[32m0.61022\u001b[0m\u001b[0m | time: 29.892s\n\u001b[2K\r| Adam | epoch: 007 | loss: 0.61022 - acc: 0.6502 -- iter: 07616/20250\n"
     ]
    },
    {
     "name": "stdout",
     "output_type": "stream",
     "text": [
      "Training Step: 2022  | total loss: \u001b[1m\u001b[32m0.61466\u001b[0m\u001b[0m | time: 30.133s\n\u001b[2K\r| Adam | epoch: 007 | loss: 0.61466 - acc: 0.6399 -- iter: 07680/20250\n"
     ]
    },
    {
     "name": "stdout",
     "output_type": "stream",
     "text": [
      "Training Step: 2023  | total loss: \u001b[1m\u001b[32m0.61416\u001b[0m\u001b[0m | time: 30.383s\n\u001b[2K\r| Adam | epoch: 007 | loss: 0.61416 - acc: 0.6431 -- iter: 07744/20250\n"
     ]
    },
    {
     "name": "stdout",
     "output_type": "stream",
     "text": [
      "Training Step: 2024  | total loss: \u001b[1m\u001b[32m0.60866\u001b[0m\u001b[0m | time: 30.630s\n\u001b[2K\r| Adam | epoch: 007 | loss: 0.60866 - acc: 0.6616 -- iter: 07808/20250\n"
     ]
    },
    {
     "name": "stdout",
     "output_type": "stream",
     "text": [
      "Training Step: 2025  | total loss: \u001b[1m\u001b[32m0.60699\u001b[0m\u001b[0m | time: 30.868s\n\u001b[2K\r| Adam | epoch: 007 | loss: 0.60699 - acc: 0.6611 -- iter: 07872/20250\n"
     ]
    },
    {
     "name": "stdout",
     "output_type": "stream",
     "text": [
      "Training Step: 2026  | total loss: \u001b[1m\u001b[32m0.60179\u001b[0m\u001b[0m | time: 31.114s\n\u001b[2K\r| Adam | epoch: 007 | loss: 0.60179 - acc: 0.6637 -- iter: 07936/20250\n"
     ]
    },
    {
     "name": "stdout",
     "output_type": "stream",
     "text": [
      "Training Step: 2027  | total loss: \u001b[1m\u001b[32m0.60644\u001b[0m\u001b[0m | time: 31.363s\n\u001b[2K\r| Adam | epoch: 007 | loss: 0.60644 - acc: 0.6614 -- iter: 08000/20250\n"
     ]
    },
    {
     "name": "stdout",
     "output_type": "stream",
     "text": [
      "Training Step: 2028  | total loss: \u001b[1m\u001b[32m0.60823\u001b[0m\u001b[0m | time: 31.604s\n\u001b[2K\r| Adam | epoch: 007 | loss: 0.60823 - acc: 0.6593 -- iter: 08064/20250\n"
     ]
    },
    {
     "name": "stdout",
     "output_type": "stream",
     "text": [
      "Training Step: 2029  | total loss: \u001b[1m\u001b[32m0.61215\u001b[0m\u001b[0m | time: 31.853s\n\u001b[2K\r| Adam | epoch: 007 | loss: 0.61215 - acc: 0.6543 -- iter: 08128/20250\n"
     ]
    },
    {
     "name": "stdout",
     "output_type": "stream",
     "text": [
      "Training Step: 2030  | total loss: \u001b[1m\u001b[32m0.60840\u001b[0m\u001b[0m | time: 32.092s\n\u001b[2K\r| Adam | epoch: 007 | loss: 0.60840 - acc: 0.6530 -- iter: 08192/20250\n"
     ]
    },
    {
     "name": "stdout",
     "output_type": "stream",
     "text": [
      "Training Step: 2031  | total loss: \u001b[1m\u001b[32m0.60082\u001b[0m\u001b[0m | time: 32.334s\n\u001b[2K\r| Adam | epoch: 007 | loss: 0.60082 - acc: 0.6627 -- iter: 08256/20250\n"
     ]
    },
    {
     "name": "stdout",
     "output_type": "stream",
     "text": [
      "Training Step: 2032  | total loss: \u001b[1m\u001b[32m0.59970\u001b[0m\u001b[0m | time: 32.579s\n\u001b[2K\r| Adam | epoch: 007 | loss: 0.59970 - acc: 0.6636 -- iter: 08320/20250\n"
     ]
    },
    {
     "name": "stdout",
     "output_type": "stream",
     "text": [
      "Training Step: 2033  | total loss: \u001b[1m\u001b[32m0.59644\u001b[0m\u001b[0m | time: 32.839s\n\u001b[2K\r| Adam | epoch: 007 | loss: 0.59644 - acc: 0.6660 -- iter: 08384/20250\n"
     ]
    },
    {
     "name": "stdout",
     "output_type": "stream",
     "text": [
      "Training Step: 2034  | total loss: \u001b[1m\u001b[32m0.60565\u001b[0m\u001b[0m | time: 33.112s\n\u001b[2K\r| Adam | epoch: 007 | loss: 0.60565 - acc: 0.6572 -- iter: 08448/20250\n"
     ]
    },
    {
     "name": "stdout",
     "output_type": "stream",
     "text": [
      "Training Step: 2035  | total loss: \u001b[1m\u001b[32m0.59808\u001b[0m\u001b[0m | time: 33.353s\n\u001b[2K\r| Adam | epoch: 007 | loss: 0.59808 - acc: 0.6618 -- iter: 08512/20250\n"
     ]
    },
    {
     "name": "stdout",
     "output_type": "stream",
     "text": [
      "Training Step: 2036  | total loss: \u001b[1m\u001b[32m0.60458\u001b[0m\u001b[0m | time: 33.596s\n\u001b[2K\r| Adam | epoch: 007 | loss: 0.60458 - acc: 0.6503 -- iter: 08576/20250\n"
     ]
    },
    {
     "name": "stdout",
     "output_type": "stream",
     "text": [
      "Training Step: 2037  | total loss: \u001b[1m\u001b[32m0.60555\u001b[0m\u001b[0m | time: 33.845s\n\u001b[2K\r| Adam | epoch: 007 | loss: 0.60555 - acc: 0.6493 -- iter: 08640/20250\n"
     ]
    },
    {
     "name": "stdout",
     "output_type": "stream",
     "text": [
      "Training Step: 2038  | total loss: \u001b[1m\u001b[32m0.59625\u001b[0m\u001b[0m | time: 34.092s\n\u001b[2K\r| Adam | epoch: 007 | loss: 0.59625 - acc: 0.6625 -- iter: 08704/20250\n"
     ]
    },
    {
     "name": "stdout",
     "output_type": "stream",
     "text": [
      "Training Step: 2039  | total loss: \u001b[1m\u001b[32m0.60744\u001b[0m\u001b[0m | time: 34.333s\n\u001b[2K\r| Adam | epoch: 007 | loss: 0.60744 - acc: 0.6556 -- iter: 08768/20250\n"
     ]
    },
    {
     "name": "stdout",
     "output_type": "stream",
     "text": [
      "Training Step: 2040  | total loss: \u001b[1m\u001b[32m0.59779\u001b[0m\u001b[0m | time: 34.576s\n\u001b[2K\r| Adam | epoch: 007 | loss: 0.59779 - acc: 0.6604 -- iter: 08832/20250\n"
     ]
    },
    {
     "name": "stdout",
     "output_type": "stream",
     "text": [
      "Training Step: 2041  | total loss: \u001b[1m\u001b[32m0.59700\u001b[0m\u001b[0m | time: 34.824s\n\u001b[2K\r| Adam | epoch: 007 | loss: 0.59700 - acc: 0.6615 -- iter: 08896/20250\n"
     ]
    },
    {
     "name": "stdout",
     "output_type": "stream",
     "text": [
      "Training Step: 2042  | total loss: \u001b[1m\u001b[32m0.59335\u001b[0m\u001b[0m | time: 35.066s\n\u001b[2K\r| Adam | epoch: 007 | loss: 0.59335 - acc: 0.6579 -- iter: 08960/20250\n"
     ]
    },
    {
     "name": "stdout",
     "output_type": "stream",
     "text": [
      "Training Step: 2043  | total loss: \u001b[1m\u001b[32m0.58846\u001b[0m\u001b[0m | time: 35.330s\n\u001b[2K\r| Adam | epoch: 007 | loss: 0.58846 - acc: 0.6687 -- iter: 09024/20250\n"
     ]
    },
    {
     "name": "stdout",
     "output_type": "stream",
     "text": [
      "Training Step: 2044  | total loss: \u001b[1m\u001b[32m0.58599\u001b[0m\u001b[0m | time: 35.603s\n\u001b[2K\r| Adam | epoch: 007 | loss: 0.58599 - acc: 0.6674 -- iter: 09088/20250\n"
     ]
    },
    {
     "name": "stdout",
     "output_type": "stream",
     "text": [
      "Training Step: 2045  | total loss: \u001b[1m\u001b[32m0.59264\u001b[0m\u001b[0m | time: 35.848s\n\u001b[2K\r| Adam | epoch: 007 | loss: 0.59264 - acc: 0.6538 -- iter: 09152/20250\n"
     ]
    },
    {
     "name": "stdout",
     "output_type": "stream",
     "text": [
      "Training Step: 2046  | total loss: \u001b[1m\u001b[32m0.58612\u001b[0m\u001b[0m | time: 36.089s\n\u001b[2K\r| Adam | epoch: 007 | loss: 0.58612 - acc: 0.6603 -- iter: 09216/20250\n"
     ]
    },
    {
     "name": "stdout",
     "output_type": "stream",
     "text": [
      "Training Step: 2047  | total loss: \u001b[1m\u001b[32m0.59359\u001b[0m\u001b[0m | time: 36.337s\n\u001b[2K\r| Adam | epoch: 007 | loss: 0.59359 - acc: 0.6474 -- iter: 09280/20250\n"
     ]
    },
    {
     "name": "stdout",
     "output_type": "stream",
     "text": [
      "Training Step: 2048  | total loss: \u001b[1m\u001b[32m0.59180\u001b[0m\u001b[0m | time: 36.581s\n\u001b[2K\r| Adam | epoch: 007 | loss: 0.59180 - acc: 0.6545 -- iter: 09344/20250\n"
     ]
    },
    {
     "name": "stdout",
     "output_type": "stream",
     "text": [
      "Training Step: 2049  | total loss: \u001b[1m\u001b[32m0.59161\u001b[0m\u001b[0m | time: 36.827s\n\u001b[2K\r| Adam | epoch: 007 | loss: 0.59161 - acc: 0.6531 -- iter: 09408/20250\n"
     ]
    },
    {
     "name": "stdout",
     "output_type": "stream",
     "text": [
      "Training Step: 2050  | total loss: \u001b[1m\u001b[32m0.59463\u001b[0m\u001b[0m | time: 37.073s\n\u001b[2K\r| Adam | epoch: 007 | loss: 0.59463 - acc: 0.6488 -- iter: 09472/20250\n"
     ]
    },
    {
     "name": "stdout",
     "output_type": "stream",
     "text": [
      "Training Step: 2051  | total loss: \u001b[1m\u001b[32m0.59767\u001b[0m\u001b[0m | time: 37.316s\n\u001b[2K\r| Adam | epoch: 007 | loss: 0.59767 - acc: 0.6370 -- iter: 09536/20250\n"
     ]
    },
    {
     "name": "stdout",
     "output_type": "stream",
     "text": [
      "Training Step: 2052  | total loss: \u001b[1m\u001b[32m0.59855\u001b[0m\u001b[0m | time: 37.565s\n\u001b[2K\r| Adam | epoch: 007 | loss: 0.59855 - acc: 0.6405 -- iter: 09600/20250\n"
     ]
    },
    {
     "name": "stdout",
     "output_type": "stream",
     "text": [
      "Training Step: 2053  | total loss: \u001b[1m\u001b[32m0.59509\u001b[0m\u001b[0m | time: 37.813s\n\u001b[2K\r| Adam | epoch: 007 | loss: 0.59509 - acc: 0.6452 -- iter: 09664/20250\n"
     ]
    },
    {
     "name": "stdout",
     "output_type": "stream",
     "text": [
      "Training Step: 2054  | total loss: \u001b[1m\u001b[32m0.60393\u001b[0m\u001b[0m | time: 38.072s\n\u001b[2K\r| Adam | epoch: 007 | loss: 0.60393 - acc: 0.6354 -- iter: 09728/20250\n"
     ]
    },
    {
     "name": "stdout",
     "output_type": "stream",
     "text": [
      "Training Step: 2055  | total loss: \u001b[1m\u001b[32m0.60547\u001b[0m\u001b[0m | time: 38.317s\n\u001b[2K\r| Adam | epoch: 007 | loss: 0.60547 - acc: 0.6312 -- iter: 09792/20250\n"
     ]
    },
    {
     "name": "stdout",
     "output_type": "stream",
     "text": [
      "Training Step: 2056  | total loss: \u001b[1m\u001b[32m0.60491\u001b[0m\u001b[0m | time: 38.555s\n\u001b[2K\r| Adam | epoch: 007 | loss: 0.60491 - acc: 0.6384 -- iter: 09856/20250\n"
     ]
    },
    {
     "name": "stdout",
     "output_type": "stream",
     "text": [
      "Training Step: 2057  | total loss: \u001b[1m\u001b[32m0.60866\u001b[0m\u001b[0m | time: 38.804s\n\u001b[2K\r| Adam | epoch: 007 | loss: 0.60866 - acc: 0.6355 -- iter: 09920/20250\n"
     ]
    },
    {
     "name": "stdout",
     "output_type": "stream",
     "text": [
      "Training Step: 2058  | total loss: \u001b[1m\u001b[32m0.60574\u001b[0m\u001b[0m | time: 39.039s\n\u001b[2K\r| Adam | epoch: 007 | loss: 0.60574 - acc: 0.6407 -- iter: 09984/20250\n"
     ]
    },
    {
     "name": "stdout",
     "output_type": "stream",
     "text": [
      "Training Step: 2059  | total loss: \u001b[1m\u001b[32m0.60099\u001b[0m\u001b[0m | time: 39.281s\n\u001b[2K\r| Adam | epoch: 007 | loss: 0.60099 - acc: 0.6438 -- iter: 10048/20250\n"
     ]
    },
    {
     "name": "stdout",
     "output_type": "stream",
     "text": [
      "Training Step: 2060  | total loss: \u001b[1m\u001b[32m0.59951\u001b[0m\u001b[0m | time: 39.527s\n\u001b[2K\r| Adam | epoch: 007 | loss: 0.59951 - acc: 0.6466 -- iter: 10112/20250\n"
     ]
    },
    {
     "name": "stdout",
     "output_type": "stream",
     "text": [
      "Training Step: 2061  | total loss: \u001b[1m\u001b[32m0.59736\u001b[0m\u001b[0m | time: 39.767s\n\u001b[2K\r| Adam | epoch: 007 | loss: 0.59736 - acc: 0.6491 -- iter: 10176/20250\n"
     ]
    },
    {
     "name": "stdout",
     "output_type": "stream",
     "text": [
      "Training Step: 2062  | total loss: \u001b[1m\u001b[32m0.60244\u001b[0m\u001b[0m | time: 39.999s\n\u001b[2K\r| Adam | epoch: 007 | loss: 0.60244 - acc: 0.6483 -- iter: 10240/20250\n"
     ]
    },
    {
     "name": "stdout",
     "output_type": "stream",
     "text": [
      "Training Step: 2063  | total loss: \u001b[1m\u001b[32m0.60338\u001b[0m\u001b[0m | time: 40.250s\n\u001b[2K\r| Adam | epoch: 007 | loss: 0.60338 - acc: 0.6444 -- iter: 10304/20250\n"
     ]
    },
    {
     "name": "stdout",
     "output_type": "stream",
     "text": [
      "Training Step: 2064  | total loss: \u001b[1m\u001b[32m0.60477\u001b[0m\u001b[0m | time: 40.533s\n\u001b[2K\r| Adam | epoch: 007 | loss: 0.60477 - acc: 0.6425 -- iter: 10368/20250\n"
     ]
    },
    {
     "name": "stdout",
     "output_type": "stream",
     "text": [
      "Training Step: 2065  | total loss: \u001b[1m\u001b[32m0.60624\u001b[0m\u001b[0m | time: 40.771s\n\u001b[2K\r| Adam | epoch: 007 | loss: 0.60624 - acc: 0.6392 -- iter: 10432/20250\n"
     ]
    },
    {
     "name": "stdout",
     "output_type": "stream",
     "text": [
      "Training Step: 2066  | total loss: \u001b[1m\u001b[32m0.59728\u001b[0m\u001b[0m | time: 41.014s\n\u001b[2K\r| Adam | epoch: 007 | loss: 0.59728 - acc: 0.6487 -- iter: 10496/20250\n"
     ]
    },
    {
     "name": "stdout",
     "output_type": "stream",
     "text": [
      "Training Step: 2067  | total loss: \u001b[1m\u001b[32m0.59536\u001b[0m\u001b[0m | time: 41.262s\n\u001b[2K\r| Adam | epoch: 007 | loss: 0.59536 - acc: 0.6510 -- iter: 10560/20250\n"
     ]
    },
    {
     "name": "stdout",
     "output_type": "stream",
     "text": [
      "Training Step: 2068  | total loss: \u001b[1m\u001b[32m0.60081\u001b[0m\u001b[0m | time: 41.509s\n\u001b[2K\r| Adam | epoch: 007 | loss: 0.60081 - acc: 0.6359 -- iter: 10624/20250\n"
     ]
    },
    {
     "name": "stdout",
     "output_type": "stream",
     "text": [
      "Training Step: 2069  | total loss: \u001b[1m\u001b[32m0.60214\u001b[0m\u001b[0m | time: 41.750s\n\u001b[2K\r| Adam | epoch: 007 | loss: 0.60214 - acc: 0.6379 -- iter: 10688/20250\n"
     ]
    },
    {
     "name": "stdout",
     "output_type": "stream",
     "text": [
      "Training Step: 2070  | total loss: \u001b[1m\u001b[32m0.60405\u001b[0m\u001b[0m | time: 41.992s\n\u001b[2K\r| Adam | epoch: 007 | loss: 0.60405 - acc: 0.6366 -- iter: 10752/20250\n"
     ]
    },
    {
     "name": "stdout",
     "output_type": "stream",
     "text": [
      "Training Step: 2071  | total loss: \u001b[1m\u001b[32m0.59812\u001b[0m\u001b[0m | time: 42.237s\n\u001b[2K\r| Adam | epoch: 007 | loss: 0.59812 - acc: 0.6417 -- iter: 10816/20250\n"
     ]
    },
    {
     "name": "stdout",
     "output_type": "stream",
     "text": [
      "Training Step: 2072  | total loss: \u001b[1m\u001b[32m0.60156\u001b[0m\u001b[0m | time: 42.482s\n\u001b[2K\r| Adam | epoch: 007 | loss: 0.60156 - acc: 0.6385 -- iter: 10880/20250\n"
     ]
    },
    {
     "name": "stdout",
     "output_type": "stream",
     "text": [
      "Training Step: 2073  | total loss: \u001b[1m\u001b[32m0.60381\u001b[0m\u001b[0m | time: 42.737s\n\u001b[2K\r| Adam | epoch: 007 | loss: 0.60381 - acc: 0.6371 -- iter: 10944/20250\n"
     ]
    },
    {
     "name": "stdout",
     "output_type": "stream",
     "text": [
      "Training Step: 2074  | total loss: \u001b[1m\u001b[32m0.61268\u001b[0m\u001b[0m | time: 43.011s\n\u001b[2K\r| Adam | epoch: 007 | loss: 0.61268 - acc: 0.6266 -- iter: 11008/20250\n"
     ]
    },
    {
     "name": "stdout",
     "output_type": "stream",
     "text": [
      "Training Step: 2075  | total loss: \u001b[1m\u001b[32m0.60693\u001b[0m\u001b[0m | time: 43.261s\n\u001b[2K\r| Adam | epoch: 007 | loss: 0.60693 - acc: 0.6342 -- iter: 11072/20250\n"
     ]
    },
    {
     "name": "stdout",
     "output_type": "stream",
     "text": [
      "Training Step: 2076  | total loss: \u001b[1m\u001b[32m0.60519\u001b[0m\u001b[0m | time: 43.504s\n\u001b[2K\r| Adam | epoch: 007 | loss: 0.60519 - acc: 0.6380 -- iter: 11136/20250\n"
     ]
    },
    {
     "name": "stdout",
     "output_type": "stream",
     "text": [
      "Training Step: 2077  | total loss: \u001b[1m\u001b[32m0.60944\u001b[0m\u001b[0m | time: 43.749s\n\u001b[2K\r| Adam | epoch: 007 | loss: 0.60944 - acc: 0.6304 -- iter: 11200/20250\n"
     ]
    },
    {
     "name": "stdout",
     "output_type": "stream",
     "text": [
      "Training Step: 2078  | total loss: \u001b[1m\u001b[32m0.61231\u001b[0m\u001b[0m | time: 43.993s\n\u001b[2K\r| Adam | epoch: 007 | loss: 0.61231 - acc: 0.6314 -- iter: 11264/20250\n"
     ]
    },
    {
     "name": "stdout",
     "output_type": "stream",
     "text": [
      "Training Step: 2079  | total loss: \u001b[1m\u001b[32m0.61106\u001b[0m\u001b[0m | time: 44.239s\n\u001b[2K\r| Adam | epoch: 007 | loss: 0.61106 - acc: 0.6261 -- iter: 11328/20250\n"
     ]
    },
    {
     "name": "stdout",
     "output_type": "stream",
     "text": [
      "Training Step: 2080  | total loss: \u001b[1m\u001b[32m0.60252\u001b[0m\u001b[0m | time: 44.480s\n\u001b[2K\r| Adam | epoch: 007 | loss: 0.60252 - acc: 0.6385 -- iter: 11392/20250\n"
     ]
    },
    {
     "name": "stdout",
     "output_type": "stream",
     "text": [
      "Training Step: 2081  | total loss: \u001b[1m\u001b[32m0.60597\u001b[0m\u001b[0m | time: 44.720s\n\u001b[2K\r| Adam | epoch: 007 | loss: 0.60597 - acc: 0.6325 -- iter: 11456/20250\n"
     ]
    },
    {
     "name": "stdout",
     "output_type": "stream",
     "text": [
      "Training Step: 2082  | total loss: \u001b[1m\u001b[32m0.60628\u001b[0m\u001b[0m | time: 44.965s\n\u001b[2K\r| Adam | epoch: 007 | loss: 0.60628 - acc: 0.6411 -- iter: 11520/20250\n"
     ]
    },
    {
     "name": "stdout",
     "output_type": "stream",
     "text": [
      "Training Step: 2083  | total loss: \u001b[1m\u001b[32m0.60359\u001b[0m\u001b[0m | time: 45.212s\n\u001b[2K\r| Adam | epoch: 007 | loss: 0.60359 - acc: 0.6489 -- iter: 11584/20250\n"
     ]
    },
    {
     "name": "stdout",
     "output_type": "stream",
     "text": [
      "Training Step: 2084  | total loss: \u001b[1m\u001b[32m0.60144\u001b[0m\u001b[0m | time: 45.464s\n\u001b[2K\r| Adam | epoch: 007 | loss: 0.60144 - acc: 0.6480 -- iter: 11648/20250\n"
     ]
    },
    {
     "name": "stdout",
     "output_type": "stream",
     "text": [
      "Training Step: 2085  | total loss: \u001b[1m\u001b[32m0.59733\u001b[0m\u001b[0m | time: 45.747s\n\u001b[2K\r| Adam | epoch: 007 | loss: 0.59733 - acc: 0.6520 -- iter: 11712/20250\n"
     ]
    },
    {
     "name": "stdout",
     "output_type": "stream",
     "text": [
      "Training Step: 2086  | total loss: \u001b[1m\u001b[32m0.60541\u001b[0m\u001b[0m | time: 45.988s\n\u001b[2K\r| Adam | epoch: 007 | loss: 0.60541 - acc: 0.6462 -- iter: 11776/20250\n"
     ]
    },
    {
     "name": "stdout",
     "output_type": "stream",
     "text": [
      "Training Step: 2087  | total loss: \u001b[1m\u001b[32m0.60261\u001b[0m\u001b[0m | time: 46.232s\n\u001b[2K\r| Adam | epoch: 007 | loss: 0.60261 - acc: 0.6534 -- iter: 11840/20250\n"
     ]
    },
    {
     "name": "stdout",
     "output_type": "stream",
     "text": [
      "Training Step: 2088  | total loss: \u001b[1m\u001b[32m0.60068\u001b[0m\u001b[0m | time: 46.469s\n\u001b[2K\r| Adam | epoch: 007 | loss: 0.60068 - acc: 0.6600 -- iter: 11904/20250\n"
     ]
    },
    {
     "name": "stdout",
     "output_type": "stream",
     "text": [
      "Training Step: 2089  | total loss: \u001b[1m\u001b[32m0.59945\u001b[0m\u001b[0m | time: 46.716s\n\u001b[2K\r| Adam | epoch: 007 | loss: 0.59945 - acc: 0.6580 -- iter: 11968/20250\n"
     ]
    },
    {
     "name": "stdout",
     "output_type": "stream",
     "text": [
      "Training Step: 2090  | total loss: \u001b[1m\u001b[32m0.60237\u001b[0m\u001b[0m | time: 46.963s\n\u001b[2K\r| Adam | epoch: 007 | loss: 0.60237 - acc: 0.6500 -- iter: 12032/20250\n"
     ]
    },
    {
     "name": "stdout",
     "output_type": "stream",
     "text": [
      "Training Step: 2091  | total loss: \u001b[1m\u001b[32m0.60172\u001b[0m\u001b[0m | time: 47.211s\n\u001b[2K\r| Adam | epoch: 007 | loss: 0.60172 - acc: 0.6491 -- iter: 12096/20250\n"
     ]
    },
    {
     "name": "stdout",
     "output_type": "stream",
     "text": [
      "Training Step: 2092  | total loss: \u001b[1m\u001b[32m0.60628\u001b[0m\u001b[0m | time: 47.461s\n\u001b[2K\r| Adam | epoch: 007 | loss: 0.60628 - acc: 0.6436 -- iter: 12160/20250\n"
     ]
    },
    {
     "name": "stdout",
     "output_type": "stream",
     "text": [
      "Training Step: 2093  | total loss: \u001b[1m\u001b[32m0.59914\u001b[0m\u001b[0m | time: 47.716s\n\u001b[2K\r| Adam | epoch: 007 | loss: 0.59914 - acc: 0.6526 -- iter: 12224/20250\n"
     ]
    },
    {
     "name": "stdout",
     "output_type": "stream",
     "text": [
      "Training Step: 2094  | total loss: \u001b[1m\u001b[32m0.59430\u001b[0m\u001b[0m | time: 47.968s\n\u001b[2K\r| Adam | epoch: 007 | loss: 0.59430 - acc: 0.6530 -- iter: 12288/20250\n"
     ]
    },
    {
     "name": "stdout",
     "output_type": "stream",
     "text": [
      "Training Step: 2095  | total loss: \u001b[1m\u001b[32m0.59292\u001b[0m\u001b[0m | time: 48.220s\n\u001b[2K\r| Adam | epoch: 007 | loss: 0.59292 - acc: 0.6596 -- iter: 12352/20250\n"
     ]
    },
    {
     "name": "stdout",
     "output_type": "stream",
     "text": [
      "Training Step: 2096  | total loss: \u001b[1m\u001b[32m0.58917\u001b[0m\u001b[0m | time: 48.455s\n\u001b[2K\r| Adam | epoch: 007 | loss: 0.58917 - acc: 0.6686 -- iter: 12416/20250\n"
     ]
    },
    {
     "name": "stdout",
     "output_type": "stream",
     "text": [
      "Training Step: 2097  | total loss: \u001b[1m\u001b[32m0.59631\u001b[0m\u001b[0m | time: 48.701s\n\u001b[2K\r| Adam | epoch: 007 | loss: 0.59631 - acc: 0.6643 -- iter: 12480/20250\n"
     ]
    },
    {
     "name": "stdout",
     "output_type": "stream",
     "text": [
      "Training Step: 2098  | total loss: \u001b[1m\u001b[32m0.59363\u001b[0m\u001b[0m | time: 48.944s\n\u001b[2K\r| Adam | epoch: 007 | loss: 0.59363 - acc: 0.6681 -- iter: 12544/20250\n"
     ]
    },
    {
     "name": "stdout",
     "output_type": "stream",
     "text": [
      "Training Step: 2099  | total loss: \u001b[1m\u001b[32m0.59647\u001b[0m\u001b[0m | time: 49.186s\n\u001b[2K\r| Adam | epoch: 007 | loss: 0.59647 - acc: 0.6560 -- iter: 12608/20250\n"
     ]
    },
    {
     "name": "stdout",
     "output_type": "stream",
     "text": [
      "Training Step: 2100  | total loss: \u001b[1m\u001b[32m0.59809\u001b[0m\u001b[0m | time: 49.427s\n\u001b[2K\r| Adam | epoch: 007 | loss: 0.59809 - acc: 0.6592 -- iter: 12672/20250\n"
     ]
    },
    {
     "name": "stdout",
     "output_type": "stream",
     "text": [
      "Training Step: 2101  | total loss: \u001b[1m\u001b[32m0.60282\u001b[0m\u001b[0m | time: 49.671s\n\u001b[2K\r| Adam | epoch: 007 | loss: 0.60282 - acc: 0.6573 -- iter: 12736/20250\n"
     ]
    },
    {
     "name": "stdout",
     "output_type": "stream",
     "text": [
      "Training Step: 2102  | total loss: \u001b[1m\u001b[32m0.60337\u001b[0m\u001b[0m | time: 49.909s\n\u001b[2K\r| Adam | epoch: 007 | loss: 0.60337 - acc: 0.6510 -- iter: 12800/20250\n"
     ]
    },
    {
     "name": "stdout",
     "output_type": "stream",
     "text": [
      "Training Step: 2103  | total loss: \u001b[1m\u001b[32m0.60699\u001b[0m\u001b[0m | time: 50.143s\n\u001b[2K\r| Adam | epoch: 007 | loss: 0.60699 - acc: 0.6499 -- iter: 12864/20250\n"
     ]
    },
    {
     "name": "stdout",
     "output_type": "stream",
     "text": [
      "Training Step: 2104  | total loss: \u001b[1m\u001b[32m0.60816\u001b[0m\u001b[0m | time: 50.386s\n\u001b[2K\r| Adam | epoch: 007 | loss: 0.60816 - acc: 0.6474 -- iter: 12928/20250\n"
     ]
    },
    {
     "name": "stdout",
     "output_type": "stream",
     "text": [
      "Training Step: 2105  | total loss: \u001b[1m\u001b[32m0.60330\u001b[0m\u001b[0m | time: 50.652s\n\u001b[2K\r| Adam | epoch: 007 | loss: 0.60330 - acc: 0.6530 -- iter: 12992/20250\n"
     ]
    },
    {
     "name": "stdout",
     "output_type": "stream",
     "text": [
      "Training Step: 2106  | total loss: \u001b[1m\u001b[32m0.59724\u001b[0m\u001b[0m | time: 50.903s\n\u001b[2K\r| Adam | epoch: 007 | loss: 0.59724 - acc: 0.6596 -- iter: 13056/20250\n"
     ]
    },
    {
     "name": "stdout",
     "output_type": "stream",
     "text": [
      "Training Step: 2107  | total loss: \u001b[1m\u001b[32m0.60136\u001b[0m\u001b[0m | time: 51.151s\n\u001b[2K\r| Adam | epoch: 007 | loss: 0.60136 - acc: 0.6592 -- iter: 13120/20250\n"
     ]
    },
    {
     "name": "stdout",
     "output_type": "stream",
     "text": [
      "Training Step: 2108  | total loss: \u001b[1m\u001b[32m0.60587\u001b[0m\u001b[0m | time: 51.393s\n\u001b[2K\r| Adam | epoch: 007 | loss: 0.60587 - acc: 0.6543 -- iter: 13184/20250\n"
     ]
    },
    {
     "name": "stdout",
     "output_type": "stream",
     "text": [
      "Training Step: 2109  | total loss: \u001b[1m\u001b[32m0.60458\u001b[0m\u001b[0m | time: 51.654s\n\u001b[2K\r| Adam | epoch: 007 | loss: 0.60458 - acc: 0.6498 -- iter: 13248/20250\n"
     ]
    },
    {
     "name": "stdout",
     "output_type": "stream",
     "text": [
      "Training Step: 2110  | total loss: \u001b[1m\u001b[32m0.60389\u001b[0m\u001b[0m | time: 51.901s\n\u001b[2K\r| Adam | epoch: 007 | loss: 0.60389 - acc: 0.6504 -- iter: 13312/20250\n"
     ]
    },
    {
     "name": "stdout",
     "output_type": "stream",
     "text": [
      "Training Step: 2111  | total loss: \u001b[1m\u001b[32m0.60287\u001b[0m\u001b[0m | time: 52.142s\n\u001b[2K\r| Adam | epoch: 007 | loss: 0.60287 - acc: 0.6447 -- iter: 13376/20250\n"
     ]
    },
    {
     "name": "stdout",
     "output_type": "stream",
     "text": [
      "Training Step: 2112  | total loss: \u001b[1m\u001b[32m0.59745\u001b[0m\u001b[0m | time: 52.385s\n\u001b[2K\r| Adam | epoch: 007 | loss: 0.59745 - acc: 0.6568 -- iter: 13440/20250\n"
     ]
    },
    {
     "name": "stdout",
     "output_type": "stream",
     "text": [
      "Training Step: 2113  | total loss: \u001b[1m\u001b[32m0.59090\u001b[0m\u001b[0m | time: 52.630s\n\u001b[2K\r| Adam | epoch: 007 | loss: 0.59090 - acc: 0.6599 -- iter: 13504/20250\n"
     ]
    },
    {
     "name": "stdout",
     "output_type": "stream",
     "text": [
      "Training Step: 2114  | total loss: \u001b[1m\u001b[32m0.60028\u001b[0m\u001b[0m | time: 52.892s\n\u001b[2K\r| Adam | epoch: 007 | loss: 0.60028 - acc: 0.6486 -- iter: 13568/20250\n"
     ]
    },
    {
     "name": "stdout",
     "output_type": "stream",
     "text": [
      "Training Step: 2115  | total loss: \u001b[1m\u001b[32m0.59924\u001b[0m\u001b[0m | time: 53.173s\n\u001b[2K\r| Adam | epoch: 007 | loss: 0.59924 - acc: 0.6509 -- iter: 13632/20250\n"
     ]
    },
    {
     "name": "stdout",
     "output_type": "stream",
     "text": [
      "Training Step: 2116  | total loss: \u001b[1m\u001b[32m0.59232\u001b[0m\u001b[0m | time: 53.423s\n\u001b[2K\r| Adam | epoch: 007 | loss: 0.59232 - acc: 0.6593 -- iter: 13696/20250\n"
     ]
    },
    {
     "name": "stdout",
     "output_type": "stream",
     "text": [
      "Training Step: 2117  | total loss: \u001b[1m\u001b[32m0.58893\u001b[0m\u001b[0m | time: 53.669s\n\u001b[2K\r| Adam | epoch: 007 | loss: 0.58893 - acc: 0.6574 -- iter: 13760/20250\n"
     ]
    },
    {
     "name": "stdout",
     "output_type": "stream",
     "text": [
      "Training Step: 2118  | total loss: \u001b[1m\u001b[32m0.58951\u001b[0m\u001b[0m | time: 53.913s\n\u001b[2K\r| Adam | epoch: 007 | loss: 0.58951 - acc: 0.6620 -- iter: 13824/20250\n"
     ]
    },
    {
     "name": "stdout",
     "output_type": "stream",
     "text": [
      "Training Step: 2119  | total loss: \u001b[1m\u001b[32m0.59336\u001b[0m\u001b[0m | time: 54.152s\n\u001b[2K\r| Adam | epoch: 007 | loss: 0.59336 - acc: 0.6520 -- iter: 13888/20250\n"
     ]
    },
    {
     "name": "stdout",
     "output_type": "stream",
     "text": [
      "Training Step: 2120  | total loss: \u001b[1m\u001b[32m0.59196\u001b[0m\u001b[0m | time: 54.391s\n\u001b[2K\r| Adam | epoch: 007 | loss: 0.59196 - acc: 0.6509 -- iter: 13952/20250\n"
     ]
    },
    {
     "name": "stdout",
     "output_type": "stream",
     "text": [
      "Training Step: 2121  | total loss: \u001b[1m\u001b[32m0.58598\u001b[0m\u001b[0m | time: 54.644s\n\u001b[2K\r| Adam | epoch: 007 | loss: 0.58598 - acc: 0.6561 -- iter: 14016/20250\n"
     ]
    },
    {
     "name": "stdout",
     "output_type": "stream",
     "text": [
      "Training Step: 2122  | total loss: \u001b[1m\u001b[32m0.59151\u001b[0m\u001b[0m | time: 54.889s\n\u001b[2K\r| Adam | epoch: 007 | loss: 0.59151 - acc: 0.6483 -- iter: 14080/20250\n"
     ]
    },
    {
     "name": "stdout",
     "output_type": "stream",
     "text": [
      "Training Step: 2123  | total loss: \u001b[1m\u001b[32m0.58749\u001b[0m\u001b[0m | time: 55.132s\n\u001b[2K\r| Adam | epoch: 007 | loss: 0.58749 - acc: 0.6522 -- iter: 14144/20250\n"
     ]
    },
    {
     "name": "stdout",
     "output_type": "stream",
     "text": [
      "Training Step: 2124  | total loss: \u001b[1m\u001b[32m0.58120\u001b[0m\u001b[0m | time: 55.396s\n\u001b[2K\r| Adam | epoch: 007 | loss: 0.58120 - acc: 0.6651 -- iter: 14208/20250\n"
     ]
    },
    {
     "name": "stdout",
     "output_type": "stream",
     "text": [
      "Training Step: 2125  | total loss: \u001b[1m\u001b[32m0.57628\u001b[0m\u001b[0m | time: 55.682s\n\u001b[2K\r| Adam | epoch: 007 | loss: 0.57628 - acc: 0.6689 -- iter: 14272/20250\n"
     ]
    },
    {
     "name": "stdout",
     "output_type": "stream",
     "text": [
      "Training Step: 2126  | total loss: \u001b[1m\u001b[32m0.58051\u001b[0m\u001b[0m | time: 55.931s\n\u001b[2K\r| Adam | epoch: 007 | loss: 0.58051 - acc: 0.6677 -- iter: 14336/20250\n"
     ]
    },
    {
     "name": "stdout",
     "output_type": "stream",
     "text": [
      "Training Step: 2127  | total loss: \u001b[1m\u001b[32m0.57704\u001b[0m\u001b[0m | time: 56.172s\n\u001b[2K\r| Adam | epoch: 007 | loss: 0.57704 - acc: 0.6759 -- iter: 14400/20250\n"
     ]
    },
    {
     "name": "stdout",
     "output_type": "stream",
     "text": [
      "Training Step: 2128  | total loss: \u001b[1m\u001b[32m0.57844\u001b[0m\u001b[0m | time: 56.414s\n\u001b[2K\r| Adam | epoch: 007 | loss: 0.57844 - acc: 0.6817 -- iter: 14464/20250\n"
     ]
    },
    {
     "name": "stdout",
     "output_type": "stream",
     "text": [
      "Training Step: 2129  | total loss: \u001b[1m\u001b[32m0.58072\u001b[0m\u001b[0m | time: 56.656s\n\u001b[2K\r| Adam | epoch: 007 | loss: 0.58072 - acc: 0.6823 -- iter: 14528/20250\n"
     ]
    },
    {
     "name": "stdout",
     "output_type": "stream",
     "text": [
      "Training Step: 2130  | total loss: \u001b[1m\u001b[32m0.58079\u001b[0m\u001b[0m | time: 56.900s\n\u001b[2K\r| Adam | epoch: 007 | loss: 0.58079 - acc: 0.6813 -- iter: 14592/20250\n"
     ]
    },
    {
     "name": "stdout",
     "output_type": "stream",
     "text": [
      "Training Step: 2131  | total loss: \u001b[1m\u001b[32m0.57984\u001b[0m\u001b[0m | time: 57.141s\n\u001b[2K\r| Adam | epoch: 007 | loss: 0.57984 - acc: 0.6850 -- iter: 14656/20250\n"
     ]
    },
    {
     "name": "stdout",
     "output_type": "stream",
     "text": [
      "Training Step: 2132  | total loss: \u001b[1m\u001b[32m0.58832\u001b[0m\u001b[0m | time: 57.387s\n\u001b[2K\r| Adam | epoch: 007 | loss: 0.58832 - acc: 0.6821 -- iter: 14720/20250\n"
     ]
    },
    {
     "name": "stdout",
     "output_type": "stream",
     "text": [
      "Training Step: 2133  | total loss: \u001b[1m\u001b[32m0.59092\u001b[0m\u001b[0m | time: 57.643s\n\u001b[2K\r| Adam | epoch: 007 | loss: 0.59092 - acc: 0.6780 -- iter: 14784/20250\n"
     ]
    },
    {
     "name": "stdout",
     "output_type": "stream",
     "text": [
      "Training Step: 2134  | total loss: \u001b[1m\u001b[32m0.59016\u001b[0m\u001b[0m | time: 57.907s\n\u001b[2K\r| Adam | epoch: 007 | loss: 0.59016 - acc: 0.6774 -- iter: 14848/20250\n"
     ]
    },
    {
     "name": "stdout",
     "output_type": "stream",
     "text": [
      "Training Step: 2135  | total loss: \u001b[1m\u001b[32m0.59121\u001b[0m\u001b[0m | time: 58.152s\n\u001b[2K\r| Adam | epoch: 007 | loss: 0.59121 - acc: 0.6690 -- iter: 14912/20250\n"
     ]
    },
    {
     "name": "stdout",
     "output_type": "stream",
     "text": [
      "Training Step: 2136  | total loss: \u001b[1m\u001b[32m0.58880\u001b[0m\u001b[0m | time: 58.412s\n\u001b[2K\r| Adam | epoch: 007 | loss: 0.58880 - acc: 0.6756 -- iter: 14976/20250\n"
     ]
    },
    {
     "name": "stdout",
     "output_type": "stream",
     "text": [
      "Training Step: 2137  | total loss: \u001b[1m\u001b[32m0.59540\u001b[0m\u001b[0m | time: 58.654s\n\u001b[2K\r| Adam | epoch: 007 | loss: 0.59540 - acc: 0.6611 -- iter: 15040/20250\n"
     ]
    },
    {
     "name": "stdout",
     "output_type": "stream",
     "text": [
      "Training Step: 2138  | total loss: \u001b[1m\u001b[32m0.59553\u001b[0m\u001b[0m | time: 58.903s\n\u001b[2K\r| Adam | epoch: 007 | loss: 0.59553 - acc: 0.6638 -- iter: 15104/20250\n"
     ]
    },
    {
     "name": "stdout",
     "output_type": "stream",
     "text": [
      "Training Step: 2139  | total loss: \u001b[1m\u001b[32m0.59508\u001b[0m\u001b[0m | time: 59.147s\n\u001b[2K\r| Adam | epoch: 007 | loss: 0.59508 - acc: 0.6614 -- iter: 15168/20250\n"
     ]
    },
    {
     "name": "stdout",
     "output_type": "stream",
     "text": [
      "Training Step: 2140  | total loss: \u001b[1m\u001b[32m0.59274\u001b[0m\u001b[0m | time: 59.388s\n\u001b[2K\r| Adam | epoch: 007 | loss: 0.59274 - acc: 0.6641 -- iter: 15232/20250\n"
     ]
    },
    {
     "name": "stdout",
     "output_type": "stream",
     "text": [
      "Training Step: 2141  | total loss: \u001b[1m\u001b[32m0.59033\u001b[0m\u001b[0m | time: 59.632s\n\u001b[2K\r| Adam | epoch: 007 | loss: 0.59033 - acc: 0.6633 -- iter: 15296/20250\n"
     ]
    },
    {
     "name": "stdout",
     "output_type": "stream",
     "text": [
      "Training Step: 2142  | total loss: \u001b[1m\u001b[32m0.59842\u001b[0m\u001b[0m | time: 59.875s\n\u001b[2K\r| Adam | epoch: 007 | loss: 0.59842 - acc: 0.6516 -- iter: 15360/20250\n"
     ]
    },
    {
     "name": "stdout",
     "output_type": "stream",
     "text": [
      "Training Step: 2143  | total loss: \u001b[1m\u001b[32m0.59372\u001b[0m\u001b[0m | time: 60.122s\n\u001b[2K\r| Adam | epoch: 007 | loss: 0.59372 - acc: 0.6599 -- iter: 15424/20250\n"
     ]
    },
    {
     "name": "stdout",
     "output_type": "stream",
     "text": [
      "Training Step: 2144  | total loss: \u001b[1m\u001b[32m0.59001\u001b[0m\u001b[0m | time: 60.390s\n\u001b[2K\r| Adam | epoch: 007 | loss: 0.59001 - acc: 0.6627 -- iter: 15488/20250\n"
     ]
    },
    {
     "name": "stdout",
     "output_type": "stream",
     "text": [
      "Training Step: 2145  | total loss: \u001b[1m\u001b[32m0.59075\u001b[0m\u001b[0m | time: 60.668s\n\u001b[2K\r| Adam | epoch: 007 | loss: 0.59075 - acc: 0.6683 -- iter: 15552/20250\n"
     ]
    },
    {
     "name": "stdout",
     "output_type": "stream",
     "text": [
      "Training Step: 2146  | total loss: \u001b[1m\u001b[32m0.58183\u001b[0m\u001b[0m | time: 60.917s\n\u001b[2K\r| Adam | epoch: 007 | loss: 0.58183 - acc: 0.6733 -- iter: 15616/20250\n"
     ]
    },
    {
     "name": "stdout",
     "output_type": "stream",
     "text": [
      "Training Step: 2147  | total loss: \u001b[1m\u001b[32m0.57438\u001b[0m\u001b[0m | time: 61.163s\n\u001b[2K\r| Adam | epoch: 007 | loss: 0.57438 - acc: 0.6810 -- iter: 15680/20250\n"
     ]
    },
    {
     "name": "stdout",
     "output_type": "stream",
     "text": [
      "Training Step: 2148  | total loss: \u001b[1m\u001b[32m0.57336\u001b[0m\u001b[0m | time: 61.405s\n\u001b[2K\r| Adam | epoch: 007 | loss: 0.57336 - acc: 0.6785 -- iter: 15744/20250\n"
     ]
    },
    {
     "name": "stdout",
     "output_type": "stream",
     "text": [
      "Training Step: 2149  | total loss: \u001b[1m\u001b[32m0.57727\u001b[0m\u001b[0m | time: 61.648s\n\u001b[2K\r| Adam | epoch: 007 | loss: 0.57727 - acc: 0.6732 -- iter: 15808/20250\n"
     ]
    },
    {
     "name": "stdout",
     "output_type": "stream",
     "text": [
      "Training Step: 2150  | total loss: \u001b[1m\u001b[32m0.58203\u001b[0m\u001b[0m | time: 61.887s\n\u001b[2K\r| Adam | epoch: 007 | loss: 0.58203 - acc: 0.6668 -- iter: 15872/20250\n"
     ]
    },
    {
     "name": "stdout",
     "output_type": "stream",
     "text": [
      "Training Step: 2151  | total loss: \u001b[1m\u001b[32m0.57698\u001b[0m\u001b[0m | time: 62.148s\n\u001b[2K\r| Adam | epoch: 007 | loss: 0.57698 - acc: 0.6735 -- iter: 15936/20250\n"
     ]
    },
    {
     "name": "stdout",
     "output_type": "stream",
     "text": [
      "Training Step: 2152  | total loss: \u001b[1m\u001b[32m0.57679\u001b[0m\u001b[0m | time: 62.393s\n\u001b[2K\r| Adam | epoch: 007 | loss: 0.57679 - acc: 0.6718 -- iter: 16000/20250\n"
     ]
    },
    {
     "name": "stdout",
     "output_type": "stream",
     "text": [
      "Training Step: 2153  | total loss: \u001b[1m\u001b[32m0.58969\u001b[0m\u001b[0m | time: 62.640s\n\u001b[2K\r| Adam | epoch: 007 | loss: 0.58969 - acc: 0.6546 -- iter: 16064/20250\n"
     ]
    },
    {
     "name": "stdout",
     "output_type": "stream",
     "text": [
      "Training Step: 2154  | total loss: \u001b[1m\u001b[32m0.59066\u001b[0m\u001b[0m | time: 62.897s\n\u001b[2K\r| Adam | epoch: 007 | loss: 0.59066 - acc: 0.6532 -- iter: 16128/20250\n"
     ]
    },
    {
     "name": "stdout",
     "output_type": "stream",
     "text": [
      "Training Step: 2155  | total loss: \u001b[1m\u001b[32m0.58692\u001b[0m\u001b[0m | time: 63.184s\n\u001b[2K\r| Adam | epoch: 007 | loss: 0.58692 - acc: 0.6567 -- iter: 16192/20250\n"
     ]
    },
    {
     "name": "stdout",
     "output_type": "stream",
     "text": [
      "Training Step: 2156  | total loss: \u001b[1m\u001b[32m0.58806\u001b[0m\u001b[0m | time: 63.430s\n\u001b[2K\r| Adam | epoch: 007 | loss: 0.58806 - acc: 0.6551 -- iter: 16256/20250\n"
     ]
    },
    {
     "name": "stdout",
     "output_type": "stream",
     "text": [
      "Training Step: 2157  | total loss: \u001b[1m\u001b[32m0.59090\u001b[0m\u001b[0m | time: 63.678s\n\u001b[2K\r| Adam | epoch: 007 | loss: 0.59090 - acc: 0.6536 -- iter: 16320/20250\n"
     ]
    },
    {
     "name": "stdout",
     "output_type": "stream",
     "text": [
      "Training Step: 2158  | total loss: \u001b[1m\u001b[32m0.59716\u001b[0m\u001b[0m | time: 63.922s\n\u001b[2K\r| Adam | epoch: 007 | loss: 0.59716 - acc: 0.6508 -- iter: 16384/20250\n"
     ]
    },
    {
     "name": "stdout",
     "output_type": "stream",
     "text": [
      "Training Step: 2159  | total loss: \u001b[1m\u001b[32m0.60026\u001b[0m\u001b[0m | time: 64.165s\n\u001b[2K\r| Adam | epoch: 007 | loss: 0.60026 - acc: 0.6482 -- iter: 16448/20250\n"
     ]
    },
    {
     "name": "stdout",
     "output_type": "stream",
     "text": [
      "Training Step: 2160  | total loss: \u001b[1m\u001b[32m0.59653\u001b[0m\u001b[0m | time: 64.406s\n\u001b[2K\r| Adam | epoch: 007 | loss: 0.59653 - acc: 0.6474 -- iter: 16512/20250\n"
     ]
    },
    {
     "name": "stdout",
     "output_type": "stream",
     "text": [
      "Training Step: 2161  | total loss: \u001b[1m\u001b[32m0.58975\u001b[0m\u001b[0m | time: 64.653s\n\u001b[2K\r| Adam | epoch: 007 | loss: 0.58975 - acc: 0.6514 -- iter: 16576/20250\n"
     ]
    },
    {
     "name": "stdout",
     "output_type": "stream",
     "text": [
      "Training Step: 2162  | total loss: \u001b[1m\u001b[32m0.58674\u001b[0m\u001b[0m | time: 64.899s\n\u001b[2K\r| Adam | epoch: 007 | loss: 0.58674 - acc: 0.6597 -- iter: 16640/20250\n"
     ]
    },
    {
     "name": "stdout",
     "output_type": "stream",
     "text": [
      "Training Step: 2163  | total loss: \u001b[1m\u001b[32m0.58384\u001b[0m\u001b[0m | time: 65.148s\n\u001b[2K\r| Adam | epoch: 007 | loss: 0.58384 - acc: 0.6672 -- iter: 16704/20250\n"
     ]
    },
    {
     "name": "stdout",
     "output_type": "stream",
     "text": [
      "Training Step: 2164  | total loss: \u001b[1m\u001b[32m0.58740\u001b[0m\u001b[0m | time: 65.434s\n\u001b[2K\r| Adam | epoch: 007 | loss: 0.58740 - acc: 0.6645 -- iter: 16768/20250\n"
     ]
    },
    {
     "name": "stdout",
     "output_type": "stream",
     "text": [
      "Training Step: 2165  | total loss: \u001b[1m\u001b[32m0.57989\u001b[0m\u001b[0m | time: 65.727s\n\u001b[2K\r| Adam | epoch: 007 | loss: 0.57989 - acc: 0.6746 -- iter: 16832/20250\n"
     ]
    },
    {
     "name": "stdout",
     "output_type": "stream",
     "text": [
      "Training Step: 2166  | total loss: \u001b[1m\u001b[32m0.57096\u001b[0m\u001b[0m | time: 65.970s\n\u001b[2K\r| Adam | epoch: 007 | loss: 0.57096 - acc: 0.6869 -- iter: 16896/20250\n"
     ]
    },
    {
     "name": "stdout",
     "output_type": "stream",
     "text": [
      "Training Step: 2167  | total loss: \u001b[1m\u001b[32m0.56698\u001b[0m\u001b[0m | time: 66.210s\n\u001b[2K\r| Adam | epoch: 007 | loss: 0.56698 - acc: 0.6916 -- iter: 16960/20250\n"
     ]
    },
    {
     "name": "stdout",
     "output_type": "stream",
     "text": [
      "Training Step: 2168  | total loss: \u001b[1m\u001b[32m0.56647\u001b[0m\u001b[0m | time: 66.450s\n\u001b[2K\r| Adam | epoch: 007 | loss: 0.56647 - acc: 0.6943 -- iter: 17024/20250\n"
     ]
    },
    {
     "name": "stdout",
     "output_type": "stream",
     "text": [
      "Training Step: 2169  | total loss: \u001b[1m\u001b[32m0.56534\u001b[0m\u001b[0m | time: 66.695s\n\u001b[2K\r| Adam | epoch: 007 | loss: 0.56534 - acc: 0.6999 -- iter: 17088/20250\n"
     ]
    },
    {
     "name": "stdout",
     "output_type": "stream",
     "text": [
      "Training Step: 2170  | total loss: \u001b[1m\u001b[32m0.56233\u001b[0m\u001b[0m | time: 66.942s\n\u001b[2K\r| Adam | epoch: 007 | loss: 0.56233 - acc: 0.7002 -- iter: 17152/20250\n"
     ]
    },
    {
     "name": "stdout",
     "output_type": "stream",
     "text": [
      "Training Step: 2171  | total loss: \u001b[1m\u001b[32m0.55942\u001b[0m\u001b[0m | time: 67.194s\n\u001b[2K\r| Adam | epoch: 007 | loss: 0.55942 - acc: 0.7068 -- iter: 17216/20250\n"
     ]
    },
    {
     "name": "stdout",
     "output_type": "stream",
     "text": [
      "Training Step: 2172  | total loss: \u001b[1m\u001b[32m0.56007\u001b[0m\u001b[0m | time: 67.428s\n\u001b[2K\r| Adam | epoch: 007 | loss: 0.56007 - acc: 0.7064 -- iter: 17280/20250\n"
     ]
    },
    {
     "name": "stdout",
     "output_type": "stream",
     "text": [
      "Training Step: 2173  | total loss: \u001b[1m\u001b[32m0.56380\u001b[0m\u001b[0m | time: 67.670s\n\u001b[2K\r| Adam | epoch: 007 | loss: 0.56380 - acc: 0.7014 -- iter: 17344/20250\n"
     ]
    },
    {
     "name": "stdout",
     "output_type": "stream",
     "text": [
      "Training Step: 2174  | total loss: \u001b[1m\u001b[32m0.56014\u001b[0m\u001b[0m | time: 67.932s\n\u001b[2K\r| Adam | epoch: 007 | loss: 0.56014 - acc: 0.7031 -- iter: 17408/20250\n"
     ]
    },
    {
     "name": "stdout",
     "output_type": "stream",
     "text": [
      "Training Step: 2175  | total loss: \u001b[1m\u001b[32m0.55632\u001b[0m\u001b[0m | time: 68.196s\n\u001b[2K\r| Adam | epoch: 007 | loss: 0.55632 - acc: 0.7031 -- iter: 17472/20250\n"
     ]
    },
    {
     "name": "stdout",
     "output_type": "stream",
     "text": [
      "Training Step: 2176  | total loss: \u001b[1m\u001b[32m0.56121\u001b[0m\u001b[0m | time: 68.442s\n\u001b[2K\r| Adam | epoch: 007 | loss: 0.56121 - acc: 0.6984 -- iter: 17536/20250\n"
     ]
    },
    {
     "name": "stdout",
     "output_type": "stream",
     "text": [
      "Training Step: 2177  | total loss: \u001b[1m\u001b[32m0.55950\u001b[0m\u001b[0m | time: 68.683s\n\u001b[2K\r| Adam | epoch: 007 | loss: 0.55950 - acc: 0.6973 -- iter: 17600/20250\n"
     ]
    },
    {
     "name": "stdout",
     "output_type": "stream",
     "text": [
      "Training Step: 2178  | total loss: \u001b[1m\u001b[32m0.56434\u001b[0m\u001b[0m | time: 68.931s\n\u001b[2K\r| Adam | epoch: 007 | loss: 0.56434 - acc: 0.6948 -- iter: 17664/20250\n"
     ]
    },
    {
     "name": "stdout",
     "output_type": "stream",
     "text": [
      "Training Step: 2179  | total loss: \u001b[1m\u001b[32m0.57040\u001b[0m\u001b[0m | time: 69.180s\n\u001b[2K\r| Adam | epoch: 007 | loss: 0.57040 - acc: 0.6831 -- iter: 17728/20250\n"
     ]
    },
    {
     "name": "stdout",
     "output_type": "stream",
     "text": [
      "Training Step: 2180  | total loss: \u001b[1m\u001b[32m0.57221\u001b[0m\u001b[0m | time: 69.427s\n\u001b[2K\r| Adam | epoch: 007 | loss: 0.57221 - acc: 0.6804 -- iter: 17792/20250\n"
     ]
    },
    {
     "name": "stdout",
     "output_type": "stream",
     "text": [
      "Training Step: 2181  | total loss: \u001b[1m\u001b[32m0.56911\u001b[0m\u001b[0m | time: 69.665s\n\u001b[2K\r| Adam | epoch: 007 | loss: 0.56911 - acc: 0.6843 -- iter: 17856/20250\n"
     ]
    },
    {
     "name": "stdout",
     "output_type": "stream",
     "text": [
      "Training Step: 2182  | total loss: \u001b[1m\u001b[32m0.57597\u001b[0m\u001b[0m | time: 69.908s\n\u001b[2K\r| Adam | epoch: 007 | loss: 0.57597 - acc: 0.6737 -- iter: 17920/20250\n"
     ]
    },
    {
     "name": "stdout",
     "output_type": "stream",
     "text": [
      "Training Step: 2183  | total loss: \u001b[1m\u001b[32m0.57723\u001b[0m\u001b[0m | time: 70.152s\n\u001b[2K\r| Adam | epoch: 007 | loss: 0.57723 - acc: 0.6641 -- iter: 17984/20250\n"
     ]
    },
    {
     "name": "stdout",
     "output_type": "stream",
     "text": [
      "Training Step: 2184  | total loss: \u001b[1m\u001b[32m0.57423\u001b[0m\u001b[0m | time: 70.392s\n\u001b[2K\r| Adam | epoch: 007 | loss: 0.57423 - acc: 0.6727 -- iter: 18048/20250\n"
     ]
    },
    {
     "name": "stdout",
     "output_type": "stream",
     "text": [
      "Training Step: 2185  | total loss: \u001b[1m\u001b[32m0.58307\u001b[0m\u001b[0m | time: 70.682s\n\u001b[2K\r| Adam | epoch: 007 | loss: 0.58307 - acc: 0.6664 -- iter: 18112/20250\n"
     ]
    },
    {
     "name": "stdout",
     "output_type": "stream",
     "text": [
      "Training Step: 2186  | total loss: \u001b[1m\u001b[32m0.59033\u001b[0m\u001b[0m | time: 70.926s\n\u001b[2K\r| Adam | epoch: 007 | loss: 0.59033 - acc: 0.6591 -- iter: 18176/20250\n"
     ]
    },
    {
     "name": "stdout",
     "output_type": "stream",
     "text": [
      "Training Step: 2187  | total loss: \u001b[1m\u001b[32m0.58811\u001b[0m\u001b[0m | time: 71.170s\n\u001b[2K\r| Adam | epoch: 007 | loss: 0.58811 - acc: 0.6651 -- iter: 18240/20250\n"
     ]
    },
    {
     "name": "stdout",
     "output_type": "stream",
     "text": [
      "Training Step: 2188  | total loss: \u001b[1m\u001b[32m0.58249\u001b[0m\u001b[0m | time: 71.416s\n\u001b[2K\r| Adam | epoch: 007 | loss: 0.58249 - acc: 0.6657 -- iter: 18304/20250\n"
     ]
    },
    {
     "name": "stdout",
     "output_type": "stream",
     "text": [
      "Training Step: 2189  | total loss: \u001b[1m\u001b[32m0.57956\u001b[0m\u001b[0m | time: 71.668s\n\u001b[2K\r| Adam | epoch: 007 | loss: 0.57956 - acc: 0.6695 -- iter: 18368/20250\n"
     ]
    },
    {
     "name": "stdout",
     "output_type": "stream",
     "text": [
      "Training Step: 2190  | total loss: \u001b[1m\u001b[32m0.57857\u001b[0m\u001b[0m | time: 71.906s\n\u001b[2K\r| Adam | epoch: 007 | loss: 0.57857 - acc: 0.6697 -- iter: 18432/20250\n"
     ]
    },
    {
     "name": "stdout",
     "output_type": "stream",
     "text": [
      "Training Step: 2191  | total loss: \u001b[1m\u001b[32m0.58270\u001b[0m\u001b[0m | time: 72.155s\n\u001b[2K\r| Adam | epoch: 007 | loss: 0.58270 - acc: 0.6699 -- iter: 18496/20250\n"
     ]
    },
    {
     "name": "stdout",
     "output_type": "stream",
     "text": [
      "Training Step: 2192  | total loss: \u001b[1m\u001b[32m0.58476\u001b[0m\u001b[0m | time: 72.400s\n\u001b[2K\r| Adam | epoch: 007 | loss: 0.58476 - acc: 0.6748 -- iter: 18560/20250\n"
     ]
    },
    {
     "name": "stdout",
     "output_type": "stream",
     "text": [
      "Training Step: 2193  | total loss: \u001b[1m\u001b[32m0.58169\u001b[0m\u001b[0m | time: 72.640s\n\u001b[2K\r| Adam | epoch: 007 | loss: 0.58169 - acc: 0.6776 -- iter: 18624/20250\n"
     ]
    },
    {
     "name": "stdout",
     "output_type": "stream",
     "text": [
      "Training Step: 2194  | total loss: \u001b[1m\u001b[32m0.58371\u001b[0m\u001b[0m | time: 72.910s\n\u001b[2K\r| Adam | epoch: 007 | loss: 0.58371 - acc: 0.6802 -- iter: 18688/20250\n"
     ]
    },
    {
     "name": "stdout",
     "output_type": "stream",
     "text": [
      "Training Step: 2195  | total loss: \u001b[1m\u001b[32m0.58199\u001b[0m\u001b[0m | time: 73.193s\n\u001b[2K\r| Adam | epoch: 007 | loss: 0.58199 - acc: 0.6747 -- iter: 18752/20250\n"
     ]
    },
    {
     "name": "stdout",
     "output_type": "stream",
     "text": [
      "Training Step: 2196  | total loss: \u001b[1m\u001b[32m0.57760\u001b[0m\u001b[0m | time: 73.439s\n\u001b[2K\r| Adam | epoch: 007 | loss: 0.57760 - acc: 0.6775 -- iter: 18816/20250\n"
     ]
    },
    {
     "name": "stdout",
     "output_type": "stream",
     "text": [
      "Training Step: 2197  | total loss: \u001b[1m\u001b[32m0.57067\u001b[0m\u001b[0m | time: 73.690s\n\u001b[2K\r| Adam | epoch: 007 | loss: 0.57067 - acc: 0.6910 -- iter: 18880/20250\n"
     ]
    },
    {
     "name": "stdout",
     "output_type": "stream",
     "text": [
      "Training Step: 2198  | total loss: \u001b[1m\u001b[32m0.56608\u001b[0m\u001b[0m | time: 73.938s\n\u001b[2K\r| Adam | epoch: 007 | loss: 0.56608 - acc: 0.6938 -- iter: 18944/20250\n"
     ]
    },
    {
     "name": "stdout",
     "output_type": "stream",
     "text": [
      "Training Step: 2199  | total loss: \u001b[1m\u001b[32m0.55612\u001b[0m\u001b[0m | time: 74.172s\n\u001b[2K\r| Adam | epoch: 007 | loss: 0.55612 - acc: 0.7072 -- iter: 19008/20250\n"
     ]
    },
    {
     "name": "stdout",
     "output_type": "stream",
     "text": [
      "Training Step: 2200  | total loss: \u001b[1m\u001b[32m0.54981\u001b[0m\u001b[0m | time: 74.415s\n\u001b[2K\r| Adam | epoch: 007 | loss: 0.54981 - acc: 0.7099 -- iter: 19072/20250\n"
     ]
    },
    {
     "name": "stdout",
     "output_type": "stream",
     "text": [
      "Training Step: 2201  | total loss: \u001b[1m\u001b[32m0.55318\u001b[0m\u001b[0m | time: 74.659s\n\u001b[2K\r| Adam | epoch: 007 | loss: 0.55318 - acc: 0.7077 -- iter: 19136/20250\n"
     ]
    },
    {
     "name": "stdout",
     "output_type": "stream",
     "text": [
      "Training Step: 2202  | total loss: \u001b[1m\u001b[32m0.55493\u001b[0m\u001b[0m | time: 74.901s\n\u001b[2K\r| Adam | epoch: 007 | loss: 0.55493 - acc: 0.7057 -- iter: 19200/20250\n"
     ]
    },
    {
     "name": "stdout",
     "output_type": "stream",
     "text": [
      "Training Step: 2203  | total loss: \u001b[1m\u001b[32m0.55273\u001b[0m\u001b[0m | time: 75.147s\n\u001b[2K\r| Adam | epoch: 007 | loss: 0.55273 - acc: 0.7070 -- iter: 19264/20250\n"
     ]
    },
    {
     "name": "stdout",
     "output_type": "stream",
     "text": [
      "Training Step: 2204  | total loss: \u001b[1m\u001b[32m0.54646\u001b[0m\u001b[0m | time: 75.410s\n\u001b[2K\r| Adam | epoch: 007 | loss: 0.54646 - acc: 0.7222 -- iter: 19328/20250\n"
     ]
    },
    {
     "name": "stdout",
     "output_type": "stream",
     "text": [
      "Training Step: 2205  | total loss: \u001b[1m\u001b[32m0.54838\u001b[0m\u001b[0m | time: 75.689s\n\u001b[2K\r| Adam | epoch: 007 | loss: 0.54838 - acc: 0.7234 -- iter: 19392/20250\n"
     ]
    },
    {
     "name": "stdout",
     "output_type": "stream",
     "text": [
      "Training Step: 2206  | total loss: \u001b[1m\u001b[32m0.54709\u001b[0m\u001b[0m | time: 75.936s\n\u001b[2K\r| Adam | epoch: 007 | loss: 0.54709 - acc: 0.7261 -- iter: 19456/20250\n"
     ]
    },
    {
     "name": "stdout",
     "output_type": "stream",
     "text": [
      "Training Step: 2207  | total loss: \u001b[1m\u001b[32m0.53730\u001b[0m\u001b[0m | time: 76.178s\n\u001b[2K\r| Adam | epoch: 007 | loss: 0.53730 - acc: 0.7316 -- iter: 19520/20250\n"
     ]
    },
    {
     "name": "stdout",
     "output_type": "stream",
     "text": [
      "Training Step: 2208  | total loss: \u001b[1m\u001b[32m0.54365\u001b[0m\u001b[0m | time: 76.419s\n\u001b[2K\r| Adam | epoch: 007 | loss: 0.54365 - acc: 0.7194 -- iter: 19584/20250\n"
     ]
    },
    {
     "name": "stdout",
     "output_type": "stream",
     "text": [
      "Training Step: 2209  | total loss: \u001b[1m\u001b[32m0.54834\u001b[0m\u001b[0m | time: 76.677s\n\u001b[2K\r| Adam | epoch: 007 | loss: 0.54834 - acc: 0.7146 -- iter: 19648/20250\n"
     ]
    },
    {
     "name": "stdout",
     "output_type": "stream",
     "text": [
      "Training Step: 2210  | total loss: \u001b[1m\u001b[32m0.54928\u001b[0m\u001b[0m | time: 76.920s\n\u001b[2K\r| Adam | epoch: 007 | loss: 0.54928 - acc: 0.7166 -- iter: 19712/20250\n"
     ]
    },
    {
     "name": "stdout",
     "output_type": "stream",
     "text": [
      "Training Step: 2211  | total loss: \u001b[1m\u001b[32m0.54697\u001b[0m\u001b[0m | time: 77.170s\n\u001b[2K\r| Adam | epoch: 007 | loss: 0.54697 - acc: 0.7184 -- iter: 19776/20250\n"
     ]
    },
    {
     "name": "stdout",
     "output_type": "stream",
     "text": [
      "Training Step: 2212  | total loss: \u001b[1m\u001b[32m0.54115\u001b[0m\u001b[0m | time: 77.419s\n\u001b[2K\r| Adam | epoch: 007 | loss: 0.54115 - acc: 0.7231 -- iter: 19840/20250\n"
     ]
    },
    {
     "name": "stdout",
     "output_type": "stream",
     "text": [
      "Training Step: 2213  | total loss: \u001b[1m\u001b[32m0.54739\u001b[0m\u001b[0m | time: 77.670s\n\u001b[2K\r| Adam | epoch: 007 | loss: 0.54739 - acc: 0.7180 -- iter: 19904/20250\n"
     ]
    },
    {
     "name": "stdout",
     "output_type": "stream",
     "text": [
      "Training Step: 2214  | total loss: \u001b[1m\u001b[32m0.54649\u001b[0m\u001b[0m | time: 77.939s\n\u001b[2K\r| Adam | epoch: 007 | loss: 0.54649 - acc: 0.7243 -- iter: 19968/20250\n"
     ]
    },
    {
     "name": "stdout",
     "output_type": "stream",
     "text": [
      "Training Step: 2215  | total loss: \u001b[1m\u001b[32m0.54278\u001b[0m\u001b[0m | time: 78.216s\n\u001b[2K\r| Adam | epoch: 007 | loss: 0.54278 - acc: 0.7253 -- iter: 20032/20250\n"
     ]
    },
    {
     "name": "stdout",
     "output_type": "stream",
     "text": [
      "Training Step: 2216  | total loss: \u001b[1m\u001b[32m0.54141\u001b[0m\u001b[0m | time: 78.470s\n\u001b[2K\r| Adam | epoch: 007 | loss: 0.54141 - acc: 0.7293 -- iter: 20096/20250\n"
     ]
    },
    {
     "name": "stdout",
     "output_type": "stream",
     "text": [
      "Training Step: 2217  | total loss: \u001b[1m\u001b[32m0.54205\u001b[0m\u001b[0m | time: 78.714s\n\u001b[2K\r| Adam | epoch: 007 | loss: 0.54205 - acc: 0.7267 -- iter: 20160/20250\n"
     ]
    },
    {
     "name": "stdout",
     "output_type": "stream",
     "text": [
      "Training Step: 2218  | total loss: \u001b[1m\u001b[32m0.53986\u001b[0m\u001b[0m | time: 78.960s\n\u001b[2K\r| Adam | epoch: 007 | loss: 0.53986 - acc: 0.7322 -- iter: 20224/20250\n"
     ]
    },
    {
     "name": "stdout",
     "output_type": "stream",
     "text": [
      "Training Step: 2219  | total loss: \u001b[1m\u001b[32m0.53467\u001b[0m\u001b[0m | time: 80.953s\n\u001b[2K\r| Adam | epoch: 007 | loss: 0.53467 - acc: 0.7386 | val_loss: 0.67390 - val_acc: 0.6867 -- iter: 20250/20250\n--\n"
     ]
    },
    {
     "name": "stdout",
     "output_type": "stream",
     "text": [
      "Training Step: 2220  | total loss: \u001b[1m\u001b[32m0.53188\u001b[0m\u001b[0m | time: 0.247s\n\u001b[2K\r| Adam | epoch: 008 | loss: 0.53188 - acc: 0.7382 -- iter: 00064/20250\n"
     ]
    },
    {
     "name": "stdout",
     "output_type": "stream",
     "text": [
      "Training Step: 2221  | total loss: \u001b[1m\u001b[32m0.52298\u001b[0m\u001b[0m | time: 0.494s\n\u001b[2K\r| Adam | epoch: 008 | loss: 0.52298 - acc: 0.7456 -- iter: 00128/20250\n"
     ]
    },
    {
     "name": "stdout",
     "output_type": "stream",
     "text": [
      "Training Step: 2222  | total loss: \u001b[1m\u001b[32m0.52143\u001b[0m\u001b[0m | time: 0.757s\n\u001b[2K\r| Adam | epoch: 008 | loss: 0.52143 - acc: 0.7461 -- iter: 00192/20250\n"
     ]
    },
    {
     "name": "stdout",
     "output_type": "stream",
     "text": [
      "Training Step: 2223  | total loss: \u001b[1m\u001b[32m0.51285\u001b[0m\u001b[0m | time: 1.007s\n\u001b[2K\r| Adam | epoch: 008 | loss: 0.51285 - acc: 0.7543 -- iter: 00256/20250\n"
     ]
    },
    {
     "name": "stdout",
     "output_type": "stream",
     "text": [
      "Training Step: 2224  | total loss: \u001b[1m\u001b[32m0.51593\u001b[0m\u001b[0m | time: 1.267s\n\u001b[2K\r| Adam | epoch: 008 | loss: 0.51593 - acc: 0.7492 -- iter: 00320/20250\n"
     ]
    },
    {
     "name": "stdout",
     "output_type": "stream",
     "text": [
      "Training Step: 2225  | total loss: \u001b[1m\u001b[32m0.51277\u001b[0m\u001b[0m | time: 1.513s\n\u001b[2K\r| Adam | epoch: 008 | loss: 0.51277 - acc: 0.7555 -- iter: 00384/20250\n"
     ]
    },
    {
     "name": "stdout",
     "output_type": "stream",
     "text": [
      "Training Step: 2226  | total loss: \u001b[1m\u001b[32m0.52195\u001b[0m\u001b[0m | time: 1.775s\n\u001b[2K\r| Adam | epoch: 008 | loss: 0.52195 - acc: 0.7453 -- iter: 00448/20250\n"
     ]
    },
    {
     "name": "stdout",
     "output_type": "stream",
     "text": [
      "Training Step: 2227  | total loss: \u001b[1m\u001b[32m0.52048\u001b[0m\u001b[0m | time: 2.024s\n\u001b[2K\r| Adam | epoch: 008 | loss: 0.52048 - acc: 0.7477 -- iter: 00512/20250\n"
     ]
    },
    {
     "name": "stdout",
     "output_type": "stream",
     "text": [
      "Training Step: 2228  | total loss: \u001b[1m\u001b[32m0.53793\u001b[0m\u001b[0m | time: 2.283s\n\u001b[2K\r| Adam | epoch: 008 | loss: 0.53793 - acc: 0.7292 -- iter: 00576/20250\n"
     ]
    },
    {
     "name": "stdout",
     "output_type": "stream",
     "text": [
      "Training Step: 2229  | total loss: \u001b[1m\u001b[32m0.54146\u001b[0m\u001b[0m | time: 2.547s\n\u001b[2K\r| Adam | epoch: 008 | loss: 0.54146 - acc: 0.7203 -- iter: 00640/20250\n"
     ]
    },
    {
     "name": "stdout",
     "output_type": "stream",
     "text": [
      "Training Step: 2230  | total loss: \u001b[1m\u001b[32m0.55270\u001b[0m\u001b[0m | time: 2.797s\n\u001b[2K\r| Adam | epoch: 008 | loss: 0.55270 - acc: 0.7093 -- iter: 00704/20250\n"
     ]
    },
    {
     "name": "stdout",
     "output_type": "stream",
     "text": [
      "Training Step: 2231  | total loss: \u001b[1m\u001b[32m0.55346\u001b[0m\u001b[0m | time: 3.064s\n\u001b[2K\r| Adam | epoch: 008 | loss: 0.55346 - acc: 0.7118 -- iter: 00768/20250\n"
     ]
    },
    {
     "name": "stdout",
     "output_type": "stream",
     "text": [
      "Training Step: 2232  | total loss: \u001b[1m\u001b[32m0.55343\u001b[0m\u001b[0m | time: 3.307s\n\u001b[2K\r| Adam | epoch: 008 | loss: 0.55343 - acc: 0.7140 -- iter: 00832/20250\n"
     ]
    },
    {
     "name": "stdout",
     "output_type": "stream",
     "text": [
      "Training Step: 2233  | total loss: \u001b[1m\u001b[32m0.55911\u001b[0m\u001b[0m | time: 3.553s\n\u001b[2K\r| Adam | epoch: 008 | loss: 0.55911 - acc: 0.7051 -- iter: 00896/20250\n"
     ]
    },
    {
     "name": "stdout",
     "output_type": "stream",
     "text": [
      "Training Step: 2234  | total loss: \u001b[1m\u001b[32m0.57974\u001b[0m\u001b[0m | time: 3.796s\n\u001b[2K\r| Adam | epoch: 008 | loss: 0.57974 - acc: 0.6862 -- iter: 00960/20250\n"
     ]
    },
    {
     "name": "stdout",
     "output_type": "stream",
     "text": [
      "Training Step: 2235  | total loss: \u001b[1m\u001b[32m0.58491\u001b[0m\u001b[0m | time: 4.066s\n\u001b[2K\r| Adam | epoch: 008 | loss: 0.58491 - acc: 0.6816 -- iter: 01024/20250\n"
     ]
    },
    {
     "name": "stdout",
     "output_type": "stream",
     "text": [
      "Training Step: 2236  | total loss: \u001b[1m\u001b[32m0.58584\u001b[0m\u001b[0m | time: 4.315s\n\u001b[2K\r| Adam | epoch: 008 | loss: 0.58584 - acc: 0.6806 -- iter: 01088/20250\n"
     ]
    },
    {
     "name": "stdout",
     "output_type": "stream",
     "text": [
      "Training Step: 2237  | total loss: \u001b[1m\u001b[32m0.59247\u001b[0m\u001b[0m | time: 4.561s\n\u001b[2K\r| Adam | epoch: 008 | loss: 0.59247 - acc: 0.6704 -- iter: 01152/20250\n"
     ]
    },
    {
     "name": "stdout",
     "output_type": "stream",
     "text": [
      "Training Step: 2238  | total loss: \u001b[1m\u001b[32m0.58655\u001b[0m\u001b[0m | time: 4.818s\n\u001b[2K\r| Adam | epoch: 008 | loss: 0.58655 - acc: 0.6721 -- iter: 01216/20250\n"
     ]
    },
    {
     "name": "stdout",
     "output_type": "stream",
     "text": [
      "Training Step: 2239  | total loss: \u001b[1m\u001b[32m0.58636\u001b[0m\u001b[0m | time: 5.066s\n\u001b[2K\r| Adam | epoch: 008 | loss: 0.58636 - acc: 0.6674 -- iter: 01280/20250\n"
     ]
    },
    {
     "name": "stdout",
     "output_type": "stream",
     "text": [
      "Training Step: 2240  | total loss: \u001b[1m\u001b[32m0.58342\u001b[0m\u001b[0m | time: 5.315s\n\u001b[2K\r| Adam | epoch: 008 | loss: 0.58342 - acc: 0.6616 -- iter: 01344/20250\n"
     ]
    },
    {
     "name": "stdout",
     "output_type": "stream",
     "text": [
      "Training Step: 2241  | total loss: \u001b[1m\u001b[32m0.58907\u001b[0m\u001b[0m | time: 5.589s\n\u001b[2K\r| Adam | epoch: 008 | loss: 0.58907 - acc: 0.6517 -- iter: 01408/20250\n"
     ]
    },
    {
     "name": "stdout",
     "output_type": "stream",
     "text": [
      "Training Step: 2242  | total loss: \u001b[1m\u001b[32m0.58481\u001b[0m\u001b[0m | time: 5.838s\n\u001b[2K\r| Adam | epoch: 008 | loss: 0.58481 - acc: 0.6600 -- iter: 01472/20250\n"
     ]
    },
    {
     "name": "stdout",
     "output_type": "stream",
     "text": [
      "Training Step: 2243  | total loss: \u001b[1m\u001b[32m0.58275\u001b[0m\u001b[0m | time: 6.082s\n\u001b[2K\r| Adam | epoch: 008 | loss: 0.58275 - acc: 0.6549 -- iter: 01536/20250\n"
     ]
    },
    {
     "name": "stdout",
     "output_type": "stream",
     "text": [
      "Training Step: 2244  | total loss: \u001b[1m\u001b[32m0.59271\u001b[0m\u001b[0m | time: 6.337s\n\u001b[2K\r| Adam | epoch: 008 | loss: 0.59271 - acc: 0.6441 -- iter: 01600/20250\n"
     ]
    },
    {
     "name": "stdout",
     "output_type": "stream",
     "text": [
      "Training Step: 2245  | total loss: \u001b[1m\u001b[32m0.58898\u001b[0m\u001b[0m | time: 6.573s\n\u001b[2K\r| Adam | epoch: 008 | loss: 0.58898 - acc: 0.6531 -- iter: 01664/20250\n"
     ]
    },
    {
     "name": "stdout",
     "output_type": "stream",
     "text": [
      "Training Step: 2246  | total loss: \u001b[1m\u001b[32m0.58973\u001b[0m\u001b[0m | time: 6.825s\n\u001b[2K\r| Adam | epoch: 008 | loss: 0.58973 - acc: 0.6519 -- iter: 01728/20250\n"
     ]
    },
    {
     "name": "stdout",
     "output_type": "stream",
     "text": [
      "Training Step: 2247  | total loss: \u001b[1m\u001b[32m0.58675\u001b[0m\u001b[0m | time: 7.072s\n\u001b[2K\r| Adam | epoch: 008 | loss: 0.58675 - acc: 0.6601 -- iter: 01792/20250\n"
     ]
    },
    {
     "name": "stdout",
     "output_type": "stream",
     "text": [
      "Training Step: 2248  | total loss: \u001b[1m\u001b[32m0.58920\u001b[0m\u001b[0m | time: 7.317s\n\u001b[2K\r| Adam | epoch: 008 | loss: 0.58920 - acc: 0.6457 -- iter: 01856/20250\n"
     ]
    },
    {
     "name": "stdout",
     "output_type": "stream",
     "text": [
      "Training Step: 2249  | total loss: \u001b[1m\u001b[32m0.58733\u001b[0m\u001b[0m | time: 7.559s\n\u001b[2K\r| Adam | epoch: 008 | loss: 0.58733 - acc: 0.6374 -- iter: 01920/20250\n"
     ]
    },
    {
     "name": "stdout",
     "output_type": "stream",
     "text": [
      "Training Step: 2250  | total loss: \u001b[1m\u001b[32m0.58846\u001b[0m\u001b[0m | time: 7.805s\n\u001b[2K\r| Adam | epoch: 008 | loss: 0.58846 - acc: 0.6346 -- iter: 01984/20250\n"
     ]
    },
    {
     "name": "stdout",
     "output_type": "stream",
     "text": [
      "Training Step: 2251  | total loss: \u001b[1m\u001b[32m0.59014\u001b[0m\u001b[0m | time: 8.084s\n\u001b[2K\r| Adam | epoch: 008 | loss: 0.59014 - acc: 0.6305 -- iter: 02048/20250\n"
     ]
    },
    {
     "name": "stdout",
     "output_type": "stream",
     "text": [
      "Training Step: 2252  | total loss: \u001b[1m\u001b[32m0.59153\u001b[0m\u001b[0m | time: 8.328s\n\u001b[2K\r| Adam | epoch: 008 | loss: 0.59153 - acc: 0.6284 -- iter: 02112/20250\n"
     ]
    },
    {
     "name": "stdout",
     "output_type": "stream",
     "text": [
      "Training Step: 2253  | total loss: \u001b[1m\u001b[32m0.59731\u001b[0m\u001b[0m | time: 8.569s\n\u001b[2K\r| Adam | epoch: 008 | loss: 0.59731 - acc: 0.6202 -- iter: 02176/20250\n"
     ]
    },
    {
     "name": "stdout",
     "output_type": "stream",
     "text": [
      "Training Step: 2254  | total loss: \u001b[1m\u001b[32m0.59341\u001b[0m\u001b[0m | time: 8.825s\n\u001b[2K\r| Adam | epoch: 008 | loss: 0.59341 - acc: 0.6191 -- iter: 02240/20250\n"
     ]
    },
    {
     "name": "stdout",
     "output_type": "stream",
     "text": [
      "Training Step: 2255  | total loss: \u001b[1m\u001b[32m0.59098\u001b[0m\u001b[0m | time: 9.075s\n\u001b[2K\r| Adam | epoch: 008 | loss: 0.59098 - acc: 0.6275 -- iter: 02304/20250\n"
     ]
    },
    {
     "name": "stdout",
     "output_type": "stream",
     "text": [
      "Training Step: 2256  | total loss: \u001b[1m\u001b[32m0.59115\u001b[0m\u001b[0m | time: 9.323s\n\u001b[2K\r| Adam | epoch: 008 | loss: 0.59115 - acc: 0.6226 -- iter: 02368/20250\n"
     ]
    },
    {
     "name": "stdout",
     "output_type": "stream",
     "text": [
      "Training Step: 2257  | total loss: \u001b[1m\u001b[32m0.59016\u001b[0m\u001b[0m | time: 9.578s\n\u001b[2K\r| Adam | epoch: 008 | loss: 0.59016 - acc: 0.6260 -- iter: 02432/20250\n"
     ]
    },
    {
     "name": "stdout",
     "output_type": "stream",
     "text": [
      "Training Step: 2258  | total loss: \u001b[1m\u001b[32m0.59191\u001b[0m\u001b[0m | time: 9.822s\n\u001b[2K\r| Adam | epoch: 008 | loss: 0.59191 - acc: 0.6227 -- iter: 02496/20250\n"
     ]
    },
    {
     "name": "stdout",
     "output_type": "stream",
     "text": [
      "Training Step: 2259  | total loss: \u001b[1m\u001b[32m0.59433\u001b[0m\u001b[0m | time: 10.065s\n\u001b[2K\r| Adam | epoch: 008 | loss: 0.59433 - acc: 0.6230 -- iter: 02560/20250\n"
     ]
    },
    {
     "name": "stdout",
     "output_type": "stream",
     "text": [
      "Training Step: 2260  | total loss: \u001b[1m\u001b[32m0.58862\u001b[0m\u001b[0m | time: 10.330s\n\u001b[2K\r| Adam | epoch: 008 | loss: 0.58862 - acc: 0.6310 -- iter: 02624/20250\n"
     ]
    },
    {
     "name": "stdout",
     "output_type": "stream",
     "text": [
      "Training Step: 2261  | total loss: \u001b[1m\u001b[32m0.58759\u001b[0m\u001b[0m | time: 10.593s\n\u001b[2K\r| Adam | epoch: 008 | loss: 0.58759 - acc: 0.6382 -- iter: 02688/20250\n"
     ]
    },
    {
     "name": "stdout",
     "output_type": "stream",
     "text": [
      "Training Step: 2262  | total loss: \u001b[1m\u001b[32m0.58674\u001b[0m\u001b[0m | time: 10.845s\n\u001b[2K\r| Adam | epoch: 008 | loss: 0.58674 - acc: 0.6353 -- iter: 02752/20250\n"
     ]
    },
    {
     "name": "stdout",
     "output_type": "stream",
     "text": [
      "Training Step: 2263  | total loss: \u001b[1m\u001b[32m0.58577\u001b[0m\u001b[0m | time: 11.086s\n\u001b[2K\r| Adam | epoch: 008 | loss: 0.58577 - acc: 0.6358 -- iter: 02816/20250\n"
     ]
    },
    {
     "name": "stdout",
     "output_type": "stream",
     "text": [
      "Training Step: 2264  | total loss: \u001b[1m\u001b[32m0.58432\u001b[0m\u001b[0m | time: 11.332s\n\u001b[2K\r| Adam | epoch: 008 | loss: 0.58432 - acc: 0.6426 -- iter: 02880/20250\n"
     ]
    },
    {
     "name": "stdout",
     "output_type": "stream",
     "text": [
      "Training Step: 2265  | total loss: \u001b[1m\u001b[32m0.58300\u001b[0m\u001b[0m | time: 11.573s\n\u001b[2K\r| Adam | epoch: 008 | loss: 0.58300 - acc: 0.6486 -- iter: 02944/20250\n"
     ]
    },
    {
     "name": "stdout",
     "output_type": "stream",
     "text": [
      "Training Step: 2266  | total loss: \u001b[1m\u001b[32m0.58274\u001b[0m\u001b[0m | time: 11.818s\n\u001b[2K\r| Adam | epoch: 008 | loss: 0.58274 - acc: 0.6525 -- iter: 03008/20250\n"
     ]
    },
    {
     "name": "stdout",
     "output_type": "stream",
     "text": [
      "Training Step: 2267  | total loss: \u001b[1m\u001b[32m0.57774\u001b[0m\u001b[0m | time: 12.066s\n\u001b[2K\r| Adam | epoch: 008 | loss: 0.57774 - acc: 0.6607 -- iter: 03072/20250\n"
     ]
    },
    {
     "name": "stdout",
     "output_type": "stream",
     "text": [
      "Training Step: 2268  | total loss: \u001b[1m\u001b[32m0.58155\u001b[0m\u001b[0m | time: 12.368s\n\u001b[2K\r| Adam | epoch: 008 | loss: 0.58155 - acc: 0.6634 -- iter: 03136/20250\n"
     ]
    },
    {
     "name": "stdout",
     "output_type": "stream",
     "text": [
      "Training Step: 2269  | total loss: \u001b[1m\u001b[32m0.58121\u001b[0m\u001b[0m | time: 12.626s\n\u001b[2K\r| Adam | epoch: 008 | loss: 0.58121 - acc: 0.6580 -- iter: 03200/20250\n"
     ]
    },
    {
     "name": "stdout",
     "output_type": "stream",
     "text": [
      "Training Step: 2270  | total loss: \u001b[1m\u001b[32m0.57613\u001b[0m\u001b[0m | time: 12.880s\n\u001b[2K\r| Adam | epoch: 008 | loss: 0.57613 - acc: 0.6625 -- iter: 03264/20250\n"
     ]
    },
    {
     "name": "stdout",
     "output_type": "stream",
     "text": [
      "Training Step: 2271  | total loss: \u001b[1m\u001b[32m0.57283\u001b[0m\u001b[0m | time: 13.160s\n\u001b[2K\r| Adam | epoch: 008 | loss: 0.57283 - acc: 0.6681 -- iter: 03328/20250\n"
     ]
    },
    {
     "name": "stdout",
     "output_type": "stream",
     "text": [
      "Training Step: 2272  | total loss: \u001b[1m\u001b[32m0.56987\u001b[0m\u001b[0m | time: 13.398s\n\u001b[2K\r| Adam | epoch: 008 | loss: 0.56987 - acc: 0.6763 -- iter: 03392/20250\n"
     ]
    },
    {
     "name": "stdout",
     "output_type": "stream",
     "text": [
      "Training Step: 2273  | total loss: \u001b[1m\u001b[32m0.57827\u001b[0m\u001b[0m | time: 13.639s\n\u001b[2K\r| Adam | epoch: 008 | loss: 0.57827 - acc: 0.6696 -- iter: 03456/20250\n"
     ]
    },
    {
     "name": "stdout",
     "output_type": "stream",
     "text": [
      "Training Step: 2274  | total loss: \u001b[1m\u001b[32m0.58085\u001b[0m\u001b[0m | time: 13.886s\n\u001b[2K\r| Adam | epoch: 008 | loss: 0.58085 - acc: 0.6683 -- iter: 03520/20250\n"
     ]
    },
    {
     "name": "stdout",
     "output_type": "stream",
     "text": [
      "Training Step: 2275  | total loss: \u001b[1m\u001b[32m0.57382\u001b[0m\u001b[0m | time: 14.131s\n\u001b[2K\r| Adam | epoch: 008 | loss: 0.57382 - acc: 0.6749 -- iter: 03584/20250\n"
     ]
    },
    {
     "name": "stdout",
     "output_type": "stream",
     "text": [
      "Training Step: 2276  | total loss: \u001b[1m\u001b[32m0.57957\u001b[0m\u001b[0m | time: 14.378s\n\u001b[2K\r| Adam | epoch: 008 | loss: 0.57957 - acc: 0.6636 -- iter: 03648/20250\n"
     ]
    },
    {
     "name": "stdout",
     "output_type": "stream",
     "text": [
      "Training Step: 2277  | total loss: \u001b[1m\u001b[32m0.57600\u001b[0m\u001b[0m | time: 14.624s\n\u001b[2K\r| Adam | epoch: 008 | loss: 0.57600 - acc: 0.6645 -- iter: 03712/20250\n"
     ]
    },
    {
     "name": "stdout",
     "output_type": "stream",
     "text": [
      "Training Step: 2278  | total loss: \u001b[1m\u001b[32m0.57964\u001b[0m\u001b[0m | time: 14.880s\n\u001b[2K\r| Adam | epoch: 008 | loss: 0.57964 - acc: 0.6652 -- iter: 03776/20250\n"
     ]
    },
    {
     "name": "stdout",
     "output_type": "stream",
     "text": [
      "Training Step: 2279  | total loss: \u001b[1m\u001b[32m0.58003\u001b[0m\u001b[0m | time: 15.130s\n\u001b[2K\r| Adam | epoch: 008 | loss: 0.58003 - acc: 0.6612 -- iter: 03840/20250\n"
     ]
    },
    {
     "name": "stdout",
     "output_type": "stream",
     "text": [
      "Training Step: 2280  | total loss: \u001b[1m\u001b[32m0.58370\u001b[0m\u001b[0m | time: 15.393s\n\u001b[2K\r| Adam | epoch: 008 | loss: 0.58370 - acc: 0.6560 -- iter: 03904/20250\n"
     ]
    },
    {
     "name": "stdout",
     "output_type": "stream",
     "text": [
      "Training Step: 2281  | total loss: \u001b[1m\u001b[32m0.58769\u001b[0m\u001b[0m | time: 15.660s\n\u001b[2K\r| Adam | epoch: 008 | loss: 0.58769 - acc: 0.6498 -- iter: 03968/20250\n"
     ]
    },
    {
     "name": "stdout",
     "output_type": "stream",
     "text": [
      "Training Step: 2282  | total loss: \u001b[1m\u001b[32m0.59272\u001b[0m\u001b[0m | time: 15.904s\n\u001b[2K\r| Adam | epoch: 008 | loss: 0.59272 - acc: 0.6489 -- iter: 04032/20250\n"
     ]
    },
    {
     "name": "stdout",
     "output_type": "stream",
     "text": [
      "Training Step: 2283  | total loss: \u001b[1m\u001b[32m0.58522\u001b[0m\u001b[0m | time: 16.160s\n\u001b[2K\r| Adam | epoch: 008 | loss: 0.58522 - acc: 0.6527 -- iter: 04096/20250\n"
     ]
    },
    {
     "name": "stdout",
     "output_type": "stream",
     "text": [
      "Training Step: 2284  | total loss: \u001b[1m\u001b[32m0.57992\u001b[0m\u001b[0m | time: 16.416s\n\u001b[2K\r| Adam | epoch: 008 | loss: 0.57992 - acc: 0.6609 -- iter: 04160/20250\n"
     ]
    },
    {
     "name": "stdout",
     "output_type": "stream",
     "text": [
      "Training Step: 2285  | total loss: \u001b[1m\u001b[32m0.58115\u001b[0m\u001b[0m | time: 16.661s\n\u001b[2K\r| Adam | epoch: 008 | loss: 0.58115 - acc: 0.6526 -- iter: 04224/20250\n"
     ]
    },
    {
     "name": "stdout",
     "output_type": "stream",
     "text": [
      "Training Step: 2286  | total loss: \u001b[1m\u001b[32m0.57156\u001b[0m\u001b[0m | time: 16.906s\n\u001b[2K\r| Adam | epoch: 008 | loss: 0.57156 - acc: 0.6624 -- iter: 04288/20250\n"
     ]
    },
    {
     "name": "stdout",
     "output_type": "stream",
     "text": [
      "Training Step: 2287  | total loss: \u001b[1m\u001b[32m0.56783\u001b[0m\u001b[0m | time: 17.150s\n\u001b[2K\r| Adam | epoch: 008 | loss: 0.56783 - acc: 0.6711 -- iter: 04352/20250\n"
     ]
    },
    {
     "name": "stdout",
     "output_type": "stream",
     "text": [
      "Training Step: 2288  | total loss: \u001b[1m\u001b[32m0.56494\u001b[0m\u001b[0m | time: 17.398s\n\u001b[2K\r| Adam | epoch: 008 | loss: 0.56494 - acc: 0.6743 -- iter: 04416/20250\n"
     ]
    },
    {
     "name": "stdout",
     "output_type": "stream",
     "text": [
      "Training Step: 2289  | total loss: \u001b[1m\u001b[32m0.56509\u001b[0m\u001b[0m | time: 17.648s\n\u001b[2K\r| Adam | epoch: 008 | loss: 0.56509 - acc: 0.6710 -- iter: 04480/20250\n"
     ]
    },
    {
     "name": "stdout",
     "output_type": "stream",
     "text": [
      "Training Step: 2290  | total loss: \u001b[1m\u001b[32m0.56784\u001b[0m\u001b[0m | time: 17.922s\n\u001b[2K\r| Adam | epoch: 008 | loss: 0.56784 - acc: 0.6648 -- iter: 04544/20250\n"
     ]
    },
    {
     "name": "stdout",
     "output_type": "stream",
     "text": [
      "Training Step: 2291  | total loss: \u001b[1m\u001b[32m0.57106\u001b[0m\u001b[0m | time: 18.209s\n\u001b[2K\r| Adam | epoch: 008 | loss: 0.57106 - acc: 0.6624 -- iter: 04608/20250\n"
     ]
    },
    {
     "name": "stdout",
     "output_type": "stream",
     "text": [
      "Training Step: 2292  | total loss: \u001b[1m\u001b[32m0.57588\u001b[0m\u001b[0m | time: 18.454s\n\u001b[2K\r| Adam | epoch: 008 | loss: 0.57588 - acc: 0.6555 -- iter: 04672/20250\n"
     ]
    },
    {
     "name": "stdout",
     "output_type": "stream",
     "text": [
      "Training Step: 2293  | total loss: \u001b[1m\u001b[32m0.57376\u001b[0m\u001b[0m | time: 18.698s\n\u001b[2K\r| Adam | epoch: 008 | loss: 0.57376 - acc: 0.6603 -- iter: 04736/20250\n"
     ]
    },
    {
     "name": "stdout",
     "output_type": "stream",
     "text": [
      "Training Step: 2294  | total loss: \u001b[1m\u001b[32m0.58624\u001b[0m\u001b[0m | time: 18.940s\n\u001b[2K\r| Adam | epoch: 008 | loss: 0.58624 - acc: 0.6458 -- iter: 04800/20250\n"
     ]
    },
    {
     "name": "stdout",
     "output_type": "stream",
     "text": [
      "Training Step: 2295  | total loss: \u001b[1m\u001b[32m0.58603\u001b[0m\u001b[0m | time: 19.187s\n\u001b[2K\r| Adam | epoch: 008 | loss: 0.58603 - acc: 0.6469 -- iter: 04864/20250\n"
     ]
    },
    {
     "name": "stdout",
     "output_type": "stream",
     "text": [
      "Training Step: 2296  | total loss: \u001b[1m\u001b[32m0.59137\u001b[0m\u001b[0m | time: 19.430s\n\u001b[2K\r| Adam | epoch: 008 | loss: 0.59137 - acc: 0.6400 -- iter: 04928/20250\n"
     ]
    },
    {
     "name": "stdout",
     "output_type": "stream",
     "text": [
      "Training Step: 2297  | total loss: \u001b[1m\u001b[32m0.58707\u001b[0m\u001b[0m | time: 19.671s\n\u001b[2K\r| Adam | epoch: 008 | loss: 0.58707 - acc: 0.6479 -- iter: 04992/20250\n"
     ]
    },
    {
     "name": "stdout",
     "output_type": "stream",
     "text": [
      "Training Step: 2298  | total loss: \u001b[1m\u001b[32m0.58213\u001b[0m\u001b[0m | time: 19.914s\n\u001b[2K\r| Adam | epoch: 008 | loss: 0.58213 - acc: 0.6549 -- iter: 05056/20250\n"
     ]
    },
    {
     "name": "stdout",
     "output_type": "stream",
     "text": [
      "Training Step: 2299  | total loss: \u001b[1m\u001b[32m0.57882\u001b[0m\u001b[0m | time: 20.163s\n\u001b[2K\r| Adam | epoch: 008 | loss: 0.57882 - acc: 0.6582 -- iter: 05120/20250\n"
     ]
    },
    {
     "name": "stdout",
     "output_type": "stream",
     "text": [
      "Training Step: 2300  | total loss: \u001b[1m\u001b[32m0.58290\u001b[0m\u001b[0m | time: 20.450s\n\u001b[2K\r| Adam | epoch: 008 | loss: 0.58290 - acc: 0.6502 -- iter: 05184/20250\n"
     ]
    },
    {
     "name": "stdout",
     "output_type": "stream",
     "text": [
      "Training Step: 2301  | total loss: \u001b[1m\u001b[32m0.58206\u001b[0m\u001b[0m | time: 20.706s\n\u001b[2K\r| Adam | epoch: 008 | loss: 0.58206 - acc: 0.6508 -- iter: 05248/20250\n"
     ]
    },
    {
     "name": "stdout",
     "output_type": "stream",
     "text": [
      "Training Step: 2302  | total loss: \u001b[1m\u001b[32m0.57988\u001b[0m\u001b[0m | time: 20.947s\n\u001b[2K\r| Adam | epoch: 008 | loss: 0.57988 - acc: 0.6467 -- iter: 05312/20250\n"
     ]
    },
    {
     "name": "stdout",
     "output_type": "stream",
     "text": [
      "Training Step: 2303  | total loss: \u001b[1m\u001b[32m0.57798\u001b[0m\u001b[0m | time: 21.191s\n\u001b[2K\r| Adam | epoch: 008 | loss: 0.57798 - acc: 0.6445 -- iter: 05376/20250\n"
     ]
    },
    {
     "name": "stdout",
     "output_type": "stream",
     "text": [
      "Training Step: 2304  | total loss: \u001b[1m\u001b[32m0.57565\u001b[0m\u001b[0m | time: 21.451s\n\u001b[2K\r| Adam | epoch: 008 | loss: 0.57565 - acc: 0.6504 -- iter: 05440/20250\n"
     ]
    },
    {
     "name": "stdout",
     "output_type": "stream",
     "text": [
      "Training Step: 2305  | total loss: \u001b[1m\u001b[32m0.57340\u001b[0m\u001b[0m | time: 21.699s\n\u001b[2K\r| Adam | epoch: 008 | loss: 0.57340 - acc: 0.6572 -- iter: 05504/20250\n"
     ]
    },
    {
     "name": "stdout",
     "output_type": "stream",
     "text": [
      "Training Step: 2306  | total loss: \u001b[1m\u001b[32m0.56945\u001b[0m\u001b[0m | time: 21.953s\n\u001b[2K\r| Adam | epoch: 008 | loss: 0.56945 - acc: 0.6680 -- iter: 05568/20250\n"
     ]
    },
    {
     "name": "stdout",
     "output_type": "stream",
     "text": [
      "Training Step: 2307  | total loss: \u001b[1m\u001b[32m0.56955\u001b[0m\u001b[0m | time: 22.202s\n\u001b[2K\r| Adam | epoch: 008 | loss: 0.56955 - acc: 0.6700 -- iter: 05632/20250\n"
     ]
    },
    {
     "name": "stdout",
     "output_type": "stream",
     "text": [
      "Training Step: 2308  | total loss: \u001b[1m\u001b[32m0.56884\u001b[0m\u001b[0m | time: 22.449s\n\u001b[2K\r| Adam | epoch: 008 | loss: 0.56884 - acc: 0.6764 -- iter: 05696/20250\n"
     ]
    },
    {
     "name": "stdout",
     "output_type": "stream",
     "text": [
      "Training Step: 2309  | total loss: \u001b[1m\u001b[32m0.56710\u001b[0m\u001b[0m | time: 22.695s\n\u001b[2K\r| Adam | epoch: 008 | loss: 0.56710 - acc: 0.6775 -- iter: 05760/20250\n"
     ]
    },
    {
     "name": "stdout",
     "output_type": "stream",
     "text": [
      "Training Step: 2310  | total loss: \u001b[1m\u001b[32m0.57179\u001b[0m\u001b[0m | time: 22.946s\n\u001b[2K\r| Adam | epoch: 008 | loss: 0.57179 - acc: 0.6754 -- iter: 05824/20250\n"
     ]
    },
    {
     "name": "stdout",
     "output_type": "stream",
     "text": [
      "Training Step: 2311  | total loss: \u001b[1m\u001b[32m0.57325\u001b[0m\u001b[0m | time: 23.199s\n\u001b[2K\r| Adam | epoch: 008 | loss: 0.57325 - acc: 0.6766 -- iter: 05888/20250\n"
     ]
    },
    {
     "name": "stdout",
     "output_type": "stream",
     "text": [
      "Training Step: 2312  | total loss: \u001b[1m\u001b[32m0.57926\u001b[0m\u001b[0m | time: 23.482s\n\u001b[2K\r| Adam | epoch: 008 | loss: 0.57926 - acc: 0.6715 -- iter: 05952/20250\n"
     ]
    },
    {
     "name": "stdout",
     "output_type": "stream",
     "text": [
      "Training Step: 2313  | total loss: \u001b[1m\u001b[32m0.57707\u001b[0m\u001b[0m | time: 23.731s\n\u001b[2K\r| Adam | epoch: 008 | loss: 0.57707 - acc: 0.6731 -- iter: 06016/20250\n"
     ]
    },
    {
     "name": "stdout",
     "output_type": "stream",
     "text": [
      "Training Step: 2314  | total loss: \u001b[1m\u001b[32m0.57383\u001b[0m\u001b[0m | time: 23.972s\n\u001b[2K\r| Adam | epoch: 008 | loss: 0.57383 - acc: 0.6698 -- iter: 06080/20250\n"
     ]
    },
    {
     "name": "stdout",
     "output_type": "stream",
     "text": [
      "Training Step: 2315  | total loss: \u001b[1m\u001b[32m0.57437\u001b[0m\u001b[0m | time: 24.232s\n\u001b[2K\r| Adam | epoch: 008 | loss: 0.57437 - acc: 0.6653 -- iter: 06144/20250\n"
     ]
    },
    {
     "name": "stdout",
     "output_type": "stream",
     "text": [
      "Training Step: 2316  | total loss: \u001b[1m\u001b[32m0.56205\u001b[0m\u001b[0m | time: 24.478s\n\u001b[2K\r| Adam | epoch: 008 | loss: 0.56205 - acc: 0.6800 -- iter: 06208/20250\n"
     ]
    },
    {
     "name": "stdout",
     "output_type": "stream",
     "text": [
      "Training Step: 2317  | total loss: \u001b[1m\u001b[32m0.55977\u001b[0m\u001b[0m | time: 24.719s\n\u001b[2K\r| Adam | epoch: 008 | loss: 0.55977 - acc: 0.6761 -- iter: 06272/20250\n"
     ]
    },
    {
     "name": "stdout",
     "output_type": "stream",
     "text": [
      "Training Step: 2318  | total loss: \u001b[1m\u001b[32m0.55524\u001b[0m\u001b[0m | time: 24.972s\n\u001b[2K\r| Adam | epoch: 008 | loss: 0.55524 - acc: 0.6835 -- iter: 06336/20250\n"
     ]
    },
    {
     "name": "stdout",
     "output_type": "stream",
     "text": [
      "Training Step: 2319  | total loss: \u001b[1m\u001b[32m0.56200\u001b[0m\u001b[0m | time: 25.217s\n\u001b[2K\r| Adam | epoch: 008 | loss: 0.56200 - acc: 0.6761 -- iter: 06400/20250\n"
     ]
    },
    {
     "name": "stdout",
     "output_type": "stream",
     "text": [
      "Training Step: 2320  | total loss: \u001b[1m\u001b[32m0.55819\u001b[0m\u001b[0m | time: 25.483s\n\u001b[2K\r| Adam | epoch: 008 | loss: 0.55819 - acc: 0.6788 -- iter: 06464/20250\n"
     ]
    },
    {
     "name": "stdout",
     "output_type": "stream",
     "text": [
      "Training Step: 2321  | total loss: \u001b[1m\u001b[32m0.56061\u001b[0m\u001b[0m | time: 25.748s\n\u001b[2K\r| Adam | epoch: 008 | loss: 0.56061 - acc: 0.6734 -- iter: 06528/20250\n"
     ]
    },
    {
     "name": "stdout",
     "output_type": "stream",
     "text": [
      "Training Step: 2322  | total loss: \u001b[1m\u001b[32m0.55931\u001b[0m\u001b[0m | time: 26.005s\n\u001b[2K\r| Adam | epoch: 008 | loss: 0.55931 - acc: 0.6748 -- iter: 06592/20250\n"
     ]
    },
    {
     "name": "stdout",
     "output_type": "stream",
     "text": [
      "Training Step: 2323  | total loss: \u001b[1m\u001b[32m0.55107\u001b[0m\u001b[0m | time: 26.259s\n\u001b[2K\r| Adam | epoch: 008 | loss: 0.55107 - acc: 0.6855 -- iter: 06656/20250\n"
     ]
    },
    {
     "name": "stdout",
     "output_type": "stream",
     "text": [
      "Training Step: 2324  | total loss: \u001b[1m\u001b[32m0.55215\u001b[0m\u001b[0m | time: 26.505s\n\u001b[2K\r| Adam | epoch: 008 | loss: 0.55215 - acc: 0.6857 -- iter: 06720/20250\n"
     ]
    },
    {
     "name": "stdout",
     "output_type": "stream",
     "text": [
      "Training Step: 2325  | total loss: \u001b[1m\u001b[32m0.55785\u001b[0m\u001b[0m | time: 26.750s\n\u001b[2K\r| Adam | epoch: 008 | loss: 0.55785 - acc: 0.6827 -- iter: 06784/20250\n"
     ]
    },
    {
     "name": "stdout",
     "output_type": "stream",
     "text": [
      "Training Step: 2326  | total loss: \u001b[1m\u001b[32m0.55884\u001b[0m\u001b[0m | time: 27.001s\n\u001b[2K\r| Adam | epoch: 008 | loss: 0.55884 - acc: 0.6785 -- iter: 06848/20250\n"
     ]
    },
    {
     "name": "stdout",
     "output_type": "stream",
     "text": [
      "Training Step: 2327  | total loss: \u001b[1m\u001b[32m0.55218\u001b[0m\u001b[0m | time: 27.247s\n\u001b[2K\r| Adam | epoch: 008 | loss: 0.55218 - acc: 0.6888 -- iter: 06912/20250\n"
     ]
    },
    {
     "name": "stdout",
     "output_type": "stream",
     "text": [
      "Training Step: 2328  | total loss: \u001b[1m\u001b[32m0.55367\u001b[0m\u001b[0m | time: 27.494s\n\u001b[2K\r| Adam | epoch: 008 | loss: 0.55367 - acc: 0.6808 -- iter: 06976/20250\n"
     ]
    },
    {
     "name": "stdout",
     "output_type": "stream",
     "text": [
      "Training Step: 2329  | total loss: \u001b[1m\u001b[32m0.55121\u001b[0m\u001b[0m | time: 27.745s\n\u001b[2K\r| Adam | epoch: 008 | loss: 0.55121 - acc: 0.6831 -- iter: 07040/20250\n"
     ]
    },
    {
     "name": "stdout",
     "output_type": "stream",
     "text": [
      "Training Step: 2330  | total loss: \u001b[1m\u001b[32m0.55718\u001b[0m\u001b[0m | time: 27.996s\n\u001b[2K\r| Adam | epoch: 008 | loss: 0.55718 - acc: 0.6788 -- iter: 07104/20250\n"
     ]
    },
    {
     "name": "stdout",
     "output_type": "stream",
     "text": [
      "Training Step: 2331  | total loss: \u001b[1m\u001b[32m0.55510\u001b[0m\u001b[0m | time: 28.258s\n\u001b[2K\r| Adam | epoch: 008 | loss: 0.55510 - acc: 0.6766 -- iter: 07168/20250\n"
     ]
    },
    {
     "name": "stdout",
     "output_type": "stream",
     "text": [
      "Training Step: 2332  | total loss: \u001b[1m\u001b[32m0.55618\u001b[0m\u001b[0m | time: 28.507s\n\u001b[2K\r| Adam | epoch: 008 | loss: 0.55618 - acc: 0.6777 -- iter: 07232/20250\n"
     ]
    },
    {
     "name": "stdout",
     "output_type": "stream",
     "text": [
      "Training Step: 2333  | total loss: \u001b[1m\u001b[32m0.55834\u001b[0m\u001b[0m | time: 28.758s\n\u001b[2K\r| Adam | epoch: 008 | loss: 0.55834 - acc: 0.6802 -- iter: 07296/20250\n"
     ]
    },
    {
     "name": "stdout",
     "output_type": "stream",
     "text": [
      "Training Step: 2334  | total loss: \u001b[1m\u001b[32m0.55207\u001b[0m\u001b[0m | time: 29.003s\n\u001b[2K\r| Adam | epoch: 008 | loss: 0.55207 - acc: 0.6825 -- iter: 07360/20250\n"
     ]
    },
    {
     "name": "stdout",
     "output_type": "stream",
     "text": [
      "Training Step: 2335  | total loss: \u001b[1m\u001b[32m0.55020\u001b[0m\u001b[0m | time: 29.249s\n\u001b[2K\r| Adam | epoch: 008 | loss: 0.55020 - acc: 0.6846 -- iter: 07424/20250\n"
     ]
    },
    {
     "name": "stdout",
     "output_type": "stream",
     "text": [
      "Training Step: 2336  | total loss: \u001b[1m\u001b[32m0.54921\u001b[0m\u001b[0m | time: 29.501s\n\u001b[2K\r| Adam | epoch: 008 | loss: 0.54921 - acc: 0.6864 -- iter: 07488/20250\n"
     ]
    },
    {
     "name": "stdout",
     "output_type": "stream",
     "text": [
      "Training Step: 2337  | total loss: \u001b[1m\u001b[32m0.54735\u001b[0m\u001b[0m | time: 29.748s\n\u001b[2K\r| Adam | epoch: 008 | loss: 0.54735 - acc: 0.6865 -- iter: 07552/20250\n"
     ]
    },
    {
     "name": "stdout",
     "output_type": "stream",
     "text": [
      "Training Step: 2338  | total loss: \u001b[1m\u001b[32m0.55130\u001b[0m\u001b[0m | time: 29.996s\n\u001b[2K\r| Adam | epoch: 008 | loss: 0.55130 - acc: 0.6882 -- iter: 07616/20250\n"
     ]
    },
    {
     "name": "stdout",
     "output_type": "stream",
     "text": [
      "Training Step: 2339  | total loss: \u001b[1m\u001b[32m0.54787\u001b[0m\u001b[0m | time: 30.242s\n\u001b[2K\r| Adam | epoch: 008 | loss: 0.54787 - acc: 0.6897 -- iter: 07680/20250\n"
     ]
    },
    {
     "name": "stdout",
     "output_type": "stream",
     "text": [
      "Training Step: 2340  | total loss: \u001b[1m\u001b[32m0.54657\u001b[0m\u001b[0m | time: 30.501s\n\u001b[2K\r| Adam | epoch: 008 | loss: 0.54657 - acc: 0.6817 -- iter: 07744/20250\n"
     ]
    },
    {
     "name": "stdout",
     "output_type": "stream",
     "text": [
      "Training Step: 2341  | total loss: \u001b[1m\u001b[32m0.55028\u001b[0m\u001b[0m | time: 30.785s\n\u001b[2K\r| Adam | epoch: 008 | loss: 0.55028 - acc: 0.6760 -- iter: 07808/20250\n"
     ]
    },
    {
     "name": "stdout",
     "output_type": "stream",
     "text": [
      "Training Step: 2342  | total loss: \u001b[1m\u001b[32m0.55249\u001b[0m\u001b[0m | time: 31.032s\n\u001b[2K\r| Adam | epoch: 008 | loss: 0.55249 - acc: 0.6724 -- iter: 07872/20250\n"
     ]
    },
    {
     "name": "stdout",
     "output_type": "stream",
     "text": [
      "Training Step: 2343  | total loss: \u001b[1m\u001b[32m0.55698\u001b[0m\u001b[0m | time: 31.281s\n\u001b[2K\r| Adam | epoch: 008 | loss: 0.55698 - acc: 0.6708 -- iter: 07936/20250\n"
     ]
    },
    {
     "name": "stdout",
     "output_type": "stream",
     "text": [
      "Training Step: 2344  | total loss: \u001b[1m\u001b[32m0.55765\u001b[0m\u001b[0m | time: 31.528s\n\u001b[2K\r| Adam | epoch: 008 | loss: 0.55765 - acc: 0.6725 -- iter: 08000/20250\n"
     ]
    },
    {
     "name": "stdout",
     "output_type": "stream",
     "text": [
      "Training Step: 2345  | total loss: \u001b[1m\u001b[32m0.56120\u001b[0m\u001b[0m | time: 31.773s\n\u001b[2K\r| Adam | epoch: 008 | loss: 0.56120 - acc: 0.6646 -- iter: 08064/20250\n"
     ]
    },
    {
     "name": "stdout",
     "output_type": "stream",
     "text": [
      "Training Step: 2346  | total loss: \u001b[1m\u001b[32m0.54875\u001b[0m\u001b[0m | time: 32.021s\n\u001b[2K\r| Adam | epoch: 008 | loss: 0.54875 - acc: 0.6747 -- iter: 08128/20250\n"
     ]
    },
    {
     "name": "stdout",
     "output_type": "stream",
     "text": [
      "Training Step: 2347  | total loss: \u001b[1m\u001b[32m0.55426\u001b[0m\u001b[0m | time: 32.272s\n\u001b[2K\r| Adam | epoch: 008 | loss: 0.55426 - acc: 0.6635 -- iter: 08192/20250\n"
     ]
    },
    {
     "name": "stdout",
     "output_type": "stream",
     "text": [
      "Training Step: 2348  | total loss: \u001b[1m\u001b[32m0.54962\u001b[0m\u001b[0m | time: 32.526s\n\u001b[2K\r| Adam | epoch: 008 | loss: 0.54962 - acc: 0.6706 -- iter: 08256/20250\n"
     ]
    },
    {
     "name": "stdout",
     "output_type": "stream",
     "text": [
      "Training Step: 2349  | total loss: \u001b[1m\u001b[32m0.54661\u001b[0m\u001b[0m | time: 32.770s\n\u001b[2K\r| Adam | epoch: 008 | loss: 0.54661 - acc: 0.6770 -- iter: 08320/20250\n"
     ]
    },
    {
     "name": "stdout",
     "output_type": "stream",
     "text": [
      "Training Step: 2350  | total loss: \u001b[1m\u001b[32m0.54262\u001b[0m\u001b[0m | time: 33.031s\n\u001b[2K\r| Adam | epoch: 008 | loss: 0.54262 - acc: 0.6827 -- iter: 08384/20250\n"
     ]
    },
    {
     "name": "stdout",
     "output_type": "stream",
     "text": [
      "Training Step: 2351  | total loss: \u001b[1m\u001b[32m0.53720\u001b[0m\u001b[0m | time: 33.311s\n\u001b[2K\r| Adam | epoch: 008 | loss: 0.53720 - acc: 0.6894 -- iter: 08448/20250\n"
     ]
    },
    {
     "name": "stdout",
     "output_type": "stream",
     "text": [
      "Training Step: 2352  | total loss: \u001b[1m\u001b[32m0.54366\u001b[0m\u001b[0m | time: 33.562s\n\u001b[2K\r| Adam | epoch: 008 | loss: 0.54366 - acc: 0.6846 -- iter: 08512/20250\n"
     ]
    },
    {
     "name": "stdout",
     "output_type": "stream",
     "text": [
      "Training Step: 2353  | total loss: \u001b[1m\u001b[32m0.53890\u001b[0m\u001b[0m | time: 33.811s\n\u001b[2K\r| Adam | epoch: 008 | loss: 0.53890 - acc: 0.6911 -- iter: 08576/20250\n"
     ]
    },
    {
     "name": "stdout",
     "output_type": "stream",
     "text": [
      "Training Step: 2354  | total loss: \u001b[1m\u001b[32m0.53812\u001b[0m\u001b[0m | time: 34.067s\n\u001b[2K\r| Adam | epoch: 008 | loss: 0.53812 - acc: 0.6923 -- iter: 08640/20250\n"
     ]
    },
    {
     "name": "stdout",
     "output_type": "stream",
     "text": [
      "Training Step: 2355  | total loss: \u001b[1m\u001b[32m0.53888\u001b[0m\u001b[0m | time: 34.317s\n\u001b[2K\r| Adam | epoch: 008 | loss: 0.53888 - acc: 0.6918 -- iter: 08704/20250\n"
     ]
    },
    {
     "name": "stdout",
     "output_type": "stream",
     "text": [
      "Training Step: 2356  | total loss: \u001b[1m\u001b[32m0.54155\u001b[0m\u001b[0m | time: 34.561s\n\u001b[2K\r| Adam | epoch: 008 | loss: 0.54155 - acc: 0.6961 -- iter: 08768/20250\n"
     ]
    },
    {
     "name": "stdout",
     "output_type": "stream",
     "text": [
      "Training Step: 2357  | total loss: \u001b[1m\u001b[32m0.54380\u001b[0m\u001b[0m | time: 34.807s\n\u001b[2K\r| Adam | epoch: 008 | loss: 0.54380 - acc: 0.6890 -- iter: 08832/20250\n"
     ]
    },
    {
     "name": "stdout",
     "output_type": "stream",
     "text": [
      "Training Step: 2358  | total loss: \u001b[1m\u001b[32m0.55156\u001b[0m\u001b[0m | time: 35.052s\n\u001b[2K\r| Adam | epoch: 008 | loss: 0.55156 - acc: 0.6779 -- iter: 08896/20250\n"
     ]
    },
    {
     "name": "stdout",
     "output_type": "stream",
     "text": [
      "Training Step: 2359  | total loss: \u001b[1m\u001b[32m0.55342\u001b[0m\u001b[0m | time: 35.298s\n\u001b[2K\r| Adam | epoch: 008 | loss: 0.55342 - acc: 0.6773 -- iter: 08960/20250\n"
     ]
    },
    {
     "name": "stdout",
     "output_type": "stream",
     "text": [
      "Training Step: 2360  | total loss: \u001b[1m\u001b[32m0.55007\u001b[0m\u001b[0m | time: 35.557s\n\u001b[2K\r| Adam | epoch: 008 | loss: 0.55007 - acc: 0.6846 -- iter: 09024/20250\n"
     ]
    },
    {
     "name": "stdout",
     "output_type": "stream",
     "text": [
      "Training Step: 2361  | total loss: \u001b[1m\u001b[32m0.54259\u001b[0m\u001b[0m | time: 35.849s\n\u001b[2K\r| Adam | epoch: 008 | loss: 0.54259 - acc: 0.6974 -- iter: 09088/20250\n"
     ]
    },
    {
     "name": "stdout",
     "output_type": "stream",
     "text": [
      "Training Step: 2362  | total loss: \u001b[1m\u001b[32m0.53925\u001b[0m\u001b[0m | time: 36.092s\n\u001b[2K\r| Adam | epoch: 008 | loss: 0.53925 - acc: 0.7026 -- iter: 09152/20250\n"
     ]
    },
    {
     "name": "stdout",
     "output_type": "stream",
     "text": [
      "Training Step: 2363  | total loss: \u001b[1m\u001b[32m0.53791\u001b[0m\u001b[0m | time: 36.344s\n\u001b[2K\r| Adam | epoch: 008 | loss: 0.53791 - acc: 0.7074 -- iter: 09216/20250\n"
     ]
    },
    {
     "name": "stdout",
     "output_type": "stream",
     "text": [
      "Training Step: 2364  | total loss: \u001b[1m\u001b[32m0.53511\u001b[0m\u001b[0m | time: 36.599s\n\u001b[2K\r| Adam | epoch: 008 | loss: 0.53511 - acc: 0.7132 -- iter: 09280/20250\n"
     ]
    },
    {
     "name": "stdout",
     "output_type": "stream",
     "text": [
      "Training Step: 2365  | total loss: \u001b[1m\u001b[32m0.52685\u001b[0m\u001b[0m | time: 36.849s\n\u001b[2K\r| Adam | epoch: 008 | loss: 0.52685 - acc: 0.7216 -- iter: 09344/20250\n"
     ]
    },
    {
     "name": "stdout",
     "output_type": "stream",
     "text": [
      "Training Step: 2366  | total loss: \u001b[1m\u001b[32m0.52567\u001b[0m\u001b[0m | time: 37.105s\n\u001b[2K\r| Adam | epoch: 008 | loss: 0.52567 - acc: 0.7197 -- iter: 09408/20250\n"
     ]
    },
    {
     "name": "stdout",
     "output_type": "stream",
     "text": [
      "Training Step: 2367  | total loss: \u001b[1m\u001b[32m0.52868\u001b[0m\u001b[0m | time: 37.354s\n\u001b[2K\r| Adam | epoch: 008 | loss: 0.52868 - acc: 0.7165 -- iter: 09472/20250\n"
     ]
    },
    {
     "name": "stdout",
     "output_type": "stream",
     "text": [
      "Training Step: 2368  | total loss: \u001b[1m\u001b[32m0.52880\u001b[0m\u001b[0m | time: 37.600s\n\u001b[2K\r| Adam | epoch: 008 | loss: 0.52880 - acc: 0.7214 -- iter: 09536/20250\n"
     ]
    },
    {
     "name": "stdout",
     "output_type": "stream",
     "text": [
      "Training Step: 2369  | total loss: \u001b[1m\u001b[32m0.52098\u001b[0m\u001b[0m | time: 37.852s\n\u001b[2K\r| Adam | epoch: 008 | loss: 0.52098 - acc: 0.7289 -- iter: 09600/20250\n"
     ]
    },
    {
     "name": "stdout",
     "output_type": "stream",
     "text": [
      "Training Step: 2370  | total loss: \u001b[1m\u001b[32m0.51149\u001b[0m\u001b[0m | time: 38.118s\n\u001b[2K\r| Adam | epoch: 008 | loss: 0.51149 - acc: 0.7373 -- iter: 09664/20250\n"
     ]
    },
    {
     "name": "stdout",
     "output_type": "stream",
     "text": [
      "Training Step: 2371  | total loss: \u001b[1m\u001b[32m0.50611\u001b[0m\u001b[0m | time: 38.398s\n\u001b[2K\r| Adam | epoch: 008 | loss: 0.50611 - acc: 0.7464 -- iter: 09728/20250\n"
     ]
    },
    {
     "name": "stdout",
     "output_type": "stream",
     "text": [
      "Training Step: 2372  | total loss: \u001b[1m\u001b[32m0.50156\u001b[0m\u001b[0m | time: 38.655s\n\u001b[2K\r| Adam | epoch: 008 | loss: 0.50156 - acc: 0.7514 -- iter: 09792/20250\n"
     ]
    },
    {
     "name": "stdout",
     "output_type": "stream",
     "text": [
      "Training Step: 2373  | total loss: \u001b[1m\u001b[32m0.50134\u001b[0m\u001b[0m | time: 38.905s\n\u001b[2K\r| Adam | epoch: 008 | loss: 0.50134 - acc: 0.7560 -- iter: 09856/20250\n"
     ]
    },
    {
     "name": "stdout",
     "output_type": "stream",
     "text": [
      "Training Step: 2374  | total loss: \u001b[1m\u001b[32m0.51172\u001b[0m\u001b[0m | time: 39.168s\n\u001b[2K\r| Adam | epoch: 008 | loss: 0.51172 - acc: 0.7554 -- iter: 09920/20250\n"
     ]
    },
    {
     "name": "stdout",
     "output_type": "stream",
     "text": [
      "Training Step: 2375  | total loss: \u001b[1m\u001b[32m0.50977\u001b[0m\u001b[0m | time: 39.412s\n\u001b[2K\r| Adam | epoch: 008 | loss: 0.50977 - acc: 0.7595 -- iter: 09984/20250\n"
     ]
    },
    {
     "name": "stdout",
     "output_type": "stream",
     "text": [
      "Training Step: 2376  | total loss: \u001b[1m\u001b[32m0.50510\u001b[0m\u001b[0m | time: 39.660s\n\u001b[2K\r| Adam | epoch: 008 | loss: 0.50510 - acc: 0.7648 -- iter: 10048/20250\n"
     ]
    },
    {
     "name": "stdout",
     "output_type": "stream",
     "text": [
      "Training Step: 2377  | total loss: \u001b[1m\u001b[32m0.50031\u001b[0m\u001b[0m | time: 39.910s\n\u001b[2K\r| Adam | epoch: 008 | loss: 0.50031 - acc: 0.7665 -- iter: 10112/20250\n"
     ]
    },
    {
     "name": "stdout",
     "output_type": "stream",
     "text": [
      "Training Step: 2378  | total loss: \u001b[1m\u001b[32m0.49781\u001b[0m\u001b[0m | time: 40.150s\n\u001b[2K\r| Adam | epoch: 008 | loss: 0.49781 - acc: 0.7695 -- iter: 10176/20250\n"
     ]
    },
    {
     "name": "stdout",
     "output_type": "stream",
     "text": [
      "Training Step: 2379  | total loss: \u001b[1m\u001b[32m0.51247\u001b[0m\u001b[0m | time: 40.399s\n\u001b[2K\r| Adam | epoch: 008 | loss: 0.51247 - acc: 0.7582 -- iter: 10240/20250\n"
     ]
    },
    {
     "name": "stdout",
     "output_type": "stream",
     "text": [
      "Training Step: 2380  | total loss: \u001b[1m\u001b[32m0.50724\u001b[0m\u001b[0m | time: 40.668s\n\u001b[2K\r| Adam | epoch: 008 | loss: 0.50724 - acc: 0.7605 -- iter: 10304/20250\n"
     ]
    },
    {
     "name": "stdout",
     "output_type": "stream",
     "text": [
      "Training Step: 2381  | total loss: \u001b[1m\u001b[32m0.49504\u001b[0m\u001b[0m | time: 40.942s\n\u001b[2K\r| Adam | epoch: 008 | loss: 0.49504 - acc: 0.7673 -- iter: 10368/20250\n"
     ]
    },
    {
     "name": "stdout",
     "output_type": "stream",
     "text": [
      "Training Step: 2382  | total loss: \u001b[1m\u001b[32m0.49747\u001b[0m\u001b[0m | time: 41.192s\n\u001b[2K\r| Adam | epoch: 008 | loss: 0.49747 - acc: 0.7640 -- iter: 10432/20250\n"
     ]
    },
    {
     "name": "stdout",
     "output_type": "stream",
     "text": [
      "Training Step: 2383  | total loss: \u001b[1m\u001b[32m0.49456\u001b[0m\u001b[0m | time: 41.437s\n\u001b[2K\r| Adam | epoch: 008 | loss: 0.49456 - acc: 0.7688 -- iter: 10496/20250\n"
     ]
    },
    {
     "name": "stdout",
     "output_type": "stream",
     "text": [
      "Training Step: 2384  | total loss: \u001b[1m\u001b[32m0.49989\u001b[0m\u001b[0m | time: 41.687s\n\u001b[2K\r| Adam | epoch: 008 | loss: 0.49989 - acc: 0.7669 -- iter: 10560/20250\n"
     ]
    },
    {
     "name": "stdout",
     "output_type": "stream",
     "text": [
      "Training Step: 2385  | total loss: \u001b[1m\u001b[32m0.50584\u001b[0m\u001b[0m | time: 41.928s\n\u001b[2K\r| Adam | epoch: 008 | loss: 0.50584 - acc: 0.7699 -- iter: 10624/20250\n"
     ]
    },
    {
     "name": "stdout",
     "output_type": "stream",
     "text": [
      "Training Step: 2386  | total loss: \u001b[1m\u001b[32m0.50238\u001b[0m\u001b[0m | time: 42.173s\n\u001b[2K\r| Adam | epoch: 008 | loss: 0.50238 - acc: 0.7726 -- iter: 10688/20250\n"
     ]
    },
    {
     "name": "stdout",
     "output_type": "stream",
     "text": [
      "Training Step: 2387  | total loss: \u001b[1m\u001b[32m0.49872\u001b[0m\u001b[0m | time: 42.428s\n\u001b[2K\r| Adam | epoch: 008 | loss: 0.49872 - acc: 0.7766 -- iter: 10752/20250\n"
     ]
    },
    {
     "name": "stdout",
     "output_type": "stream",
     "text": [
      "Training Step: 2388  | total loss: \u001b[1m\u001b[32m0.50958\u001b[0m\u001b[0m | time: 42.671s\n\u001b[2K\r| Adam | epoch: 008 | loss: 0.50958 - acc: 0.7661 -- iter: 10816/20250\n"
     ]
    },
    {
     "name": "stdout",
     "output_type": "stream",
     "text": [
      "Training Step: 2389  | total loss: \u001b[1m\u001b[32m0.53364\u001b[0m\u001b[0m | time: 42.911s\n\u001b[2K\r| Adam | epoch: 008 | loss: 0.53364 - acc: 0.7458 -- iter: 10880/20250\n"
     ]
    },
    {
     "name": "stdout",
     "output_type": "stream",
     "text": [
      "Training Step: 2390  | total loss: \u001b[1m\u001b[32m0.53988\u001b[0m\u001b[0m | time: 43.176s\n\u001b[2K\r| Adam | epoch: 008 | loss: 0.53988 - acc: 0.7368 -- iter: 10944/20250\n"
     ]
    },
    {
     "name": "stdout",
     "output_type": "stream",
     "text": [
      "Training Step: 2391  | total loss: \u001b[1m\u001b[32m0.55565\u001b[0m\u001b[0m | time: 43.459s\n\u001b[2K\r| Adam | epoch: 008 | loss: 0.55565 - acc: 0.7256 -- iter: 11008/20250\n"
     ]
    },
    {
     "name": "stdout",
     "output_type": "stream",
     "text": [
      "Training Step: 2392  | total loss: \u001b[1m\u001b[32m0.55438\u001b[0m\u001b[0m | time: 43.710s\n\u001b[2K\r| Adam | epoch: 008 | loss: 0.55438 - acc: 0.7250 -- iter: 11072/20250\n"
     ]
    },
    {
     "name": "stdout",
     "output_type": "stream",
     "text": [
      "Training Step: 2393  | total loss: \u001b[1m\u001b[32m0.55358\u001b[0m\u001b[0m | time: 43.955s\n\u001b[2K\r| Adam | epoch: 008 | loss: 0.55358 - acc: 0.7243 -- iter: 11136/20250\n"
     ]
    },
    {
     "name": "stdout",
     "output_type": "stream",
     "text": [
      "Training Step: 2394  | total loss: \u001b[1m\u001b[32m0.53987\u001b[0m\u001b[0m | time: 44.196s\n\u001b[2K\r| Adam | epoch: 008 | loss: 0.53987 - acc: 0.7363 -- iter: 11200/20250\n"
     ]
    },
    {
     "name": "stdout",
     "output_type": "stream",
     "text": [
      "Training Step: 2395  | total loss: \u001b[1m\u001b[32m0.52881\u001b[0m\u001b[0m | time: 44.448s\n\u001b[2K\r| Adam | epoch: 008 | loss: 0.52881 - acc: 0.7423 -- iter: 11264/20250\n"
     ]
    },
    {
     "name": "stdout",
     "output_type": "stream",
     "text": [
      "Training Step: 2396  | total loss: \u001b[1m\u001b[32m0.53187\u001b[0m\u001b[0m | time: 44.696s\n\u001b[2K\r| Adam | epoch: 008 | loss: 0.53187 - acc: 0.7462 -- iter: 11328/20250\n"
     ]
    },
    {
     "name": "stdout",
     "output_type": "stream",
     "text": [
      "Training Step: 2397  | total loss: \u001b[1m\u001b[32m0.56218\u001b[0m\u001b[0m | time: 44.944s\n\u001b[2K\r| Adam | epoch: 008 | loss: 0.56218 - acc: 0.7388 -- iter: 11392/20250\n"
     ]
    },
    {
     "name": "stdout",
     "output_type": "stream",
     "text": [
      "Training Step: 2398  | total loss: \u001b[1m\u001b[32m0.59089\u001b[0m\u001b[0m | time: 45.188s\n\u001b[2K\r| Adam | epoch: 008 | loss: 0.59089 - acc: 0.7305 -- iter: 11456/20250\n"
     ]
    },
    {
     "name": "stdout",
     "output_type": "stream",
     "text": [
      "Training Step: 2399  | total loss: \u001b[1m\u001b[32m0.61432\u001b[0m\u001b[0m | time: 45.441s\n\u001b[2K\r| Adam | epoch: 008 | loss: 0.61432 - acc: 0.7231 -- iter: 11520/20250\n"
     ]
    },
    {
     "name": "stdout",
     "output_type": "stream",
     "text": [
      "Training Step: 2400  | total loss: \u001b[1m\u001b[32m0.61586\u001b[0m\u001b[0m | time: 45.713s\n\u001b[2K\r| Adam | epoch: 008 | loss: 0.61586 - acc: 0.7242 -- iter: 11584/20250\n"
     ]
    },
    {
     "name": "stdout",
     "output_type": "stream",
     "text": [
      "Training Step: 2401  | total loss: \u001b[1m\u001b[32m0.59283\u001b[0m\u001b[0m | time: 45.983s\n\u001b[2K\r| Adam | epoch: 008 | loss: 0.59283 - acc: 0.7377 -- iter: 11648/20250\n"
     ]
    },
    {
     "name": "stdout",
     "output_type": "stream",
     "text": [
      "Training Step: 2402  | total loss: \u001b[1m\u001b[32m0.58273\u001b[0m\u001b[0m | time: 46.229s\n\u001b[2K\r| Adam | epoch: 008 | loss: 0.58273 - acc: 0.7405 -- iter: 11712/20250\n"
     ]
    },
    {
     "name": "stdout",
     "output_type": "stream",
     "text": [
      "Training Step: 2403  | total loss: \u001b[1m\u001b[32m0.56723\u001b[0m\u001b[0m | time: 46.476s\n\u001b[2K\r| Adam | epoch: 008 | loss: 0.56723 - acc: 0.7540 -- iter: 11776/20250\n"
     ]
    },
    {
     "name": "stdout",
     "output_type": "stream",
     "text": [
      "Training Step: 2404  | total loss: \u001b[1m\u001b[32m0.55549\u001b[0m\u001b[0m | time: 46.726s\n\u001b[2K\r| Adam | epoch: 008 | loss: 0.55549 - acc: 0.7661 -- iter: 11840/20250\n"
     ]
    },
    {
     "name": "stdout",
     "output_type": "stream",
     "text": [
      "Training Step: 2405  | total loss: \u001b[1m\u001b[32m0.55229\u001b[0m\u001b[0m | time: 46.977s\n\u001b[2K\r| Adam | epoch: 008 | loss: 0.55229 - acc: 0.7660 -- iter: 11904/20250\n"
     ]
    },
    {
     "name": "stdout",
     "output_type": "stream",
     "text": [
      "Training Step: 2406  | total loss: \u001b[1m\u001b[32m0.54640\u001b[0m\u001b[0m | time: 47.220s\n\u001b[2K\r| Adam | epoch: 008 | loss: 0.54640 - acc: 0.7691 -- iter: 11968/20250\n"
     ]
    },
    {
     "name": "stdout",
     "output_type": "stream",
     "text": [
      "Training Step: 2407  | total loss: \u001b[1m\u001b[32m0.55178\u001b[0m\u001b[0m | time: 47.474s\n\u001b[2K\r| Adam | epoch: 008 | loss: 0.55178 - acc: 0.7625 -- iter: 12032/20250\n"
     ]
    },
    {
     "name": "stdout",
     "output_type": "stream",
     "text": [
      "Training Step: 2408  | total loss: \u001b[1m\u001b[32m0.54226\u001b[0m\u001b[0m | time: 47.720s\n\u001b[2K\r| Adam | epoch: 008 | loss: 0.54226 - acc: 0.7691 -- iter: 12096/20250\n"
     ]
    },
    {
     "name": "stdout",
     "output_type": "stream",
     "text": [
      "Training Step: 2409  | total loss: \u001b[1m\u001b[32m0.53602\u001b[0m\u001b[0m | time: 47.967s\n\u001b[2K\r| Adam | epoch: 008 | loss: 0.53602 - acc: 0.7750 -- iter: 12160/20250\n"
     ]
    },
    {
     "name": "stdout",
     "output_type": "stream",
     "text": [
      "Training Step: 2410  | total loss: \u001b[1m\u001b[32m0.53108\u001b[0m\u001b[0m | time: 48.237s\n\u001b[2K\r| Adam | epoch: 008 | loss: 0.53108 - acc: 0.7741 -- iter: 12224/20250\n"
     ]
    },
    {
     "name": "stdout",
     "output_type": "stream",
     "text": [
      "Training Step: 2411  | total loss: \u001b[1m\u001b[32m0.52234\u001b[0m\u001b[0m | time: 48.507s\n\u001b[2K\r| Adam | epoch: 008 | loss: 0.52234 - acc: 0.7763 -- iter: 12288/20250\n"
     ]
    },
    {
     "name": "stdout",
     "output_type": "stream",
     "text": [
      "Training Step: 2412  | total loss: \u001b[1m\u001b[32m0.51098\u001b[0m\u001b[0m | time: 48.747s\n\u001b[2K\r| Adam | epoch: 008 | loss: 0.51098 - acc: 0.7815 -- iter: 12352/20250\n"
     ]
    },
    {
     "name": "stdout",
     "output_type": "stream",
     "text": [
      "Training Step: 2413  | total loss: \u001b[1m\u001b[32m0.50685\u001b[0m\u001b[0m | time: 49.000s\n\u001b[2K\r| Adam | epoch: 008 | loss: 0.50685 - acc: 0.7815 -- iter: 12416/20250\n"
     ]
    },
    {
     "name": "stdout",
     "output_type": "stream",
     "text": [
      "Training Step: 2414  | total loss: \u001b[1m\u001b[32m0.50517\u001b[0m\u001b[0m | time: 49.253s\n\u001b[2K\r| Adam | epoch: 008 | loss: 0.50517 - acc: 0.7846 -- iter: 12480/20250\n"
     ]
    },
    {
     "name": "stdout",
     "output_type": "stream",
     "text": [
      "Training Step: 2415  | total loss: \u001b[1m\u001b[32m0.50792\u001b[0m\u001b[0m | time: 49.497s\n\u001b[2K\r| Adam | epoch: 008 | loss: 0.50792 - acc: 0.7827 -- iter: 12544/20250\n"
     ]
    },
    {
     "name": "stdout",
     "output_type": "stream",
     "text": [
      "Training Step: 2416  | total loss: \u001b[1m\u001b[32m0.51353\u001b[0m\u001b[0m | time: 49.756s\n\u001b[2K\r| Adam | epoch: 008 | loss: 0.51353 - acc: 0.7794 -- iter: 12608/20250\n"
     ]
    },
    {
     "name": "stdout",
     "output_type": "stream",
     "text": [
      "Training Step: 2417  | total loss: \u001b[1m\u001b[32m0.51577\u001b[0m\u001b[0m | time: 50.004s\n\u001b[2K\r| Adam | epoch: 008 | loss: 0.51577 - acc: 0.7780 -- iter: 12672/20250\n"
     ]
    },
    {
     "name": "stdout",
     "output_type": "stream",
     "text": [
      "Training Step: 2418  | total loss: \u001b[1m\u001b[32m0.51795\u001b[0m\u001b[0m | time: 50.251s\n\u001b[2K\r| Adam | epoch: 008 | loss: 0.51795 - acc: 0.7737 -- iter: 12736/20250\n"
     ]
    },
    {
     "name": "stdout",
     "output_type": "stream",
     "text": [
      "Training Step: 2419  | total loss: \u001b[1m\u001b[32m0.50843\u001b[0m\u001b[0m | time: 50.498s\n\u001b[2K\r| Adam | epoch: 008 | loss: 0.50843 - acc: 0.7822 -- iter: 12800/20250\n"
     ]
    },
    {
     "name": "stdout",
     "output_type": "stream",
     "text": [
      "Training Step: 2420  | total loss: \u001b[1m\u001b[32m0.50474\u001b[0m\u001b[0m | time: 50.777s\n\u001b[2K\r| Adam | epoch: 008 | loss: 0.50474 - acc: 0.7868 -- iter: 12864/20250\n"
     ]
    },
    {
     "name": "stdout",
     "output_type": "stream",
     "text": [
      "Training Step: 2421  | total loss: \u001b[1m\u001b[32m0.50249\u001b[0m\u001b[0m | time: 51.062s\n\u001b[2K\r| Adam | epoch: 008 | loss: 0.50249 - acc: 0.7863 -- iter: 12928/20250\n"
     ]
    },
    {
     "name": "stdout",
     "output_type": "stream",
     "text": [
      "Training Step: 2422  | total loss: \u001b[1m\u001b[32m0.50596\u001b[0m\u001b[0m | time: 51.317s\n\u001b[2K\r| Adam | epoch: 008 | loss: 0.50596 - acc: 0.7842 -- iter: 12992/20250\n"
     ]
    },
    {
     "name": "stdout",
     "output_type": "stream",
     "text": [
      "Training Step: 2423  | total loss: \u001b[1m\u001b[32m0.49432\u001b[0m\u001b[0m | time: 51.565s\n\u001b[2K\r| Adam | epoch: 008 | loss: 0.49432 - acc: 0.7933 -- iter: 13056/20250\n"
     ]
    },
    {
     "name": "stdout",
     "output_type": "stream",
     "text": [
      "Training Step: 2424  | total loss: \u001b[1m\u001b[32m0.49043\u001b[0m\u001b[0m | time: 51.810s\n\u001b[2K\r| Adam | epoch: 008 | loss: 0.49043 - acc: 0.7952 -- iter: 13120/20250\n"
     ]
    },
    {
     "name": "stdout",
     "output_type": "stream",
     "text": [
      "Training Step: 2425  | total loss: \u001b[1m\u001b[32m0.48580\u001b[0m\u001b[0m | time: 52.063s\n\u001b[2K\r| Adam | epoch: 008 | loss: 0.48580 - acc: 0.7954 -- iter: 13184/20250\n"
     ]
    },
    {
     "name": "stdout",
     "output_type": "stream",
     "text": [
      "Training Step: 2426  | total loss: \u001b[1m\u001b[32m0.48763\u001b[0m\u001b[0m | time: 52.313s\n\u001b[2K\r| Adam | epoch: 008 | loss: 0.48763 - acc: 0.7940 -- iter: 13248/20250\n"
     ]
    },
    {
     "name": "stdout",
     "output_type": "stream",
     "text": [
      "Training Step: 2427  | total loss: \u001b[1m\u001b[32m0.48162\u001b[0m\u001b[0m | time: 52.554s\n\u001b[2K\r| Adam | epoch: 008 | loss: 0.48162 - acc: 0.7974 -- iter: 13312/20250\n"
     ]
    },
    {
     "name": "stdout",
     "output_type": "stream",
     "text": [
      "Training Step: 2428  | total loss: \u001b[1m\u001b[32m0.48379\u001b[0m\u001b[0m | time: 52.803s\n\u001b[2K\r| Adam | epoch: 008 | loss: 0.48379 - acc: 0.7942 -- iter: 13376/20250\n"
     ]
    },
    {
     "name": "stdout",
     "output_type": "stream",
     "text": [
      "Training Step: 2429  | total loss: \u001b[1m\u001b[32m0.48390\u001b[0m\u001b[0m | time: 53.055s\n\u001b[2K\r| Adam | epoch: 008 | loss: 0.48390 - acc: 0.7945 -- iter: 13440/20250\n"
     ]
    },
    {
     "name": "stdout",
     "output_type": "stream",
     "text": [
      "Training Step: 2430  | total loss: \u001b[1m\u001b[32m0.48300\u001b[0m\u001b[0m | time: 53.330s\n\u001b[2K\r| Adam | epoch: 008 | loss: 0.48300 - acc: 0.7931 -- iter: 13504/20250\n"
     ]
    },
    {
     "name": "stdout",
     "output_type": "stream",
     "text": [
      "Training Step: 2431  | total loss: \u001b[1m\u001b[32m0.48544\u001b[0m\u001b[0m | time: 53.590s\n\u001b[2K\r| Adam | epoch: 008 | loss: 0.48544 - acc: 0.7904 -- iter: 13568/20250\n"
     ]
    },
    {
     "name": "stdout",
     "output_type": "stream",
     "text": [
      "Training Step: 2432  | total loss: \u001b[1m\u001b[32m0.47756\u001b[0m\u001b[0m | time: 53.846s\n\u001b[2K\r| Adam | epoch: 008 | loss: 0.47756 - acc: 0.7973 -- iter: 13632/20250\n"
     ]
    },
    {
     "name": "stdout",
     "output_type": "stream",
     "text": [
      "Training Step: 2433  | total loss: \u001b[1m\u001b[32m0.48109\u001b[0m\u001b[0m | time: 54.092s\n\u001b[2K\r| Adam | epoch: 008 | loss: 0.48109 - acc: 0.7926 -- iter: 13696/20250\n"
     ]
    },
    {
     "name": "stdout",
     "output_type": "stream",
     "text": [
      "Training Step: 2434  | total loss: \u001b[1m\u001b[32m0.47265\u001b[0m\u001b[0m | time: 54.338s\n\u001b[2K\r| Adam | epoch: 008 | loss: 0.47265 - acc: 0.7977 -- iter: 13760/20250\n"
     ]
    },
    {
     "name": "stdout",
     "output_type": "stream",
     "text": [
      "Training Step: 2435  | total loss: \u001b[1m\u001b[32m0.46972\u001b[0m\u001b[0m | time: 54.602s\n\u001b[2K\r| Adam | epoch: 008 | loss: 0.46972 - acc: 0.7976 -- iter: 13824/20250\n"
     ]
    },
    {
     "name": "stdout",
     "output_type": "stream",
     "text": [
      "Training Step: 2436  | total loss: \u001b[1m\u001b[32m0.46678\u001b[0m\u001b[0m | time: 54.855s\n\u001b[2K\r| Adam | epoch: 008 | loss: 0.46678 - acc: 0.7975 -- iter: 13888/20250\n"
     ]
    },
    {
     "name": "stdout",
     "output_type": "stream",
     "text": [
      "Training Step: 2437  | total loss: \u001b[1m\u001b[32m0.45849\u001b[0m\u001b[0m | time: 55.119s\n\u001b[2K\r| Adam | epoch: 008 | loss: 0.45849 - acc: 0.8022 -- iter: 13952/20250\n"
     ]
    },
    {
     "name": "stdout",
     "output_type": "stream",
     "text": [
      "Training Step: 2438  | total loss: \u001b[1m\u001b[32m0.45501\u001b[0m\u001b[0m | time: 55.366s\n\u001b[2K\r| Adam | epoch: 008 | loss: 0.45501 - acc: 0.8063 -- iter: 14016/20250\n"
     ]
    },
    {
     "name": "stdout",
     "output_type": "stream",
     "text": [
      "Training Step: 2439  | total loss: \u001b[1m\u001b[32m0.45413\u001b[0m\u001b[0m | time: 55.620s\n\u001b[2K\r| Adam | epoch: 008 | loss: 0.45413 - acc: 0.8038 -- iter: 14080/20250\n"
     ]
    },
    {
     "name": "stdout",
     "output_type": "stream",
     "text": [
      "Training Step: 2440  | total loss: \u001b[1m\u001b[32m0.45495\u001b[0m\u001b[0m | time: 55.879s\n\u001b[2K\r| Adam | epoch: 008 | loss: 0.45495 - acc: 0.8031 -- iter: 14144/20250\n"
     ]
    },
    {
     "name": "stdout",
     "output_type": "stream",
     "text": [
      "Training Step: 2441  | total loss: \u001b[1m\u001b[32m0.45126\u001b[0m\u001b[0m | time: 56.125s\n\u001b[2K\r| Adam | epoch: 008 | loss: 0.45126 - acc: 0.8056 -- iter: 14208/20250\n"
     ]
    },
    {
     "name": "stdout",
     "output_type": "stream",
     "text": [
      "Training Step: 2442  | total loss: \u001b[1m\u001b[32m0.44401\u001b[0m\u001b[0m | time: 56.368s\n\u001b[2K\r| Adam | epoch: 008 | loss: 0.44401 - acc: 0.8126 -- iter: 14272/20250\n"
     ]
    },
    {
     "name": "stdout",
     "output_type": "stream",
     "text": [
      "Training Step: 2443  | total loss: \u001b[1m\u001b[32m0.44782\u001b[0m\u001b[0m | time: 56.616s\n\u001b[2K\r| Adam | epoch: 008 | loss: 0.44782 - acc: 0.8110 -- iter: 14336/20250\n"
     ]
    },
    {
     "name": "stdout",
     "output_type": "stream",
     "text": [
      "Training Step: 2444  | total loss: \u001b[1m\u001b[32m0.46073\u001b[0m\u001b[0m | time: 56.867s\n\u001b[2K\r| Adam | epoch: 008 | loss: 0.46073 - acc: 0.8033 -- iter: 14400/20250\n"
     ]
    },
    {
     "name": "stdout",
     "output_type": "stream",
     "text": [
      "Training Step: 2445  | total loss: \u001b[1m\u001b[32m0.46068\u001b[0m\u001b[0m | time: 57.117s\n\u001b[2K\r| Adam | epoch: 008 | loss: 0.46068 - acc: 0.8011 -- iter: 14464/20250\n"
     ]
    },
    {
     "name": "stdout",
     "output_type": "stream",
     "text": [
      "Training Step: 2446  | total loss: \u001b[1m\u001b[32m0.44947\u001b[0m\u001b[0m | time: 57.359s\n\u001b[2K\r| Adam | epoch: 008 | loss: 0.44947 - acc: 0.8101 -- iter: 14528/20250\n"
     ]
    },
    {
     "name": "stdout",
     "output_type": "stream",
     "text": [
      "Training Step: 2447  | total loss: \u001b[1m\u001b[32m0.43773\u001b[0m\u001b[0m | time: 57.611s\n\u001b[2K\r| Adam | epoch: 008 | loss: 0.43773 - acc: 0.8212 -- iter: 14592/20250\n"
     ]
    },
    {
     "name": "stdout",
     "output_type": "stream",
     "text": [
      "Training Step: 2448  | total loss: \u001b[1m\u001b[32m0.44391\u001b[0m\u001b[0m | time: 57.860s\n\u001b[2K\r| Adam | epoch: 008 | loss: 0.44391 - acc: 0.8188 -- iter: 14656/20250\n"
     ]
    },
    {
     "name": "stdout",
     "output_type": "stream",
     "text": [
      "Training Step: 2449  | total loss: \u001b[1m\u001b[32m0.44962\u001b[0m\u001b[0m | time: 58.118s\n\u001b[2K\r| Adam | epoch: 008 | loss: 0.44962 - acc: 0.8151 -- iter: 14720/20250\n"
     ]
    },
    {
     "name": "stdout",
     "output_type": "stream",
     "text": [
      "Training Step: 2450  | total loss: \u001b[1m\u001b[32m0.44921\u001b[0m\u001b[0m | time: 58.393s\n\u001b[2K\r| Adam | epoch: 008 | loss: 0.44921 - acc: 0.8148 -- iter: 14784/20250\n"
     ]
    },
    {
     "name": "stdout",
     "output_type": "stream",
     "text": [
      "Training Step: 2451  | total loss: \u001b[1m\u001b[32m0.43918\u001b[0m\u001b[0m | time: 58.646s\n\u001b[2K\r| Adam | epoch: 008 | loss: 0.43918 - acc: 0.8224 -- iter: 14848/20250\n"
     ]
    },
    {
     "name": "stdout",
     "output_type": "stream",
     "text": [
      "Training Step: 2452  | total loss: \u001b[1m\u001b[32m0.43522\u001b[0m\u001b[0m | time: 58.892s\n\u001b[2K\r| Adam | epoch: 008 | loss: 0.43522 - acc: 0.8245 -- iter: 14912/20250\n"
     ]
    },
    {
     "name": "stdout",
     "output_type": "stream",
     "text": [
      "Training Step: 2453  | total loss: \u001b[1m\u001b[32m0.43024\u001b[0m\u001b[0m | time: 59.141s\n\u001b[2K\r| Adam | epoch: 008 | loss: 0.43024 - acc: 0.8264 -- iter: 14976/20250\n"
     ]
    },
    {
     "name": "stdout",
     "output_type": "stream",
     "text": [
      "Training Step: 2454  | total loss: \u001b[1m\u001b[32m0.42377\u001b[0m\u001b[0m | time: 59.384s\n\u001b[2K\r| Adam | epoch: 008 | loss: 0.42377 - acc: 0.8297 -- iter: 15040/20250\n"
     ]
    },
    {
     "name": "stdout",
     "output_type": "stream",
     "text": [
      "Training Step: 2455  | total loss: \u001b[1m\u001b[32m0.42810\u001b[0m\u001b[0m | time: 59.632s\n\u001b[2K\r| Adam | epoch: 008 | loss: 0.42810 - acc: 0.8264 -- iter: 15104/20250\n"
     ]
    },
    {
     "name": "stdout",
     "output_type": "stream",
     "text": [
      "Training Step: 2456  | total loss: \u001b[1m\u001b[32m0.43391\u001b[0m\u001b[0m | time: 59.878s\n\u001b[2K\r| Adam | epoch: 008 | loss: 0.43391 - acc: 0.8219 -- iter: 15168/20250\n"
     ]
    },
    {
     "name": "stdout",
     "output_type": "stream",
     "text": [
      "Training Step: 2457  | total loss: \u001b[1m\u001b[32m0.43558\u001b[0m\u001b[0m | time: 60.140s\n\u001b[2K\r| Adam | epoch: 008 | loss: 0.43558 - acc: 0.8194 -- iter: 15232/20250\n"
     ]
    },
    {
     "name": "stdout",
     "output_type": "stream",
     "text": [
      "Training Step: 2458  | total loss: \u001b[1m\u001b[32m0.42819\u001b[0m\u001b[0m | time: 60.399s\n\u001b[2K\r| Adam | epoch: 008 | loss: 0.42819 - acc: 0.8219 -- iter: 15296/20250\n"
     ]
    },
    {
     "name": "stdout",
     "output_type": "stream",
     "text": [
      "Training Step: 2459  | total loss: \u001b[1m\u001b[32m0.42525\u001b[0m\u001b[0m | time: 60.650s\n\u001b[2K\r| Adam | epoch: 008 | loss: 0.42525 - acc: 0.8225 -- iter: 15360/20250\n"
     ]
    },
    {
     "name": "stdout",
     "output_type": "stream",
     "text": [
      "Training Step: 2460  | total loss: \u001b[1m\u001b[32m0.42434\u001b[0m\u001b[0m | time: 60.928s\n\u001b[2K\r| Adam | epoch: 008 | loss: 0.42434 - acc: 0.8262 -- iter: 15424/20250\n"
     ]
    },
    {
     "name": "stdout",
     "output_type": "stream",
     "text": [
      "Training Step: 2461  | total loss: \u001b[1m\u001b[32m0.42820\u001b[0m\u001b[0m | time: 61.173s\n\u001b[2K\r| Adam | epoch: 008 | loss: 0.42820 - acc: 0.8217 -- iter: 15488/20250\n"
     ]
    },
    {
     "name": "stdout",
     "output_type": "stream",
     "text": [
      "Training Step: 2462  | total loss: \u001b[1m\u001b[32m0.43507\u001b[0m\u001b[0m | time: 61.422s\n\u001b[2K\r| Adam | epoch: 008 | loss: 0.43507 - acc: 0.8161 -- iter: 15552/20250\n"
     ]
    },
    {
     "name": "stdout",
     "output_type": "stream",
     "text": [
      "Training Step: 2463  | total loss: \u001b[1m\u001b[32m0.45622\u001b[0m\u001b[0m | time: 61.670s\n\u001b[2K\r| Adam | epoch: 008 | loss: 0.45622 - acc: 0.8032 -- iter: 15616/20250\n"
     ]
    },
    {
     "name": "stdout",
     "output_type": "stream",
     "text": [
      "Training Step: 2464  | total loss: \u001b[1m\u001b[32m0.46996\u001b[0m\u001b[0m | time: 61.911s\n\u001b[2K\r| Adam | epoch: 008 | loss: 0.46996 - acc: 0.7932 -- iter: 15680/20250\n"
     ]
    },
    {
     "name": "stdout",
     "output_type": "stream",
     "text": [
      "Training Step: 2465  | total loss: \u001b[1m\u001b[32m0.47005\u001b[0m\u001b[0m | time: 62.156s\n\u001b[2K\r| Adam | epoch: 008 | loss: 0.47005 - acc: 0.7951 -- iter: 15744/20250\n"
     ]
    },
    {
     "name": "stdout",
     "output_type": "stream",
     "text": [
      "Training Step: 2466  | total loss: \u001b[1m\u001b[32m0.47503\u001b[0m\u001b[0m | time: 62.408s\n\u001b[2K\r| Adam | epoch: 008 | loss: 0.47503 - acc: 0.7906 -- iter: 15808/20250\n"
     ]
    },
    {
     "name": "stdout",
     "output_type": "stream",
     "text": [
      "Training Step: 2467  | total loss: \u001b[1m\u001b[32m0.48295\u001b[0m\u001b[0m | time: 62.654s\n\u001b[2K\r| Adam | epoch: 008 | loss: 0.48295 - acc: 0.7866 -- iter: 15872/20250\n"
     ]
    },
    {
     "name": "stdout",
     "output_type": "stream",
     "text": [
      "Training Step: 2468  | total loss: \u001b[1m\u001b[32m0.47983\u001b[0m\u001b[0m | time: 62.897s\n\u001b[2K\r| Adam | epoch: 008 | loss: 0.47983 - acc: 0.7892 -- iter: 15936/20250\n"
     ]
    },
    {
     "name": "stdout",
     "output_type": "stream",
     "text": [
      "Training Step: 2469  | total loss: \u001b[1m\u001b[32m0.48316\u001b[0m\u001b[0m | time: 63.156s\n\u001b[2K\r| Adam | epoch: 008 | loss: 0.48316 - acc: 0.7884 -- iter: 16000/20250\n"
     ]
    },
    {
     "name": "stdout",
     "output_type": "stream",
     "text": [
      "Training Step: 2470  | total loss: \u001b[1m\u001b[32m0.49588\u001b[0m\u001b[0m | time: 63.443s\n\u001b[2K\r| Adam | epoch: 008 | loss: 0.49588 - acc: 0.7767 -- iter: 16064/20250\n"
     ]
    },
    {
     "name": "stdout",
     "output_type": "stream",
     "text": [
      "Training Step: 2471  | total loss: \u001b[1m\u001b[32m0.48663\u001b[0m\u001b[0m | time: 63.681s\n\u001b[2K\r| Adam | epoch: 008 | loss: 0.48663 - acc: 0.7834 -- iter: 16128/20250\n"
     ]
    },
    {
     "name": "stdout",
     "output_type": "stream",
     "text": [
      "Training Step: 2472  | total loss: \u001b[1m\u001b[32m0.48136\u001b[0m\u001b[0m | time: 63.933s\n\u001b[2K\r| Adam | epoch: 008 | loss: 0.48136 - acc: 0.7895 -- iter: 16192/20250\n"
     ]
    },
    {
     "name": "stdout",
     "output_type": "stream",
     "text": [
      "Training Step: 2473  | total loss: \u001b[1m\u001b[32m0.47326\u001b[0m\u001b[0m | time: 64.181s\n\u001b[2K\r| Adam | epoch: 008 | loss: 0.47326 - acc: 0.7949 -- iter: 16256/20250\n"
     ]
    },
    {
     "name": "stdout",
     "output_type": "stream",
     "text": [
      "Training Step: 2474  | total loss: \u001b[1m\u001b[32m0.48362\u001b[0m\u001b[0m | time: 64.425s\n\u001b[2K\r| Adam | epoch: 008 | loss: 0.48362 - acc: 0.7904 -- iter: 16320/20250\n"
     ]
    },
    {
     "name": "stdout",
     "output_type": "stream",
     "text": [
      "Training Step: 2475  | total loss: \u001b[1m\u001b[32m0.48312\u001b[0m\u001b[0m | time: 64.676s\n\u001b[2K\r| Adam | epoch: 008 | loss: 0.48312 - acc: 0.7942 -- iter: 16384/20250\n"
     ]
    },
    {
     "name": "stdout",
     "output_type": "stream",
     "text": [
      "Training Step: 2476  | total loss: \u001b[1m\u001b[32m0.48234\u001b[0m\u001b[0m | time: 64.922s\n\u001b[2K\r| Adam | epoch: 008 | loss: 0.48234 - acc: 0.7960 -- iter: 16448/20250\n"
     ]
    },
    {
     "name": "stdout",
     "output_type": "stream",
     "text": [
      "Training Step: 2477  | total loss: \u001b[1m\u001b[32m0.48723\u001b[0m\u001b[0m | time: 65.172s\n\u001b[2K\r| Adam | epoch: 008 | loss: 0.48723 - acc: 0.7914 -- iter: 16512/20250\n"
     ]
    },
    {
     "name": "stdout",
     "output_type": "stream",
     "text": [
      "Training Step: 2478  | total loss: \u001b[1m\u001b[32m0.48872\u001b[0m\u001b[0m | time: 65.417s\n\u001b[2K\r| Adam | epoch: 008 | loss: 0.48872 - acc: 0.7873 -- iter: 16576/20250\n"
     ]
    },
    {
     "name": "stdout",
     "output_type": "stream",
     "text": [
      "Training Step: 2479  | total loss: \u001b[1m\u001b[32m0.48780\u001b[0m\u001b[0m | time: 65.678s\n\u001b[2K\r| Adam | epoch: 008 | loss: 0.48780 - acc: 0.7882 -- iter: 16640/20250\n"
     ]
    },
    {
     "name": "stdout",
     "output_type": "stream",
     "text": [
      "Training Step: 2480  | total loss: \u001b[1m\u001b[32m0.50012\u001b[0m\u001b[0m | time: 65.957s\n\u001b[2K\r| Adam | epoch: 008 | loss: 0.50012 - acc: 0.7735 -- iter: 16704/20250\n"
     ]
    },
    {
     "name": "stdout",
     "output_type": "stream",
     "text": [
      "Training Step: 2481  | total loss: \u001b[1m\u001b[32m0.51414\u001b[0m\u001b[0m | time: 66.201s\n\u001b[2K\r| Adam | epoch: 008 | loss: 0.51414 - acc: 0.7602 -- iter: 16768/20250\n"
     ]
    },
    {
     "name": "stdout",
     "output_type": "stream",
     "text": [
      "Training Step: 2482  | total loss: \u001b[1m\u001b[32m0.50319\u001b[0m\u001b[0m | time: 66.445s\n\u001b[2K\r| Adam | epoch: 008 | loss: 0.50319 - acc: 0.7685 -- iter: 16832/20250\n"
     ]
    },
    {
     "name": "stdout",
     "output_type": "stream",
     "text": [
      "Training Step: 2483  | total loss: \u001b[1m\u001b[32m0.50456\u001b[0m\u001b[0m | time: 66.693s\n\u001b[2K\r| Adam | epoch: 008 | loss: 0.50456 - acc: 0.7667 -- iter: 16896/20250\n"
     ]
    },
    {
     "name": "stdout",
     "output_type": "stream",
     "text": [
      "Training Step: 2484  | total loss: \u001b[1m\u001b[32m0.50749\u001b[0m\u001b[0m | time: 66.942s\n\u001b[2K\r| Adam | epoch: 008 | loss: 0.50749 - acc: 0.7588 -- iter: 16960/20250\n"
     ]
    },
    {
     "name": "stdout",
     "output_type": "stream",
     "text": [
      "Training Step: 2485  | total loss: \u001b[1m\u001b[32m0.51831\u001b[0m\u001b[0m | time: 67.180s\n\u001b[2K\r| Adam | epoch: 008 | loss: 0.51831 - acc: 0.7516 -- iter: 17024/20250\n"
     ]
    },
    {
     "name": "stdout",
     "output_type": "stream",
     "text": [
      "Training Step: 2486  | total loss: \u001b[1m\u001b[32m0.53603\u001b[0m\u001b[0m | time: 67.436s\n\u001b[2K\r| Adam | epoch: 008 | loss: 0.53603 - acc: 0.7421 -- iter: 17088/20250\n"
     ]
    },
    {
     "name": "stdout",
     "output_type": "stream",
     "text": [
      "Training Step: 2487  | total loss: \u001b[1m\u001b[32m0.54019\u001b[0m\u001b[0m | time: 67.682s\n\u001b[2K\r| Adam | epoch: 008 | loss: 0.54019 - acc: 0.7351 -- iter: 17152/20250\n"
     ]
    },
    {
     "name": "stdout",
     "output_type": "stream",
     "text": [
      "Training Step: 2488  | total loss: \u001b[1m\u001b[32m0.54468\u001b[0m\u001b[0m | time: 67.930s\n\u001b[2K\r| Adam | epoch: 008 | loss: 0.54468 - acc: 0.7319 -- iter: 17216/20250\n"
     ]
    },
    {
     "name": "stdout",
     "output_type": "stream",
     "text": [
      "Training Step: 2489  | total loss: \u001b[1m\u001b[32m0.55315\u001b[0m\u001b[0m | time: 68.194s\n\u001b[2K\r| Adam | epoch: 008 | loss: 0.55315 - acc: 0.7243 -- iter: 17280/20250\n"
     ]
    },
    {
     "name": "stdout",
     "output_type": "stream",
     "text": [
      "Training Step: 2490  | total loss: \u001b[1m\u001b[32m0.54897\u001b[0m\u001b[0m | time: 68.445s\n\u001b[2K\r| Adam | epoch: 008 | loss: 0.54897 - acc: 0.7284 -- iter: 17344/20250\n"
     ]
    },
    {
     "name": "stdout",
     "output_type": "stream",
     "text": [
      "Training Step: 2491  | total loss: \u001b[1m\u001b[32m0.55134\u001b[0m\u001b[0m | time: 68.723s\n\u001b[2K\r| Adam | epoch: 008 | loss: 0.55134 - acc: 0.7212 -- iter: 17408/20250\n"
     ]
    },
    {
     "name": "stdout",
     "output_type": "stream",
     "text": [
      "Training Step: 2492  | total loss: \u001b[1m\u001b[32m0.55489\u001b[0m\u001b[0m | time: 68.961s\n\u001b[2K\r| Adam | epoch: 008 | loss: 0.55489 - acc: 0.7116 -- iter: 17472/20250\n"
     ]
    },
    {
     "name": "stdout",
     "output_type": "stream",
     "text": [
      "Training Step: 2493  | total loss: \u001b[1m\u001b[32m0.56502\u001b[0m\u001b[0m | time: 69.203s\n\u001b[2K\r| Adam | epoch: 008 | loss: 0.56502 - acc: 0.7029 -- iter: 17536/20250\n"
     ]
    },
    {
     "name": "stdout",
     "output_type": "stream",
     "text": [
      "Training Step: 2494  | total loss: \u001b[1m\u001b[32m0.55749\u001b[0m\u001b[0m | time: 69.454s\n\u001b[2K\r| Adam | epoch: 008 | loss: 0.55749 - acc: 0.7061 -- iter: 17600/20250\n"
     ]
    },
    {
     "name": "stdout",
     "output_type": "stream",
     "text": [
      "Training Step: 2495  | total loss: \u001b[1m\u001b[32m0.55935\u001b[0m\u001b[0m | time: 69.698s\n\u001b[2K\r| Adam | epoch: 008 | loss: 0.55935 - acc: 0.7058 -- iter: 17664/20250\n"
     ]
    },
    {
     "name": "stdout",
     "output_type": "stream",
     "text": [
      "Training Step: 2496  | total loss: \u001b[1m\u001b[32m0.56424\u001b[0m\u001b[0m | time: 69.958s\n\u001b[2K\r| Adam | epoch: 008 | loss: 0.56424 - acc: 0.6977 -- iter: 17728/20250\n"
     ]
    },
    {
     "name": "stdout",
     "output_type": "stream",
     "text": [
      "Training Step: 2497  | total loss: \u001b[1m\u001b[32m0.56138\u001b[0m\u001b[0m | time: 70.206s\n\u001b[2K\r| Adam | epoch: 008 | loss: 0.56138 - acc: 0.6936 -- iter: 17792/20250\n"
     ]
    },
    {
     "name": "stdout",
     "output_type": "stream",
     "text": [
      "Training Step: 2498  | total loss: \u001b[1m\u001b[32m0.54402\u001b[0m\u001b[0m | time: 70.454s\n\u001b[2K\r| Adam | epoch: 008 | loss: 0.54402 - acc: 0.7117 -- iter: 17856/20250\n"
     ]
    },
    {
     "name": "stdout",
     "output_type": "stream",
     "text": [
      "Training Step: 2499  | total loss: \u001b[1m\u001b[32m0.54698\u001b[0m\u001b[0m | time: 70.714s\n\u001b[2K\r| Adam | epoch: 008 | loss: 0.54698 - acc: 0.7077 -- iter: 17920/20250\n"
     ]
    },
    {
     "name": "stdout",
     "output_type": "stream",
     "text": [
      "Training Step: 2500  | total loss: \u001b[1m\u001b[32m0.55130\u001b[0m\u001b[0m | time: 70.978s\n\u001b[2K\r| Adam | epoch: 008 | loss: 0.55130 - acc: 0.7057 -- iter: 17984/20250\n"
     ]
    },
    {
     "name": "stdout",
     "output_type": "stream",
     "text": [
      "Training Step: 2501  | total loss: \u001b[1m\u001b[32m0.53338\u001b[0m\u001b[0m | time: 71.252s\n\u001b[2K\r| Adam | epoch: 008 | loss: 0.53338 - acc: 0.7211 -- iter: 18048/20250\n"
     ]
    },
    {
     "name": "stdout",
     "output_type": "stream",
     "text": [
      "Training Step: 2502  | total loss: \u001b[1m\u001b[32m0.52699\u001b[0m\u001b[0m | time: 71.503s\n\u001b[2K\r| Adam | epoch: 008 | loss: 0.52699 - acc: 0.7208 -- iter: 18112/20250\n"
     ]
    },
    {
     "name": "stdout",
     "output_type": "stream",
     "text": [
      "Training Step: 2503  | total loss: \u001b[1m\u001b[32m0.52537\u001b[0m\u001b[0m | time: 71.765s\n\u001b[2K\r| Adam | epoch: 008 | loss: 0.52537 - acc: 0.7253 -- iter: 18176/20250\n"
     ]
    },
    {
     "name": "stdout",
     "output_type": "stream",
     "text": [
      "Training Step: 2504  | total loss: \u001b[1m\u001b[32m0.53295\u001b[0m\u001b[0m | time: 72.013s\n\u001b[2K\r| Adam | epoch: 008 | loss: 0.53295 - acc: 0.7247 -- iter: 18240/20250\n"
     ]
    },
    {
     "name": "stdout",
     "output_type": "stream",
     "text": [
      "Training Step: 2505  | total loss: \u001b[1m\u001b[32m0.54262\u001b[0m\u001b[0m | time: 72.262s\n\u001b[2K\r| Adam | epoch: 008 | loss: 0.54262 - acc: 0.7131 -- iter: 18304/20250\n"
     ]
    },
    {
     "name": "stdout",
     "output_type": "stream",
     "text": [
      "Training Step: 2506  | total loss: \u001b[1m\u001b[32m0.55315\u001b[0m\u001b[0m | time: 72.522s\n\u001b[2K\r| Adam | epoch: 008 | loss: 0.55315 - acc: 0.7074 -- iter: 18368/20250\n"
     ]
    },
    {
     "name": "stdout",
     "output_type": "stream",
     "text": [
      "Training Step: 2507  | total loss: \u001b[1m\u001b[32m0.55954\u001b[0m\u001b[0m | time: 72.768s\n\u001b[2K\r| Adam | epoch: 008 | loss: 0.55954 - acc: 0.7008 -- iter: 18432/20250\n"
     ]
    },
    {
     "name": "stdout",
     "output_type": "stream",
     "text": [
      "Training Step: 2508  | total loss: \u001b[1m\u001b[32m0.55974\u001b[0m\u001b[0m | time: 73.019s\n\u001b[2K\r| Adam | epoch: 008 | loss: 0.55974 - acc: 0.7072 -- iter: 18496/20250\n"
     ]
    },
    {
     "name": "stdout",
     "output_type": "stream",
     "text": [
      "Training Step: 2509  | total loss: \u001b[1m\u001b[32m0.54987\u001b[0m\u001b[0m | time: 73.283s\n\u001b[2K\r| Adam | epoch: 008 | loss: 0.54987 - acc: 0.7178 -- iter: 18560/20250\n"
     ]
    },
    {
     "name": "stdout",
     "output_type": "stream",
     "text": [
      "Training Step: 2510  | total loss: \u001b[1m\u001b[32m0.54871\u001b[0m\u001b[0m | time: 73.563s\n\u001b[2K\r| Adam | epoch: 008 | loss: 0.54871 - acc: 0.7210 -- iter: 18624/20250\n"
     ]
    },
    {
     "name": "stdout",
     "output_type": "stream",
     "text": [
      "Training Step: 2511  | total loss: \u001b[1m\u001b[32m0.53470\u001b[0m\u001b[0m | time: 73.812s\n\u001b[2K\r| Adam | epoch: 008 | loss: 0.53470 - acc: 0.7317 -- iter: 18688/20250\n"
     ]
    },
    {
     "name": "stdout",
     "output_type": "stream",
     "text": [
      "Training Step: 2512  | total loss: \u001b[1m\u001b[32m0.53948\u001b[0m\u001b[0m | time: 74.060s\n\u001b[2K\r| Adam | epoch: 008 | loss: 0.53948 - acc: 0.7226 -- iter: 18752/20250\n"
     ]
    },
    {
     "name": "stdout",
     "output_type": "stream",
     "text": [
      "Training Step: 2513  | total loss: \u001b[1m\u001b[32m0.52654\u001b[0m\u001b[0m | time: 74.305s\n\u001b[2K\r| Adam | epoch: 008 | loss: 0.52654 - acc: 0.7363 -- iter: 18816/20250\n"
     ]
    },
    {
     "name": "stdout",
     "output_type": "stream",
     "text": [
      "Training Step: 2514  | total loss: \u001b[1m\u001b[32m0.51749\u001b[0m\u001b[0m | time: 74.554s\n\u001b[2K\r| Adam | epoch: 008 | loss: 0.51749 - acc: 0.7455 -- iter: 18880/20250\n"
     ]
    },
    {
     "name": "stdout",
     "output_type": "stream",
     "text": [
      "Training Step: 2515  | total loss: \u001b[1m\u001b[32m0.51447\u001b[0m\u001b[0m | time: 74.799s\n\u001b[2K\r| Adam | epoch: 008 | loss: 0.51447 - acc: 0.7428 -- iter: 18944/20250\n"
     ]
    },
    {
     "name": "stdout",
     "output_type": "stream",
     "text": [
      "Training Step: 2516  | total loss: \u001b[1m\u001b[32m0.51758\u001b[0m\u001b[0m | time: 75.056s\n\u001b[2K\r| Adam | epoch: 008 | loss: 0.51758 - acc: 0.7466 -- iter: 19008/20250\n"
     ]
    },
    {
     "name": "stdout",
     "output_type": "stream",
     "text": [
      "Training Step: 2517  | total loss: \u001b[1m\u001b[32m0.53295\u001b[0m\u001b[0m | time: 75.306s\n\u001b[2K\r| Adam | epoch: 008 | loss: 0.53295 - acc: 0.7438 -- iter: 19072/20250\n"
     ]
    },
    {
     "name": "stdout",
     "output_type": "stream",
     "text": [
      "Training Step: 2518  | total loss: \u001b[1m\u001b[32m0.54147\u001b[0m\u001b[0m | time: 75.556s\n\u001b[2K\r| Adam | epoch: 008 | loss: 0.54147 - acc: 0.7413 -- iter: 19136/20250\n"
     ]
    },
    {
     "name": "stdout",
     "output_type": "stream",
     "text": [
      "Training Step: 2519  | total loss: \u001b[1m\u001b[32m0.54125\u001b[0m\u001b[0m | time: 75.830s\n\u001b[2K\r| Adam | epoch: 008 | loss: 0.54125 - acc: 0.7391 -- iter: 19200/20250\n"
     ]
    },
    {
     "name": "stdout",
     "output_type": "stream",
     "text": [
      "Training Step: 2520  | total loss: \u001b[1m\u001b[32m0.53758\u001b[0m\u001b[0m | time: 76.112s\n\u001b[2K\r| Adam | epoch: 008 | loss: 0.53758 - acc: 0.7417 -- iter: 19264/20250\n"
     ]
    },
    {
     "name": "stdout",
     "output_type": "stream",
     "text": [
      "Training Step: 2521  | total loss: \u001b[1m\u001b[32m0.53816\u001b[0m\u001b[0m | time: 76.370s\n\u001b[2K\r| Adam | epoch: 008 | loss: 0.53816 - acc: 0.7472 -- iter: 19328/20250\n"
     ]
    },
    {
     "name": "stdout",
     "output_type": "stream",
     "text": [
      "Training Step: 2522  | total loss: \u001b[1m\u001b[32m0.53471\u001b[0m\u001b[0m | time: 76.613s\n\u001b[2K\r| Adam | epoch: 008 | loss: 0.53471 - acc: 0.7506 -- iter: 19392/20250\n"
     ]
    },
    {
     "name": "stdout",
     "output_type": "stream",
     "text": [
      "Training Step: 2523  | total loss: \u001b[1m\u001b[32m0.52308\u001b[0m\u001b[0m | time: 76.865s\n\u001b[2K\r| Adam | epoch: 008 | loss: 0.52308 - acc: 0.7568 -- iter: 19456/20250\n"
     ]
    },
    {
     "name": "stdout",
     "output_type": "stream",
     "text": [
      "Training Step: 2524  | total loss: \u001b[1m\u001b[32m0.52412\u001b[0m\u001b[0m | time: 77.106s\n\u001b[2K\r| Adam | epoch: 008 | loss: 0.52412 - acc: 0.7562 -- iter: 19520/20250\n"
     ]
    },
    {
     "name": "stdout",
     "output_type": "stream",
     "text": [
      "Training Step: 2525  | total loss: \u001b[1m\u001b[32m0.52487\u001b[0m\u001b[0m | time: 77.348s\n\u001b[2K\r| Adam | epoch: 008 | loss: 0.52487 - acc: 0.7555 -- iter: 19584/20250\n"
     ]
    },
    {
     "name": "stdout",
     "output_type": "stream",
     "text": [
      "Training Step: 2526  | total loss: \u001b[1m\u001b[32m0.51949\u001b[0m\u001b[0m | time: 77.592s\n\u001b[2K\r| Adam | epoch: 008 | loss: 0.51949 - acc: 0.7612 -- iter: 19648/20250\n"
     ]
    },
    {
     "name": "stdout",
     "output_type": "stream",
     "text": [
      "Training Step: 2527  | total loss: \u001b[1m\u001b[32m0.51676\u001b[0m\u001b[0m | time: 77.839s\n\u001b[2K\r| Adam | epoch: 008 | loss: 0.51676 - acc: 0.7601 -- iter: 19712/20250\n"
     ]
    },
    {
     "name": "stdout",
     "output_type": "stream",
     "text": [
      "Training Step: 2528  | total loss: \u001b[1m\u001b[32m0.51776\u001b[0m\u001b[0m | time: 78.088s\n\u001b[2K\r| Adam | epoch: 008 | loss: 0.51776 - acc: 0.7591 -- iter: 19776/20250\n"
     ]
    },
    {
     "name": "stdout",
     "output_type": "stream",
     "text": [
      "Training Step: 2529  | total loss: \u001b[1m\u001b[32m0.51357\u001b[0m\u001b[0m | time: 78.361s\n\u001b[2K\r| Adam | epoch: 008 | loss: 0.51357 - acc: 0.7613 -- iter: 19840/20250\n"
     ]
    },
    {
     "name": "stdout",
     "output_type": "stream",
     "text": [
      "Training Step: 2530  | total loss: \u001b[1m\u001b[32m0.50914\u001b[0m\u001b[0m | time: 78.641s\n\u001b[2K\r| Adam | epoch: 008 | loss: 0.50914 - acc: 0.7680 -- iter: 19904/20250\n"
     ]
    },
    {
     "name": "stdout",
     "output_type": "stream",
     "text": [
      "Training Step: 2531  | total loss: \u001b[1m\u001b[32m0.51215\u001b[0m\u001b[0m | time: 78.889s\n\u001b[2K\r| Adam | epoch: 008 | loss: 0.51215 - acc: 0.7662 -- iter: 19968/20250\n"
     ]
    },
    {
     "name": "stdout",
     "output_type": "stream",
     "text": [
      "Training Step: 2532  | total loss: \u001b[1m\u001b[32m0.50764\u001b[0m\u001b[0m | time: 79.132s\n\u001b[2K\r| Adam | epoch: 008 | loss: 0.50764 - acc: 0.7693 -- iter: 20032/20250\n"
     ]
    },
    {
     "name": "stdout",
     "output_type": "stream",
     "text": [
      "Training Step: 2533  | total loss: \u001b[1m\u001b[32m0.50454\u001b[0m\u001b[0m | time: 79.374s\n\u001b[2K\r| Adam | epoch: 008 | loss: 0.50454 - acc: 0.7689 -- iter: 20096/20250\n"
     ]
    },
    {
     "name": "stdout",
     "output_type": "stream",
     "text": [
      "Training Step: 2534  | total loss: \u001b[1m\u001b[32m0.50143\u001b[0m\u001b[0m | time: 79.620s\n\u001b[2K\r| Adam | epoch: 008 | loss: 0.50143 - acc: 0.7733 -- iter: 20160/20250\n"
     ]
    },
    {
     "name": "stdout",
     "output_type": "stream",
     "text": [
      "Training Step: 2535  | total loss: \u001b[1m\u001b[32m0.49785\u001b[0m\u001b[0m | time: 79.873s\n\u001b[2K\r| Adam | epoch: 008 | loss: 0.49785 - acc: 0.7803 -- iter: 20224/20250\n"
     ]
    },
    {
     "name": "stdout",
     "output_type": "stream",
     "text": [
      "Training Step: 2536  | total loss: \u001b[1m\u001b[32m0.48978\u001b[0m\u001b[0m | time: 81.816s\n\u001b[2K\r| Adam | epoch: 008 | loss: 0.48978 - acc: 0.7835 | val_loss: 0.71999 - val_acc: 0.6333 -- iter: 20250/20250\n--\n"
     ]
    },
    {
     "name": "stdout",
     "output_type": "stream",
     "text": [
      "Training Step: 2537  | total loss: \u001b[1m\u001b[32m0.49048\u001b[0m\u001b[0m | time: 0.238s\n\u001b[2K\r| Adam | epoch: 009 | loss: 0.49048 - acc: 0.7849 -- iter: 00064/20250\n"
     ]
    },
    {
     "name": "stdout",
     "output_type": "stream",
     "text": [
      "Training Step: 2538  | total loss: \u001b[1m\u001b[32m0.49947\u001b[0m\u001b[0m | time: 0.482s\n\u001b[2K\r| Adam | epoch: 009 | loss: 0.49947 - acc: 0.7704 -- iter: 00128/20250\n"
     ]
    },
    {
     "name": "stdout",
     "output_type": "stream",
     "text": [
      "Training Step: 2539  | total loss: \u001b[1m\u001b[32m0.49910\u001b[0m\u001b[0m | time: 0.726s\n\u001b[2K\r| Adam | epoch: 009 | loss: 0.49910 - acc: 0.7684 -- iter: 00192/20250\n"
     ]
    },
    {
     "name": "stdout",
     "output_type": "stream",
     "text": [
      "Training Step: 2540  | total loss: \u001b[1m\u001b[32m0.49601\u001b[0m\u001b[0m | time: 0.973s\n\u001b[2K\r| Adam | epoch: 009 | loss: 0.49601 - acc: 0.7650 -- iter: 00256/20250\n"
     ]
    },
    {
     "name": "stdout",
     "output_type": "stream",
     "text": [
      "Training Step: 2541  | total loss: \u001b[1m\u001b[32m0.49831\u001b[0m\u001b[0m | time: 1.215s\n\u001b[2K\r| Adam | epoch: 009 | loss: 0.49831 - acc: 0.7604 -- iter: 00320/20250\n"
     ]
    },
    {
     "name": "stdout",
     "output_type": "stream",
     "text": [
      "Training Step: 2542  | total loss: \u001b[1m\u001b[32m0.49864\u001b[0m\u001b[0m | time: 1.463s\n\u001b[2K\r| Adam | epoch: 009 | loss: 0.49864 - acc: 0.7562 -- iter: 00384/20250\n"
     ]
    },
    {
     "name": "stdout",
     "output_type": "stream",
     "text": [
      "Training Step: 2543  | total loss: \u001b[1m\u001b[32m0.49144\u001b[0m\u001b[0m | time: 1.714s\n\u001b[2K\r| Adam | epoch: 009 | loss: 0.49144 - acc: 0.7618 -- iter: 00448/20250\n"
     ]
    },
    {
     "name": "stdout",
     "output_type": "stream",
     "text": [
      "Training Step: 2544  | total loss: \u001b[1m\u001b[32m0.49526\u001b[0m\u001b[0m | time: 1.976s\n\u001b[2K\r| Adam | epoch: 009 | loss: 0.49526 - acc: 0.7587 -- iter: 00512/20250\n"
     ]
    },
    {
     "name": "stdout",
     "output_type": "stream",
     "text": [
      "Training Step: 2545  | total loss: \u001b[1m\u001b[32m0.49486\u001b[0m\u001b[0m | time: 2.230s\n\u001b[2K\r| Adam | epoch: 009 | loss: 0.49486 - acc: 0.7598 -- iter: 00576/20250\n"
     ]
    },
    {
     "name": "stdout",
     "output_type": "stream",
     "text": [
      "Training Step: 2546  | total loss: \u001b[1m\u001b[32m0.49356\u001b[0m\u001b[0m | time: 2.486s\n\u001b[2K\r| Adam | epoch: 009 | loss: 0.49356 - acc: 0.7619 -- iter: 00640/20250\n"
     ]
    },
    {
     "name": "stdout",
     "output_type": "stream",
     "text": [
      "Training Step: 2547  | total loss: \u001b[1m\u001b[32m0.49587\u001b[0m\u001b[0m | time: 2.725s\n\u001b[2K\r| Adam | epoch: 009 | loss: 0.49587 - acc: 0.7607 -- iter: 00704/20250\n"
     ]
    },
    {
     "name": "stdout",
     "output_type": "stream",
     "text": [
      "Training Step: 2548  | total loss: \u001b[1m\u001b[32m0.49926\u001b[0m\u001b[0m | time: 2.973s\n\u001b[2K\r| Adam | epoch: 009 | loss: 0.49926 - acc: 0.7581 -- iter: 00768/20250\n"
     ]
    },
    {
     "name": "stdout",
     "output_type": "stream",
     "text": [
      "Training Step: 2549  | total loss: \u001b[1m\u001b[32m0.51110\u001b[0m\u001b[0m | time: 3.217s\n\u001b[2K\r| Adam | epoch: 009 | loss: 0.51110 - acc: 0.7510 -- iter: 00832/20250\n"
     ]
    },
    {
     "name": "stdout",
     "output_type": "stream",
     "text": [
      "Training Step: 2550  | total loss: \u001b[1m\u001b[32m0.50111\u001b[0m\u001b[0m | time: 3.474s\n\u001b[2K\r| Adam | epoch: 009 | loss: 0.50111 - acc: 0.7541 -- iter: 00896/20250\n"
     ]
    },
    {
     "name": "stdout",
     "output_type": "stream",
     "text": [
      "Training Step: 2551  | total loss: \u001b[1m\u001b[32m0.50377\u001b[0m\u001b[0m | time: 3.723s\n\u001b[2K\r| Adam | epoch: 009 | loss: 0.50377 - acc: 0.7443 -- iter: 00960/20250\n"
     ]
    },
    {
     "name": "stdout",
     "output_type": "stream",
     "text": [
      "Training Step: 2552  | total loss: \u001b[1m\u001b[32m0.50307\u001b[0m\u001b[0m | time: 3.974s\n\u001b[2K\r| Adam | epoch: 009 | loss: 0.50307 - acc: 0.7511 -- iter: 01024/20250\n"
     ]
    },
    {
     "name": "stdout",
     "output_type": "stream",
     "text": [
      "Training Step: 2553  | total loss: \u001b[1m\u001b[32m0.49563\u001b[0m\u001b[0m | time: 4.234s\n\u001b[2K\r| Adam | epoch: 009 | loss: 0.49563 - acc: 0.7463 -- iter: 01088/20250\n"
     ]
    },
    {
     "name": "stdout",
     "output_type": "stream",
     "text": [
      "Training Step: 2554  | total loss: \u001b[1m\u001b[32m0.49352\u001b[0m\u001b[0m | time: 4.526s\n\u001b[2K\r| Adam | epoch: 009 | loss: 0.49352 - acc: 0.7451 -- iter: 01152/20250\n"
     ]
    },
    {
     "name": "stdout",
     "output_type": "stream",
     "text": [
      "Training Step: 2555  | total loss: \u001b[1m\u001b[32m0.48782\u001b[0m\u001b[0m | time: 4.771s\n\u001b[2K\r| Adam | epoch: 009 | loss: 0.48782 - acc: 0.7503 -- iter: 01216/20250\n"
     ]
    },
    {
     "name": "stdout",
     "output_type": "stream",
     "text": [
      "Training Step: 2556  | total loss: \u001b[1m\u001b[32m0.49026\u001b[0m\u001b[0m | time: 5.021s\n\u001b[2K\r| Adam | epoch: 009 | loss: 0.49026 - acc: 0.7440 -- iter: 01280/20250\n"
     ]
    },
    {
     "name": "stdout",
     "output_type": "stream",
     "text": [
      "Training Step: 2557  | total loss: \u001b[1m\u001b[32m0.47895\u001b[0m\u001b[0m | time: 5.267s\n\u001b[2K\r| Adam | epoch: 009 | loss: 0.47895 - acc: 0.7555 -- iter: 01344/20250\n"
     ]
    },
    {
     "name": "stdout",
     "output_type": "stream",
     "text": [
      "Training Step: 2558  | total loss: \u001b[1m\u001b[32m0.48245\u001b[0m\u001b[0m | time: 5.506s\n\u001b[2K\r| Adam | epoch: 009 | loss: 0.48245 - acc: 0.7503 -- iter: 01408/20250\n"
     ]
    },
    {
     "name": "stdout",
     "output_type": "stream",
     "text": [
      "Training Step: 2559  | total loss: \u001b[1m\u001b[32m0.47116\u001b[0m\u001b[0m | time: 5.757s\n\u001b[2K\r| Adam | epoch: 009 | loss: 0.47116 - acc: 0.7659 -- iter: 01472/20250\n"
     ]
    },
    {
     "name": "stdout",
     "output_type": "stream",
     "text": [
      "Training Step: 2560  | total loss: \u001b[1m\u001b[32m0.47349\u001b[0m\u001b[0m | time: 6.003s\n\u001b[2K\r| Adam | epoch: 009 | loss: 0.47349 - acc: 0.7627 -- iter: 01536/20250\n"
     ]
    },
    {
     "name": "stdout",
     "output_type": "stream",
     "text": [
      "Training Step: 2561  | total loss: \u001b[1m\u001b[32m0.47918\u001b[0m\u001b[0m | time: 6.248s\n\u001b[2K\r| Adam | epoch: 009 | loss: 0.47918 - acc: 0.7583 -- iter: 01600/20250\n"
     ]
    },
    {
     "name": "stdout",
     "output_type": "stream",
     "text": [
      "Training Step: 2562  | total loss: \u001b[1m\u001b[32m0.48399\u001b[0m\u001b[0m | time: 6.496s\n\u001b[2K\r| Adam | epoch: 009 | loss: 0.48399 - acc: 0.7544 -- iter: 01664/20250\n"
     ]
    },
    {
     "name": "stdout",
     "output_type": "stream",
     "text": [
      "Training Step: 2563  | total loss: \u001b[1m\u001b[32m0.49501\u001b[0m\u001b[0m | time: 6.779s\n\u001b[2K\r| Adam | epoch: 009 | loss: 0.49501 - acc: 0.7493 -- iter: 01728/20250\n"
     ]
    },
    {
     "name": "stdout",
     "output_type": "stream",
     "text": [
      "Training Step: 2564  | total loss: \u001b[1m\u001b[32m0.48914\u001b[0m\u001b[0m | time: 7.053s\n\u001b[2K\r| Adam | epoch: 009 | loss: 0.48914 - acc: 0.7509 -- iter: 01792/20250\n"
     ]
    },
    {
     "name": "stdout",
     "output_type": "stream",
     "text": [
      "Training Step: 2565  | total loss: \u001b[1m\u001b[32m0.48649\u001b[0m\u001b[0m | time: 7.295s\n\u001b[2K\r| Adam | epoch: 009 | loss: 0.48649 - acc: 0.7524 -- iter: 01856/20250\n"
     ]
    },
    {
     "name": "stdout",
     "output_type": "stream",
     "text": [
      "Training Step: 2566  | total loss: \u001b[1m\u001b[32m0.49549\u001b[0m\u001b[0m | time: 7.538s\n\u001b[2K\r| Adam | epoch: 009 | loss: 0.49549 - acc: 0.7474 -- iter: 01920/20250\n"
     ]
    },
    {
     "name": "stdout",
     "output_type": "stream",
     "text": [
      "Training Step: 2567  | total loss: \u001b[1m\u001b[32m0.48892\u001b[0m\u001b[0m | time: 7.779s\n\u001b[2K\r| Adam | epoch: 009 | loss: 0.48892 - acc: 0.7524 -- iter: 01984/20250\n"
     ]
    },
    {
     "name": "stdout",
     "output_type": "stream",
     "text": [
      "Training Step: 2568  | total loss: \u001b[1m\u001b[32m0.49347\u001b[0m\u001b[0m | time: 8.023s\n\u001b[2K\r| Adam | epoch: 009 | loss: 0.49347 - acc: 0.7475 -- iter: 02048/20250\n"
     ]
    },
    {
     "name": "stdout",
     "output_type": "stream",
     "text": [
      "Training Step: 2569  | total loss: \u001b[1m\u001b[32m0.48793\u001b[0m\u001b[0m | time: 8.271s\n\u001b[2K\r| Adam | epoch: 009 | loss: 0.48793 - acc: 0.7508 -- iter: 02112/20250\n"
     ]
    },
    {
     "name": "stdout",
     "output_type": "stream",
     "text": [
      "Training Step: 2570  | total loss: \u001b[1m\u001b[32m0.48651\u001b[0m\u001b[0m | time: 8.520s\n\u001b[2K\r| Adam | epoch: 009 | loss: 0.48651 - acc: 0.7570 -- iter: 02176/20250\n"
     ]
    },
    {
     "name": "stdout",
     "output_type": "stream",
     "text": [
      "Training Step: 2571  | total loss: \u001b[1m\u001b[32m0.49072\u001b[0m\u001b[0m | time: 8.773s\n\u001b[2K\r| Adam | epoch: 009 | loss: 0.49072 - acc: 0.7563 -- iter: 02240/20250\n"
     ]
    },
    {
     "name": "stdout",
     "output_type": "stream",
     "text": [
      "Training Step: 2572  | total loss: \u001b[1m\u001b[32m0.49143\u001b[0m\u001b[0m | time: 9.030s\n\u001b[2K\r| Adam | epoch: 009 | loss: 0.49143 - acc: 0.7557 -- iter: 02304/20250\n"
     ]
    },
    {
     "name": "stdout",
     "output_type": "stream",
     "text": [
      "Training Step: 2573  | total loss: \u001b[1m\u001b[32m0.48232\u001b[0m\u001b[0m | time: 9.304s\n\u001b[2K\r| Adam | epoch: 009 | loss: 0.48232 - acc: 0.7660 -- iter: 02368/20250\n"
     ]
    },
    {
     "name": "stdout",
     "output_type": "stream",
     "text": [
      "Training Step: 2574  | total loss: \u001b[1m\u001b[32m0.47906\u001b[0m\u001b[0m | time: 9.592s\n\u001b[2K\r| Adam | epoch: 009 | loss: 0.47906 - acc: 0.7676 -- iter: 02432/20250\n"
     ]
    },
    {
     "name": "stdout",
     "output_type": "stream",
     "text": [
      "Training Step: 2575  | total loss: \u001b[1m\u001b[32m0.48143\u001b[0m\u001b[0m | time: 9.845s\n\u001b[2K\r| Adam | epoch: 009 | loss: 0.48143 - acc: 0.7705 -- iter: 02496/20250\n"
     ]
    },
    {
     "name": "stdout",
     "output_type": "stream",
     "text": [
      "Training Step: 2576  | total loss: \u001b[1m\u001b[32m0.47045\u001b[0m\u001b[0m | time: 10.085s\n\u001b[2K\r| Adam | epoch: 009 | loss: 0.47045 - acc: 0.7809 -- iter: 02560/20250\n"
     ]
    },
    {
     "name": "stdout",
     "output_type": "stream",
     "text": [
      "Training Step: 2577  | total loss: \u001b[1m\u001b[32m0.46426\u001b[0m\u001b[0m | time: 10.329s\n\u001b[2K\r| Adam | epoch: 009 | loss: 0.46426 - acc: 0.7872 -- iter: 02624/20250\n"
     ]
    },
    {
     "name": "stdout",
     "output_type": "stream",
     "text": [
      "Training Step: 2578  | total loss: \u001b[1m\u001b[32m0.45313\u001b[0m\u001b[0m | time: 10.576s\n\u001b[2K\r| Adam | epoch: 009 | loss: 0.45313 - acc: 0.7976 -- iter: 02688/20250\n"
     ]
    },
    {
     "name": "stdout",
     "output_type": "stream",
     "text": [
      "Training Step: 2579  | total loss: \u001b[1m\u001b[32m0.44827\u001b[0m\u001b[0m | time: 10.827s\n\u001b[2K\r| Adam | epoch: 009 | loss: 0.44827 - acc: 0.8022 -- iter: 02752/20250\n"
     ]
    },
    {
     "name": "stdout",
     "output_type": "stream",
     "text": [
      "Training Step: 2580  | total loss: \u001b[1m\u001b[32m0.43996\u001b[0m\u001b[0m | time: 11.078s\n\u001b[2K\r| Adam | epoch: 009 | loss: 0.43996 - acc: 0.8126 -- iter: 02816/20250\n"
     ]
    },
    {
     "name": "stdout",
     "output_type": "stream",
     "text": [
      "Training Step: 2581  | total loss: \u001b[1m\u001b[32m0.43399\u001b[0m\u001b[0m | time: 11.326s\n\u001b[2K\r| Adam | epoch: 009 | loss: 0.43399 - acc: 0.8157 -- iter: 02880/20250\n"
     ]
    },
    {
     "name": "stdout",
     "output_type": "stream",
     "text": [
      "Training Step: 2582  | total loss: \u001b[1m\u001b[32m0.43276\u001b[0m\u001b[0m | time: 11.578s\n\u001b[2K\r| Adam | epoch: 009 | loss: 0.43276 - acc: 0.8138 -- iter: 02944/20250\n"
     ]
    },
    {
     "name": "stdout",
     "output_type": "stream",
     "text": [
      "Training Step: 2583  | total loss: \u001b[1m\u001b[32m0.44474\u001b[0m\u001b[0m | time: 11.867s\n\u001b[2K\r| Adam | epoch: 009 | loss: 0.44474 - acc: 0.8074 -- iter: 03008/20250\n"
     ]
    },
    {
     "name": "stdout",
     "output_type": "stream",
     "text": [
      "Training Step: 2584  | total loss: \u001b[1m\u001b[32m0.43885\u001b[0m\u001b[0m | time: 12.145s\n\u001b[2K\r| Adam | epoch: 009 | loss: 0.43885 - acc: 0.8095 -- iter: 03072/20250\n"
     ]
    },
    {
     "name": "stdout",
     "output_type": "stream",
     "text": [
      "Training Step: 2585  | total loss: \u001b[1m\u001b[32m0.42750\u001b[0m\u001b[0m | time: 12.395s\n\u001b[2K\r| Adam | epoch: 009 | loss: 0.42750 - acc: 0.8145 -- iter: 03136/20250\n"
     ]
    },
    {
     "name": "stdout",
     "output_type": "stream",
     "text": [
      "Training Step: 2586  | total loss: \u001b[1m\u001b[32m0.42026\u001b[0m\u001b[0m | time: 12.639s\n\u001b[2K\r| Adam | epoch: 009 | loss: 0.42026 - acc: 0.8190 -- iter: 03200/20250\n"
     ]
    },
    {
     "name": "stdout",
     "output_type": "stream",
     "text": [
      "Training Step: 2587  | total loss: \u001b[1m\u001b[32m0.42540\u001b[0m\u001b[0m | time: 12.887s\n\u001b[2K\r| Adam | epoch: 009 | loss: 0.42540 - acc: 0.8183 -- iter: 03264/20250\n"
     ]
    },
    {
     "name": "stdout",
     "output_type": "stream",
     "text": [
      "Training Step: 2588  | total loss: \u001b[1m\u001b[32m0.42414\u001b[0m\u001b[0m | time: 13.133s\n\u001b[2K\r| Adam | epoch: 009 | loss: 0.42414 - acc: 0.8193 -- iter: 03328/20250\n"
     ]
    },
    {
     "name": "stdout",
     "output_type": "stream",
     "text": [
      "Training Step: 2589  | total loss: \u001b[1m\u001b[32m0.42838\u001b[0m\u001b[0m | time: 13.381s\n\u001b[2K\r| Adam | epoch: 009 | loss: 0.42838 - acc: 0.8155 -- iter: 03392/20250\n"
     ]
    },
    {
     "name": "stdout",
     "output_type": "stream",
     "text": [
      "Training Step: 2590  | total loss: \u001b[1m\u001b[32m0.42449\u001b[0m\u001b[0m | time: 13.633s\n\u001b[2K\r| Adam | epoch: 009 | loss: 0.42449 - acc: 0.8168 -- iter: 03456/20250\n"
     ]
    },
    {
     "name": "stdout",
     "output_type": "stream",
     "text": [
      "Training Step: 2591  | total loss: \u001b[1m\u001b[32m0.43804\u001b[0m\u001b[0m | time: 13.879s\n\u001b[2K\r| Adam | epoch: 009 | loss: 0.43804 - acc: 0.8085 -- iter: 03520/20250\n"
     ]
    },
    {
     "name": "stdout",
     "output_type": "stream",
     "text": [
      "Training Step: 2592  | total loss: \u001b[1m\u001b[32m0.45372\u001b[0m\u001b[0m | time: 14.121s\n\u001b[2K\r| Adam | epoch: 009 | loss: 0.45372 - acc: 0.7996 -- iter: 03584/20250\n"
     ]
    },
    {
     "name": "stdout",
     "output_type": "stream",
     "text": [
      "Training Step: 2593  | total loss: \u001b[1m\u001b[32m0.44714\u001b[0m\u001b[0m | time: 14.380s\n\u001b[2K\r| Adam | epoch: 009 | loss: 0.44714 - acc: 0.8071 -- iter: 03648/20250\n"
     ]
    },
    {
     "name": "stdout",
     "output_type": "stream",
     "text": [
      "Training Step: 2594  | total loss: \u001b[1m\u001b[32m0.45064\u001b[0m\u001b[0m | time: 14.660s\n\u001b[2K\r| Adam | epoch: 009 | loss: 0.45064 - acc: 0.8030 -- iter: 03712/20250\n"
     ]
    },
    {
     "name": "stdout",
     "output_type": "stream",
     "text": [
      "Training Step: 2595  | total loss: \u001b[1m\u001b[32m0.44213\u001b[0m\u001b[0m | time: 14.912s\n\u001b[2K\r| Adam | epoch: 009 | loss: 0.44213 - acc: 0.8117 -- iter: 03776/20250\n"
     ]
    },
    {
     "name": "stdout",
     "output_type": "stream",
     "text": [
      "Training Step: 2596  | total loss: \u001b[1m\u001b[32m0.45868\u001b[0m\u001b[0m | time: 15.159s\n\u001b[2K\r| Adam | epoch: 009 | loss: 0.45868 - acc: 0.7977 -- iter: 03840/20250\n"
     ]
    },
    {
     "name": "stdout",
     "output_type": "stream",
     "text": [
      "Training Step: 2597  | total loss: \u001b[1m\u001b[32m0.46957\u001b[0m\u001b[0m | time: 15.402s\n\u001b[2K\r| Adam | epoch: 009 | loss: 0.46957 - acc: 0.7898 -- iter: 03904/20250\n"
     ]
    },
    {
     "name": "stdout",
     "output_type": "stream",
     "text": [
      "Training Step: 2598  | total loss: \u001b[1m\u001b[32m0.47357\u001b[0m\u001b[0m | time: 15.643s\n\u001b[2K\r| Adam | epoch: 009 | loss: 0.47357 - acc: 0.7843 -- iter: 03968/20250\n"
     ]
    },
    {
     "name": "stdout",
     "output_type": "stream",
     "text": [
      "Training Step: 2599  | total loss: \u001b[1m\u001b[32m0.46909\u001b[0m\u001b[0m | time: 15.891s\n\u001b[2K\r| Adam | epoch: 009 | loss: 0.46909 - acc: 0.7902 -- iter: 04032/20250\n"
     ]
    },
    {
     "name": "stdout",
     "output_type": "stream",
     "text": [
      "Training Step: 2600  | total loss: \u001b[1m\u001b[32m0.47206\u001b[0m\u001b[0m | time: 16.139s\n\u001b[2K\r| Adam | epoch: 009 | loss: 0.47206 - acc: 0.7893 -- iter: 04096/20250\n"
     ]
    },
    {
     "name": "stdout",
     "output_type": "stream",
     "text": [
      "Training Step: 2601  | total loss: \u001b[1m\u001b[32m0.46538\u001b[0m\u001b[0m | time: 16.387s\n\u001b[2K\r| Adam | epoch: 009 | loss: 0.46538 - acc: 0.7963 -- iter: 04160/20250\n"
     ]
    },
    {
     "name": "stdout",
     "output_type": "stream",
     "text": [
      "Training Step: 2602  | total loss: \u001b[1m\u001b[32m0.45759\u001b[0m\u001b[0m | time: 16.638s\n\u001b[2K\r| Adam | epoch: 009 | loss: 0.45759 - acc: 0.8058 -- iter: 04224/20250\n"
     ]
    },
    {
     "name": "stdout",
     "output_type": "stream",
     "text": [
      "Training Step: 2603  | total loss: \u001b[1m\u001b[32m0.45988\u001b[0m\u001b[0m | time: 16.879s\n\u001b[2K\r| Adam | epoch: 009 | loss: 0.45988 - acc: 0.8018 -- iter: 04288/20250\n"
     ]
    },
    {
     "name": "stdout",
     "output_type": "stream",
     "text": [
      "Training Step: 2604  | total loss: \u001b[1m\u001b[32m0.45857\u001b[0m\u001b[0m | time: 17.149s\n\u001b[2K\r| Adam | epoch: 009 | loss: 0.45857 - acc: 0.8013 -- iter: 04352/20250\n"
     ]
    },
    {
     "name": "stdout",
     "output_type": "stream",
     "text": [
      "Training Step: 2605  | total loss: \u001b[1m\u001b[32m0.45065\u001b[0m\u001b[0m | time: 17.393s\n\u001b[2K\r| Adam | epoch: 009 | loss: 0.45065 - acc: 0.8086 -- iter: 04416/20250\n"
     ]
    },
    {
     "name": "stdout",
     "output_type": "stream",
     "text": [
      "Training Step: 2606  | total loss: \u001b[1m\u001b[32m0.45118\u001b[0m\u001b[0m | time: 17.644s\n\u001b[2K\r| Adam | epoch: 009 | loss: 0.45118 - acc: 0.8059 -- iter: 04480/20250\n"
     ]
    },
    {
     "name": "stdout",
     "output_type": "stream",
     "text": [
      "Training Step: 2607  | total loss: \u001b[1m\u001b[32m0.43190\u001b[0m\u001b[0m | time: 17.904s\n\u001b[2K\r| Adam | epoch: 009 | loss: 0.43190 - acc: 0.8175 -- iter: 04544/20250\n"
     ]
    },
    {
     "name": "stdout",
     "output_type": "stream",
     "text": [
      "Training Step: 2608  | total loss: \u001b[1m\u001b[32m0.42604\u001b[0m\u001b[0m | time: 18.150s\n\u001b[2K\r| Adam | epoch: 009 | loss: 0.42604 - acc: 0.8217 -- iter: 04608/20250\n"
     ]
    },
    {
     "name": "stdout",
     "output_type": "stream",
     "text": [
      "Training Step: 2609  | total loss: \u001b[1m\u001b[32m0.41002\u001b[0m\u001b[0m | time: 18.400s\n\u001b[2K\r| Adam | epoch: 009 | loss: 0.41002 - acc: 0.8317 -- iter: 04672/20250\n"
     ]
    },
    {
     "name": "stdout",
     "output_type": "stream",
     "text": [
      "Training Step: 2610  | total loss: \u001b[1m\u001b[32m0.40493\u001b[0m\u001b[0m | time: 18.660s\n\u001b[2K\r| Adam | epoch: 009 | loss: 0.40493 - acc: 0.8360 -- iter: 04736/20250\n"
     ]
    },
    {
     "name": "stdout",
     "output_type": "stream",
     "text": [
      "Training Step: 2611  | total loss: \u001b[1m\u001b[32m0.41814\u001b[0m\u001b[0m | time: 18.907s\n\u001b[2K\r| Adam | epoch: 009 | loss: 0.41814 - acc: 0.8259 -- iter: 04800/20250\n"
     ]
    },
    {
     "name": "stdout",
     "output_type": "stream",
     "text": [
      "Training Step: 2612  | total loss: \u001b[1m\u001b[32m0.46924\u001b[0m\u001b[0m | time: 19.152s\n\u001b[2K\r| Adam | epoch: 009 | loss: 0.46924 - acc: 0.7948 -- iter: 04864/20250\n"
     ]
    },
    {
     "name": "stdout",
     "output_type": "stream",
     "text": [
      "Training Step: 2613  | total loss: \u001b[1m\u001b[32m0.51154\u001b[0m\u001b[0m | time: 19.420s\n\u001b[2K\r| Adam | epoch: 009 | loss: 0.51154 - acc: 0.7747 -- iter: 04928/20250\n"
     ]
    },
    {
     "name": "stdout",
     "output_type": "stream",
     "text": [
      "Training Step: 2614  | total loss: \u001b[1m\u001b[32m0.54061\u001b[0m\u001b[0m | time: 19.708s\n\u001b[2K\r| Adam | epoch: 009 | loss: 0.54061 - acc: 0.7613 -- iter: 04992/20250\n"
     ]
    },
    {
     "name": "stdout",
     "output_type": "stream",
     "text": [
      "Training Step: 2615  | total loss: \u001b[1m\u001b[32m0.58446\u001b[0m\u001b[0m | time: 19.961s\n\u001b[2K\r| Adam | epoch: 009 | loss: 0.58446 - acc: 0.7336 -- iter: 05056/20250\n"
     ]
    },
    {
     "name": "stdout",
     "output_type": "stream",
     "text": [
      "Training Step: 2616  | total loss: \u001b[1m\u001b[32m0.61552\u001b[0m\u001b[0m | time: 20.211s\n\u001b[2K\r| Adam | epoch: 009 | loss: 0.61552 - acc: 0.7134 -- iter: 05120/20250\n"
     ]
    },
    {
     "name": "stdout",
     "output_type": "stream",
     "text": [
      "Training Step: 2617  | total loss: \u001b[1m\u001b[32m0.64071\u001b[0m\u001b[0m | time: 20.462s\n\u001b[2K\r| Adam | epoch: 009 | loss: 0.64071 - acc: 0.6967 -- iter: 05184/20250\n"
     ]
    },
    {
     "name": "stdout",
     "output_type": "stream",
     "text": [
      "Training Step: 2618  | total loss: \u001b[1m\u001b[32m0.65483\u001b[0m\u001b[0m | time: 20.707s\n\u001b[2K\r| Adam | epoch: 009 | loss: 0.65483 - acc: 0.6864 -- iter: 05248/20250\n"
     ]
    },
    {
     "name": "stdout",
     "output_type": "stream",
     "text": [
      "Training Step: 2619  | total loss: \u001b[1m\u001b[32m0.66379\u001b[0m\u001b[0m | time: 20.963s\n\u001b[2K\r| Adam | epoch: 009 | loss: 0.66379 - acc: 0.6756 -- iter: 05312/20250\n"
     ]
    },
    {
     "name": "stdout",
     "output_type": "stream",
     "text": [
      "Training Step: 2620  | total loss: \u001b[1m\u001b[32m0.66856\u001b[0m\u001b[0m | time: 21.207s\n\u001b[2K\r| Adam | epoch: 009 | loss: 0.66856 - acc: 0.6659 -- iter: 05376/20250\n"
     ]
    },
    {
     "name": "stdout",
     "output_type": "stream",
     "text": [
      "Training Step: 2621  | total loss: \u001b[1m\u001b[32m0.66670\u001b[0m\u001b[0m | time: 21.458s\n\u001b[2K\r| Adam | epoch: 009 | loss: 0.66670 - acc: 0.6618 -- iter: 05440/20250\n"
     ]
    },
    {
     "name": "stdout",
     "output_type": "stream",
     "text": [
      "Training Step: 2622  | total loss: \u001b[1m\u001b[32m0.66951\u001b[0m\u001b[0m | time: 21.731s\n\u001b[2K\r| Adam | epoch: 009 | loss: 0.66951 - acc: 0.6503 -- iter: 05504/20250\n"
     ]
    },
    {
     "name": "stdout",
     "output_type": "stream",
     "text": [
      "Training Step: 2623  | total loss: \u001b[1m\u001b[32m0.66644\u001b[0m\u001b[0m | time: 21.983s\n\u001b[2K\r| Adam | epoch: 009 | loss: 0.66644 - acc: 0.6446 -- iter: 05568/20250\n"
     ]
    },
    {
     "name": "stdout",
     "output_type": "stream",
     "text": [
      "Training Step: 2624  | total loss: \u001b[1m\u001b[32m0.66408\u001b[0m\u001b[0m | time: 22.281s\n\u001b[2K\r| Adam | epoch: 009 | loss: 0.66408 - acc: 0.6380 -- iter: 05632/20250\n"
     ]
    },
    {
     "name": "stdout",
     "output_type": "stream",
     "text": [
      "Training Step: 2625  | total loss: \u001b[1m\u001b[32m0.66061\u001b[0m\u001b[0m | time: 22.540s\n\u001b[2K\r| Adam | epoch: 009 | loss: 0.66061 - acc: 0.6320 -- iter: 05696/20250\n"
     ]
    },
    {
     "name": "stdout",
     "output_type": "stream",
     "text": [
      "Training Step: 2626  | total loss: \u001b[1m\u001b[32m0.65588\u001b[0m\u001b[0m | time: 22.792s\n\u001b[2K\r| Adam | epoch: 009 | loss: 0.65588 - acc: 0.6266 -- iter: 05760/20250\n"
     ]
    },
    {
     "name": "stdout",
     "output_type": "stream",
     "text": [
      "Training Step: 2627  | total loss: \u001b[1m\u001b[32m0.65009\u001b[0m\u001b[0m | time: 23.048s\n\u001b[2K\r| Adam | epoch: 009 | loss: 0.65009 - acc: 0.6280 -- iter: 05824/20250\n"
     ]
    },
    {
     "name": "stdout",
     "output_type": "stream",
     "text": [
      "Training Step: 2628  | total loss: \u001b[1m\u001b[32m0.64627\u001b[0m\u001b[0m | time: 23.303s\n\u001b[2K\r| Adam | epoch: 009 | loss: 0.64627 - acc: 0.6230 -- iter: 05888/20250\n"
     ]
    },
    {
     "name": "stdout",
     "output_type": "stream",
     "text": [
      "Training Step: 2629  | total loss: \u001b[1m\u001b[32m0.64007\u001b[0m\u001b[0m | time: 23.568s\n\u001b[2K\r| Adam | epoch: 009 | loss: 0.64007 - acc: 0.6263 -- iter: 05952/20250\n"
     ]
    },
    {
     "name": "stdout",
     "output_type": "stream",
     "text": [
      "Training Step: 2630  | total loss: \u001b[1m\u001b[32m0.63834\u001b[0m\u001b[0m | time: 23.845s\n\u001b[2K\r| Adam | epoch: 009 | loss: 0.63834 - acc: 0.6325 -- iter: 06016/20250\n"
     ]
    },
    {
     "name": "stdout",
     "output_type": "stream",
     "text": [
      "Training Step: 2631  | total loss: \u001b[1m\u001b[32m0.63700\u001b[0m\u001b[0m | time: 24.086s\n\u001b[2K\r| Adam | epoch: 009 | loss: 0.63700 - acc: 0.6302 -- iter: 06080/20250\n"
     ]
    },
    {
     "name": "stdout",
     "output_type": "stream",
     "text": [
      "Training Step: 2632  | total loss: \u001b[1m\u001b[32m0.63584\u001b[0m\u001b[0m | time: 24.342s\n\u001b[2K\r| Adam | epoch: 009 | loss: 0.63584 - acc: 0.6328 -- iter: 06144/20250\n"
     ]
    },
    {
     "name": "stdout",
     "output_type": "stream",
     "text": [
      "Training Step: 2633  | total loss: \u001b[1m\u001b[32m0.63134\u001b[0m\u001b[0m | time: 24.591s\n\u001b[2K\r| Adam | epoch: 009 | loss: 0.63134 - acc: 0.6367 -- iter: 06208/20250\n"
     ]
    },
    {
     "name": "stdout",
     "output_type": "stream",
     "text": [
      "Training Step: 2634  | total loss: \u001b[1m\u001b[32m0.63516\u001b[0m\u001b[0m | time: 24.840s\n\u001b[2K\r| Adam | epoch: 009 | loss: 0.63516 - acc: 0.6246 -- iter: 06272/20250\n"
     ]
    },
    {
     "name": "stdout",
     "output_type": "stream",
     "text": [
      "Training Step: 2635  | total loss: \u001b[1m\u001b[32m0.63238\u001b[0m\u001b[0m | time: 25.092s\n\u001b[2K\r| Adam | epoch: 009 | loss: 0.63238 - acc: 0.6199 -- iter: 06336/20250\n"
     ]
    },
    {
     "name": "stdout",
     "output_type": "stream",
     "text": [
      "Training Step: 2636  | total loss: \u001b[1m\u001b[32m0.62554\u001b[0m\u001b[0m | time: 25.338s\n\u001b[2K\r| Adam | epoch: 009 | loss: 0.62554 - acc: 0.6204 -- iter: 06400/20250\n"
     ]
    },
    {
     "name": "stdout",
     "output_type": "stream",
     "text": [
      "Training Step: 2637  | total loss: \u001b[1m\u001b[32m0.62420\u001b[0m\u001b[0m | time: 25.588s\n\u001b[2K\r| Adam | epoch: 009 | loss: 0.62420 - acc: 0.6271 -- iter: 06464/20250\n"
     ]
    },
    {
     "name": "stdout",
     "output_type": "stream",
     "text": [
      "Training Step: 2638  | total loss: \u001b[1m\u001b[32m0.62444\u001b[0m\u001b[0m | time: 25.827s\n\u001b[2K\r| Adam | epoch: 009 | loss: 0.62444 - acc: 0.6207 -- iter: 06528/20250\n"
     ]
    },
    {
     "name": "stdout",
     "output_type": "stream",
     "text": [
      "Training Step: 2639  | total loss: \u001b[1m\u001b[32m0.62339\u001b[0m\u001b[0m | time: 26.078s\n\u001b[2K\r| Adam | epoch: 009 | loss: 0.62339 - acc: 0.6180 -- iter: 06592/20250\n"
     ]
    },
    {
     "name": "stdout",
     "output_type": "stream",
     "text": [
      "Training Step: 2640  | total loss: \u001b[1m\u001b[32m0.61949\u001b[0m\u001b[0m | time: 26.355s\n\u001b[2K\r| Adam | epoch: 009 | loss: 0.61949 - acc: 0.6281 -- iter: 06656/20250\n"
     ]
    },
    {
     "name": "stdout",
     "output_type": "stream",
     "text": [
      "Training Step: 2641  | total loss: \u001b[1m\u001b[32m0.61608\u001b[0m\u001b[0m | time: 26.636s\n\u001b[2K\r| Adam | epoch: 009 | loss: 0.61608 - acc: 0.6215 -- iter: 06720/20250\n"
     ]
    },
    {
     "name": "stdout",
     "output_type": "stream",
     "text": [
      "Training Step: 2642  | total loss: \u001b[1m\u001b[32m0.61541\u001b[0m\u001b[0m | time: 26.880s\n\u001b[2K\r| Adam | epoch: 009 | loss: 0.61541 - acc: 0.6172 -- iter: 06784/20250\n"
     ]
    },
    {
     "name": "stdout",
     "output_type": "stream",
     "text": [
      "Training Step: 2643  | total loss: \u001b[1m\u001b[32m0.61921\u001b[0m\u001b[0m | time: 27.117s\n\u001b[2K\r| Adam | epoch: 009 | loss: 0.61921 - acc: 0.6133 -- iter: 06848/20250\n"
     ]
    },
    {
     "name": "stdout",
     "output_type": "stream",
     "text": [
      "Training Step: 2644  | total loss: \u001b[1m\u001b[32m0.61748\u001b[0m\u001b[0m | time: 27.360s\n\u001b[2K\r| Adam | epoch: 009 | loss: 0.61748 - acc: 0.6222 -- iter: 06912/20250\n"
     ]
    },
    {
     "name": "stdout",
     "output_type": "stream",
     "text": [
      "Training Step: 2645  | total loss: \u001b[1m\u001b[32m0.61176\u001b[0m\u001b[0m | time: 27.612s\n\u001b[2K\r| Adam | epoch: 009 | loss: 0.61176 - acc: 0.6272 -- iter: 06976/20250\n"
     ]
    },
    {
     "name": "stdout",
     "output_type": "stream",
     "text": [
      "Training Step: 2646  | total loss: \u001b[1m\u001b[32m0.60763\u001b[0m\u001b[0m | time: 27.855s\n\u001b[2K\r| Adam | epoch: 009 | loss: 0.60763 - acc: 0.6301 -- iter: 07040/20250\n"
     ]
    },
    {
     "name": "stdout",
     "output_type": "stream",
     "text": [
      "Training Step: 2647  | total loss: \u001b[1m\u001b[32m0.61324\u001b[0m\u001b[0m | time: 28.100s\n\u001b[2K\r| Adam | epoch: 009 | loss: 0.61324 - acc: 0.6171 -- iter: 07104/20250\n"
     ]
    },
    {
     "name": "stdout",
     "output_type": "stream",
     "text": [
      "Training Step: 2648  | total loss: \u001b[1m\u001b[32m0.61161\u001b[0m\u001b[0m | time: 28.347s\n\u001b[2K\r| Adam | epoch: 009 | loss: 0.61161 - acc: 0.6195 -- iter: 07168/20250\n"
     ]
    },
    {
     "name": "stdout",
     "output_type": "stream",
     "text": [
      "Training Step: 2649  | total loss: \u001b[1m\u001b[32m0.60684\u001b[0m\u001b[0m | time: 28.600s\n\u001b[2K\r| Adam | epoch: 009 | loss: 0.60684 - acc: 0.6169 -- iter: 07232/20250\n"
     ]
    },
    {
     "name": "stdout",
     "output_type": "stream",
     "text": [
      "Training Step: 2650  | total loss: \u001b[1m\u001b[32m0.60724\u001b[0m\u001b[0m | time: 28.862s\n\u001b[2K\r| Adam | epoch: 009 | loss: 0.60724 - acc: 0.6130 -- iter: 07296/20250\n"
     ]
    },
    {
     "name": "stdout",
     "output_type": "stream",
     "text": [
      "Training Step: 2651  | total loss: \u001b[1m\u001b[32m0.60876\u001b[0m\u001b[0m | time: 29.115s\n\u001b[2K\r| Adam | epoch: 009 | loss: 0.60876 - acc: 0.6095 -- iter: 07360/20250\n"
     ]
    },
    {
     "name": "stdout",
     "output_type": "stream",
     "text": [
      "Training Step: 2652  | total loss: \u001b[1m\u001b[32m0.61374\u001b[0m\u001b[0m | time: 29.369s\n\u001b[2K\r| Adam | epoch: 009 | loss: 0.61374 - acc: 0.6126 -- iter: 07424/20250\n"
     ]
    },
    {
     "name": "stdout",
     "output_type": "stream",
     "text": [
      "Training Step: 2653  | total loss: \u001b[1m\u001b[32m0.61428\u001b[0m\u001b[0m | time: 29.622s\n\u001b[2K\r| Adam | epoch: 009 | loss: 0.61428 - acc: 0.6076 -- iter: 07488/20250\n"
     ]
    },
    {
     "name": "stdout",
     "output_type": "stream",
     "text": [
      "Training Step: 2654  | total loss: \u001b[1m\u001b[32m0.60822\u001b[0m\u001b[0m | time: 29.870s\n\u001b[2K\r| Adam | epoch: 009 | loss: 0.60822 - acc: 0.6078 -- iter: 07552/20250\n"
     ]
    },
    {
     "name": "stdout",
     "output_type": "stream",
     "text": [
      "Training Step: 2655  | total loss: \u001b[1m\u001b[32m0.60651\u001b[0m\u001b[0m | time: 30.128s\n\u001b[2K\r| Adam | epoch: 009 | loss: 0.60651 - acc: 0.6126 -- iter: 07616/20250\n"
     ]
    },
    {
     "name": "stdout",
     "output_type": "stream",
     "text": [
      "Training Step: 2656  | total loss: \u001b[1m\u001b[32m0.60038\u001b[0m\u001b[0m | time: 30.386s\n\u001b[2K\r| Adam | epoch: 009 | loss: 0.60038 - acc: 0.6186 -- iter: 07680/20250\n"
     ]
    },
    {
     "name": "stdout",
     "output_type": "stream",
     "text": [
      "Training Step: 2657  | total loss: \u001b[1m\u001b[32m0.61105\u001b[0m\u001b[0m | time: 30.630s\n\u001b[2K\r| Adam | epoch: 009 | loss: 0.61105 - acc: 0.6098 -- iter: 07744/20250\n"
     ]
    },
    {
     "name": "stdout",
     "output_type": "stream",
     "text": [
      "Training Step: 2658  | total loss: \u001b[1m\u001b[32m0.60094\u001b[0m\u001b[0m | time: 30.877s\n\u001b[2K\r| Adam | epoch: 009 | loss: 0.60094 - acc: 0.6223 -- iter: 07808/20250\n"
     ]
    },
    {
     "name": "stdout",
     "output_type": "stream",
     "text": [
      "Training Step: 2659  | total loss: \u001b[1m\u001b[32m0.59827\u001b[0m\u001b[0m | time: 31.148s\n\u001b[2K\r| Adam | epoch: 009 | loss: 0.59827 - acc: 0.6226 -- iter: 07872/20250\n"
     ]
    },
    {
     "name": "stdout",
     "output_type": "stream",
     "text": [
      "Training Step: 2660  | total loss: \u001b[1m\u001b[32m0.60913\u001b[0m\u001b[0m | time: 31.411s\n\u001b[2K\r| Adam | epoch: 009 | loss: 0.60913 - acc: 0.6212 -- iter: 07936/20250\n"
     ]
    },
    {
     "name": "stdout",
     "output_type": "stream",
     "text": [
      "Training Step: 2661  | total loss: \u001b[1m\u001b[32m0.61190\u001b[0m\u001b[0m | time: 31.686s\n\u001b[2K\r| Adam | epoch: 009 | loss: 0.61190 - acc: 0.6185 -- iter: 08000/20250\n"
     ]
    },
    {
     "name": "stdout",
     "output_type": "stream",
     "text": [
      "Training Step: 2662  | total loss: \u001b[1m\u001b[32m0.60803\u001b[0m\u001b[0m | time: 31.935s\n\u001b[2K\r| Adam | epoch: 009 | loss: 0.60803 - acc: 0.6098 -- iter: 08064/20250\n"
     ]
    },
    {
     "name": "stdout",
     "output_type": "stream",
     "text": [
      "Training Step: 2663  | total loss: \u001b[1m\u001b[32m0.61364\u001b[0m\u001b[0m | time: 32.180s\n\u001b[2K\r| Adam | epoch: 009 | loss: 0.61364 - acc: 0.6050 -- iter: 08128/20250\n"
     ]
    },
    {
     "name": "stdout",
     "output_type": "stream",
     "text": [
      "Training Step: 2664  | total loss: \u001b[1m\u001b[32m0.61139\u001b[0m\u001b[0m | time: 32.422s\n\u001b[2K\r| Adam | epoch: 009 | loss: 0.61139 - acc: 0.6148 -- iter: 08192/20250\n"
     ]
    },
    {
     "name": "stdout",
     "output_type": "stream",
     "text": [
      "Training Step: 2665  | total loss: \u001b[1m\u001b[32m0.60956\u001b[0m\u001b[0m | time: 32.668s\n\u001b[2K\r| Adam | epoch: 009 | loss: 0.60956 - acc: 0.6174 -- iter: 08256/20250\n"
     ]
    },
    {
     "name": "stdout",
     "output_type": "stream",
     "text": [
      "Training Step: 2666  | total loss: \u001b[1m\u001b[32m0.61662\u001b[0m\u001b[0m | time: 32.918s\n\u001b[2K\r| Adam | epoch: 009 | loss: 0.61662 - acc: 0.6088 -- iter: 08320/20250\n"
     ]
    },
    {
     "name": "stdout",
     "output_type": "stream",
     "text": [
      "Training Step: 2667  | total loss: \u001b[1m\u001b[32m0.61429\u001b[0m\u001b[0m | time: 33.159s\n\u001b[2K\r| Adam | epoch: 009 | loss: 0.61429 - acc: 0.6104 -- iter: 08384/20250\n"
     ]
    },
    {
     "name": "stdout",
     "output_type": "stream",
     "text": [
      "Training Step: 2668  | total loss: \u001b[1m\u001b[32m0.60896\u001b[0m\u001b[0m | time: 33.414s\n\u001b[2K\r| Adam | epoch: 009 | loss: 0.60896 - acc: 0.6088 -- iter: 08448/20250\n"
     ]
    },
    {
     "name": "stdout",
     "output_type": "stream",
     "text": [
      "Training Step: 2669  | total loss: \u001b[1m\u001b[32m0.60855\u001b[0m\u001b[0m | time: 33.670s\n\u001b[2K\r| Adam | epoch: 009 | loss: 0.60855 - acc: 0.6026 -- iter: 08512/20250\n"
     ]
    },
    {
     "name": "stdout",
     "output_type": "stream",
     "text": [
      "Training Step: 2670  | total loss: \u001b[1m\u001b[32m0.60491\u001b[0m\u001b[0m | time: 33.929s\n\u001b[2K\r| Adam | epoch: 009 | loss: 0.60491 - acc: 0.6079 -- iter: 08576/20250\n"
     ]
    },
    {
     "name": "stdout",
     "output_type": "stream",
     "text": [
      "Training Step: 2671  | total loss: \u001b[1m\u001b[32m0.60391\u001b[0m\u001b[0m | time: 34.212s\n\u001b[2K\r| Adam | epoch: 009 | loss: 0.60391 - acc: 0.6159 -- iter: 08640/20250\n"
     ]
    },
    {
     "name": "stdout",
     "output_type": "stream",
     "text": [
      "Training Step: 2672  | total loss: \u001b[1m\u001b[32m0.60231\u001b[0m\u001b[0m | time: 34.464s\n\u001b[2K\r| Adam | epoch: 009 | loss: 0.60231 - acc: 0.6215 -- iter: 08704/20250\n"
     ]
    },
    {
     "name": "stdout",
     "output_type": "stream",
     "text": [
      "Training Step: 2673  | total loss: \u001b[1m\u001b[32m0.60300\u001b[0m\u001b[0m | time: 34.718s\n\u001b[2K\r| Adam | epoch: 009 | loss: 0.60300 - acc: 0.6187 -- iter: 08768/20250\n"
     ]
    },
    {
     "name": "stdout",
     "output_type": "stream",
     "text": [
      "Training Step: 2674  | total loss: \u001b[1m\u001b[32m0.60899\u001b[0m\u001b[0m | time: 34.973s\n\u001b[2K\r| Adam | epoch: 009 | loss: 0.60899 - acc: 0.6068 -- iter: 08832/20250\n"
     ]
    },
    {
     "name": "stdout",
     "output_type": "stream",
     "text": [
      "Training Step: 2675  | total loss: \u001b[1m\u001b[32m0.61105\u001b[0m\u001b[0m | time: 35.225s\n\u001b[2K\r| Adam | epoch: 009 | loss: 0.61105 - acc: 0.5977 -- iter: 08896/20250\n"
     ]
    },
    {
     "name": "stdout",
     "output_type": "stream",
     "text": [
      "Training Step: 2676  | total loss: \u001b[1m\u001b[32m0.60367\u001b[0m\u001b[0m | time: 35.478s\n\u001b[2K\r| Adam | epoch: 009 | loss: 0.60367 - acc: 0.6083 -- iter: 08960/20250\n"
     ]
    },
    {
     "name": "stdout",
     "output_type": "stream",
     "text": [
      "Training Step: 2677  | total loss: \u001b[1m\u001b[32m0.59875\u001b[0m\u001b[0m | time: 35.733s\n\u001b[2K\r| Adam | epoch: 009 | loss: 0.59875 - acc: 0.6084 -- iter: 09024/20250\n"
     ]
    },
    {
     "name": "stdout",
     "output_type": "stream",
     "text": [
      "Training Step: 2678  | total loss: \u001b[1m\u001b[32m0.59890\u001b[0m\u001b[0m | time: 35.982s\n\u001b[2K\r| Adam | epoch: 009 | loss: 0.59890 - acc: 0.6116 -- iter: 09088/20250\n"
     ]
    },
    {
     "name": "stdout",
     "output_type": "stream",
     "text": [
      "Training Step: 2679  | total loss: \u001b[1m\u001b[32m0.59134\u001b[0m\u001b[0m | time: 36.231s\n\u001b[2K\r| Adam | epoch: 009 | loss: 0.59134 - acc: 0.6270 -- iter: 09152/20250\n"
     ]
    },
    {
     "name": "stdout",
     "output_type": "stream",
     "text": [
      "Training Step: 2680  | total loss: \u001b[1m\u001b[32m0.59787\u001b[0m\u001b[0m | time: 36.481s\n\u001b[2K\r| Adam | epoch: 009 | loss: 0.59787 - acc: 0.6221 -- iter: 09216/20250\n"
     ]
    },
    {
     "name": "stdout",
     "output_type": "stream",
     "text": [
      "Training Step: 2681  | total loss: \u001b[1m\u001b[32m0.60274\u001b[0m\u001b[0m | time: 36.766s\n\u001b[2K\r| Adam | epoch: 009 | loss: 0.60274 - acc: 0.6193 -- iter: 09280/20250\n"
     ]
    },
    {
     "name": "stdout",
     "output_type": "stream",
     "text": [
      "Training Step: 2682  | total loss: \u001b[1m\u001b[32m0.60528\u001b[0m\u001b[0m | time: 37.017s\n\u001b[2K\r| Adam | epoch: 009 | loss: 0.60528 - acc: 0.6245 -- iter: 09344/20250\n"
     ]
    },
    {
     "name": "stdout",
     "output_type": "stream",
     "text": [
      "Training Step: 2683  | total loss: \u001b[1m\u001b[32m0.60616\u001b[0m\u001b[0m | time: 37.266s\n\u001b[2K\r| Adam | epoch: 009 | loss: 0.60616 - acc: 0.6199 -- iter: 09408/20250\n"
     ]
    },
    {
     "name": "stdout",
     "output_type": "stream",
     "text": [
      "Training Step: 2684  | total loss: \u001b[1m\u001b[32m0.60511\u001b[0m\u001b[0m | time: 37.516s\n\u001b[2K\r| Adam | epoch: 009 | loss: 0.60511 - acc: 0.6188 -- iter: 09472/20250\n"
     ]
    },
    {
     "name": "stdout",
     "output_type": "stream",
     "text": [
      "Training Step: 2685  | total loss: \u001b[1m\u001b[32m0.60543\u001b[0m\u001b[0m | time: 37.770s\n\u001b[2K\r| Adam | epoch: 009 | loss: 0.60543 - acc: 0.6148 -- iter: 09536/20250\n"
     ]
    },
    {
     "name": "stdout",
     "output_type": "stream",
     "text": [
      "Training Step: 2686  | total loss: \u001b[1m\u001b[32m0.60357\u001b[0m\u001b[0m | time: 38.021s\n\u001b[2K\r| Adam | epoch: 009 | loss: 0.60357 - acc: 0.6142 -- iter: 09600/20250\n"
     ]
    },
    {
     "name": "stdout",
     "output_type": "stream",
     "text": [
      "Training Step: 2687  | total loss: \u001b[1m\u001b[32m0.60341\u001b[0m\u001b[0m | time: 38.267s\n\u001b[2K\r| Adam | epoch: 009 | loss: 0.60341 - acc: 0.6106 -- iter: 09664/20250\n"
     ]
    },
    {
     "name": "stdout",
     "output_type": "stream",
     "text": [
      "Training Step: 2688  | total loss: \u001b[1m\u001b[32m0.60845\u001b[0m\u001b[0m | time: 38.514s\n\u001b[2K\r| Adam | epoch: 009 | loss: 0.60845 - acc: 0.6121 -- iter: 09728/20250\n"
     ]
    },
    {
     "name": "stdout",
     "output_type": "stream",
     "text": [
      "Training Step: 2689  | total loss: \u001b[1m\u001b[32m0.60900\u001b[0m\u001b[0m | time: 38.781s\n\u001b[2K\r| Adam | epoch: 009 | loss: 0.60900 - acc: 0.6071 -- iter: 09792/20250\n"
     ]
    },
    {
     "name": "stdout",
     "output_type": "stream",
     "text": [
      "Training Step: 2690  | total loss: \u001b[1m\u001b[32m0.60338\u001b[0m\u001b[0m | time: 39.078s\n\u001b[2K\r| Adam | epoch: 009 | loss: 0.60338 - acc: 0.6245 -- iter: 09856/20250\n"
     ]
    },
    {
     "name": "stdout",
     "output_type": "stream",
     "text": [
      "Training Step: 2691  | total loss: \u001b[1m\u001b[32m0.59947\u001b[0m\u001b[0m | time: 39.349s\n\u001b[2K\r| Adam | epoch: 009 | loss: 0.59947 - acc: 0.6261 -- iter: 09920/20250\n"
     ]
    },
    {
     "name": "stdout",
     "output_type": "stream",
     "text": [
      "Training Step: 2692  | total loss: \u001b[1m\u001b[32m0.59747\u001b[0m\u001b[0m | time: 39.601s\n\u001b[2K\r| Adam | epoch: 009 | loss: 0.59747 - acc: 0.6276 -- iter: 09984/20250\n"
     ]
    },
    {
     "name": "stdout",
     "output_type": "stream",
     "text": [
      "Training Step: 2693  | total loss: \u001b[1m\u001b[32m0.59677\u001b[0m\u001b[0m | time: 39.846s\n\u001b[2K\r| Adam | epoch: 009 | loss: 0.59677 - acc: 0.6304 -- iter: 10048/20250\n"
     ]
    },
    {
     "name": "stdout",
     "output_type": "stream",
     "text": [
      "Training Step: 2694  | total loss: \u001b[1m\u001b[32m0.59495\u001b[0m\u001b[0m | time: 40.093s\n\u001b[2K\r| Adam | epoch: 009 | loss: 0.59495 - acc: 0.6393 -- iter: 10112/20250\n"
     ]
    },
    {
     "name": "stdout",
     "output_type": "stream",
     "text": [
      "Training Step: 2695  | total loss: \u001b[1m\u001b[32m0.59739\u001b[0m\u001b[0m | time: 40.343s\n\u001b[2K\r| Adam | epoch: 009 | loss: 0.59739 - acc: 0.6347 -- iter: 10176/20250\n"
     ]
    },
    {
     "name": "stdout",
     "output_type": "stream",
     "text": [
      "Training Step: 2696  | total loss: \u001b[1m\u001b[32m0.59734\u001b[0m\u001b[0m | time: 40.589s\n\u001b[2K\r| Adam | epoch: 009 | loss: 0.59734 - acc: 0.6431 -- iter: 10240/20250\n"
     ]
    },
    {
     "name": "stdout",
     "output_type": "stream",
     "text": [
      "Training Step: 2697  | total loss: \u001b[1m\u001b[32m0.59572\u001b[0m\u001b[0m | time: 40.837s\n\u001b[2K\r| Adam | epoch: 009 | loss: 0.59572 - acc: 0.6460 -- iter: 10304/20250\n"
     ]
    },
    {
     "name": "stdout",
     "output_type": "stream",
     "text": [
      "Training Step: 2698  | total loss: \u001b[1m\u001b[32m0.59512\u001b[0m\u001b[0m | time: 41.084s\n\u001b[2K\r| Adam | epoch: 009 | loss: 0.59512 - acc: 0.6408 -- iter: 10368/20250\n"
     ]
    },
    {
     "name": "stdout",
     "output_type": "stream",
     "text": [
      "Training Step: 2699  | total loss: \u001b[1m\u001b[32m0.59945\u001b[0m\u001b[0m | time: 41.348s\n\u001b[2K\r| Adam | epoch: 009 | loss: 0.59945 - acc: 0.6329 -- iter: 10432/20250\n"
     ]
    },
    {
     "name": "stdout",
     "output_type": "stream",
     "text": [
      "Training Step: 2700  | total loss: \u001b[1m\u001b[32m0.60251\u001b[0m\u001b[0m | time: 41.628s\n\u001b[2K\r| Adam | epoch: 009 | loss: 0.60251 - acc: 0.6275 -- iter: 10496/20250\n"
     ]
    },
    {
     "name": "stdout",
     "output_type": "stream",
     "text": [
      "Training Step: 2701  | total loss: \u001b[1m\u001b[32m0.59926\u001b[0m\u001b[0m | time: 41.878s\n\u001b[2K\r| Adam | epoch: 009 | loss: 0.59926 - acc: 0.6350 -- iter: 10560/20250\n"
     ]
    },
    {
     "name": "stdout",
     "output_type": "stream",
     "text": [
      "Training Step: 2702  | total loss: \u001b[1m\u001b[32m0.60280\u001b[0m\u001b[0m | time: 42.129s\n\u001b[2K\r| Adam | epoch: 009 | loss: 0.60280 - acc: 0.6309 -- iter: 10624/20250\n"
     ]
    },
    {
     "name": "stdout",
     "output_type": "stream",
     "text": [
      "Training Step: 2703  | total loss: \u001b[1m\u001b[32m0.60646\u001b[0m\u001b[0m | time: 42.380s\n\u001b[2K\r| Adam | epoch: 009 | loss: 0.60646 - acc: 0.6209 -- iter: 10688/20250\n"
     ]
    },
    {
     "name": "stdout",
     "output_type": "stream",
     "text": [
      "Training Step: 2704  | total loss: \u001b[1m\u001b[32m0.60102\u001b[0m\u001b[0m | time: 42.635s\n\u001b[2K\r| Adam | epoch: 009 | loss: 0.60102 - acc: 0.6213 -- iter: 10752/20250\n"
     ]
    },
    {
     "name": "stdout",
     "output_type": "stream",
     "text": [
      "Training Step: 2705  | total loss: \u001b[1m\u001b[32m0.60478\u001b[0m\u001b[0m | time: 42.886s\n\u001b[2K\r| Adam | epoch: 009 | loss: 0.60478 - acc: 0.6139 -- iter: 10816/20250\n"
     ]
    },
    {
     "name": "stdout",
     "output_type": "stream",
     "text": [
      "Training Step: 2706  | total loss: \u001b[1m\u001b[32m0.60507\u001b[0m\u001b[0m | time: 43.139s\n\u001b[2K\r| Adam | epoch: 009 | loss: 0.60507 - acc: 0.6166 -- iter: 10880/20250\n"
     ]
    },
    {
     "name": "stdout",
     "output_type": "stream",
     "text": [
      "Training Step: 2707  | total loss: \u001b[1m\u001b[32m0.60554\u001b[0m\u001b[0m | time: 43.385s\n\u001b[2K\r| Adam | epoch: 009 | loss: 0.60554 - acc: 0.6284 -- iter: 10944/20250\n"
     ]
    },
    {
     "name": "stdout",
     "output_type": "stream",
     "text": [
      "Training Step: 2708  | total loss: \u001b[1m\u001b[32m0.60206\u001b[0m\u001b[0m | time: 43.638s\n\u001b[2K\r| Adam | epoch: 009 | loss: 0.60206 - acc: 0.6358 -- iter: 11008/20250\n"
     ]
    },
    {
     "name": "stdout",
     "output_type": "stream",
     "text": [
      "Training Step: 2709  | total loss: \u001b[1m\u001b[32m0.60391\u001b[0m\u001b[0m | time: 43.901s\n\u001b[2K\r| Adam | epoch: 009 | loss: 0.60391 - acc: 0.6441 -- iter: 11072/20250\n"
     ]
    },
    {
     "name": "stdout",
     "output_type": "stream",
     "text": [
      "Training Step: 2710  | total loss: \u001b[1m\u001b[32m0.61175\u001b[0m\u001b[0m | time: 44.186s\n\u001b[2K\r| Adam | epoch: 009 | loss: 0.61175 - acc: 0.6360 -- iter: 11136/20250\n"
     ]
    },
    {
     "name": "stdout",
     "output_type": "stream",
     "text": [
      "Training Step: 2711  | total loss: \u001b[1m\u001b[32m0.61549\u001b[0m\u001b[0m | time: 44.430s\n\u001b[2K\r| Adam | epoch: 009 | loss: 0.61549 - acc: 0.6333 -- iter: 11200/20250\n"
     ]
    },
    {
     "name": "stdout",
     "output_type": "stream",
     "text": [
      "Training Step: 2712  | total loss: \u001b[1m\u001b[32m0.61406\u001b[0m\u001b[0m | time: 44.683s\n\u001b[2K\r| Adam | epoch: 009 | loss: 0.61406 - acc: 0.6293 -- iter: 11264/20250\n"
     ]
    },
    {
     "name": "stdout",
     "output_type": "stream",
     "text": [
      "Training Step: 2713  | total loss: \u001b[1m\u001b[32m0.61260\u001b[0m\u001b[0m | time: 44.940s\n\u001b[2K\r| Adam | epoch: 009 | loss: 0.61260 - acc: 0.6242 -- iter: 11328/20250\n"
     ]
    },
    {
     "name": "stdout",
     "output_type": "stream",
     "text": [
      "Training Step: 2714  | total loss: \u001b[1m\u001b[32m0.61629\u001b[0m\u001b[0m | time: 45.190s\n\u001b[2K\r| Adam | epoch: 009 | loss: 0.61629 - acc: 0.6118 -- iter: 11392/20250\n"
     ]
    },
    {
     "name": "stdout",
     "output_type": "stream",
     "text": [
      "Training Step: 2715  | total loss: \u001b[1m\u001b[32m0.60549\u001b[0m\u001b[0m | time: 45.441s\n\u001b[2K\r| Adam | epoch: 009 | loss: 0.60549 - acc: 0.6225 -- iter: 11456/20250\n"
     ]
    },
    {
     "name": "stdout",
     "output_type": "stream",
     "text": [
      "Training Step: 2716  | total loss: \u001b[1m\u001b[32m0.61229\u001b[0m\u001b[0m | time: 45.687s\n\u001b[2K\r| Adam | epoch: 009 | loss: 0.61229 - acc: 0.6212 -- iter: 11520/20250\n"
     ]
    },
    {
     "name": "stdout",
     "output_type": "stream",
     "text": [
      "Training Step: 2717  | total loss: \u001b[1m\u001b[32m0.60812\u001b[0m\u001b[0m | time: 45.935s\n\u001b[2K\r| Adam | epoch: 009 | loss: 0.60812 - acc: 0.6294 -- iter: 11584/20250\n"
     ]
    },
    {
     "name": "stdout",
     "output_type": "stream",
     "text": [
      "Training Step: 2718  | total loss: \u001b[1m\u001b[32m0.60947\u001b[0m\u001b[0m | time: 46.184s\n\u001b[2K\r| Adam | epoch: 009 | loss: 0.60947 - acc: 0.6274 -- iter: 11648/20250\n"
     ]
    },
    {
     "name": "stdout",
     "output_type": "stream",
     "text": [
      "Training Step: 2719  | total loss: \u001b[1m\u001b[32m0.61070\u001b[0m\u001b[0m | time: 46.443s\n\u001b[2K\r| Adam | epoch: 009 | loss: 0.61070 - acc: 0.6193 -- iter: 11712/20250\n"
     ]
    },
    {
     "name": "stdout",
     "output_type": "stream",
     "text": [
      "Training Step: 2720  | total loss: \u001b[1m\u001b[32m0.60878\u001b[0m\u001b[0m | time: 46.726s\n\u001b[2K\r| Adam | epoch: 009 | loss: 0.60878 - acc: 0.6183 -- iter: 11776/20250\n"
     ]
    },
    {
     "name": "stdout",
     "output_type": "stream",
     "text": [
      "Training Step: 2721  | total loss: \u001b[1m\u001b[32m0.61117\u001b[0m\u001b[0m | time: 46.975s\n\u001b[2K\r| Adam | epoch: 009 | loss: 0.61117 - acc: 0.6159 -- iter: 11840/20250\n"
     ]
    },
    {
     "name": "stdout",
     "output_type": "stream",
     "text": [
      "Training Step: 2722  | total loss: \u001b[1m\u001b[32m0.61155\u001b[0m\u001b[0m | time: 47.223s\n\u001b[2K\r| Adam | epoch: 009 | loss: 0.61155 - acc: 0.6230 -- iter: 11904/20250\n"
     ]
    },
    {
     "name": "stdout",
     "output_type": "stream",
     "text": [
      "Training Step: 2723  | total loss: \u001b[1m\u001b[32m0.60495\u001b[0m\u001b[0m | time: 47.478s\n\u001b[2K\r| Adam | epoch: 009 | loss: 0.60495 - acc: 0.6248 -- iter: 11968/20250\n"
     ]
    },
    {
     "name": "stdout",
     "output_type": "stream",
     "text": [
      "Training Step: 2724  | total loss: \u001b[1m\u001b[32m0.61301\u001b[0m\u001b[0m | time: 47.737s\n\u001b[2K\r| Adam | epoch: 009 | loss: 0.61301 - acc: 0.6123 -- iter: 12032/20250\n"
     ]
    },
    {
     "name": "stdout",
     "output_type": "stream",
     "text": [
      "Training Step: 2725  | total loss: \u001b[1m\u001b[32m0.61462\u001b[0m\u001b[0m | time: 47.978s\n\u001b[2K\r| Adam | epoch: 009 | loss: 0.61462 - acc: 0.6183 -- iter: 12096/20250\n"
     ]
    },
    {
     "name": "stdout",
     "output_type": "stream",
     "text": [
      "Training Step: 2726  | total loss: \u001b[1m\u001b[32m0.61182\u001b[0m\u001b[0m | time: 48.217s\n\u001b[2K\r| Adam | epoch: 009 | loss: 0.61182 - acc: 0.6221 -- iter: 12160/20250\n"
     ]
    },
    {
     "name": "stdout",
     "output_type": "stream",
     "text": [
      "Training Step: 2727  | total loss: \u001b[1m\u001b[32m0.60866\u001b[0m\u001b[0m | time: 48.465s\n\u001b[2K\r| Adam | epoch: 009 | loss: 0.60866 - acc: 0.6395 -- iter: 12224/20250\n"
     ]
    },
    {
     "name": "stdout",
     "output_type": "stream",
     "text": [
      "Training Step: 2728  | total loss: \u001b[1m\u001b[32m0.60504\u001b[0m\u001b[0m | time: 48.717s\n\u001b[2K\r| Adam | epoch: 009 | loss: 0.60504 - acc: 0.6443 -- iter: 12288/20250\n"
     ]
    },
    {
     "name": "stdout",
     "output_type": "stream",
     "text": [
      "Training Step: 2729  | total loss: \u001b[1m\u001b[32m0.60008\u001b[0m\u001b[0m | time: 48.979s\n\u001b[2K\r| Adam | epoch: 009 | loss: 0.60008 - acc: 0.6471 -- iter: 12352/20250\n"
     ]
    },
    {
     "name": "stdout",
     "output_type": "stream",
     "text": [
      "Training Step: 2730  | total loss: \u001b[1m\u001b[32m0.60310\u001b[0m\u001b[0m | time: 49.257s\n\u001b[2K\r| Adam | epoch: 009 | loss: 0.60310 - acc: 0.6402 -- iter: 12416/20250\n"
     ]
    },
    {
     "name": "stdout",
     "output_type": "stream",
     "text": [
      "Training Step: 2731  | total loss: \u001b[1m\u001b[32m0.60243\u001b[0m\u001b[0m | time: 49.499s\n\u001b[2K\r| Adam | epoch: 009 | loss: 0.60243 - acc: 0.6481 -- iter: 12480/20250\n"
     ]
    },
    {
     "name": "stdout",
     "output_type": "stream",
     "text": [
      "Training Step: 2732  | total loss: \u001b[1m\u001b[32m0.60002\u001b[0m\u001b[0m | time: 49.817s\n\u001b[2K\r| Adam | epoch: 009 | loss: 0.60002 - acc: 0.6473 -- iter: 12544/20250\n"
     ]
    },
    {
     "name": "stdout",
     "output_type": "stream",
     "text": [
      "Training Step: 2733  | total loss: \u001b[1m\u001b[32m0.60177\u001b[0m\u001b[0m | time: 50.067s\n\u001b[2K\r| Adam | epoch: 009 | loss: 0.60177 - acc: 0.6482 -- iter: 12608/20250\n"
     ]
    },
    {
     "name": "stdout",
     "output_type": "stream",
     "text": [
      "Training Step: 2734  | total loss: \u001b[1m\u001b[32m0.60422\u001b[0m\u001b[0m | time: 50.311s\n\u001b[2K\r| Adam | epoch: 009 | loss: 0.60422 - acc: 0.6412 -- iter: 12672/20250\n"
     ]
    },
    {
     "name": "stdout",
     "output_type": "stream",
     "text": [
      "Training Step: 2735  | total loss: \u001b[1m\u001b[32m0.60652\u001b[0m\u001b[0m | time: 50.562s\n\u001b[2K\r| Adam | epoch: 009 | loss: 0.60652 - acc: 0.6365 -- iter: 12736/20250\n"
     ]
    },
    {
     "name": "stdout",
     "output_type": "stream",
     "text": [
      "Training Step: 2736  | total loss: \u001b[1m\u001b[32m0.60364\u001b[0m\u001b[0m | time: 50.809s\n\u001b[2K\r| Adam | epoch: 009 | loss: 0.60364 - acc: 0.6416 -- iter: 12800/20250\n"
     ]
    },
    {
     "name": "stdout",
     "output_type": "stream",
     "text": [
      "Training Step: 2737  | total loss: \u001b[1m\u001b[32m0.60033\u001b[0m\u001b[0m | time: 51.052s\n\u001b[2K\r| Adam | epoch: 009 | loss: 0.60033 - acc: 0.6462 -- iter: 12864/20250\n"
     ]
    },
    {
     "name": "stdout",
     "output_type": "stream",
     "text": [
      "Training Step: 2738  | total loss: \u001b[1m\u001b[32m0.59401\u001b[0m\u001b[0m | time: 51.299s\n\u001b[2K\r| Adam | epoch: 009 | loss: 0.59401 - acc: 0.6503 -- iter: 12928/20250\n"
     ]
    },
    {
     "name": "stdout",
     "output_type": "stream",
     "text": [
      "Training Step: 2739  | total loss: \u001b[1m\u001b[32m0.59389\u001b[0m\u001b[0m | time: 51.605s\n\u001b[2K\r| Adam | epoch: 009 | loss: 0.59389 - acc: 0.6478 -- iter: 12992/20250\n"
     ]
    },
    {
     "name": "stdout",
     "output_type": "stream",
     "text": [
      "Training Step: 2740  | total loss: \u001b[1m\u001b[32m0.59592\u001b[0m\u001b[0m | time: 51.894s\n\u001b[2K\r| Adam | epoch: 009 | loss: 0.59592 - acc: 0.6424 -- iter: 13056/20250\n"
     ]
    },
    {
     "name": "stdout",
     "output_type": "stream",
     "text": [
      "Training Step: 2741  | total loss: \u001b[1m\u001b[32m0.59814\u001b[0m\u001b[0m | time: 52.140s\n\u001b[2K\r| Adam | epoch: 009 | loss: 0.59814 - acc: 0.6437 -- iter: 13120/20250\n"
     ]
    },
    {
     "name": "stdout",
     "output_type": "stream",
     "text": [
      "Training Step: 2742  | total loss: \u001b[1m\u001b[32m0.59758\u001b[0m\u001b[0m | time: 52.386s\n\u001b[2K\r| Adam | epoch: 009 | loss: 0.59758 - acc: 0.6372 -- iter: 13184/20250\n"
     ]
    },
    {
     "name": "stdout",
     "output_type": "stream",
     "text": [
      "Training Step: 2743  | total loss: \u001b[1m\u001b[32m0.59656\u001b[0m\u001b[0m | time: 52.640s\n\u001b[2K\r| Adam | epoch: 009 | loss: 0.59656 - acc: 0.6297 -- iter: 13248/20250\n"
     ]
    },
    {
     "name": "stdout",
     "output_type": "stream",
     "text": [
      "Training Step: 2744  | total loss: \u001b[1m\u001b[32m0.59728\u001b[0m\u001b[0m | time: 52.888s\n\u001b[2K\r| Adam | epoch: 009 | loss: 0.59728 - acc: 0.6277 -- iter: 13312/20250\n"
     ]
    },
    {
     "name": "stdout",
     "output_type": "stream",
     "text": [
      "Training Step: 2745  | total loss: \u001b[1m\u001b[32m0.59772\u001b[0m\u001b[0m | time: 53.139s\n\u001b[2K\r| Adam | epoch: 009 | loss: 0.59772 - acc: 0.6227 -- iter: 13376/20250\n"
     ]
    },
    {
     "name": "stdout",
     "output_type": "stream",
     "text": [
      "Training Step: 2746  | total loss: \u001b[1m\u001b[32m0.59576\u001b[0m\u001b[0m | time: 53.384s\n\u001b[2K\r| Adam | epoch: 009 | loss: 0.59576 - acc: 0.6230 -- iter: 13440/20250\n"
     ]
    },
    {
     "name": "stdout",
     "output_type": "stream",
     "text": [
      "Training Step: 2747  | total loss: \u001b[1m\u001b[32m0.59377\u001b[0m\u001b[0m | time: 53.634s\n\u001b[2K\r| Adam | epoch: 009 | loss: 0.59377 - acc: 0.6247 -- iter: 13504/20250\n"
     ]
    },
    {
     "name": "stdout",
     "output_type": "stream",
     "text": [
      "Training Step: 2748  | total loss: \u001b[1m\u001b[32m0.59337\u001b[0m\u001b[0m | time: 53.896s\n\u001b[2K\r| Adam | epoch: 009 | loss: 0.59337 - acc: 0.6279 -- iter: 13568/20250\n"
     ]
    },
    {
     "name": "stdout",
     "output_type": "stream",
     "text": [
      "Training Step: 2749  | total loss: \u001b[1m\u001b[32m0.59406\u001b[0m\u001b[0m | time: 54.141s\n\u001b[2K\r| Adam | epoch: 009 | loss: 0.59406 - acc: 0.6338 -- iter: 13632/20250\n"
     ]
    },
    {
     "name": "stdout",
     "output_type": "stream",
     "text": [
      "Training Step: 2750  | total loss: \u001b[1m\u001b[32m0.58432\u001b[0m\u001b[0m | time: 54.429s\n\u001b[2K\r| Adam | epoch: 009 | loss: 0.58432 - acc: 0.6470 -- iter: 13696/20250\n"
     ]
    },
    {
     "name": "stdout",
     "output_type": "stream",
     "text": [
      "Training Step: 2751  | total loss: \u001b[1m\u001b[32m0.58479\u001b[0m\u001b[0m | time: 54.680s\n\u001b[2K\r| Adam | epoch: 009 | loss: 0.58479 - acc: 0.6464 -- iter: 13760/20250\n"
     ]
    },
    {
     "name": "stdout",
     "output_type": "stream",
     "text": [
      "Training Step: 2752  | total loss: \u001b[1m\u001b[32m0.59194\u001b[0m\u001b[0m | time: 54.927s\n\u001b[2K\r| Adam | epoch: 009 | loss: 0.59194 - acc: 0.6380 -- iter: 13824/20250\n"
     ]
    },
    {
     "name": "stdout",
     "output_type": "stream",
     "text": [
      "Training Step: 2753  | total loss: \u001b[1m\u001b[32m0.59038\u001b[0m\u001b[0m | time: 55.167s\n\u001b[2K\r| Adam | epoch: 009 | loss: 0.59038 - acc: 0.6429 -- iter: 13888/20250\n"
     ]
    },
    {
     "name": "stdout",
     "output_type": "stream",
     "text": [
      "Training Step: 2754  | total loss: \u001b[1m\u001b[32m0.59211\u001b[0m\u001b[0m | time: 55.421s\n\u001b[2K\r| Adam | epoch: 009 | loss: 0.59211 - acc: 0.6443 -- iter: 13952/20250\n"
     ]
    },
    {
     "name": "stdout",
     "output_type": "stream",
     "text": [
      "Training Step: 2755  | total loss: \u001b[1m\u001b[32m0.59045\u001b[0m\u001b[0m | time: 55.666s\n\u001b[2K\r| Adam | epoch: 009 | loss: 0.59045 - acc: 0.6439 -- iter: 14016/20250\n"
     ]
    },
    {
     "name": "stdout",
     "output_type": "stream",
     "text": [
      "Training Step: 2756  | total loss: \u001b[1m\u001b[32m0.58720\u001b[0m\u001b[0m | time: 55.920s\n\u001b[2K\r| Adam | epoch: 009 | loss: 0.58720 - acc: 0.6498 -- iter: 14080/20250\n"
     ]
    },
    {
     "name": "stdout",
     "output_type": "stream",
     "text": [
      "Training Step: 2757  | total loss: \u001b[1m\u001b[32m0.58291\u001b[0m\u001b[0m | time: 56.172s\n\u001b[2K\r| Adam | epoch: 009 | loss: 0.58291 - acc: 0.6552 -- iter: 14144/20250\n"
     ]
    },
    {
     "name": "stdout",
     "output_type": "stream",
     "text": [
      "Training Step: 2758  | total loss: \u001b[1m\u001b[32m0.58296\u001b[0m\u001b[0m | time: 56.416s\n\u001b[2K\r| Adam | epoch: 009 | loss: 0.58296 - acc: 0.6553 -- iter: 14208/20250\n"
     ]
    },
    {
     "name": "stdout",
     "output_type": "stream",
     "text": [
      "Training Step: 2759  | total loss: \u001b[1m\u001b[32m0.58035\u001b[0m\u001b[0m | time: 56.687s\n\u001b[2K\r| Adam | epoch: 009 | loss: 0.58035 - acc: 0.6554 -- iter: 14272/20250\n"
     ]
    },
    {
     "name": "stdout",
     "output_type": "stream",
     "text": [
      "Training Step: 2760  | total loss: \u001b[1m\u001b[32m0.57162\u001b[0m\u001b[0m | time: 56.985s\n\u001b[2K\r| Adam | epoch: 009 | loss: 0.57162 - acc: 0.6617 -- iter: 14336/20250\n"
     ]
    },
    {
     "name": "stdout",
     "output_type": "stream",
     "text": [
      "Training Step: 2761  | total loss: \u001b[1m\u001b[32m0.56943\u001b[0m\u001b[0m | time: 57.228s\n\u001b[2K\r| Adam | epoch: 009 | loss: 0.56943 - acc: 0.6627 -- iter: 14400/20250\n"
     ]
    },
    {
     "name": "stdout",
     "output_type": "stream",
     "text": [
      "Training Step: 2762  | total loss: \u001b[1m\u001b[32m0.57091\u001b[0m\u001b[0m | time: 57.482s\n\u001b[2K\r| Adam | epoch: 009 | loss: 0.57091 - acc: 0.6621 -- iter: 14464/20250\n"
     ]
    },
    {
     "name": "stdout",
     "output_type": "stream",
     "text": [
      "Training Step: 2763  | total loss: \u001b[1m\u001b[32m0.56738\u001b[0m\u001b[0m | time: 57.732s\n\u001b[2K\r| Adam | epoch: 009 | loss: 0.56738 - acc: 0.6677 -- iter: 14528/20250\n"
     ]
    },
    {
     "name": "stdout",
     "output_type": "stream",
     "text": [
      "Training Step: 2764  | total loss: \u001b[1m\u001b[32m0.56924\u001b[0m\u001b[0m | time: 57.980s\n\u001b[2K\r| Adam | epoch: 009 | loss: 0.56924 - acc: 0.6744 -- iter: 14592/20250\n"
     ]
    },
    {
     "name": "stdout",
     "output_type": "stream",
     "text": [
      "Training Step: 2765  | total loss: \u001b[1m\u001b[32m0.56728\u001b[0m\u001b[0m | time: 58.227s\n\u001b[2K\r| Adam | epoch: 009 | loss: 0.56728 - acc: 0.6773 -- iter: 14656/20250\n"
     ]
    },
    {
     "name": "stdout",
     "output_type": "stream",
     "text": [
      "Training Step: 2766  | total loss: \u001b[1m\u001b[32m0.56518\u001b[0m\u001b[0m | time: 58.481s\n\u001b[2K\r| Adam | epoch: 009 | loss: 0.56518 - acc: 0.6814 -- iter: 14720/20250\n"
     ]
    },
    {
     "name": "stdout",
     "output_type": "stream",
     "text": [
      "Training Step: 2767  | total loss: \u001b[1m\u001b[32m0.56951\u001b[0m\u001b[0m | time: 58.729s\n\u001b[2K\r| Adam | epoch: 009 | loss: 0.56951 - acc: 0.6836 -- iter: 14784/20250\n"
     ]
    },
    {
     "name": "stdout",
     "output_type": "stream",
     "text": [
      "Training Step: 2768  | total loss: \u001b[1m\u001b[32m0.56719\u001b[0m\u001b[0m | time: 58.984s\n\u001b[2K\r| Adam | epoch: 009 | loss: 0.56719 - acc: 0.6824 -- iter: 14848/20250\n"
     ]
    },
    {
     "name": "stdout",
     "output_type": "stream",
     "text": [
      "Training Step: 2769  | total loss: \u001b[1m\u001b[32m0.57384\u001b[0m\u001b[0m | time: 59.244s\n\u001b[2K\r| Adam | epoch: 009 | loss: 0.57384 - acc: 0.6736 -- iter: 14912/20250\n"
     ]
    },
    {
     "name": "stdout",
     "output_type": "stream",
     "text": [
      "Training Step: 2770  | total loss: \u001b[1m\u001b[32m0.57247\u001b[0m\u001b[0m | time: 59.530s\n\u001b[2K\r| Adam | epoch: 009 | loss: 0.57247 - acc: 0.6765 -- iter: 14976/20250\n"
     ]
    },
    {
     "name": "stdout",
     "output_type": "stream",
     "text": [
      "Training Step: 2771  | total loss: \u001b[1m\u001b[32m0.57543\u001b[0m\u001b[0m | time: 59.777s\n\u001b[2K\r| Adam | epoch: 009 | loss: 0.57543 - acc: 0.6760 -- iter: 15040/20250\n"
     ]
    },
    {
     "name": "stdout",
     "output_type": "stream",
     "text": [
      "Training Step: 2772  | total loss: \u001b[1m\u001b[32m0.57595\u001b[0m\u001b[0m | time: 60.024s\n\u001b[2K\r| Adam | epoch: 009 | loss: 0.57595 - acc: 0.6709 -- iter: 15104/20250\n"
     ]
    },
    {
     "name": "stdout",
     "output_type": "stream",
     "text": [
      "Training Step: 2773  | total loss: \u001b[1m\u001b[32m0.56918\u001b[0m\u001b[0m | time: 60.270s\n\u001b[2K\r| Adam | epoch: 009 | loss: 0.56918 - acc: 0.6804 -- iter: 15168/20250\n"
     ]
    },
    {
     "name": "stdout",
     "output_type": "stream",
     "text": [
      "Training Step: 2774  | total loss: \u001b[1m\u001b[32m0.56278\u001b[0m\u001b[0m | time: 60.513s\n\u001b[2K\r| Adam | epoch: 009 | loss: 0.56278 - acc: 0.6796 -- iter: 15232/20250\n"
     ]
    },
    {
     "name": "stdout",
     "output_type": "stream",
     "text": [
      "Training Step: 2775  | total loss: \u001b[1m\u001b[32m0.55891\u001b[0m\u001b[0m | time: 60.762s\n\u001b[2K\r| Adam | epoch: 009 | loss: 0.55891 - acc: 0.6882 -- iter: 15296/20250\n"
     ]
    },
    {
     "name": "stdout",
     "output_type": "stream",
     "text": [
      "Training Step: 2776  | total loss: \u001b[1m\u001b[32m0.56482\u001b[0m\u001b[0m | time: 61.009s\n\u001b[2K\r| Adam | epoch: 009 | loss: 0.56482 - acc: 0.6850 -- iter: 15360/20250\n"
     ]
    },
    {
     "name": "stdout",
     "output_type": "stream",
     "text": [
      "Training Step: 2777  | total loss: \u001b[1m\u001b[32m0.56078\u001b[0m\u001b[0m | time: 61.269s\n\u001b[2K\r| Adam | epoch: 009 | loss: 0.56078 - acc: 0.6868 -- iter: 15424/20250\n"
     ]
    },
    {
     "name": "stdout",
     "output_type": "stream",
     "text": [
      "Training Step: 2778  | total loss: \u001b[1m\u001b[32m0.56046\u001b[0m\u001b[0m | time: 61.520s\n\u001b[2K\r| Adam | epoch: 009 | loss: 0.56046 - acc: 0.6853 -- iter: 15488/20250\n"
     ]
    },
    {
     "name": "stdout",
     "output_type": "stream",
     "text": [
      "Training Step: 2779  | total loss: \u001b[1m\u001b[32m0.55523\u001b[0m\u001b[0m | time: 61.801s\n\u001b[2K\r| Adam | epoch: 009 | loss: 0.55523 - acc: 0.6902 -- iter: 15552/20250\n"
     ]
    },
    {
     "name": "stdout",
     "output_type": "stream",
     "text": [
      "Training Step: 2780  | total loss: \u001b[1m\u001b[32m0.54957\u001b[0m\u001b[0m | time: 62.071s\n\u001b[2K\r| Adam | epoch: 009 | loss: 0.54957 - acc: 0.6962 -- iter: 15616/20250\n"
     ]
    },
    {
     "name": "stdout",
     "output_type": "stream",
     "text": [
      "Training Step: 2781  | total loss: \u001b[1m\u001b[32m0.54011\u001b[0m\u001b[0m | time: 62.316s\n\u001b[2K\r| Adam | epoch: 009 | loss: 0.54011 - acc: 0.7047 -- iter: 15680/20250\n"
     ]
    },
    {
     "name": "stdout",
     "output_type": "stream",
     "text": [
      "Training Step: 2782  | total loss: \u001b[1m\u001b[32m0.53628\u001b[0m\u001b[0m | time: 62.564s\n\u001b[2K\r| Adam | epoch: 009 | loss: 0.53628 - acc: 0.7108 -- iter: 15744/20250\n"
     ]
    },
    {
     "name": "stdout",
     "output_type": "stream",
     "text": [
      "Training Step: 2783  | total loss: \u001b[1m\u001b[32m0.53336\u001b[0m\u001b[0m | time: 62.809s\n\u001b[2K\r| Adam | epoch: 009 | loss: 0.53336 - acc: 0.7194 -- iter: 15808/20250\n"
     ]
    },
    {
     "name": "stdout",
     "output_type": "stream",
     "text": [
      "Training Step: 2784  | total loss: \u001b[1m\u001b[32m0.52873\u001b[0m\u001b[0m | time: 63.050s\n\u001b[2K\r| Adam | epoch: 009 | loss: 0.52873 - acc: 0.7334 -- iter: 15872/20250\n"
     ]
    },
    {
     "name": "stdout",
     "output_type": "stream",
     "text": [
      "Training Step: 2785  | total loss: \u001b[1m\u001b[32m0.52832\u001b[0m\u001b[0m | time: 63.292s\n\u001b[2K\r| Adam | epoch: 009 | loss: 0.52832 - acc: 0.7366 -- iter: 15936/20250\n"
     ]
    },
    {
     "name": "stdout",
     "output_type": "stream",
     "text": [
      "Training Step: 2786  | total loss: \u001b[1m\u001b[32m0.53383\u001b[0m\u001b[0m | time: 63.538s\n\u001b[2K\r| Adam | epoch: 009 | loss: 0.53383 - acc: 0.7333 -- iter: 16000/20250\n"
     ]
    },
    {
     "name": "stdout",
     "output_type": "stream",
     "text": [
      "Training Step: 2787  | total loss: \u001b[1m\u001b[32m0.53525\u001b[0m\u001b[0m | time: 63.784s\n\u001b[2K\r| Adam | epoch: 009 | loss: 0.53525 - acc: 0.7303 -- iter: 16064/20250\n"
     ]
    },
    {
     "name": "stdout",
     "output_type": "stream",
     "text": [
      "Training Step: 2788  | total loss: \u001b[1m\u001b[32m0.53086\u001b[0m\u001b[0m | time: 64.035s\n\u001b[2K\r| Adam | epoch: 009 | loss: 0.53086 - acc: 0.7354 -- iter: 16128/20250\n"
     ]
    },
    {
     "name": "stdout",
     "output_type": "stream",
     "text": [
      "Training Step: 2789  | total loss: \u001b[1m\u001b[32m0.53119\u001b[0m\u001b[0m | time: 64.288s\n\u001b[2K\r| Adam | epoch: 009 | loss: 0.53119 - acc: 0.7337 -- iter: 16192/20250\n"
     ]
    },
    {
     "name": "stdout",
     "output_type": "stream",
     "text": [
      "Training Step: 2790  | total loss: \u001b[1m\u001b[32m0.51875\u001b[0m\u001b[0m | time: 64.604s\n\u001b[2K\r| Adam | epoch: 009 | loss: 0.51875 - acc: 0.7463 -- iter: 16256/20250\n"
     ]
    },
    {
     "name": "stdout",
     "output_type": "stream",
     "text": [
      "Training Step: 2791  | total loss: \u001b[1m\u001b[32m0.51435\u001b[0m\u001b[0m | time: 64.850s\n\u001b[2K\r| Adam | epoch: 009 | loss: 0.51435 - acc: 0.7529 -- iter: 16320/20250\n"
     ]
    },
    {
     "name": "stdout",
     "output_type": "stream",
     "text": [
      "Training Step: 2792  | total loss: \u001b[1m\u001b[32m0.51312\u001b[0m\u001b[0m | time: 65.096s\n\u001b[2K\r| Adam | epoch: 009 | loss: 0.51312 - acc: 0.7542 -- iter: 16384/20250\n"
     ]
    },
    {
     "name": "stdout",
     "output_type": "stream",
     "text": [
      "Training Step: 2793  | total loss: \u001b[1m\u001b[32m0.51817\u001b[0m\u001b[0m | time: 65.338s\n\u001b[2K\r| Adam | epoch: 009 | loss: 0.51817 - acc: 0.7506 -- iter: 16448/20250\n"
     ]
    },
    {
     "name": "stdout",
     "output_type": "stream",
     "text": [
      "Training Step: 2794  | total loss: \u001b[1m\u001b[32m0.50591\u001b[0m\u001b[0m | time: 65.596s\n\u001b[2K\r| Adam | epoch: 009 | loss: 0.50591 - acc: 0.7646 -- iter: 16512/20250\n"
     ]
    },
    {
     "name": "stdout",
     "output_type": "stream",
     "text": [
      "Training Step: 2795  | total loss: \u001b[1m\u001b[32m0.51040\u001b[0m\u001b[0m | time: 65.840s\n\u001b[2K\r| Adam | epoch: 009 | loss: 0.51040 - acc: 0.7647 -- iter: 16576/20250\n"
     ]
    },
    {
     "name": "stdout",
     "output_type": "stream",
     "text": [
      "Training Step: 2796  | total loss: \u001b[1m\u001b[32m0.51836\u001b[0m\u001b[0m | time: 66.087s\n\u001b[2K\r| Adam | epoch: 009 | loss: 0.51836 - acc: 0.7586 -- iter: 16640/20250\n"
     ]
    },
    {
     "name": "stdout",
     "output_type": "stream",
     "text": [
      "Training Step: 2797  | total loss: \u001b[1m\u001b[32m0.52837\u001b[0m\u001b[0m | time: 66.341s\n\u001b[2K\r| Adam | epoch: 009 | loss: 0.52837 - acc: 0.7499 -- iter: 16704/20250\n"
     ]
    },
    {
     "name": "stdout",
     "output_type": "stream",
     "text": [
      "Training Step: 2798  | total loss: \u001b[1m\u001b[32m0.53100\u001b[0m\u001b[0m | time: 66.584s\n\u001b[2K\r| Adam | epoch: 009 | loss: 0.53100 - acc: 0.7468 -- iter: 16768/20250\n"
     ]
    },
    {
     "name": "stdout",
     "output_type": "stream",
     "text": [
      "Training Step: 2799  | total loss: \u001b[1m\u001b[32m0.53763\u001b[0m\u001b[0m | time: 66.859s\n\u001b[2K\r| Adam | epoch: 009 | loss: 0.53763 - acc: 0.7330 -- iter: 16832/20250\n"
     ]
    },
    {
     "name": "stdout",
     "output_type": "stream",
     "text": [
      "Training Step: 2800  | total loss: \u001b[1m\u001b[32m0.53913\u001b[0m\u001b[0m | time: 67.126s\n\u001b[2K\r| Adam | epoch: 009 | loss: 0.53913 - acc: 0.7285 -- iter: 16896/20250\n"
     ]
    },
    {
     "name": "stdout",
     "output_type": "stream",
     "text": [
      "Training Step: 2801  | total loss: \u001b[1m\u001b[32m0.53653\u001b[0m\u001b[0m | time: 67.370s\n\u001b[2K\r| Adam | epoch: 009 | loss: 0.53653 - acc: 0.7322 -- iter: 16960/20250\n"
     ]
    },
    {
     "name": "stdout",
     "output_type": "stream",
     "text": [
      "Training Step: 2802  | total loss: \u001b[1m\u001b[32m0.53589\u001b[0m\u001b[0m | time: 67.641s\n\u001b[2K\r| Adam | epoch: 009 | loss: 0.53589 - acc: 0.7293 -- iter: 17024/20250\n"
     ]
    },
    {
     "name": "stdout",
     "output_type": "stream",
     "text": [
      "Training Step: 2803  | total loss: \u001b[1m\u001b[32m0.53581\u001b[0m\u001b[0m | time: 67.888s\n\u001b[2K\r| Adam | epoch: 009 | loss: 0.53581 - acc: 0.7282 -- iter: 17088/20250\n"
     ]
    },
    {
     "name": "stdout",
     "output_type": "stream",
     "text": [
      "Training Step: 2804  | total loss: \u001b[1m\u001b[32m0.53608\u001b[0m\u001b[0m | time: 68.143s\n\u001b[2K\r| Adam | epoch: 009 | loss: 0.53608 - acc: 0.7273 -- iter: 17152/20250\n"
     ]
    },
    {
     "name": "stdout",
     "output_type": "stream",
     "text": [
      "Training Step: 2805  | total loss: \u001b[1m\u001b[32m0.53673\u001b[0m\u001b[0m | time: 68.391s\n\u001b[2K\r| Adam | epoch: 009 | loss: 0.53673 - acc: 0.7202 -- iter: 17216/20250\n"
     ]
    },
    {
     "name": "stdout",
     "output_type": "stream",
     "text": [
      "Training Step: 2806  | total loss: \u001b[1m\u001b[32m0.54274\u001b[0m\u001b[0m | time: 68.643s\n\u001b[2K\r| Adam | epoch: 009 | loss: 0.54274 - acc: 0.7122 -- iter: 17280/20250\n"
     ]
    },
    {
     "name": "stdout",
     "output_type": "stream",
     "text": [
      "Training Step: 2807  | total loss: \u001b[1m\u001b[32m0.53769\u001b[0m\u001b[0m | time: 68.898s\n\u001b[2K\r| Adam | epoch: 009 | loss: 0.53769 - acc: 0.7176 -- iter: 17344/20250\n"
     ]
    },
    {
     "name": "stdout",
     "output_type": "stream",
     "text": [
      "Training Step: 2808  | total loss: \u001b[1m\u001b[32m0.53143\u001b[0m\u001b[0m | time: 69.145s\n\u001b[2K\r| Adam | epoch: 009 | loss: 0.53143 - acc: 0.7224 -- iter: 17408/20250\n"
     ]
    },
    {
     "name": "stdout",
     "output_type": "stream",
     "text": [
      "Training Step: 2809  | total loss: \u001b[1m\u001b[32m0.53497\u001b[0m\u001b[0m | time: 69.402s\n\u001b[2K\r| Adam | epoch: 009 | loss: 0.53497 - acc: 0.7236 -- iter: 17472/20250\n"
     ]
    },
    {
     "name": "stdout",
     "output_type": "stream",
     "text": [
      "Training Step: 2810  | total loss: \u001b[1m\u001b[32m0.52787\u001b[0m\u001b[0m | time: 69.655s\n\u001b[2K\r| Adam | epoch: 009 | loss: 0.52787 - acc: 0.7340 -- iter: 17536/20250\n"
     ]
    },
    {
     "name": "stdout",
     "output_type": "stream",
     "text": [
      "Training Step: 2811  | total loss: \u001b[1m\u001b[32m0.52544\u001b[0m\u001b[0m | time: 69.941s\n\u001b[2K\r| Adam | epoch: 009 | loss: 0.52544 - acc: 0.7372 -- iter: 17600/20250\n"
     ]
    },
    {
     "name": "stdout",
     "output_type": "stream",
     "text": [
      "Training Step: 2812  | total loss: \u001b[1m\u001b[32m0.51480\u001b[0m\u001b[0m | time: 70.195s\n\u001b[2K\r| Adam | epoch: 009 | loss: 0.51480 - acc: 0.7494 -- iter: 17664/20250\n"
     ]
    },
    {
     "name": "stdout",
     "output_type": "stream",
     "text": [
      "Training Step: 2813  | total loss: \u001b[1m\u001b[32m0.50864\u001b[0m\u001b[0m | time: 70.441s\n\u001b[2K\r| Adam | epoch: 009 | loss: 0.50864 - acc: 0.7542 -- iter: 17728/20250\n"
     ]
    },
    {
     "name": "stdout",
     "output_type": "stream",
     "text": [
      "Training Step: 2814  | total loss: \u001b[1m\u001b[32m0.50565\u001b[0m\u001b[0m | time: 70.685s\n\u001b[2K\r| Adam | epoch: 009 | loss: 0.50565 - acc: 0.7522 -- iter: 17792/20250\n"
     ]
    },
    {
     "name": "stdout",
     "output_type": "stream",
     "text": [
      "Training Step: 2815  | total loss: \u001b[1m\u001b[32m0.50038\u001b[0m\u001b[0m | time: 70.931s\n\u001b[2K\r| Adam | epoch: 009 | loss: 0.50038 - acc: 0.7582 -- iter: 17856/20250\n"
     ]
    },
    {
     "name": "stdout",
     "output_type": "stream",
     "text": [
      "Training Step: 2816  | total loss: \u001b[1m\u001b[32m0.49286\u001b[0m\u001b[0m | time: 71.171s\n\u001b[2K\r| Adam | epoch: 009 | loss: 0.49286 - acc: 0.7714 -- iter: 17920/20250\n"
     ]
    },
    {
     "name": "stdout",
     "output_type": "stream",
     "text": [
      "Training Step: 2817  | total loss: \u001b[1m\u001b[32m0.48606\u001b[0m\u001b[0m | time: 71.415s\n\u001b[2K\r| Adam | epoch: 009 | loss: 0.48606 - acc: 0.7771 -- iter: 17984/20250\n"
     ]
    },
    {
     "name": "stdout",
     "output_type": "stream",
     "text": [
      "Training Step: 2818  | total loss: \u001b[1m\u001b[32m0.47964\u001b[0m\u001b[0m | time: 71.659s\n\u001b[2K\r| Adam | epoch: 009 | loss: 0.47964 - acc: 0.7822 -- iter: 18048/20250\n"
     ]
    },
    {
     "name": "stdout",
     "output_type": "stream",
     "text": [
      "Training Step: 2819  | total loss: \u001b[1m\u001b[32m0.47848\u001b[0m\u001b[0m | time: 71.914s\n\u001b[2K\r| Adam | epoch: 009 | loss: 0.47848 - acc: 0.7868 -- iter: 18112/20250\n"
     ]
    },
    {
     "name": "stdout",
     "output_type": "stream",
     "text": [
      "Training Step: 2820  | total loss: \u001b[1m\u001b[32m0.46833\u001b[0m\u001b[0m | time: 72.177s\n\u001b[2K\r| Adam | epoch: 009 | loss: 0.46833 - acc: 0.7925 -- iter: 18176/20250\n"
     ]
    },
    {
     "name": "stdout",
     "output_type": "stream",
     "text": [
      "Training Step: 2821  | total loss: \u001b[1m\u001b[32m0.47271\u001b[0m\u001b[0m | time: 72.446s\n\u001b[2K\r| Adam | epoch: 009 | loss: 0.47271 - acc: 0.7945 -- iter: 18240/20250\n"
     ]
    },
    {
     "name": "stdout",
     "output_type": "stream",
     "text": [
      "Training Step: 2822  | total loss: \u001b[1m\u001b[32m0.47553\u001b[0m\u001b[0m | time: 72.693s\n\u001b[2K\r| Adam | epoch: 009 | loss: 0.47553 - acc: 0.7854 -- iter: 18304/20250\n"
     ]
    },
    {
     "name": "stdout",
     "output_type": "stream",
     "text": [
      "Training Step: 2823  | total loss: \u001b[1m\u001b[32m0.47059\u001b[0m\u001b[0m | time: 72.945s\n\u001b[2K\r| Adam | epoch: 009 | loss: 0.47059 - acc: 0.7912 -- iter: 18368/20250\n"
     ]
    },
    {
     "name": "stdout",
     "output_type": "stream",
     "text": [
      "Training Step: 2824  | total loss: \u001b[1m\u001b[32m0.47025\u001b[0m\u001b[0m | time: 73.210s\n\u001b[2K\r| Adam | epoch: 009 | loss: 0.47025 - acc: 0.7933 -- iter: 18432/20250\n"
     ]
    },
    {
     "name": "stdout",
     "output_type": "stream",
     "text": [
      "Training Step: 2825  | total loss: \u001b[1m\u001b[32m0.47064\u001b[0m\u001b[0m | time: 73.461s\n\u001b[2K\r| Adam | epoch: 009 | loss: 0.47064 - acc: 0.7921 -- iter: 18496/20250\n"
     ]
    },
    {
     "name": "stdout",
     "output_type": "stream",
     "text": [
      "Training Step: 2826  | total loss: \u001b[1m\u001b[32m0.48165\u001b[0m\u001b[0m | time: 73.710s\n\u001b[2K\r| Adam | epoch: 009 | loss: 0.48165 - acc: 0.7910 -- iter: 18560/20250\n"
     ]
    },
    {
     "name": "stdout",
     "output_type": "stream",
     "text": [
      "Training Step: 2827  | total loss: \u001b[1m\u001b[32m0.47185\u001b[0m\u001b[0m | time: 73.952s\n\u001b[2K\r| Adam | epoch: 009 | loss: 0.47185 - acc: 0.7994 -- iter: 18624/20250\n"
     ]
    },
    {
     "name": "stdout",
     "output_type": "stream",
     "text": [
      "Training Step: 2828  | total loss: \u001b[1m\u001b[32m0.47829\u001b[0m\u001b[0m | time: 74.200s\n\u001b[2K\r| Adam | epoch: 009 | loss: 0.47829 - acc: 0.7914 -- iter: 18688/20250\n"
     ]
    },
    {
     "name": "stdout",
     "output_type": "stream",
     "text": [
      "Training Step: 2829  | total loss: \u001b[1m\u001b[32m0.46876\u001b[0m\u001b[0m | time: 74.446s\n\u001b[2K\r| Adam | epoch: 009 | loss: 0.46876 - acc: 0.7966 -- iter: 18752/20250\n"
     ]
    },
    {
     "name": "stdout",
     "output_type": "stream",
     "text": [
      "Training Step: 2830  | total loss: \u001b[1m\u001b[32m0.46019\u001b[0m\u001b[0m | time: 74.696s\n\u001b[2K\r| Adam | epoch: 009 | loss: 0.46019 - acc: 0.7998 -- iter: 18816/20250\n"
     ]
    },
    {
     "name": "stdout",
     "output_type": "stream",
     "text": [
      "Training Step: 2831  | total loss: \u001b[1m\u001b[32m0.45654\u001b[0m\u001b[0m | time: 74.972s\n\u001b[2K\r| Adam | epoch: 009 | loss: 0.45654 - acc: 0.8026 -- iter: 18880/20250\n"
     ]
    },
    {
     "name": "stdout",
     "output_type": "stream",
     "text": [
      "Training Step: 2832  | total loss: \u001b[1m\u001b[32m0.45637\u001b[0m\u001b[0m | time: 75.223s\n\u001b[2K\r| Adam | epoch: 009 | loss: 0.45637 - acc: 0.8005 -- iter: 18944/20250\n"
     ]
    },
    {
     "name": "stdout",
     "output_type": "stream",
     "text": [
      "Training Step: 2833  | total loss: \u001b[1m\u001b[32m0.47471\u001b[0m\u001b[0m | time: 75.472s\n\u001b[2K\r| Adam | epoch: 009 | loss: 0.47471 - acc: 0.7939 -- iter: 19008/20250\n"
     ]
    },
    {
     "name": "stdout",
     "output_type": "stream",
     "text": [
      "Training Step: 2834  | total loss: \u001b[1m\u001b[32m0.47083\u001b[0m\u001b[0m | time: 75.714s\n\u001b[2K\r| Adam | epoch: 009 | loss: 0.47083 - acc: 0.8020 -- iter: 19072/20250\n"
     ]
    },
    {
     "name": "stdout",
     "output_type": "stream",
     "text": [
      "Training Step: 2835  | total loss: \u001b[1m\u001b[32m0.47505\u001b[0m\u001b[0m | time: 75.959s\n\u001b[2K\r| Adam | epoch: 009 | loss: 0.47505 - acc: 0.7999 -- iter: 19136/20250\n"
     ]
    },
    {
     "name": "stdout",
     "output_type": "stream",
     "text": [
      "Training Step: 2836  | total loss: \u001b[1m\u001b[32m0.48805\u001b[0m\u001b[0m | time: 76.208s\n\u001b[2K\r| Adam | epoch: 009 | loss: 0.48805 - acc: 0.7933 -- iter: 19200/20250\n"
     ]
    },
    {
     "name": "stdout",
     "output_type": "stream",
     "text": [
      "Training Step: 2837  | total loss: \u001b[1m\u001b[32m0.49114\u001b[0m\u001b[0m | time: 76.449s\n\u001b[2K\r| Adam | epoch: 009 | loss: 0.49114 - acc: 0.7937 -- iter: 19264/20250\n"
     ]
    },
    {
     "name": "stdout",
     "output_type": "stream",
     "text": [
      "Training Step: 2838  | total loss: \u001b[1m\u001b[32m0.49256\u001b[0m\u001b[0m | time: 76.699s\n\u001b[2K\r| Adam | epoch: 009 | loss: 0.49256 - acc: 0.7940 -- iter: 19328/20250\n"
     ]
    },
    {
     "name": "stdout",
     "output_type": "stream",
     "text": [
      "Training Step: 2839  | total loss: \u001b[1m\u001b[32m0.49756\u001b[0m\u001b[0m | time: 76.946s\n\u001b[2K\r| Adam | epoch: 009 | loss: 0.49756 - acc: 0.7865 -- iter: 19392/20250\n"
     ]
    },
    {
     "name": "stdout",
     "output_type": "stream",
     "text": [
      "Training Step: 2840  | total loss: \u001b[1m\u001b[32m0.51102\u001b[0m\u001b[0m | time: 77.204s\n\u001b[2K\r| Adam | epoch: 009 | loss: 0.51102 - acc: 0.7766 -- iter: 19456/20250\n"
     ]
    },
    {
     "name": "stdout",
     "output_type": "stream",
     "text": [
      "Training Step: 2841  | total loss: \u001b[1m\u001b[32m0.50851\u001b[0m\u001b[0m | time: 77.471s\n\u001b[2K\r| Adam | epoch: 009 | loss: 0.50851 - acc: 0.7786 -- iter: 19520/20250\n"
     ]
    },
    {
     "name": "stdout",
     "output_type": "stream",
     "text": [
      "Training Step: 2842  | total loss: \u001b[1m\u001b[32m0.50009\u001b[0m\u001b[0m | time: 77.750s\n\u001b[2K\r| Adam | epoch: 009 | loss: 0.50009 - acc: 0.7820 -- iter: 19584/20250\n"
     ]
    },
    {
     "name": "stdout",
     "output_type": "stream",
     "text": [
      "Training Step: 2843  | total loss: \u001b[1m\u001b[32m0.49816\u001b[0m\u001b[0m | time: 77.996s\n\u001b[2K\r| Adam | epoch: 009 | loss: 0.49816 - acc: 0.7804 -- iter: 19648/20250\n"
     ]
    },
    {
     "name": "stdout",
     "output_type": "stream",
     "text": [
      "Training Step: 2844  | total loss: \u001b[1m\u001b[32m0.49099\u001b[0m\u001b[0m | time: 78.241s\n\u001b[2K\r| Adam | epoch: 009 | loss: 0.49099 - acc: 0.7883 -- iter: 19712/20250\n"
     ]
    },
    {
     "name": "stdout",
     "output_type": "stream",
     "text": [
      "Training Step: 2845  | total loss: \u001b[1m\u001b[32m0.47552\u001b[0m\u001b[0m | time: 78.489s\n\u001b[2K\r| Adam | epoch: 009 | loss: 0.47552 - acc: 0.8001 -- iter: 19776/20250\n"
     ]
    },
    {
     "name": "stdout",
     "output_type": "stream",
     "text": [
      "Training Step: 2846  | total loss: \u001b[1m\u001b[32m0.47813\u001b[0m\u001b[0m | time: 78.736s\n\u001b[2K\r| Adam | epoch: 009 | loss: 0.47813 - acc: 0.7997 -- iter: 19840/20250\n"
     ]
    },
    {
     "name": "stdout",
     "output_type": "stream",
     "text": [
      "Training Step: 2847  | total loss: \u001b[1m\u001b[32m0.48002\u001b[0m\u001b[0m | time: 78.986s\n\u001b[2K\r| Adam | epoch: 009 | loss: 0.48002 - acc: 0.7995 -- iter: 19904/20250\n"
     ]
    },
    {
     "name": "stdout",
     "output_type": "stream",
     "text": [
      "Training Step: 2848  | total loss: \u001b[1m\u001b[32m0.47434\u001b[0m\u001b[0m | time: 79.229s\n\u001b[2K\r| Adam | epoch: 009 | loss: 0.47434 - acc: 0.8023 -- iter: 19968/20250\n"
     ]
    },
    {
     "name": "stdout",
     "output_type": "stream",
     "text": [
      "Training Step: 2849  | total loss: \u001b[1m\u001b[32m0.46276\u001b[0m\u001b[0m | time: 79.476s\n\u001b[2K\r| Adam | epoch: 009 | loss: 0.46276 - acc: 0.8080 -- iter: 20032/20250\n"
     ]
    },
    {
     "name": "stdout",
     "output_type": "stream",
     "text": [
      "Training Step: 2850  | total loss: \u001b[1m\u001b[32m0.45524\u001b[0m\u001b[0m | time: 79.722s\n\u001b[2K\r| Adam | epoch: 009 | loss: 0.45524 - acc: 0.8100 -- iter: 20096/20250\n"
     ]
    },
    {
     "name": "stdout",
     "output_type": "stream",
     "text": [
      "Training Step: 2851  | total loss: \u001b[1m\u001b[32m0.45454\u001b[0m\u001b[0m | time: 79.993s\n\u001b[2K\r| Adam | epoch: 009 | loss: 0.45454 - acc: 0.8087 -- iter: 20160/20250\n"
     ]
    },
    {
     "name": "stdout",
     "output_type": "stream",
     "text": [
      "Training Step: 2852  | total loss: \u001b[1m\u001b[32m0.45079\u001b[0m\u001b[0m | time: 80.275s\n\u001b[2K\r| Adam | epoch: 009 | loss: 0.45079 - acc: 0.8075 -- iter: 20224/20250\n"
     ]
    },
    {
     "name": "stdout",
     "output_type": "stream",
     "text": [
      "Training Step: 2853  | total loss: \u001b[1m\u001b[32m0.45818\u001b[0m\u001b[0m | time: 82.228s\n\u001b[2K\r| Adam | epoch: 009 | loss: 0.45818 - acc: 0.8002 | val_loss: 0.62343 - val_acc: 0.7373 -- iter: 20250/20250\n--\n"
     ]
    },
    {
     "name": "stdout",
     "output_type": "stream",
     "text": [
      "Training Step: 2854  | total loss: \u001b[1m\u001b[32m0.45128\u001b[0m\u001b[0m | time: 0.247s\n\u001b[2K\r| Adam | epoch: 010 | loss: 0.45128 - acc: 0.8061 -- iter: 00064/20250\n"
     ]
    },
    {
     "name": "stdout",
     "output_type": "stream",
     "text": [
      "Training Step: 2855  | total loss: \u001b[1m\u001b[32m0.44118\u001b[0m\u001b[0m | time: 0.531s\n\u001b[2K\r| Adam | epoch: 010 | loss: 0.44118 - acc: 0.8115 -- iter: 00128/20250\n"
     ]
    },
    {
     "name": "stdout",
     "output_type": "stream",
     "text": [
      "Training Step: 2856  | total loss: \u001b[1m\u001b[32m0.44038\u001b[0m\u001b[0m | time: 0.786s\n\u001b[2K\r| Adam | epoch: 010 | loss: 0.44038 - acc: 0.8131 -- iter: 00192/20250\n"
     ]
    },
    {
     "name": "stdout",
     "output_type": "stream",
     "text": [
      "Training Step: 2857  | total loss: \u001b[1m\u001b[32m0.43640\u001b[0m\u001b[0m | time: 1.031s\n\u001b[2K\r| Adam | epoch: 010 | loss: 0.43640 - acc: 0.8131 -- iter: 00256/20250\n"
     ]
    },
    {
     "name": "stdout",
     "output_type": "stream",
     "text": [
      "Training Step: 2858  | total loss: \u001b[1m\u001b[32m0.43590\u001b[0m\u001b[0m | time: 1.278s\n\u001b[2K\r| Adam | epoch: 010 | loss: 0.43590 - acc: 0.8161 -- iter: 00320/20250\n"
     ]
    },
    {
     "name": "stdout",
     "output_type": "stream",
     "text": [
      "Training Step: 2859  | total loss: \u001b[1m\u001b[32m0.43481\u001b[0m\u001b[0m | time: 1.523s\n\u001b[2K\r| Adam | epoch: 010 | loss: 0.43481 - acc: 0.8126 -- iter: 00384/20250\n"
     ]
    },
    {
     "name": "stdout",
     "output_type": "stream",
     "text": [
      "Training Step: 2860  | total loss: \u001b[1m\u001b[32m0.44267\u001b[0m\u001b[0m | time: 1.770s\n\u001b[2K\r| Adam | epoch: 010 | loss: 0.44267 - acc: 0.8079 -- iter: 00448/20250\n"
     ]
    },
    {
     "name": "stdout",
     "output_type": "stream",
     "text": [
      "Training Step: 2861  | total loss: \u001b[1m\u001b[32m0.45141\u001b[0m\u001b[0m | time: 2.010s\n\u001b[2K\r| Adam | epoch: 010 | loss: 0.45141 - acc: 0.8037 -- iter: 00512/20250\n"
     ]
    },
    {
     "name": "stdout",
     "output_type": "stream",
     "text": [
      "Training Step: 2862  | total loss: \u001b[1m\u001b[32m0.43994\u001b[0m\u001b[0m | time: 2.255s\n\u001b[2K\r| Adam | epoch: 010 | loss: 0.43994 - acc: 0.8118 -- iter: 00576/20250\n"
     ]
    },
    {
     "name": "stdout",
     "output_type": "stream",
     "text": [
      "Training Step: 2863  | total loss: \u001b[1m\u001b[32m0.43401\u001b[0m\u001b[0m | time: 2.501s\n\u001b[2K\r| Adam | epoch: 010 | loss: 0.43401 - acc: 0.8191 -- iter: 00640/20250\n"
     ]
    },
    {
     "name": "stdout",
     "output_type": "stream",
     "text": [
      "Training Step: 2864  | total loss: \u001b[1m\u001b[32m0.42543\u001b[0m\u001b[0m | time: 2.760s\n\u001b[2K\r| Adam | epoch: 010 | loss: 0.42543 - acc: 0.8215 -- iter: 00704/20250\n"
     ]
    },
    {
     "name": "stdout",
     "output_type": "stream",
     "text": [
      "Training Step: 2865  | total loss: \u001b[1m\u001b[32m0.43373\u001b[0m\u001b[0m | time: 3.076s\n\u001b[2K\r| Adam | epoch: 010 | loss: 0.43373 - acc: 0.8144 -- iter: 00768/20250\n"
     ]
    },
    {
     "name": "stdout",
     "output_type": "stream",
     "text": [
      "Training Step: 2866  | total loss: \u001b[1m\u001b[32m0.43122\u001b[0m\u001b[0m | time: 3.347s\n\u001b[2K\r| Adam | epoch: 010 | loss: 0.43122 - acc: 0.8205 -- iter: 00832/20250\n"
     ]
    },
    {
     "name": "stdout",
     "output_type": "stream",
     "text": [
      "Training Step: 2867  | total loss: \u001b[1m\u001b[32m0.44600\u001b[0m\u001b[0m | time: 3.593s\n\u001b[2K\r| Adam | epoch: 010 | loss: 0.44600 - acc: 0.8150 -- iter: 00896/20250\n"
     ]
    },
    {
     "name": "stdout",
     "output_type": "stream",
     "text": [
      "Training Step: 2868  | total loss: \u001b[1m\u001b[32m0.44688\u001b[0m\u001b[0m | time: 3.837s\n\u001b[2K\r| Adam | epoch: 010 | loss: 0.44688 - acc: 0.8116 -- iter: 00960/20250\n"
     ]
    },
    {
     "name": "stdout",
     "output_type": "stream",
     "text": [
      "Training Step: 2869  | total loss: \u001b[1m\u001b[32m0.44113\u001b[0m\u001b[0m | time: 4.085s\n\u001b[2K\r| Adam | epoch: 010 | loss: 0.44113 - acc: 0.8117 -- iter: 01024/20250\n"
     ]
    },
    {
     "name": "stdout",
     "output_type": "stream",
     "text": [
      "Training Step: 2870  | total loss: \u001b[1m\u001b[32m0.44514\u001b[0m\u001b[0m | time: 4.331s\n\u001b[2K\r| Adam | epoch: 010 | loss: 0.44514 - acc: 0.8102 -- iter: 01088/20250\n"
     ]
    },
    {
     "name": "stdout",
     "output_type": "stream",
     "text": [
      "Training Step: 2871  | total loss: \u001b[1m\u001b[32m0.43681\u001b[0m\u001b[0m | time: 4.575s\n\u001b[2K\r| Adam | epoch: 010 | loss: 0.43681 - acc: 0.8151 -- iter: 01152/20250\n"
     ]
    },
    {
     "name": "stdout",
     "output_type": "stream",
     "text": [
      "Training Step: 2872  | total loss: \u001b[1m\u001b[32m0.44050\u001b[0m\u001b[0m | time: 4.827s\n\u001b[2K\r| Adam | epoch: 010 | loss: 0.44050 - acc: 0.8133 -- iter: 01216/20250\n"
     ]
    },
    {
     "name": "stdout",
     "output_type": "stream",
     "text": [
      "Training Step: 2873  | total loss: \u001b[1m\u001b[32m0.43448\u001b[0m\u001b[0m | time: 5.077s\n\u001b[2K\r| Adam | epoch: 010 | loss: 0.43448 - acc: 0.8195 -- iter: 01280/20250\n"
     ]
    },
    {
     "name": "stdout",
     "output_type": "stream",
     "text": [
      "Training Step: 2874  | total loss: \u001b[1m\u001b[32m0.41924\u001b[0m\u001b[0m | time: 5.340s\n\u001b[2K\r| Adam | epoch: 010 | loss: 0.41924 - acc: 0.8313 -- iter: 01344/20250\n"
     ]
    },
    {
     "name": "stdout",
     "output_type": "stream",
     "text": [
      "Training Step: 2875  | total loss: \u001b[1m\u001b[32m0.42074\u001b[0m\u001b[0m | time: 5.625s\n\u001b[2K\r| Adam | epoch: 010 | loss: 0.42074 - acc: 0.8294 -- iter: 01408/20250\n"
     ]
    },
    {
     "name": "stdout",
     "output_type": "stream",
     "text": [
      "Training Step: 2876  | total loss: \u001b[1m\u001b[32m0.42943\u001b[0m\u001b[0m | time: 5.872s\n\u001b[2K\r| Adam | epoch: 010 | loss: 0.42943 - acc: 0.8246 -- iter: 01472/20250\n"
     ]
    },
    {
     "name": "stdout",
     "output_type": "stream",
     "text": [
      "Training Step: 2877  | total loss: \u001b[1m\u001b[32m0.43570\u001b[0m\u001b[0m | time: 6.122s\n\u001b[2K\r| Adam | epoch: 010 | loss: 0.43570 - acc: 0.8187 -- iter: 01536/20250\n"
     ]
    },
    {
     "name": "stdout",
     "output_type": "stream",
     "text": [
      "Training Step: 2878  | total loss: \u001b[1m\u001b[32m0.42646\u001b[0m\u001b[0m | time: 6.373s\n\u001b[2K\r| Adam | epoch: 010 | loss: 0.42646 - acc: 0.8243 -- iter: 01600/20250\n"
     ]
    },
    {
     "name": "stdout",
     "output_type": "stream",
     "text": [
      "Training Step: 2879  | total loss: \u001b[1m\u001b[32m0.42383\u001b[0m\u001b[0m | time: 6.613s\n\u001b[2K\r| Adam | epoch: 010 | loss: 0.42383 - acc: 0.8263 -- iter: 01664/20250\n"
     ]
    },
    {
     "name": "stdout",
     "output_type": "stream",
     "text": [
      "Training Step: 2880  | total loss: \u001b[1m\u001b[32m0.43503\u001b[0m\u001b[0m | time: 6.860s\n\u001b[2K\r| Adam | epoch: 010 | loss: 0.43503 - acc: 0.8186 -- iter: 01728/20250\n"
     ]
    },
    {
     "name": "stdout",
     "output_type": "stream",
     "text": [
      "Training Step: 2881  | total loss: \u001b[1m\u001b[32m0.42518\u001b[0m\u001b[0m | time: 7.105s\n\u001b[2K\r| Adam | epoch: 010 | loss: 0.42518 - acc: 0.8227 -- iter: 01792/20250\n"
     ]
    },
    {
     "name": "stdout",
     "output_type": "stream",
     "text": [
      "Training Step: 2882  | total loss: \u001b[1m\u001b[32m0.42477\u001b[0m\u001b[0m | time: 7.357s\n\u001b[2K\r| Adam | epoch: 010 | loss: 0.42477 - acc: 0.8217 -- iter: 01856/20250\n"
     ]
    },
    {
     "name": "stdout",
     "output_type": "stream",
     "text": [
      "Training Step: 2883  | total loss: \u001b[1m\u001b[32m0.41462\u001b[0m\u001b[0m | time: 7.602s\n\u001b[2K\r| Adam | epoch: 010 | loss: 0.41462 - acc: 0.8286 -- iter: 01920/20250\n"
     ]
    },
    {
     "name": "stdout",
     "output_type": "stream",
     "text": [
      "Training Step: 2884  | total loss: \u001b[1m\u001b[32m0.40502\u001b[0m\u001b[0m | time: 7.858s\n\u001b[2K\r| Adam | epoch: 010 | loss: 0.40502 - acc: 0.8317 -- iter: 01984/20250\n"
     ]
    },
    {
     "name": "stdout",
     "output_type": "stream",
     "text": [
      "Training Step: 2885  | total loss: \u001b[1m\u001b[32m0.39546\u001b[0m\u001b[0m | time: 8.131s\n\u001b[2K\r| Adam | epoch: 010 | loss: 0.39546 - acc: 0.8376 -- iter: 02048/20250\n"
     ]
    },
    {
     "name": "stdout",
     "output_type": "stream",
     "text": [
      "Training Step: 2886  | total loss: \u001b[1m\u001b[32m0.39528\u001b[0m\u001b[0m | time: 8.386s\n\u001b[2K\r| Adam | epoch: 010 | loss: 0.39528 - acc: 0.8413 -- iter: 02112/20250\n"
     ]
    },
    {
     "name": "stdout",
     "output_type": "stream",
     "text": [
      "Training Step: 2887  | total loss: \u001b[1m\u001b[32m0.39999\u001b[0m\u001b[0m | time: 8.635s\n\u001b[2K\r| Adam | epoch: 010 | loss: 0.39999 - acc: 0.8384 -- iter: 02176/20250\n"
     ]
    },
    {
     "name": "stdout",
     "output_type": "stream",
     "text": [
      "Training Step: 2888  | total loss: \u001b[1m\u001b[32m0.39193\u001b[0m\u001b[0m | time: 8.880s\n\u001b[2K\r| Adam | epoch: 010 | loss: 0.39193 - acc: 0.8421 -- iter: 02240/20250\n"
     ]
    },
    {
     "name": "stdout",
     "output_type": "stream",
     "text": [
      "Training Step: 2889  | total loss: \u001b[1m\u001b[32m0.38587\u001b[0m\u001b[0m | time: 9.126s\n\u001b[2K\r| Adam | epoch: 010 | loss: 0.38587 - acc: 0.8469 -- iter: 02304/20250\n"
     ]
    },
    {
     "name": "stdout",
     "output_type": "stream",
     "text": [
      "Training Step: 2890  | total loss: \u001b[1m\u001b[32m0.38603\u001b[0m\u001b[0m | time: 9.374s\n\u001b[2K\r| Adam | epoch: 010 | loss: 0.38603 - acc: 0.8497 -- iter: 02368/20250\n"
     ]
    },
    {
     "name": "stdout",
     "output_type": "stream",
     "text": [
      "Training Step: 2891  | total loss: \u001b[1m\u001b[32m0.38056\u001b[0m\u001b[0m | time: 9.615s\n\u001b[2K\r| Adam | epoch: 010 | loss: 0.38056 - acc: 0.8507 -- iter: 02432/20250\n"
     ]
    },
    {
     "name": "stdout",
     "output_type": "stream",
     "text": [
      "Training Step: 2892  | total loss: \u001b[1m\u001b[32m0.38647\u001b[0m\u001b[0m | time: 9.859s\n\u001b[2K\r| Adam | epoch: 010 | loss: 0.38647 - acc: 0.8453 -- iter: 02496/20250\n"
     ]
    },
    {
     "name": "stdout",
     "output_type": "stream",
     "text": [
      "Training Step: 2893  | total loss: \u001b[1m\u001b[32m0.38166\u001b[0m\u001b[0m | time: 10.108s\n\u001b[2K\r| Adam | epoch: 010 | loss: 0.38166 - acc: 0.8483 -- iter: 02560/20250\n"
     ]
    },
    {
     "name": "stdout",
     "output_type": "stream",
     "text": [
      "Training Step: 2894  | total loss: \u001b[1m\u001b[32m0.37502\u001b[0m\u001b[0m | time: 10.359s\n\u001b[2K\r| Adam | epoch: 010 | loss: 0.37502 - acc: 0.8541 -- iter: 02624/20250\n"
     ]
    },
    {
     "name": "stdout",
     "output_type": "stream",
     "text": [
      "Training Step: 2895  | total loss: \u001b[1m\u001b[32m0.38117\u001b[0m\u001b[0m | time: 10.649s\n\u001b[2K\r| Adam | epoch: 010 | loss: 0.38117 - acc: 0.8468 -- iter: 02688/20250\n"
     ]
    },
    {
     "name": "stdout",
     "output_type": "stream",
     "text": [
      "Training Step: 2896  | total loss: \u001b[1m\u001b[32m0.38393\u001b[0m\u001b[0m | time: 10.897s\n\u001b[2K\r| Adam | epoch: 010 | loss: 0.38393 - acc: 0.8512 -- iter: 02752/20250\n"
     ]
    },
    {
     "name": "stdout",
     "output_type": "stream",
     "text": [
      "Training Step: 2897  | total loss: \u001b[1m\u001b[32m0.38559\u001b[0m\u001b[0m | time: 11.142s\n\u001b[2K\r| Adam | epoch: 010 | loss: 0.38559 - acc: 0.8520 -- iter: 02816/20250\n"
     ]
    },
    {
     "name": "stdout",
     "output_type": "stream",
     "text": [
      "Training Step: 2898  | total loss: \u001b[1m\u001b[32m0.37701\u001b[0m\u001b[0m | time: 11.387s\n\u001b[2K\r| Adam | epoch: 010 | loss: 0.37701 - acc: 0.8574 -- iter: 02880/20250\n"
     ]
    },
    {
     "name": "stdout",
     "output_type": "stream",
     "text": [
      "Training Step: 2899  | total loss: \u001b[1m\u001b[32m0.36787\u001b[0m\u001b[0m | time: 11.636s\n\u001b[2K\r| Adam | epoch: 010 | loss: 0.36787 - acc: 0.8623 -- iter: 02944/20250\n"
     ]
    },
    {
     "name": "stdout",
     "output_type": "stream",
     "text": [
      "Training Step: 2900  | total loss: \u001b[1m\u001b[32m0.36558\u001b[0m\u001b[0m | time: 11.894s\n\u001b[2K\r| Adam | epoch: 010 | loss: 0.36558 - acc: 0.8605 -- iter: 03008/20250\n"
     ]
    },
    {
     "name": "stdout",
     "output_type": "stream",
     "text": [
      "Training Step: 2901  | total loss: \u001b[1m\u001b[32m0.35962\u001b[0m\u001b[0m | time: 12.137s\n\u001b[2K\r| Adam | epoch: 010 | loss: 0.35962 - acc: 0.8635 -- iter: 03072/20250\n"
     ]
    },
    {
     "name": "stdout",
     "output_type": "stream",
     "text": [
      "Training Step: 2902  | total loss: \u001b[1m\u001b[32m0.35636\u001b[0m\u001b[0m | time: 12.388s\n\u001b[2K\r| Adam | epoch: 010 | loss: 0.35636 - acc: 0.8631 -- iter: 03136/20250\n"
     ]
    },
    {
     "name": "stdout",
     "output_type": "stream",
     "text": [
      "Training Step: 2903  | total loss: \u001b[1m\u001b[32m0.35563\u001b[0m\u001b[0m | time: 12.638s\n\u001b[2K\r| Adam | epoch: 010 | loss: 0.35563 - acc: 0.8627 -- iter: 03200/20250\n"
     ]
    },
    {
     "name": "stdout",
     "output_type": "stream",
     "text": [
      "Training Step: 2904  | total loss: \u001b[1m\u001b[32m0.36033\u001b[0m\u001b[0m | time: 12.903s\n\u001b[2K\r| Adam | epoch: 010 | loss: 0.36033 - acc: 0.8577 -- iter: 03264/20250\n"
     ]
    },
    {
     "name": "stdout",
     "output_type": "stream",
     "text": [
      "Training Step: 2905  | total loss: \u001b[1m\u001b[32m0.36028\u001b[0m\u001b[0m | time: 13.184s\n\u001b[2K\r| Adam | epoch: 010 | loss: 0.36028 - acc: 0.8563 -- iter: 03328/20250\n"
     ]
    },
    {
     "name": "stdout",
     "output_type": "stream",
     "text": [
      "Training Step: 2906  | total loss: \u001b[1m\u001b[32m0.36632\u001b[0m\u001b[0m | time: 13.433s\n\u001b[2K\r| Adam | epoch: 010 | loss: 0.36632 - acc: 0.8566 -- iter: 03392/20250\n"
     ]
    },
    {
     "name": "stdout",
     "output_type": "stream",
     "text": [
      "Training Step: 2907  | total loss: \u001b[1m\u001b[32m0.36231\u001b[0m\u001b[0m | time: 13.680s\n\u001b[2K\r| Adam | epoch: 010 | loss: 0.36231 - acc: 0.8584 -- iter: 03456/20250\n"
     ]
    },
    {
     "name": "stdout",
     "output_type": "stream",
     "text": [
      "Training Step: 2908  | total loss: \u001b[1m\u001b[32m0.37047\u001b[0m\u001b[0m | time: 13.932s\n\u001b[2K\r| Adam | epoch: 010 | loss: 0.37047 - acc: 0.8585 -- iter: 03520/20250\n"
     ]
    },
    {
     "name": "stdout",
     "output_type": "stream",
     "text": [
      "Training Step: 2909  | total loss: \u001b[1m\u001b[32m0.37452\u001b[0m\u001b[0m | time: 14.178s\n\u001b[2K\r| Adam | epoch: 010 | loss: 0.37452 - acc: 0.8570 -- iter: 03584/20250\n"
     ]
    },
    {
     "name": "stdout",
     "output_type": "stream",
     "text": [
      "Training Step: 2910  | total loss: \u001b[1m\u001b[32m0.38051\u001b[0m\u001b[0m | time: 14.427s\n\u001b[2K\r| Adam | epoch: 010 | loss: 0.38051 - acc: 0.8526 -- iter: 03648/20250\n"
     ]
    },
    {
     "name": "stdout",
     "output_type": "stream",
     "text": [
      "Training Step: 2911  | total loss: \u001b[1m\u001b[32m0.37943\u001b[0m\u001b[0m | time: 14.670s\n\u001b[2K\r| Adam | epoch: 010 | loss: 0.37943 - acc: 0.8501 -- iter: 03712/20250\n"
     ]
    },
    {
     "name": "stdout",
     "output_type": "stream",
     "text": [
      "Training Step: 2912  | total loss: \u001b[1m\u001b[32m0.37792\u001b[0m\u001b[0m | time: 14.912s\n\u001b[2K\r| Adam | epoch: 010 | loss: 0.37792 - acc: 0.8542 -- iter: 03776/20250\n"
     ]
    },
    {
     "name": "stdout",
     "output_type": "stream",
     "text": [
      "Training Step: 2913  | total loss: \u001b[1m\u001b[32m0.37571\u001b[0m\u001b[0m | time: 15.154s\n\u001b[2K\r| Adam | epoch: 010 | loss: 0.37571 - acc: 0.8578 -- iter: 03840/20250\n"
     ]
    },
    {
     "name": "stdout",
     "output_type": "stream",
     "text": [
      "Training Step: 2914  | total loss: \u001b[1m\u001b[32m0.37841\u001b[0m\u001b[0m | time: 15.413s\n\u001b[2K\r| Adam | epoch: 010 | loss: 0.37841 - acc: 0.8611 -- iter: 03904/20250\n"
     ]
    },
    {
     "name": "stdout",
     "output_type": "stream",
     "text": [
      "Training Step: 2915  | total loss: \u001b[1m\u001b[32m0.36382\u001b[0m\u001b[0m | time: 15.700s\n\u001b[2K\r| Adam | epoch: 010 | loss: 0.36382 - acc: 0.8688 -- iter: 03968/20250\n"
     ]
    },
    {
     "name": "stdout",
     "output_type": "stream",
     "text": [
      "Training Step: 2916  | total loss: \u001b[1m\u001b[32m0.35403\u001b[0m\u001b[0m | time: 15.948s\n\u001b[2K\r| Adam | epoch: 010 | loss: 0.35403 - acc: 0.8709 -- iter: 04032/20250\n"
     ]
    },
    {
     "name": "stdout",
     "output_type": "stream",
     "text": [
      "Training Step: 2917  | total loss: \u001b[1m\u001b[32m0.36096\u001b[0m\u001b[0m | time: 16.190s\n\u001b[2K\r| Adam | epoch: 010 | loss: 0.36096 - acc: 0.8604 -- iter: 04096/20250\n"
     ]
    },
    {
     "name": "stdout",
     "output_type": "stream",
     "text": [
      "Training Step: 2918  | total loss: \u001b[1m\u001b[32m0.36230\u001b[0m\u001b[0m | time: 16.434s\n\u001b[2K\r| Adam | epoch: 010 | loss: 0.36230 - acc: 0.8572 -- iter: 04160/20250\n"
     ]
    },
    {
     "name": "stdout",
     "output_type": "stream",
     "text": [
      "Training Step: 2919  | total loss: \u001b[1m\u001b[32m0.36492\u001b[0m\u001b[0m | time: 16.680s\n\u001b[2K\r| Adam | epoch: 010 | loss: 0.36492 - acc: 0.8558 -- iter: 04224/20250\n"
     ]
    },
    {
     "name": "stdout",
     "output_type": "stream",
     "text": [
      "Training Step: 2920  | total loss: \u001b[1m\u001b[32m0.36064\u001b[0m\u001b[0m | time: 16.924s\n\u001b[2K\r| Adam | epoch: 010 | loss: 0.36064 - acc: 0.8578 -- iter: 04288/20250\n"
     ]
    },
    {
     "name": "stdout",
     "output_type": "stream",
     "text": [
      "Training Step: 2921  | total loss: \u001b[1m\u001b[32m0.35751\u001b[0m\u001b[0m | time: 17.171s\n\u001b[2K\r| Adam | epoch: 010 | loss: 0.35751 - acc: 0.8579 -- iter: 04352/20250\n"
     ]
    },
    {
     "name": "stdout",
     "output_type": "stream",
     "text": [
      "Training Step: 2922  | total loss: \u001b[1m\u001b[32m0.37015\u001b[0m\u001b[0m | time: 17.419s\n\u001b[2K\r| Adam | epoch: 010 | loss: 0.37015 - acc: 0.8534 -- iter: 04416/20250\n"
     ]
    },
    {
     "name": "stdout",
     "output_type": "stream",
     "text": [
      "Training Step: 2923  | total loss: \u001b[1m\u001b[32m0.37581\u001b[0m\u001b[0m | time: 17.670s\n\u001b[2K\r| Adam | epoch: 010 | loss: 0.37581 - acc: 0.8493 -- iter: 04480/20250\n"
     ]
    },
    {
     "name": "stdout",
     "output_type": "stream",
     "text": [
      "Training Step: 2924  | total loss: \u001b[1m\u001b[32m0.36693\u001b[0m\u001b[0m | time: 17.940s\n\u001b[2K\r| Adam | epoch: 010 | loss: 0.36693 - acc: 0.8550 -- iter: 04544/20250\n"
     ]
    },
    {
     "name": "stdout",
     "output_type": "stream",
     "text": [
      "Training Step: 2925  | total loss: \u001b[1m\u001b[32m0.36696\u001b[0m\u001b[0m | time: 18.227s\n\u001b[2K\r| Adam | epoch: 010 | loss: 0.36696 - acc: 0.8570 -- iter: 04608/20250\n"
     ]
    },
    {
     "name": "stdout",
     "output_type": "stream",
     "text": [
      "Training Step: 2926  | total loss: \u001b[1m\u001b[32m0.36891\u001b[0m\u001b[0m | time: 18.474s\n\u001b[2K\r| Adam | epoch: 010 | loss: 0.36891 - acc: 0.8541 -- iter: 04672/20250\n"
     ]
    },
    {
     "name": "stdout",
     "output_type": "stream",
     "text": [
      "Training Step: 2927  | total loss: \u001b[1m\u001b[32m0.35641\u001b[0m\u001b[0m | time: 18.725s\n\u001b[2K\r| Adam | epoch: 010 | loss: 0.35641 - acc: 0.8562 -- iter: 04736/20250\n"
     ]
    },
    {
     "name": "stdout",
     "output_type": "stream",
     "text": [
      "Training Step: 2928  | total loss: \u001b[1m\u001b[32m0.35169\u001b[0m\u001b[0m | time: 18.969s\n\u001b[2K\r| Adam | epoch: 010 | loss: 0.35169 - acc: 0.8612 -- iter: 04800/20250\n"
     ]
    },
    {
     "name": "stdout",
     "output_type": "stream",
     "text": [
      "Training Step: 2929  | total loss: \u001b[1m\u001b[32m0.36084\u001b[0m\u001b[0m | time: 19.211s\n\u001b[2K\r| Adam | epoch: 010 | loss: 0.36084 - acc: 0.8595 -- iter: 04864/20250\n"
     ]
    },
    {
     "name": "stdout",
     "output_type": "stream",
     "text": [
      "Training Step: 2930  | total loss: \u001b[1m\u001b[32m0.35148\u001b[0m\u001b[0m | time: 19.452s\n\u001b[2K\r| Adam | epoch: 010 | loss: 0.35148 - acc: 0.8673 -- iter: 04928/20250\n"
     ]
    },
    {
     "name": "stdout",
     "output_type": "stream",
     "text": [
      "Training Step: 2931  | total loss: \u001b[1m\u001b[32m0.34821\u001b[0m\u001b[0m | time: 19.698s\n\u001b[2K\r| Adam | epoch: 010 | loss: 0.34821 - acc: 0.8665 -- iter: 04992/20250\n"
     ]
    },
    {
     "name": "stdout",
     "output_type": "stream",
     "text": [
      "Training Step: 2932  | total loss: \u001b[1m\u001b[32m0.37494\u001b[0m\u001b[0m | time: 19.940s\n\u001b[2K\r| Adam | epoch: 010 | loss: 0.37494 - acc: 0.8548 -- iter: 05056/20250\n"
     ]
    },
    {
     "name": "stdout",
     "output_type": "stream",
     "text": [
      "Training Step: 2933  | total loss: \u001b[1m\u001b[32m0.36896\u001b[0m\u001b[0m | time: 20.190s\n\u001b[2K\r| Adam | epoch: 010 | loss: 0.36896 - acc: 0.8553 -- iter: 05120/20250\n"
     ]
    },
    {
     "name": "stdout",
     "output_type": "stream",
     "text": [
      "Training Step: 2934  | total loss: \u001b[1m\u001b[32m0.36260\u001b[0m\u001b[0m | time: 20.460s\n\u001b[2K\r| Adam | epoch: 010 | loss: 0.36260 - acc: 0.8588 -- iter: 05184/20250\n"
     ]
    },
    {
     "name": "stdout",
     "output_type": "stream",
     "text": [
      "Training Step: 2935  | total loss: \u001b[1m\u001b[32m0.36065\u001b[0m\u001b[0m | time: 20.718s\n\u001b[2K\r| Adam | epoch: 010 | loss: 0.36065 - acc: 0.8573 -- iter: 05248/20250\n"
     ]
    },
    {
     "name": "stdout",
     "output_type": "stream",
     "text": [
      "Training Step: 2936  | total loss: \u001b[1m\u001b[32m0.35715\u001b[0m\u001b[0m | time: 21.014s\n\u001b[2K\r| Adam | epoch: 010 | loss: 0.35715 - acc: 0.8591 -- iter: 05312/20250\n"
     ]
    },
    {
     "name": "stdout",
     "output_type": "stream",
     "text": [
      "Training Step: 2937  | total loss: \u001b[1m\u001b[32m0.35273\u001b[0m\u001b[0m | time: 21.255s\n\u001b[2K\r| Adam | epoch: 010 | loss: 0.35273 - acc: 0.8622 -- iter: 05376/20250\n"
     ]
    },
    {
     "name": "stdout",
     "output_type": "stream",
     "text": [
      "Training Step: 2938  | total loss: \u001b[1m\u001b[32m0.36742\u001b[0m\u001b[0m | time: 21.506s\n\u001b[2K\r| Adam | epoch: 010 | loss: 0.36742 - acc: 0.8541 -- iter: 05440/20250\n"
     ]
    },
    {
     "name": "stdout",
     "output_type": "stream",
     "text": [
      "Training Step: 2939  | total loss: \u001b[1m\u001b[32m0.37123\u001b[0m\u001b[0m | time: 21.750s\n\u001b[2K\r| Adam | epoch: 010 | loss: 0.37123 - acc: 0.8515 -- iter: 05504/20250\n"
     ]
    },
    {
     "name": "stdout",
     "output_type": "stream",
     "text": [
      "Training Step: 2940  | total loss: \u001b[1m\u001b[32m0.38209\u001b[0m\u001b[0m | time: 21.994s\n\u001b[2K\r| Adam | epoch: 010 | loss: 0.38209 - acc: 0.8429 -- iter: 05568/20250\n"
     ]
    },
    {
     "name": "stdout",
     "output_type": "stream",
     "text": [
      "Training Step: 2941  | total loss: \u001b[1m\u001b[32m0.38152\u001b[0m\u001b[0m | time: 22.254s\n\u001b[2K\r| Adam | epoch: 010 | loss: 0.38152 - acc: 0.8461 -- iter: 05632/20250\n"
     ]
    },
    {
     "name": "stdout",
     "output_type": "stream",
     "text": [
      "Training Step: 2942  | total loss: \u001b[1m\u001b[32m0.38462\u001b[0m\u001b[0m | time: 22.500s\n\u001b[2K\r| Adam | epoch: 010 | loss: 0.38462 - acc: 0.8428 -- iter: 05696/20250\n"
     ]
    },
    {
     "name": "stdout",
     "output_type": "stream",
     "text": [
      "Training Step: 2943  | total loss: \u001b[1m\u001b[32m0.38320\u001b[0m\u001b[0m | time: 22.750s\n\u001b[2K\r| Adam | epoch: 010 | loss: 0.38320 - acc: 0.8429 -- iter: 05760/20250\n"
     ]
    },
    {
     "name": "stdout",
     "output_type": "stream",
     "text": [
      "Training Step: 2944  | total loss: \u001b[1m\u001b[32m0.38413\u001b[0m\u001b[0m | time: 23.015s\n\u001b[2K\r| Adam | epoch: 010 | loss: 0.38413 - acc: 0.8383 -- iter: 05824/20250\n"
     ]
    },
    {
     "name": "stdout",
     "output_type": "stream",
     "text": [
      "Training Step: 2945  | total loss: \u001b[1m\u001b[32m0.39885\u001b[0m\u001b[0m | time: 23.284s\n\u001b[2K\r| Adam | epoch: 010 | loss: 0.39885 - acc: 0.8310 -- iter: 05888/20250\n"
     ]
    },
    {
     "name": "stdout",
     "output_type": "stream",
     "text": [
      "Training Step: 2946  | total loss: \u001b[1m\u001b[32m0.39789\u001b[0m\u001b[0m | time: 23.557s\n\u001b[2K\r| Adam | epoch: 010 | loss: 0.39789 - acc: 0.8307 -- iter: 05952/20250\n"
     ]
    },
    {
     "name": "stdout",
     "output_type": "stream",
     "text": [
      "Training Step: 2947  | total loss: \u001b[1m\u001b[32m0.41192\u001b[0m\u001b[0m | time: 23.805s\n\u001b[2K\r| Adam | epoch: 010 | loss: 0.41192 - acc: 0.8273 -- iter: 06016/20250\n"
     ]
    },
    {
     "name": "stdout",
     "output_type": "stream",
     "text": [
      "Training Step: 2948  | total loss: \u001b[1m\u001b[32m0.40118\u001b[0m\u001b[0m | time: 24.050s\n\u001b[2K\r| Adam | epoch: 010 | loss: 0.40118 - acc: 0.8352 -- iter: 06080/20250\n"
     ]
    },
    {
     "name": "stdout",
     "output_type": "stream",
     "text": [
      "Training Step: 2949  | total loss: \u001b[1m\u001b[32m0.40846\u001b[0m\u001b[0m | time: 24.298s\n\u001b[2K\r| Adam | epoch: 010 | loss: 0.40846 - acc: 0.8283 -- iter: 06144/20250\n"
     ]
    },
    {
     "name": "stdout",
     "output_type": "stream",
     "text": [
      "Training Step: 2950  | total loss: \u001b[1m\u001b[32m0.40671\u001b[0m\u001b[0m | time: 24.540s\n\u001b[2K\r| Adam | epoch: 010 | loss: 0.40671 - acc: 0.8283 -- iter: 06208/20250\n"
     ]
    },
    {
     "name": "stdout",
     "output_type": "stream",
     "text": [
      "Training Step: 2951  | total loss: \u001b[1m\u001b[32m0.39926\u001b[0m\u001b[0m | time: 24.786s\n\u001b[2K\r| Adam | epoch: 010 | loss: 0.39926 - acc: 0.8329 -- iter: 06272/20250\n"
     ]
    },
    {
     "name": "stdout",
     "output_type": "stream",
     "text": [
      "Training Step: 2952  | total loss: \u001b[1m\u001b[32m0.40006\u001b[0m\u001b[0m | time: 25.038s\n\u001b[2K\r| Adam | epoch: 010 | loss: 0.40006 - acc: 0.8324 -- iter: 06336/20250\n"
     ]
    },
    {
     "name": "stdout",
     "output_type": "stream",
     "text": [
      "Training Step: 2953  | total loss: \u001b[1m\u001b[32m0.39937\u001b[0m\u001b[0m | time: 25.285s\n\u001b[2K\r| Adam | epoch: 010 | loss: 0.39937 - acc: 0.8320 -- iter: 06400/20250\n"
     ]
    },
    {
     "name": "stdout",
     "output_type": "stream",
     "text": [
      "Training Step: 2954  | total loss: \u001b[1m\u001b[32m0.39991\u001b[0m\u001b[0m | time: 25.557s\n\u001b[2K\r| Adam | epoch: 010 | loss: 0.39991 - acc: 0.8301 -- iter: 06464/20250\n"
     ]
    },
    {
     "name": "stdout",
     "output_type": "stream",
     "text": [
      "Training Step: 2955  | total loss: \u001b[1m\u001b[32m0.39291\u001b[0m\u001b[0m | time: 25.819s\n\u001b[2K\r| Adam | epoch: 010 | loss: 0.39291 - acc: 0.8330 -- iter: 06528/20250\n"
     ]
    },
    {
     "name": "stdout",
     "output_type": "stream",
     "text": [
      "Training Step: 2956  | total loss: \u001b[1m\u001b[32m0.39182\u001b[0m\u001b[0m | time: 26.091s\n\u001b[2K\r| Adam | epoch: 010 | loss: 0.39182 - acc: 0.8341 -- iter: 06592/20250\n"
     ]
    },
    {
     "name": "stdout",
     "output_type": "stream",
     "text": [
      "Training Step: 2957  | total loss: \u001b[1m\u001b[32m0.39582\u001b[0m\u001b[0m | time: 26.348s\n\u001b[2K\r| Adam | epoch: 010 | loss: 0.39582 - acc: 0.8304 -- iter: 06656/20250\n"
     ]
    },
    {
     "name": "stdout",
     "output_type": "stream",
     "text": [
      "Training Step: 2958  | total loss: \u001b[1m\u001b[32m0.39965\u001b[0m\u001b[0m | time: 26.593s\n\u001b[2K\r| Adam | epoch: 010 | loss: 0.39965 - acc: 0.8317 -- iter: 06720/20250\n"
     ]
    },
    {
     "name": "stdout",
     "output_type": "stream",
     "text": [
      "Training Step: 2959  | total loss: \u001b[1m\u001b[32m0.40835\u001b[0m\u001b[0m | time: 26.843s\n\u001b[2K\r| Adam | epoch: 010 | loss: 0.40835 - acc: 0.8282 -- iter: 06784/20250\n"
     ]
    },
    {
     "name": "stdout",
     "output_type": "stream",
     "text": [
      "Training Step: 2960  | total loss: \u001b[1m\u001b[32m0.39988\u001b[0m\u001b[0m | time: 27.092s\n\u001b[2K\r| Adam | epoch: 010 | loss: 0.39988 - acc: 0.8360 -- iter: 06848/20250\n"
     ]
    },
    {
     "name": "stdout",
     "output_type": "stream",
     "text": [
      "Training Step: 2961  | total loss: \u001b[1m\u001b[32m0.38754\u001b[0m\u001b[0m | time: 27.339s\n\u001b[2K\r| Adam | epoch: 010 | loss: 0.38754 - acc: 0.8430 -- iter: 06912/20250\n"
     ]
    },
    {
     "name": "stdout",
     "output_type": "stream",
     "text": [
      "Training Step: 2962  | total loss: \u001b[1m\u001b[32m0.38405\u001b[0m\u001b[0m | time: 27.587s\n\u001b[2K\r| Adam | epoch: 010 | loss: 0.38405 - acc: 0.8447 -- iter: 06976/20250\n"
     ]
    },
    {
     "name": "stdout",
     "output_type": "stream",
     "text": [
      "Training Step: 2963  | total loss: \u001b[1m\u001b[32m0.37865\u001b[0m\u001b[0m | time: 27.843s\n\u001b[2K\r| Adam | epoch: 010 | loss: 0.37865 - acc: 0.8493 -- iter: 07040/20250\n"
     ]
    },
    {
     "name": "stdout",
     "output_type": "stream",
     "text": [
      "Training Step: 2964  | total loss: \u001b[1m\u001b[32m0.38214\u001b[0m\u001b[0m | time: 28.096s\n\u001b[2K\r| Adam | epoch: 010 | loss: 0.38214 - acc: 0.8487 -- iter: 07104/20250\n"
     ]
    },
    {
     "name": "stdout",
     "output_type": "stream",
     "text": [
      "Training Step: 2965  | total loss: \u001b[1m\u001b[32m0.37632\u001b[0m\u001b[0m | time: 28.359s\n\u001b[2K\r| Adam | epoch: 010 | loss: 0.37632 - acc: 0.8545 -- iter: 07168/20250\n"
     ]
    },
    {
     "name": "stdout",
     "output_type": "stream",
     "text": [
      "Training Step: 2966  | total loss: \u001b[1m\u001b[32m0.36760\u001b[0m\u001b[0m | time: 28.614s\n\u001b[2K\r| Adam | epoch: 010 | loss: 0.36760 - acc: 0.8596 -- iter: 07232/20250\n"
     ]
    },
    {
     "name": "stdout",
     "output_type": "stream",
     "text": [
      "Training Step: 2967  | total loss: \u001b[1m\u001b[32m0.36699\u001b[0m\u001b[0m | time: 28.870s\n\u001b[2K\r| Adam | epoch: 010 | loss: 0.36699 - acc: 0.8596 -- iter: 07296/20250\n"
     ]
    },
    {
     "name": "stdout",
     "output_type": "stream",
     "text": [
      "Training Step: 2968  | total loss: \u001b[1m\u001b[32m0.36698\u001b[0m\u001b[0m | time: 29.151s\n\u001b[2K\r| Adam | epoch: 010 | loss: 0.36698 - acc: 0.8612 -- iter: 07360/20250\n"
     ]
    },
    {
     "name": "stdout",
     "output_type": "stream",
     "text": [
      "Training Step: 2969  | total loss: \u001b[1m\u001b[32m0.36037\u001b[0m\u001b[0m | time: 29.398s\n\u001b[2K\r| Adam | epoch: 010 | loss: 0.36037 - acc: 0.8610 -- iter: 07424/20250\n"
     ]
    },
    {
     "name": "stdout",
     "output_type": "stream",
     "text": [
      "Training Step: 2970  | total loss: \u001b[1m\u001b[32m0.36188\u001b[0m\u001b[0m | time: 29.646s\n\u001b[2K\r| Adam | epoch: 010 | loss: 0.36188 - acc: 0.8577 -- iter: 07488/20250\n"
     ]
    },
    {
     "name": "stdout",
     "output_type": "stream",
     "text": [
      "Training Step: 2971  | total loss: \u001b[1m\u001b[32m0.37894\u001b[0m\u001b[0m | time: 29.899s\n\u001b[2K\r| Adam | epoch: 010 | loss: 0.37894 - acc: 0.8485 -- iter: 07552/20250\n"
     ]
    },
    {
     "name": "stdout",
     "output_type": "stream",
     "text": [
      "Training Step: 2972  | total loss: \u001b[1m\u001b[32m0.38293\u001b[0m\u001b[0m | time: 30.142s\n\u001b[2K\r| Adam | epoch: 010 | loss: 0.38293 - acc: 0.8449 -- iter: 07616/20250\n"
     ]
    },
    {
     "name": "stdout",
     "output_type": "stream",
     "text": [
      "Training Step: 2973  | total loss: \u001b[1m\u001b[32m0.37371\u001b[0m\u001b[0m | time: 30.393s\n\u001b[2K\r| Adam | epoch: 010 | loss: 0.37371 - acc: 0.8510 -- iter: 07680/20250\n"
     ]
    },
    {
     "name": "stdout",
     "output_type": "stream",
     "text": [
      "Training Step: 2974  | total loss: \u001b[1m\u001b[32m0.37062\u001b[0m\u001b[0m | time: 30.640s\n\u001b[2K\r| Adam | epoch: 010 | loss: 0.37062 - acc: 0.8503 -- iter: 07744/20250\n"
     ]
    },
    {
     "name": "stdout",
     "output_type": "stream",
     "text": [
      "Training Step: 2975  | total loss: \u001b[1m\u001b[32m0.36716\u001b[0m\u001b[0m | time: 30.897s\n\u001b[2K\r| Adam | epoch: 010 | loss: 0.36716 - acc: 0.8543 -- iter: 07808/20250\n"
     ]
    },
    {
     "name": "stdout",
     "output_type": "stream",
     "text": [
      "Training Step: 2976  | total loss: \u001b[1m\u001b[32m0.35277\u001b[0m\u001b[0m | time: 31.148s\n\u001b[2K\r| Adam | epoch: 010 | loss: 0.35277 - acc: 0.8626 -- iter: 07872/20250\n"
     ]
    },
    {
     "name": "stdout",
     "output_type": "stream",
     "text": [
      "Training Step: 2977  | total loss: \u001b[1m\u001b[32m0.34340\u001b[0m\u001b[0m | time: 31.412s\n\u001b[2K\r| Adam | epoch: 010 | loss: 0.34340 - acc: 0.8686 -- iter: 07936/20250\n"
     ]
    },
    {
     "name": "stdout",
     "output_type": "stream",
     "text": [
      "Training Step: 2978  | total loss: \u001b[1m\u001b[32m0.35131\u001b[0m\u001b[0m | time: 31.704s\n\u001b[2K\r| Adam | epoch: 010 | loss: 0.35131 - acc: 0.8661 -- iter: 08000/20250\n"
     ]
    },
    {
     "name": "stdout",
     "output_type": "stream",
     "text": [
      "Training Step: 2979  | total loss: \u001b[1m\u001b[32m0.35960\u001b[0m\u001b[0m | time: 31.975s\n\u001b[2K\r| Adam | epoch: 010 | loss: 0.35960 - acc: 0.8654 -- iter: 08064/20250\n"
     ]
    },
    {
     "name": "stdout",
     "output_type": "stream",
     "text": [
      "Training Step: 2980  | total loss: \u001b[1m\u001b[32m0.36672\u001b[0m\u001b[0m | time: 32.224s\n\u001b[2K\r| Adam | epoch: 010 | loss: 0.36672 - acc: 0.8632 -- iter: 08128/20250\n"
     ]
    },
    {
     "name": "stdout",
     "output_type": "stream",
     "text": [
      "Training Step: 2981  | total loss: \u001b[1m\u001b[32m0.36773\u001b[0m\u001b[0m | time: 32.467s\n\u001b[2K\r| Adam | epoch: 010 | loss: 0.36773 - acc: 0.8629 -- iter: 08192/20250\n"
     ]
    },
    {
     "name": "stdout",
     "output_type": "stream",
     "text": [
      "Training Step: 2982  | total loss: \u001b[1m\u001b[32m0.36334\u001b[0m\u001b[0m | time: 32.721s\n\u001b[2K\r| Adam | epoch: 010 | loss: 0.36334 - acc: 0.8656 -- iter: 08256/20250\n"
     ]
    },
    {
     "name": "stdout",
     "output_type": "stream",
     "text": [
      "Training Step: 2983  | total loss: \u001b[1m\u001b[32m0.35815\u001b[0m\u001b[0m | time: 32.969s\n\u001b[2K\r| Adam | epoch: 010 | loss: 0.35815 - acc: 0.8697 -- iter: 08320/20250\n"
     ]
    },
    {
     "name": "stdout",
     "output_type": "stream",
     "text": [
      "Training Step: 2984  | total loss: \u001b[1m\u001b[32m0.34695\u001b[0m\u001b[0m | time: 33.209s\n\u001b[2K\r| Adam | epoch: 010 | loss: 0.34695 - acc: 0.8734 -- iter: 08384/20250\n"
     ]
    },
    {
     "name": "stdout",
     "output_type": "stream",
     "text": [
      "Training Step: 2985  | total loss: \u001b[1m\u001b[32m0.34823\u001b[0m\u001b[0m | time: 33.460s\n\u001b[2K\r| Adam | epoch: 010 | loss: 0.34823 - acc: 0.8720 -- iter: 08448/20250\n"
     ]
    },
    {
     "name": "stdout",
     "output_type": "stream",
     "text": [
      "Training Step: 2986  | total loss: \u001b[1m\u001b[32m0.35795\u001b[0m\u001b[0m | time: 33.710s\n\u001b[2K\r| Adam | epoch: 010 | loss: 0.35795 - acc: 0.8660 -- iter: 08512/20250\n"
     ]
    },
    {
     "name": "stdout",
     "output_type": "stream",
     "text": [
      "Training Step: 2987  | total loss: \u001b[1m\u001b[32m0.36432\u001b[0m\u001b[0m | time: 33.965s\n\u001b[2K\r| Adam | epoch: 010 | loss: 0.36432 - acc: 0.8622 -- iter: 08576/20250\n"
     ]
    },
    {
     "name": "stdout",
     "output_type": "stream",
     "text": [
      "Training Step: 2988  | total loss: \u001b[1m\u001b[32m0.36442\u001b[0m\u001b[0m | time: 34.254s\n\u001b[2K\r| Adam | epoch: 010 | loss: 0.36442 - acc: 0.8573 -- iter: 08640/20250\n"
     ]
    },
    {
     "name": "stdout",
     "output_type": "stream",
     "text": [
      "Training Step: 2989  | total loss: \u001b[1m\u001b[32m0.39462\u001b[0m\u001b[0m | time: 34.501s\n\u001b[2K\r| Adam | epoch: 010 | loss: 0.39462 - acc: 0.8403 -- iter: 08704/20250\n"
     ]
    },
    {
     "name": "stdout",
     "output_type": "stream",
     "text": [
      "Training Step: 2990  | total loss: \u001b[1m\u001b[32m0.40260\u001b[0m\u001b[0m | time: 34.753s\n\u001b[2K\r| Adam | epoch: 010 | loss: 0.40260 - acc: 0.8359 -- iter: 08768/20250\n"
     ]
    },
    {
     "name": "stdout",
     "output_type": "stream",
     "text": [
      "Training Step: 2991  | total loss: \u001b[1m\u001b[32m0.41120\u001b[0m\u001b[0m | time: 35.011s\n\u001b[2K\r| Adam | epoch: 010 | loss: 0.41120 - acc: 0.8352 -- iter: 08832/20250\n"
     ]
    },
    {
     "name": "stdout",
     "output_type": "stream",
     "text": [
      "Training Step: 2992  | total loss: \u001b[1m\u001b[32m0.40823\u001b[0m\u001b[0m | time: 35.261s\n\u001b[2K\r| Adam | epoch: 010 | loss: 0.40823 - acc: 0.8329 -- iter: 08896/20250\n"
     ]
    },
    {
     "name": "stdout",
     "output_type": "stream",
     "text": [
      "Training Step: 2993  | total loss: \u001b[1m\u001b[32m0.41238\u001b[0m\u001b[0m | time: 35.518s\n\u001b[2K\r| Adam | epoch: 010 | loss: 0.41238 - acc: 0.8308 -- iter: 08960/20250\n"
     ]
    },
    {
     "name": "stdout",
     "output_type": "stream",
     "text": [
      "Training Step: 2994  | total loss: \u001b[1m\u001b[32m0.40343\u001b[0m\u001b[0m | time: 35.756s\n\u001b[2K\r| Adam | epoch: 010 | loss: 0.40343 - acc: 0.8321 -- iter: 09024/20250\n"
     ]
    },
    {
     "name": "stdout",
     "output_type": "stream",
     "text": [
      "Training Step: 2995  | total loss: \u001b[1m\u001b[32m0.39325\u001b[0m\u001b[0m | time: 36.004s\n\u001b[2K\r| Adam | epoch: 010 | loss: 0.39325 - acc: 0.8317 -- iter: 09088/20250\n"
     ]
    },
    {
     "name": "stdout",
     "output_type": "stream",
     "text": [
      "Training Step: 2996  | total loss: \u001b[1m\u001b[32m0.38869\u001b[0m\u001b[0m | time: 36.259s\n\u001b[2K\r| Adam | epoch: 010 | loss: 0.38869 - acc: 0.8361 -- iter: 09152/20250\n"
     ]
    },
    {
     "name": "stdout",
     "output_type": "stream",
     "text": [
      "Training Step: 2997  | total loss: \u001b[1m\u001b[32m0.38102\u001b[0m\u001b[0m | time: 36.533s\n\u001b[2K\r| Adam | epoch: 010 | loss: 0.38102 - acc: 0.8368 -- iter: 09216/20250\n"
     ]
    },
    {
     "name": "stdout",
     "output_type": "stream",
     "text": [
      "Training Step: 2998  | total loss: \u001b[1m\u001b[32m0.38350\u001b[0m\u001b[0m | time: 36.835s\n\u001b[2K\r| Adam | epoch: 010 | loss: 0.38350 - acc: 0.8344 -- iter: 09280/20250\n"
     ]
    },
    {
     "name": "stdout",
     "output_type": "stream",
     "text": [
      "Training Step: 2999  | total loss: \u001b[1m\u001b[32m0.38201\u001b[0m\u001b[0m | time: 37.081s\n\u001b[2K\r| Adam | epoch: 010 | loss: 0.38201 - acc: 0.8369 -- iter: 09344/20250\n"
     ]
    },
    {
     "name": "stdout",
     "output_type": "stream",
     "text": [
      "Training Step: 3000  | total loss: \u001b[1m\u001b[32m0.38406\u001b[0m\u001b[0m | time: 37.322s\n\u001b[2K\r| Adam | epoch: 010 | loss: 0.38406 - acc: 0.8376 -- iter: 09408/20250\n"
     ]
    },
    {
     "name": "stdout",
     "output_type": "stream",
     "text": [
      "Training Step: 3001  | total loss: \u001b[1m\u001b[32m0.38144\u001b[0m\u001b[0m | time: 37.574s\n\u001b[2K\r| Adam | epoch: 010 | loss: 0.38144 - acc: 0.8398 -- iter: 09472/20250\n"
     ]
    },
    {
     "name": "stdout",
     "output_type": "stream",
     "text": [
      "Training Step: 3002  | total loss: \u001b[1m\u001b[32m0.38194\u001b[0m\u001b[0m | time: 37.819s\n\u001b[2K\r| Adam | epoch: 010 | loss: 0.38194 - acc: 0.8355 -- iter: 09536/20250\n"
     ]
    },
    {
     "name": "stdout",
     "output_type": "stream",
     "text": [
      "Training Step: 3003  | total loss: \u001b[1m\u001b[32m0.38200\u001b[0m\u001b[0m | time: 38.059s\n\u001b[2K\r| Adam | epoch: 010 | loss: 0.38200 - acc: 0.8379 -- iter: 09600/20250\n"
     ]
    },
    {
     "name": "stdout",
     "output_type": "stream",
     "text": [
      "Training Step: 3004  | total loss: \u001b[1m\u001b[32m0.37295\u001b[0m\u001b[0m | time: 38.305s\n\u001b[2K\r| Adam | epoch: 010 | loss: 0.37295 - acc: 0.8463 -- iter: 09664/20250\n"
     ]
    },
    {
     "name": "stdout",
     "output_type": "stream",
     "text": [
      "Training Step: 3005  | total loss: \u001b[1m\u001b[32m0.36440\u001b[0m\u001b[0m | time: 38.549s\n\u001b[2K\r| Adam | epoch: 010 | loss: 0.36440 - acc: 0.8507 -- iter: 09728/20250\n"
     ]
    },
    {
     "name": "stdout",
     "output_type": "stream",
     "text": [
      "Training Step: 3006  | total loss: \u001b[1m\u001b[32m0.37508\u001b[0m\u001b[0m | time: 38.803s\n\u001b[2K\r| Adam | epoch: 010 | loss: 0.37508 - acc: 0.8438 -- iter: 09792/20250\n"
     ]
    },
    {
     "name": "stdout",
     "output_type": "stream",
     "text": [
      "Training Step: 3007  | total loss: \u001b[1m\u001b[32m0.37829\u001b[0m\u001b[0m | time: 39.064s\n\u001b[2K\r| Adam | epoch: 010 | loss: 0.37829 - acc: 0.8453 -- iter: 09856/20250\n"
     ]
    },
    {
     "name": "stdout",
     "output_type": "stream",
     "text": [
      "Training Step: 3008  | total loss: \u001b[1m\u001b[32m0.36892\u001b[0m\u001b[0m | time: 39.352s\n\u001b[2K\r| Adam | epoch: 010 | loss: 0.36892 - acc: 0.8530 -- iter: 09920/20250\n"
     ]
    },
    {
     "name": "stdout",
     "output_type": "stream",
     "text": [
      "Training Step: 3009  | total loss: \u001b[1m\u001b[32m0.37993\u001b[0m\u001b[0m | time: 39.602s\n\u001b[2K\r| Adam | epoch: 010 | loss: 0.37993 - acc: 0.8505 -- iter: 09984/20250\n"
     ]
    },
    {
     "name": "stdout",
     "output_type": "stream",
     "text": [
      "Training Step: 3010  | total loss: \u001b[1m\u001b[32m0.37551\u001b[0m\u001b[0m | time: 39.850s\n\u001b[2K\r| Adam | epoch: 010 | loss: 0.37551 - acc: 0.8529 -- iter: 10048/20250\n"
     ]
    },
    {
     "name": "stdout",
     "output_type": "stream",
     "text": [
      "Training Step: 3011  | total loss: \u001b[1m\u001b[32m0.36896\u001b[0m\u001b[0m | time: 40.105s\n\u001b[2K\r| Adam | epoch: 010 | loss: 0.36896 - acc: 0.8567 -- iter: 10112/20250\n"
     ]
    },
    {
     "name": "stdout",
     "output_type": "stream",
     "text": [
      "Training Step: 3012  | total loss: \u001b[1m\u001b[32m0.36190\u001b[0m\u001b[0m | time: 40.351s\n\u001b[2K\r| Adam | epoch: 010 | loss: 0.36190 - acc: 0.8632 -- iter: 10176/20250\n"
     ]
    },
    {
     "name": "stdout",
     "output_type": "stream",
     "text": [
      "Training Step: 3013  | total loss: \u001b[1m\u001b[32m0.37765\u001b[0m\u001b[0m | time: 40.595s\n\u001b[2K\r| Adam | epoch: 010 | loss: 0.37765 - acc: 0.8550 -- iter: 10240/20250\n"
     ]
    },
    {
     "name": "stdout",
     "output_type": "stream",
     "text": [
      "Training Step: 3014  | total loss: \u001b[1m\u001b[32m0.36712\u001b[0m\u001b[0m | time: 40.852s\n\u001b[2K\r| Adam | epoch: 010 | loss: 0.36712 - acc: 0.8586 -- iter: 10304/20250\n"
     ]
    },
    {
     "name": "stdout",
     "output_type": "stream",
     "text": [
      "Training Step: 3015  | total loss: \u001b[1m\u001b[32m0.37902\u001b[0m\u001b[0m | time: 41.095s\n\u001b[2K\r| Adam | epoch: 010 | loss: 0.37902 - acc: 0.8540 -- iter: 10368/20250\n"
     ]
    },
    {
     "name": "stdout",
     "output_type": "stream",
     "text": [
      "Training Step: 3016  | total loss: \u001b[1m\u001b[32m0.36741\u001b[0m\u001b[0m | time: 41.361s\n\u001b[2K\r| Adam | epoch: 010 | loss: 0.36741 - acc: 0.8592 -- iter: 10432/20250\n"
     ]
    },
    {
     "name": "stdout",
     "output_type": "stream",
     "text": [
      "Training Step: 3017  | total loss: \u001b[1m\u001b[32m0.36058\u001b[0m\u001b[0m | time: 41.626s\n\u001b[2K\r| Adam | epoch: 010 | loss: 0.36058 - acc: 0.8639 -- iter: 10496/20250\n"
     ]
    },
    {
     "name": "stdout",
     "output_type": "stream",
     "text": [
      "Training Step: 3018  | total loss: \u001b[1m\u001b[32m0.37049\u001b[0m\u001b[0m | time: 41.924s\n\u001b[2K\r| Adam | epoch: 010 | loss: 0.37049 - acc: 0.8588 -- iter: 10560/20250\n"
     ]
    },
    {
     "name": "stdout",
     "output_type": "stream",
     "text": [
      "Training Step: 3019  | total loss: \u001b[1m\u001b[32m0.36847\u001b[0m\u001b[0m | time: 42.174s\n\u001b[2K\r| Adam | epoch: 010 | loss: 0.36847 - acc: 0.8604 -- iter: 10624/20250\n"
     ]
    },
    {
     "name": "stdout",
     "output_type": "stream",
     "text": [
      "Training Step: 3020  | total loss: \u001b[1m\u001b[32m0.38012\u001b[0m\u001b[0m | time: 42.421s\n\u001b[2K\r| Adam | epoch: 010 | loss: 0.38012 - acc: 0.8556 -- iter: 10688/20250\n"
     ]
    },
    {
     "name": "stdout",
     "output_type": "stream",
     "text": [
      "Training Step: 3021  | total loss: \u001b[1m\u001b[32m0.37088\u001b[0m\u001b[0m | time: 42.667s\n\u001b[2K\r| Adam | epoch: 010 | loss: 0.37088 - acc: 0.8560 -- iter: 10752/20250\n"
     ]
    },
    {
     "name": "stdout",
     "output_type": "stream",
     "text": [
      "Training Step: 3022  | total loss: \u001b[1m\u001b[32m0.38653\u001b[0m\u001b[0m | time: 42.915s\n\u001b[2K\r| Adam | epoch: 010 | loss: 0.38653 - acc: 0.8469 -- iter: 10816/20250\n"
     ]
    },
    {
     "name": "stdout",
     "output_type": "stream",
     "text": [
      "Training Step: 3023  | total loss: \u001b[1m\u001b[32m0.38212\u001b[0m\u001b[0m | time: 43.153s\n\u001b[2K\r| Adam | epoch: 010 | loss: 0.38212 - acc: 0.8498 -- iter: 10880/20250\n"
     ]
    },
    {
     "name": "stdout",
     "output_type": "stream",
     "text": [
      "Training Step: 3024  | total loss: \u001b[1m\u001b[32m0.37374\u001b[0m\u001b[0m | time: 43.399s\n\u001b[2K\r| Adam | epoch: 010 | loss: 0.37374 - acc: 0.8538 -- iter: 10944/20250\n"
     ]
    },
    {
     "name": "stdout",
     "output_type": "stream",
     "text": [
      "Training Step: 3025  | total loss: \u001b[1m\u001b[32m0.37699\u001b[0m\u001b[0m | time: 43.645s\n\u001b[2K\r| Adam | epoch: 010 | loss: 0.37699 - acc: 0.8466 -- iter: 11008/20250\n"
     ]
    },
    {
     "name": "stdout",
     "output_type": "stream",
     "text": [
      "Training Step: 3026  | total loss: \u001b[1m\u001b[32m0.37709\u001b[0m\u001b[0m | time: 43.909s\n\u001b[2K\r| Adam | epoch: 010 | loss: 0.37709 - acc: 0.8416 -- iter: 11072/20250\n"
     ]
    },
    {
     "name": "stdout",
     "output_type": "stream",
     "text": [
      "Training Step: 3027  | total loss: \u001b[1m\u001b[32m0.37624\u001b[0m\u001b[0m | time: 44.179s\n\u001b[2K\r| Adam | epoch: 010 | loss: 0.37624 - acc: 0.8449 -- iter: 11136/20250\n"
     ]
    },
    {
     "name": "stdout",
     "output_type": "stream",
     "text": [
      "Training Step: 3028  | total loss: \u001b[1m\u001b[32m0.36592\u001b[0m\u001b[0m | time: 44.456s\n\u001b[2K\r| Adam | epoch: 010 | loss: 0.36592 - acc: 0.8542 -- iter: 11200/20250\n"
     ]
    },
    {
     "name": "stdout",
     "output_type": "stream",
     "text": [
      "Training Step: 3029  | total loss: \u001b[1m\u001b[32m0.36973\u001b[0m\u001b[0m | time: 44.703s\n\u001b[2K\r| Adam | epoch: 010 | loss: 0.36973 - acc: 0.8485 -- iter: 11264/20250\n"
     ]
    },
    {
     "name": "stdout",
     "output_type": "stream",
     "text": [
      "Training Step: 3030  | total loss: \u001b[1m\u001b[32m0.37462\u001b[0m\u001b[0m | time: 44.960s\n\u001b[2K\r| Adam | epoch: 010 | loss: 0.37462 - acc: 0.8464 -- iter: 11328/20250\n"
     ]
    },
    {
     "name": "stdout",
     "output_type": "stream",
     "text": [
      "Training Step: 3031  | total loss: \u001b[1m\u001b[32m0.39035\u001b[0m\u001b[0m | time: 45.202s\n\u001b[2K\r| Adam | epoch: 010 | loss: 0.39035 - acc: 0.8352 -- iter: 11392/20250\n"
     ]
    },
    {
     "name": "stdout",
     "output_type": "stream",
     "text": [
      "Training Step: 3032  | total loss: \u001b[1m\u001b[32m0.39165\u001b[0m\u001b[0m | time: 45.450s\n\u001b[2K\r| Adam | epoch: 010 | loss: 0.39165 - acc: 0.8298 -- iter: 11456/20250\n"
     ]
    },
    {
     "name": "stdout",
     "output_type": "stream",
     "text": [
      "Training Step: 3033  | total loss: \u001b[1m\u001b[32m0.39101\u001b[0m\u001b[0m | time: 45.695s\n\u001b[2K\r| Adam | epoch: 010 | loss: 0.39101 - acc: 0.8281 -- iter: 11520/20250\n"
     ]
    },
    {
     "name": "stdout",
     "output_type": "stream",
     "text": [
      "Training Step: 3034  | total loss: \u001b[1m\u001b[32m0.40684\u001b[0m\u001b[0m | time: 45.946s\n\u001b[2K\r| Adam | epoch: 010 | loss: 0.40684 - acc: 0.8125 -- iter: 11584/20250\n"
     ]
    },
    {
     "name": "stdout",
     "output_type": "stream",
     "text": [
      "Training Step: 3035  | total loss: \u001b[1m\u001b[32m0.40015\u001b[0m\u001b[0m | time: 46.195s\n\u001b[2K\r| Adam | epoch: 010 | loss: 0.40015 - acc: 0.8187 -- iter: 11648/20250\n"
     ]
    },
    {
     "name": "stdout",
     "output_type": "stream",
     "text": [
      "Training Step: 3036  | total loss: \u001b[1m\u001b[32m0.39878\u001b[0m\u001b[0m | time: 46.456s\n\u001b[2K\r| Adam | epoch: 010 | loss: 0.39878 - acc: 0.8228 -- iter: 11712/20250\n"
     ]
    },
    {
     "name": "stdout",
     "output_type": "stream",
     "text": [
      "Training Step: 3037  | total loss: \u001b[1m\u001b[32m0.39730\u001b[0m\u001b[0m | time: 46.717s\n\u001b[2K\r| Adam | epoch: 010 | loss: 0.39730 - acc: 0.8249 -- iter: 11776/20250\n"
     ]
    },
    {
     "name": "stdout",
     "output_type": "stream",
     "text": [
      "Training Step: 3038  | total loss: \u001b[1m\u001b[32m0.39260\u001b[0m\u001b[0m | time: 47.006s\n\u001b[2K\r| Adam | epoch: 010 | loss: 0.39260 - acc: 0.8283 -- iter: 11840/20250\n"
     ]
    },
    {
     "name": "stdout",
     "output_type": "stream",
     "text": [
      "Training Step: 3039  | total loss: \u001b[1m\u001b[32m0.39144\u001b[0m\u001b[0m | time: 47.244s\n\u001b[2K\r| Adam | epoch: 010 | loss: 0.39144 - acc: 0.8314 -- iter: 11904/20250\n"
     ]
    },
    {
     "name": "stdout",
     "output_type": "stream",
     "text": [
      "Training Step: 3040  | total loss: \u001b[1m\u001b[32m0.38623\u001b[0m\u001b[0m | time: 47.489s\n\u001b[2K\r| Adam | epoch: 010 | loss: 0.38623 - acc: 0.8358 -- iter: 11968/20250\n"
     ]
    },
    {
     "name": "stdout",
     "output_type": "stream",
     "text": [
      "Training Step: 3041  | total loss: \u001b[1m\u001b[32m0.38611\u001b[0m\u001b[0m | time: 47.747s\n\u001b[2K\r| Adam | epoch: 010 | loss: 0.38611 - acc: 0.8366 -- iter: 12032/20250\n"
     ]
    },
    {
     "name": "stdout",
     "output_type": "stream",
     "text": [
      "Training Step: 3042  | total loss: \u001b[1m\u001b[32m0.38065\u001b[0m\u001b[0m | time: 47.993s\n\u001b[2K\r| Adam | epoch: 010 | loss: 0.38065 - acc: 0.8467 -- iter: 12096/20250\n"
     ]
    },
    {
     "name": "stdout",
     "output_type": "stream",
     "text": [
      "Training Step: 3043  | total loss: \u001b[1m\u001b[32m0.37131\u001b[0m\u001b[0m | time: 48.240s\n\u001b[2K\r| Adam | epoch: 010 | loss: 0.37131 - acc: 0.8558 -- iter: 12160/20250\n"
     ]
    },
    {
     "name": "stdout",
     "output_type": "stream",
     "text": [
      "Training Step: 3044  | total loss: \u001b[1m\u001b[32m0.36997\u001b[0m\u001b[0m | time: 48.489s\n\u001b[2K\r| Adam | epoch: 010 | loss: 0.36997 - acc: 0.8577 -- iter: 12224/20250\n"
     ]
    },
    {
     "name": "stdout",
     "output_type": "stream",
     "text": [
      "Training Step: 3045  | total loss: \u001b[1m\u001b[32m0.37011\u001b[0m\u001b[0m | time: 48.736s\n\u001b[2K\r| Adam | epoch: 010 | loss: 0.37011 - acc: 0.8563 -- iter: 12288/20250\n"
     ]
    },
    {
     "name": "stdout",
     "output_type": "stream",
     "text": [
      "Training Step: 3046  | total loss: \u001b[1m\u001b[32m0.36429\u001b[0m\u001b[0m | time: 48.998s\n\u001b[2K\r| Adam | epoch: 010 | loss: 0.36429 - acc: 0.8613 -- iter: 12352/20250\n"
     ]
    },
    {
     "name": "stdout",
     "output_type": "stream",
     "text": [
      "Training Step: 3047  | total loss: \u001b[1m\u001b[32m0.36680\u001b[0m\u001b[0m | time: 49.273s\n\u001b[2K\r| Adam | epoch: 010 | loss: 0.36680 - acc: 0.8564 -- iter: 12416/20250\n"
     ]
    },
    {
     "name": "stdout",
     "output_type": "stream",
     "text": [
      "Training Step: 3048  | total loss: \u001b[1m\u001b[32m0.36306\u001b[0m\u001b[0m | time: 49.526s\n\u001b[2K\r| Adam | epoch: 010 | loss: 0.36306 - acc: 0.8567 -- iter: 12480/20250\n"
     ]
    },
    {
     "name": "stdout",
     "output_type": "stream",
     "text": [
      "Training Step: 3049  | total loss: \u001b[1m\u001b[32m0.35481\u001b[0m\u001b[0m | time: 49.779s\n\u001b[2K\r| Adam | epoch: 010 | loss: 0.35481 - acc: 0.8632 -- iter: 12544/20250\n"
     ]
    },
    {
     "name": "stdout",
     "output_type": "stream",
     "text": [
      "Training Step: 3050  | total loss: \u001b[1m\u001b[32m0.35228\u001b[0m\u001b[0m | time: 50.023s\n\u001b[2K\r| Adam | epoch: 010 | loss: 0.35228 - acc: 0.8628 -- iter: 12608/20250\n"
     ]
    },
    {
     "name": "stdout",
     "output_type": "stream",
     "text": [
      "Training Step: 3051  | total loss: \u001b[1m\u001b[32m0.35531\u001b[0m\u001b[0m | time: 50.266s\n\u001b[2K\r| Adam | epoch: 010 | loss: 0.35531 - acc: 0.8625 -- iter: 12672/20250\n"
     ]
    },
    {
     "name": "stdout",
     "output_type": "stream",
     "text": [
      "Training Step: 3052  | total loss: \u001b[1m\u001b[32m0.34816\u001b[0m\u001b[0m | time: 50.517s\n\u001b[2K\r| Adam | epoch: 010 | loss: 0.34816 - acc: 0.8637 -- iter: 12736/20250\n"
     ]
    },
    {
     "name": "stdout",
     "output_type": "stream",
     "text": [
      "Training Step: 3053  | total loss: \u001b[1m\u001b[32m0.34294\u001b[0m\u001b[0m | time: 50.761s\n\u001b[2K\r| Adam | epoch: 010 | loss: 0.34294 - acc: 0.8696 -- iter: 12800/20250\n"
     ]
    },
    {
     "name": "stdout",
     "output_type": "stream",
     "text": [
      "Training Step: 3054  | total loss: \u001b[1m\u001b[32m0.32726\u001b[0m\u001b[0m | time: 51.004s\n\u001b[2K\r| Adam | epoch: 010 | loss: 0.32726 - acc: 0.8779 -- iter: 12864/20250\n"
     ]
    },
    {
     "name": "stdout",
     "output_type": "stream",
     "text": [
      "Training Step: 3055  | total loss: \u001b[1m\u001b[32m0.32353\u001b[0m\u001b[0m | time: 51.252s\n\u001b[2K\r| Adam | epoch: 010 | loss: 0.32353 - acc: 0.8792 -- iter: 12928/20250\n"
     ]
    },
    {
     "name": "stdout",
     "output_type": "stream",
     "text": [
      "Training Step: 3056  | total loss: \u001b[1m\u001b[32m0.32400\u001b[0m\u001b[0m | time: 51.502s\n\u001b[2K\r| Adam | epoch: 010 | loss: 0.32400 - acc: 0.8803 -- iter: 12992/20250\n"
     ]
    },
    {
     "name": "stdout",
     "output_type": "stream",
     "text": [
      "Training Step: 3057  | total loss: \u001b[1m\u001b[32m0.33197\u001b[0m\u001b[0m | time: 51.765s\n\u001b[2K\r| Adam | epoch: 010 | loss: 0.33197 - acc: 0.8782 -- iter: 13056/20250\n"
     ]
    },
    {
     "name": "stdout",
     "output_type": "stream",
     "text": [
      "Training Step: 3058  | total loss: \u001b[1m\u001b[32m0.33191\u001b[0m\u001b[0m | time: 52.048s\n\u001b[2K\r| Adam | epoch: 010 | loss: 0.33191 - acc: 0.8763 -- iter: 13120/20250\n"
     ]
    },
    {
     "name": "stdout",
     "output_type": "stream",
     "text": [
      "Training Step: 3059  | total loss: \u001b[1m\u001b[32m0.34548\u001b[0m\u001b[0m | time: 52.311s\n\u001b[2K\r| Adam | epoch: 010 | loss: 0.34548 - acc: 0.8700 -- iter: 13184/20250\n"
     ]
    },
    {
     "name": "stdout",
     "output_type": "stream",
     "text": [
      "Training Step: 3060  | total loss: \u001b[1m\u001b[32m0.36745\u001b[0m\u001b[0m | time: 52.556s\n\u001b[2K\r| Adam | epoch: 010 | loss: 0.36745 - acc: 0.8595 -- iter: 13248/20250\n"
     ]
    },
    {
     "name": "stdout",
     "output_type": "stream",
     "text": [
      "Training Step: 3061  | total loss: \u001b[1m\u001b[32m0.37314\u001b[0m\u001b[0m | time: 52.803s\n\u001b[2K\r| Adam | epoch: 010 | loss: 0.37314 - acc: 0.8533 -- iter: 13312/20250\n"
     ]
    },
    {
     "name": "stdout",
     "output_type": "stream",
     "text": [
      "Training Step: 3062  | total loss: \u001b[1m\u001b[32m0.35551\u001b[0m\u001b[0m | time: 53.048s\n\u001b[2K\r| Adam | epoch: 010 | loss: 0.35551 - acc: 0.8648 -- iter: 13376/20250\n"
     ]
    },
    {
     "name": "stdout",
     "output_type": "stream",
     "text": [
      "Training Step: 3063  | total loss: \u001b[1m\u001b[32m0.35598\u001b[0m\u001b[0m | time: 53.299s\n\u001b[2K\r| Adam | epoch: 010 | loss: 0.35598 - acc: 0.8658 -- iter: 13440/20250\n"
     ]
    },
    {
     "name": "stdout",
     "output_type": "stream",
     "text": [
      "Training Step: 3064  | total loss: \u001b[1m\u001b[32m0.36494\u001b[0m\u001b[0m | time: 53.546s\n\u001b[2K\r| Adam | epoch: 010 | loss: 0.36494 - acc: 0.8589 -- iter: 13504/20250\n"
     ]
    },
    {
     "name": "stdout",
     "output_type": "stream",
     "text": [
      "Training Step: 3065  | total loss: \u001b[1m\u001b[32m0.36875\u001b[0m\u001b[0m | time: 53.797s\n\u001b[2K\r| Adam | epoch: 010 | loss: 0.36875 - acc: 0.8559 -- iter: 13568/20250\n"
     ]
    },
    {
     "name": "stdout",
     "output_type": "stream",
     "text": [
      "Training Step: 3066  | total loss: \u001b[1m\u001b[32m0.37054\u001b[0m\u001b[0m | time: 54.051s\n\u001b[2K\r| Adam | epoch: 010 | loss: 0.37054 - acc: 0.8546 -- iter: 13632/20250\n"
     ]
    },
    {
     "name": "stdout",
     "output_type": "stream",
     "text": [
      "Training Step: 3067  | total loss: \u001b[1m\u001b[32m0.37361\u001b[0m\u001b[0m | time: 54.322s\n\u001b[2K\r| Adam | epoch: 010 | loss: 0.37361 - acc: 0.8520 -- iter: 13696/20250\n"
     ]
    },
    {
     "name": "stdout",
     "output_type": "stream",
     "text": [
      "Training Step: 3068  | total loss: \u001b[1m\u001b[32m0.36721\u001b[0m\u001b[0m | time: 54.628s\n\u001b[2K\r| Adam | epoch: 010 | loss: 0.36721 - acc: 0.8559 -- iter: 13760/20250\n"
     ]
    },
    {
     "name": "stdout",
     "output_type": "stream",
     "text": [
      "Training Step: 3069  | total loss: \u001b[1m\u001b[32m0.36782\u001b[0m\u001b[0m | time: 54.872s\n\u001b[2K\r| Adam | epoch: 010 | loss: 0.36782 - acc: 0.8546 -- iter: 13824/20250\n"
     ]
    },
    {
     "name": "stdout",
     "output_type": "stream",
     "text": [
      "Training Step: 3070  | total loss: \u001b[1m\u001b[32m0.36089\u001b[0m\u001b[0m | time: 55.118s\n\u001b[2K\r| Adam | epoch: 010 | loss: 0.36089 - acc: 0.8629 -- iter: 13888/20250\n"
     ]
    },
    {
     "name": "stdout",
     "output_type": "stream",
     "text": [
      "Training Step: 3071  | total loss: \u001b[1m\u001b[32m0.35252\u001b[0m\u001b[0m | time: 55.365s\n\u001b[2K\r| Adam | epoch: 010 | loss: 0.35252 - acc: 0.8688 -- iter: 13952/20250\n"
     ]
    },
    {
     "name": "stdout",
     "output_type": "stream",
     "text": [
      "Training Step: 3072  | total loss: \u001b[1m\u001b[32m0.36074\u001b[0m\u001b[0m | time: 55.609s\n\u001b[2K\r| Adam | epoch: 010 | loss: 0.36074 - acc: 0.8585 -- iter: 14016/20250\n"
     ]
    },
    {
     "name": "stdout",
     "output_type": "stream",
     "text": [
      "Training Step: 3073  | total loss: \u001b[1m\u001b[32m0.35765\u001b[0m\u001b[0m | time: 55.858s\n\u001b[2K\r| Adam | epoch: 010 | loss: 0.35765 - acc: 0.8602 -- iter: 14080/20250\n"
     ]
    },
    {
     "name": "stdout",
     "output_type": "stream",
     "text": [
      "Training Step: 3074  | total loss: \u001b[1m\u001b[32m0.36094\u001b[0m\u001b[0m | time: 56.092s\n\u001b[2K\r| Adam | epoch: 010 | loss: 0.36094 - acc: 0.8585 -- iter: 14144/20250\n"
     ]
    },
    {
     "name": "stdout",
     "output_type": "stream",
     "text": [
      "Training Step: 3075  | total loss: \u001b[1m\u001b[32m0.35831\u001b[0m\u001b[0m | time: 56.345s\n\u001b[2K\r| Adam | epoch: 010 | loss: 0.35831 - acc: 0.8617 -- iter: 14208/20250\n"
     ]
    },
    {
     "name": "stdout",
     "output_type": "stream",
     "text": [
      "Training Step: 3076  | total loss: \u001b[1m\u001b[32m0.36336\u001b[0m\u001b[0m | time: 56.604s\n\u001b[2K\r| Adam | epoch: 010 | loss: 0.36336 - acc: 0.8584 -- iter: 14272/20250\n"
     ]
    },
    {
     "name": "stdout",
     "output_type": "stream",
     "text": [
      "Training Step: 3077  | total loss: \u001b[1m\u001b[32m0.36101\u001b[0m\u001b[0m | time: 56.888s\n\u001b[2K\r| Adam | epoch: 010 | loss: 0.36101 - acc: 0.8569 -- iter: 14336/20250\n"
     ]
    },
    {
     "name": "stdout",
     "output_type": "stream",
     "text": [
      "Training Step: 3078  | total loss: \u001b[1m\u001b[32m0.36230\u001b[0m\u001b[0m | time: 57.151s\n\u001b[2K\r| Adam | epoch: 010 | loss: 0.36230 - acc: 0.8540 -- iter: 14400/20250\n"
     ]
    },
    {
     "name": "stdout",
     "output_type": "stream",
     "text": [
      "Training Step: 3079  | total loss: \u001b[1m\u001b[32m0.35483\u001b[0m\u001b[0m | time: 57.397s\n\u001b[2K\r| Adam | epoch: 010 | loss: 0.35483 - acc: 0.8546 -- iter: 14464/20250\n"
     ]
    },
    {
     "name": "stdout",
     "output_type": "stream",
     "text": [
      "Training Step: 3080  | total loss: \u001b[1m\u001b[32m0.34930\u001b[0m\u001b[0m | time: 57.641s\n\u001b[2K\r| Adam | epoch: 010 | loss: 0.34930 - acc: 0.8597 -- iter: 14528/20250\n"
     ]
    },
    {
     "name": "stdout",
     "output_type": "stream",
     "text": [
      "Training Step: 3081  | total loss: \u001b[1m\u001b[32m0.33488\u001b[0m\u001b[0m | time: 57.890s\n\u001b[2K\r| Adam | epoch: 010 | loss: 0.33488 - acc: 0.8644 -- iter: 14592/20250\n"
     ]
    },
    {
     "name": "stdout",
     "output_type": "stream",
     "text": [
      "Training Step: 3082  | total loss: \u001b[1m\u001b[32m0.32718\u001b[0m\u001b[0m | time: 58.134s\n\u001b[2K\r| Adam | epoch: 010 | loss: 0.32718 - acc: 0.8670 -- iter: 14656/20250\n"
     ]
    },
    {
     "name": "stdout",
     "output_type": "stream",
     "text": [
      "Training Step: 3083  | total loss: \u001b[1m\u001b[32m0.32349\u001b[0m\u001b[0m | time: 58.380s\n\u001b[2K\r| Adam | epoch: 010 | loss: 0.32349 - acc: 0.8662 -- iter: 14720/20250\n"
     ]
    },
    {
     "name": "stdout",
     "output_type": "stream",
     "text": [
      "Training Step: 3084  | total loss: \u001b[1m\u001b[32m0.32451\u001b[0m\u001b[0m | time: 58.629s\n\u001b[2K\r| Adam | epoch: 010 | loss: 0.32451 - acc: 0.8656 -- iter: 14784/20250\n"
     ]
    },
    {
     "name": "stdout",
     "output_type": "stream",
     "text": [
      "Training Step: 3085  | total loss: \u001b[1m\u001b[32m0.31720\u001b[0m\u001b[0m | time: 58.873s\n\u001b[2K\r| Adam | epoch: 010 | loss: 0.31720 - acc: 0.8712 -- iter: 14848/20250\n"
     ]
    },
    {
     "name": "stdout",
     "output_type": "stream",
     "text": [
      "Training Step: 3086  | total loss: \u001b[1m\u001b[32m0.31290\u001b[0m\u001b[0m | time: 59.118s\n\u001b[2K\r| Adam | epoch: 010 | loss: 0.31290 - acc: 0.8731 -- iter: 14912/20250\n"
     ]
    },
    {
     "name": "stdout",
     "output_type": "stream",
     "text": [
      "Training Step: 3087  | total loss: \u001b[1m\u001b[32m0.31591\u001b[0m\u001b[0m | time: 59.382s\n\u001b[2K\r| Adam | epoch: 010 | loss: 0.31591 - acc: 0.8749 -- iter: 14976/20250\n"
     ]
    },
    {
     "name": "stdout",
     "output_type": "stream",
     "text": [
      "Training Step: 3088  | total loss: \u001b[1m\u001b[32m0.31821\u001b[0m\u001b[0m | time: 59.688s\n\u001b[2K\r| Adam | epoch: 010 | loss: 0.31821 - acc: 0.8686 -- iter: 15040/20250\n"
     ]
    },
    {
     "name": "stdout",
     "output_type": "stream",
     "text": [
      "Training Step: 3089  | total loss: \u001b[1m\u001b[32m0.31993\u001b[0m\u001b[0m | time: 59.937s\n\u001b[2K\r| Adam | epoch: 010 | loss: 0.31993 - acc: 0.8646 -- iter: 15104/20250\n"
     ]
    },
    {
     "name": "stdout",
     "output_type": "stream",
     "text": [
      "Training Step: 3090  | total loss: \u001b[1m\u001b[32m0.32847\u001b[0m\u001b[0m | time: 60.191s\n\u001b[2K\r| Adam | epoch: 010 | loss: 0.32847 - acc: 0.8609 -- iter: 15168/20250\n"
     ]
    },
    {
     "name": "stdout",
     "output_type": "stream",
     "text": [
      "Training Step: 3091  | total loss: \u001b[1m\u001b[32m0.32389\u001b[0m\u001b[0m | time: 60.433s\n\u001b[2K\r| Adam | epoch: 010 | loss: 0.32389 - acc: 0.8639 -- iter: 15232/20250\n"
     ]
    },
    {
     "name": "stdout",
     "output_type": "stream",
     "text": [
      "Training Step: 3092  | total loss: \u001b[1m\u001b[32m0.32502\u001b[0m\u001b[0m | time: 60.680s\n\u001b[2K\r| Adam | epoch: 010 | loss: 0.32502 - acc: 0.8635 -- iter: 15296/20250\n"
     ]
    },
    {
     "name": "stdout",
     "output_type": "stream",
     "text": [
      "Training Step: 3093  | total loss: \u001b[1m\u001b[32m0.31678\u001b[0m\u001b[0m | time: 60.929s\n\u001b[2K\r| Adam | epoch: 010 | loss: 0.31678 - acc: 0.8662 -- iter: 15360/20250\n"
     ]
    },
    {
     "name": "stdout",
     "output_type": "stream",
     "text": [
      "Training Step: 3094  | total loss: \u001b[1m\u001b[32m0.32228\u001b[0m\u001b[0m | time: 61.171s\n\u001b[2K\r| Adam | epoch: 010 | loss: 0.32228 - acc: 0.8624 -- iter: 15424/20250\n"
     ]
    },
    {
     "name": "stdout",
     "output_type": "stream",
     "text": [
      "Training Step: 3095  | total loss: \u001b[1m\u001b[32m0.31582\u001b[0m\u001b[0m | time: 61.413s\n\u001b[2K\r| Adam | epoch: 010 | loss: 0.31582 - acc: 0.8668 -- iter: 15488/20250\n"
     ]
    },
    {
     "name": "stdout",
     "output_type": "stream",
     "text": [
      "Training Step: 3096  | total loss: \u001b[1m\u001b[32m0.31442\u001b[0m\u001b[0m | time: 61.661s\n\u001b[2K\r| Adam | epoch: 010 | loss: 0.31442 - acc: 0.8660 -- iter: 15552/20250\n"
     ]
    },
    {
     "name": "stdout",
     "output_type": "stream",
     "text": [
      "Training Step: 3097  | total loss: \u001b[1m\u001b[32m0.31897\u001b[0m\u001b[0m | time: 61.931s\n\u001b[2K\r| Adam | epoch: 010 | loss: 0.31897 - acc: 0.8638 -- iter: 15616/20250\n"
     ]
    },
    {
     "name": "stdout",
     "output_type": "stream",
     "text": [
      "Training Step: 3098  | total loss: \u001b[1m\u001b[32m0.31986\u001b[0m\u001b[0m | time: 62.227s\n\u001b[2K\r| Adam | epoch: 010 | loss: 0.31986 - acc: 0.8618 -- iter: 15680/20250\n"
     ]
    },
    {
     "name": "stdout",
     "output_type": "stream",
     "text": [
      "Training Step: 3099  | total loss: \u001b[1m\u001b[32m0.32173\u001b[0m\u001b[0m | time: 62.488s\n\u001b[2K\r| Adam | epoch: 010 | loss: 0.32173 - acc: 0.8615 -- iter: 15744/20250\n"
     ]
    },
    {
     "name": "stdout",
     "output_type": "stream",
     "text": [
      "Training Step: 3100  | total loss: \u001b[1m\u001b[32m0.32935\u001b[0m\u001b[0m | time: 62.741s\n\u001b[2K\r| Adam | epoch: 010 | loss: 0.32935 - acc: 0.8598 -- iter: 15808/20250\n"
     ]
    },
    {
     "name": "stdout",
     "output_type": "stream",
     "text": [
      "Training Step: 3101  | total loss: \u001b[1m\u001b[32m0.32476\u001b[0m\u001b[0m | time: 62.988s\n\u001b[2K\r| Adam | epoch: 010 | loss: 0.32476 - acc: 0.8597 -- iter: 15872/20250\n"
     ]
    },
    {
     "name": "stdout",
     "output_type": "stream",
     "text": [
      "Training Step: 3102  | total loss: \u001b[1m\u001b[32m0.32085\u001b[0m\u001b[0m | time: 63.233s\n\u001b[2K\r| Adam | epoch: 010 | loss: 0.32085 - acc: 0.8644 -- iter: 15936/20250\n"
     ]
    },
    {
     "name": "stdout",
     "output_type": "stream",
     "text": [
      "Training Step: 3103  | total loss: \u001b[1m\u001b[32m0.31897\u001b[0m\u001b[0m | time: 63.481s\n\u001b[2K\r| Adam | epoch: 010 | loss: 0.31897 - acc: 0.8639 -- iter: 16000/20250\n"
     ]
    },
    {
     "name": "stdout",
     "output_type": "stream",
     "text": [
      "Training Step: 3104  | total loss: \u001b[1m\u001b[32m0.31568\u001b[0m\u001b[0m | time: 63.730s\n\u001b[2K\r| Adam | epoch: 010 | loss: 0.31568 - acc: 0.8697 -- iter: 16064/20250\n"
     ]
    },
    {
     "name": "stdout",
     "output_type": "stream",
     "text": [
      "Training Step: 3105  | total loss: \u001b[1m\u001b[32m0.31062\u001b[0m\u001b[0m | time: 63.975s\n\u001b[2K\r| Adam | epoch: 010 | loss: 0.31062 - acc: 0.8702 -- iter: 16128/20250\n"
     ]
    },
    {
     "name": "stdout",
     "output_type": "stream",
     "text": [
      "Training Step: 3106  | total loss: \u001b[1m\u001b[32m0.30703\u001b[0m\u001b[0m | time: 64.221s\n\u001b[2K\r| Adam | epoch: 010 | loss: 0.30703 - acc: 0.8738 -- iter: 16192/20250\n"
     ]
    },
    {
     "name": "stdout",
     "output_type": "stream",
     "text": [
      "Training Step: 3107  | total loss: \u001b[1m\u001b[32m0.31061\u001b[0m\u001b[0m | time: 64.489s\n\u001b[2K\r| Adam | epoch: 010 | loss: 0.31061 - acc: 0.8739 -- iter: 16256/20250\n"
     ]
    },
    {
     "name": "stdout",
     "output_type": "stream",
     "text": [
      "Training Step: 3108  | total loss: \u001b[1m\u001b[32m0.30923\u001b[0m\u001b[0m | time: 64.786s\n\u001b[2K\r| Adam | epoch: 010 | loss: 0.30923 - acc: 0.8756 -- iter: 16320/20250\n"
     ]
    },
    {
     "name": "stdout",
     "output_type": "stream",
     "text": [
      "Training Step: 3109  | total loss: \u001b[1m\u001b[32m0.30495\u001b[0m\u001b[0m | time: 65.039s\n\u001b[2K\r| Adam | epoch: 010 | loss: 0.30495 - acc: 0.8802 -- iter: 16384/20250\n"
     ]
    },
    {
     "name": "stdout",
     "output_type": "stream",
     "text": [
      "Training Step: 3110  | total loss: \u001b[1m\u001b[32m0.32262\u001b[0m\u001b[0m | time: 65.293s\n\u001b[2K\r| Adam | epoch: 010 | loss: 0.32262 - acc: 0.8703 -- iter: 16448/20250\n"
     ]
    },
    {
     "name": "stdout",
     "output_type": "stream",
     "text": [
      "Training Step: 3111  | total loss: \u001b[1m\u001b[32m0.32632\u001b[0m\u001b[0m | time: 65.534s\n\u001b[2K\r| Adam | epoch: 010 | loss: 0.32632 - acc: 0.8692 -- iter: 16512/20250\n"
     ]
    },
    {
     "name": "stdout",
     "output_type": "stream",
     "text": [
      "Training Step: 3112  | total loss: \u001b[1m\u001b[32m0.32973\u001b[0m\u001b[0m | time: 65.782s\n\u001b[2K\r| Adam | epoch: 010 | loss: 0.32973 - acc: 0.8683 -- iter: 16576/20250\n"
     ]
    },
    {
     "name": "stdout",
     "output_type": "stream",
     "text": [
      "Training Step: 3113  | total loss: \u001b[1m\u001b[32m0.32806\u001b[0m\u001b[0m | time: 66.035s\n\u001b[2K\r| Adam | epoch: 010 | loss: 0.32806 - acc: 0.8689 -- iter: 16640/20250\n"
     ]
    },
    {
     "name": "stdout",
     "output_type": "stream",
     "text": [
      "Training Step: 3114  | total loss: \u001b[1m\u001b[32m0.35014\u001b[0m\u001b[0m | time: 66.284s\n\u001b[2K\r| Adam | epoch: 010 | loss: 0.35014 - acc: 0.8586 -- iter: 16704/20250\n"
     ]
    },
    {
     "name": "stdout",
     "output_type": "stream",
     "text": [
      "Training Step: 3115  | total loss: \u001b[1m\u001b[32m0.34670\u001b[0m\u001b[0m | time: 66.537s\n\u001b[2K\r| Adam | epoch: 010 | loss: 0.34670 - acc: 0.8602 -- iter: 16768/20250\n"
     ]
    },
    {
     "name": "stdout",
     "output_type": "stream",
     "text": [
      "Training Step: 3116  | total loss: \u001b[1m\u001b[32m0.34012\u001b[0m\u001b[0m | time: 66.786s\n\u001b[2K\r| Adam | epoch: 010 | loss: 0.34012 - acc: 0.8601 -- iter: 16832/20250\n"
     ]
    },
    {
     "name": "stdout",
     "output_type": "stream",
     "text": [
      "Training Step: 3117  | total loss: \u001b[1m\u001b[32m0.33803\u001b[0m\u001b[0m | time: 67.042s\n\u001b[2K\r| Adam | epoch: 010 | loss: 0.33803 - acc: 0.8632 -- iter: 16896/20250\n"
     ]
    },
    {
     "name": "stdout",
     "output_type": "stream",
     "text": [
      "Training Step: 3118  | total loss: \u001b[1m\u001b[32m0.33639\u001b[0m\u001b[0m | time: 67.304s\n\u001b[2K\r| Adam | epoch: 010 | loss: 0.33639 - acc: 0.8644 -- iter: 16960/20250\n"
     ]
    },
    {
     "name": "stdout",
     "output_type": "stream",
     "text": [
      "Training Step: 3119  | total loss: \u001b[1m\u001b[32m0.33502\u001b[0m\u001b[0m | time: 67.555s\n\u001b[2K\r| Adam | epoch: 010 | loss: 0.33502 - acc: 0.8654 -- iter: 17024/20250\n"
     ]
    },
    {
     "name": "stdout",
     "output_type": "stream",
     "text": [
      "Training Step: 3120  | total loss: \u001b[1m\u001b[32m0.34341\u001b[0m\u001b[0m | time: 67.829s\n\u001b[2K\r| Adam | epoch: 010 | loss: 0.34341 - acc: 0.8664 -- iter: 17088/20250\n"
     ]
    },
    {
     "name": "stdout",
     "output_type": "stream",
     "text": [
      "Training Step: 3121  | total loss: \u001b[1m\u001b[32m0.34160\u001b[0m\u001b[0m | time: 68.071s\n\u001b[2K\r| Adam | epoch: 010 | loss: 0.34160 - acc: 0.8641 -- iter: 17152/20250\n"
     ]
    },
    {
     "name": "stdout",
     "output_type": "stream",
     "text": [
      "Training Step: 3122  | total loss: \u001b[1m\u001b[32m0.33117\u001b[0m\u001b[0m | time: 68.315s\n\u001b[2K\r| Adam | epoch: 010 | loss: 0.33117 - acc: 0.8715 -- iter: 17216/20250\n"
     ]
    },
    {
     "name": "stdout",
     "output_type": "stream",
     "text": [
      "Training Step: 3123  | total loss: \u001b[1m\u001b[32m0.33305\u001b[0m\u001b[0m | time: 68.561s\n\u001b[2K\r| Adam | epoch: 010 | loss: 0.33305 - acc: 0.8718 -- iter: 17280/20250\n"
     ]
    },
    {
     "name": "stdout",
     "output_type": "stream",
     "text": [
      "Training Step: 3124  | total loss: \u001b[1m\u001b[32m0.33299\u001b[0m\u001b[0m | time: 68.810s\n\u001b[2K\r| Adam | epoch: 010 | loss: 0.33299 - acc: 0.8721 -- iter: 17344/20250\n"
     ]
    },
    {
     "name": "stdout",
     "output_type": "stream",
     "text": [
      "Training Step: 3125  | total loss: \u001b[1m\u001b[32m0.32614\u001b[0m\u001b[0m | time: 69.060s\n\u001b[2K\r| Adam | epoch: 010 | loss: 0.32614 - acc: 0.8756 -- iter: 17408/20250\n"
     ]
    },
    {
     "name": "stdout",
     "output_type": "stream",
     "text": [
      "Training Step: 3126  | total loss: \u001b[1m\u001b[32m0.32638\u001b[0m\u001b[0m | time: 69.306s\n\u001b[2K\r| Adam | epoch: 010 | loss: 0.32638 - acc: 0.8755 -- iter: 17472/20250\n"
     ]
    },
    {
     "name": "stdout",
     "output_type": "stream",
     "text": [
      "Training Step: 3127  | total loss: \u001b[1m\u001b[32m0.32544\u001b[0m\u001b[0m | time: 69.561s\n\u001b[2K\r| Adam | epoch: 010 | loss: 0.32544 - acc: 0.8754 -- iter: 17536/20250\n"
     ]
    },
    {
     "name": "stdout",
     "output_type": "stream",
     "text": [
      "Training Step: 3128  | total loss: \u001b[1m\u001b[32m0.31876\u001b[0m\u001b[0m | time: 69.814s\n\u001b[2K\r| Adam | epoch: 010 | loss: 0.31876 - acc: 0.8785 -- iter: 17600/20250\n"
     ]
    },
    {
     "name": "stdout",
     "output_type": "stream",
     "text": [
      "Training Step: 3129  | total loss: \u001b[1m\u001b[32m0.32131\u001b[0m\u001b[0m | time: 70.078s\n\u001b[2K\r| Adam | epoch: 010 | loss: 0.32131 - acc: 0.8766 -- iter: 17664/20250\n"
     ]
    },
    {
     "name": "stdout",
     "output_type": "stream",
     "text": [
      "Training Step: 3130  | total loss: \u001b[1m\u001b[32m0.32966\u001b[0m\u001b[0m | time: 70.324s\n\u001b[2K\r| Adam | epoch: 010 | loss: 0.32966 - acc: 0.8749 -- iter: 17728/20250\n"
     ]
    },
    {
     "name": "stdout",
     "output_type": "stream",
     "text": [
      "Training Step: 3131  | total loss: \u001b[1m\u001b[32m0.33362\u001b[0m\u001b[0m | time: 70.609s\n\u001b[2K\r| Adam | epoch: 010 | loss: 0.33362 - acc: 0.8765 -- iter: 17792/20250\n"
     ]
    },
    {
     "name": "stdout",
     "output_type": "stream",
     "text": [
      "Training Step: 3132  | total loss: \u001b[1m\u001b[32m0.32344\u001b[0m\u001b[0m | time: 70.857s\n\u001b[2K\r| Adam | epoch: 010 | loss: 0.32344 - acc: 0.8794 -- iter: 17856/20250\n"
     ]
    },
    {
     "name": "stdout",
     "output_type": "stream",
     "text": [
      "Training Step: 3133  | total loss: \u001b[1m\u001b[32m0.32101\u001b[0m\u001b[0m | time: 71.108s\n\u001b[2K\r| Adam | epoch: 010 | loss: 0.32101 - acc: 0.8821 -- iter: 17920/20250\n"
     ]
    },
    {
     "name": "stdout",
     "output_type": "stream",
     "text": [
      "Training Step: 3134  | total loss: \u001b[1m\u001b[32m0.31311\u001b[0m\u001b[0m | time: 71.354s\n\u001b[2K\r| Adam | epoch: 010 | loss: 0.31311 - acc: 0.8877 -- iter: 17984/20250\n"
     ]
    },
    {
     "name": "stdout",
     "output_type": "stream",
     "text": [
      "Training Step: 3135  | total loss: \u001b[1m\u001b[32m0.31458\u001b[0m\u001b[0m | time: 71.599s\n\u001b[2K\r| Adam | epoch: 010 | loss: 0.31458 - acc: 0.8880 -- iter: 18048/20250\n"
     ]
    },
    {
     "name": "stdout",
     "output_type": "stream",
     "text": [
      "Training Step: 3136  | total loss: \u001b[1m\u001b[32m0.32803\u001b[0m\u001b[0m | time: 71.852s\n\u001b[2K\r| Adam | epoch: 010 | loss: 0.32803 - acc: 0.8851 -- iter: 18112/20250\n"
     ]
    },
    {
     "name": "stdout",
     "output_type": "stream",
     "text": [
      "Training Step: 3137  | total loss: \u001b[1m\u001b[32m0.32645\u001b[0m\u001b[0m | time: 72.103s\n\u001b[2K\r| Adam | epoch: 010 | loss: 0.32645 - acc: 0.8857 -- iter: 18176/20250\n"
     ]
    },
    {
     "name": "stdout",
     "output_type": "stream",
     "text": [
      "Training Step: 3138  | total loss: \u001b[1m\u001b[32m0.32422\u001b[0m\u001b[0m | time: 72.352s\n\u001b[2K\r| Adam | epoch: 010 | loss: 0.32422 - acc: 0.8815 -- iter: 18240/20250\n"
     ]
    },
    {
     "name": "stdout",
     "output_type": "stream",
     "text": [
      "Training Step: 3139  | total loss: \u001b[1m\u001b[32m0.33132\u001b[0m\u001b[0m | time: 72.606s\n\u001b[2K\r| Adam | epoch: 010 | loss: 0.33132 - acc: 0.8714 -- iter: 18304/20250\n"
     ]
    },
    {
     "name": "stdout",
     "output_type": "stream",
     "text": [
      "Training Step: 3140  | total loss: \u001b[1m\u001b[32m0.32213\u001b[0m\u001b[0m | time: 72.881s\n\u001b[2K\r| Adam | epoch: 010 | loss: 0.32213 - acc: 0.8765 -- iter: 18368/20250\n"
     ]
    },
    {
     "name": "stdout",
     "output_type": "stream",
     "text": [
      "Training Step: 3141  | total loss: \u001b[1m\u001b[32m0.33124\u001b[0m\u001b[0m | time: 73.181s\n\u001b[2K\r| Adam | epoch: 010 | loss: 0.33124 - acc: 0.8701 -- iter: 18432/20250\n"
     ]
    },
    {
     "name": "stdout",
     "output_type": "stream",
     "text": [
      "Training Step: 3142  | total loss: \u001b[1m\u001b[32m0.32479\u001b[0m\u001b[0m | time: 73.432s\n\u001b[2K\r| Adam | epoch: 010 | loss: 0.32479 - acc: 0.8706 -- iter: 18496/20250\n"
     ]
    },
    {
     "name": "stdout",
     "output_type": "stream",
     "text": [
      "Training Step: 3143  | total loss: \u001b[1m\u001b[32m0.32664\u001b[0m\u001b[0m | time: 73.673s\n\u001b[2K\r| Adam | epoch: 010 | loss: 0.32664 - acc: 0.8679 -- iter: 18560/20250\n"
     ]
    },
    {
     "name": "stdout",
     "output_type": "stream",
     "text": [
      "Training Step: 3144  | total loss: \u001b[1m\u001b[32m0.32808\u001b[0m\u001b[0m | time: 73.918s\n\u001b[2K\r| Adam | epoch: 010 | loss: 0.32808 - acc: 0.8639 -- iter: 18624/20250\n"
     ]
    },
    {
     "name": "stdout",
     "output_type": "stream",
     "text": [
      "Training Step: 3145  | total loss: \u001b[1m\u001b[32m0.34461\u001b[0m\u001b[0m | time: 74.181s\n\u001b[2K\r| Adam | epoch: 010 | loss: 0.34461 - acc: 0.8510 -- iter: 18688/20250\n"
     ]
    },
    {
     "name": "stdout",
     "output_type": "stream",
     "text": [
      "Training Step: 3146  | total loss: \u001b[1m\u001b[32m0.33846\u001b[0m\u001b[0m | time: 74.447s\n\u001b[2K\r| Adam | epoch: 010 | loss: 0.33846 - acc: 0.8549 -- iter: 18752/20250\n"
     ]
    },
    {
     "name": "stdout",
     "output_type": "stream",
     "text": [
      "Training Step: 3147  | total loss: \u001b[1m\u001b[32m0.33272\u001b[0m\u001b[0m | time: 74.702s\n\u001b[2K\r| Adam | epoch: 010 | loss: 0.33272 - acc: 0.8601 -- iter: 18816/20250\n"
     ]
    },
    {
     "name": "stdout",
     "output_type": "stream",
     "text": [
      "Training Step: 3148  | total loss: \u001b[1m\u001b[32m0.32626\u001b[0m\u001b[0m | time: 74.953s\n\u001b[2K\r| Adam | epoch: 010 | loss: 0.32626 - acc: 0.8631 -- iter: 18880/20250\n"
     ]
    },
    {
     "name": "stdout",
     "output_type": "stream",
     "text": [
      "Training Step: 3149  | total loss: \u001b[1m\u001b[32m0.32304\u001b[0m\u001b[0m | time: 75.237s\n\u001b[2K\r| Adam | epoch: 010 | loss: 0.32304 - acc: 0.8627 -- iter: 18944/20250\n"
     ]
    },
    {
     "name": "stdout",
     "output_type": "stream",
     "text": [
      "Training Step: 3150  | total loss: \u001b[1m\u001b[32m0.31148\u001b[0m\u001b[0m | time: 75.550s\n\u001b[2K\r| Adam | epoch: 010 | loss: 0.31148 - acc: 0.8702 -- iter: 19008/20250\n"
     ]
    },
    {
     "name": "stdout",
     "output_type": "stream",
     "text": [
      "Training Step: 3151  | total loss: \u001b[1m\u001b[32m0.30813\u001b[0m\u001b[0m | time: 75.804s\n\u001b[2K\r| Adam | epoch: 010 | loss: 0.30813 - acc: 0.8723 -- iter: 19072/20250\n"
     ]
    },
    {
     "name": "stdout",
     "output_type": "stream",
     "text": [
      "Training Step: 3152  | total loss: \u001b[1m\u001b[32m0.30884\u001b[0m\u001b[0m | time: 76.055s\n\u001b[2K\r| Adam | epoch: 010 | loss: 0.30884 - acc: 0.8757 -- iter: 19136/20250\n"
     ]
    },
    {
     "name": "stdout",
     "output_type": "stream",
     "text": [
      "Training Step: 3153  | total loss: \u001b[1m\u001b[32m0.31665\u001b[0m\u001b[0m | time: 76.332s\n\u001b[2K\r| Adam | epoch: 010 | loss: 0.31665 - acc: 0.8709 -- iter: 19200/20250\n"
     ]
    },
    {
     "name": "stdout",
     "output_type": "stream",
     "text": [
      "Training Step: 3154  | total loss: \u001b[1m\u001b[32m0.31056\u001b[0m\u001b[0m | time: 76.590s\n\u001b[2K\r| Adam | epoch: 010 | loss: 0.31056 - acc: 0.8760 -- iter: 19264/20250\n"
     ]
    },
    {
     "name": "stdout",
     "output_type": "stream",
     "text": [
      "Training Step: 3155  | total loss: \u001b[1m\u001b[32m0.30434\u001b[0m\u001b[0m | time: 76.846s\n\u001b[2K\r| Adam | epoch: 010 | loss: 0.30434 - acc: 0.8759 -- iter: 19328/20250\n"
     ]
    },
    {
     "name": "stdout",
     "output_type": "stream",
     "text": [
      "Training Step: 3156  | total loss: \u001b[1m\u001b[32m0.30051\u001b[0m\u001b[0m | time: 77.108s\n\u001b[2K\r| Adam | epoch: 010 | loss: 0.30051 - acc: 0.8789 -- iter: 19392/20250\n"
     ]
    },
    {
     "name": "stdout",
     "output_type": "stream",
     "text": [
      "Training Step: 3157  | total loss: \u001b[1m\u001b[32m0.28575\u001b[0m\u001b[0m | time: 77.379s\n\u001b[2K\r| Adam | epoch: 010 | loss: 0.28575 - acc: 0.8879 -- iter: 19456/20250\n"
     ]
    },
    {
     "name": "stdout",
     "output_type": "stream",
     "text": [
      "Training Step: 3158  | total loss: \u001b[1m\u001b[32m0.28627\u001b[0m\u001b[0m | time: 77.628s\n\u001b[2K\r| Adam | epoch: 010 | loss: 0.28627 - acc: 0.8851 -- iter: 19520/20250\n"
     ]
    },
    {
     "name": "stdout",
     "output_type": "stream",
     "text": [
      "Training Step: 3159  | total loss: \u001b[1m\u001b[32m0.28543\u001b[0m\u001b[0m | time: 77.889s\n\u001b[2K\r| Adam | epoch: 010 | loss: 0.28543 - acc: 0.8872 -- iter: 19584/20250\n"
     ]
    },
    {
     "name": "stdout",
     "output_type": "stream",
     "text": [
      "Training Step: 3160  | total loss: \u001b[1m\u001b[32m0.27852\u001b[0m\u001b[0m | time: 78.172s\n\u001b[2K\r| Adam | epoch: 010 | loss: 0.27852 - acc: 0.8875 -- iter: 19648/20250\n"
     ]
    },
    {
     "name": "stdout",
     "output_type": "stream",
     "text": [
      "Training Step: 3161  | total loss: \u001b[1m\u001b[32m0.27837\u001b[0m\u001b[0m | time: 78.426s\n\u001b[2K\r| Adam | epoch: 010 | loss: 0.27837 - acc: 0.8894 -- iter: 19712/20250\n"
     ]
    },
    {
     "name": "stdout",
     "output_type": "stream",
     "text": [
      "Training Step: 3162  | total loss: \u001b[1m\u001b[32m0.27706\u001b[0m\u001b[0m | time: 78.674s\n\u001b[2K\r| Adam | epoch: 010 | loss: 0.27706 - acc: 0.8926 -- iter: 19776/20250\n"
     ]
    },
    {
     "name": "stdout",
     "output_type": "stream",
     "text": [
      "Training Step: 3163  | total loss: \u001b[1m\u001b[32m0.26401\u001b[0m\u001b[0m | time: 78.924s\n\u001b[2K\r| Adam | epoch: 010 | loss: 0.26401 - acc: 0.9003 -- iter: 19840/20250\n"
     ]
    },
    {
     "name": "stdout",
     "output_type": "stream",
     "text": [
      "Training Step: 3164  | total loss: \u001b[1m\u001b[32m0.28126\u001b[0m\u001b[0m | time: 79.173s\n\u001b[2K\r| Adam | epoch: 010 | loss: 0.28126 - acc: 0.8930 -- iter: 19904/20250\n"
     ]
    },
    {
     "name": "stdout",
     "output_type": "stream",
     "text": [
      "Training Step: 3165  | total loss: \u001b[1m\u001b[32m0.28802\u001b[0m\u001b[0m | time: 79.418s\n\u001b[2K\r| Adam | epoch: 010 | loss: 0.28802 - acc: 0.8881 -- iter: 19968/20250\n"
     ]
    },
    {
     "name": "stdout",
     "output_type": "stream",
     "text": [
      "Training Step: 3166  | total loss: \u001b[1m\u001b[32m0.28847\u001b[0m\u001b[0m | time: 79.661s\n\u001b[2K\r| Adam | epoch: 010 | loss: 0.28847 - acc: 0.8868 -- iter: 20032/20250\n"
     ]
    },
    {
     "name": "stdout",
     "output_type": "stream",
     "text": [
      "Training Step: 3167  | total loss: \u001b[1m\u001b[32m0.27383\u001b[0m\u001b[0m | time: 79.909s\n\u001b[2K\r| Adam | epoch: 010 | loss: 0.27383 - acc: 0.8919 -- iter: 20096/20250\n"
     ]
    },
    {
     "name": "stdout",
     "output_type": "stream",
     "text": [
      "Training Step: 3168  | total loss: \u001b[1m\u001b[32m0.28477\u001b[0m\u001b[0m | time: 80.159s\n\u001b[2K\r| Adam | epoch: 010 | loss: 0.28477 - acc: 0.8824 -- iter: 20160/20250\n"
     ]
    },
    {
     "name": "stdout",
     "output_type": "stream",
     "text": [
      "Training Step: 3169  | total loss: \u001b[1m\u001b[32m0.27872\u001b[0m\u001b[0m | time: 80.408s\n\u001b[2K\r| Adam | epoch: 010 | loss: 0.27872 - acc: 0.8879 -- iter: 20224/20250\n"
     ]
    },
    {
     "name": "stdout",
     "output_type": "stream",
     "text": [
      "Training Step: 3170  | total loss: \u001b[1m\u001b[32m0.27227\u001b[0m\u001b[0m | time: 82.385s\n\u001b[2K\r| Adam | epoch: 010 | loss: 0.27227 - acc: 0.8897 | val_loss: 0.50984 - val_acc: 0.7969 -- iter: 20250/20250\n--\n"
     ]
    }
   ],
   "source": [
    "# -*- coding: utf-8 -*-\n",
    "\"\"\"\n",
    "Simple example using LSTM recurrent neural network to classify IMDB\n",
    "sentiment dataset.\n",
    "References:\n",
    "    - Long Short Term Memory, Sepp Hochreiter & Jurgen Schmidhuber, Neural\n",
    "    Computation 9(8): 1735-1780, 1997.\n",
    "    - Andrew L. Maas, Raymond E. Daly, Peter T. Pham, Dan Huang, Andrew Y. Ng,\n",
    "    and Christopher Potts. (2011). Learning Word Vectors for Sentiment\n",
    "    Analysis. The 49th Annual Meeting of the Association for Computational\n",
    "    Linguistics (ACL 2011).\n",
    "Links:\n",
    "    - http://deeplearning.cs.cmu.edu/pdfs/Hochreiter97_lstm.pdf\n",
    "    - http://ai.stanford.edu/~amaas/data/sentiment/\n",
    "\"\"\"\n",
    "\n",
    "from __future__ import division, print_function, absolute_import\n",
    "\n",
    "import tflearn\n",
    "from tflearn.data_utils import to_categorical, pad_sequences\n",
    "from tflearn.datasets import imdb\n",
    "from tflearn.layers.core import input_data, dropout, fully_connected\n",
    "from tflearn.layers.embedding_ops import embedding\n",
    "from tflearn.layers.recurrent import bidirectional_rnn, BasicLSTMCell\n",
    "from tflearn.layers.estimator import regression\n",
    "\n",
    "# IMDB Dataset loading\n",
    "train, test, _ = imdb.load_data(path='Data/imdb.pkl', n_words=10000,\n",
    "                                valid_portion=0.1)\n",
    "trainX, trainY = train\n",
    "testX, testY = test\n",
    "\n",
    "# Data preprocessing\n",
    "# Sequence padding\n",
    "trainX = pad_sequences(trainX, maxlen=200, value=0.)\n",
    "testX = pad_sequences(testX, maxlen=200, value=0.)\n",
    "# Converting labels to binary vectors\n",
    "trainY = to_categorical(trainY, nb_classes=2)\n",
    "testY = to_categorical(testY, nb_classes=2)\n",
    "\n",
    "# Network building\n",
    "net = input_data(shape=[None, 200])\n",
    "net = embedding(net, input_dim=20000, output_dim=128)\n",
    "net = bidirectional_rnn(net, BasicLSTMCell(128), BasicLSTMCell(128))\n",
    "net = dropout(net, 0.5)\n",
    "net = fully_connected(net, 2, activation='softmax')\n",
    "net = regression(net, optimizer='adam', loss='categorical_crossentropy')\n",
    "\n",
    "# Training\n",
    "model = tflearn.DNN(net, clip_gradients=0., tensorboard_verbose=2)\n",
    "model.fit(trainX, trainY, validation_set=0.1, show_metric=True, batch_size=64)"
   ]
  },
  {
   "cell_type": "code",
   "execution_count": null,
   "metadata": {},
   "outputs": [],
   "source": [
    ""
   ]
  }
 ],
 "metadata": {
  "kernelspec": {
   "display_name": "Python 2",
   "language": "python",
   "name": "python2"
  },
  "language_info": {
   "codemirror_mode": {
    "name": "ipython",
    "version": 2.0
   },
   "file_extension": ".py",
   "mimetype": "text/x-python",
   "name": "python",
   "nbconvert_exporter": "python",
   "pygments_lexer": "ipython2",
   "version": "2.7.6"
  }
 },
 "nbformat": 4,
 "nbformat_minor": 0
}