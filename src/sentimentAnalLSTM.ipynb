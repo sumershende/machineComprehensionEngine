{
 "cells": [
  {
   "cell_type": "code",
   "execution_count": 1,
   "metadata": {
    "collapsed": true
   },
   "outputs": [
    {
     "name": "stdout",
     "output_type": "stream",
     "text": [
      "(25000, 3)\n"
     ]
    },
    {
     "name": "stdout",
     "output_type": "stream",
     "text": [
      "Review 1000 of 25000\n\n"
     ]
    },
    {
     "name": "stdout",
     "output_type": "stream",
     "text": [
      "Review 2000 of 25000\n\n"
     ]
    }
   ],
   "source": [
    "import pandas as pd   \n",
    "import numpy as np\n",
    "\n",
    "from bs4 import BeautifulSoup \n",
    "import re\n",
    "from nltk.corpus import stopwords # Import the stop word list\n",
    "from nltk.stem.porter import PorterStemmer\n",
    "\n",
    "def clean_review(raw_review):\n",
    "\texample1 = BeautifulSoup(raw_review, 'html.parser').get_text()\n",
    "\t# print type(example1)\n",
    "\t# Use regular expressions to do a find-and-replace\n",
    "\tletters_only = re.sub(\"[^a-zA-Z]\",           # The pattern to search for\n",
    "\t                      \" \",                   # The pattern to replace it with\n",
    "\t                      example1 )  # The text to search\n",
    "\t# print letters_only\n",
    "\tlower_case = letters_only.lower()        # Convert to lower case\n",
    "\twords = lower_case.split()               # Split into words\n",
    "\t# print words\n",
    "\t# print stopwords.words(\"english\")\n",
    "\twords = [w for w in words if not w in stopwords.words(\"english\")]\n",
    "\t# print words\n",
    "\tfrom nltk.stem.porter import PorterStemmer\n",
    "\tporter_stemmer = PorterStemmer()\n",
    "\tstemmed_words = []\n",
    "\tfor i in range(len(words)):\n",
    "\t\tstemmed_words.append(porter_stemmer.stem(words[i]))\n",
    "\treturn( \" \".join( stemmed_words ))\n",
    "\n",
    "\n",
    "train = pd.read_csv(\"data/IMDB/labeledTrainData.tsv\", header=0, delimiter=\"\\t\", quoting=3)\n",
    "print(train.shape)\n",
    "# print train.columns.values\n",
    "num_reviews = train[\"review\"].size\n",
    "clean_reviews = []\n",
    "for i in range(num_reviews):\n",
    "\tif( (i+1)%1000 == 0 ):\n",
    "\t\tprint(\"Review %d of %d\\n\" % ( i+1, num_reviews )   )                                                       \n",
    "\tclean_reviews.append(clean_review(train[\"review\"][i]))"
   ]
  },
  {
   "cell_type": "code",
   "execution_count": 25,
   "metadata": {},
   "outputs": [
    {
     "name": "stdout",
     "output_type": "stream",
     "text": [
      "8598\ni\n['classic', 'war', 'world', 'timothi', 'hine', 'entertain', 'film', 'obvious', 'goe', 'great', 'effort', 'length', 'faith', 'recreat', 'h', 'g', 'well', 'classic', 'book', 'mr', 'hine', 'succe', 'watch', 'film', 'appreci', 'fact', 'standard', 'predict', 'hollywood', 'fare', 'come', 'everi', 'year', 'e', 'g', 'spielberg', 'version', 'tom', 'cruis', 'slightest', 'resembl', 'book', 'obvious', 'everyon', 'look', 'differ', 'thing', 'movi', 'envis', 'amateur', 'critic', 'look', 'critic', 'everyth', 'other', 'rate', 'movi', 'import', 'base', 'like', 'entertain', 'peopl', 'never', 'agre', 'critic', 'enjoy', 'effort', 'mr', 'hine', 'put', 'faith', 'h', 'g', 'well', 'classic', 'novel', 'found', 'entertain', 'made', 'easi', 'overlook', 'critic', 'perceiv', 'shortcom']\n"
     ]
    }
   ],
   "source": [
    "print(len(clean_reviews))\n",
    "print(clean_reviews[8597][6])\n",
    "for i in range(8597):\n",
    "    clean_reviews[i] = clean_reviews[i].split(' ')\n",
    "print(clean_reviews[1])"
   ]
  },
  {
   "cell_type": "code",
   "execution_count": 26,
   "metadata": {},
   "outputs": [],
   "source": [
    "from lib.tensorflowglove import tf_glove\n",
    "model = tf_glove.GloVeModel(embedding_size=300, context_size=10)\n",
    "model.fit_to_corpus(clean_reviews)"
   ]
  },
  {
   "cell_type": "code",
   "execution_count": 27,
   "metadata": {},
   "outputs": [
    {
     "ename": "KeyboardInterrupt",
     "evalue": "",
     "traceback": [
      "\u001b[1;31m---------------------------------------------------------------------------\u001b[0m",
      "\u001b[1;31mKeyboardInterrupt\u001b[0m                         Traceback (most recent call last)",
      "\u001b[1;32m<ipython-input-27-8c49c4bf4a24>\u001b[0m in \u001b[0;36m<module>\u001b[1;34m()\u001b[0m\n\u001b[1;32m----> 1\u001b[1;33m \u001b[0mmodel\u001b[0m\u001b[1;33m.\u001b[0m\u001b[0mtrain\u001b[0m\u001b[1;33m(\u001b[0m\u001b[0mnum_epochs\u001b[0m\u001b[1;33m=\u001b[0m\u001b[1;36m100\u001b[0m\u001b[1;33m)\u001b[0m\u001b[1;33m\u001b[0m\u001b[0m\n\u001b[0m\u001b[0;32m      2\u001b[0m \u001b[1;33m\u001b[0m\u001b[0m\n",
      "\u001b[1;32mC:\\Users\\Ash\\PycharmProjects\\ALDA project\\tensorflowglove\\tf_glove.py\u001b[0m in \u001b[0;36mtrain\u001b[1;34m(self, num_epochs, log_dir, summary_batch_interval, tsne_epoch_interval)\u001b[0m\n\u001b[0;32m    138\u001b[0m                         \u001b[0mself\u001b[0m\u001b[1;33m.\u001b[0m\u001b[0m__context_input\u001b[0m\u001b[1;33m:\u001b[0m \u001b[0mj_s\u001b[0m\u001b[1;33m,\u001b[0m\u001b[1;33m\u001b[0m\u001b[0m\n\u001b[0;32m    139\u001b[0m                         self.__cooccurrence_count: counts}\n\u001b[1;32m--> 140\u001b[1;33m                     \u001b[0msession\u001b[0m\u001b[1;33m.\u001b[0m\u001b[0mrun\u001b[0m\u001b[1;33m(\u001b[0m\u001b[1;33m[\u001b[0m\u001b[0mself\u001b[0m\u001b[1;33m.\u001b[0m\u001b[0m__optimizer\u001b[0m\u001b[1;33m]\u001b[0m\u001b[1;33m,\u001b[0m \u001b[0mfeed_dict\u001b[0m\u001b[1;33m=\u001b[0m\u001b[0mfeed_dict\u001b[0m\u001b[1;33m)\u001b[0m\u001b[1;33m\u001b[0m\u001b[0m\n\u001b[0m\u001b[0;32m    141\u001b[0m                     \u001b[1;32mif\u001b[0m \u001b[0mshould_write_summaries\u001b[0m \u001b[1;32mand\u001b[0m \u001b[1;33m(\u001b[0m\u001b[0mtotal_steps\u001b[0m \u001b[1;33m+\u001b[0m \u001b[1;36m1\u001b[0m\u001b[1;33m)\u001b[0m \u001b[1;33m%\u001b[0m \u001b[0msummary_batch_interval\u001b[0m \u001b[1;33m==\u001b[0m \u001b[1;36m0\u001b[0m\u001b[1;33m:\u001b[0m\u001b[1;33m\u001b[0m\u001b[0m\n\u001b[0;32m    142\u001b[0m                         \u001b[0msummary_str\u001b[0m \u001b[1;33m=\u001b[0m \u001b[0msession\u001b[0m\u001b[1;33m.\u001b[0m\u001b[0mrun\u001b[0m\u001b[1;33m(\u001b[0m\u001b[0mself\u001b[0m\u001b[1;33m.\u001b[0m\u001b[0m__summary\u001b[0m\u001b[1;33m,\u001b[0m \u001b[0mfeed_dict\u001b[0m\u001b[1;33m=\u001b[0m\u001b[0mfeed_dict\u001b[0m\u001b[1;33m)\u001b[0m\u001b[1;33m\u001b[0m\u001b[0m\n",
      "\u001b[1;32mC:\\Users\\Ash\\Anaconda3\\envs\\haridoesntbelieveme\\lib\\site-packages\\tensorflow\\python\\client\\session.py\u001b[0m in \u001b[0;36mrun\u001b[1;34m(self, fetches, feed_dict, options, run_metadata)\u001b[0m\n\u001b[0;32m    765\u001b[0m     \u001b[1;32mtry\u001b[0m\u001b[1;33m:\u001b[0m\u001b[1;33m\u001b[0m\u001b[0m\n\u001b[0;32m    766\u001b[0m       result = self._run(None, fetches, feed_dict, options_ptr,\n\u001b[1;32m--> 767\u001b[1;33m                          run_metadata_ptr)\n\u001b[0m\u001b[0;32m    768\u001b[0m       \u001b[1;32mif\u001b[0m \u001b[0mrun_metadata\u001b[0m\u001b[1;33m:\u001b[0m\u001b[1;33m\u001b[0m\u001b[0m\n\u001b[0;32m    769\u001b[0m         \u001b[0mproto_data\u001b[0m \u001b[1;33m=\u001b[0m \u001b[0mtf_session\u001b[0m\u001b[1;33m.\u001b[0m\u001b[0mTF_GetBuffer\u001b[0m\u001b[1;33m(\u001b[0m\u001b[0mrun_metadata_ptr\u001b[0m\u001b[1;33m)\u001b[0m\u001b[1;33m\u001b[0m\u001b[0m\n",
      "\u001b[1;32mC:\\Users\\Ash\\Anaconda3\\envs\\haridoesntbelieveme\\lib\\site-packages\\tensorflow\\python\\client\\session.py\u001b[0m in \u001b[0;36m_run\u001b[1;34m(self, handle, fetches, feed_dict, options, run_metadata)\u001b[0m\n\u001b[0;32m    963\u001b[0m     \u001b[1;32mif\u001b[0m \u001b[0mfinal_fetches\u001b[0m \u001b[1;32mor\u001b[0m \u001b[0mfinal_targets\u001b[0m\u001b[1;33m:\u001b[0m\u001b[1;33m\u001b[0m\u001b[0m\n\u001b[0;32m    964\u001b[0m       results = self._do_run(handle, final_targets, final_fetches,\n\u001b[1;32m--> 965\u001b[1;33m                              feed_dict_string, options, run_metadata)\n\u001b[0m\u001b[0;32m    966\u001b[0m     \u001b[1;32melse\u001b[0m\u001b[1;33m:\u001b[0m\u001b[1;33m\u001b[0m\u001b[0m\n\u001b[0;32m    967\u001b[0m       \u001b[0mresults\u001b[0m \u001b[1;33m=\u001b[0m \u001b[1;33m[\u001b[0m\u001b[1;33m]\u001b[0m\u001b[1;33m\u001b[0m\u001b[0m\n",
      "\u001b[1;32mC:\\Users\\Ash\\Anaconda3\\envs\\haridoesntbelieveme\\lib\\site-packages\\tensorflow\\python\\client\\session.py\u001b[0m in \u001b[0;36m_do_run\u001b[1;34m(self, handle, target_list, fetch_list, feed_dict, options, run_metadata)\u001b[0m\n\u001b[0;32m   1013\u001b[0m     \u001b[1;32mif\u001b[0m \u001b[0mhandle\u001b[0m \u001b[1;32mis\u001b[0m \u001b[1;32mNone\u001b[0m\u001b[1;33m:\u001b[0m\u001b[1;33m\u001b[0m\u001b[0m\n\u001b[0;32m   1014\u001b[0m       return self._do_call(_run_fn, self._session, feed_dict, fetch_list,\n\u001b[1;32m-> 1015\u001b[1;33m                            target_list, options, run_metadata)\n\u001b[0m\u001b[0;32m   1016\u001b[0m     \u001b[1;32melse\u001b[0m\u001b[1;33m:\u001b[0m\u001b[1;33m\u001b[0m\u001b[0m\n\u001b[0;32m   1017\u001b[0m       return self._do_call(_prun_fn, self._session, handle, feed_dict,\n",
      "\u001b[1;32mC:\\Users\\Ash\\Anaconda3\\envs\\haridoesntbelieveme\\lib\\site-packages\\tensorflow\\python\\client\\session.py\u001b[0m in \u001b[0;36m_do_call\u001b[1;34m(self, fn, *args)\u001b[0m\n\u001b[0;32m   1020\u001b[0m   \u001b[1;32mdef\u001b[0m \u001b[0m_do_call\u001b[0m\u001b[1;33m(\u001b[0m\u001b[0mself\u001b[0m\u001b[1;33m,\u001b[0m \u001b[0mfn\u001b[0m\u001b[1;33m,\u001b[0m \u001b[1;33m*\u001b[0m\u001b[0margs\u001b[0m\u001b[1;33m)\u001b[0m\u001b[1;33m:\u001b[0m\u001b[1;33m\u001b[0m\u001b[0m\n\u001b[0;32m   1021\u001b[0m     \u001b[1;32mtry\u001b[0m\u001b[1;33m:\u001b[0m\u001b[1;33m\u001b[0m\u001b[0m\n\u001b[1;32m-> 1022\u001b[1;33m       \u001b[1;32mreturn\u001b[0m \u001b[0mfn\u001b[0m\u001b[1;33m(\u001b[0m\u001b[1;33m*\u001b[0m\u001b[0margs\u001b[0m\u001b[1;33m)\u001b[0m\u001b[1;33m\u001b[0m\u001b[0m\n\u001b[0m\u001b[0;32m   1023\u001b[0m     \u001b[1;32mexcept\u001b[0m \u001b[0merrors\u001b[0m\u001b[1;33m.\u001b[0m\u001b[0mOpError\u001b[0m \u001b[1;32mas\u001b[0m \u001b[0me\u001b[0m\u001b[1;33m:\u001b[0m\u001b[1;33m\u001b[0m\u001b[0m\n\u001b[0;32m   1024\u001b[0m       \u001b[0mmessage\u001b[0m \u001b[1;33m=\u001b[0m \u001b[0mcompat\u001b[0m\u001b[1;33m.\u001b[0m\u001b[0mas_text\u001b[0m\u001b[1;33m(\u001b[0m\u001b[0me\u001b[0m\u001b[1;33m.\u001b[0m\u001b[0mmessage\u001b[0m\u001b[1;33m)\u001b[0m\u001b[1;33m\u001b[0m\u001b[0m\n",
      "\u001b[1;32mC:\\Users\\Ash\\Anaconda3\\envs\\haridoesntbelieveme\\lib\\site-packages\\tensorflow\\python\\client\\session.py\u001b[0m in \u001b[0;36m_run_fn\u001b[1;34m(session, feed_dict, fetch_list, target_list, options, run_metadata)\u001b[0m\n\u001b[0;32m   1002\u001b[0m         return tf_session.TF_Run(session, options,\n\u001b[0;32m   1003\u001b[0m                                  \u001b[0mfeed_dict\u001b[0m\u001b[1;33m,\u001b[0m \u001b[0mfetch_list\u001b[0m\u001b[1;33m,\u001b[0m \u001b[0mtarget_list\u001b[0m\u001b[1;33m,\u001b[0m\u001b[1;33m\u001b[0m\u001b[0m\n\u001b[1;32m-> 1004\u001b[1;33m                                  status, run_metadata)\n\u001b[0m\u001b[0;32m   1005\u001b[0m \u001b[1;33m\u001b[0m\u001b[0m\n\u001b[0;32m   1006\u001b[0m     \u001b[1;32mdef\u001b[0m \u001b[0m_prun_fn\u001b[0m\u001b[1;33m(\u001b[0m\u001b[0msession\u001b[0m\u001b[1;33m,\u001b[0m \u001b[0mhandle\u001b[0m\u001b[1;33m,\u001b[0m \u001b[0mfeed_dict\u001b[0m\u001b[1;33m,\u001b[0m \u001b[0mfetch_list\u001b[0m\u001b[1;33m)\u001b[0m\u001b[1;33m:\u001b[0m\u001b[1;33m\u001b[0m\u001b[0m\n",
      "\u001b[1;31mKeyboardInterrupt\u001b[0m: "
     ],
     "output_type": "error"
    }
   ],
   "source": [
    "model.train(num_epochs=100)"
   ]
  },
  {
   "cell_type": "code",
   "execution_count": 17,
   "metadata": {},
   "outputs": [],
   "source": [
    "import matplotlib\n",
    "%matplotlib inline\n",
    "model.generate_tsne()"
   ]
  },
  {
   "cell_type": "code",
   "execution_count": 18,
   "metadata": {},
   "outputs": [
    {
     "data": {
      "text/plain": [
       "array([[-0.58207422,  1.08487749, -0.68133765, ..., -1.2772572 ,\n         0.05729133, -0.44729194],\n       [ 0.15404087, -0.85265279, -0.85540909, ..., -0.12607348,\n         0.78001708,  0.1322436 ],\n       [-0.39311522, -0.42893636,  0.52570939, ..., -0.39255959,\n         1.53533649,  1.82403588],\n       ..., \n       [ 0.28314537,  0.41172779,  0.28595892, ..., -0.11498308,\n        -0.75357479,  1.15168238],\n       [-0.12832922,  1.68767095,  0.54099941, ...,  1.06163406,\n         0.64280045,  0.27908194],\n       [ 0.91403013, -0.4698227 , -0.0113878 , ...,  0.11128509,\n         0.94589418,  0.1831885 ]], dtype=float32)"
      ]
     },
     "execution_count": 18,
     "metadata": {},
     "output_type": "execute_result"
    }
   ],
   "source": [
    "model.embeddings"
   ]
  },
  {
   "cell_type": "code",
   "execution_count": 22,
   "metadata": {},
   "outputs": [
    {
     "data": {
      "text/plain": [
       "array([-0.03222942, -0.36123627, -0.08965302, -0.87305146,  0.10418586,\n       -0.82008815, -0.26724911,  1.11199832, -0.82340115, -0.44559732,\n       -0.30026934,  1.0071888 , -0.13929728, -0.62022358, -0.85671866,\n        0.78747004, -0.90620524,  0.7232579 , -0.13922298,  1.06302559,\n       -0.40877268,  1.02106941, -1.13613915,  0.50750464, -0.81685674,\n        0.03576756, -0.19330762, -0.2572692 ,  0.02214804,  0.06502384,\n       -0.70460033,  0.52478373,  0.76222306,  0.31561702,  1.06144416,\n        0.78358477,  0.20295665,  1.22286308,  0.75359458, -1.78022742,\n       -0.55827641, -0.22303838, -0.15053667, -1.64959645,  0.81298316,\n        0.4726342 , -0.06501664, -0.35705787,  0.66635913, -0.15118098,\n       -1.36974335, -0.3380996 ,  1.25974858,  0.45577219,  1.04450655,\n       -0.25281462,  1.54658175, -0.00569487,  0.40391719,  0.82098067,\n       -0.73775345, -0.66108769, -0.67710793, -1.08653831,  1.14112234,\n       -0.94671381, -0.71269953, -0.8652851 , -0.42442209,  1.14395463,\n       -0.63783514,  0.96147704, -0.16413495, -0.70280623,  0.80315131,\n        1.20225668,  0.12817821, -0.28349772,  0.68589234, -0.09717615,\n        0.81628734,  1.53125143, -1.19369173,  0.50242227, -1.15847349,\n        0.9818545 ,  0.27659142,  1.19176424,  0.07991125, -1.83316863,\n       -0.89976048, -1.59722769, -0.27061719,  0.31343752, -0.30083469,\n        0.89842063,  0.57963598, -0.94744074, -0.95366067, -0.13655907,\n        0.46213955, -0.6679706 ,  0.62422872,  0.56141466, -0.13097537,\n        0.01956537, -1.05751622,  0.51968956, -0.07890886,  1.20947444,\n       -0.58789933, -0.81878263,  0.59531176,  0.62298256,  0.7495994 ,\n       -0.81667835,  1.62904751,  0.04375005,  0.68814319, -0.36925262,\n       -0.59334838, -0.19869894,  0.98991036,  1.22889602,  1.14200795,\n       -0.70426804, -0.2856054 , -0.11534312, -0.6383571 , -1.22427166,\n        0.82118416, -0.02215097, -0.13225237, -0.22744754,  1.57212174,\n        0.13256589,  0.46695539, -0.18423265, -1.18986416,  0.93420255,\n        1.00996828,  0.45953292, -0.97285205,  0.47546718, -1.03020215,\n        1.08883417, -0.82984829,  1.05803418,  1.30428517, -0.62202585,\n       -0.00529343, -0.88325191, -0.53728676, -0.5755803 , -0.05684108,\n        1.25985861, -0.72888315, -1.69026017, -1.03438878, -0.88840872,\n        0.79060155, -0.34852397, -0.87617606,  0.37698174, -0.46631396,\n        2.11410928,  0.53163862,  0.12710422, -0.58661926, -0.84286273,\n        1.31528151, -0.83088458,  0.65335482, -0.13899335,  1.53066158,\n        0.536569  , -1.40356696,  0.53398907, -0.26875097, -0.33988059,\n        0.54201657, -1.44002008,  0.14556289, -0.60182512,  0.54853439,\n        0.09708148,  1.10940433,  1.43965316, -0.47789192,  0.40089831,\n       -0.80608988, -0.32693857, -0.1105929 ,  1.29535723,  0.41049266,\n        0.01063329, -0.34446228, -1.05878735, -1.58347881, -0.58143747,\n       -0.76464927, -0.70001388,  1.51170969, -0.29424834,  0.93532002,\n       -0.35287637,  0.27993065,  0.30815136, -0.54485774, -0.10847229,\n        1.20311975, -0.31153196,  1.02671134,  0.36769104, -0.20271938,\n        1.88670981,  0.75850147,  0.58086735, -0.08135617, -0.44888061,\n        1.58074999,  1.91800666,  0.63106549,  2.03828764,  0.56126404,\n       -1.79405296,  0.58371907, -1.11558056, -0.6446088 , -1.06816673,\n       -0.50508457,  0.02566612, -0.67187643, -0.26701397, -0.86072594,\n       -0.97560298, -1.31389976,  0.66149437, -0.48993745, -1.20014977,\n        0.12196765, -0.58620542, -0.48456311, -0.81321758,  0.62274641,\n        1.50848317, -1.28268313,  1.52154684,  0.79880971, -1.26643944,\n        0.98103648,  0.88847518,  0.20697311, -1.02980387,  1.16584468,\n       -0.22028953,  0.44172147, -0.40644187,  0.71025574, -1.43055809,\n       -0.95058388, -0.29691961,  0.19268221, -1.07990694,  0.94527137,\n        0.6155023 , -1.43051445,  0.06527972,  1.21149635, -0.16960484,\n        0.13277723, -0.50958371,  0.54537827,  0.03623605, -1.33299911,\n        0.14451736,  1.57897902, -0.96734726, -1.93146014, -0.0873768 ,\n        0.86776727,  1.3489306 , -0.29124147, -1.32667851,  1.55209124,\n       -0.29696733,  0.16613762,  0.62199491, -0.36959341, -0.4170011 ,\n        0.36323303, -0.27333876, -0.06049424,  0.92773312, -1.0047617 ,\n       -1.29254591, -0.33807135,  0.935978  , -1.0636555 ,  0.96331155], dtype=float32)"
      ]
     },
     "execution_count": 22,
     "metadata": {},
     "output_type": "execute_result"
    }
   ],
   "source": [
    "model.embeddings[model.id_for_word('k')]"
   ]
  },
  {
   "cell_type": "code",
   "execution_count": 24,
   "metadata": {},
   "outputs": [
    {
     "name": "stdout",
     "output_type": "stream",
     "text": [
      "['classic', 'war', 'world', 'timothi', 'hine', 'entertain', 'film', 'obvious', 'goe', 'great', 'effort', 'length', 'faith', 'recreat', 'h', 'g', 'well', 'classic', 'book', 'mr', 'hine', 'succe', 'watch', 'film', 'appreci', 'fact', 'standard', 'predict', 'hollywood', 'fare', 'come', 'everi', 'year', 'e', 'g', 'spielberg', 'version', 'tom', 'cruis', 'slightest', 'resembl', 'book', 'obvious', 'everyon', 'look', 'differ', 'thing', 'movi', 'envis', 'amateur', 'critic', 'look', 'critic', 'everyth', 'other', 'rate', 'movi', 'import', 'base', 'like', 'entertain', 'peopl', 'never', 'agre', 'critic', 'enjoy', 'effort', 'mr', 'hine', 'put', 'faith', 'h', 'g', 'well', 'classic', 'novel', 'found', 'entertain', 'made', 'easi', 'overlook', 'critic', 'perceiv', 'shortcom']\n"
     ]
    }
   ],
   "source": [
    "print(clean_reviews[1].split(' '))"
   ]
  },
  {
   "cell_type": "code",
   "execution_count": null,
   "metadata": {},
   "outputs": [],
   "source": [
    ""
   ]
  }
 ],
 "metadata": {
  "kernelspec": {
   "display_name": "Python 2",
   "language": "python",
   "name": "python2"
  },
  "language_info": {
   "codemirror_mode": {
    "name": "ipython",
    "version": 2.0
   },
   "file_extension": ".py",
   "mimetype": "text/x-python",
   "name": "python",
   "nbconvert_exporter": "python",
   "pygments_lexer": "ipython2",
   "version": "2.7.6"
  }
 },
 "nbformat": 4,
 "nbformat_minor": 0
}