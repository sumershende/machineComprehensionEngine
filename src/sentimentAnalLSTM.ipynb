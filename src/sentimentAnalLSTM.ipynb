{
 "cells": [
  {
   "cell_type": "code",
   "execution_count": 2,
   "metadata": {
    "collapsed": true
   },
   "outputs": [
    {
     "name": "stdout",
     "output_type": "stream",
     "text": [
      "(25000, 3)\n"
     ]
    },
    {
     "name": "stdout",
     "output_type": "stream",
     "text": [
      "Stored 'clean_reviews' (list)\n"
     ]
    }
   ],
   "source": [
    "import pandas as pd   \n",
    "import numpy as np\n",
    "\n",
    "from bs4 import BeautifulSoup \n",
    "import re\n",
    "from nltk.corpus import stopwords # Import the stop word list\n",
    "from nltk.stem.porter import PorterStemmer\n",
    "\n",
    "def clean_review(raw_review):\n",
    "\texample1 = BeautifulSoup(raw_review, 'html.parser').get_text()\n",
    "\t# print type(example1)\n",
    "\t# Use regular expressions to do a find-and-replace\n",
    "\tletters_only = re.sub(\"[^a-zA-Z]\",           # The pattern to search for\n",
    "\t                      \" \",                   # The pattern to replace it with\n",
    "\t                      example1 )  # The text to search\n",
    "\t# print letters_only\n",
    "\tlower_case = letters_only.lower()        # Convert to lower case\n",
    "\twords = lower_case.split()               # Split into words\n",
    "\t# print words\n",
    "\t# print stopwords.words(\"english\")\n",
    "\twords = [w for w in words if not w in stopwords.words(\"english\")]\n",
    "\t# print words\n",
    "\tfrom nltk.stem.porter import PorterStemmer\n",
    "\tporter_stemmer = PorterStemmer()\n",
    "\tstemmed_words = []\n",
    "\tfor i in range(len(words)):\n",
    "\t\tstemmed_words.append(porter_stemmer.stem(words[i]))\n",
    "\treturn( \" \".join( stemmed_words ))\n",
    "\n",
    "\n",
    "train = pd.read_csv(\"data\\IMDB\\labeledTrainData.tsv\", header=0, delimiter=\"\\t\", quoting=3)\n",
    "print(train.shape)\n",
    "# print train.columns.values\n",
    "num_reviews = train[\"review\"].size\n",
    "clean_reviews = []\n",
    "for i in range(10):\n",
    "\tif( (i+1)%1000 == 0 ):\n",
    "\t\tprint(\"Review %d of %d\\n\" % ( i+1, num_reviews )   )                                                       \n",
    "\tclean_reviews.append(clean_review(train[\"review\"][i]))\n",
    "%store clean_reviews"
   ]
  },
  {
   "cell_type": "code",
   "execution_count": 5,
   "metadata": {},
   "outputs": [
    {
     "name": "stdout",
     "output_type": "stream",
     "text": [
      "10\n['classic', 'war', 'world', 'timothi', 'hine', 'entertain', 'film', 'obvious', 'goe', 'great', 'effort', 'length', 'faith', 'recreat', 'h', 'g', 'well', 'classic', 'book', 'mr', 'hine', 'succe', 'watch', 'film', 'appreci', 'fact', 'standard', 'predict', 'hollywood', 'fare', 'come', 'everi', 'year', 'e', 'g', 'spielberg', 'version', 'tom', 'cruis', 'slightest', 'resembl', 'book', 'obvious', 'everyon', 'look', 'differ', 'thing', 'movi', 'envis', 'amateur', 'critic', 'look', 'critic', 'everyth', 'other', 'rate', 'movi', 'import', 'base', 'like', 'entertain', 'peopl', 'never', 'agre', 'critic', 'enjoy', 'effort', 'mr', 'hine', 'put', 'faith', 'h', 'g', 'well', 'classic', 'novel', 'found', 'entertain', 'made', 'easi', 'overlook', 'critic', 'perceiv', 'shortcom']\n"
     ]
    }
   ],
   "source": [
    "print(len(clean_reviews))\n",
    "\n",
    "\n",
    "for i in range(len(clean_reviews)):\n",
    "    clean_reviews[i] = clean_reviews[i].split(' ')\n",
    "\n",
    "\n",
    "print(clean_reviews[1])"
   ]
  },
  {
   "cell_type": "code",
   "execution_count": 33,
   "metadata": {},
   "outputs": [
    {
     "name": "stdout",
     "output_type": "stream",
     "text": [
      "10    0\n11    1\n12    1\n13    0\n14    0\nName: sentiment, dtype: int64\n"
     ]
    }
   ],
   "source": [
    "clean_test_reviews = [] \n",
    "\n",
    "\n",
    "for i in range(10,15):\n",
    "    \n",
    "    clean_test_reviews.append( clean_review( train[\"review\"][i] ))\n",
    "    \n",
    "test_op = train[\"sentiment\"][10:15]\n",
    "print(test_op)"
   ]
  },
  {
   "cell_type": "code",
   "execution_count": 14,
   "metadata": {},
   "outputs": [],
   "source": [
    "from lib.tensorflowglove import tf_glove\n",
    "glovemodel = tf_glove.GloVeModel(embedding_size=300, context_size=10)\n",
    "glovemodel.fit_to_corpus(clean_reviews)"
   ]
  },
  {
   "cell_type": "code",
   "execution_count": 15,
   "metadata": {},
   "outputs": [],
   "source": [
    "glovemodel.train(num_epochs=10)"
   ]
  },
  {
   "cell_type": "code",
   "execution_count": null,
   "metadata": {},
   "outputs": [
    {
     "name": "stdout",
     "output_type": "stream",
     "text": [
      "<class 'pandas.core.series.Series'>\n"
     ]
    },
    {
     "ename": "IndexError",
     "evalue": "list index out of range",
     "traceback": [
      "\u001b[1;31m---------------------------------------------------------------------------\u001b[0m",
      "\u001b[1;31mIndexError\u001b[0m                                Traceback (most recent call last)",
      "\u001b[1;32m<ipython-input-42-468f7bd9d583>\u001b[0m in \u001b[0;36m<module>\u001b[1;34m()\u001b[0m\n\u001b[0;32m      1\u001b[0m \u001b[0mprint\u001b[0m\u001b[1;33m(\u001b[0m\u001b[0mtype\u001b[0m\u001b[1;33m(\u001b[0m\u001b[0mtest_op\u001b[0m\u001b[1;33m)\u001b[0m\u001b[1;33m)\u001b[0m\u001b[1;33m\u001b[0m\u001b[0m\n\u001b[1;32m----> 2\u001b[1;33m \u001b[0mprint\u001b[0m\u001b[1;33m(\u001b[0m\u001b[0mclean_test_reviews\u001b[0m\u001b[1;33m[\u001b[0m\u001b[1;36m5\u001b[0m\u001b[1;33m]\u001b[0m\u001b[1;33m)\u001b[0m\u001b[1;33m\u001b[0m\u001b[0m\n\u001b[0m",
      "\u001b[1;31mIndexError\u001b[0m: list index out of range"
     ],
     "output_type": "error"
    }
   ],
   "source": [
    "print(type(test_op))\n",
    "print(clean_test_reviews[5])"
   ]
  },
  {
   "cell_type": "code",
   "execution_count": 16,
   "metadata": {},
   "outputs": [],
   "source": [
    "import matplotlib\n",
    "%matplotlib inline\n",
    "glovemodel.generate_tsne()"
   ]
  },
  {
   "cell_type": "code",
   "execution_count": 17,
   "metadata": {},
   "outputs": [
    {
     "data": {
      "text/plain": [
       "array([[-0.55191505, -0.58698887, -0.2480624 , ..., -0.532812  ,\n        -0.47619271, -0.3020153 ],\n       [-1.05818248,  0.29258564, -1.53566766, ...,  0.91010624,\n        -0.06010503, -0.03974052],\n       [-0.07453331,  0.55578732, -0.39850479, ...,  0.16432957,\n         0.258349  , -0.3587175 ],\n       ..., \n       [ 0.06615934,  0.74716002,  0.2909618 , ...,  1.30511546,\n        -1.29501677,  0.0318346 ],\n       [-0.14203125,  0.38812864,  0.34969291, ...,  1.00333774,\n        -0.32389164, -0.65898448],\n       [ 0.45654786, -0.40532488, -0.06118235, ...,  0.92906642,\n        -1.06934106, -1.55059385]], dtype=float32)"
      ]
     },
     "execution_count": 17,
     "metadata": {},
     "output_type": "execute_result"
    }
   ],
   "source": [
    "glovemodel.embeddings"
   ]
  },
  {
   "cell_type": "code",
   "execution_count": 22,
   "metadata": {},
   "outputs": [
    {
     "data": {
      "text/plain": [
       "array([-0.03222942, -0.36123627, -0.08965302, -0.87305146,  0.10418586,\n       -0.82008815, -0.26724911,  1.11199832, -0.82340115, -0.44559732,\n       -0.30026934,  1.0071888 , -0.13929728, -0.62022358, -0.85671866,\n        0.78747004, -0.90620524,  0.7232579 , -0.13922298,  1.06302559,\n       -0.40877268,  1.02106941, -1.13613915,  0.50750464, -0.81685674,\n        0.03576756, -0.19330762, -0.2572692 ,  0.02214804,  0.06502384,\n       -0.70460033,  0.52478373,  0.76222306,  0.31561702,  1.06144416,\n        0.78358477,  0.20295665,  1.22286308,  0.75359458, -1.78022742,\n       -0.55827641, -0.22303838, -0.15053667, -1.64959645,  0.81298316,\n        0.4726342 , -0.06501664, -0.35705787,  0.66635913, -0.15118098,\n       -1.36974335, -0.3380996 ,  1.25974858,  0.45577219,  1.04450655,\n       -0.25281462,  1.54658175, -0.00569487,  0.40391719,  0.82098067,\n       -0.73775345, -0.66108769, -0.67710793, -1.08653831,  1.14112234,\n       -0.94671381, -0.71269953, -0.8652851 , -0.42442209,  1.14395463,\n       -0.63783514,  0.96147704, -0.16413495, -0.70280623,  0.80315131,\n        1.20225668,  0.12817821, -0.28349772,  0.68589234, -0.09717615,\n        0.81628734,  1.53125143, -1.19369173,  0.50242227, -1.15847349,\n        0.9818545 ,  0.27659142,  1.19176424,  0.07991125, -1.83316863,\n       -0.89976048, -1.59722769, -0.27061719,  0.31343752, -0.30083469,\n        0.89842063,  0.57963598, -0.94744074, -0.95366067, -0.13655907,\n        0.46213955, -0.6679706 ,  0.62422872,  0.56141466, -0.13097537,\n        0.01956537, -1.05751622,  0.51968956, -0.07890886,  1.20947444,\n       -0.58789933, -0.81878263,  0.59531176,  0.62298256,  0.7495994 ,\n       -0.81667835,  1.62904751,  0.04375005,  0.68814319, -0.36925262,\n       -0.59334838, -0.19869894,  0.98991036,  1.22889602,  1.14200795,\n       -0.70426804, -0.2856054 , -0.11534312, -0.6383571 , -1.22427166,\n        0.82118416, -0.02215097, -0.13225237, -0.22744754,  1.57212174,\n        0.13256589,  0.46695539, -0.18423265, -1.18986416,  0.93420255,\n        1.00996828,  0.45953292, -0.97285205,  0.47546718, -1.03020215,\n        1.08883417, -0.82984829,  1.05803418,  1.30428517, -0.62202585,\n       -0.00529343, -0.88325191, -0.53728676, -0.5755803 , -0.05684108,\n        1.25985861, -0.72888315, -1.69026017, -1.03438878, -0.88840872,\n        0.79060155, -0.34852397, -0.87617606,  0.37698174, -0.46631396,\n        2.11410928,  0.53163862,  0.12710422, -0.58661926, -0.84286273,\n        1.31528151, -0.83088458,  0.65335482, -0.13899335,  1.53066158,\n        0.536569  , -1.40356696,  0.53398907, -0.26875097, -0.33988059,\n        0.54201657, -1.44002008,  0.14556289, -0.60182512,  0.54853439,\n        0.09708148,  1.10940433,  1.43965316, -0.47789192,  0.40089831,\n       -0.80608988, -0.32693857, -0.1105929 ,  1.29535723,  0.41049266,\n        0.01063329, -0.34446228, -1.05878735, -1.58347881, -0.58143747,\n       -0.76464927, -0.70001388,  1.51170969, -0.29424834,  0.93532002,\n       -0.35287637,  0.27993065,  0.30815136, -0.54485774, -0.10847229,\n        1.20311975, -0.31153196,  1.02671134,  0.36769104, -0.20271938,\n        1.88670981,  0.75850147,  0.58086735, -0.08135617, -0.44888061,\n        1.58074999,  1.91800666,  0.63106549,  2.03828764,  0.56126404,\n       -1.79405296,  0.58371907, -1.11558056, -0.6446088 , -1.06816673,\n       -0.50508457,  0.02566612, -0.67187643, -0.26701397, -0.86072594,\n       -0.97560298, -1.31389976,  0.66149437, -0.48993745, -1.20014977,\n        0.12196765, -0.58620542, -0.48456311, -0.81321758,  0.62274641,\n        1.50848317, -1.28268313,  1.52154684,  0.79880971, -1.26643944,\n        0.98103648,  0.88847518,  0.20697311, -1.02980387,  1.16584468,\n       -0.22028953,  0.44172147, -0.40644187,  0.71025574, -1.43055809,\n       -0.95058388, -0.29691961,  0.19268221, -1.07990694,  0.94527137,\n        0.6155023 , -1.43051445,  0.06527972,  1.21149635, -0.16960484,\n        0.13277723, -0.50958371,  0.54537827,  0.03623605, -1.33299911,\n        0.14451736,  1.57897902, -0.96734726, -1.93146014, -0.0873768 ,\n        0.86776727,  1.3489306 , -0.29124147, -1.32667851,  1.55209124,\n       -0.29696733,  0.16613762,  0.62199491, -0.36959341, -0.4170011 ,\n        0.36323303, -0.27333876, -0.06049424,  0.92773312, -1.0047617 ,\n       -1.29254591, -0.33807135,  0.935978  , -1.0636555 ,  0.96331155], dtype=float32)"
      ]
     },
     "execution_count": 22,
     "metadata": {},
     "output_type": "execute_result"
    }
   ],
   "source": [
    "glovemodel.embeddings[glovemodel.id_for_word('k')]"
   ]
  },
  {
   "cell_type": "code",
   "execution_count": 19,
   "metadata": {},
   "outputs": [
    {
     "name": "stdout",
     "output_type": "stream",
     "text": [
      "100000\n"
     ]
    }
   ],
   "source": [
    "print(glovemodel.max_vocab_size)"
   ]
  },
  {
   "cell_type": "code",
   "execution_count": 20,
   "metadata": {},
   "outputs": [],
   "source": [
    "from keras.preprocessing import sequence\n",
    "from keras.models import Sequential\n",
    "from keras.layers import Dense, Embedding\n",
    "from keras.layers import LSTM"
   ]
  },
  {
   "cell_type": "code",
   "execution_count": 51,
   "metadata": {},
   "outputs": [],
   "source": [
    "max_features = 20000\n",
    "maxlen = 150  # cut texts after this number of words (among top max_features most common words)\n",
    "batch_size = 32"
   ]
  },
  {
   "cell_type": "code",
   "execution_count": 52,
   "metadata": {},
   "outputs": [
    {
     "name": "stdout",
     "output_type": "stream",
     "text": [
      "Pad sequences (samples x time)\n"
     ]
    },
    {
     "ename": "ValueError",
     "evalue": "invalid literal for int() with base 10: 'call'",
     "traceback": [
      "\u001b[1;31m---------------------------------------------------------------------------\u001b[0m",
      "\u001b[1;31mValueError\u001b[0m                                Traceback (most recent call last)",
      "\u001b[1;32m<ipython-input-52-447fda5c933e>\u001b[0m in \u001b[0;36m<module>\u001b[1;34m()\u001b[0m\n\u001b[0;32m      1\u001b[0m \u001b[0mprint\u001b[0m\u001b[1;33m(\u001b[0m\u001b[1;34m'Pad sequences (samples x time)'\u001b[0m\u001b[1;33m)\u001b[0m\u001b[1;33m\u001b[0m\u001b[0m\n\u001b[1;32m----> 2\u001b[1;33m \u001b[0mx_train\u001b[0m \u001b[1;33m=\u001b[0m \u001b[0msequence\u001b[0m\u001b[1;33m.\u001b[0m\u001b[0mpad_sequences\u001b[0m\u001b[1;33m(\u001b[0m\u001b[0mclean_reviews\u001b[0m\u001b[1;33m,\u001b[0m \u001b[0mmaxlen\u001b[0m\u001b[1;33m=\u001b[0m\u001b[0mmaxlen\u001b[0m\u001b[1;33m)\u001b[0m\u001b[1;33m\u001b[0m\u001b[0m\n\u001b[0m\u001b[0;32m      3\u001b[0m \u001b[0mx_test\u001b[0m \u001b[1;33m=\u001b[0m \u001b[0msequence\u001b[0m\u001b[1;33m.\u001b[0m\u001b[0mpad_sequences\u001b[0m\u001b[1;33m(\u001b[0m\u001b[0mclean_test_reviews\u001b[0m\u001b[1;33m,\u001b[0m \u001b[0mmaxlen\u001b[0m\u001b[1;33m=\u001b[0m\u001b[0mmaxlen\u001b[0m\u001b[1;33m)\u001b[0m\u001b[1;33m\u001b[0m\u001b[0m\n\u001b[0;32m      4\u001b[0m \u001b[0mprint\u001b[0m\u001b[1;33m(\u001b[0m\u001b[1;34m'x_train shape:'\u001b[0m\u001b[1;33m,\u001b[0m \u001b[0mx_train\u001b[0m\u001b[1;33m.\u001b[0m\u001b[0mshape\u001b[0m\u001b[1;33m)\u001b[0m\u001b[1;33m\u001b[0m\u001b[0m\n\u001b[0;32m      5\u001b[0m \u001b[0mprint\u001b[0m\u001b[1;33m(\u001b[0m\u001b[1;34m'x_test shape:'\u001b[0m\u001b[1;33m,\u001b[0m \u001b[0mx_test\u001b[0m\u001b[1;33m.\u001b[0m\u001b[0mshape\u001b[0m\u001b[1;33m)\u001b[0m\u001b[1;33m\u001b[0m\u001b[0m\n",
      "\u001b[1;32mC:\\Users\\Ash\\Anaconda3\\envs\\haridoesntbelieveme\\lib\\site-packages\\keras\\preprocessing\\sequence.py\u001b[0m in \u001b[0;36mpad_sequences\u001b[1;34m(sequences, maxlen, dtype, padding, truncating, value)\u001b[0m\n\u001b[0;32m     67\u001b[0m \u001b[1;33m\u001b[0m\u001b[0m\n\u001b[0;32m     68\u001b[0m         \u001b[1;31m# check `trunc` has expected shape\u001b[0m\u001b[1;33m\u001b[0m\u001b[1;33m\u001b[0m\u001b[0m\n\u001b[1;32m---> 69\u001b[1;33m         \u001b[0mtrunc\u001b[0m \u001b[1;33m=\u001b[0m \u001b[0mnp\u001b[0m\u001b[1;33m.\u001b[0m\u001b[0masarray\u001b[0m\u001b[1;33m(\u001b[0m\u001b[0mtrunc\u001b[0m\u001b[1;33m,\u001b[0m \u001b[0mdtype\u001b[0m\u001b[1;33m=\u001b[0m\u001b[0mdtype\u001b[0m\u001b[1;33m)\u001b[0m\u001b[1;33m\u001b[0m\u001b[0m\n\u001b[0m\u001b[0;32m     70\u001b[0m         \u001b[1;32mif\u001b[0m \u001b[0mtrunc\u001b[0m\u001b[1;33m.\u001b[0m\u001b[0mshape\u001b[0m\u001b[1;33m[\u001b[0m\u001b[1;36m1\u001b[0m\u001b[1;33m:\u001b[0m\u001b[1;33m]\u001b[0m \u001b[1;33m!=\u001b[0m \u001b[0msample_shape\u001b[0m\u001b[1;33m:\u001b[0m\u001b[1;33m\u001b[0m\u001b[0m\n\u001b[0;32m     71\u001b[0m             raise ValueError('Shape of sample %s of sequence at position %s is different from expected shape %s' %\n",
      "\u001b[1;32mC:\\Users\\Ash\\Anaconda3\\envs\\haridoesntbelieveme\\lib\\site-packages\\numpy\\core\\numeric.py\u001b[0m in \u001b[0;36masarray\u001b[1;34m(a, dtype, order)\u001b[0m\n\u001b[0;32m    529\u001b[0m \u001b[1;33m\u001b[0m\u001b[0m\n\u001b[0;32m    530\u001b[0m     \"\"\"\n\u001b[1;32m--> 531\u001b[1;33m     \u001b[1;32mreturn\u001b[0m \u001b[0marray\u001b[0m\u001b[1;33m(\u001b[0m\u001b[0ma\u001b[0m\u001b[1;33m,\u001b[0m \u001b[0mdtype\u001b[0m\u001b[1;33m,\u001b[0m \u001b[0mcopy\u001b[0m\u001b[1;33m=\u001b[0m\u001b[1;32mFalse\u001b[0m\u001b[1;33m,\u001b[0m \u001b[0morder\u001b[0m\u001b[1;33m=\u001b[0m\u001b[0morder\u001b[0m\u001b[1;33m)\u001b[0m\u001b[1;33m\u001b[0m\u001b[0m\n\u001b[0m\u001b[0;32m    532\u001b[0m \u001b[1;33m\u001b[0m\u001b[0m\n\u001b[0;32m    533\u001b[0m \u001b[1;33m\u001b[0m\u001b[0m\n",
      "\u001b[1;31mValueError\u001b[0m: invalid literal for int() with base 10: 'call'"
     ],
     "output_type": "error"
    }
   ],
   "source": [
    "print('Pad sequences (samples x time)')\n",
    "x_train = sequence.pad_sequences(clean_reviews, maxlen=maxlen)\n",
    "x_test = sequence.pad_sequences(clean_test_reviews, maxlen=maxlen)\n",
    "print('x_train shape:', x_train.shape)\n",
    "print('x_test shape:', x_test.shape)"
   ]
  },
  {
   "cell_type": "code",
   "execution_count": 29,
   "metadata": {},
   "outputs": [],
   "source": [
    "model = Sequential()\n",
    "model.add(Embedding(glovemodel.max_vocab_size, 300))\n",
    "model.add(LSTM(300, dropout=0.2, recurrent_dropout=0.2))\n",
    "model.add(Dense(1, activation='sigmoid'))\n",
    "\n",
    "# try using different optimizers and different optimizer configs"
   ]
  },
  {
   "cell_type": "code",
   "execution_count": 30,
   "metadata": {},
   "outputs": [],
   "source": [
    "model.compile(loss='binary_crossentropy',\n",
    "              optimizer='adam',\n",
    "              metrics=['accuracy'])"
   ]
  },
  {
   "cell_type": "code",
   "execution_count": 53,
   "metadata": {},
   "outputs": [
    {
     "name": "stdout",
     "output_type": "stream",
     "text": [
      "Train...\n"
     ]
    },
    {
     "ename": "NameError",
     "evalue": "name 'x_train' is not defined",
     "traceback": [
      "\u001b[1;31m---------------------------------------------------------------------------\u001b[0m",
      "\u001b[1;31mNameError\u001b[0m                                 Traceback (most recent call last)",
      "\u001b[1;32m<ipython-input-53-bc44fa392999>\u001b[0m in \u001b[0;36m<module>\u001b[1;34m()\u001b[0m\n\u001b[0;32m      1\u001b[0m \u001b[0mprint\u001b[0m\u001b[1;33m(\u001b[0m\u001b[1;34m'Train...'\u001b[0m\u001b[1;33m)\u001b[0m\u001b[1;33m\u001b[0m\u001b[0m\n\u001b[1;32m----> 2\u001b[1;33m model.fit(x_train, np.array(train[\"sentiment\"][0:10]),\n\u001b[0m\u001b[0;32m      3\u001b[0m           \u001b[0mbatch_size\u001b[0m\u001b[1;33m=\u001b[0m\u001b[0mbatch_size\u001b[0m\u001b[1;33m,\u001b[0m\u001b[1;33m\u001b[0m\u001b[0m\n\u001b[0;32m      4\u001b[0m           \u001b[0mepochs\u001b[0m\u001b[1;33m=\u001b[0m\u001b[1;36m15\u001b[0m\u001b[1;33m,\u001b[0m\u001b[1;33m\u001b[0m\u001b[0m\n\u001b[0;32m      5\u001b[0m           validation_data=(x_test,np.array(test_op)))\n",
      "\u001b[1;31mNameError\u001b[0m: name 'x_train' is not defined"
     ],
     "output_type": "error"
    }
   ],
   "source": [
    "print('Train...')\n",
    "model.fit(x_train, np.array(train[\"sentiment\"][0:10]),\n",
    "          batch_size=batch_size,\n",
    "          epochs=15,\n",
    "          validation_data=(x_test,np.array(test_op)))"
   ]
  },
  {
   "cell_type": "code",
   "execution_count": null,
   "metadata": {},
   "outputs": [],
   "source": [
    "score, acc = model.evaluate(x_test, y_test,\n",
    "                            batch_size=batch_size)\n",
    "print('Test score:', score)\n",
    "print('Test accuracy:', acc)"
   ]
  },
  {
   "cell_type": "code",
   "execution_count": 50,
   "metadata": {},
   "outputs": [
    {
     "name": "stdout",
     "output_type": "stream",
     "text": [
      "1\n['classic', 'war', 'world', 'timothi', 'hine', 'entertain', 'film', 'obvious', 'goe', 'great', 'effort', 'length', 'faith', 'recreat', 'h', 'g', 'well', 'classic', 'book', 'mr', 'hine', 'succe', 'watch', 'film', 'appreci', 'fact', 'standard', 'predict', 'hollywood', 'fare', 'come', 'everi', 'year', 'e', 'g', 'spielberg', 'version', 'tom', 'cruis', 'slightest', 'resembl', 'book', 'obvious', 'everyon', 'look', 'differ', 'thing', 'movi', 'envis', 'amateur', 'critic', 'look', 'critic', 'everyth', 'other', 'rate', 'movi', 'import', 'base', 'like', 'entertain', 'peopl', 'never', 'agre', 'critic', 'enjoy', 'effort', 'mr', 'hine', 'put', 'faith', 'h', 'g', 'well', 'classic', 'novel', 'found', 'entertain', 'made', 'easi', 'overlook', 'critic', 'perceiv', 'shortcom']\n"
     ]
    }
   ],
   "source": [
    "print(np.array(train[\"sentiment\"][0:10])[0])\n",
    "print((clean_reviews[1]))"
   ]
  },
  {
   "cell_type": "code",
   "execution_count": null,
   "metadata": {},
   "outputs": [],
   "source": [
    ""
   ]
  }
 ],
 "metadata": {
  "kernelspec": {
   "display_name": "Python 2",
   "language": "python",
   "name": "python2"
  },
  "language_info": {
   "codemirror_mode": {
    "name": "ipython",
    "version": 2.0
   },
   "file_extension": ".py",
   "mimetype": "text/x-python",
   "name": "python",
   "nbconvert_exporter": "python",
   "pygments_lexer": "ipython2",
   "version": "2.7.6"
  }
 },
 "nbformat": 4,
 "nbformat_minor": 0
}